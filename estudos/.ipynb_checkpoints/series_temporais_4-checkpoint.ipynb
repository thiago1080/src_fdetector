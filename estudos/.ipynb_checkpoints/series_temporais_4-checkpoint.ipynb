{
 "cells": [
  {
   "cell_type": "code",
   "execution_count": null,
   "metadata": {},
   "outputs": [],
   "source": [
    "%matplotlib inline\n",
    "\n",
    "import sys\n",
    "import os\n",
    "from os.path import join\n",
    "from pathlib import Path\n",
    "sys.path.append(join(Path(os.getcwd()).parent, 'lib'))\n",
    "import pandas as pd\n",
    "import numpy as np\n",
    "import json\n",
    "import collections\n",
    "from matplotlib import pyplot as plt\n",
    "\n",
    "from pylab import rcParams\n",
    "rcParams['figure.figsize'] = (15,7)\n",
    "from importlib import reload\n",
    "from  mainlib import fasorial, lista, sdict, mm, mm_sep\n",
    "from of_proc import *\n",
    "\n",
    "def plotar(batch):  \n",
    "    for n,c in enumerate(batch):\n",
    "        ax, s = plt.subplots()\n",
    "        title = deg(mm[c].rolling(window=100).mean())     \n",
    "        mm[c].plot(title=str(c)+'_'+str(title))\n",
    "        mm[c].rolling(window=100).mean().plot()\n",
    "\n",
    "def div_batch(x, n_batches):\n",
    "    l=[]\n",
    "    batch_size = int(len(x)/n_batches)\n",
    "    for i in range(0, n_batches*batch_size, batch_size):\n",
    "        l.append(x[i:i+batch_size])\n",
    "    l.append(x[(batch_size*n_batches-1):])\n",
    "    return l\n",
    "\n",
    "def ps(x):\n",
    "    return pd.Series(x)\n"
   ]
  },
  {
   "cell_type": "code",
   "execution_count": null,
   "metadata": {},
   "outputs": [],
   "source": [
    "def read_info(path, tem_perfil_funcionamento):\n",
    "    global PATH, OUTPUT_PATH, PROCESSED_PATH, PERFIS_PATH, HORARIOS_PATH, PATH_MM, PATH_FAS, \\\n",
    "    DEG, MOR, PER, FAS, OUTPUT_HEADER,FAS_CONCAT, MM_CONCAT, PICKLES_CONCAT, OUT_INDEX, COLS_LISTA, \\\n",
    "    OUT, DATA_DIR, LISTA_CAD_PATH, PROCESSADOS_PICKLE, ERROS_PICKLE, LOGS_DIR, ADJACENCIAS_PATH\n",
    "    with open(path) as f:\n",
    "        info = json.load(f)\n",
    "        PATH_FAS = info['paths']['fasoriais2']['input']\n",
    "        PERFIS_PATH = info['paths']['perfis']['perfis']\n",
    "        HORARIOS_PATH = info['paths']['perfis']['horarios']\n",
    "        PATH_MM = info['paths']['mm']['input']\n",
    "        DEG = info['paths']['nn_models']['degrau']\n",
    "        MOR = info['paths']['nn_models']['morro']\n",
    "        PER = info['paths']['nn_models']['perfil']\n",
    "        FAS = info['paths']['nn_models']['fasorial']\n",
    "        COLS_LISTA = info['lista2']['columns']  \n",
    "        OUTPUT_HEADER = info['output']['header']\n",
    "        OUT_INDEX = info['output']['header']\n",
    "        OUT = info['paths']['output']\n",
    "        DATA_DIR = info['paths']['base_dir']\n",
    "        LISTA_CAD_PATH = info['paths']['lista']\n",
    "        PROCESSADOS_PICKLE = info['paths']['processados']\n",
    "        ERROS_PICKLE = info['paths']['erros']\n",
    "        LOGS_DIR = info['paths']['logs']\n",
    "        if tem_perfil_funcionamento:\n",
    "            ADJACENCIAS_PATH = info['paths']['adjacencias']"
   ]
  },
  {
   "cell_type": "code",
   "execution_count": null,
   "metadata": {},
   "outputs": [],
   "source": [
    "json_file = '../../info/info-EDP-ES.json'\n",
    "tem_perfil_funcionamento = False"
   ]
  },
  {
   "cell_type": "code",
   "execution_count": null,
   "metadata": {},
   "outputs": [],
   "source": [
    "read_info(json_file, tem_perfil_funcionamento)"
   ]
  },
  {
   "cell_type": "code",
   "execution_count": null,
   "metadata": {},
   "outputs": [],
   "source": [
    "global df_mm_new\n",
    "mmm = mm(json_file)\n",
    "df_mm_new = pd.read_csv(PATH_MM,date_parser = mmm.dateparser, index_col=[0], sep=';')"
   ]
  },
  {
   "cell_type": "code",
   "execution_count": null,
   "metadata": {},
   "outputs": [],
   "source": [
    "with open(json_file,'rt') as p:\n",
    "    data = json.load(p)\n",
    "\n",
    "mm_path = data['paths']['mm']['input']\n",
    "df_mm = pd.read_csv(mm_path, sep=';', index_col = 0, parse_dates=[0])\n",
    "df_mm.fillna(value=0, inplace=True)\n",
    "l = div_batch(df_mm.columns, 60)"
   ]
  },
  {
   "cell_type": "code",
   "execution_count": null,
   "metadata": {},
   "outputs": [],
   "source": [
    "COLS_LISTA = data['lista2']['columns']\n",
    "LISTA_CAD_PATH = data['paths']['lista']\n",
    "\n",
    "try:\n",
    "    LISTAF = pd.read_csv(LISTA_CAD_PATH, names = COLS_LISTA, header=0, sep=';',engine='python')\n",
    "except:\n",
    "    LISTAF = pd.read_csv(LISTA_CAD_PATH, names = COLS_LISTA, header=0, engine='python')"
   ]
  },
  {
   "cell_type": "code",
   "execution_count": null,
   "metadata": {},
   "outputs": [],
   "source": [
    "LISTAF['instalacao'] = pd.DataFrame(LISTAF['instalacao'].apply(lambda x: '{0:0>10}'.format(x)))\n",
    "try:\n",
    "    LISTAF['medidor'] = pd.DataFrame(LISTAF['medidor'].astype(int).apply(lambda x: '{0:0>8}'.format(x)))\n",
    "except:    \n",
    "    LISTAF['medidor'] = pd.DataFrame(LISTAF['medidor'].apply(lambda x: '{0:0>8}'.format(x)))"
   ]
  },
  {
   "cell_type": "code",
   "execution_count": null,
   "metadata": {},
   "outputs": [],
   "source": [
    "faltantes = ['0000693723']"
   ]
  },
  {
   "cell_type": "code",
   "execution_count": null,
   "metadata": {},
   "outputs": [],
   "source": [
    "LISTAF = LISTAF[LISTAF['instalacao'].isin(faltantes)]"
   ]
  },
  {
   "cell_type": "code",
   "execution_count": null,
   "metadata": {},
   "outputs": [],
   "source": [
    "LISTA_CAD = get_list(json_file)\n",
    "LISTA_CAD.df =  LISTAF\n",
    "if tem_perfil_funcionamento:\n",
    "    HORARIOS, PERFIS, ATIVS = get_horario_info2(json_file)\n",
    "dim, dmi = dicts(LISTA_CAD)"
   ]
  },
  {
   "cell_type": "code",
   "execution_count": null,
   "metadata": {},
   "outputs": [],
   "source": [
    "list_columns_remove = ['cliente', 'medidor', 'data_inicio', 'data_fim', 'lote', 'ssn', 'troca']\n",
    "cols = list(LISTA_CAD.df.columns[~LISTA_CAD.df.columns.isin(list_columns_remove)==True])\n",
    "del(cols[1])\n",
    "cols_without_instal = cols.copy()\n",
    "del(cols_without_instal[0])\n",
    "troca = False\n",
    "o_i_normal = collections.OrderedDict(sorted(LISTA_CAD.mes_days(troca, cols).items()))\n",
    "troca = True\n",
    "o_i_troca = collections.OrderedDict(sorted(LISTA_CAD.mes_days(troca, cols).items()))\n",
    "o_instas =  collections.OrderedDict(sorted({**o_i_normal, **o_i_troca}.items()))"
   ]
  },
  {
   "cell_type": "code",
   "execution_count": null,
   "metadata": {},
   "outputs": [],
   "source": [
    "LISTAF"
   ]
  },
  {
   "cell_type": "code",
   "execution_count": null,
   "metadata": {},
   "outputs": [],
   "source": [
    "def integrate(y_vals, h):\n",
    "    i = 1\n",
    "    total = y_vals[0] + y_vals[-1]\n",
    "    for y in y_vals[1:-1]:\n",
    "        if i % 2 == 0:\n",
    "            total += 2 * y\n",
    "        else:\n",
    "            total += 4 * y\n",
    "        i += 1\n",
    "    return total * (h / 3.0)"
   ]
  },
  {
   "cell_type": "code",
   "execution_count": null,
   "metadata": {},
   "outputs": [],
   "source": [
    "import warnings\n",
    "warnings.filterwarnings('ignore')\n",
    "rcParams['figure.figsize'] = (15,7)\n",
    "morro = pd.DataFrame(columns=['mes', 'instalacao', 'medidor'])\n",
    "for index, row in LISTAF[['instalacao', 'medidor', 5, 6, 7, 8, 'troca']].drop_duplicates().iterrows():\n",
    "    instalacao = row['instalacao']\n",
    "    medidor = row['medidor']\n",
    "    if tem_perfil_funcionamento:\n",
    "        ramo = percats[instalacao] if instalacao in percats else 0\n",
    "    else:\n",
    "        ramo = 0\n",
    "    \n",
    "    ddays = o_instas[instalacao] if instalacao in o_instas else default_ddays_2()\n",
    "    dmm = mm(json_file, name = instalacao, ddays = ddays, ramo=ramo)\n",
    "    \n",
    "    dmm.df = pd.DataFrame(df_mm[medidor])\n",
    "    dmm.proc_mm()\n",
    "    dmm.split_months(json_file, ddays = ddays, four_weeks = True)\n",
    "    dmm.eight_weeks(json_file, ddays = ddays)\n",
    "    dmm.eight_weeks(json_file, ddays = ddays, tipo = 'morro')  \n",
    "    interval = 1\n",
    "    window = 24\n",
    "    for y in dmm.bimestres['morro']:\n",
    "        for b in dmm.bimestres['morro'][y]:\n",
    "            min_area = 999999999\n",
    "            max_area = 0\n",
    "            tem_morro = False\n",
    "            count_descida = 0\n",
    "            df_tmp = dmm.bimestres['morro'][y][b].df\n",
    "            max_i_area = len(df_tmp)\n",
    "            i = 0\n",
    "            while i < len(df_tmp):\n",
    "                area = integrate(df_tmp.iloc[i:i+window].values, interval)\n",
    "                if area < min_area:\n",
    "                    min_area = area\n",
    "                if area > max_area:\n",
    "                    max_i_area = i\n",
    "                    max_area = area\n",
    "                i = i + window  \n",
    "            i = max_i_area + 1   \n",
    "            max_count_descida = 0\n",
    "            while i < len(df_tmp):       \n",
    "                area = integrate(df_tmp.iloc[i:i+window].values, interval)\n",
    "                if (max_area >= min_area * 3) and (3*area <= max_area):\n",
    "                    count_descida = count_descida + 1\n",
    "                    if count_descida > max_count_descida:\n",
    "                        max_count_descida = count_descida\n",
    "                    #print('mes', b)    \n",
    "                    #print('i', i)\n",
    "                    #print('i + window', i+window)\n",
    "                    #print(\"min area\", min_area)\n",
    "                    #print(\"max area\", max_area)\n",
    "                    #print('area', area)\n",
    "                else:\n",
    "                    count_descida = 0\n",
    "                i = i + window    \n",
    "            if count_descida >= 2:\n",
    "                print(count_descida)\n",
    "                tem_morro = True\n",
    "            print(b, tem_morro)\n",
    "            df_tmp.plot()"
   ]
  },
  {
   "cell_type": "code",
   "execution_count": null,
   "metadata": {},
   "outputs": [],
   "source": [
    "import warnings\n",
    "warnings.filterwarnings('ignore')\n",
    "\n",
    "morro_acima_points = 48\n",
    "morro_abaixo_points = 10\n",
    "morro = pd.DataFrame(columns=['mes', 'instalacao', 'medidor'])\n",
    "for index, row in LISTAF[['instalacao', 'medidor', 5, 6, 7, 8, 'troca']].drop_duplicates().iterrows():\n",
    "    instalacao = row['instalacao']\n",
    "    medidor = row['medidor']\n",
    "    if tem_perfil_funcionamento:\n",
    "        ramo = percats[instalacao] if instalacao in percats else 0\n",
    "    else:\n",
    "        ramo = 0\n",
    "    \n",
    "    ddays = o_instas[instalacao] if instalacao in o_instas else default_ddays_2()\n",
    "    dmm = mm(json_file, name = instalacao, ddays = ddays, ramo=ramo)\n",
    "    \n",
    "    dmm.df = pd.DataFrame(df_mm[medidor])\n",
    "    dmm.proc_mm()\n",
    "    dmm.split_months(json_file, ddays = ddays, four_weeks = True)\n",
    "    dmm.eight_weeks(json_file, ddays = ddays)\n",
    "    dmm.eight_weeks(json_file, ddays = ddays, tipo = 'morro')    \n",
    "    for y in dmm.bimestres['morro']:\n",
    "        for b in dmm.bimestres['morro'][y]:\n",
    "            df_tmp = dmm.bimestres['morro'][y][b].df\n",
    "            df_tmp['media_movel'] = df_tmp.iloc[:,0].rolling(window=10).mean().astype(np.float16)\n",
    "            acima_media_movel = df_tmp[df_tmp.iloc[:,0] > df_tmp['media_movel']]\n",
    "            print('mes', b, 'acima', len(acima_media_movel))\n",
    "            if len(acima_media_movel) > 0:\n",
    "                max_date_media_movel = acima_media_movel.index.max()\n",
    "                abaixo_media_movel = df_tmp[(df_tmp.iloc[:,0] < df_tmp['media_movel']) & (df_tmp.index > max_date_media_movel)]\n",
    "                print('mes', b, 'abaixo', len(abaixo_media_movel))\n",
    "                if len(abaixo_media_movel) >= morro_abaixo_points and len(acima_media_movel) >= morro_acima_points:\n",
    "                    print(b, instalacao, medidor)\n",
    "    "
   ]
  },
  {
   "cell_type": "code",
   "execution_count": null,
   "metadata": {},
   "outputs": [],
   "source": [
    "dmm.bimestres['morro'][2019][7].df"
   ]
  },
  {
   "cell_type": "code",
   "execution_count": null,
   "metadata": {},
   "outputs": [],
   "source": [
    "LISTAF = LISTAF[LISTAF['instalacao'].isin(faltantes)].sort_values(by=['medidor'], ascending=False).head(1)"
   ]
  },
  {
   "cell_type": "code",
   "execution_count": null,
   "metadata": {},
   "outputs": [],
   "source": [
    "df = pd.DataFrame(mm[LISTAF['medidor']])"
   ]
  },
  {
   "cell_type": "code",
   "execution_count": null,
   "metadata": {},
   "outputs": [],
   "source": [
    "df.index.name = 'time'\n",
    "df.columns = ['mm']"
   ]
  },
  {
   "cell_type": "code",
   "execution_count": null,
   "metadata": {},
   "outputs": [],
   "source": [
    "df['media_movel'] = df['mm'].rolling(window=10).mean()"
   ]
  },
  {
   "cell_type": "code",
   "execution_count": null,
   "metadata": {},
   "outputs": [],
   "source": [
    "acima_media_movel = df[df['mm'] > df['media_movel']]"
   ]
  },
  {
   "cell_type": "code",
   "execution_count": null,
   "metadata": {},
   "outputs": [],
   "source": [
    "max_date_media_movel = acima_media_movel.idxmax()['mm']"
   ]
  },
  {
   "cell_type": "code",
   "execution_count": null,
   "metadata": {},
   "outputs": [],
   "source": [
    "abaixo_media_movel = df[(df['mm'] < df['media_movel']) & (df.index > max_date_media_movel)]"
   ]
  },
  {
   "cell_type": "code",
   "execution_count": null,
   "metadata": {},
   "outputs": [],
   "source": [
    "threshold_count = 48\n",
    "if len(abaixo_media_movel) > threshold_count and len(acima_media_movel > threshold_count)\n",
    "    "
   ]
  },
  {
   "cell_type": "code",
   "execution_count": null,
   "metadata": {},
   "outputs": [],
   "source": [
    "\n",
    "import numpy as np\n",
    "\n",
    "import seaborn as sns\n",
    "import matplotlib.pyplot as plt\n",
    "\n",
    "from statsmodels.tsa.seasonal import seasonal_decompose\n",
    "from pandas import read_csv\n",
    "from pandas import datetime\n",
    "\n",
    "df.plot()\n",
    "\n",
    "stl = seasonal_decompose(df, freq=24*4, model='additive')\n",
    "fig = stl.plot()\n",
    "fig.set_size_inches(15, 7)\n",
    "\n",
    "\n",
    "df_resid = stl.resid\n",
    "df_seasonal = stl.seasonal\n",
    "df_trend = stl.trend"
   ]
  },
  {
   "cell_type": "code",
   "execution_count": null,
   "metadata": {},
   "outputs": [],
   "source": [
    "df_resid = pd.DataFrame(df_resid, columns = ['mm'])"
   ]
  },
  {
   "cell_type": "code",
   "execution_count": null,
   "metadata": {},
   "outputs": [],
   "source": [
    "pd.DataFrame(df_resid, columns = ['mm'])"
   ]
  },
  {
   "cell_type": "code",
   "execution_count": null,
   "metadata": {},
   "outputs": [],
   "source": [
    "df_resid.notna()"
   ]
  },
  {
   "cell_type": "code",
   "execution_count": null,
   "metadata": {},
   "outputs": [],
   "source": [
    "mean = np.mean(df_resid['mm'])"
   ]
  },
  {
   "cell_type": "code",
   "execution_count": null,
   "metadata": {},
   "outputs": [],
   "source": [
    "mean"
   ]
  },
  {
   "cell_type": "code",
   "execution_count": null,
   "metadata": {},
   "outputs": [],
   "source": [
    "std = np.std(df_resid, ddof=1)"
   ]
  },
  {
   "cell_type": "code",
   "execution_count": null,
   "metadata": {},
   "outputs": [],
   "source": [
    "df_resid"
   ]
  },
  {
   "cell_type": "code",
   "execution_count": null,
   "metadata": {},
   "outputs": [],
   "source": [
    "mean = np.mean(df_resid['mm'])\n",
    "std = np.std(df_resid['mm'], ddof=1)\n",
    "df_resid['STD'] = (df_resid- mean) / std\n",
    "\n",
    "df_resid['outlier'] = np.where(((df_resid['STD']>3) | (df_resid['STD']<-3)), df, 0)\n",
    "df_anom = df_resid[(df_resid['outlier'] != 0)]\n",
    "\n",
    "\n",
    "# Calculo share de anomalias\n",
    "base_count = df.shape[0] # count() nao retorna os NAN\n",
    "anom_count = df_anom.shape[0]\n",
    "anom_share = anom_count / base_count\n",
    "print(\"{0:.2f}%\".format(float(anom_share) * 100)) # share de anomalias\n",
    "\n",
    "fig, ax = plt.subplots()\n",
    "df.plot(color = 'red', linestyle='dashed', linewidth = 0.5, x=ax)\n",
    "df_anom['outlier'].plot(style='bo', ax=ax)\n",
    "\n",
    "plt.xlabel('Time')\n",
    "plt.ylabel('mm')\n",
    "plt.title('Count vs Time | '+ str(\"{0:.2f}%\".format(float(anom_share) * 100)) + ' de Anomalias')\n",
    "plt.subplots_adjust(bottom=0.2)\n",
    "\n",
    "fig = plt.gcf()\n",
    "fig.set_size_inches(20, 10)"
   ]
  },
  {
   "cell_type": "code",
   "execution_count": null,
   "metadata": {},
   "outputs": [],
   "source": [
    "residual[residual > 5]"
   ]
  },
  {
   "cell_type": "markdown",
   "metadata": {},
   "source": [
    "------"
   ]
  },
  {
   "cell_type": "code",
   "execution_count": null,
   "metadata": {},
   "outputs": [],
   "source": [
    "df['2019-06-05 00:00:00':'2019-06-05 23:59:59']"
   ]
  },
  {
   "cell_type": "code",
   "execution_count": null,
   "metadata": {},
   "outputs": [],
   "source": []
  },
  {
   "cell_type": "code",
   "execution_count": null,
   "metadata": {},
   "outputs": [],
   "source": [
    "def aglut(*args):\n",
    "    lo = args[0].copy()\n",
    "    for l in args[1:]:\n",
    "        lo.extend(l)\n",
    "    return lo"
   ]
  },
  {
   "cell_type": "code",
   "execution_count": null,
   "metadata": {},
   "outputs": [],
   "source": [
    "def deg(x,o='left'):\n",
    "    h1 = x[int(len(x)/2):].mean()\n",
    "    h2 = x[:int(len(x)/2)].mean()\n",
    "    if h1 > h2 * factor:\n",
    "        a = 1 \n",
    "    elif h1 < h2 / factor:\n",
    "        a = -1        \n",
    "    else:\n",
    "        a=0\n",
    "    if len(x)>=limite:  \n",
    "        if o == 'right':\n",
    "            return aglut([a], deg(x[int(len(x)/2):], o = 'right'))\n",
    "        else:\n",
    "            return aglut(deg(x[:int(len(x)/2)]), [a])    \n",
    "    else:\n",
    "        return [a]"
   ]
  },
  {
   "cell_type": "code",
   "execution_count": null,
   "metadata": {},
   "outputs": [],
   "source": [
    "def plotar2(mm, n):  \n",
    "    for i in range(n):\n",
    "        cols = mm.columns        \n",
    "        v = int(np.random.sample() * len(cols) )\n",
    "        s0 = mm[cols[v]]\n",
    "        s1 = mm[cols[v]].clip(0,mm[cols[v]].quantile(0.99))\n",
    "        s2=s1.rolling(window=500).mean().dropna()\n",
    "        title = (aglut(deg(s1.rolling(window=500).mean().dropna()), deg(s1.rolling(window=500).mean().dropna(), o = 'right')))\n",
    "        if cv(title):\n",
    "            ax, s = plt.subplots()\n",
    "            s0.plot()\n",
    "            s1.plot()\n",
    "            s2.plot(title=str(title))        "
   ]
  },
  {
   "cell_type": "code",
   "execution_count": null,
   "metadata": {},
   "outputs": [],
   "source": [
    "def cv(x):\n",
    "    se0, se1, se2 = False, False, False\n",
    "    for i in x:\n",
    "        if se2:\n",
    "            return 1\n",
    "        if i == 0:            \n",
    "            se0 = True\n",
    "            if se1:\n",
    "                se2 = True   \n",
    "        elif i == -1 and se0:\n",
    "            se1 = True   \n",
    "        elif i == 1:\n",
    "            return 0\n",
    "    return 0"
   ]
  },
  {
   "cell_type": "code",
   "execution_count": null,
   "metadata": {},
   "outputs": [],
   "source": [
    "def cv2(x):\n",
    "    se0, se1, se2 = False, False, False\n",
    "    for i in x:\n",
    "        if se2:\n",
    "            return 1\n",
    "        if i == 0:            \n",
    "            se0 = True \n",
    "        elif i == -1 and se1:\n",
    "            se2 = True\n",
    "        elif i == 1 and se0:\n",
    "            se1 = True   \n",
    "    return 0"
   ]
  },
  {
   "cell_type": "code",
   "execution_count": null,
   "metadata": {},
   "outputs": [],
   "source": [
    "factor=1.3\n",
    "limite=int(mm.shape[0]/512)\n",
    "plotar2(mm, 50)"
   ]
  },
  {
   "cell_type": "code",
   "execution_count": null,
   "metadata": {},
   "outputs": [],
   "source": []
  },
  {
   "cell_type": "code",
   "execution_count": null,
   "metadata": {},
   "outputs": [],
   "source": []
  },
  {
   "cell_type": "code",
   "execution_count": null,
   "metadata": {},
   "outputs": [],
   "source": []
  }
 ],
 "metadata": {
  "kernelspec": {
   "display_name": "Python [conda env:tensorflow_p36]",
   "language": "python",
   "name": "conda-env-tensorflow_p36-py"
  },
  "language_info": {
   "codemirror_mode": {
    "name": "ipython",
    "version": 3
   },
   "file_extension": ".py",
   "mimetype": "text/x-python",
   "name": "python",
   "nbconvert_exporter": "python",
   "pygments_lexer": "ipython3",
   "version": "3.6.5"
  }
 },
 "nbformat": 4,
 "nbformat_minor": 2
}
