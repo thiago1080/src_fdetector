{
 "cells": [
  {
   "cell_type": "raw",
   "metadata": {},
   "source": [
    "código fornecido por Welson by email\n",
    "nome original -> Untitled.ipynb"
   ]
  },
  {
   "cell_type": "code",
   "execution_count": 105,
   "metadata": {
    "ExecuteTime": {
     "end_time": "2019-06-25T14:36:17.575479Z",
     "start_time": "2019-06-25T14:36:16.918466Z"
    }
   },
   "outputs": [],
   "source": [
    "#Função que retorna TRUE ou FALSE para contabilizar (ou não) potências negativas\n",
    "\n",
    "def prop(v1, v2):\n",
    "    p = 100\n",
    "    if (v1 == v2):\n",
    "        p = 0\n",
    "    if (v1 > v2) and (v1 != 0):\n",
    "        p = abs(100-((100*v2)/v1))\n",
    "    if (v2 > v1) and (v2 != 0):\n",
    "        p = abs(100-((100*v1)/v2))\n",
    "    return p\n",
    "\n",
    "def potNegativa(customerType, nElem, vA, vB, vC, avA, avB, avC, iA, iB, iC, aiA, aiB, aiC, fpA, fpB, fpC, pA, pB, pC):\n",
    "    #customerType pode existir em apenas dois valores\n",
    "    #  \"BT\" - para qualquer medição em baixa-tensão\n",
    "    #  \"MT\" - para qualquer medição em média-tensão\n",
    "    #nElem é o numero de elementos de medição (em geral, MT pode ser 3 ou 2, BT (BTI/BT200A) normalmente é 3)\n",
    "    \n",
    "    result = False\n",
    "    if (customerType == \"MT\"):\n",
    "        #considera as potências no secundário\n",
    "        maxPotNegMT = -8 #Watts\n",
    "        minFPPotNeg = abs(-0.2)\n",
    "        if ((pA <= maxPotNegMT and abs(fpA) > minFPPotNeg) or (pB <= maxPotNegMT and abs(fpB) > minFPPotNeg)) or ((nElem == 3 and (pC <= maxPotNegMT and abs(fpC) > minFPPotNeg)) or (nElem == 2 and (pC <= maxPotNegMT and abs(fpC) > minFPPotNeg) and (aiC < 30 or aiC > 210))):\n",
    "            result = True\n",
    "    if (customerType == \"BT\"):\n",
    "        maxPotNegMT = -20 #Watts\n",
    "        minFPPotNeg = -0.4\n",
    "        maxPropCorr = 50\n",
    "        maxAmpere = 0.99\n",
    "        if (pA <= maxPotNegMT or pB <= maxPotNegMT or pC <= maxPotNegMT):\n",
    "            #qualquer das tres potencias negativas em principio é para contabilizar\n",
    "            #só será desarmado se tratar-se de Kirchoff para cargas equilibradas com banco de capacitor e carga não trifasica pequena\n",
    "            result = True\n",
    "\n",
    "            if (pA != 0):\n",
    "                spA = pA/abs(pA)\n",
    "            else:\n",
    "                spA = +1\n",
    "            if (pB != 0):\n",
    "                spB = pB/abs(pB)\n",
    "            else:\n",
    "                spB = +1\n",
    "            if (pC != 0):\n",
    "                spC = pC/abs(pC)\n",
    "            else:\n",
    "                spC = +1\n",
    "            if (fpA != 0):\n",
    "                sfpA = (fpA/abs(fpA)) * spA\n",
    "            else:\n",
    "                sfpA = +1\n",
    "            if (fpB != 0):\n",
    "                sfpB = (fpB/abs(fpB)) * spB\n",
    "            else:\n",
    "                sfpB = +1\n",
    "            if (fpC != 0):\n",
    "                sfpC = (fpC/abs(fpC)) * spC\n",
    "            else:\n",
    "                sfpC = +1\n",
    "            if (sfpA == -1 and sfpB == -1 and sfpC == -1):\n",
    "                #três fatores de potencia sao capacitivos e pequenos\n",
    "                if ((abs(fpA)*sfpA) > minFPPotNeg and (abs(fpB)*sfpB) > minFPPotNeg and (abs(fpC)*sfpC) > minFPPotNeg):\n",
    "                    #quantas fases negativas (só pode haver 1)\n",
    "                    fasesNeg = 0\n",
    "                    if (spA < 0): \n",
    "                        fasesNeg += 1\n",
    "                    if (spB < 0): \n",
    "                        fasesNeg += 1\n",
    "                    if (spC < 0): \n",
    "                        fasesNeg += 1\n",
    "                    if (fasesNeg == 1):\n",
    "                        #tres correntes precisam estar relativamente equilibradas\n",
    "                        propiAB = prop(iA, iB)\n",
    "                        propiAC = prop(iA, iC)\n",
    "                        propiBC = prop(iB, iC)\n",
    "                        if (iA <= maxAmpere and iB <= maxAmpere and iC <= maxAmpere and propiAB < maxPropCorr and propiAC < maxPropCorr and propiBC < maxPropCorr):\n",
    "                            result = False\n",
    "\n",
    "    #retorna o resultado\n",
    "    return result\n"
   ]
  },
  {
   "cell_type": "code",
   "execution_count": 106,
   "metadata": {
    "ExecuteTime": {
     "end_time": "2019-06-25T14:36:18.943139Z",
     "start_time": "2019-06-25T14:36:18.928075Z"
    }
   },
   "outputs": [
    {
     "name": "stdout",
     "output_type": "stream",
     "text": [
      "False\n"
     ]
    }
   ],
   "source": [
    "#MT\n",
    "res =  potNegativa(\"MT\", 3, 117, 118, 117, 0, 120, 240, 0.01, 0.02, 0.01, 92, 210, 330, 0.2, -0.001, -0.001, -12, 1, 0)\n",
    "print (res)"
   ]
  },
  {
   "cell_type": "code",
   "execution_count": 107,
   "metadata": {
    "ExecuteTime": {
     "end_time": "2019-06-25T14:36:19.525105Z",
     "start_time": "2019-06-25T14:36:19.343230Z"
    }
   },
   "outputs": [
    {
     "name": "stdout",
     "output_type": "stream",
     "text": [
      "False\n"
     ]
    }
   ],
   "source": [
    "#BT\n",
    "res =  potNegativa(\"BT\", 3, 117, 118, 117, 0, 120, 240, 0.76, 0.44, 0.46, 92, 210, 330, 0.1, -0.1, -0.1, -12, 1, 1)\n",
    "print (res)"
   ]
  },
  {
   "cell_type": "code",
   "execution_count": 108,
   "metadata": {
    "ExecuteTime": {
     "end_time": "2019-06-25T14:36:20.157198Z",
     "start_time": "2019-06-25T14:36:19.750349Z"
    }
   },
   "outputs": [],
   "source": [
    "#teste BT BTI411387957\n",
    "import numpy as np\n",
    "import pandas as pd\n",
    "\n",
    "file = 'fasor_08432289_20190625_110427.csv'\n",
    "grid=pd.read_csv(file,delimiter=';').astype('object')"
   ]
  },
  {
   "cell_type": "code",
   "execution_count": 109,
   "metadata": {
    "ExecuteTime": {
     "end_time": "2019-06-25T14:36:21.741951Z",
     "start_time": "2019-06-25T14:36:21.671929Z"
    }
   },
   "outputs": [
    {
     "data": {
      "text/html": [
       "<div>\n",
       "<style>\n",
       "    .dataframe thead tr:only-child th {\n",
       "        text-align: right;\n",
       "    }\n",
       "\n",
       "    .dataframe thead th {\n",
       "        text-align: left;\n",
       "    }\n",
       "\n",
       "    .dataframe tbody tr th {\n",
       "        vertical-align: top;\n",
       "    }\n",
       "</style>\n",
       "<table border=\"1\" class=\"dataframe\">\n",
       "  <thead>\n",
       "    <tr style=\"text-align: right;\">\n",
       "      <th></th>\n",
       "      <th>Data</th>\n",
       "      <th>Dia</th>\n",
       "      <th>vA</th>\n",
       "      <th>vB</th>\n",
       "      <th>vC</th>\n",
       "      <th>avA</th>\n",
       "      <th>avB</th>\n",
       "      <th>avC</th>\n",
       "      <th>iA</th>\n",
       "      <th>iB</th>\n",
       "      <th>...</th>\n",
       "      <th>AC</th>\n",
       "      <th>Distorcao Harmonica (%)</th>\n",
       "      <th>Frequencia (Hz)</th>\n",
       "      <th>Sequencia</th>\n",
       "      <th>1</th>\n",
       "      <th>2</th>\n",
       "      <th>3</th>\n",
       "      <th>1.1</th>\n",
       "      <th>2.1</th>\n",
       "      <th>3.1</th>\n",
       "    </tr>\n",
       "  </thead>\n",
       "  <tbody>\n",
       "    <tr>\n",
       "      <th>0</th>\n",
       "      <td>01/12/2018 00:00</td>\n",
       "      <td>Sabado</td>\n",
       "      <td>135</td>\n",
       "      <td>132</td>\n",
       "      <td>131</td>\n",
       "      <td>0</td>\n",
       "      <td>120</td>\n",
       "      <td>240</td>\n",
       "      <td>0.48</td>\n",
       "      <td>0.46</td>\n",
       "      <td>...</td>\n",
       "      <td>230</td>\n",
       "      <td>0</td>\n",
       "      <td>60</td>\n",
       "      <td>132</td>\n",
       "      <td>44</td>\n",
       "      <td>0</td>\n",
       "      <td>251</td>\n",
       "      <td>12.383.964.0000</td>\n",
       "      <td>547</td>\n",
       "      <td>27.101.060.0000</td>\n",
       "    </tr>\n",
       "    <tr>\n",
       "      <th>1</th>\n",
       "      <td>01/12/2018 00:15</td>\n",
       "      <td>Sabado</td>\n",
       "      <td>133</td>\n",
       "      <td>132</td>\n",
       "      <td>132</td>\n",
       "      <td>0</td>\n",
       "      <td>120</td>\n",
       "      <td>240</td>\n",
       "      <td>0.47</td>\n",
       "      <td>0.46</td>\n",
       "      <td>...</td>\n",
       "      <td>229</td>\n",
       "      <td>0</td>\n",
       "      <td>60</td>\n",
       "      <td>132</td>\n",
       "      <td>44</td>\n",
       "      <td>0</td>\n",
       "      <td>250</td>\n",
       "      <td>12.384.008.0000</td>\n",
       "      <td>547</td>\n",
       "      <td>27.101.312.0000</td>\n",
       "    </tr>\n",
       "    <tr>\n",
       "      <th>2</th>\n",
       "      <td>01/12/2018 00:30</td>\n",
       "      <td>Sabado</td>\n",
       "      <td>134</td>\n",
       "      <td>131</td>\n",
       "      <td>132</td>\n",
       "      <td>0</td>\n",
       "      <td>120</td>\n",
       "      <td>240</td>\n",
       "      <td>0.47</td>\n",
       "      <td>0.46</td>\n",
       "      <td>...</td>\n",
       "      <td>230</td>\n",
       "      <td>0</td>\n",
       "      <td>60</td>\n",
       "      <td>132</td>\n",
       "      <td>43</td>\n",
       "      <td>0</td>\n",
       "      <td>250</td>\n",
       "      <td>12.384.051.0000</td>\n",
       "      <td>547</td>\n",
       "      <td>27.101.560.0000</td>\n",
       "    </tr>\n",
       "    <tr>\n",
       "      <th>3</th>\n",
       "      <td>01/12/2018 00:45</td>\n",
       "      <td>Sabado</td>\n",
       "      <td>132</td>\n",
       "      <td>133</td>\n",
       "      <td>132</td>\n",
       "      <td>0</td>\n",
       "      <td>120</td>\n",
       "      <td>240</td>\n",
       "      <td>0.46</td>\n",
       "      <td>0.44</td>\n",
       "      <td>...</td>\n",
       "      <td>228</td>\n",
       "      <td>0</td>\n",
       "      <td>60</td>\n",
       "      <td>132</td>\n",
       "      <td>46</td>\n",
       "      <td>0</td>\n",
       "      <td>246</td>\n",
       "      <td>12.384.097.0000</td>\n",
       "      <td>547</td>\n",
       "      <td>27.101.808.0000</td>\n",
       "    </tr>\n",
       "    <tr>\n",
       "      <th>4</th>\n",
       "      <td>01/12/2018 01:00</td>\n",
       "      <td>Sabado</td>\n",
       "      <td>133</td>\n",
       "      <td>132</td>\n",
       "      <td>133</td>\n",
       "      <td>0</td>\n",
       "      <td>120</td>\n",
       "      <td>240</td>\n",
       "      <td>0.47</td>\n",
       "      <td>0.42</td>\n",
       "      <td>...</td>\n",
       "      <td>230</td>\n",
       "      <td>0</td>\n",
       "      <td>60</td>\n",
       "      <td>132</td>\n",
       "      <td>43</td>\n",
       "      <td>0</td>\n",
       "      <td>249</td>\n",
       "      <td>12.384.140.0000</td>\n",
       "      <td>547</td>\n",
       "      <td>27.102.056.0000</td>\n",
       "    </tr>\n",
       "  </tbody>\n",
       "</table>\n",
       "<p>5 rows × 32 columns</p>\n",
       "</div>"
      ],
      "text/plain": [
       "               Data     Dia   vA   vB   vC avA  avB  avC    iA    iB  \\\n",
       "0  01/12/2018 00:00  Sabado  135  132  131   0  120  240  0.48  0.46   \n",
       "1  01/12/2018 00:15  Sabado  133  132  132   0  120  240  0.47  0.46   \n",
       "2  01/12/2018 00:30  Sabado  134  131  132   0  120  240  0.47  0.46   \n",
       "3  01/12/2018 00:45  Sabado  132  133  132   0  120  240  0.46  0.44   \n",
       "4  01/12/2018 01:00  Sabado  133  132  133   0  120  240  0.47  0.42   \n",
       "\n",
       "        ...          AC Distorcao Harmonica (%) Frequencia (Hz) Sequencia   1  \\\n",
       "0       ...         230                       0              60       132  44   \n",
       "1       ...         229                       0              60       132  44   \n",
       "2       ...         230                       0              60       132  43   \n",
       "3       ...         228                       0              60       132  46   \n",
       "4       ...         230                       0              60       132  43   \n",
       "\n",
       "   2    3              1.1  2.1              3.1  \n",
       "0  0  251  12.383.964.0000  547  27.101.060.0000  \n",
       "1  0  250  12.384.008.0000  547  27.101.312.0000  \n",
       "2  0  250  12.384.051.0000  547  27.101.560.0000  \n",
       "3  0  246  12.384.097.0000  547  27.101.808.0000  \n",
       "4  0  249  12.384.140.0000  547  27.102.056.0000  \n",
       "\n",
       "[5 rows x 32 columns]"
      ]
     },
     "execution_count": 109,
     "metadata": {},
     "output_type": "execute_result"
    }
   ],
   "source": [
    "grid.head()"
   ]
  },
  {
   "cell_type": "code",
   "execution_count": 110,
   "metadata": {
    "ExecuteTime": {
     "end_time": "2019-06-25T14:36:31.168529Z",
     "start_time": "2019-06-25T14:36:29.239222Z"
    }
   },
   "outputs": [],
   "source": [
    "for index, row in grid.iterrows():\n",
    "    data = row['Data']\n",
    "    vA = float(row['vA'])\n",
    "    vB = float(row['vB'])\n",
    "    vC = float(row['vC'])\n",
    "    avA = float(row['avA'])\n",
    "    avB = float(row['avB'])\n",
    "    avC = float(row['avC'])\n",
    "    iA = float(row['iA'])\n",
    "    iB = float(row['iB'])\n",
    "    iC = float(row['iC'])\n",
    "    aiA = float(row['aiA'])\n",
    "    aiB = float(row['aiB'])\n",
    "    aiC = float(row['aiC'])\n",
    "    pA = float(row['pA'])\n",
    "    pB = float(row['pB'])\n",
    "    pC = float(row['pC'])\n",
    "    fpA = float(row['fpA'])\n",
    "    fpB = float(row['fpB'])\n",
    "    fpC =  float(row['fpC'])\n",
    "\n",
    "    res = potNegativa(\"BT\", 3, vA, vB, vC, avA, avB, avC, iA, iB, iC, aiA, aiB, aiC, fpA, fpB, fpC, pA, pB, pC)\n",
    "    if (res):\n",
    "        print (data)\n"
   ]
  },
  {
   "cell_type": "code",
   "execution_count": null,
   "metadata": {
    "collapsed": true
   },
   "outputs": [],
   "source": []
  }
 ],
 "metadata": {
  "kernelspec": {
   "display_name": "Python 3",
   "language": "python",
   "name": "python3"
  },
  "language_info": {
   "codemirror_mode": {
    "name": "ipython",
    "version": 3
   },
   "file_extension": ".py",
   "mimetype": "text/x-python",
   "name": "python",
   "nbconvert_exporter": "python",
   "pygments_lexer": "ipython3",
   "version": "3.6.5"
  }
 },
 "nbformat": 4,
 "nbformat_minor": 2
}
