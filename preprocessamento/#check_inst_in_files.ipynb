{
 "cells": [
  {
   "cell_type": "markdown",
   "metadata": {},
   "source": [
    "#### Esse notebook visa fazer algumas checagens em relação às instalações e seus respectivos arquivos .csv"
   ]
  },
  {
   "cell_type": "code",
   "execution_count": 1,
   "metadata": {},
   "outputs": [],
   "source": [
    "import os\n",
    "import os.path\n",
    "import pandas as pd\n",
    "import numpy as np\n",
    "import json\n",
    "from os.path import join"
   ]
  },
  {
   "cell_type": "code",
   "execution_count": 2,
   "metadata": {},
   "outputs": [],
   "source": [
    "def not_found_installation_in_files(installation_list, fas_folder):\n",
    "    not_found = []\n",
    "    for f in range(0,len(installation_list)):\n",
    "        filename = installation_list[f] + '.csv'\n",
    "        if os.path.exists(fas_folder+filename) == False:\n",
    "            not_found.append(filename)\n",
    "    return not_found       "
   ]
  },
  {
   "cell_type": "code",
   "execution_count": 3,
   "metadata": {},
   "outputs": [],
   "source": [
    "def read_info(path = '../../info/info.json'):\n",
    "    global PATH, OUTPUT_PATH, PROCESSED_PATH, PERFIS_PATH, HORARIOS_PATH, PATH_MM, PATH_FAS, \\\n",
    "    DEG, MOR, PER, FAS, OUTPUT_HEADER,FAS_CONCAT, MM_CONCAT, PICKLES_CONCAT, OUT_INDEX, COLS_LISTA\n",
    "    with open(path) as f:\n",
    "        info = json.load(f)\n",
    "        PATH_FAS = info['paths']['fasoriais2']['input']\n",
    "        PERFIS_PATH = info['paths']['perfis']['perfis']\n",
    "        HORARIOS_PATH = info['paths']['perfis']['horarios']\n",
    "        PATH_MM = info['paths']['mm']['input']\n",
    "        DEG = info['paths']['nn_models']['degrau']\n",
    "        MOR = info['paths']['nn_models']['morro']\n",
    "        PER = info['paths']['nn_models']['perfil']\n",
    "        FAS = info['paths']['nn_models']['fasorial']\n",
    "        COLS_LISTA = info['lista2']['columns']  \n",
    "        OUTPUT_HEADER = info['output']['header']\n",
    "        OUT_INDEX = info['output']['header']\n",
    "read_info()\n"
   ]
  },
  {
   "cell_type": "code",
   "execution_count": 4,
   "metadata": {},
   "outputs": [],
   "source": [
    "fas_dir = '/home/ubuntu/data/data/EDP-ES/fas-sep/'\n",
    "output_dir = '/home/ubuntu/data/code/ref_fdetector/outputs/all/EDP-ES/'\n",
    "output_file = 'new.csv'"
   ]
  },
  {
   "cell_type": "markdown",
   "metadata": {},
   "source": [
    "#### Verifica o número de arquivos existentes numa pasta"
   ]
  },
  {
   "cell_type": "code",
   "execution_count": 5,
   "metadata": {},
   "outputs": [
    {
     "name": "stdout",
     "output_type": "stream",
     "text": [
      "956\n"
     ]
    }
   ],
   "source": [
    "list_files = os.listdir(fas_dir) \n",
    "number_files = len(list_files)\n",
    "print (number_files)"
   ]
  },
  {
   "cell_type": "markdown",
   "metadata": {},
   "source": [
    "#### Verificar se os arquivos .csv que estão num determinado folder foram todos processados"
   ]
  },
  {
   "cell_type": "code",
   "execution_count": 6,
   "metadata": {},
   "outputs": [],
   "source": [
    "inst_df = pd.read_csv(output_dir+output_file)"
   ]
  },
  {
   "cell_type": "code",
   "execution_count": 7,
   "metadata": {},
   "outputs": [],
   "source": [
    "LISTAF = pd.read_csv('/home/ubuntu/data/data/EDP-ES/lista-edp-pnt-201909.csv', names = COLS_LISTA, header=0, sep=';',engine='python')\n",
    "\n",
    "#LISTAN = pd.read_csv('/home/ubuntu/data/data/maio_2019/setembro/lista-cad-pnt-20190820.csv',names = COLS_LISTA, header=0)\n",
    "#LISTAT = pd.concat((LISTAF, LISTAN), axis=0)"
   ]
  },
  {
   "cell_type": "code",
   "execution_count": 8,
   "metadata": {},
   "outputs": [],
   "source": [
    "LISTAF['instalacao'] = pd.DataFrame(LISTAF['instalacao'].astype(int).apply(lambda x: '{0:0>10}'.format(x)))"
   ]
  },
  {
   "cell_type": "code",
   "execution_count": 9,
   "metadata": {},
   "outputs": [],
   "source": [
    "lista_cadastro = LISTAF['instalacao'].unique().tolist()"
   ]
  },
  {
   "cell_type": "code",
   "execution_count": 23,
   "metadata": {},
   "outputs": [
    {
     "data": {
      "text/plain": [
       "1002"
      ]
     },
     "execution_count": 23,
     "metadata": {},
     "output_type": "execute_result"
    }
   ],
   "source": [
    "len(lista_cadastro)"
   ]
  },
  {
   "cell_type": "code",
   "execution_count": 10,
   "metadata": {},
   "outputs": [],
   "source": [
    "# lista de instalações resultantes no arquivo de saída do processamento P&D\n",
    "inst_df['Nome'] = pd.DataFrame(inst_df['Nome'].astype(int).apply(lambda x: '{0:0>10}'.format(x)))\n",
    "lista_new = inst_df['Nome'].unique().tolist()"
   ]
  },
  {
   "cell_type": "code",
   "execution_count": 11,
   "metadata": {},
   "outputs": [],
   "source": [
    "# lista de instalações com dados fasoriais a serem processados\n",
    "list_files = os.listdir(fas_dir) "
   ]
  },
  {
   "cell_type": "code",
   "execution_count": 12,
   "metadata": {},
   "outputs": [],
   "source": [
    "list_files = set(list_files)"
   ]
  },
  {
   "cell_type": "code",
   "execution_count": 13,
   "metadata": {},
   "outputs": [
    {
     "data": {
      "text/plain": [
       "956"
      ]
     },
     "execution_count": 13,
     "metadata": {},
     "output_type": "execute_result"
    }
   ],
   "source": [
    "len(list_files)"
   ]
  },
  {
   "cell_type": "code",
   "execution_count": 14,
   "metadata": {},
   "outputs": [],
   "source": [
    "list_instal = [s.replace('.csv', '') for s in list_files]"
   ]
  },
  {
   "cell_type": "code",
   "execution_count": 15,
   "metadata": {},
   "outputs": [
    {
     "data": {
      "text/plain": [
       "956"
      ]
     },
     "execution_count": 15,
     "metadata": {},
     "output_type": "execute_result"
    }
   ],
   "source": [
    "len(list_instal)"
   ]
  },
  {
   "cell_type": "code",
   "execution_count": 16,
   "metadata": {},
   "outputs": [
    {
     "data": {
      "text/plain": [
       "949"
      ]
     },
     "execution_count": 16,
     "metadata": {},
     "output_type": "execute_result"
    }
   ],
   "source": [
    "len(lista_new)"
   ]
  },
  {
   "cell_type": "code",
   "execution_count": 17,
   "metadata": {},
   "outputs": [],
   "source": [
    "# checa quais arquivos .csv da pasta de dados fasoriais não gerou resultado no processamento P&D\n",
    "list_not_found = set(list_instal)-set(lista_new)"
   ]
  },
  {
   "cell_type": "code",
   "execution_count": 18,
   "metadata": {},
   "outputs": [
    {
     "data": {
      "text/plain": [
       "{'.ipynb_checkpoints',\n",
       " '0000181938',\n",
       " '0000805964',\n",
       " '0009500350',\n",
       " '0009501113',\n",
       " '0009501716',\n",
       " '0160279015'}"
      ]
     },
     "execution_count": 18,
     "metadata": {},
     "output_type": "execute_result"
    }
   ],
   "source": [
    "list_not_found"
   ]
  },
  {
   "cell_type": "code",
   "execution_count": 19,
   "metadata": {},
   "outputs": [],
   "source": [
    "list_not_found1 = set(lista_new)-set(list_instal)"
   ]
  },
  {
   "cell_type": "code",
   "execution_count": 20,
   "metadata": {},
   "outputs": [
    {
     "data": {
      "text/plain": [
       "{'.ipynb_checkpoints'}"
      ]
     },
     "execution_count": 20,
     "metadata": {},
     "output_type": "execute_result"
    }
   ],
   "source": [
    "# verificar os arquivos .csv não processados que não estão na lista de cadastro\n",
    "set(list_not_found)-set(lista_cadastro)"
   ]
  },
  {
   "cell_type": "code",
   "execution_count": 21,
   "metadata": {},
   "outputs": [],
   "source": [
    "# checa quais dados da lista de cadastro não possuem .csv"
   ]
  },
  {
   "cell_type": "code",
   "execution_count": 22,
   "metadata": {},
   "outputs": [
    {
     "data": {
      "text/plain": [
       "{'0000003323',\n",
       " '0000003780',\n",
       " '0000146191',\n",
       " '0000146402',\n",
       " '0000147751',\n",
       " '0000147861',\n",
       " '0000259235',\n",
       " '0000501651',\n",
       " '0000552316',\n",
       " '0000581083',\n",
       " '0000699488',\n",
       " '0000702225',\n",
       " '0000737831',\n",
       " '0001000600',\n",
       " '0001000601',\n",
       " '0001001182',\n",
       " '0001059305',\n",
       " '0001133567',\n",
       " '0001252561',\n",
       " '0001273025',\n",
       " '0001306591',\n",
       " '0001380570',\n",
       " '0001408711',\n",
       " '0001419449',\n",
       " '0001659074',\n",
       " '0001664745',\n",
       " '0001786134',\n",
       " '0009500651',\n",
       " '0009500738',\n",
       " '0009501840',\n",
       " '0009502285',\n",
       " '0009502324',\n",
       " '0160030158',\n",
       " '0160065185',\n",
       " '0160067187',\n",
       " '0160092788',\n",
       " '0160130243',\n",
       " '0160192705',\n",
       " '0160280013',\n",
       " '0160298358',\n",
       " '0160325333',\n",
       " '0160326567',\n",
       " '0160344773',\n",
       " '0160368492',\n",
       " '0160547465',\n",
       " '0160583632',\n",
       " '0160724063'}"
      ]
     },
     "execution_count": 22,
     "metadata": {},
     "output_type": "execute_result"
    }
   ],
   "source": [
    "set(lista_cadastro)-set(list_instal)"
   ]
  },
  {
   "cell_type": "code",
   "execution_count": 24,
   "metadata": {},
   "outputs": [
    {
     "data": {
      "text/html": [
       "<div>\n",
       "<style scoped>\n",
       "    .dataframe tbody tr th:only-of-type {\n",
       "        vertical-align: middle;\n",
       "    }\n",
       "\n",
       "    .dataframe tbody tr th {\n",
       "        vertical-align: top;\n",
       "    }\n",
       "\n",
       "    .dataframe thead th {\n",
       "        text-align: right;\n",
       "    }\n",
       "</style>\n",
       "<table border=\"1\" class=\"dataframe\">\n",
       "  <thead>\n",
       "    <tr style=\"text-align: right;\">\n",
       "      <th></th>\n",
       "      <th>cliente</th>\n",
       "      <th>instalacao</th>\n",
       "      <th>medidor</th>\n",
       "      <th>data_inicio</th>\n",
       "      <th>data_fim</th>\n",
       "      <th>lote</th>\n",
       "      <th>ssn</th>\n",
       "      <th>4</th>\n",
       "      <th>5</th>\n",
       "      <th>6</th>\n",
       "      <th>7</th>\n",
       "      <th>troca</th>\n",
       "    </tr>\n",
       "  </thead>\n",
       "  <tbody>\n",
       "    <tr>\n",
       "      <th>245</th>\n",
       "      <td>CHOCOLATES GAROTO SA</td>\n",
       "      <td>0000181938</td>\n",
       "      <td>32180270.0</td>\n",
       "      <td>03/12/2010</td>\n",
       "      <td>31/12/2099 23:59:59</td>\n",
       "      <td>49.0</td>\n",
       "      <td>NaN</td>\n",
       "      <td>08/05/2019</td>\n",
       "      <td>05/06/2019</td>\n",
       "      <td>05/07/2019</td>\n",
       "      <td>06/08/2019</td>\n",
       "      <td>2-Com troca de medidor</td>\n",
       "    </tr>\n",
       "    <tr>\n",
       "      <th>246</th>\n",
       "      <td>CHOCOLATES GAROTO SA</td>\n",
       "      <td>0000181938</td>\n",
       "      <td>32180169.0</td>\n",
       "      <td>20/04/2013</td>\n",
       "      <td>03/09/2099</td>\n",
       "      <td>49.0</td>\n",
       "      <td>NaN</td>\n",
       "      <td>08/05/2019</td>\n",
       "      <td>05/06/2019</td>\n",
       "      <td>05/07/2019</td>\n",
       "      <td>06/08/2019</td>\n",
       "      <td>2-Com troca de medidor</td>\n",
       "    </tr>\n",
       "    <tr>\n",
       "      <th>247</th>\n",
       "      <td>CHOCOLATES GAROTO SA</td>\n",
       "      <td>0000181938</td>\n",
       "      <td>12680608.0</td>\n",
       "      <td>01/01/2015</td>\n",
       "      <td>31/12/2099</td>\n",
       "      <td>NaN</td>\n",
       "      <td>89550532220005892145</td>\n",
       "      <td>08/05/2019</td>\n",
       "      <td>05/06/2019</td>\n",
       "      <td>05/07/2019</td>\n",
       "      <td>06/08/2019</td>\n",
       "      <td>2-Com troca de medidor</td>\n",
       "    </tr>\n",
       "    <tr>\n",
       "      <th>248</th>\n",
       "      <td>CHOCOLATES GAROTO SA</td>\n",
       "      <td>0000181938</td>\n",
       "      <td>32180303.0</td>\n",
       "      <td>03/09/2015</td>\n",
       "      <td>31/12/2099 23:59:59</td>\n",
       "      <td>49.0</td>\n",
       "      <td>NaN</td>\n",
       "      <td>08/05/2019</td>\n",
       "      <td>05/06/2019</td>\n",
       "      <td>05/07/2019</td>\n",
       "      <td>06/08/2019</td>\n",
       "      <td>2-Com troca de medidor</td>\n",
       "    </tr>\n",
       "  </tbody>\n",
       "</table>\n",
       "</div>"
      ],
      "text/plain": [
       "                  cliente  instalacao     medidor data_inicio  \\\n",
       "245  CHOCOLATES GAROTO SA  0000181938  32180270.0  03/12/2010   \n",
       "246  CHOCOLATES GAROTO SA  0000181938  32180169.0  20/04/2013   \n",
       "247  CHOCOLATES GAROTO SA  0000181938  12680608.0  01/01/2015   \n",
       "248  CHOCOLATES GAROTO SA  0000181938  32180303.0  03/09/2015   \n",
       "\n",
       "                data_fim  lote                   ssn           4           5  \\\n",
       "245  31/12/2099 23:59:59  49.0                   NaN  08/05/2019  05/06/2019   \n",
       "246           03/09/2099  49.0                   NaN  08/05/2019  05/06/2019   \n",
       "247           31/12/2099   NaN  89550532220005892145  08/05/2019  05/06/2019   \n",
       "248  31/12/2099 23:59:59  49.0                   NaN  08/05/2019  05/06/2019   \n",
       "\n",
       "              6           7                   troca  \n",
       "245  05/07/2019  06/08/2019  2-Com troca de medidor  \n",
       "246  05/07/2019  06/08/2019  2-Com troca de medidor  \n",
       "247  05/07/2019  06/08/2019  2-Com troca de medidor  \n",
       "248  05/07/2019  06/08/2019  2-Com troca de medidor  "
      ]
     },
     "execution_count": 24,
     "metadata": {},
     "output_type": "execute_result"
    }
   ],
   "source": [
    "LISTAF[LISTAF['instalacao']=='0000181938']"
   ]
  },
  {
   "cell_type": "code",
   "execution_count": null,
   "metadata": {},
   "outputs": [],
   "source": []
  },
  {
   "cell_type": "code",
   "execution_count": null,
   "metadata": {},
   "outputs": [],
   "source": []
  }
 ],
 "metadata": {
  "kernelspec": {
   "display_name": "Python [conda env:tensorflow_p36]",
   "language": "python",
   "name": "conda-env-tensorflow_p36-py"
  },
  "language_info": {
   "codemirror_mode": {
    "name": "ipython",
    "version": 3
   },
   "file_extension": ".py",
   "mimetype": "text/x-python",
   "name": "python",
   "nbconvert_exporter": "python",
   "pygments_lexer": "ipython3",
   "version": "3.6.5"
  }
 },
 "nbformat": 4,
 "nbformat_minor": 2
}
