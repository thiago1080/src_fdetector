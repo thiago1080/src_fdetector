{
 "cells": [
  {
   "cell_type": "markdown",
   "metadata": {},
   "source": [
    "## l_______________________________________________________________________"
   ]
  },
  {
   "cell_type": "code",
   "execution_count": null,
   "metadata": {},
   "outputs": [],
   "source": [
    "import json\n",
    "import os\n",
    "import pandas as pd\n",
    "from genData import load_model\n",
    "import re\n",
    "import numpy as np\n",
    "import pickle\n",
    "\n",
    "from importlib import reload\n",
    "import mainlib\n",
    "reload(mainlib)\n",
    "import A_base as ab\n",
    "reload(ab)\n",
    "from  mainlib import fasorial, lista, sdict, mm, mm_sep\n",
    "\n",
    "\n",
    "import collections\n",
    "import of_proc\n",
    "reload(of_proc)\n",
    "from of_proc import *"
   ]
  },
  {
   "cell_type": "markdown",
   "metadata": {},
   "source": [
    "# Informações"
   ]
  },
  {
   "cell_type": "code",
   "execution_count": null,
   "metadata": {},
   "outputs": [],
   "source": [
    "def read_info(path = '../info/info.json'):\n",
    "    global PATH, OUTPUT_PATH, PROCESSED_PATH, PERFIS_PATH, HORARIOS_PATH, PATH_MM, PATH_FAS, \\\n",
    "    DEG, MOR, PER, FAS, OUTPUT_HEADER,FAS_CONCAT, MM_CONCAT, PICKLES_CONCAT, OUT_INDEX\n",
    "    with open(path) as f:\n",
    "        info = json.load(f)\n",
    "        PATH = info['paths']['fasoriais']['input']\n",
    "        OUTPUT_PATH = info['paths']['fasoriais']['output']\n",
    "        PROCESSED_PATH = info['paths']['fasoriais']['processed']\n",
    "        PERFIS_PATH = info['paths']['perfis']['perfis']\n",
    "        HORARIOS_PATH = info['paths']['perfis']['horarios']\n",
    "        PATH_MM = info['paths']['mm']['input']\n",
    "        PATH_FAS = info['paths']['fasoriais']['input']\n",
    "        DEG = info['paths']['nn_models']['degrau']\n",
    "        MOR = info['paths']['nn_models']['morro']\n",
    "        PER = info['paths']['nn_models']['perfil']\n",
    "        FAS = info['paths']['nn_models']['fasorial']\n",
    "        FAS_CONCAT =  info['paths']['concat']['fas']\n",
    "        MM_CONCAT =  info['paths']['concat']['mm'] \n",
    "        PICKLES_CONCAT=  info['paths']['concat']['pickles']        \n",
    "        OUTPUT_HEADER = info['output']['header']\n",
    "        OUT_INDEX = info['output']['header']"
   ]
  },
  {
   "cell_type": "code",
   "execution_count": null,
   "metadata": {},
   "outputs": [],
   "source": [
    "read_info()"
   ]
  },
  {
   "cell_type": "code",
   "execution_count": null,
   "metadata": {},
   "outputs": [],
   "source": [
    "OUT_CONCAT = '../outputs/concat/'\n",
    "OUT = '../outputs/all/'"
   ]
  },
  {
   "cell_type": "code",
   "execution_count": null,
   "metadata": {},
   "outputs": [],
   "source": [
    "#preguiça -- arrumar\n",
    "out_index = OUT_INDEX"
   ]
  },
  {
   "cell_type": "markdown",
   "metadata": {},
   "source": [
    "### Carregar modelos neurais"
   ]
  },
  {
   "cell_type": "markdown",
   "metadata": {},
   "source": [
    "# Coleções principais"
   ]
  },
  {
   "cell_type": "markdown",
   "metadata": {},
   "source": [
    "#### Lista principal"
   ]
  },
  {
   "cell_type": "code",
   "execution_count": null,
   "metadata": {},
   "outputs": [],
   "source": [
    "global LISTA_CAD"
   ]
  },
  {
   "cell_type": "markdown",
   "metadata": {},
   "source": [
    "#### Modelos neurais"
   ]
  },
  {
   "cell_type": "code",
   "execution_count": null,
   "metadata": {},
   "outputs": [],
   "source": [
    "PER"
   ]
  },
  {
   "cell_type": "code",
   "execution_count": null,
   "metadata": {},
   "outputs": [],
   "source": [
    "FAS = '../../fdetector/models/rn_hc_and/rn_hc_and'"
   ]
  },
  {
   "cell_type": "code",
   "execution_count": null,
   "metadata": {},
   "outputs": [],
   "source": [
    "global PERFIL, DEGRAU, MORRO, NN_FAS\n",
    "PERFIL, DEGRAU, MORRO, NN_FAS = load_models(PER, DEG, MOR, FAS)"
   ]
  },
  {
   "cell_type": "markdown",
   "metadata": {},
   "source": [
    "#### Arquivos"
   ]
  },
  {
   "cell_type": "code",
   "execution_count": null,
   "metadata": {},
   "outputs": [],
   "source": [
    "global files_fas, files_mm"
   ]
  },
  {
   "cell_type": "markdown",
   "metadata": {},
   "source": [
    "#### Perfis e horários"
   ]
  },
  {
   "cell_type": "code",
   "execution_count": null,
   "metadata": {},
   "outputs": [],
   "source": [
    "global HORARIOS, PERFIS, ATIVS, DPERFIS, DPERFIS_NORMAL, DPERFIS_TROCA"
   ]
  },
  {
   "cell_type": "markdown",
   "metadata": {},
   "source": [
    "#### Estruturas auxiliares"
   ]
  },
  {
   "cell_type": "code",
   "execution_count": null,
   "metadata": {},
   "outputs": [],
   "source": [
    "global dim, dmi, df_fas, dfiles_mm, dfiles_fas_troca, dfiles_mm_troca, dfiles_fas_normal, dfiles_mm_normal\n",
    "global o_i_normal, o_i_troca, o_instas, list_i_normal, list_i_troca, list_intas"
   ]
  },
  {
   "cell_type": "markdown",
   "metadata": {},
   "source": [
    "## Lista de medidores e lista por horários"
   ]
  },
  {
   "cell_type": "code",
   "execution_count": null,
   "metadata": {},
   "outputs": [],
   "source": [
    "LISTA_CAD = get_list()"
   ]
  },
  {
   "cell_type": "code",
   "execution_count": null,
   "metadata": {},
   "outputs": [],
   "source": [
    "HORARIOS, PERFIS, ATIVS = get_horario_info()"
   ]
  },
  {
   "cell_type": "markdown",
   "metadata": {},
   "source": [
    "### Dicionários e listas"
   ]
  },
  {
   "cell_type": "code",
   "execution_count": null,
   "metadata": {},
   "outputs": [],
   "source": [
    "dim, dmi = dicts(LISTA_CAD)"
   ]
  },
  {
   "cell_type": "code",
   "execution_count": null,
   "metadata": {},
   "outputs": [],
   "source": [
    "#gls i_normal -> instalações normal\n",
    "# i_troca -> instalações com troca\n",
    "#o_i_normal -> ordenado instalações normal\n",
    "o_i_normal = collections.OrderedDict(sorted(LISTA_CAD.get_users(index = 'instalacao', troca=0,tipo='dictionary').items()))\n",
    "o_i_troca = collections.OrderedDict(sorted(LISTA_CAD.get_users(index = 'instalacao', troca=1,tipo='dictionary').items()))\n",
    "o_instas =  collections.OrderedDict(sorted({**o_i_normal, **o_i_troca}.items()))"
   ]
  },
  {
   "cell_type": "markdown",
   "metadata": {},
   "source": [
    "##### Dicionário com os horário de funcionamento de cada cliente"
   ]
  },
  {
   "cell_type": "code",
   "execution_count": null,
   "metadata": {},
   "outputs": [],
   "source": [
    "DPERFIS = sdict()\n",
    "for i in PERFIS.index:\n",
    "    j = PERFIS.loc[i,'Ramo de Atividade']\n",
    "    if HORARIOS.index.contains(j):\n",
    "        DPERFIS[i] = list(HORARIOS.loc[j,:])\n",
    "    else:\n",
    "        DPERFIS[i] = list(HORARIOS.iloc[0,:])\n",
    "\n",
    "DPERFIS_NORMAL={}\n",
    "for i in DPERFIS:\n",
    "    if i in o_i_normal:\n",
    "        DPERFIS_NORMAL[i] = o_i_normal[i]\n",
    "\n",
    "DPERFIS_TROCA={}\n",
    "for i in DPERFIS:\n",
    "    if i in o_i_troca:\n",
    "        DPERFIS_TROCA[i] = o_i_troca[i]"
   ]
  },
  {
   "cell_type": "code",
   "execution_count": null,
   "metadata": {},
   "outputs": [],
   "source": [
    "dfiles_fas, nf_fas=get_files_3(list(o_i_normal.keys()), dim,  PATH_FAS)\n",
    "dfiles_mm, nf_mm = get_files_3(list(o_i_normal.keys()),dim , PATH_MM)"
   ]
  },
  {
   "cell_type": "code",
   "execution_count": null,
   "metadata": {},
   "outputs": [],
   "source": [
    "dfiles_fas2 = deslistar(dfiles_fas)\n",
    "dfiles_mm2 = deslistar(dfiles_mm)"
   ]
  },
  {
   "cell_type": "code",
   "execution_count": null,
   "metadata": {},
   "outputs": [],
   "source": [
    "dfiles_fas_concat, nf_fas_concat = get_files_2( list(o_i_troca.keys()), FAS_CONCAT)\n",
    "dfiles_mm_concat, nf_mm_concat = get_files_2( list(o_i_troca.keys()), MM_CONCAT)"
   ]
  },
  {
   "cell_type": "markdown",
   "metadata": {},
   "source": [
    "## l_______________________________________________________________________"
   ]
  },
  {
   "cell_type": "code",
   "execution_count": null,
   "metadata": {},
   "outputs": [],
   "source": [
    "#Criar dicionario de categorias\n",
    "HORARIOS_PATH = '/home/ubuntu/data/data/maio_2019/horarios_v3.csv'\n",
    "horarios = pd.read_csv(HORARIOS_PATH, sep=',')\n",
    "dfcat = horarios.iloc[:,:2]\n",
    "dfcat.set_index('nome',inplace=True)\n",
    "scat = dfcat['cat']\n",
    "dcat = scat.to_dict()"
   ]
  },
  {
   "cell_type": "code",
   "execution_count": null,
   "metadata": {},
   "outputs": [],
   "source": [
    "ATIV = '/home/ubuntu/data/data/maio_2019/atividade_atividade_v2.csv'\n",
    "dfativ = pd.read_csv(ATIV, sep=';', names = ['ramo', 'perfil'])\n",
    "dfativ.set_index('ramo', inplace=True)\n",
    "a2p = dfativ.loc[:,'perfil'].T.to_dict()\n",
    "p2a = dict((v,k) for k,v in a2p.items())"
   ]
  },
  {
   "cell_type": "code",
   "execution_count": null,
   "metadata": {},
   "outputs": [],
   "source": [
    "PERFIS[~PERFIS.loc[:,'cluster'].isin(horarios.loc[:,'nome'])]"
   ]
  },
  {
   "cell_type": "markdown",
   "metadata": {},
   "source": [
    "## l_______________________________________________________________________"
   ]
  },
  {
   "cell_type": "code",
   "execution_count": null,
   "metadata": {},
   "outputs": [],
   "source": [
    "dfiles_fas_concat = get_files_troca(dfiles_fas_concat)"
   ]
  },
  {
   "cell_type": "code",
   "execution_count": null,
   "metadata": {},
   "outputs": [],
   "source": [
    "dfiles_mm_concat= get_files_troca(dfiles_mm_concat)"
   ]
  },
  {
   "cell_type": "code",
   "execution_count": null,
   "metadata": {},
   "outputs": [],
   "source": [
    "odf_concat = collections.OrderedDict(sorted(dfiles_fas_concat.items()))"
   ]
  },
  {
   "cell_type": "code",
   "execution_count": null,
   "metadata": {},
   "outputs": [],
   "source": [
    "odmm_concat = collections.OrderedDict(sorted(dfiles_mm_concat.items()))"
   ]
  },
  {
   "cell_type": "code",
   "execution_count": null,
   "metadata": {},
   "outputs": [],
   "source": [
    "# Criar um dicionário único para todos os caminhos de arquivos\n",
    "ddirs={}\n",
    "ddirsn={}\n",
    "ddirst={}\n",
    "for u,v in dfiles_fas2.items():\n",
    "    ddirs[u] = os.path.join(PATH_FAS,v)\n",
    "    ddirsn[u] = os.path.join(PATH_FAS,v)\n",
    "for u,v in dfiles_fas_concat.items():\n",
    "    if u in ddirs:\n",
    "        print('Warning. Instalacao repetida')\n",
    "    ddirs[u] = os.path.join(FAS_CONCAT, v)\n",
    "    ddirst[u] = os.path.join(FAS_CONCAT, v)"
   ]
  },
  {
   "cell_type": "markdown",
   "metadata": {},
   "source": [
    "## l_______________________________________________________________________"
   ]
  },
  {
   "cell_type": "code",
   "execution_count": null,
   "metadata": {},
   "outputs": [],
   "source": [
    "gt = pd.read_csv('../data/groundtruth.csv',sep=';',index_col=0)"
   ]
  },
  {
   "cell_type": "markdown",
   "metadata": {},
   "source": [
    "## l_______________________________________________________________________"
   ]
  },
  {
   "cell_type": "code",
   "execution_count": null,
   "metadata": {},
   "outputs": [],
   "source": [
    "mkdir -p /home/ubuntu/data/data/maio_2019_proc/concat/fas/"
   ]
  },
  {
   "cell_type": "code",
   "execution_count": null,
   "metadata": {},
   "outputs": [],
   "source": [
    "mkdir -p /home/ubuntu/data/data/maio_2019_proc/fas-sep2/"
   ]
  },
  {
   "cell_type": "code",
   "execution_count": null,
   "metadata": {},
   "outputs": [],
   "source": [
    "FAS_CONCAT_PROC  = '/home/ubuntu/data/data/maio_2019_proc/concat/fas/'"
   ]
  },
  {
   "cell_type": "code",
   "execution_count": null,
   "metadata": {},
   "outputs": [],
   "source": [
    "PATH_FAS_PROC  = '/home/ubuntu/data/data/maio_2019_proc/fas-sep2/'"
   ]
  },
  {
   "cell_type": "markdown",
   "metadata": {},
   "source": [
    "## l_______________________________________________________________________"
   ]
  },
  {
   "cell_type": "code",
   "execution_count": null,
   "metadata": {},
   "outputs": [],
   "source": [
    "def procsave(d,path):\n",
    "    shapes = {}\n",
    "    f = {}\n",
    "    print(len(d.items()))\n",
    "    for n,(k,v) in enumerate(d.items()):\n",
    "        print(n,end=' ')\n",
    "        f[k]=fasorial(name=k)\n",
    "        f[k].read_fasorial(v)\n",
    "        raw_shape = f[k].df.shape\n",
    "        f[k].proc_fasorial()\n",
    "        shapes[i] = (raw_shape, f[k].df.shape)\n",
    "        print(k)\n",
    "        f[k].df.to_csv(os.path.join(path,str(k)+'.csv'))\n",
    "    return f, shapes"
   ]
  },
  {
   "cell_type": "code",
   "execution_count": null,
   "metadata": {},
   "outputs": [],
   "source": [
    "ft, st = procsave(ddirst,FAS_CONCAT_PROC)"
   ]
  },
  {
   "cell_type": "code",
   "execution_count": null,
   "metadata": {},
   "outputs": [],
   "source": [
    "fn, sn = procsave(ddirsn,PATH_FAS_PROC)"
   ]
  }
 ],
 "metadata": {
  "kernelspec": {
   "display_name": "Python [conda env:tensorflow_p36]",
   "language": "python",
   "name": "conda-env-tensorflow_p36-py"
  },
  "language_info": {
   "codemirror_mode": {
    "name": "ipython",
    "version": 3
   },
   "file_extension": ".py",
   "mimetype": "text/x-python",
   "name": "python",
   "nbconvert_exporter": "python",
   "pygments_lexer": "ipython3",
   "version": "3.6.5"
  }
 },
 "nbformat": 4,
 "nbformat_minor": 2
}
