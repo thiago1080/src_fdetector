{
 "cells": [
  {
   "cell_type": "markdown",
   "metadata": {},
   "source": [
    "# Concatenar (cct)"
   ]
  },
  {
   "cell_type": "code",
   "execution_count": 7,
   "metadata": {},
   "outputs": [
    {
     "name": "stderr",
     "output_type": "stream",
     "text": [
      "Using TensorFlow backend.\n"
     ]
    }
   ],
   "source": [
    "import sys\n",
    "import os\n",
    "from os.path import join\n",
    "from os import listdir as ld\n",
    "sys.path.append(join('/',*os.getcwd().split('/')[:-1], 'lib'))\n",
    "\n",
    "import json\n",
    "import os\n",
    "import pandas as pd\n",
    "from genData import load_model\n",
    "import re\n",
    "import numpy as np\n",
    "import pickle\n",
    "\n",
    "from importlib import reload\n",
    "import mainlib\n",
    "reload(mainlib)\n",
    "import A_base as ab\n",
    "reload(ab)\n",
    "from  mainlib import fasorial, lista, sdict, mm, mm_sep\n",
    "\n",
    "\n",
    "import collections\n",
    "import of_proc\n",
    "reload(of_proc)\n",
    "from of_proc import *\n",
    "\n",
    "%matplotlib inline\n",
    "from matplotlib import pyplot as plt"
   ]
  },
  {
   "cell_type": "code",
   "execution_count": 19,
   "metadata": {},
   "outputs": [],
   "source": []
  },
  {
   "cell_type": "code",
   "execution_count": 46,
   "metadata": {},
   "outputs": [],
   "source": [
    "from mainlib import dframe\n",
    "data= dframe().data"
   ]
  },
  {
   "cell_type": "code",
   "execution_count": 34,
   "metadata": {},
   "outputs": [],
   "source": [
    "FAS = '/home/ubuntu/data/data/maio_2019/setembro/fas.csv'"
   ]
  },
  {
   "cell_type": "code",
   "execution_count": 35,
   "metadata": {},
   "outputs": [],
   "source": [
    "OFAS =  '/home/ubuntu/data/data/maio_2019/setembro/fas_sep/'"
   ]
  },
  {
   "cell_type": "code",
   "execution_count": 60,
   "metadata": {},
   "outputs": [],
   "source": [
    "MM =   '/home/ubuntu/data/data/maio_2019/setembro/mm/csv/'"
   ]
  },
  {
   "cell_type": "markdown",
   "metadata": {},
   "source": [
    "l__________________________________________________________________________________________________________________________________________________"
   ]
  },
  {
   "cell_type": "markdown",
   "metadata": {},
   "source": [
    "### Fasorial"
   ]
  },
  {
   "cell_type": "code",
   "execution_count": null,
   "metadata": {},
   "outputs": [],
   "source": [
    "fas = pd.read_csv(FAS,sep=';')"
   ]
  },
  {
   "cell_type": "code",
   "execution_count": null,
   "metadata": {},
   "outputs": [],
   "source": [
    "%%time\n",
    "f = open(FAS,'rt')\n",
    "f.readline()\n",
    "line = f.readline()\n",
    "f1 = line.split(';')[0]\n",
    "print(f1)\n",
    "out_file = os.path.join(OFAS,f1+'.csv')\n",
    "of = open(out_file,'wt')\n",
    "n0, n1, n2 = 0,0,0\n",
    "while line != '':\n",
    "    n1+=1\n",
    "    line = f.readline()\n",
    "    #print(n1,end='\\r')\n",
    "    if len(line) >1:       \n",
    "        f2 = line.split(';')[0]\n",
    "        if f2 == f1:\n",
    "            of.write(line)\n",
    "        else:\n",
    "            n2+=1\n",
    "            print('Escrito arquivo: {}-->  {}. Possui {} registros. Linha {}'.format(n2,f1,n1-n0,n1))\n",
    "            n0=n1\n",
    "            of.close()\n",
    "            f1 = f2\n",
    "            out_file = os.path.join(OFAS,f1+'.csv')\n",
    "            of = open(out_file,'wt')\n",
    "print('Concluído')\n",
    "\n",
    "    "
   ]
  },
  {
   "cell_type": "code",
   "execution_count": null,
   "metadata": {},
   "outputs": [],
   "source": [
    "%%time\n",
    "n=0\n",
    "with open(FAS,'rt') as f:\n",
    "    f.readline()\n",
    "    pm0 = f.readline().split(';')[0]\n",
    "    #print(pm0)\n",
    "    li=[pm0]\n",
    "    while True:\n",
    "        n+=1\n",
    "        l=f.readline()\n",
    "        if l =='':\n",
    "            print(n)\n",
    "            break\n",
    "        if len(l)>1:\n",
    "            pm = l.split(';')[0]\n",
    "        if n%10000==0:\n",
    "            print(n,end=' ')\n",
    "        if pm != pm0:\n",
    "            li.append(pm)\n",
    "            pm0=pm            "
   ]
  },
  {
   "cell_type": "code",
   "execution_count": null,
   "metadata": {},
   "outputs": [],
   "source": [
    "sli = set(li)"
   ]
  },
  {
   "cell_type": "code",
   "execution_count": null,
   "metadata": {},
   "outputs": [],
   "source": [
    "len(sli)"
   ]
  },
  {
   "cell_type": "code",
   "execution_count": null,
   "metadata": {},
   "outputs": [],
   "source": [
    "# partir de uma linha sem ler arquivo inteiro\n",
    "# from stackoverflow\n",
    "\n",
    "from itertools import islice\n",
    "line_number = 67430441\n",
    "\n",
    "with open(FAS,'rt') as f:\n",
    "    # Adjust index since Python/islice indexes from 0 and the first \n",
    "    # line of a file is line 1\n",
    "    line = next(islice(f, line_number - 1, line_number))"
   ]
  },
  {
   "cell_type": "markdown",
   "metadata": {},
   "source": [
    "l__________________________________________________________________________________________________________________________________________________"
   ]
  },
  {
   "cell_type": "markdown",
   "metadata": {},
   "source": [
    "### Memória de massa"
   ]
  },
  {
   "cell_type": "code",
   "execution_count": 10,
   "metadata": {},
   "outputs": [],
   "source": [
    "def dk(d,k=0):\n",
    "    return list(d.values())[k]\n",
    "\n",
    "reload(mainlib)\n",
    "from mainlib import fasorial, mm, dframe\n",
    "\n",
    "m = mm()\n",
    "df = dframe().dateparser"
   ]
  },
  {
   "cell_type": "code",
   "execution_count": 5,
   "metadata": {},
   "outputs": [],
   "source": [
    "MM = '/home/ubuntu/data/data/maio_2019/setembro/mm/csv'"
   ]
  },
  {
   "cell_type": "code",
   "execution_count": 90,
   "metadata": {},
   "outputs": [
    {
     "name": "stdout",
     "output_type": "stream",
     "text": [
      "/home/ubuntu/data/data/maio_2019/setembro/mm/csv/02092019165356_BTI-BT2.csv\n",
      "/home/ubuntu/data/data/maio_2019/setembro/mm/csv/02092019185621_BTI-BT2.csv\n",
      "/home/ubuntu/data/data/maio_2019/setembro/mm/csv/02092019211612_BTI-BT2.csv\n",
      "/home/ubuntu/data/data/maio_2019/setembro/mm/csv/02092019232110_BTI-BT2.csv\n",
      "/home/ubuntu/data/data/maio_2019/setembro/mm/csv/03092019014055_BTI-BT2.csv\n",
      "/home/ubuntu/data/data/maio_2019/setembro/mm/csv/03092019034659_BTI-BT2.csv\n",
      "/home/ubuntu/data/data/maio_2019/setembro/mm/csv/03092019061522_BTI-BT2.csv\n",
      "/home/ubuntu/data/data/maio_2019/setembro/mm/csv/03092019082110_BTI-BT2.csv\n",
      "/home/ubuntu/data/data/maio_2019/setembro/mm/csv/03092019102930_BTI-BT2.csv\n",
      "/home/ubuntu/data/data/maio_2019/setembro/mm/csv/03092019124020_BTI-BT2.csv\n",
      "/home/ubuntu/data/data/maio_2019/setembro/mm/csv/mm.csv\n"
     ]
    }
   ],
   "source": [
    "!ls $MM/*csv"
   ]
  },
  {
   "cell_type": "code",
   "execution_count": 3,
   "metadata": {},
   "outputs": [],
   "source": [
    "from os import listdir as ld"
   ]
  },
  {
   "cell_type": "code",
   "execution_count": 57,
   "metadata": {},
   "outputs": [
    {
     "name": "stdout",
     "output_type": "stream",
     "text": [
      "NaT\n",
      "NaT\n",
      "NaT\n",
      "NaT\n",
      "NaT\n",
      "NaT\n",
      "NaT\n",
      "NaT\n",
      "NaT\n",
      "NaT\n"
     ]
    }
   ],
   "source": [
    "dmm = {}\n",
    "for i in ld(MM):\n",
    "    dmm[i] = pd.read_csv(join(MM,i), sep=';',decimal=',', low_memory=False, index_col = [0], na_values=' ',date_parser = df, parse_dates=[0])\n",
    "    #dmm[i] = pd.read_csv(join(MM,i), sep=';',decimal=',', low_memory=False, index_col = [0], na_values=' ')\n",
    "    print(dmm[i].index[dmm[i].shape[0]-1])\n",
    "    dmm[i].drop(dmm[i].index[dmm[i].shape[0]-1],inplace=True)"
   ]
  },
  {
   "cell_type": "code",
   "execution_count": 58,
   "metadata": {},
   "outputs": [
    {
     "name": "stdout",
     "output_type": "stream",
     "text": [
      "(2952, 153)\n",
      "(2952, 154)\n",
      "(2952, 153)\n",
      "(2952, 153)\n",
      "(2952, 152)\n",
      "(2952, 153)\n",
      "(2952, 152)\n",
      "(2952, 152)\n",
      "(2952, 152)\n",
      "(2952, 71)\n",
      "1445\n"
     ]
    }
   ],
   "source": [
    "n=0\n",
    "for k,v in dmm.items():\n",
    "    n+= v.shape[1]\n",
    "    print(v.shape)\n",
    "print(n)"
   ]
  },
  {
   "cell_type": "code",
   "execution_count": 59,
   "metadata": {},
   "outputs": [],
   "source": [
    "#Checar se os índices são os mesmos\n",
    "for n,(k,v) in enumerate(dmm.items()):\n",
    "    if n == 0:\n",
    "        a1 = list(v.index)\n",
    "        continue\n",
    "    else:\n",
    "        a2 = list(v.index)\n",
    "    assert a1==a2"
   ]
  },
  {
   "cell_type": "markdown",
   "metadata": {},
   "source": [
    "#####  Montar Dataframe coalizado"
   ]
  },
  {
   "cell_type": "markdown",
   "metadata": {},
   "source": [
    "l_________________________l"
   ]
  },
  {
   "cell_type": "code",
   "execution_count": 60,
   "metadata": {},
   "outputs": [],
   "source": [
    "mm = pd.DataFrame()\n",
    "for k,v in dmm.items():\n",
    "    mm = pd.concat((mm,v),axis=1)"
   ]
  },
  {
   "cell_type": "markdown",
   "metadata": {},
   "source": [
    "l_________________________l"
   ]
  }
 ],
 "metadata": {
  "kernelspec": {
   "display_name": "Python [conda env:tensorflow_p36]",
   "language": "python",
   "name": "conda-env-tensorflow_p36-py"
  },
  "language_info": {
   "codemirror_mode": {
    "name": "ipython",
    "version": 3
   },
   "file_extension": ".py",
   "mimetype": "text/x-python",
   "name": "python",
   "nbconvert_exporter": "python",
   "pygments_lexer": "ipython3",
   "version": "3.6.5"
  }
 },
 "nbformat": 4,
 "nbformat_minor": 2
}
