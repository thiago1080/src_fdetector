{
 "cells": [
  {
   "cell_type": "markdown",
   "metadata": {},
   "source": [
    "#### Esse notebook visa fazer algumas checagens em relação às instalações e seus respectivos arquivos .csv"
   ]
  },
  {
   "cell_type": "code",
   "execution_count": 1,
   "metadata": {},
   "outputs": [],
   "source": [
    "import os\n",
    "import os.path\n",
    "import pandas as pd\n",
    "import numpy as np\n",
    "import json\n",
    "from os.path import join"
   ]
  },
  {
   "cell_type": "code",
   "execution_count": 2,
   "metadata": {},
   "outputs": [],
   "source": [
    "def not_found_installation_in_files(installation_list, fas_folder):\n",
    "    not_found = []\n",
    "    for f in range(0,len(installation_list)):\n",
    "        filename = installation_list[f] + '.csv'\n",
    "        if os.path.exists(fas_folder+filename) == False:\n",
    "            not_found.append(filename)\n",
    "    return not_found       "
   ]
  },
  {
   "cell_type": "code",
   "execution_count": 3,
   "metadata": {},
   "outputs": [],
   "source": [
    "def read_info(path = '../../info/info.json'):\n",
    "    global PATH, OUTPUT_PATH, PROCESSED_PATH, PERFIS_PATH, HORARIOS_PATH, PATH_MM, PATH_FAS, \\\n",
    "    DEG, MOR, PER, FAS, OUTPUT_HEADER,FAS_CONCAT, MM_CONCAT, PICKLES_CONCAT, OUT_INDEX, COLS_LISTA\n",
    "    with open(path) as f:\n",
    "        info = json.load(f)\n",
    "        PATH_FAS = info['paths']['fasoriais2']['input']\n",
    "        PERFIS_PATH = info['paths']['perfis']['perfis']\n",
    "        HORARIOS_PATH = info['paths']['perfis']['horarios']\n",
    "        PATH_MM = info['paths']['mm']['input']\n",
    "        DEG = info['paths']['nn_models']['degrau']\n",
    "        MOR = info['paths']['nn_models']['morro']\n",
    "        PER = info['paths']['nn_models']['perfil']\n",
    "        FAS = info['paths']['nn_models']['fasorial']\n",
    "        COLS_LISTA = info['lista2']['columns']  \n",
    "        OUTPUT_HEADER = info['output']['header']\n",
    "        OUT_INDEX = info['output']['header']\n",
    "read_info()\n"
   ]
  },
  {
   "cell_type": "code",
   "execution_count": 4,
   "metadata": {},
   "outputs": [],
   "source": [
    "fas_dir = '/home/ubuntu/data/data/maio_2019/setembro/fas-sep/'\n",
    "output_dir = '/home/ubuntu/data/code/ref_fdetector/outputs/all/'\n",
    "output_file = 'new.csv'"
   ]
  },
  {
   "cell_type": "code",
   "execution_count": 5,
   "metadata": {},
   "outputs": [],
   "source": [
    "lf = ['BTI413335062',\n",
    "'BTI410295093',\n",
    "'BTI410943104',\n",
    "'BTI410332762',\n",
    "'BTI420429197',\n",
    "'BTI412267689',\n",
    "'BTI420482497',\n",
    "'BTI420527077',\n",
    "'BTI411825787',\n",
    "'BT2A410457345',\n",
    "'BT2A414505502',\n",
    "'BT2A421331411',\n",
    "'BT2A410315584',\n",
    "'BT2A412758021',\n",
    "'BT2A414610425',\n",
    "'BT2A410564455',\n",
    "'BT2A420103194',\n",
    "'BT2A411136693',\n",
    "'BT2A410711734',\n",
    "'BT2A411580720',\n",
    "'BT2A414583015',\n",
    "'BT2A411453683',\n",
    "'BT2A411063546',\n",
    "'BT2A413776819',\n",
    "'BT2A413528302',\n",
    "'BT2A410661427',\n",
    "'BT2A412377295',\n",
    "'BT2A413668708',\n",
    "'BT2A412541235',\n",
    "'BT2A414566994',\n",
    "'BT2A412008091',\n",
    "'BT2A414526295',\n",
    "'BT2A412538674',\n",
    "'BT2A420605940',\n",
    "'BT2A411062569',\n",
    "'BT2A413443943',\n",
    "'BT2A410444087',\n",
    "'BT2A420613277',\n",
    "'BT2A410496740',\n",
    "'BT2A420705641',\n",
    "'BT2A420475716',\n",
    "'BT2A410574718',\n",
    "'BTI411809956',\n",
    "'BTI414831145',\n",
    "'BTI413407334',\n",
    "'BTI410477555',\n",
    "'BTI411453527',\n",
    "'BTI413364204',\n",
    "'BTI412698296',\n",
    "'BTI410112094',\n",
    "'BTI412638230',\n",
    "'BTI413350969',\n",
    "'BTI412100275',\n",
    "'BTI410457561',\n",
    "'BTI412967061',\n",
    "'BTI414859200',\n",
    "'BTI410006988',\n",
    "'BTI413068551',\n",
    "'BTI410006819',\n",
    "'BTI411825785',\n",
    "'BTI410359670',\n",
    "'BTI411222548',\n",
    "'BTI412209092',\n",
    "'BTI420264098',\n",
    "'BTI410448557',\n",
    "'BTI412302780',\n",
    "'BTI414658651',\n",
    "'BTI410226095',\n",
    "'BTI412545359',\n",
    "'BTI410534924',\n",
    "'BTI410361683',\n",
    "'BTI412682801',\n",
    "'BTI410574836',\n",
    "'BTI413166493',\n",
    "'BTI410535049',\n",
    "'BTI421155328',\n",
    "'BTI410447394',\n",
    "'BTI410661510',\n",
    "'BTI413471703',\n",
    "'BTI420892281',\n",
    "'BTI411704862',\n",
    "'BTI412824153',\n",
    "'BTI411921607',\n",
    "'BTI411767210',\n",
    "'BTI414412826',\n",
    "'BTI411580594',\n",
    "'BTI414824799',\n",
    "'BTI411704725',\n",
    "'BTI410977542',\n",
    "'BTI421115262',\n",
    "'BTI411580726',\n",
    "'BTI410535240',\n",
    "'XXX'     ]"
   ]
  },
  {
   "cell_type": "markdown",
   "metadata": {},
   "source": [
    "#### Verifica quais instalações não possuem arquivos .csv"
   ]
  },
  {
   "cell_type": "code",
   "execution_count": 6,
   "metadata": {},
   "outputs": [
    {
     "data": {
      "text/plain": [
       "['XXX.csv']"
      ]
     },
     "execution_count": 6,
     "metadata": {},
     "output_type": "execute_result"
    }
   ],
   "source": [
    "not_found_installation_in_files(lf, fas_dir)"
   ]
  },
  {
   "cell_type": "markdown",
   "metadata": {},
   "source": [
    "#### Verifica o número de arquivos existentes numa pasta"
   ]
  },
  {
   "cell_type": "code",
   "execution_count": 7,
   "metadata": {},
   "outputs": [
    {
     "name": "stdout",
     "output_type": "stream",
     "text": [
      "1427\n"
     ]
    }
   ],
   "source": [
    "list_files = os.listdir(fas_dir) \n",
    "number_files = len(list_files)\n",
    "print (number_files)"
   ]
  },
  {
   "cell_type": "markdown",
   "metadata": {},
   "source": [
    "#### Verificar se os arquivos .csv que estão num determinado folder foram todos processados"
   ]
  },
  {
   "cell_type": "code",
   "execution_count": 8,
   "metadata": {},
   "outputs": [],
   "source": [
    "inst_df = pd.read_csv(output_dir+output_file)"
   ]
  },
  {
   "cell_type": "code",
   "execution_count": 9,
   "metadata": {},
   "outputs": [],
   "source": [
    "LISTAF = pd.read_csv('/home/ubuntu/data/data/maio_2019/setembro/lista-cad-pnt-20190820-faltantes.csv',names = COLS_LISTA, header=1)\n",
    "LISTAN = pd.read_csv('/home/ubuntu/data/data/maio_2019/setembro/lista-cad-pnt-20190820.csv',names = COLS_LISTA, header=1)\n",
    "LISTAT = pd.concat((LISTAF, LISTAN), axis=0)"
   ]
  },
  {
   "cell_type": "code",
   "execution_count": 11,
   "metadata": {},
   "outputs": [],
   "source": [
    "lista_cadastro = LISTAT['cliente']"
   ]
  },
  {
   "cell_type": "code",
   "execution_count": 12,
   "metadata": {},
   "outputs": [],
   "source": [
    "# lista de instalações resultantes no arquivo de saída do processamento P&D\n",
    "lista_new = inst_df['Nome'].unique().tolist()"
   ]
  },
  {
   "cell_type": "code",
   "execution_count": 13,
   "metadata": {},
   "outputs": [],
   "source": [
    "# lista de instalações com dados fasoriais a serem processados\n",
    "list_files = os.listdir(fas_dir) "
   ]
  },
  {
   "cell_type": "code",
   "execution_count": 14,
   "metadata": {},
   "outputs": [],
   "source": [
    "list_instal = [s.replace('.csv', '') for s in list_files]"
   ]
  },
  {
   "cell_type": "code",
   "execution_count": 15,
   "metadata": {},
   "outputs": [
    {
     "data": {
      "text/plain": [
       "1427"
      ]
     },
     "execution_count": 15,
     "metadata": {},
     "output_type": "execute_result"
    }
   ],
   "source": [
    "len(list_instal)"
   ]
  },
  {
   "cell_type": "code",
   "execution_count": 16,
   "metadata": {},
   "outputs": [
    {
     "data": {
      "text/plain": [
       "1424"
      ]
     },
     "execution_count": 16,
     "metadata": {},
     "output_type": "execute_result"
    }
   ],
   "source": [
    "len(lista_new)"
   ]
  },
  {
   "cell_type": "code",
   "execution_count": 18,
   "metadata": {},
   "outputs": [],
   "source": [
    "# checa quais arquivos .csv da pasta de dados fasoriais não gerou resultado no processamento P&D\n",
    "list_not_found = set(list_instal)-set(lista_new)"
   ]
  },
  {
   "cell_type": "code",
   "execution_count": 23,
   "metadata": {},
   "outputs": [
    {
     "data": {
      "text/plain": [
       "{'.ipynb_checkpoints', 'BTI400073539', 'BTI411177604'}"
      ]
     },
     "execution_count": 23,
     "metadata": {},
     "output_type": "execute_result"
    }
   ],
   "source": [
    "# verificar os arquivos .csv não processados que não estão na lista de cadastro\n",
    "set(list_not_found)-set(lista_cadastro)"
   ]
  },
  {
   "cell_type": "code",
   "execution_count": null,
   "metadata": {},
   "outputs": [],
   "source": []
  }
 ],
 "metadata": {
  "kernelspec": {
   "display_name": "tf",
   "language": "python",
   "name": "tf"
  },
  "language_info": {
   "codemirror_mode": {
    "name": "ipython",
    "version": 3
   },
   "file_extension": ".py",
   "mimetype": "text/x-python",
   "name": "python",
   "nbconvert_exporter": "python",
   "pygments_lexer": "ipython3",
   "version": "3.6.5"
  }
 },
 "nbformat": 4,
 "nbformat_minor": 2
}
