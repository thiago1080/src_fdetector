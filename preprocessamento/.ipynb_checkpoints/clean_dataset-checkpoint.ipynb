{
 "cells": [
  {
   "cell_type": "markdown",
   "metadata": {},
   "source": [
    "## l_______________________________________________________________________"
   ]
  },
  {
   "cell_type": "code",
   "execution_count": 1,
   "metadata": {},
   "outputs": [
    {
     "name": "stderr",
     "output_type": "stream",
     "text": [
      "Using TensorFlow backend.\n"
     ]
    }
   ],
   "source": [
    "import json\n",
    "import os\n",
    "import pandas as pd\n",
    "from genData import load_model\n",
    "import re\n",
    "import numpy as np\n",
    "import pickle\n",
    "\n",
    "from importlib import reload\n",
    "import mainlib\n",
    "reload(mainlib)\n",
    "import A_base as ab\n",
    "reload(ab)\n",
    "from  mainlib import fasorial, lista, sdict, mm, mm_sep\n",
    "\n",
    "\n",
    "import collections\n",
    "import of_proc\n",
    "reload(of_proc)\n",
    "from of_proc import *"
   ]
  },
  {
   "cell_type": "markdown",
   "metadata": {},
   "source": [
    "# Informações"
   ]
  },
  {
   "cell_type": "code",
   "execution_count": 2,
   "metadata": {},
   "outputs": [],
   "source": [
    "def read_info(path = '../info/info.json'):\n",
    "    global PATH, OUTPUT_PATH, PROCESSED_PATH, PERFIS_PATH, HORARIOS_PATH, PATH_MM, PATH_FAS, \\\n",
    "    DEG, MOR, PER, FAS, OUTPUT_HEADER,FAS_CONCAT, MM_CONCAT, PICKLES_CONCAT, OUT_INDEX\n",
    "    with open(path) as f:\n",
    "        info = json.load(f)\n",
    "        PATH = info['paths']['fasoriais']['input']\n",
    "        OUTPUT_PATH = info['paths']['fasoriais']['output']\n",
    "        PROCESSED_PATH = info['paths']['fasoriais']['processed']\n",
    "        PERFIS_PATH = info['paths']['perfis']['perfis']\n",
    "        HORARIOS_PATH = info['paths']['perfis']['horarios']\n",
    "        PATH_MM = info['paths']['mm']['input']\n",
    "        PATH_FAS = info['paths']['fasoriais']['input']\n",
    "        DEG = info['paths']['nn_models']['degrau']\n",
    "        MOR = info['paths']['nn_models']['morro']\n",
    "        PER = info['paths']['nn_models']['perfil']\n",
    "        FAS = info['paths']['nn_models']['fasorial']\n",
    "        FAS_CONCAT =  info['paths']['concat']['fas']\n",
    "        MM_CONCAT =  info['paths']['concat']['mm'] \n",
    "        PICKLES_CONCAT=  info['paths']['concat']['pickles']        \n",
    "        OUTPUT_HEADER = info['output']['header']\n",
    "        OUT_INDEX = info['output']['header']"
   ]
  },
  {
   "cell_type": "code",
   "execution_count": 3,
   "metadata": {},
   "outputs": [],
   "source": [
    "read_info()"
   ]
  },
  {
   "cell_type": "code",
   "execution_count": 4,
   "metadata": {},
   "outputs": [],
   "source": [
    "OUT_CONCAT = '../outputs/concat/'\n",
    "OUT = '../outputs/all/'"
   ]
  },
  {
   "cell_type": "code",
   "execution_count": 5,
   "metadata": {},
   "outputs": [],
   "source": [
    "#preguiça -- arrumar\n",
    "out_index = OUT_INDEX"
   ]
  },
  {
   "cell_type": "markdown",
   "metadata": {},
   "source": [
    "### Carregar modelos neurais"
   ]
  },
  {
   "cell_type": "markdown",
   "metadata": {},
   "source": [
    "# Coleções principais"
   ]
  },
  {
   "cell_type": "markdown",
   "metadata": {},
   "source": [
    "#### Lista principal"
   ]
  },
  {
   "cell_type": "code",
   "execution_count": 6,
   "metadata": {},
   "outputs": [],
   "source": [
    "global LISTA_CAD"
   ]
  },
  {
   "cell_type": "markdown",
   "metadata": {},
   "source": [
    "#### Modelos neurais"
   ]
  },
  {
   "cell_type": "code",
   "execution_count": 7,
   "metadata": {},
   "outputs": [
    {
     "data": {
      "text/plain": [
       "'../models/r2-DS110k-bs64-c11/r2-DS110k-bs64-c11'"
      ]
     },
     "execution_count": 7,
     "metadata": {},
     "output_type": "execute_result"
    }
   ],
   "source": [
    "PER"
   ]
  },
  {
   "cell_type": "code",
   "execution_count": 8,
   "metadata": {},
   "outputs": [],
   "source": [
    "FAS = '../../fdetector/models/rn_hc_and/rn_hc_and'"
   ]
  },
  {
   "cell_type": "code",
   "execution_count": 9,
   "metadata": {},
   "outputs": [
    {
     "name": "stdout",
     "output_type": "stream",
     "text": [
      "WARNING:tensorflow:From /home/ubuntu/anaconda3/envs/tensorflow_p36/lib/python3.6/site-packages/tensorflow/python/framework/op_def_library.py:263: colocate_with (from tensorflow.python.framework.ops) is deprecated and will be removed in a future version.\n",
      "Instructions for updating:\n",
      "Colocations handled automatically by placer.\n"
     ]
    }
   ],
   "source": [
    "global PERFIL, DEGRAU, MORRO, NN_FAS\n",
    "PERFIL, DEGRAU, MORRO, NN_FAS = load_models(PER, DEG, MOR, FAS)"
   ]
  },
  {
   "cell_type": "markdown",
   "metadata": {},
   "source": [
    "#### Arquivos"
   ]
  },
  {
   "cell_type": "code",
   "execution_count": 10,
   "metadata": {},
   "outputs": [],
   "source": [
    "global files_fas, files_mm"
   ]
  },
  {
   "cell_type": "markdown",
   "metadata": {},
   "source": [
    "#### Perfis e horários"
   ]
  },
  {
   "cell_type": "code",
   "execution_count": 11,
   "metadata": {},
   "outputs": [],
   "source": [
    "global HORARIOS, PERFIS, ATIVS, DPERFIS, DPERFIS_NORMAL, DPERFIS_TROCA"
   ]
  },
  {
   "cell_type": "markdown",
   "metadata": {},
   "source": [
    "#### Estruturas auxiliares"
   ]
  },
  {
   "cell_type": "code",
   "execution_count": 12,
   "metadata": {},
   "outputs": [],
   "source": [
    "global dim, dmi, df_fas, dfiles_mm, dfiles_fas_troca, dfiles_mm_troca, dfiles_fas_normal, dfiles_mm_normal\n",
    "global o_i_normal, o_i_troca, o_instas, list_i_normal, list_i_troca, list_intas"
   ]
  },
  {
   "cell_type": "markdown",
   "metadata": {},
   "source": [
    "## Lista de medidores e lista por horários"
   ]
  },
  {
   "cell_type": "code",
   "execution_count": 13,
   "metadata": {},
   "outputs": [],
   "source": [
    "LISTA_CAD = get_list()"
   ]
  },
  {
   "cell_type": "code",
   "execution_count": 14,
   "metadata": {},
   "outputs": [],
   "source": [
    "HORARIOS, PERFIS, ATIVS = get_horario_info()"
   ]
  },
  {
   "cell_type": "markdown",
   "metadata": {},
   "source": [
    "### Dicionários e listas"
   ]
  },
  {
   "cell_type": "code",
   "execution_count": 15,
   "metadata": {},
   "outputs": [],
   "source": [
    "dim, dmi = dicts(LISTA_CAD)"
   ]
  },
  {
   "cell_type": "code",
   "execution_count": 16,
   "metadata": {},
   "outputs": [],
   "source": [
    "#gls i_normal -> instalações normal\n",
    "# i_troca -> instalações com troca\n",
    "#o_i_normal -> ordenado instalações normal\n",
    "o_i_normal = collections.OrderedDict(sorted(LISTA_CAD.get_users(index = 'instalacao', troca=0,tipo='dictionary').items()))\n",
    "o_i_troca = collections.OrderedDict(sorted(LISTA_CAD.get_users(index = 'instalacao', troca=1,tipo='dictionary').items()))\n",
    "o_instas =  collections.OrderedDict(sorted({**o_i_normal, **o_i_troca}.items()))"
   ]
  },
  {
   "cell_type": "markdown",
   "metadata": {},
   "source": [
    "##### Dicionário com os horário de funcionamento de cada cliente"
   ]
  },
  {
   "cell_type": "code",
   "execution_count": 17,
   "metadata": {},
   "outputs": [],
   "source": [
    "DPERFIS = sdict()\n",
    "for i in PERFIS.index:\n",
    "    j = PERFIS.loc[i,'Ramo de Atividade']\n",
    "    if HORARIOS.index.contains(j):\n",
    "        DPERFIS[i] = list(HORARIOS.loc[j,:])\n",
    "    else:\n",
    "        DPERFIS[i] = list(HORARIOS.iloc[0,:])\n",
    "\n",
    "DPERFIS_NORMAL={}\n",
    "for i in DPERFIS:\n",
    "    if i in o_i_normal:\n",
    "        DPERFIS_NORMAL[i] = o_i_normal[i]\n",
    "\n",
    "DPERFIS_TROCA={}\n",
    "for i in DPERFIS:\n",
    "    if i in o_i_troca:\n",
    "        DPERFIS_TROCA[i] = o_i_troca[i]"
   ]
  },
  {
   "cell_type": "code",
   "execution_count": 18,
   "metadata": {},
   "outputs": [],
   "source": [
    "dfiles_fas, nf_fas=get_files_3(list(o_i_normal.keys()), dim,  PATH_FAS)\n",
    "dfiles_mm, nf_mm = get_files_3(list(o_i_normal.keys()),dim , PATH_MM)"
   ]
  },
  {
   "cell_type": "code",
   "execution_count": 19,
   "metadata": {},
   "outputs": [],
   "source": [
    "dfiles_fas2 = deslistar(dfiles_fas)\n",
    "dfiles_mm2 = deslistar(dfiles_mm)"
   ]
  },
  {
   "cell_type": "code",
   "execution_count": 20,
   "metadata": {},
   "outputs": [],
   "source": [
    "dfiles_fas_concat, nf_fas_concat = get_files_2( list(o_i_troca.keys()), FAS_CONCAT)\n",
    "dfiles_mm_concat, nf_mm_concat = get_files_2( list(o_i_troca.keys()), MM_CONCAT)"
   ]
  },
  {
   "cell_type": "markdown",
   "metadata": {},
   "source": [
    "## l_______________________________________________________________________"
   ]
  },
  {
   "cell_type": "code",
   "execution_count": 21,
   "metadata": {},
   "outputs": [],
   "source": [
    "#Criar dicionario de categorias\n",
    "HORARIOS_PATH = '/home/ubuntu/data/data/maio_2019/horarios_v3.csv'\n",
    "horarios = pd.read_csv(HORARIOS_PATH, sep=',')\n",
    "dfcat = horarios.iloc[:,:2]\n",
    "dfcat.set_index('nome',inplace=True)\n",
    "scat = dfcat['cat']\n",
    "dcat = scat.to_dict()"
   ]
  },
  {
   "cell_type": "code",
   "execution_count": 22,
   "metadata": {},
   "outputs": [],
   "source": [
    "ATIV = '/home/ubuntu/data/data/maio_2019/atividade_atividade_v2.csv'\n",
    "dfativ = pd.read_csv(ATIV, sep=';', names = ['ramo', 'perfil'])\n",
    "dfativ.set_index('ramo', inplace=True)\n",
    "a2p = dfativ.loc[:,'perfil'].T.to_dict()\n",
    "p2a = dict((v,k) for k,v in a2p.items())"
   ]
  },
  {
   "cell_type": "code",
   "execution_count": 23,
   "metadata": {},
   "outputs": [
    {
     "data": {
      "text/html": [
       "<div>\n",
       "<style scoped>\n",
       "    .dataframe tbody tr th:only-of-type {\n",
       "        vertical-align: middle;\n",
       "    }\n",
       "\n",
       "    .dataframe tbody tr th {\n",
       "        vertical-align: top;\n",
       "    }\n",
       "\n",
       "    .dataframe thead th {\n",
       "        text-align: right;\n",
       "    }\n",
       "</style>\n",
       "<table border=\"1\" class=\"dataframe\">\n",
       "  <thead>\n",
       "    <tr style=\"text-align: right;\">\n",
       "      <th></th>\n",
       "      <th>Unnamed: 0</th>\n",
       "      <th>ID_INST_BI</th>\n",
       "      <th>CPF_CNPJ</th>\n",
       "      <th>Razao Social</th>\n",
       "      <th>Endereco Cadastro</th>\n",
       "      <th>Ramo de Atividade</th>\n",
       "      <th>cluster</th>\n",
       "      <th>cat</th>\n",
       "    </tr>\n",
       "    <tr>\n",
       "      <th>CLIENTE/INSTALAÇÃO</th>\n",
       "      <th></th>\n",
       "      <th></th>\n",
       "      <th></th>\n",
       "      <th></th>\n",
       "      <th></th>\n",
       "      <th></th>\n",
       "      <th></th>\n",
       "      <th></th>\n",
       "    </tr>\n",
       "  </thead>\n",
       "  <tbody>\n",
       "  </tbody>\n",
       "</table>\n",
       "</div>"
      ],
      "text/plain": [
       "Empty DataFrame\n",
       "Columns: [Unnamed: 0, ID_INST_BI, CPF_CNPJ, Razao Social, Endereco Cadastro, Ramo de Atividade, cluster, cat]\n",
       "Index: []"
      ]
     },
     "execution_count": 23,
     "metadata": {},
     "output_type": "execute_result"
    }
   ],
   "source": [
    "PERFIS[~PERFIS.loc[:,'cluster'].isin(horarios.loc[:,'nome'])]"
   ]
  },
  {
   "cell_type": "markdown",
   "metadata": {},
   "source": [
    "## l_______________________________________________________________________"
   ]
  },
  {
   "cell_type": "code",
   "execution_count": 24,
   "metadata": {},
   "outputs": [],
   "source": [
    "dfiles_fas_concat = get_files_troca(dfiles_fas_concat)"
   ]
  },
  {
   "cell_type": "code",
   "execution_count": 25,
   "metadata": {},
   "outputs": [],
   "source": [
    "dfiles_mm_concat= get_files_troca(dfiles_mm_concat)"
   ]
  },
  {
   "cell_type": "code",
   "execution_count": 26,
   "metadata": {},
   "outputs": [],
   "source": [
    "odf_concat = collections.OrderedDict(sorted(dfiles_fas_concat.items()))"
   ]
  },
  {
   "cell_type": "code",
   "execution_count": 27,
   "metadata": {},
   "outputs": [],
   "source": [
    "odmm_concat = collections.OrderedDict(sorted(dfiles_mm_concat.items()))"
   ]
  },
  {
   "cell_type": "code",
   "execution_count": 28,
   "metadata": {},
   "outputs": [],
   "source": [
    "# Criar um dicionário único para todos os caminhos de arquivos\n",
    "ddirs={}\n",
    "ddirsn={}\n",
    "ddirst={}\n",
    "for u,v in dfiles_fas2.items():\n",
    "    ddirs[u] = os.path.join(PATH_FAS,v)\n",
    "    ddirsn[u] = os.path.join(PATH_FAS,v)\n",
    "for u,v in dfiles_fas_concat.items():\n",
    "    if u in ddirs:\n",
    "        print('Warning. Instalacao repetida')\n",
    "    ddirs[u] = os.path.join(FAS_CONCAT, v)\n",
    "    ddirst[u] = os.path.join(FAS_CONCAT, v)"
   ]
  },
  {
   "cell_type": "markdown",
   "metadata": {},
   "source": [
    "## l_______________________________________________________________________"
   ]
  },
  {
   "cell_type": "code",
   "execution_count": 29,
   "metadata": {},
   "outputs": [],
   "source": [
    "gt = pd.read_csv('../data/groundtruth.csv',sep=';',index_col=0)"
   ]
  },
  {
   "cell_type": "code",
   "execution_count": 30,
   "metadata": {},
   "outputs": [
    {
     "data": {
      "text/plain": [
       "['BT2A400029491',\n",
       " 'BT2A400052752',\n",
       " 'BT2A400076570',\n",
       " 'BT2A400085880',\n",
       " 'BT2A400086258',\n",
       " 'BT2A400087220',\n",
       " 'BT2A400087475',\n",
       " 'BT2A400090174',\n",
       " 'BT2A400090581',\n",
       " 'BT2A400091375',\n",
       " 'BT2A400112070',\n",
       " 'BT2A400112755',\n",
       " 'BT2A400112780',\n",
       " 'BT2A400113395',\n",
       " 'BT2A400114375',\n",
       " 'BT2A400120650',\n",
       " 'BT2A400122009',\n",
       " 'BT2A400128350',\n",
       " 'BT2A400128660',\n",
       " 'BT2A400132241',\n",
       " 'BT2A400132586',\n",
       " 'BT2A400136190',\n",
       " 'BT2A400142026',\n",
       " 'BT2A400148687',\n",
       " 'BT2A400151270',\n",
       " 'BT2A400151653',\n",
       " 'BT2A400163066',\n",
       " 'BT2A400168025',\n",
       " 'BT2A400173240',\n",
       " 'BT2A400173975',\n",
       " 'BT2A400180041',\n",
       " 'BT2A400198277',\n",
       " 'BT2A400295302',\n",
       " 'BT2A400299006',\n",
       " 'BT2A400299197',\n",
       " 'BT2A400300268',\n",
       " 'BT2A400316253',\n",
       " 'BT2A400332330',\n",
       " 'BT2A400350923',\n",
       " 'BT2A400358835',\n",
       " 'BT2A400358851',\n",
       " 'BT2A400400912',\n",
       " 'BT2A410002173',\n",
       " 'BT2A410002176',\n",
       " 'BT2A410004753',\n",
       " 'BT2A410005451',\n",
       " 'BT2A410021103',\n",
       " 'BT2A410032592',\n",
       " 'BT2A410077136',\n",
       " 'BT2A410114622',\n",
       " 'BT2A410134701',\n",
       " 'BT2A410137764',\n",
       " 'BT2A410142362',\n",
       " 'BT2A410142949',\n",
       " 'BT2A410143266',\n",
       " 'BT2A410164652',\n",
       " 'BT2A410165326',\n",
       " 'BT2A410166770',\n",
       " 'BT2A410172714',\n",
       " 'BT2A410178359',\n",
       " 'BT2A410181145',\n",
       " 'BT2A410196964',\n",
       " 'BT2A410217647',\n",
       " 'BT2A410225954',\n",
       " 'BT2A410226022',\n",
       " 'BT2A410226230',\n",
       " 'BT2A410230388',\n",
       " 'BT2A410234946',\n",
       " 'BT2A410240902',\n",
       " 'BT2A410249565',\n",
       " 'BT2A410270794',\n",
       " 'BT2A410295490',\n",
       " 'BT2A410298153',\n",
       " 'BT2A410309337',\n",
       " 'BT2A410320324',\n",
       " 'BT2A410326823',\n",
       " 'BT2A410338205',\n",
       " 'BT2A410394364',\n",
       " 'BT2A410401570',\n",
       " 'BT2A410423077',\n",
       " 'BT2A410444627',\n",
       " 'BT2A410444628',\n",
       " 'BT2A410464999',\n",
       " 'BT2A410468237',\n",
       " 'BT2A410476105',\n",
       " 'BT2A410501458',\n",
       " 'BT2A410515883',\n",
       " 'BT2A410528753',\n",
       " 'BT2A410532935',\n",
       " 'BT2A410541757',\n",
       " 'BT2A410580826',\n",
       " 'BT2A410581765',\n",
       " 'BT2A410598091',\n",
       " 'BT2A410603847',\n",
       " 'BT2A410625200',\n",
       " 'BT2A410627424',\n",
       " 'BT2A410632946',\n",
       " 'BT2A410714430',\n",
       " 'BT2A410740227',\n",
       " 'BT2A410750572',\n",
       " 'BT2A410752279',\n",
       " 'BT2A410753120',\n",
       " 'BT2A410754380',\n",
       " 'BT2A410755422',\n",
       " 'BT2A410764766',\n",
       " 'BT2A410766613',\n",
       " 'BT2A410766834',\n",
       " 'BT2A410767588',\n",
       " 'BT2A410770008',\n",
       " 'BT2A410772713',\n",
       " 'BT2A410799690',\n",
       " 'BT2A410804593',\n",
       " 'BT2A410808556',\n",
       " 'BT2A410817435',\n",
       " 'BT2A410827142',\n",
       " 'BT2A410842441',\n",
       " 'BT2A410842461',\n",
       " 'BT2A410850404',\n",
       " 'BT2A410874753',\n",
       " 'BT2A410891910',\n",
       " 'BT2A410897129',\n",
       " 'BT2A410900194',\n",
       " 'BT2A410902826',\n",
       " 'BT2A410905316',\n",
       " 'BT2A410913798',\n",
       " 'BT2A410925094',\n",
       " 'BT2A410927080',\n",
       " 'BT2A410961256',\n",
       " 'BT2A410961278',\n",
       " 'BT2A410999958',\n",
       " 'BT2A411004234',\n",
       " 'BT2A411035426',\n",
       " 'BT2A411055746',\n",
       " 'BT2A411056581',\n",
       " 'BT2A411056614',\n",
       " 'BT2A411056797',\n",
       " 'BT2A411066211',\n",
       " 'BT2A411079354',\n",
       " 'BT2A411099833',\n",
       " 'BT2A411103464',\n",
       " 'BT2A411110653',\n",
       " 'BT2A411127726',\n",
       " 'BT2A411147212',\n",
       " 'BT2A411172929',\n",
       " 'BT2A411175638',\n",
       " 'BT2A411178132',\n",
       " 'BT2A411190775',\n",
       " 'BT2A411212237',\n",
       " 'BT2A411227473',\n",
       " 'BT2A411249306',\n",
       " 'BT2A411274687',\n",
       " 'BT2A411276226',\n",
       " 'BT2A411304422',\n",
       " 'BT2A411309072',\n",
       " 'BT2A411312909',\n",
       " 'BT2A411357354',\n",
       " 'BT2A411365486',\n",
       " 'BT2A411372674',\n",
       " 'BT2A411383133',\n",
       " 'BT2A411388276',\n",
       " 'BT2A411388483',\n",
       " 'BT2A411388876',\n",
       " 'BT2A411389323',\n",
       " 'BT2A411389919',\n",
       " 'BT2A411390044',\n",
       " 'BT2A411395748',\n",
       " 'BT2A411395804',\n",
       " 'BT2A411396706',\n",
       " 'BT2A411398995',\n",
       " 'BT2A411416299',\n",
       " 'BT2A411428531',\n",
       " 'BT2A411444222',\n",
       " 'BT2A411455807',\n",
       " 'BT2A411481181',\n",
       " 'BT2A411481327',\n",
       " 'BT2A411482227',\n",
       " 'BT2A411482280',\n",
       " 'BT2A411483417',\n",
       " 'BT2A411490400',\n",
       " 'BT2A411547716',\n",
       " 'BT2A411571527',\n",
       " 'BT2A411571583',\n",
       " 'BT2A411591679',\n",
       " 'BT2A411606500',\n",
       " 'BT2A411607914',\n",
       " 'BT2A411615602',\n",
       " 'BT2A411652666',\n",
       " 'BT2A411655028',\n",
       " 'BT2A411662116',\n",
       " 'BT2A411663046',\n",
       " 'BT2A411674078',\n",
       " 'BT2A411676712',\n",
       " 'BT2A411683588',\n",
       " 'BT2A411704140',\n",
       " 'BT2A411721830',\n",
       " 'BT2A411738935',\n",
       " 'BT2A411743787',\n",
       " 'BT2A411750190',\n",
       " 'BT2A411755547',\n",
       " 'BT2A411758054',\n",
       " 'BT2A411793363',\n",
       " 'BT2A411828054',\n",
       " 'BT2A411873786',\n",
       " 'BT2A411886356',\n",
       " 'BT2A411889342',\n",
       " 'BT2A411938271',\n",
       " 'BT2A411942235',\n",
       " 'BT2A411951152',\n",
       " 'BT2A412038715',\n",
       " 'BT2A412073553',\n",
       " 'BT2A412111792',\n",
       " 'BT2A412120932',\n",
       " 'BT2A412195161',\n",
       " 'BT2A412215776',\n",
       " 'BT2A412244472',\n",
       " 'BT2A412274408',\n",
       " 'BT2A412300880',\n",
       " 'BT2A412309233',\n",
       " 'BT2A412318062',\n",
       " 'BT2A412331484',\n",
       " 'BT2A412359698',\n",
       " 'BT2A412366809',\n",
       " 'BT2A412436059',\n",
       " 'BT2A412447013',\n",
       " 'BT2A412462920',\n",
       " 'BT2A412543213',\n",
       " 'BT2A412551987',\n",
       " 'BT2A412558960',\n",
       " 'BT2A412564970',\n",
       " 'BT2A412569338',\n",
       " 'BT2A412594717',\n",
       " 'BT2A412609491',\n",
       " 'BT2A412614415',\n",
       " 'BT2A412616262',\n",
       " 'BT2A412637490',\n",
       " 'BT2A412655539',\n",
       " 'BT2A412669828',\n",
       " 'BT2A412673568',\n",
       " 'BT2A412683420',\n",
       " 'BT2A412686216',\n",
       " 'BT2A412688227',\n",
       " 'BT2A412689418',\n",
       " 'BT2A412700070',\n",
       " 'BT2A412712838',\n",
       " 'BT2A412716144',\n",
       " 'BT2A412732148',\n",
       " 'BT2A412733774',\n",
       " 'BT2A412753964',\n",
       " 'BT2A412767166',\n",
       " 'BT2A412777304',\n",
       " 'BT2A412791734',\n",
       " 'BT2A412795210',\n",
       " 'BT2A412822430',\n",
       " 'BT2A412837843',\n",
       " 'BT2A412848249',\n",
       " 'BT2A412888969',\n",
       " 'BT2A412894362',\n",
       " 'BT2A412916160',\n",
       " 'BT2A412917765',\n",
       " 'BT2A412930062',\n",
       " 'BT2A412931120',\n",
       " 'BT2A412961964',\n",
       " 'BT2A412965286',\n",
       " 'BT2A412974221',\n",
       " 'BT2A412996296',\n",
       " 'BT2A413028840',\n",
       " 'BT2A413033701',\n",
       " 'BT2A413044072',\n",
       " 'BT2A413045278',\n",
       " 'BT2A413059429',\n",
       " 'BT2A413065740',\n",
       " 'BT2A413065980',\n",
       " 'BT2A413095441',\n",
       " 'BT2A413108890',\n",
       " 'BT2A413109488',\n",
       " 'BT2A413116829',\n",
       " 'BT2A413118999',\n",
       " 'BT2A413126001',\n",
       " 'BT2A413128044',\n",
       " 'BT2A413131840',\n",
       " 'BT2A413134875',\n",
       " 'BT2A413144022',\n",
       " 'BT2A413145264',\n",
       " 'BT2A413158893',\n",
       " 'BT2A413173729',\n",
       " 'BT2A413174976',\n",
       " 'BT2A413193816',\n",
       " 'BT2A413249874',\n",
       " 'BT2A413251033',\n",
       " 'BT2A413336990',\n",
       " 'BT2A413350460',\n",
       " 'BT2A413383230',\n",
       " 'BT2A413390132',\n",
       " 'BT2A413401983',\n",
       " 'BT2A413408475',\n",
       " 'BT2A413427613',\n",
       " 'BT2A413447708',\n",
       " 'BT2A413451911',\n",
       " 'BT2A413459356',\n",
       " 'BT2A413486366',\n",
       " 'BT2A413494835',\n",
       " 'BT2A413504172',\n",
       " 'BT2A413506725',\n",
       " 'BT2A413509589',\n",
       " 'BT2A413551294',\n",
       " 'BT2A413560961',\n",
       " 'BT2A413567553',\n",
       " 'BT2A413579184',\n",
       " 'BT2A413590865',\n",
       " 'BT2A413591984',\n",
       " 'BT2A413595767',\n",
       " 'BT2A413644543',\n",
       " 'BT2A413659460',\n",
       " 'BT2A413660917',\n",
       " 'BT2A413667195',\n",
       " 'BT2A413668954',\n",
       " 'BT2A413684329',\n",
       " 'BT2A413710834',\n",
       " 'BT2A413751970',\n",
       " 'BT2A413755537',\n",
       " 'BT2A413770125',\n",
       " 'BT2A413776189',\n",
       " 'BT2A413835019',\n",
       " 'BT2A413839798',\n",
       " 'BT2A413877221',\n",
       " 'BT2A414011910',\n",
       " 'BT2A414150284',\n",
       " 'BT2A414186028',\n",
       " 'BT2A414223481',\n",
       " 'BT2A414224357',\n",
       " 'BT2A414301101',\n",
       " 'BT2A414351855',\n",
       " 'BT2A414352060',\n",
       " 'BT2A414387080',\n",
       " 'BT2A414387177',\n",
       " 'BT2A414421120',\n",
       " 'BT2A414422865',\n",
       " 'BT2A414528661',\n",
       " 'BT2A414559499',\n",
       " 'BT2A414564229',\n",
       " 'BT2A414568612',\n",
       " 'BT2A414571838',\n",
       " 'BT2A414578752',\n",
       " 'BT2A414581657',\n",
       " 'BT2A414589494',\n",
       " 'BT2A414590137',\n",
       " 'BT2A414616976',\n",
       " 'BT2A414625254',\n",
       " 'BT2A414626745',\n",
       " 'BT2A414636444',\n",
       " 'BT2A414650014',\n",
       " 'BT2A414684943',\n",
       " 'BT2A414702941',\n",
       " 'BT2A414709702',\n",
       " 'BT2A414720785',\n",
       " 'BT2A414737110',\n",
       " 'BT2A414738842',\n",
       " 'BT2A414772931',\n",
       " 'BT2A414817037',\n",
       " 'BT2A414835586',\n",
       " 'BT2A414870109',\n",
       " 'BT2A414887475',\n",
       " 'BT2A414918030',\n",
       " 'BT2A420002013',\n",
       " 'BT2A420002437',\n",
       " 'BT2A420061826',\n",
       " 'BT2A420074389',\n",
       " 'BT2A420080850',\n",
       " 'BT2A420080865',\n",
       " 'BT2A420083319',\n",
       " 'BT2A420096420',\n",
       " 'BT2A420116863',\n",
       " 'BT2A420119924',\n",
       " 'BT2A420128560',\n",
       " 'BT2A420155081',\n",
       " 'BT2A420168618',\n",
       " 'BT2A420200416',\n",
       " 'BT2A420210013',\n",
       " 'BT2A420218930',\n",
       " 'BT2A420230245',\n",
       " 'BT2A420240575',\n",
       " 'BT2A420242760',\n",
       " 'BT2A420243020',\n",
       " 'BT2A420244071',\n",
       " 'BT2A420291885',\n",
       " 'BT2A420322954',\n",
       " 'BT2A420326013',\n",
       " 'BT2A420337239',\n",
       " 'BT2A420355305',\n",
       " 'BT2A420372892',\n",
       " 'BT2A420373530',\n",
       " 'BT2A420404036',\n",
       " 'BT2A420409634',\n",
       " 'BT2A420415794',\n",
       " 'BT2A420419331',\n",
       " 'BT2A420441949',\n",
       " 'BT2A420444595',\n",
       " 'BT2A420448122',\n",
       " 'BT2A420475251',\n",
       " 'BT2A420480245',\n",
       " 'BT2A420484791',\n",
       " 'BT2A420485288',\n",
       " 'BT2A420485685',\n",
       " 'BT2A420497152',\n",
       " 'BT2A420504542',\n",
       " 'BT2A420511538',\n",
       " 'BT2A420518335',\n",
       " 'BT2A420531740',\n",
       " 'BT2A420533460',\n",
       " 'BT2A420551922',\n",
       " 'BT2A420565355',\n",
       " 'BT2A420585191',\n",
       " 'BT2A420593100',\n",
       " 'BT2A420595891',\n",
       " 'BT2A420597709',\n",
       " 'BT2A420604742',\n",
       " 'BT2A420629698',\n",
       " 'BT2A420630168',\n",
       " 'BT2A420647600',\n",
       " 'BT2A420659424',\n",
       " 'BT2A420685918',\n",
       " 'BT2A420686103',\n",
       " 'BT2A420686107',\n",
       " 'BT2A420700047',\n",
       " 'BT2A420713177',\n",
       " 'BT2A420727874',\n",
       " 'BT2A420783013',\n",
       " 'BT2A420802172',\n",
       " 'BT2A420803980',\n",
       " 'BT2A420813513',\n",
       " 'BT2A420815689',\n",
       " 'BT2A420832716',\n",
       " 'BT2A420848583',\n",
       " 'BT2A420853747',\n",
       " 'BT2A420860089',\n",
       " 'BT2A420888362',\n",
       " 'BT2A420899764',\n",
       " 'BT2A420947098',\n",
       " 'BT2A420947100',\n",
       " 'BT2A420980665',\n",
       " 'BT2A421020458',\n",
       " 'BT2A421046787',\n",
       " 'BT2A421063397',\n",
       " 'BT2A421116300',\n",
       " 'BT2A421146544',\n",
       " 'BT2A421147557',\n",
       " 'BT2A421150828',\n",
       " 'BT2A421151266',\n",
       " 'BT2A421213678',\n",
       " 'BT2A421222740',\n",
       " 'BT2A421228552',\n",
       " 'BT2A421235350',\n",
       " 'BT2A421270470',\n",
       " 'BT2A421296420',\n",
       " 'BT2A421297255',\n",
       " 'BT2A421313387',\n",
       " 'BTI400021288',\n",
       " 'BTI400021385',\n",
       " 'BTI400024783',\n",
       " 'BTI400024805',\n",
       " 'BTI400025976',\n",
       " 'BTI400027413',\n",
       " 'BTI400027502',\n",
       " 'BTI400027782',\n",
       " 'BTI400027839',\n",
       " 'BTI400027855',\n",
       " 'BTI400028690',\n",
       " 'BTI400028924',\n",
       " 'BTI400029050',\n",
       " 'BTI400046213',\n",
       " 'BTI400047449',\n",
       " 'BTI400049522',\n",
       " 'BTI400053350',\n",
       " 'BTI400054712',\n",
       " 'BTI400054801',\n",
       " 'BTI400054950',\n",
       " 'BTI400055433',\n",
       " 'BTI400056090',\n",
       " 'BTI400059234',\n",
       " 'BTI400064564',\n",
       " 'BTI400064700',\n",
       " 'BTI400064769',\n",
       " 'BTI400065102',\n",
       " 'BTI400067091',\n",
       " 'BTI400068780',\n",
       " 'BTI400070610',\n",
       " 'BTI400073350',\n",
       " 'BTI400073458',\n",
       " 'BTI400075396',\n",
       " 'BTI400076520',\n",
       " 'BTI400080012',\n",
       " 'BTI400080195',\n",
       " 'BTI400080268',\n",
       " 'BTI400080373',\n",
       " 'BTI400083020',\n",
       " 'BTI400083860',\n",
       " 'BTI400084301',\n",
       " 'BTI400084328',\n",
       " 'BTI400085111',\n",
       " 'BTI400085391',\n",
       " 'BTI400087440',\n",
       " 'BTI400087661',\n",
       " 'BTI400088196',\n",
       " 'BTI400088285',\n",
       " 'BTI400088994',\n",
       " 'BTI400090131',\n",
       " 'BTI400090590',\n",
       " 'BTI400091588',\n",
       " 'BTI400092282',\n",
       " 'BTI400094285',\n",
       " 'BTI400094358',\n",
       " 'BTI400098787',\n",
       " 'BTI400099040',\n",
       " 'BTI400099350',\n",
       " 'BTI400100137',\n",
       " 'BTI400104230',\n",
       " 'BTI400105538',\n",
       " 'BTI400105635',\n",
       " 'BTI400106500',\n",
       " 'BTI400110841',\n",
       " 'BTI400112089',\n",
       " 'BTI400112097',\n",
       " 'BTI400112305',\n",
       " 'BTI400113522',\n",
       " 'BTI400113743',\n",
       " 'BTI400114502',\n",
       " 'BTI400115231',\n",
       " 'BTI400115860',\n",
       " 'BTI400115878',\n",
       " 'BTI400115894',\n",
       " 'BTI400116459',\n",
       " 'BTI400116475',\n",
       " 'BTI400117781',\n",
       " 'BTI400118192',\n",
       " 'BTI400118893',\n",
       " 'BTI400119377',\n",
       " 'BTI400119440',\n",
       " 'BTI400119660',\n",
       " 'BTI400129992',\n",
       " 'BTI400130257',\n",
       " 'BTI400132594',\n",
       " 'BTI400132888',\n",
       " 'BTI400138720',\n",
       " 'BTI400146439',\n",
       " 'BTI400152153',\n",
       " 'BTI400154245',\n",
       " 'BTI400154610',\n",
       " 'BTI400154881',\n",
       " 'BTI400162906',\n",
       " 'BTI400170461',\n",
       " 'BTI400174319',\n",
       " 'BTI400177741',\n",
       " 'BTI400179825',\n",
       " 'BTI400180408',\n",
       " 'BTI400194816',\n",
       " 'BTI400221210',\n",
       " 'BTI400222623',\n",
       " 'BTI400237027',\n",
       " 'BTI400248223',\n",
       " 'BTI400250228',\n",
       " 'BTI400261106',\n",
       " 'BTI400262552',\n",
       " 'BTI400283266',\n",
       " 'BTI400297429',\n",
       " 'BTI400298093',\n",
       " 'BTI400300969',\n",
       " 'BTI400338362',\n",
       " 'BTI400346950',\n",
       " 'BTI400351032',\n",
       " 'BTI400355240',\n",
       " 'BTI400360775',\n",
       " 'BTI400360791',\n",
       " 'BTI400362140',\n",
       " 'BTI400364398',\n",
       " 'BTI400393240',\n",
       " 'BTI400403610',\n",
       " 'BTI410001569',\n",
       " 'BTI410002526',\n",
       " 'BTI410004328',\n",
       " 'BTI410004841',\n",
       " 'BTI410006540',\n",
       " 'BTI410007976',\n",
       " 'BTI410008210',\n",
       " 'BTI410008462',\n",
       " 'BTI410008874',\n",
       " 'BTI410008887',\n",
       " 'BTI410008924',\n",
       " 'BTI410009389',\n",
       " 'BTI410009686',\n",
       " 'BTI410009719',\n",
       " 'BTI410010254',\n",
       " 'BTI410013366',\n",
       " 'BTI410015899',\n",
       " 'BTI410015911',\n",
       " 'BTI410016146',\n",
       " 'BTI410016655',\n",
       " 'BTI410021085',\n",
       " 'BTI410031479',\n",
       " 'BTI410032460',\n",
       " 'BTI410035542',\n",
       " 'BTI410048183',\n",
       " 'BTI410049309',\n",
       " 'BTI410049346',\n",
       " 'BTI410049409',\n",
       " 'BTI410059424',\n",
       " 'BTI410060803',\n",
       " 'BTI410061862',\n",
       " 'BTI410075810',\n",
       " 'BTI410084018',\n",
       " 'BTI410098331',\n",
       " 'BTI410098359',\n",
       " 'BTI410100311',\n",
       " 'BTI410100458',\n",
       " 'BTI410108582',\n",
       " 'BTI410111191',\n",
       " 'BTI410127966',\n",
       " 'BTI410127967',\n",
       " 'BTI410137135',\n",
       " 'BTI410141810',\n",
       " 'BTI410142552',\n",
       " 'BTI410157548',\n",
       " 'BTI410158804',\n",
       " 'BTI410164431',\n",
       " 'BTI410164983',\n",
       " 'BTI410165005',\n",
       " 'BTI410170149',\n",
       " 'BTI410179355',\n",
       " 'BTI410179992',\n",
       " 'BTI410180414',\n",
       " 'BTI410181136',\n",
       " 'BTI410182458',\n",
       " 'BTI410183525',\n",
       " 'BTI410183934',\n",
       " 'BTI410190721',\n",
       " 'BTI410190778',\n",
       " 'BTI410192540',\n",
       " 'BTI410194241',\n",
       " 'BTI410200898',\n",
       " 'BTI410210472',\n",
       " 'BTI410211704',\n",
       " 'BTI410212865',\n",
       " 'BTI410217913',\n",
       " 'BTI410218010',\n",
       " 'BTI410229853',\n",
       " 'BTI410231004',\n",
       " 'BTI410251533',\n",
       " 'BTI410268824',\n",
       " 'BTI410270319',\n",
       " 'BTI410274723',\n",
       " 'BTI410274927',\n",
       " 'BTI410274941',\n",
       " 'BTI410275101',\n",
       " 'BTI410275237',\n",
       " 'BTI410275364',\n",
       " 'BTI410275685',\n",
       " 'BTI410276359',\n",
       " 'BTI410277168',\n",
       " 'BTI410277270',\n",
       " 'BTI410282424',\n",
       " 'BTI410283205',\n",
       " 'BTI410283221',\n",
       " 'BTI410284001',\n",
       " 'BTI410284371',\n",
       " 'BTI410286447',\n",
       " 'BTI410305273',\n",
       " 'BTI410308609',\n",
       " 'BTI410309666',\n",
       " 'BTI410315089',\n",
       " 'BTI410315353',\n",
       " 'BTI410315485',\n",
       " 'BTI410320733',\n",
       " 'BTI410328906',\n",
       " 'BTI410329079',\n",
       " 'BTI410338649',\n",
       " 'BTI410349674',\n",
       " 'BTI410354548',\n",
       " 'BTI410359096',\n",
       " 'BTI410359700',\n",
       " 'BTI410361684',\n",
       " 'BTI410361695',\n",
       " 'BTI410361710',\n",
       " 'BTI410361966',\n",
       " 'BTI410362129',\n",
       " 'BTI410362265',\n",
       " 'BTI410362298',\n",
       " 'BTI410362681',\n",
       " 'BTI410362740',\n",
       " 'BTI410363831',\n",
       " 'BTI410363844',\n",
       " 'BTI410365229',\n",
       " 'BTI410366441',\n",
       " 'BTI410369282',\n",
       " 'BTI410370897',\n",
       " 'BTI410393847',\n",
       " 'BTI410401521',\n",
       " 'BTI410415165',\n",
       " 'BTI410435687',\n",
       " 'BTI410443135',\n",
       " 'BTI410443715',\n",
       " 'BTI410444622',\n",
       " 'BTI410446606',\n",
       " 'BTI410446766',\n",
       " 'BTI410447607',\n",
       " 'BTI410447698',\n",
       " 'BTI410447704',\n",
       " 'BTI410449144',\n",
       " 'BTI410449251',\n",
       " 'BTI410454370',\n",
       " 'BTI410456761',\n",
       " 'BTI410461631',\n",
       " 'BTI410477290',\n",
       " 'BTI410486935',\n",
       " 'BTI410493570',\n",
       " 'BTI410522472',\n",
       " 'BTI410525775',\n",
       " 'BTI410532081',\n",
       " 'BTI410536327',\n",
       " 'BTI410537268',\n",
       " 'BTI410537314',\n",
       " 'BTI410555268',\n",
       " 'BTI410562507',\n",
       " 'BTI410562734',\n",
       " 'BTI410566126',\n",
       " 'BTI410566740',\n",
       " 'BTI410580789',\n",
       " 'BTI410580790',\n",
       " 'BTI410581323',\n",
       " 'BTI410581327',\n",
       " 'BTI410583407',\n",
       " 'BTI410583468',\n",
       " 'BTI410585933',\n",
       " 'BTI410613629',\n",
       " 'BTI410615342',\n",
       " 'BTI410615344',\n",
       " 'BTI410615367',\n",
       " 'BTI410619163',\n",
       " 'BTI410621087',\n",
       " 'BTI410621550',\n",
       " 'BTI410625462',\n",
       " 'BTI410627580',\n",
       " 'BTI410632449',\n",
       " 'BTI410657095',\n",
       " 'BTI410661676',\n",
       " 'BTI410662059',\n",
       " 'BTI410675695',\n",
       " 'BTI410692385',\n",
       " 'BTI410698994',\n",
       " 'BTI410702194',\n",
       " 'BTI410703099',\n",
       " 'BTI410704329',\n",
       " 'BTI410708378',\n",
       " 'BTI410709599',\n",
       " 'BTI410709672',\n",
       " 'BTI410709843',\n",
       " 'BTI410714360',\n",
       " 'BTI410715796',\n",
       " 'BTI410716064',\n",
       " 'BTI410719556',\n",
       " 'BTI410720206',\n",
       " 'BTI410720448',\n",
       " 'BTI410728319',\n",
       " 'BTI410729776',\n",
       " 'BTI410732088',\n",
       " 'BTI410752342',\n",
       " 'BTI410752495',\n",
       " 'BTI410752622',\n",
       " 'BTI410780336',\n",
       " 'BTI410781661',\n",
       " 'BTI410786396',\n",
       " 'BTI410789536',\n",
       " 'BTI410792590',\n",
       " 'BTI410792594',\n",
       " 'BTI410794558',\n",
       " 'BTI410796859',\n",
       " 'BTI410797177',\n",
       " 'BTI410797187',\n",
       " 'BTI410797324',\n",
       " 'BTI410797328',\n",
       " 'BTI410797364',\n",
       " 'BTI410797376',\n",
       " 'BTI410797629',\n",
       " 'BTI410802307',\n",
       " 'BTI410802353',\n",
       " 'BTI410802501',\n",
       " 'BTI410802585',\n",
       " 'BTI410808289',\n",
       " 'BTI410809106',\n",
       " 'BTI410816564',\n",
       " 'BTI410817580',\n",
       " 'BTI410823233',\n",
       " 'BTI410826075',\n",
       " 'BTI410829819',\n",
       " 'BTI410840758',\n",
       " 'BTI410857523',\n",
       " 'BTI410871809',\n",
       " 'BTI410872764',\n",
       " 'BTI410873766',\n",
       " 'BTI410874590',\n",
       " 'BTI410875463',\n",
       " 'BTI410876322',\n",
       " 'BTI410884549',\n",
       " 'BTI410903410',\n",
       " 'BTI410908684',\n",
       " 'BTI410925396',\n",
       " 'BTI410931731',\n",
       " 'BTI410964607',\n",
       " 'BTI410964758',\n",
       " 'BTI410965861',\n",
       " 'BTI410980538',\n",
       " 'BTI410990017',\n",
       " 'BTI410998422',\n",
       " 'BTI410999304',\n",
       " 'BTI411017225',\n",
       " 'BTI411037260',\n",
       " 'BTI411040601',\n",
       " 'BTI411040881',\n",
       " 'BTI411045716',\n",
       " 'BTI411048016',\n",
       " 'BTI411049541',\n",
       " 'BTI411049595',\n",
       " 'BTI411049623',\n",
       " 'BTI411050605',\n",
       " 'BTI411055274',\n",
       " 'BTI411057684',\n",
       " 'BTI411058022',\n",
       " 'BTI411058348',\n",
       " 'BTI411058990',\n",
       " 'BTI411059312',\n",
       " 'BTI411060228',\n",
       " 'BTI411062092',\n",
       " 'BTI411063373',\n",
       " 'BTI411081408',\n",
       " 'BTI411082397',\n",
       " 'BTI411086429',\n",
       " 'BTI411088729',\n",
       " 'BTI411089773',\n",
       " 'BTI411095470',\n",
       " 'BTI411097573',\n",
       " 'BTI411104336',\n",
       " 'BTI411109761',\n",
       " 'BTI411130871',\n",
       " 'BTI411130948',\n",
       " 'BTI411134270',\n",
       " 'BTI411136763',\n",
       " 'BTI411136791',\n",
       " 'BTI411137203',\n",
       " 'BTI411142342',\n",
       " 'BTI411146027',\n",
       " 'BTI411166647',\n",
       " 'BTI411168486',\n",
       " 'BTI411170449',\n",
       " 'BTI411171181',\n",
       " 'BTI411174093',\n",
       " 'BTI411175398',\n",
       " 'BTI411175563',\n",
       " 'BTI411175578',\n",
       " 'BTI411181828',\n",
       " 'BTI411193876',\n",
       " 'BTI411211752',\n",
       " 'BTI411212176',\n",
       " 'BTI411212242',\n",
       " 'BTI411212452',\n",
       " 'BTI411212698',\n",
       " 'BTI411212848',\n",
       " 'BTI411213212',\n",
       " 'BTI411215988',\n",
       " 'BTI411227195',\n",
       " 'BTI411227463',\n",
       " 'BTI411228192',\n",
       " 'BTI411229263',\n",
       " 'BTI411229974',\n",
       " 'BTI411230223',\n",
       " 'BTI411230794',\n",
       " 'BTI411230981',\n",
       " 'BTI411233623',\n",
       " 'BTI411238131',\n",
       " 'BTI411247995',\n",
       " 'BTI411261451',\n",
       " 'BTI411263508',\n",
       " 'BTI411272065',\n",
       " 'BTI411274689',\n",
       " 'BTI411276068',\n",
       " 'BTI411281663',\n",
       " 'BTI411297105',\n",
       " 'BTI411305246',\n",
       " 'BTI411308886',\n",
       " 'BTI411309997',\n",
       " 'BTI411312821',\n",
       " 'BTI411314548',\n",
       " 'BTI411314979',\n",
       " 'BTI411315988',\n",
       " 'BTI411316078',\n",
       " 'BTI411316163',\n",
       " 'BTI411317357',\n",
       " 'BTI411318646',\n",
       " 'BTI411318724',\n",
       " 'BTI411321473',\n",
       " 'BTI411324518',\n",
       " 'BTI411337526',\n",
       " 'BTI411339902',\n",
       " 'BTI411343408',\n",
       " 'BTI411343418',\n",
       " 'BTI411344574',\n",
       " 'BTI411344636',\n",
       " 'BTI411357462',\n",
       " 'BTI411381198',\n",
       " 'BTI411387957',\n",
       " 'BTI411388282',\n",
       " 'BTI411394346',\n",
       " 'BTI411395075',\n",
       " 'BTI411395843',\n",
       " 'BTI411395958',\n",
       " 'BTI411396167',\n",
       " 'BTI411397789',\n",
       " 'BTI411399545',\n",
       " 'BTI411402681',\n",
       " 'BTI411408257',\n",
       " 'BTI411410514',\n",
       " 'BTI411414234',\n",
       " 'BTI411414626',\n",
       " 'BTI411416300',\n",
       " 'BTI411419247',\n",
       " 'BTI411419777',\n",
       " 'BTI411423521',\n",
       " 'BTI411458066',\n",
       " 'BTI411458201',\n",
       " 'BTI411458281',\n",
       " 'BTI411478234',\n",
       " 'BTI411482639',\n",
       " 'BTI411485622',\n",
       " 'BTI411486239',\n",
       " 'BTI411489399',\n",
       " 'BTI411491335',\n",
       " 'BTI411499949',\n",
       " 'BTI411502226',\n",
       " 'BTI411503309',\n",
       " 'BTI411503995',\n",
       " 'BTI411561912',\n",
       " 'BTI411569381',\n",
       " 'BTI411569898',\n",
       " 'BTI411572422',\n",
       " 'BTI411575333',\n",
       " 'BTI411576041',\n",
       " 'BTI411576598',\n",
       " 'BTI411577905',\n",
       " 'BTI411580511',\n",
       " 'BTI411580594',\n",
       " 'BTI411580810',\n",
       " 'BTI411585801',\n",
       " 'BTI411585802',\n",
       " 'BTI411593462',\n",
       " 'BTI411645667',\n",
       " 'BTI411655009',\n",
       " 'BTI411655107',\n",
       " 'BTI411655873',\n",
       " 'BTI411656615',\n",
       " 'BTI411658076',\n",
       " 'BTI411658322',\n",
       " 'BTI411658920',\n",
       " 'BTI411661068',\n",
       " 'BTI411662305',\n",
       " 'BTI411665896',\n",
       " 'BTI411667464',\n",
       " 'BTI411679026',\n",
       " 'BTI411686267',\n",
       " 'BTI411699685',\n",
       " 'BTI411704157',\n",
       " 'BTI411706398',\n",
       " 'BTI411708365',\n",
       " 'BTI411721520',\n",
       " 'BTI411735785',\n",
       " 'BTI411741971',\n",
       " 'BTI411744476',\n",
       " 'BTI411750383',\n",
       " 'BTI411765780',\n",
       " 'BTI411771982',\n",
       " 'BTI411780920',\n",
       " 'BTI411782230',\n",
       " 'BTI411803419',\n",
       " 'BTI411818833',\n",
       " 'BTI411825794',\n",
       " 'BTI411831431',\n",
       " 'BTI411842562',\n",
       " 'BTI411843289',\n",
       " 'BTI411849956',\n",
       " 'BTI411853650',\n",
       " 'BTI411855002',\n",
       " 'BTI411864273',\n",
       " 'BTI411864963',\n",
       " 'BTI411865644',\n",
       " 'BTI411865983',\n",
       " 'BTI411870602',\n",
       " 'BTI411879012',\n",
       " 'BTI411883891',\n",
       " 'BTI411888071',\n",
       " 'BTI411888509',\n",
       " 'BTI411888710',\n",
       " 'BTI411890209',\n",
       " 'BTI411890599',\n",
       " 'BTI411898114',\n",
       " ...]"
      ]
     },
     "execution_count": 30,
     "metadata": {},
     "output_type": "execute_result"
    }
   ],
   "source": [
    "list(ddirs.keys())"
   ]
  },
  {
   "cell_type": "code",
   "execution_count": 31,
   "metadata": {},
   "outputs": [],
   "source": [
    "falta = [l for l in list(gt.index) if l  not in list(ddirs.keys())]"
   ]
  },
  {
   "cell_type": "code",
   "execution_count": 32,
   "metadata": {},
   "outputs": [
    {
     "data": {
      "text/plain": [
       "36"
      ]
     },
     "execution_count": 32,
     "metadata": {},
     "output_type": "execute_result"
    }
   ],
   "source": [
    "len(falta)"
   ]
  },
  {
   "cell_type": "code",
   "execution_count": 33,
   "metadata": {},
   "outputs": [
    {
     "data": {
      "text/html": [
       "<div>\n",
       "<style scoped>\n",
       "    .dataframe tbody tr th:only-of-type {\n",
       "        vertical-align: middle;\n",
       "    }\n",
       "\n",
       "    .dataframe tbody tr th {\n",
       "        vertical-align: top;\n",
       "    }\n",
       "\n",
       "    .dataframe thead th {\n",
       "        text-align: right;\n",
       "    }\n",
       "</style>\n",
       "<table border=\"1\" class=\"dataframe\">\n",
       "  <thead>\n",
       "    <tr style=\"text-align: right;\">\n",
       "      <th></th>\n",
       "      <th>Análise</th>\n",
       "      <th>Retorno de campo</th>\n",
       "    </tr>\n",
       "    <tr>\n",
       "      <th>Ponto de medicao</th>\n",
       "      <th></th>\n",
       "      <th></th>\n",
       "    </tr>\n",
       "  </thead>\n",
       "  <tbody>\n",
       "    <tr>\n",
       "      <th>BT2A410919422</th>\n",
       "      <td>Envio P0</td>\n",
       "      <td>NaN</td>\n",
       "    </tr>\n",
       "    <tr>\n",
       "      <th>BTI421291372</th>\n",
       "      <td>Envio P0</td>\n",
       "      <td>NaN</td>\n",
       "    </tr>\n",
       "    <tr>\n",
       "      <th>BTI430048692</th>\n",
       "      <td>NA - Nada apurado</td>\n",
       "      <td>NaN</td>\n",
       "    </tr>\n",
       "    <tr>\n",
       "      <th>BTI412532157</th>\n",
       "      <td>NA - Nada apurado</td>\n",
       "      <td>NaN</td>\n",
       "    </tr>\n",
       "    <tr>\n",
       "      <th>BTI400121274</th>\n",
       "      <td>NA - Nada apurado</td>\n",
       "      <td>NaN</td>\n",
       "    </tr>\n",
       "    <tr>\n",
       "      <th>BTI410364486</th>\n",
       "      <td>NA - Nada apurado</td>\n",
       "      <td>NaN</td>\n",
       "    </tr>\n",
       "    <tr>\n",
       "      <th>BT2A413122938</th>\n",
       "      <td>NA - Nada apurado</td>\n",
       "      <td>NaN</td>\n",
       "    </tr>\n",
       "    <tr>\n",
       "      <th>BT2A411878384</th>\n",
       "      <td>NA - Nada apurado</td>\n",
       "      <td>NaN</td>\n",
       "    </tr>\n",
       "    <tr>\n",
       "      <th>BT2A412915693</th>\n",
       "      <td>NA - Nada apurado</td>\n",
       "      <td>NaN</td>\n",
       "    </tr>\n",
       "    <tr>\n",
       "      <th>BT2A414436775</th>\n",
       "      <td>NA - Nada apurado</td>\n",
       "      <td>NaN</td>\n",
       "    </tr>\n",
       "    <tr>\n",
       "      <th>BT2A411395973</th>\n",
       "      <td>FORA DA MATRIZ</td>\n",
       "      <td>NaN</td>\n",
       "    </tr>\n",
       "    <tr>\n",
       "      <th>BT2A410197482</th>\n",
       "      <td>FORA DA MATRIZ</td>\n",
       "      <td>NaN</td>\n",
       "    </tr>\n",
       "    <tr>\n",
       "      <th>BT2A420521537</th>\n",
       "      <td>FORA DA MATRIZ</td>\n",
       "      <td>NaN</td>\n",
       "    </tr>\n",
       "    <tr>\n",
       "      <th>BT2A411134341</th>\n",
       "      <td>FORA DA MATRIZ</td>\n",
       "      <td>NaN</td>\n",
       "    </tr>\n",
       "    <tr>\n",
       "      <th>BTI411658808</th>\n",
       "      <td>FORA DA MATRIZ</td>\n",
       "      <td>NaN</td>\n",
       "    </tr>\n",
       "    <tr>\n",
       "      <th>BTI413738906</th>\n",
       "      <td>FORA DA MATRIZ</td>\n",
       "      <td>NaN</td>\n",
       "    </tr>\n",
       "    <tr>\n",
       "      <th>BTI412196412</th>\n",
       "      <td>FORA DA MATRIZ</td>\n",
       "      <td>NaN</td>\n",
       "    </tr>\n",
       "    <tr>\n",
       "      <th>BTI410625138</th>\n",
       "      <td>FORA DA MATRIZ</td>\n",
       "      <td>NaN</td>\n",
       "    </tr>\n",
       "    <tr>\n",
       "      <th>BTI413060640</th>\n",
       "      <td>FORA DA MATRIZ</td>\n",
       "      <td>NaN</td>\n",
       "    </tr>\n",
       "    <tr>\n",
       "      <th>BTI400212024</th>\n",
       "      <td>FORA DA MATRIZ</td>\n",
       "      <td>NaN</td>\n",
       "    </tr>\n",
       "    <tr>\n",
       "      <th>BTI420381837</th>\n",
       "      <td>FORA DA MATRIZ</td>\n",
       "      <td>NaN</td>\n",
       "    </tr>\n",
       "    <tr>\n",
       "      <th>BTI410870359</th>\n",
       "      <td>FORA DA MATRIZ</td>\n",
       "      <td>NaN</td>\n",
       "    </tr>\n",
       "    <tr>\n",
       "      <th>BTI413694472</th>\n",
       "      <td>FORA DA MATRIZ</td>\n",
       "      <td>NaN</td>\n",
       "    </tr>\n",
       "    <tr>\n",
       "      <th>BTI412968656</th>\n",
       "      <td>FORA DA MATRIZ</td>\n",
       "      <td>NaN</td>\n",
       "    </tr>\n",
       "    <tr>\n",
       "      <th>BTI420055955</th>\n",
       "      <td>FORA DA MATRIZ</td>\n",
       "      <td>NaN</td>\n",
       "    </tr>\n",
       "    <tr>\n",
       "      <th>BTI411083386</th>\n",
       "      <td>FORA DA MATRIZ</td>\n",
       "      <td>NaN</td>\n",
       "    </tr>\n",
       "    <tr>\n",
       "      <th>BTI420750954</th>\n",
       "      <td>FORA DA MATRIZ</td>\n",
       "      <td>NaN</td>\n",
       "    </tr>\n",
       "    <tr>\n",
       "      <th>BTI413533381</th>\n",
       "      <td>FORA DA MATRIZ</td>\n",
       "      <td>NaN</td>\n",
       "    </tr>\n",
       "    <tr>\n",
       "      <th>BTI412209723</th>\n",
       "      <td>FORA DA MATRIZ</td>\n",
       "      <td>NaN</td>\n",
       "    </tr>\n",
       "    <tr>\n",
       "      <th>BTI410102174</th>\n",
       "      <td>FORA DA MATRIZ</td>\n",
       "      <td>NaN</td>\n",
       "    </tr>\n",
       "    <tr>\n",
       "      <th>BTI411492158</th>\n",
       "      <td>FORA DA MATRIZ</td>\n",
       "      <td>NaN</td>\n",
       "    </tr>\n",
       "    <tr>\n",
       "      <th>BTI412568743</th>\n",
       "      <td>FORA DA MATRIZ</td>\n",
       "      <td>NaN</td>\n",
       "    </tr>\n",
       "    <tr>\n",
       "      <th>BTI411233454</th>\n",
       "      <td>FORA DA MATRIZ</td>\n",
       "      <td>NaN</td>\n",
       "    </tr>\n",
       "    <tr>\n",
       "      <th>BTI411090391</th>\n",
       "      <td>FORA DA MATRIZ</td>\n",
       "      <td>NaN</td>\n",
       "    </tr>\n",
       "    <tr>\n",
       "      <th>BTI421021566</th>\n",
       "      <td>FORA DA MATRIZ</td>\n",
       "      <td>NaN</td>\n",
       "    </tr>\n",
       "    <tr>\n",
       "      <th>BTI421014864</th>\n",
       "      <td>FORA DA MATRIZ</td>\n",
       "      <td>NaN</td>\n",
       "    </tr>\n",
       "  </tbody>\n",
       "</table>\n",
       "</div>"
      ],
      "text/plain": [
       "                            Análise Retorno de campo\n",
       "Ponto de medicao                                    \n",
       "BT2A410919422              Envio P0              NaN\n",
       "BTI421291372               Envio P0              NaN\n",
       "BTI430048692      NA - Nada apurado              NaN\n",
       "BTI412532157      NA - Nada apurado              NaN\n",
       "BTI400121274      NA - Nada apurado              NaN\n",
       "BTI410364486      NA - Nada apurado              NaN\n",
       "BT2A413122938     NA - Nada apurado              NaN\n",
       "BT2A411878384     NA - Nada apurado              NaN\n",
       "BT2A412915693     NA - Nada apurado              NaN\n",
       "BT2A414436775     NA - Nada apurado              NaN\n",
       "BT2A411395973        FORA DA MATRIZ              NaN\n",
       "BT2A410197482        FORA DA MATRIZ              NaN\n",
       "BT2A420521537        FORA DA MATRIZ              NaN\n",
       "BT2A411134341        FORA DA MATRIZ              NaN\n",
       "BTI411658808         FORA DA MATRIZ              NaN\n",
       "BTI413738906         FORA DA MATRIZ              NaN\n",
       "BTI412196412         FORA DA MATRIZ              NaN\n",
       "BTI410625138         FORA DA MATRIZ              NaN\n",
       "BTI413060640         FORA DA MATRIZ              NaN\n",
       "BTI400212024         FORA DA MATRIZ              NaN\n",
       "BTI420381837         FORA DA MATRIZ              NaN\n",
       "BTI410870359         FORA DA MATRIZ              NaN\n",
       "BTI413694472         FORA DA MATRIZ              NaN\n",
       "BTI412968656         FORA DA MATRIZ              NaN\n",
       "BTI420055955         FORA DA MATRIZ              NaN\n",
       "BTI411083386         FORA DA MATRIZ              NaN\n",
       "BTI420750954         FORA DA MATRIZ              NaN\n",
       "BTI413533381         FORA DA MATRIZ              NaN\n",
       "BTI412209723         FORA DA MATRIZ              NaN\n",
       "BTI410102174         FORA DA MATRIZ              NaN\n",
       "BTI411492158         FORA DA MATRIZ              NaN\n",
       "BTI412568743         FORA DA MATRIZ              NaN\n",
       "BTI411233454         FORA DA MATRIZ              NaN\n",
       "BTI411090391         FORA DA MATRIZ              NaN\n",
       "BTI421021566         FORA DA MATRIZ              NaN\n",
       "BTI421014864         FORA DA MATRIZ              NaN"
      ]
     },
     "execution_count": 33,
     "metadata": {},
     "output_type": "execute_result"
    }
   ],
   "source": [
    "gt.loc[falta]"
   ]
  },
  {
   "cell_type": "markdown",
   "metadata": {},
   "source": [
    "## l_______________________________________________________________________"
   ]
  },
  {
   "cell_type": "code",
   "execution_count": 34,
   "metadata": {},
   "outputs": [
    {
     "data": {
      "text/plain": [
       "['BT2A400151505',\n",
       " 'BT2A400330256',\n",
       " 'BT2A410003065',\n",
       " 'BT2A410102348',\n",
       " 'BT2A410459010',\n",
       " 'BT2A410556483',\n",
       " 'BT2A411057899',\n",
       " 'BT2A411090425',\n",
       " 'BT2A411165377',\n",
       " 'BT2A411213909',\n",
       " 'BT2A411952754',\n",
       " 'BT2A412549836',\n",
       " 'BT2A412684067',\n",
       " 'BT2A412687105',\n",
       " 'BT2A412704627',\n",
       " 'BT2A412742513',\n",
       " 'BT2A412745772',\n",
       " 'BT2A412770186',\n",
       " 'BT2A412948154',\n",
       " 'BT2A413027611',\n",
       " 'BT2A413031232',\n",
       " 'BT2A413415986',\n",
       " 'BT2A413826062',\n",
       " 'BT2A413870630',\n",
       " 'BT2A414026823',\n",
       " 'BT2A414324503',\n",
       " 'BT2A414494937',\n",
       " 'BT2A420024212',\n",
       " 'BT2A420376512',\n",
       " 'BT2A420394953',\n",
       " 'BT2A420409554',\n",
       " 'BT2A420450975',\n",
       " 'BT2A420568909',\n",
       " 'BT2A420604870',\n",
       " 'BT2A421148497',\n",
       " 'BT2A421235758',\n",
       " 'BTI400022632',\n",
       " 'BTI400026638',\n",
       " 'BTI400080292',\n",
       " 'BTI400099015',\n",
       " 'BTI400110450',\n",
       " 'BTI400112844',\n",
       " 'BTI400116378',\n",
       " 'BTI400117960',\n",
       " 'BTI400126268',\n",
       " 'BTI400135607',\n",
       " 'BTI400290823',\n",
       " 'BTI400290866',\n",
       " 'BTI400295604',\n",
       " 'BTI400334855',\n",
       " 'BTI400345466',\n",
       " 'BTI400364525',\n",
       " 'BTI410013428',\n",
       " 'BTI410022050',\n",
       " 'BTI410045335',\n",
       " 'BTI410077287',\n",
       " 'BTI410078128',\n",
       " 'BTI410089365',\n",
       " 'BTI410143240',\n",
       " 'BTI410166160',\n",
       " 'BTI410182681',\n",
       " 'BTI410226037',\n",
       " 'BTI410229619',\n",
       " 'BTI410230241',\n",
       " 'BTI410231292',\n",
       " 'BTI410251196',\n",
       " 'BTI410285956',\n",
       " 'BTI410357622',\n",
       " 'BTI410389763',\n",
       " 'BTI410390870',\n",
       " 'BTI410399023',\n",
       " 'BTI410420674',\n",
       " 'BTI410424947',\n",
       " 'BTI410458978',\n",
       " 'BTI410459177',\n",
       " 'BTI410495761',\n",
       " 'BTI410536445',\n",
       " 'BTI410539109',\n",
       " 'BTI410543543',\n",
       " 'BTI410606262',\n",
       " 'BTI410621216',\n",
       " 'BTI410630017',\n",
       " 'BTI410630442',\n",
       " 'BTI410633680',\n",
       " 'BTI410635568',\n",
       " 'BTI410640216',\n",
       " 'BTI410655242',\n",
       " 'BTI410722548',\n",
       " 'BTI410732947',\n",
       " 'BTI410735030',\n",
       " 'BTI410741934',\n",
       " 'BTI410816567',\n",
       " 'BTI410875167',\n",
       " 'BTI410912529',\n",
       " 'BTI410913992',\n",
       " 'BTI410943104',\n",
       " 'BTI410955820',\n",
       " 'BTI410960279',\n",
       " 'BTI410960787',\n",
       " 'BTI410965690',\n",
       " 'BTI411002386',\n",
       " 'BTI411016725',\n",
       " 'BTI411045433',\n",
       " 'BTI411052935',\n",
       " 'BTI411083646',\n",
       " 'BTI411132476',\n",
       " 'BTI411140720',\n",
       " 'BTI411147088',\n",
       " 'BTI411178643',\n",
       " 'BTI411185297',\n",
       " 'BTI411217854',\n",
       " 'BTI411227014',\n",
       " 'BTI411232890',\n",
       " 'BTI411235891',\n",
       " 'BTI411355498',\n",
       " 'BTI411404846',\n",
       " 'BTI411410016',\n",
       " 'BTI411469800',\n",
       " 'BTI411484456',\n",
       " 'BTI411491192',\n",
       " 'BTI411496753',\n",
       " 'BTI411532208',\n",
       " 'BTI411618969',\n",
       " 'BTI411631994',\n",
       " 'BTI411654300',\n",
       " 'BTI411655115',\n",
       " 'BTI411655117',\n",
       " 'BTI411655626',\n",
       " 'BTI411657606',\n",
       " 'BTI411658515',\n",
       " 'BTI411659341',\n",
       " 'BTI411665048',\n",
       " 'BTI411669280',\n",
       " 'BTI411670964',\n",
       " 'BTI411678241',\n",
       " 'BTI411699458',\n",
       " 'BTI411711167',\n",
       " 'BTI411754746',\n",
       " 'BTI411771093',\n",
       " 'BTI411776162',\n",
       " 'BTI411790081',\n",
       " 'BTI411802947',\n",
       " 'BTI411825787',\n",
       " 'BTI411837854',\n",
       " 'BTI411837868',\n",
       " 'BTI411840865',\n",
       " 'BTI411887086',\n",
       " 'BTI411888516',\n",
       " 'BTI411942264',\n",
       " 'BTI411971170',\n",
       " 'BTI411981177',\n",
       " 'BTI411991109',\n",
       " 'BTI411992071',\n",
       " 'BTI412014255',\n",
       " 'BTI412025131',\n",
       " 'BTI412048203',\n",
       " 'BTI412108256',\n",
       " 'BTI412131989',\n",
       " 'BTI412171368',\n",
       " 'BTI412175941',\n",
       " 'BTI412231959',\n",
       " 'BTI412275221',\n",
       " 'BTI412289713',\n",
       " 'BTI412290900',\n",
       " 'BTI412296464',\n",
       " 'BTI412307586',\n",
       " 'BTI412313159',\n",
       " 'BTI412354056',\n",
       " 'BTI412370375',\n",
       " 'BTI412411701',\n",
       " 'BTI412414241',\n",
       " 'BTI412420707',\n",
       " 'BTI412426623',\n",
       " 'BTI412481921',\n",
       " 'BTI412506733',\n",
       " 'BTI412510705',\n",
       " 'BTI412513346',\n",
       " 'BTI412584028',\n",
       " 'BTI412608680',\n",
       " 'BTI412624231',\n",
       " 'BTI412624489',\n",
       " 'BTI412682753',\n",
       " 'BTI412700431',\n",
       " 'BTI412767382',\n",
       " 'BTI412809117',\n",
       " 'BTI412842605',\n",
       " 'BTI412857530',\n",
       " 'BTI412892493',\n",
       " 'BTI412914951',\n",
       " 'BTI412989487',\n",
       " 'BTI413002608',\n",
       " 'BTI413006417',\n",
       " 'BTI413022229',\n",
       " 'BTI413028978',\n",
       " 'BTI413195196',\n",
       " 'BTI413207793',\n",
       " 'BTI413278940',\n",
       " 'BTI413299962',\n",
       " 'BTI413305789',\n",
       " 'BTI413308335',\n",
       " 'BTI413363421',\n",
       " 'BTI413365367',\n",
       " 'BTI413368938',\n",
       " 'BTI413373410',\n",
       " 'BTI413387373',\n",
       " 'BTI413388004',\n",
       " 'BTI413392585',\n",
       " 'BTI413424653',\n",
       " 'BTI413432722',\n",
       " 'BTI413445374',\n",
       " 'BTI413448063',\n",
       " 'BTI413463748',\n",
       " 'BTI413501453',\n",
       " 'BTI413506525',\n",
       " 'BTI413509533',\n",
       " 'BTI413515093',\n",
       " 'BTI413564516',\n",
       " 'BTI413733056',\n",
       " 'BTI413736280',\n",
       " 'BTI413736369',\n",
       " 'BTI413760745',\n",
       " 'BTI413804847',\n",
       " 'BTI413835951',\n",
       " 'BTI414084760',\n",
       " 'BTI414088165',\n",
       " 'BTI414106673',\n",
       " 'BTI414206435',\n",
       " 'BTI414239708',\n",
       " 'BTI414273370',\n",
       " 'BTI414381434',\n",
       " 'BTI414394693',\n",
       " 'BTI414415815',\n",
       " 'BTI414485086',\n",
       " 'BTI414491623',\n",
       " 'BTI414521457',\n",
       " 'BTI414718561',\n",
       " 'BTI414797032',\n",
       " 'BTI414855400',\n",
       " 'BTI414921933',\n",
       " 'BTI420064083',\n",
       " 'BTI420070269',\n",
       " 'BTI420103644',\n",
       " 'BTI420205062',\n",
       " 'BTI420250520',\n",
       " 'BTI420262217',\n",
       " 'BTI420301711',\n",
       " 'BTI420316169',\n",
       " 'BTI420328033',\n",
       " 'BTI420344156',\n",
       " 'BTI420348835',\n",
       " 'BTI420361003',\n",
       " 'BTI420465568',\n",
       " 'BTI420476006',\n",
       " 'BTI420497043',\n",
       " 'BTI420506338',\n",
       " 'BTI420519483',\n",
       " 'BTI420533046',\n",
       " 'BTI420566259',\n",
       " 'BTI420567852',\n",
       " 'BTI420576222',\n",
       " 'BTI420590520',\n",
       " 'BTI420600041',\n",
       " 'BTI420604694',\n",
       " 'BTI420719076',\n",
       " 'BTI420727503',\n",
       " 'BTI420732120',\n",
       " 'BTI420755859',\n",
       " 'BTI420776319',\n",
       " 'BTI420859093',\n",
       " 'BTI420898999',\n",
       " 'BTI420905435',\n",
       " 'BTI421075933',\n",
       " 'BTI421158453',\n",
       " 'BTI421161514',\n",
       " 'BTI421166333',\n",
       " 'BTI421182655',\n",
       " 'BTI421199118',\n",
       " 'BTI421199129']"
      ]
     },
     "execution_count": 34,
     "metadata": {},
     "output_type": "execute_result"
    }
   ],
   "source": [
    "list(ddirst.keys())"
   ]
  },
  {
   "cell_type": "code",
   "execution_count": 35,
   "metadata": {},
   "outputs": [],
   "source": [
    "f = fasorial()\n",
    "f.read_fasorial(ddirs['BT2A400151505'])\n",
    "df=f.df"
   ]
  },
  {
   "cell_type": "code",
   "execution_count": 36,
   "metadata": {},
   "outputs": [
    {
     "data": {
      "text/plain": [
       "86213"
      ]
     },
     "execution_count": 36,
     "metadata": {},
     "output_type": "execute_result"
    }
   ],
   "source": [
    "len(df)"
   ]
  },
  {
   "cell_type": "code",
   "execution_count": 37,
   "metadata": {},
   "outputs": [
    {
     "data": {
      "text/plain": [
       "14369"
      ]
     },
     "execution_count": 37,
     "metadata": {},
     "output_type": "execute_result"
    }
   ],
   "source": [
    "df.index.nunique()"
   ]
  },
  {
   "cell_type": "code",
   "execution_count": 38,
   "metadata": {},
   "outputs": [
    {
     "name": "stdout",
     "output_type": "stream",
     "text": [
      "ponto_medicao 1\n",
      "serial 1\n",
      "RTC 1\n",
      "RTP 1\n",
      "KE 1\n",
      "IA 4625\n",
      "IB 4350\n",
      "IC 2695\n",
      "AIA 47\n",
      "AIB 37\n",
      "AIC 165\n",
      "VA 31\n",
      "VB 28\n",
      "VC 30\n",
      "AVA 1\n",
      "AVB 2\n",
      "AVC 2\n",
      "VAB 47\n",
      "VBC 46\n",
      "VAC 47\n",
      "AVAB 1\n",
      "AVBC 1\n",
      "AVAC 1\n",
      "PA 4517\n",
      "PB 4424\n",
      "PC 2881\n",
      "FPA 53\n",
      "FPB 36\n",
      "FPC 191\n",
      "DH 1\n",
      "FREQ 2\n",
      "SEQ 2\n",
      "DEMAND_C1 1614\n",
      "DEMAND_C2 508\n",
      "DEMAND_C3 3\n",
      "TOT_C1 14368\n",
      "TOT_C2 14367\n",
      "TOT_C3 7\n",
      "DEM_INTERVAL 2\n"
     ]
    }
   ],
   "source": [
    "for c in df.columns:\n",
    "    print(c, df[c].nunique())"
   ]
  },
  {
   "cell_type": "code",
   "execution_count": 39,
   "metadata": {},
   "outputs": [
    {
     "data": {
      "text/html": [
       "<div>\n",
       "<style scoped>\n",
       "    .dataframe tbody tr th:only-of-type {\n",
       "        vertical-align: middle;\n",
       "    }\n",
       "\n",
       "    .dataframe tbody tr th {\n",
       "        vertical-align: top;\n",
       "    }\n",
       "\n",
       "    .dataframe thead th {\n",
       "        text-align: right;\n",
       "    }\n",
       "</style>\n",
       "<table border=\"1\" class=\"dataframe\">\n",
       "  <thead>\n",
       "    <tr style=\"text-align: right;\">\n",
       "      <th></th>\n",
       "      <th>ponto_medicao</th>\n",
       "      <th>serial</th>\n",
       "      <th>RTC</th>\n",
       "      <th>RTP</th>\n",
       "      <th>KE</th>\n",
       "      <th>IA</th>\n",
       "      <th>IB</th>\n",
       "      <th>IC</th>\n",
       "      <th>AIA</th>\n",
       "      <th>AIB</th>\n",
       "      <th>...</th>\n",
       "      <th>DH</th>\n",
       "      <th>FREQ</th>\n",
       "      <th>SEQ</th>\n",
       "      <th>DEMAND_C1</th>\n",
       "      <th>DEMAND_C2</th>\n",
       "      <th>DEMAND_C3</th>\n",
       "      <th>TOT_C1</th>\n",
       "      <th>TOT_C2</th>\n",
       "      <th>TOT_C3</th>\n",
       "      <th>DEM_INTERVAL</th>\n",
       "    </tr>\n",
       "    <tr>\n",
       "      <th>data</th>\n",
       "      <th></th>\n",
       "      <th></th>\n",
       "      <th></th>\n",
       "      <th></th>\n",
       "      <th></th>\n",
       "      <th></th>\n",
       "      <th></th>\n",
       "      <th></th>\n",
       "      <th></th>\n",
       "      <th></th>\n",
       "      <th></th>\n",
       "      <th></th>\n",
       "      <th></th>\n",
       "      <th></th>\n",
       "      <th></th>\n",
       "      <th></th>\n",
       "      <th></th>\n",
       "      <th></th>\n",
       "      <th></th>\n",
       "      <th></th>\n",
       "      <th></th>\n",
       "    </tr>\n",
       "  </thead>\n",
       "  <tbody>\n",
       "    <tr>\n",
       "      <th>2018-12-01 00:00:05</th>\n",
       "      <td>BT2A400151505</td>\n",
       "      <td>9120153</td>\n",
       "      <td>1/1</td>\n",
       "      <td>1/1</td>\n",
       "      <td>1/1</td>\n",
       "      <td>14,28</td>\n",
       "      <td>8,41</td>\n",
       "      <td>10,41</td>\n",
       "      <td>327</td>\n",
       "      <td>97</td>\n",
       "      <td>...</td>\n",
       "      <td>0</td>\n",
       "      <td>60</td>\n",
       "      <td>132</td>\n",
       "      <td>121</td>\n",
       "      <td>37</td>\n",
       "      <td>0</td>\n",
       "      <td>16134896</td>\n",
       "      <td>3625155</td>\n",
       "      <td>13283</td>\n",
       "      <td>15</td>\n",
       "    </tr>\n",
       "    <tr>\n",
       "      <th>2018-12-01 00:00:05</th>\n",
       "      <td>BT2A400151505</td>\n",
       "      <td>9120153</td>\n",
       "      <td>1/1</td>\n",
       "      <td>1/1</td>\n",
       "      <td>1/1</td>\n",
       "      <td>14,28</td>\n",
       "      <td>8,41</td>\n",
       "      <td>10,41</td>\n",
       "      <td>327</td>\n",
       "      <td>97</td>\n",
       "      <td>...</td>\n",
       "      <td>0</td>\n",
       "      <td>60</td>\n",
       "      <td>132</td>\n",
       "      <td>121</td>\n",
       "      <td>37</td>\n",
       "      <td>0</td>\n",
       "      <td>16134896</td>\n",
       "      <td>3625155</td>\n",
       "      <td>13283</td>\n",
       "      <td>15</td>\n",
       "    </tr>\n",
       "    <tr>\n",
       "      <th>2018-12-01 00:00:05</th>\n",
       "      <td>BT2A400151505</td>\n",
       "      <td>9120153</td>\n",
       "      <td>1/1</td>\n",
       "      <td>1/1</td>\n",
       "      <td>1/1</td>\n",
       "      <td>14,28</td>\n",
       "      <td>8,41</td>\n",
       "      <td>10,41</td>\n",
       "      <td>327</td>\n",
       "      <td>97</td>\n",
       "      <td>...</td>\n",
       "      <td>0</td>\n",
       "      <td>60</td>\n",
       "      <td>132</td>\n",
       "      <td>121</td>\n",
       "      <td>37</td>\n",
       "      <td>0</td>\n",
       "      <td>16134896</td>\n",
       "      <td>3625155</td>\n",
       "      <td>13283</td>\n",
       "      <td>15</td>\n",
       "    </tr>\n",
       "    <tr>\n",
       "      <th>2018-12-01 00:00:05</th>\n",
       "      <td>BT2A400151505</td>\n",
       "      <td>9120153</td>\n",
       "      <td>1/1</td>\n",
       "      <td>1/1</td>\n",
       "      <td>1/1</td>\n",
       "      <td>14,28</td>\n",
       "      <td>8,41</td>\n",
       "      <td>10,41</td>\n",
       "      <td>327</td>\n",
       "      <td>97</td>\n",
       "      <td>...</td>\n",
       "      <td>0</td>\n",
       "      <td>60</td>\n",
       "      <td>132</td>\n",
       "      <td>121</td>\n",
       "      <td>37</td>\n",
       "      <td>0</td>\n",
       "      <td>16134896</td>\n",
       "      <td>3625155</td>\n",
       "      <td>13283</td>\n",
       "      <td>15</td>\n",
       "    </tr>\n",
       "    <tr>\n",
       "      <th>2018-12-01 00:00:05</th>\n",
       "      <td>BT2A400151505</td>\n",
       "      <td>9120153</td>\n",
       "      <td>1/1</td>\n",
       "      <td>1/1</td>\n",
       "      <td>1/1</td>\n",
       "      <td>14,28</td>\n",
       "      <td>8,41</td>\n",
       "      <td>10,41</td>\n",
       "      <td>327</td>\n",
       "      <td>97</td>\n",
       "      <td>...</td>\n",
       "      <td>0</td>\n",
       "      <td>60</td>\n",
       "      <td>132</td>\n",
       "      <td>121</td>\n",
       "      <td>37</td>\n",
       "      <td>0</td>\n",
       "      <td>16134896</td>\n",
       "      <td>3625155</td>\n",
       "      <td>13283</td>\n",
       "      <td>15</td>\n",
       "    </tr>\n",
       "  </tbody>\n",
       "</table>\n",
       "<p>5 rows × 39 columns</p>\n",
       "</div>"
      ],
      "text/plain": [
       "                     ponto_medicao   serial  RTC  RTP   KE     IA    IB  \\\n",
       "data                                                                      \n",
       "2018-12-01 00:00:05  BT2A400151505  9120153  1/1  1/1  1/1  14,28  8,41   \n",
       "2018-12-01 00:00:05  BT2A400151505  9120153  1/1  1/1  1/1  14,28  8,41   \n",
       "2018-12-01 00:00:05  BT2A400151505  9120153  1/1  1/1  1/1  14,28  8,41   \n",
       "2018-12-01 00:00:05  BT2A400151505  9120153  1/1  1/1  1/1  14,28  8,41   \n",
       "2018-12-01 00:00:05  BT2A400151505  9120153  1/1  1/1  1/1  14,28  8,41   \n",
       "\n",
       "                        IC  AIA  AIB  ...  DH FREQ  SEQ DEMAND_C1  DEMAND_C2  \\\n",
       "data                                  ...                                      \n",
       "2018-12-01 00:00:05  10,41  327   97  ...   0   60  132       121         37   \n",
       "2018-12-01 00:00:05  10,41  327   97  ...   0   60  132       121         37   \n",
       "2018-12-01 00:00:05  10,41  327   97  ...   0   60  132       121         37   \n",
       "2018-12-01 00:00:05  10,41  327   97  ...   0   60  132       121         37   \n",
       "2018-12-01 00:00:05  10,41  327   97  ...   0   60  132       121         37   \n",
       "\n",
       "                     DEMAND_C3    TOT_C1   TOT_C2 TOT_C3 DEM_INTERVAL  \n",
       "data                                                                   \n",
       "2018-12-01 00:00:05          0  16134896  3625155  13283           15  \n",
       "2018-12-01 00:00:05          0  16134896  3625155  13283           15  \n",
       "2018-12-01 00:00:05          0  16134896  3625155  13283           15  \n",
       "2018-12-01 00:00:05          0  16134896  3625155  13283           15  \n",
       "2018-12-01 00:00:05          0  16134896  3625155  13283           15  \n",
       "\n",
       "[5 rows x 39 columns]"
      ]
     },
     "execution_count": 39,
     "metadata": {},
     "output_type": "execute_result"
    }
   ],
   "source": [
    "df.head()"
   ]
  },
  {
   "cell_type": "markdown",
   "metadata": {},
   "source": [
    "## l_______________________________________________________________________"
   ]
  },
  {
   "cell_type": "code",
   "execution_count": null,
   "metadata": {},
   "outputs": [],
   "source": [
    "mkdir -p /home/ubuntu/data/data/maio_2019_proc/concat/fas/"
   ]
  },
  {
   "cell_type": "code",
   "execution_count": null,
   "metadata": {},
   "outputs": [],
   "source": [
    "mkdir -p /home/ubuntu/data/data/maio_2019_proc/fas-sep/"
   ]
  },
  {
   "cell_type": "code",
   "execution_count": null,
   "metadata": {},
   "outputs": [],
   "source": [
    "FAS_CONCAT_PROC  = '/home/ubuntu/data/data/maio_2019_proc/concat/fas/'"
   ]
  },
  {
   "cell_type": "code",
   "execution_count": null,
   "metadata": {},
   "outputs": [],
   "source": [
    "PATH_FAS_PROC  = '/home/ubuntu/data/data/maio_2019_proc/fas-sep/'"
   ]
  },
  {
   "cell_type": "markdown",
   "metadata": {},
   "source": [
    "## l_______________________________________________________________________"
   ]
  },
  {
   "cell_type": "code",
   "execution_count": null,
   "metadata": {},
   "outputs": [],
   "source": [
    "ls $PATH_FAS_PROC"
   ]
  },
  {
   "cell_type": "code",
   "execution_count": null,
   "metadata": {},
   "outputs": [],
   "source": [
    "def procsave(d,path):\n",
    "    shapes = {}\n",
    "    f = {}\n",
    "    print(len(d.items()))\n",
    "    for n,(k,v) in enumerate(d.items()):\n",
    "        print(n,end=' ')\n",
    "        f[k]=fasorial(name=k)\n",
    "        f[k].read_fasorial(v)\n",
    "        raw_shape = f[k].df.shape\n",
    "        f[k].proc_fasorial()\n",
    "        shapes[i] = (raw_shape, f[k].df.shape)\n",
    "        print(k)\n",
    "        f[k].df.to_csv(os.path.join(path,str(k)+'.csv'))\n",
    "    return f, shapes\n",
    "ft, st = procsave(ddirst,FAS_CONCAT_PROC)"
   ]
  },
  {
   "cell_type": "code",
   "execution_count": null,
   "metadata": {},
   "outputs": [],
   "source": [
    "fn, sn = procsave(ddirsn,PATH_FAS_PROC)"
   ]
  },
  {
   "cell_type": "markdown",
   "metadata": {},
   "source": [
    "## l_______________________________________________________________________"
   ]
  },
  {
   "cell_type": "code",
   "execution_count": null,
   "metadata": {},
   "outputs": [],
   "source": [
    "import pymongo\n",
    "myclient = pymongo.MongoClient(\"mongodb://localhost:27017/\")\n",
    "mydb = myclient[\"cas\"]"
   ]
  },
  {
   "cell_type": "code",
   "execution_count": null,
   "metadata": {},
   "outputs": [],
   "source": [
    "dblist = myclient.list_database_names()\n",
    "if \"mydatabase\" in dblist:\n",
    "    print(\"The database exists.\")"
   ]
  },
  {
   "cell_type": "code",
   "execution_count": null,
   "metadata": {},
   "outputs": [],
   "source": [
    "mycol = mydb['fas']"
   ]
  },
  {
   "cell_type": "code",
   "execution_count": null,
   "metadata": {},
   "outputs": [],
   "source": [
    "print(mydb.list_collection_names())"
   ]
  },
  {
   "cell_type": "markdown",
   "metadata": {},
   "source": [
    "## l_______________________________________________________________________"
   ]
  },
  {
   "cell_type": "markdown",
   "metadata": {},
   "source": [
    "# Importante"
   ]
  },
  {
   "cell_type": "code",
   "execution_count": null,
   "metadata": {},
   "outputs": [],
   "source": [
    "log_count=0"
   ]
  },
  {
   "cell_type": "code",
   "execution_count": null,
   "metadata": {},
   "outputs": [],
   "source": [
    "processados = []\n",
    "erros = []\n",
    "sem_hora = []\n",
    "err_msg = {}\n",
    "missing = []"
   ]
  },
  {
   "cell_type": "code",
   "execution_count": null,
   "metadata": {},
   "outputs": [],
   "source": [
    "log_file = open(os.path.join('../logs/',str(log_count)), 'at+')"
   ]
  },
  {
   "cell_type": "code",
   "execution_count": null,
   "metadata": {},
   "outputs": [],
   "source": [
    "def log(string):\n",
    "    print(string)\n",
    "    log_file.write(string)"
   ]
  },
  {
   "cell_type": "code",
   "execution_count": null,
   "metadata": {},
   "outputs": [],
   "source": [
    "def dici2list(d_insta_to_days):\n",
    "    ddays={}\n",
    "    ddays[12],ddays[1],ddays[2],ddays[3],ddays[4] = d_insta_to_days[12], d_insta_to_days[1], d_insta_to_days[2], d_insta_to_days[3], d_insta_to_days[4]\n",
    "    return ddays\n",
    "                "
   ]
  },
  {
   "cell_type": "code",
   "execution_count": null,
   "metadata": {},
   "outputs": [],
   "source": [
    "import traceback"
   ]
  },
  {
   "cell_type": "code",
   "execution_count": null,
   "metadata": {},
   "outputs": [],
   "source": [
    "pd.options.mode.chained_assignment = None  # default='warn' . option None"
   ]
  },
  {
   "cell_type": "code",
   "execution_count": null,
   "metadata": {},
   "outputs": [],
   "source": [
    "def loopy(d_insta_to_days, d_insta_to_files_fas, d_insta_to_files_mm,PATH_FAS, PATH_MM, output_dir,sepfas=';', sepmm = ',', gd=False):\n",
    "    df_out = pd.DataFrame(index=OUT_INDEX)\n",
    "    global difas, dimm\n",
    "    global dfas, dmm,  dimm\n",
    "    difas, dimm = sdict(), sdict()\n",
    "    c = 0\n",
    "    c1 = 0\n",
    "    for instalacao in d_insta_to_days:\n",
    "        c1 = c1 + 1\n",
    "        if (instalacao  not in processados):\n",
    "            log('######## ' + instalacao + ' #########')\n",
    "            medidor = dim[instalacao][0] if type(dim[instalacao]) is list else dim[instalacao]\n",
    "            try:\n",
    "            #if True:                \n",
    "                #carrega horário de funcionamento para o perfil atual\n",
    "                try:\n",
    "                    ramo = PERFIS.loc[instalacao,'cat']\n",
    "                except Exception as e:\n",
    "                    print(e)\n",
    "                    ramo=0\n",
    "                print('=====>>',ramo)\n",
    "                \n",
    "                try:\n",
    "                    hours = list(HORARIOS.loc[ PERFIS.loc[instalacao,'cluster'], : ])\n",
    "                except Exception as e:\n",
    "                    hours = list(HORARIOS.iloc[0,:])\n",
    "                    sem_hora.append(instalacao)\n",
    "                    print('Erro 1: \\n' , e)    \n",
    "                hours = [ h.strftime(\"%H:%M\") for h in hours]\n",
    "                hours = ['8:00', '18:00','8:00', '18:00','8:00', '18:00','0:00', '0:00']\n",
    "                #carrega dias de leitura\n",
    "                ddays = dici2list(d_insta_to_days[instalacao])\n",
    "                dfas = fasorial(name = instalacao, ddays=ddays)\n",
    "                dfas.read_fasorial(os.path.join(PATH_FAS, d_insta_to_files_fas[instalacao]), dtype=None, index_col=[5], sep = sepfas)\n",
    "                try:\n",
    "                    dfas.outputs['perfil'] = PERFIS.loc[instalacao,'Ramo de Atividade']\n",
    "                except Exception as e:\n",
    "                    print('Perfil não encontrado\\n'+ str(e))\n",
    "                    dfas.outputs['perfil'] = 'Não listado'\n",
    "\n",
    "                dmm = mm(name = instalacao, ddays = ddays, ramo=ramo)\n",
    "                dmm.read_mm(os.path.join(PATH_MM, d_insta_to_files_mm[instalacao]),sep=sepmm, skiprows=[0])\n",
    "                proc_fas(dfas,ddays, NN_FAS, hours = dfas.hours, gd=gd)\n",
    "                processa_mm(dmm, ddays, PERFIL, DEGRAU, MORRO)\n",
    "                print('################################################')\n",
    "\n",
    "                #Cria um dicionário de outputs por mês para o fasorial\n",
    "                for y in dfas.months:\n",
    "                    dfas.outputs[y] = {}\n",
    "                    for month  in dfas.months[y]:\n",
    "                        dfas.outputs[y][month] = dfas.months[y][month].outputs\n",
    "               \n",
    "                df_out = cat_out2(df_out, dmm.outputs, dfas.outputs, ddays,OUT_INDEX)\n",
    "                \n",
    "                difas[instalacao] = dfas\n",
    "                dimm[instalacao] = dmm\n",
    "                \n",
    "                c = c+1\n",
    "                if c1 % 100 ==0 :  \n",
    "                    return df_out, dfas, dmm\n",
    "                    log('Salvando csv!')\n",
    "                    df_out.T.to_csv(output_dir + str(c-100) + '_to_' + str(c) +'.csv')                    \n",
    "                    pickle.dump(processados, open('../pickles/all/processados.pkl','wb'))\n",
    "                    pickle.dump(erros, open('../pickles/all/erros.pkl','wb'))                    \n",
    "                    df_out=pd.DataFrame()\n",
    "                processados.append(instalacao)\n",
    "            except Exception as e:\n",
    "            #else:\n",
    "                erros.append(instalacao)\n",
    "                err_msg[instalacao] = traceback.format_exc()\n",
    "                print('++++++Erro 2++++++++++ \\n'+ str(traceback.format_exc())+'\\n++++++++++++++++++++')\n",
    "    #return df_out, dfas, dmm\n",
    "    pickle.dump(processados, open('../pickles/all/processados.pkl','wb'))\n",
    "    pickle.dump(erros, open('../pickles/all/erros.pkl','wb'))\n",
    "    df_out.T.to_csv(output_dir + 'ultimos.csv')        "
   ]
  },
  {
   "cell_type": "markdown",
   "metadata": {},
   "source": [
    "## l_______________________________________________________________________"
   ]
  },
  {
   "cell_type": "markdown",
   "metadata": {},
   "source": [
    "## Processamento principal"
   ]
  },
  {
   "cell_type": "code",
   "execution_count": null,
   "metadata": {},
   "outputs": [],
   "source": [
    "import of_proc, mainlib\n",
    "reload(of_proc)\n",
    "reload(mainlib)\n",
    "from of_proc import *\n",
    "from mainlib import fasorial, mm"
   ]
  },
  {
   "cell_type": "code",
   "execution_count": null,
   "metadata": {
    "collapsed": true
   },
   "outputs": [],
   "source": [
    "loopy(o_i_normal, dfiles_fas2, dfiles_mm2,PATH_FAS, PATH_MM,OUT,sepmm=',')"
   ]
  },
  {
   "cell_type": "code",
   "execution_count": null,
   "metadata": {},
   "outputs": [],
   "source": [
    "processados = []\n",
    "log_count = log_count + 1\n",
    "loopy(o_i_troca, dfiles_fas_concat, dfiles_mm_concat,FAS_CONCAT, MM_CONCAT,OUT_CONCAT,sepmm=';')"
   ]
  },
  {
   "cell_type": "markdown",
   "metadata": {},
   "source": [
    "## l_______________________________________________________________________"
   ]
  },
  {
   "cell_type": "code",
   "execution_count": null,
   "metadata": {},
   "outputs": [],
   "source": [
    "!rm -r  ../outputs/concat/.ipynb_checkpoints"
   ]
  },
  {
   "cell_type": "code",
   "execution_count": null,
   "metadata": {},
   "outputs": [],
   "source": [
    "ddf = {}\n",
    "dire = '../outputs/concat/'\n",
    "for i in os.listdir(dire):\n",
    "    if i != '.ipynb_checkpoints':\n",
    "        ddf[i] = pd.read_csv(os.path.join(dire, i),index_col=[0])"
   ]
  },
  {
   "cell_type": "code",
   "execution_count": null,
   "metadata": {},
   "outputs": [],
   "source": [
    "for v in ddf.values():\n",
    "    print(v.shape)"
   ]
  },
  {
   "cell_type": "code",
   "execution_count": null,
   "metadata": {},
   "outputs": [],
   "source": [
    "df1 = pd.DataFrame()\n",
    "for k,v in ddf.items():\n",
    "    df1 = pd.concat( ( df1, v), axis=0)"
   ]
  },
  {
   "cell_type": "code",
   "execution_count": null,
   "metadata": {},
   "outputs": [],
   "source": [
    "df1.shape"
   ]
  },
  {
   "cell_type": "code",
   "execution_count": null,
   "metadata": {},
   "outputs": [],
   "source": [
    "! ls ~/data/data/outputs-31072019/troca"
   ]
  },
  {
   "cell_type": "code",
   "execution_count": null,
   "metadata": {},
   "outputs": [],
   "source": [
    "d2 = {}\n",
    "dire2 = '/home/ubuntu/data/data/outputs-31072019/troca/'\n",
    "for i in os.listdir(dire2):\n",
    "    if i != '.ipynb_checkpoints':\n",
    "        d2[i] = pd.read_csv(os.path.join(dire2, i), index_col=[0])"
   ]
  },
  {
   "cell_type": "code",
   "execution_count": null,
   "metadata": {},
   "outputs": [],
   "source": [
    "df2 = pd.DataFrame()\n",
    "for k,v in d2.items():\n",
    "    df2 = pd.concat( ( df2, v), axis=0)"
   ]
  },
  {
   "cell_type": "code",
   "execution_count": null,
   "metadata": {},
   "outputs": [],
   "source": [
    "df2.set_index('Nome',inplace=True)"
   ]
  },
  {
   "cell_type": "code",
   "execution_count": null,
   "metadata": {},
   "outputs": [],
   "source": [
    "df1.set_index('Nome',inplace=True)"
   ]
  },
  {
   "cell_type": "markdown",
   "metadata": {},
   "source": [
    "## l_______________________________________________________________________"
   ]
  },
  {
   "cell_type": "code",
   "execution_count": null,
   "metadata": {},
   "outputs": [],
   "source": [
    "l = set([v for v in df2.index if v not in df1.index])"
   ]
  },
  {
   "cell_type": "code",
   "execution_count": null,
   "metadata": {},
   "outputs": [],
   "source": [
    "len(l)"
   ]
  },
  {
   "cell_type": "code",
   "execution_count": null,
   "metadata": {},
   "outputs": [],
   "source": [
    "df1.columns"
   ]
  },
  {
   "cell_type": "code",
   "execution_count": null,
   "metadata": {},
   "outputs": [],
   "source": [
    "cmp = pd.DataFrame(df1['DIAGNÓSTICO-FINAL'])"
   ]
  },
  {
   "cell_type": "code",
   "execution_count": null,
   "metadata": {},
   "outputs": [],
   "source": [
    "cmp1=cmp.groupby(level=0).max()"
   ]
  },
  {
   "cell_type": "code",
   "execution_count": null,
   "metadata": {},
   "outputs": [],
   "source": [
    "t1 = df2.loc[cmp1.index,'DIAGNÓSTICO-FINAL']"
   ]
  },
  {
   "cell_type": "code",
   "execution_count": null,
   "metadata": {},
   "outputs": [],
   "source": [
    "t2=t1.groupby(level=0).max()"
   ]
  },
  {
   "cell_type": "code",
   "execution_count": null,
   "metadata": {},
   "outputs": [],
   "source": [
    "t2.shape"
   ]
  },
  {
   "cell_type": "code",
   "execution_count": null,
   "metadata": {},
   "outputs": [],
   "source": [
    "t1.shape"
   ]
  },
  {
   "cell_type": "code",
   "execution_count": null,
   "metadata": {},
   "outputs": [],
   "source": [
    "cmp.shape"
   ]
  },
  {
   "cell_type": "code",
   "execution_count": null,
   "metadata": {},
   "outputs": [],
   "source": [
    "cmp1.shape"
   ]
  },
  {
   "cell_type": "code",
   "execution_count": null,
   "metadata": {},
   "outputs": [],
   "source": [
    "cmp1.insert(loc=1, column='diag2', value=t2)"
   ]
  },
  {
   "cell_type": "code",
   "execution_count": null,
   "metadata": {},
   "outputs": [],
   "source": [
    "cmp1.columns =['diag1','diag2']"
   ]
  },
  {
   "cell_type": "code",
   "execution_count": null,
   "metadata": {},
   "outputs": [],
   "source": [
    "(cmp1['diag2'] < cmp1['diag1']).sum()"
   ]
  },
  {
   "cell_type": "code",
   "execution_count": null,
   "metadata": {},
   "outputs": [],
   "source": [
    "gt = pd.read_csv('../data/groundtruth.csv', sep = ';', index_col=0)"
   ]
  },
  {
   "cell_type": "code",
   "execution_count": null,
   "metadata": {},
   "outputs": [],
   "source": [
    "labels = {'NADA APURADO':0, 'LOCAL VAZIO/ DESATIVADO':1, 'CLIENTE DESLIGADO OU CORTADO':2, 'DEFEITO SEM PERDA':3, 'DEFEITO GEROU PERDA':4 ,  'FRAUDE CONSTATADA':5}"
   ]
  },
  {
   "cell_type": "code",
   "execution_count": null,
   "metadata": {},
   "outputs": [],
   "source": [
    "gt['Retorno de campo']=gt['Retorno de campo'].map(labels)"
   ]
  },
  {
   "cell_type": "code",
   "execution_count": null,
   "metadata": {},
   "outputs": [],
   "source": [
    "x=gt.loc[cmp1.index].loc[:,'Retorno de campo'].to_dict()"
   ]
  },
  {
   "cell_type": "code",
   "execution_count": null,
   "metadata": {},
   "outputs": [],
   "source": [
    "cmp1['gt'] = cmp1.index"
   ]
  },
  {
   "cell_type": "code",
   "execution_count": null,
   "metadata": {},
   "outputs": [],
   "source": [
    "cmp1['gt']=cmp1['gt'].map(x)"
   ]
  },
  {
   "cell_type": "code",
   "execution_count": null,
   "metadata": {},
   "outputs": [],
   "source": [
    "cmp2 = cmp1.dropna()"
   ]
  },
  {
   "cell_type": "code",
   "execution_count": null,
   "metadata": {},
   "outputs": [],
   "source": [
    "c3=cmp2[cmp2['diag1'] != cmp2['diag2']]"
   ]
  },
  {
   "cell_type": "code",
   "execution_count": null,
   "metadata": {},
   "outputs": [],
   "source": [
    "c3"
   ]
  },
  {
   "cell_type": "code",
   "execution_count": null,
   "metadata": {},
   "outputs": [],
   "source": [
    "df1.loc[cmp2.index]"
   ]
  },
  {
   "cell_type": "code",
   "execution_count": null,
   "metadata": {},
   "outputs": [],
   "source": [
    "df2.loc[cmp2.index]"
   ]
  },
  {
   "cell_type": "markdown",
   "metadata": {},
   "source": [
    "## l_______________________________________________________________________"
   ]
  },
  {
   "cell_type": "code",
   "execution_count": null,
   "metadata": {},
   "outputs": [],
   "source": [
    "def compare(col):\n",
    "    cmp = pd.DataFrame(df1[col])\n",
    "    cmp1=cmp.groupby(level=0).max()\n",
    "    t1 = df2.loc[cmp1.index,col]\n",
    "    t2=t1.groupby(level=0).max()\n",
    "    cmp1.insert(loc=1, column='diag2', value=t2)\n",
    "    cmp1.columns =['diag1','diag2']\n",
    "    (cmp1['diag2'] < cmp1['diag1']).sum()\n",
    "    #gt = pd.read_csv('../data/groundtruth.csv', sep = ';', index_col=0)\n",
    "    labels = {'NADA APURADO':0, 'LOCAL VAZIO/ DESATIVADO':1, 'CLIENTE DESLIGADO OU CORTADO':2, 'DEFEITO SEM PERDA':3, 'DEFEITO GEROU PERDA':4 ,  'FRAUDE CONSTATADA':5}\n",
    "    x=gt.loc[cmp1.index].loc[:,'Retorno de campo'].to_dict()\n",
    "    cmp1.insert(loc=0, column='gt' , value=cmp1.index)\n",
    "    cmp1['gt']=cmp1['gt'].map(x)\n",
    "    cmp2 = cmp1.dropna()\n",
    "    c3=cmp2[cmp2['diag1'] != cmp2['diag2']]\n",
    "    return cmp2\n"
   ]
  },
  {
   "cell_type": "code",
   "execution_count": null,
   "metadata": {},
   "outputs": [],
   "source": [
    "cper=compare(Diag Ramo-ativ')"
   ]
  },
  {
   "cell_type": "code",
   "execution_count": null,
   "metadata": {},
   "outputs": [],
   "source": [
    "print(df1['Diag Ramo-ativ'].sum(), len(df1))"
   ]
  },
  {
   "cell_type": "markdown",
   "metadata": {},
   "source": [
    "## l_______________________________________________________________________"
   ]
  },
  {
   "cell_type": "markdown",
   "metadata": {},
   "source": [
    "### GD - Geração distribuída"
   ]
  },
  {
   "cell_type": "code",
   "execution_count": null,
   "metadata": {},
   "outputs": [],
   "source": [
    "gd = ['BTI410459177',\n",
    "'BT2A412848249',\n",
    "'BT2A410905316',\n",
    "'BT2A411227473',\n",
    "'BT2A421020458',\n",
    "'BTI414734218',\n",
    "'BTI412916568',\n",
    "'BTI410998422',\n",
    "'BTI420578422',\n",
    "'BT2A4118783841' ]"
   ]
  },
  {
   "cell_type": "code",
   "execution_count": null,
   "metadata": {},
   "outputs": [],
   "source": [
    "ngd = dict([ (k,v) for (k,v) in o_i_normal.items() if k in gd ])"
   ]
  },
  {
   "cell_type": "code",
   "execution_count": null,
   "metadata": {},
   "outputs": [],
   "source": [
    "tgd = dict([ (k,v) for (k,v) in o_i_troca.items() if k in gd ])"
   ]
  },
  {
   "cell_type": "code",
   "execution_count": null,
   "metadata": {},
   "outputs": [],
   "source": [
    "processados = []"
   ]
  },
  {
   "cell_type": "code",
   "execution_count": null,
   "metadata": {},
   "outputs": [],
   "source": [
    "gd_n, fas_gd_n, mm_gd_n = loopy(ngd, dfiles_fas2, dfiles_mm2,PATH_FAS, PATH_MM,OUT,sepmm=',',gd=True)"
   ]
  },
  {
   "cell_type": "code",
   "execution_count": null,
   "metadata": {},
   "outputs": [],
   "source": [
    "gd_t, fas_gd_t, mm_gd_t=loopy(tgd, dfiles_fas_concat, dfiles_mm_concat,FAS_CONCAT, MM_CONCAT,OUT_CONCAT,sepmm=';', gd=True)"
   ]
  },
  {
   "cell_type": "markdown",
   "metadata": {},
   "source": [
    "## l_______________________________________________________________________"
   ]
  },
  {
   "cell_type": "code",
   "execution_count": null,
   "metadata": {},
   "outputs": [],
   "source": [
    "gd_n"
   ]
  },
  {
   "cell_type": "code",
   "execution_count": null,
   "metadata": {},
   "outputs": [],
   "source": [
    "out_gd = pd.concat((gd_n.T, gd_t.T), axis=0)"
   ]
  },
  {
   "cell_type": "code",
   "execution_count": null,
   "metadata": {},
   "outputs": [],
   "source": [
    "print(gd_n.T.shape, out_gd.shape)"
   ]
  },
  {
   "cell_type": "raw",
   "metadata": {},
   "source": [
    "out_gd.to_csv('../outputs/outputs_GD.csv')"
   ]
  },
  {
   "cell_type": "code",
   "execution_count": null,
   "metadata": {},
   "outputs": [],
   "source": [
    "out_gd.T"
   ]
  },
  {
   "cell_type": "markdown",
   "metadata": {},
   "source": [
    "## l_______________________________________________________________________"
   ]
  },
  {
   "cell_type": "markdown",
   "metadata": {},
   "source": [
    "### Checagem"
   ]
  },
  {
   "cell_type": "code",
   "execution_count": null,
   "metadata": {},
   "outputs": [],
   "source": [
    "e1 = fasorial(name='BTI410459177')\n",
    "e1.read_fasorial(os.path.join(FAS_CONCAT, dfiles_fas_concat['BTI410459177']),sep=';', dtype=None)"
   ]
  },
  {
   "cell_type": "code",
   "execution_count": null,
   "metadata": {},
   "outputs": [],
   "source": [
    "df = e1.df\n",
    "df[['AVAB', 'AVBC', 'AVAC']]"
   ]
  },
  {
   "cell_type": "markdown",
   "metadata": {},
   "source": [
    "## l_______________________________________________________________________"
   ]
  },
  {
   "cell_type": "markdown",
   "metadata": {},
   "source": [
    "#### erros"
   ]
  },
  {
   "cell_type": "code",
   "execution_count": null,
   "metadata": {},
   "outputs": [],
   "source": [
    "err = pickle.load(open('../pickles/all/erros.pkl', 'rb'))"
   ]
  },
  {
   "cell_type": "code",
   "execution_count": null,
   "metadata": {},
   "outputs": [],
   "source": [
    "dall={}\n",
    "dct = {}\n",
    "lnf = []\n",
    "for e in err:\n",
    "    if e in dfiles_fas2:\n",
    "        dall[err[0]] = dfiles_fas2[err[0]]\n",
    "    elif e in dfiles_fas_concat:\n",
    "        dct[err[0]] = dfiles_fas_concat[err[0]]\n",
    "    else:\n",
    "        lnf.append(e)"
   ]
  },
  {
   "cell_type": "markdown",
   "metadata": {},
   "source": [
    "#### Todos os casos que deram erro não estão no banco de dados"
   ]
  },
  {
   "cell_type": "markdown",
   "metadata": {},
   "source": [
    "## l_______________________________________________________________________"
   ]
  },
  {
   "cell_type": "markdown",
   "metadata": {},
   "source": [
    "#### Teste de performance"
   ]
  },
  {
   "cell_type": "code",
   "execution_count": null,
   "metadata": {},
   "outputs": [],
   "source": [
    "%%time\n",
    "processados = []\n",
    "log_count = log_count + 1\n",
    "dfo, f, m=loopy(o_i_troca, dfiles_fas_concat, dfiles_mm_concat,FAS_CONCAT, MM_CONCAT,OUT_CONCAT,sepmm=';')"
   ]
  },
  {
   "cell_type": "code",
   "execution_count": null,
   "metadata": {},
   "outputs": [],
   "source": [
    "import pandas as pd"
   ]
  },
  {
   "cell_type": "code",
   "execution_count": null,
   "metadata": {},
   "outputs": [],
   "source": [
    "%%time\n",
    "processados = []\n",
    "log_count = log_count + 1\n",
    "dfo, f, m=loopy(o_i_troca, dfiles_fas_concat, dfiles_mm_concat,FAS_CONCAT, MM_CONCAT,OUT_CONCAT,sepmm=';')"
   ]
  },
  {
   "cell_type": "markdown",
   "metadata": {},
   "source": [
    "## l_______________________________________________________________________"
   ]
  },
  {
   "cell_type": "markdown",
   "metadata": {},
   "source": [
    "## Casos de controle-0108"
   ]
  },
  {
   "cell_type": "markdown",
   "metadata": {},
   "source": [
    "dados obtidos do notebook analise01082019"
   ]
  },
  {
   "cell_type": "code",
   "execution_count": null,
   "metadata": {},
   "outputs": [],
   "source": [
    "#tensao minima & anomalia de ângulos\n",
    "i1 = 'BTI410613629'\n",
    "#anomalia de ângulos\n",
    "i2 = 'BTI410627580'\n",
    "#anomalia de ângulos\n",
    "i3 = 'BTI400075396'\n",
    "i4 = 'BTI430044836'\n",
    "#etc"
   ]
  },
  {
   "cell_type": "markdown",
   "metadata": {},
   "source": [
    "## l_______________________________________________________________________"
   ]
  },
  {
   "cell_type": "code",
   "execution_count": null,
   "metadata": {},
   "outputs": [],
   "source": [
    "x = pd.read_csv(os.path.join(PATH_FAS,dfiles_fas[i4][0]),sep=';')"
   ]
  },
  {
   "cell_type": "code",
   "execution_count": null,
   "metadata": {
    "collapsed": true
   },
   "outputs": [],
   "source": [
    "x.iloc[:,25].value_counts()"
   ]
  },
  {
   "cell_type": "code",
   "execution_count": null,
   "metadata": {},
   "outputs": [],
   "source": [
    "dd1.df.columns"
   ]
  },
  {
   "cell_type": "code",
   "execution_count": null,
   "metadata": {
    "collapsed": true
   },
   "outputs": [],
   "source": [
    "dd1 = fasorial()\n",
    "dd1.read_fasorial(os.path.join(PATH_FAS,dfiles_fas[i4][0]),sep=';',dtype=None)"
   ]
  },
  {
   "cell_type": "code",
   "execution_count": null,
   "metadata": {
    "collapsed": true
   },
   "outputs": [],
   "source": [
    "dd1.df['PB'].value_counts()"
   ]
  },
  {
   "cell_type": "code",
   "execution_count": null,
   "metadata": {
    "collapsed": true
   },
   "outputs": [],
   "source": [
    "dd1.df['PB'].apply(f.proc_string).value_counts()"
   ]
  },
  {
   "cell_type": "code",
   "execution_count": null,
   "metadata": {},
   "outputs": [],
   "source": [
    "x = f.proc_fasorial(df=dd1.df)"
   ]
  },
  {
   "cell_type": "code",
   "execution_count": null,
   "metadata": {
    "collapsed": true
   },
   "outputs": [],
   "source": [
    "x['PB'].value_counts()"
   ]
  },
  {
   "cell_type": "markdown",
   "metadata": {},
   "source": [
    "## l_______________________________________________________________________"
   ]
  },
  {
   "cell_type": "code",
   "execution_count": null,
   "metadata": {},
   "outputs": [],
   "source": [
    "def rex(string):\n",
    "    if re.match('-[0-9,.]+',string):\n",
    "        return float(('-0'+''.join(re.findall('[0-9,.]+',string))).replace(',','.'))\n",
    "    else:\n",
    "        return float(('0'+''.join(re.findall('-*[0-9,.]+',string))).replace(',','.'))"
   ]
  },
  {
   "cell_type": "code",
   "execution_count": null,
   "metadata": {},
   "outputs": [],
   "source": [
    "rex('0012.12')"
   ]
  },
  {
   "cell_type": "code",
   "execution_count": null,
   "metadata": {},
   "outputs": [],
   "source": [
    "d1 = {}\n",
    "d1[i1] = o_i_normal[i4]"
   ]
  },
  {
   "cell_type": "code",
   "execution_count": null,
   "metadata": {},
   "outputs": [],
   "source": [
    "import mainlib, of_proc\n",
    "reload(mainlib)\n",
    "reload(of_proc)\n",
    "from mainlib import fasorial, mm\n",
    "from of_proc import *"
   ]
  },
  {
   "cell_type": "code",
   "execution_count": null,
   "metadata": {},
   "outputs": [],
   "source": [
    "string = '-,34'"
   ]
  },
  {
   "cell_type": "code",
   "execution_count": null,
   "metadata": {},
   "outputs": [],
   "source": [
    "if re.match('^~a', 'abb1'):\n",
    "    print('df')"
   ]
  },
  {
   "cell_type": "code",
   "execution_count": null,
   "metadata": {},
   "outputs": [],
   "source": [
    "re.match??"
   ]
  },
  {
   "cell_type": "code",
   "execution_count": null,
   "metadata": {},
   "outputs": [],
   "source": [
    "'0' + ''.join(re.findall('-*[0-9,.]+',string)).replace(',','.')"
   ]
  },
  {
   "cell_type": "code",
   "execution_count": null,
   "metadata": {},
   "outputs": [],
   "source": [
    "f=fasorial()"
   ]
  },
  {
   "cell_type": "code",
   "execution_count": null,
   "metadata": {},
   "outputs": [],
   "source": [
    "f.proc_string('1')"
   ]
  },
  {
   "cell_type": "code",
   "execution_count": null,
   "metadata": {},
   "outputs": [],
   "source": [
    "processados = []\n",
    "dfo, f, m=loopy(d1, dfiles_fas2, dfiles_mm2,PATH_FAS, PATH_MM,OUT,sepmm=',')"
   ]
  },
  {
   "cell_type": "code",
   "execution_count": null,
   "metadata": {},
   "outputs": [],
   "source": [
    "dfo"
   ]
  },
  {
   "cell_type": "code",
   "execution_count": null,
   "metadata": {},
   "outputs": [],
   "source": [
    "float('-01.3')"
   ]
  },
  {
   "cell_type": "code",
   "execution_count": null,
   "metadata": {},
   "outputs": [],
   "source": [
    "f.df['PB'].value_counts()"
   ]
  },
  {
   "cell_type": "code",
   "execution_count": null,
   "metadata": {},
   "outputs": [],
   "source": [
    "f.months[2019][4].df['PB'].value_counts()"
   ]
  },
  {
   "cell_type": "code",
   "execution_count": null,
   "metadata": {},
   "outputs": [],
   "source": [
    "f.df['PA'].value_counts()"
   ]
  },
  {
   "cell_type": "code",
   "execution_count": null,
   "metadata": {},
   "outputs": [],
   "source": [
    "fev=dfas.months[2019][2].df"
   ]
  },
  {
   "cell_type": "code",
   "execution_count": null,
   "metadata": {},
   "outputs": [],
   "source": [
    "dfas.df[['PA','PB','PC']]"
   ]
  },
  {
   "cell_type": "code",
   "execution_count": null,
   "metadata": {},
   "outputs": [],
   "source": [
    "fev[['PA','PB','PC']]<0"
   ]
  },
  {
   "cell_type": "code",
   "execution_count": null,
   "metadata": {},
   "outputs": [],
   "source": [
    "fev[fev[['PA','PB','PC']]<0][['PA','PB','PC']]"
   ]
  },
  {
   "cell_type": "markdown",
   "metadata": {},
   "source": [
    "## l_______________________________________________________________________"
   ]
  },
  {
   "cell_type": "code",
   "execution_count": null,
   "metadata": {
    "collapsed": true
   },
   "outputs": [],
   "source": [
    "dfas.df[['AVAB', 'AVBC', 'AVAC']]"
   ]
  },
  {
   "cell_type": "code",
   "execution_count": null,
   "metadata": {
    "collapsed": true
   },
   "outputs": [],
   "source": [
    "dfas.months[2019][1].df[['AVAB', 'AVBC', 'AVAC']]"
   ]
  },
  {
   "cell_type": "markdown",
   "metadata": {},
   "source": [
    "## l_______________________________________________________________________"
   ]
  },
  {
   "cell_type": "markdown",
   "metadata": {},
   "source": [
    "# Análise de  perfis"
   ]
  },
  {
   "cell_type": "code",
   "execution_count": null,
   "metadata": {},
   "outputs": [],
   "source": [
    "fat = get_info(['paths','perfis','mapa'])"
   ]
  },
  {
   "cell_type": "code",
   "execution_count": null,
   "metadata": {},
   "outputs": [],
   "source": [
    "fat"
   ]
  },
  {
   "cell_type": "code",
   "execution_count": null,
   "metadata": {},
   "outputs": [],
   "source": [
    "at = pd.read_csv(fat, sep = ';')"
   ]
  },
  {
   "cell_type": "code",
   "execution_count": null,
   "metadata": {
    "collapsed": true
   },
   "outputs": [],
   "source": [
    "at"
   ]
  },
  {
   "cell_type": "code",
   "execution_count": null,
   "metadata": {},
   "outputs": [],
   "source": [
    "at['Ramo de Atividade'].nunique()"
   ]
  },
  {
   "cell_type": "code",
   "execution_count": null,
   "metadata": {},
   "outputs": [],
   "source": [
    "at['Horário de Funcionamento'].nunique()"
   ]
  },
  {
   "cell_type": "code",
   "execution_count": null,
   "metadata": {},
   "outputs": [],
   "source": [
    "'Academia;Academia' in at['Ramo de Atividade;Horário de Funcionamento']"
   ]
  },
  {
   "cell_type": "code",
   "execution_count": null,
   "metadata": {
    "collapsed": true
   },
   "outputs": [],
   "source": [
    "PERFIS"
   ]
  },
  {
   "cell_type": "code",
   "execution_count": null,
   "metadata": {},
   "outputs": [],
   "source": [
    "pr = PERFIS.copy()"
   ]
  },
  {
   "cell_type": "code",
   "execution_count": null,
   "metadata": {
    "collapsed": true
   },
   "outputs": [],
   "source": [
    "pr"
   ]
  },
  {
   "cell_type": "code",
   "execution_count": null,
   "metadata": {},
   "outputs": [],
   "source": [
    "ram = pr.loc[:,'Ramo de Atividade']"
   ]
  },
  {
   "cell_type": "code",
   "execution_count": null,
   "metadata": {},
   "outputs": [],
   "source": [
    "ram.nunique()"
   ]
  },
  {
   "cell_type": "code",
   "execution_count": null,
   "metadata": {
    "collapsed": true
   },
   "outputs": [],
   "source": [
    "for r in ram:"
   ]
  },
  {
   "cell_type": "markdown",
   "metadata": {},
   "source": [
    "## l_______________________________________________________________________"
   ]
  },
  {
   "cell_type": "markdown",
   "metadata": {},
   "source": [
    "### Vamos acabar com os warnings"
   ]
  },
  {
   "cell_type": "markdown",
   "metadata": {},
   "source": [
    "## l_______________________________________________________________________"
   ]
  },
  {
   "cell_type": "markdown",
   "metadata": {},
   "source": [
    "## Processar para alguns casos"
   ]
  },
  {
   "cell_type": "code",
   "execution_count": null,
   "metadata": {},
   "outputs": [],
   "source": [
    "import mainlib\n",
    "reload(mainlib)\n",
    "from mainlib import fasorial, mm, infos"
   ]
  },
  {
   "cell_type": "code",
   "execution_count": null,
   "metadata": {},
   "outputs": [],
   "source": [
    "bola_da_vez =  ['BTI412523996', 'BTI414723853', 'BTI413195196', 'BTI413356793', 'BTI430044836', 'BTI410873766', 'BT2A410501458']"
   ]
  },
  {
   "cell_type": "code",
   "execution_count": null,
   "metadata": {},
   "outputs": [],
   "source": [
    "lnorm={}\n",
    "for j in bola_da_vez:\n",
    "    if j in o_i_normal:\n",
    "        lnorm[j]=o_i_normal[j]"
   ]
  },
  {
   "cell_type": "code",
   "execution_count": null,
   "metadata": {},
   "outputs": [],
   "source": [
    "ltroca={}\n",
    "for j in bola_da_vez:\n",
    "    if j in o_i_troca:\n",
    "        ltroca[j]=o_i_troca[j]"
   ]
  },
  {
   "cell_type": "code",
   "execution_count": null,
   "metadata": {
    "collapsed": true
   },
   "outputs": [],
   "source": [
    "processados=[]\n",
    "reload(mainlib)\n",
    "reload(of_proc)\n",
    "from mainlib import fasorial\n",
    "from of_proc import *\n",
    "ot, ft, mt = loopy(ltroca, dfiles_fas_concat, dfiles_mm_concat,FAS_CONCAT, MM_CONCAT,OUT_CONCAT,sepmm=';')"
   ]
  },
  {
   "cell_type": "code",
   "execution_count": null,
   "metadata": {
    "collapsed": true
   },
   "outputs": [],
   "source": [
    "on = loopy(lnorm, dfiles_fas2, dfiles_mm2,PATH_FAS, PATH_MM,OUT,sepmm=',')"
   ]
  },
  {
   "cell_type": "code",
   "execution_count": null,
   "metadata": {
    "collapsed": true
   },
   "outputs": [],
   "source": [
    "reload(mainlib)\n",
    "from mainlib import fasorial\n",
    "f=fasorial()\n",
    "x = f.ult_corrente_zero(hours2,hollydays,df=ft.months[2019][1].df)"
   ]
  },
  {
   "cell_type": "code",
   "execution_count": null,
   "metadata": {
    "collapsed": true
   },
   "outputs": [],
   "source": [
    "ot"
   ]
  },
  {
   "cell_type": "code",
   "execution_count": null,
   "metadata": {
    "collapsed": true
   },
   "outputs": [],
   "source": [
    "on[0]"
   ]
  },
  {
   "cell_type": "markdown",
   "metadata": {},
   "source": [
    "## l_______________________________________________________________________"
   ]
  },
  {
   "cell_type": "markdown",
   "metadata": {},
   "source": [
    "## Casos de controle-2907"
   ]
  },
  {
   "cell_type": "code",
   "execution_count": null,
   "metadata": {},
   "outputs": [],
   "source": [
    "import mainlib\n",
    "reload(mainlib)\n",
    "from mainlib import fasorial, mm, infos"
   ]
  },
  {
   "cell_type": "code",
   "execution_count": null,
   "metadata": {},
   "outputs": [],
   "source": [
    "cc=['BT2A413509589', 'BT2A413504172', 'BTI412523996', 'BTI414723853', 'BTI413195196', 'BTI412954251', 'BTI411387957']"
   ]
  },
  {
   "cell_type": "code",
   "execution_count": null,
   "metadata": {},
   "outputs": [],
   "source": [
    "cn = {}\n",
    "for c in cc:\n",
    "    if c in o_i_normal:\n",
    "        cn[c] = o_i_normal[c]"
   ]
  },
  {
   "cell_type": "code",
   "execution_count": null,
   "metadata": {},
   "outputs": [],
   "source": [
    "ct = {}\n",
    "for c in cc:\n",
    "    if c in o_i_troca:\n",
    "        ct[c] = o_i_troca[c]"
   ]
  },
  {
   "cell_type": "code",
   "execution_count": null,
   "metadata": {},
   "outputs": [],
   "source": [
    "processados = []"
   ]
  },
  {
   "cell_type": "code",
   "execution_count": null,
   "metadata": {
    "collapsed": true
   },
   "outputs": [],
   "source": [
    "ot2, ft2, mt2 = loopy(ct, dfiles_fas_concat, dfiles_mm_concat,FAS_CONCAT, MM_CONCAT,OUT_CONCAT,sepmm=';')"
   ]
  },
  {
   "cell_type": "code",
   "execution_count": null,
   "metadata": {
    "collapsed": true
   },
   "outputs": [],
   "source": [
    "on2, fn2, mn2 = loopy(cn, dfiles_fas2, dfiles_mm2,PATH_FAS, PATH_MM,OUT,sepmm=',')"
   ]
  },
  {
   "cell_type": "code",
   "execution_count": null,
   "metadata": {},
   "outputs": [],
   "source": [
    "ft2.hours"
   ]
  },
  {
   "cell_type": "code",
   "execution_count": null,
   "metadata": {
    "collapsed": true
   },
   "outputs": [],
   "source": [
    "ft.months[2019][1].ult_corrente_zero(ft.months[2019][1].hours2, ft.months[2019][1].hollydays)"
   ]
  },
  {
   "cell_type": "code",
   "execution_count": null,
   "metadata": {
    "collapsed": true
   },
   "outputs": [],
   "source": [
    "on2"
   ]
  },
  {
   "cell_type": "markdown",
   "metadata": {},
   "source": [
    "## l_______________________________________________________________________"
   ]
  },
  {
   "cell_type": "code",
   "execution_count": null,
   "metadata": {},
   "outputs": [],
   "source": [
    "dfout = pd.concat((ot,on2), axis=1)"
   ]
  },
  {
   "cell_type": "code",
   "execution_count": null,
   "metadata": {},
   "outputs": [],
   "source": [
    "dfout = dfout.T"
   ]
  },
  {
   "cell_type": "code",
   "execution_count": null,
   "metadata": {},
   "outputs": [],
   "source": [
    "dfout.to_csv('outputs2.csv')"
   ]
  },
  {
   "cell_type": "markdown",
   "metadata": {},
   "source": [
    "### Algumas funções"
   ]
  },
  {
   "cell_type": "code",
   "execution_count": null,
   "metadata": {},
   "outputs": [],
   "source": [
    "def proc_months(fas,less=False):\n",
    "    for y in fas.months:\n",
    "        for m in fas.months[y]:\n",
    "            if less:\n",
    "                fas.months[y][m].proc_fasorial_less()\n",
    "            else:\n",
    "                print('1--',fas.months[y][m].df.shape)\n",
    "                fas.months[y][m].proc_fasorial()\n",
    "                print('2--',fas.months[y][m].df.shape)"
   ]
  },
  {
   "cell_type": "code",
   "execution_count": null,
   "metadata": {},
   "outputs": [],
   "source": [
    "def build_fas(ex1, **kwargs):\n",
    "    if ex1 in dfiles_fas_concat.keys():\n",
    "        print('troca')\n",
    "        file1 = dfiles_fas_concat[ex1]\n",
    "        ddays=o_i_troca[ex1]\n",
    "        path = FAS_CONCAT\n",
    "        f1 = fasorial(name=ex1)\n",
    "        f1.read_fasorial(os.path.join(path,file1), dtype=None)\n",
    "    elif ex1 in dfiles_fas.keys():\n",
    "        print('normal')\n",
    "        file1 = dfiles_fas[ex1] \n",
    "        ddays=o_i_normal[ex1]\n",
    "        path = PATH_FAS       \n",
    "        f1 = fasorial(name=ex1)\n",
    "        f1.read_fasorial(os.path.join(path,file1[0]), dtype=None)\n",
    "    \n",
    "    f1.split_months(ddays=ddays)\n",
    "    proc_months(f1, **kwargs)\n",
    "    print('3--',f1.months[2019][1].df.shape)\n",
    "    return f1"
   ]
  },
  {
   "cell_type": "code",
   "execution_count": null,
   "metadata": {},
   "outputs": [],
   "source": [
    "def proc2m(f1, proc=False):\n",
    "    ld = sdict()\n",
    "    for y in f1.months:\n",
    "        for m in f1.months[y]:\n",
    "            month = f1.months[y][m].df.copy()\n",
    "            if proc:\n",
    "                month = proc1m(month)\n",
    "            ld[m] = month\n",
    "    return ld"
   ]
  },
  {
   "cell_type": "code",
   "execution_count": null,
   "metadata": {},
   "outputs": [],
   "source": [
    "def proc1m(m):\n",
    "    m.reset_index(inplace=True, drop=False)\n",
    "    m['Dia']= m['data'].apply(lambda x: x.weekday()).map(said)\n",
    "    m['data'] =pd.to_datetime(m['data'])\n",
    "    m['data']= m['data'].apply(lambda x: x.strftime('%d/%m/%Y %H:%M'))\n",
    "    return m"
   ]
  },
  {
   "cell_type": "markdown",
   "metadata": {},
   "source": [
    "## l_______________________________________________________________________"
   ]
  },
  {
   "cell_type": "code",
   "execution_count": null,
   "metadata": {},
   "outputs": [],
   "source": [
    "ex1='BTI413195196'"
   ]
  },
  {
   "cell_type": "code",
   "execution_count": null,
   "metadata": {},
   "outputs": [],
   "source": [
    "f1 = build_fas(ex1)\n",
    "months = proc2m(f1)\n",
    "months_proc = proc2m(f1, proc=True)"
   ]
  },
  {
   "cell_type": "code",
   "execution_count": null,
   "metadata": {},
   "outputs": [],
   "source": [
    "f=fasorial()\n",
    "f.df=f1.months[2019][1].df\n",
    "f.ult_corrente_zero(hours2,hollydays)"
   ]
  },
  {
   "cell_type": "code",
   "execution_count": null,
   "metadata": {},
   "outputs": [],
   "source": [
    "f.df.shape"
   ]
  },
  {
   "cell_type": "code",
   "execution_count": null,
   "metadata": {},
   "outputs": [],
   "source": [
    "f1_bigger = build_fas(ex1, less=True)"
   ]
  },
  {
   "cell_type": "code",
   "execution_count": null,
   "metadata": {},
   "outputs": [],
   "source": [
    "months_bigger = proc2m(f1_bigger)\n",
    "months_proc_bigger = proc2m(f1_bigger, proc=True)"
   ]
  },
  {
   "cell_type": "code",
   "execution_count": null,
   "metadata": {},
   "outputs": [],
   "source": [
    "dias = {\n",
    "    \"Segunda\":0,\n",
    "    \"Terca\":1,\n",
    "    \"Quarta\":2,\n",
    "    \"Quinta\":3,\n",
    "    \"Sexta\":4,\n",
    "    \"Sabado\":5,\n",
    "    \"Domingo\":6\n",
    "    \n",
    "}\n",
    "said = {v:k for k,v in dias.items()}"
   ]
  },
  {
   "cell_type": "code",
   "execution_count": null,
   "metadata": {},
   "outputs": [],
   "source": [
    "hours = ['8:00', '18:00', '8:00', '18:00', '8:00', '18:00', '0:00', '0:00']"
   ]
  },
  {
   "cell_type": "code",
   "execution_count": null,
   "metadata": {},
   "outputs": [],
   "source": [
    "#0-> segunda\n",
    "#6 -> domingo\n",
    "#7 feriado\n",
    "hours2 = {\n",
    "    0:('8:00', '18:00'),\n",
    "    1:('8:00', '18:00'),\n",
    "    2:('8:00', '18:00'),\n",
    "    3:('8:00', '18:00'),\n",
    "    4:('8:00', '18:00'),\n",
    "    5:('8:00', '18:00'),\n",
    "    6:('8:00', '18:00'),\n",
    "    7:('0:00', '0:00'),\n",
    "}"
   ]
  },
  {
   "cell_type": "markdown",
   "metadata": {},
   "source": [
    "## l_______________________________________________________________________"
   ]
  },
  {
   "cell_type": "markdown",
   "metadata": {},
   "source": [
    "### Orig menor"
   ]
  },
  {
   "cell_type": "code",
   "execution_count": null,
   "metadata": {},
   "outputs": [],
   "source": [
    "results_proc = sdict()\n",
    "for i in months_proc:\n",
    "        results_proc[i] = NEWcorrenteZero(months_proc[i], feriados, pAmp, relacao, 8, 18, 8, 18, 8, 18)"
   ]
  },
  {
   "cell_type": "code",
   "execution_count": null,
   "metadata": {},
   "outputs": [],
   "source": [
    "results_proc"
   ]
  },
  {
   "cell_type": "markdown",
   "metadata": {},
   "source": [
    "## l_______________________________________________________________________"
   ]
  },
  {
   "cell_type": "markdown",
   "metadata": {},
   "source": [
    "### Meu menor"
   ]
  },
  {
   "cell_type": "code",
   "execution_count": null,
   "metadata": {},
   "outputs": [],
   "source": [
    "df"
   ]
  },
  {
   "cell_type": "raw",
   "metadata": {},
   "source": [
    "#tira ultimo elemento de df\n",
    "df.iloc[:df.shape[0]-1,:]\n",
    "df.loc[:df.index[-2],:]"
   ]
  },
  {
   "cell_type": "code",
   "execution_count": null,
   "metadata": {},
   "outputs": [],
   "source": [
    "f.ult_corrente_zero??"
   ]
  },
  {
   "cell_type": "code",
   "execution_count": null,
   "metadata": {},
   "outputs": [],
   "source": [
    "reload(mainlib)\n",
    "from mainlib import fasorial\n",
    "f=fasorial()\n",
    "results = sdict()\n",
    "for i in months:\n",
    "    results[i] = f.ult_corrente_zero(hours2,hollydays,df=months[i].iloc[:months[i].shape[0]-1,:])"
   ]
  },
  {
   "cell_type": "markdown",
   "metadata": {},
   "source": [
    "## l_______________________________________________________________________"
   ]
  },
  {
   "cell_type": "code",
   "execution_count": null,
   "metadata": {},
   "outputs": [],
   "source": [
    "pd.DataFrame(ot)"
   ]
  },
  {
   "cell_type": "code",
   "execution_count": null,
   "metadata": {},
   "outputs": [],
   "source": [
    "pd.DataFrame(on)"
   ]
  },
  {
   "cell_type": "code",
   "execution_count": null,
   "metadata": {},
   "outputs": [],
   "source": [
    "def proc_months(fas):\n",
    "    for y in fas.months:\n",
    "        for m in fas.months[y]:\n",
    "            fas.months[y][m].proc_fasorial()"
   ]
  },
  {
   "cell_type": "code",
   "execution_count": null,
   "metadata": {},
   "outputs": [],
   "source": [
    "def read_fas(ex1,ddays, **kwargs):\n",
    "    if ex1 in dfiles_fas_concat.keys():\n",
    "        print('troca')\n",
    "        file1 = dfiles_fas_concat[ex1]\n",
    "        ddays=o_i_troca[ex1]\n",
    "        path = FAS_CONCAT\n",
    "        f1 = fasorial(name=ex1,ddays=ddays)\n",
    "        f1.read_fasorial(os.path.join(path,file1[0]), **kwargs)\n",
    "    elif ex1 in dfiles_fas.keys():\n",
    "        print('normal')\n",
    "        file1 = dfiles_fas[ex1] \n",
    "        ddays=o_i_normal[ex1]\n",
    "        path = PATH_FAS       \n",
    "        f1 = fasorial(name=ex1, ddays=ddays)\n",
    "        f1.read_fasorial(os.path.join(path,file1[0]), **kwargs)\n",
    "    return f1"
   ]
  },
  {
   "cell_type": "code",
   "execution_count": null,
   "metadata": {},
   "outputs": [],
   "source": [
    "def read_mm(ex1,ddays, **kwargs):\n",
    "    if ex1 in dfiles_mm_concat.keys():\n",
    "        print('troca')\n",
    "        file1 = dfiles_mm_concat[ex1]\n",
    "        ddays=o_i_troca[ex1]\n",
    "        path = MM_CONCAT\n",
    "        m1 = mm(name=ex1, ddays=ddays)\n",
    "        m1.read_mm(os.path.join(path,file1), **kwargs)\n",
    "    elif ex1 in dfiles_mm.keys():\n",
    "        print('normal')\n",
    "        file1 = dfiles_mm[ex1] \n",
    "        ddays=o_i_normal[ex1]\n",
    "        path = PATH_MM       \n",
    "        m1 = mm(name=ex1, ddays=ddays)\n",
    "        m1.read_mm(os.path.join(path,file1[0]), **kwargs)\n",
    "    return m1"
   ]
  },
  {
   "cell_type": "markdown",
   "metadata": {},
   "source": [
    "## l_______________________________________________________________________"
   ]
  },
  {
   "cell_type": "code",
   "execution_count": null,
   "metadata": {},
   "outputs": [],
   "source": [
    "try:\n",
    "    df = pd.read_csv(os.path.join(PATH_FAS,dfiles_fas['BTI412523996'][0]),sep=',')\n",
    "except Exception as e:\n",
    "    df = pd.read_csv(os.path.join(PATH_FAS,dfiles_fas['BTI412523996'][0]),sep=';')\n",
    "    print(e)\n",
    "        "
   ]
  },
  {
   "cell_type": "code",
   "execution_count": null,
   "metadata": {},
   "outputs": [],
   "source": [
    "df"
   ]
  },
  {
   "cell_type": "markdown",
   "metadata": {},
   "source": [
    "## l_______________________________________________________________________"
   ]
  },
  {
   "cell_type": "code",
   "execution_count": null,
   "metadata": {},
   "outputs": [],
   "source": [
    "ex = 'BTI412523996'"
   ]
  },
  {
   "cell_type": "code",
   "execution_count": null,
   "metadata": {},
   "outputs": [],
   "source": [
    "dfiles_fas[ex]"
   ]
  },
  {
   "cell_type": "code",
   "execution_count": null,
   "metadata": {},
   "outputs": [],
   "source": [
    "pd.read_csv(os.path.join(PATH_FAS,'07581630-FS.csv'), sep=';')"
   ]
  },
  {
   "cell_type": "markdown",
   "metadata": {},
   "source": [
    "## l_______________________________________________________________________"
   ]
  }
 ],
 "metadata": {
  "kernelspec": {
   "display_name": "Python [conda env:tensorflow_p36]",
   "language": "python",
   "name": "conda-env-tensorflow_p36-py"
  },
  "language_info": {
   "codemirror_mode": {
    "name": "ipython",
    "version": 3
   },
   "file_extension": ".py",
   "mimetype": "text/x-python",
   "name": "python",
   "nbconvert_exporter": "python",
   "pygments_lexer": "ipython3",
   "version": "3.6.5"
  }
 },
 "nbformat": 4,
 "nbformat_minor": 2
}
