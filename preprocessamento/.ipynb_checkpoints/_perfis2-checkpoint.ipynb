{
 "cells": [
  {
   "cell_type": "markdown",
   "metadata": {},
   "source": [
    "Há três grupos de perfis de funcionamento.\n",
    "<nl>\n",
    "    <li>Grupo 1: 79\n",
    "    <li>Grupo 2: 38\n",
    "    <li>Grupo 3: 25 (faltando)\n",
    "    <li>Grupo 4 (clusters) 11\n",
    "</nl>"
   ]
  },
  {
   "cell_type": "markdown",
   "metadata": {},
   "source": [
    "### l______________________________________________________________________________________________________"
   ]
  },
  {
   "cell_type": "code",
   "execution_count": 2,
   "metadata": {},
   "outputs": [
    {
     "name": "stdout",
     "output_type": "stream",
     "text": [
      "Collecting unidecode\n",
      "\u001b[?25l  Downloading https://files.pythonhosted.org/packages/d0/42/d9edfed04228bacea2d824904cae367ee9efd05e6cce7ceaaedd0b0ad964/Unidecode-1.1.1-py2.py3-none-any.whl (238kB)\n",
      "\u001b[K    100% |################################| 245kB 9.0MB/s \n",
      "\u001b[?25hInstalling collected packages: unidecode\n",
      "Successfully installed unidecode-1.1.1\n",
      "\u001b[33mYou are using pip version 10.0.1, however version 19.3.1 is available.\n",
      "You should consider upgrading via the 'pip install --upgrade pip' command.\u001b[0m\n"
     ]
    },
    {
     "name": "stderr",
     "output_type": "stream",
     "text": [
      "/home/ubuntu/anaconda3/envs/tensorflow_p36/lib/python3.6/site-packages/matplotlib/font_manager.py:232: UserWarning: Matplotlib is building the font cache using fc-list. This may take a moment.\n",
      "  'Matplotlib is building the font cache using fc-list. '\n"
     ]
    }
   ],
   "source": [
    "! python3 -m pip install unidecode\n",
    "from unidecode import unidecode\n",
    "import pandas as pd\n",
    "import numpy as np\n",
    "from matplotlib import pyplot as plt\n",
    "%matplotlib inline"
   ]
  },
  {
   "cell_type": "markdown",
   "metadata": {},
   "source": [
    "### l______________________________________________________________________________________________________"
   ]
  },
  {
   "cell_type": "markdown",
   "metadata": {},
   "source": [
    "# 1 para 2"
   ]
  },
  {
   "cell_type": "code",
   "execution_count": 3,
   "metadata": {},
   "outputs": [],
   "source": [
    "ATIV = '/home/ubuntu/data/data/maio_2019/atividade_atividade_v2.csv'\n",
    "dfativ = pd.read_csv(ATIV, sep=';', names = ['ramo', 'perfil'])\n",
    "dfativ=dfativ.applymap(unidecode)\n",
    "dfativ.set_index('ramo', inplace=True)\n",
    "a2p = dfativ.loc[:,'perfil'].T.to_dict()\n",
    "p2a = dict((v,k) for k,v in a2p.items())"
   ]
  },
  {
   "cell_type": "code",
   "execution_count": 4,
   "metadata": {},
   "outputs": [
    {
     "data": {
      "text/plain": [
       "'Ramo de Atividade'"
      ]
     },
     "execution_count": 4,
     "metadata": {},
     "output_type": "execute_result"
    }
   ],
   "source": [
    "a2p.pop('Ramo de Atividade')\n",
    "p2a.pop('Horario de Funcionamento')"
   ]
  },
  {
   "cell_type": "code",
   "execution_count": 5,
   "metadata": {},
   "outputs": [
    {
     "data": {
      "text/plain": [
       "(79, 38)"
      ]
     },
     "execution_count": 5,
     "metadata": {},
     "output_type": "execute_result"
    }
   ],
   "source": [
    "len(a2p), len(p2a)"
   ]
  },
  {
   "cell_type": "markdown",
   "metadata": {},
   "source": [
    "### l______________________________________________________________________________________________________"
   ]
  },
  {
   "cell_type": "markdown",
   "metadata": {},
   "source": [
    "# 3 para 4"
   ]
  },
  {
   "cell_type": "code",
   "execution_count": 6,
   "metadata": {},
   "outputs": [],
   "source": [
    "m0={'Abatedouro/Frigorifico':0,\n",
    "   \n",
    "    'Banco':1,\n",
    "    'HORÁRIO COMERCIAL':1,\n",
    "    'Cemitério':1,\n",
    "    'Cond. Comércio/Escritório/Comércio':1,\n",
    "    'Construtora':1,\n",
    "    'Correios':1,\n",
    "    'Oficina':1,\n",
    "    'Reciclagem':1,\n",
    "    'Laboratório Médico':1,\n",
    "\n",
    "\n",
    "    'Curso/Escola':2,\n",
    "    'Faculdade':2,\n",
    "\n",
    "    'Museu':3,\n",
    "    'Fábrica/Indústria':3,\n",
    "    'Indústria Têxtil':3,\n",
    "\n",
    "    'Academia':4,\n",
    "\n",
    "    'Cond. Residencial':5,\n",
    "    'Igreja':5,\n",
    "    'Posto de Gasolina':5,\n",
    "\n",
    "    'TREM/METRO':6,\n",
    "\n",
    "    'Casa de Shows e Eventos':7,\n",
    "    'Escola de Samba':7,\n",
    "\n",
    "    'Motel':8,\n",
    "\n",
    "    'Casa de festas':9,\n",
    "\n",
    "    'Estudio TV/Cinema':10}\n"
   ]
  },
  {
   "cell_type": "code",
   "execution_count": 7,
   "metadata": {},
   "outputs": [],
   "source": [
    "m = dict()\n",
    "for k,v in m0.items():\n",
    "    m[unidecode(k)] = v"
   ]
  },
  {
   "cell_type": "markdown",
   "metadata": {},
   "source": [
    "### l______________________________________________________________________________________________________"
   ]
  },
  {
   "cell_type": "markdown",
   "metadata": {},
   "source": [
    "# 2 para 3"
   ]
  },
  {
   "cell_type": "code",
   "execution_count": 8,
   "metadata": {},
   "outputs": [],
   "source": [
    "#Criar dicionario de categorias\n",
    "HORARIOS_PATH = '/home/ubuntu/data/data/maio_2019/horarios_v3.csv'\n",
    "horarios = pd.read_csv(HORARIOS_PATH, sep=',')\n",
    "dfcat = horarios.iloc[:,:2]\n",
    "dfcat['nome'] = dfcat['nome'].apply(unidecode)\n",
    "dfcat.set_index('nome',inplace=True)\n",
    "scat = dfcat['cat']\n",
    "dcat = scat.to_dict()\n",
    "dcat['Padrao'] =1\n",
    "dcat['Cond. Comercio/Escritorio/Comercio'] = 1\n",
    "dcat['Cond. Comercio/Escritorio/Comercio'] = 1"
   ]
  },
  {
   "cell_type": "markdown",
   "metadata": {},
   "source": [
    "### l______________________________________________________________________________________________________"
   ]
  },
  {
   "cell_type": "code",
   "execution_count": 9,
   "metadata": {},
   "outputs": [],
   "source": [
    "#Criar dicionario de categorias\n",
    "HORARIOS_PATH = '/home/ubuntu/data/data/maio_2019/horarios.csv'\n",
    "horarios = pd.read_csv(HORARIOS_PATH, sep=';')\n",
    "dfcat = horarios.iloc[:,:2]\n",
    "\n",
    "horarios.columns=horarios.iloc[0,:]\n",
    "\n",
    "horarios.drop([0],inplace=True)\n",
    "horarios['Nome']=horarios.Nome.apply(unidecode)"
   ]
  },
  {
   "cell_type": "code",
   "execution_count": 10,
   "metadata": {},
   "outputs": [
    {
     "data": {
      "text/html": [
       "<div>\n",
       "<style scoped>\n",
       "    .dataframe tbody tr th:only-of-type {\n",
       "        vertical-align: middle;\n",
       "    }\n",
       "\n",
       "    .dataframe tbody tr th {\n",
       "        vertical-align: top;\n",
       "    }\n",
       "\n",
       "    .dataframe thead th {\n",
       "        text-align: right;\n",
       "    }\n",
       "</style>\n",
       "<table border=\"1\" class=\"dataframe\">\n",
       "  <thead>\n",
       "    <tr style=\"text-align: right;\">\n",
       "      <th></th>\n",
       "      <th>Nome</th>\n",
       "      <th>Dias úteis inicial</th>\n",
       "      <th>Dias úteis final</th>\n",
       "      <th>Sábado início</th>\n",
       "      <th>Sábado final</th>\n",
       "      <th>Domingo início</th>\n",
       "      <th>Domingo final</th>\n",
       "      <th>Feriado início</th>\n",
       "      <th>Feriado final</th>\n",
       "    </tr>\n",
       "  </thead>\n",
       "  <tbody>\n",
       "    <tr>\n",
       "      <th>1</th>\n",
       "      <td>Abatedouro/Frigorifico</td>\n",
       "      <td>00:00</td>\n",
       "      <td>23:59</td>\n",
       "      <td>00:00</td>\n",
       "      <td>23:59</td>\n",
       "      <td>00:00</td>\n",
       "      <td>23:59</td>\n",
       "      <td>00:00</td>\n",
       "      <td>23:59</td>\n",
       "    </tr>\n",
       "    <tr>\n",
       "      <th>2</th>\n",
       "      <td>Academia</td>\n",
       "      <td>06:00</td>\n",
       "      <td>23:00</td>\n",
       "      <td>06:00</td>\n",
       "      <td>18:00</td>\n",
       "      <td>10:00</td>\n",
       "      <td>15:00</td>\n",
       "      <td>NaN</td>\n",
       "      <td>NaN</td>\n",
       "    </tr>\n",
       "    <tr>\n",
       "      <th>3</th>\n",
       "      <td>Adm. Rodovia/Estrada</td>\n",
       "      <td>00:00</td>\n",
       "      <td>23:59</td>\n",
       "      <td>00:00</td>\n",
       "      <td>23:59</td>\n",
       "      <td>00:00</td>\n",
       "      <td>23:59</td>\n",
       "      <td>00:00</td>\n",
       "      <td>23:59</td>\n",
       "    </tr>\n",
       "    <tr>\n",
       "      <th>4</th>\n",
       "      <td>Armazem/Galpao</td>\n",
       "      <td>00:00</td>\n",
       "      <td>23:59</td>\n",
       "      <td>00:00</td>\n",
       "      <td>23:59</td>\n",
       "      <td>00:00</td>\n",
       "      <td>23:59</td>\n",
       "      <td>00:00</td>\n",
       "      <td>23:59</td>\n",
       "    </tr>\n",
       "    <tr>\n",
       "      <th>5</th>\n",
       "      <td>Banco</td>\n",
       "      <td>08:00</td>\n",
       "      <td>18:00</td>\n",
       "      <td>NaN</td>\n",
       "      <td>NaN</td>\n",
       "      <td>NaN</td>\n",
       "      <td>NaN</td>\n",
       "      <td>NaN</td>\n",
       "      <td>NaN</td>\n",
       "    </tr>\n",
       "    <tr>\n",
       "      <th>6</th>\n",
       "      <td>Bar/Padaria/Restaurante</td>\n",
       "      <td>00:00</td>\n",
       "      <td>23:59</td>\n",
       "      <td>00:00</td>\n",
       "      <td>23:59</td>\n",
       "      <td>00:00</td>\n",
       "      <td>23:59</td>\n",
       "      <td>00:00</td>\n",
       "      <td>23:59</td>\n",
       "    </tr>\n",
       "    <tr>\n",
       "      <th>7</th>\n",
       "      <td>Casa de festas</td>\n",
       "      <td>19:00</td>\n",
       "      <td>02:00</td>\n",
       "      <td>12:00</td>\n",
       "      <td>02:00</td>\n",
       "      <td>12:00</td>\n",
       "      <td>00:00</td>\n",
       "      <td>12:00</td>\n",
       "      <td>02:00</td>\n",
       "    </tr>\n",
       "    <tr>\n",
       "      <th>8</th>\n",
       "      <td>Casa de shows e eventos</td>\n",
       "      <td>22:00</td>\n",
       "      <td>06:00</td>\n",
       "      <td>22:00</td>\n",
       "      <td>06:00</td>\n",
       "      <td>22:00</td>\n",
       "      <td>06:00</td>\n",
       "      <td>22:00</td>\n",
       "      <td>06:00</td>\n",
       "    </tr>\n",
       "    <tr>\n",
       "      <th>9</th>\n",
       "      <td>Cemiterio</td>\n",
       "      <td>07:00</td>\n",
       "      <td>18:00</td>\n",
       "      <td>07:00</td>\n",
       "      <td>18:00</td>\n",
       "      <td>NaN</td>\n",
       "      <td>NaN</td>\n",
       "      <td>NaN</td>\n",
       "      <td>NaN</td>\n",
       "    </tr>\n",
       "    <tr>\n",
       "      <th>10</th>\n",
       "      <td>Cond. Comercio/Escritorio/Comercio</td>\n",
       "      <td>08:00</td>\n",
       "      <td>19:00</td>\n",
       "      <td>08:00</td>\n",
       "      <td>14:00</td>\n",
       "      <td>NaN</td>\n",
       "      <td>NaN</td>\n",
       "      <td>NaN</td>\n",
       "      <td>NaN</td>\n",
       "    </tr>\n",
       "    <tr>\n",
       "      <th>11</th>\n",
       "      <td>Cond. Resd./Residencia</td>\n",
       "      <td>06:00</td>\n",
       "      <td>22:00</td>\n",
       "      <td>06:00</td>\n",
       "      <td>22:00</td>\n",
       "      <td>06:00</td>\n",
       "      <td>22:00</td>\n",
       "      <td>06:00</td>\n",
       "      <td>22:00</td>\n",
       "    </tr>\n",
       "    <tr>\n",
       "      <th>12</th>\n",
       "      <td>Construtora/Obra</td>\n",
       "      <td>07:00</td>\n",
       "      <td>18:00</td>\n",
       "      <td>07:00</td>\n",
       "      <td>13:00</td>\n",
       "      <td>NaN</td>\n",
       "      <td>NaN</td>\n",
       "      <td>NaN</td>\n",
       "      <td>NaN</td>\n",
       "    </tr>\n",
       "    <tr>\n",
       "      <th>13</th>\n",
       "      <td>Correios</td>\n",
       "      <td>08:00</td>\n",
       "      <td>17:00</td>\n",
       "      <td>08:00</td>\n",
       "      <td>13:00</td>\n",
       "      <td>NaN</td>\n",
       "      <td>NaN</td>\n",
       "      <td>NaN</td>\n",
       "      <td>NaN</td>\n",
       "    </tr>\n",
       "    <tr>\n",
       "      <th>14</th>\n",
       "      <td>Curso/Escola</td>\n",
       "      <td>07:00</td>\n",
       "      <td>22:00</td>\n",
       "      <td>07:00</td>\n",
       "      <td>17:00</td>\n",
       "      <td>NaN</td>\n",
       "      <td>NaN</td>\n",
       "      <td>NaN</td>\n",
       "      <td>NaN</td>\n",
       "    </tr>\n",
       "    <tr>\n",
       "      <th>15</th>\n",
       "      <td>Escola de Samba</td>\n",
       "      <td>18:00</td>\n",
       "      <td>06:00</td>\n",
       "      <td>18:00</td>\n",
       "      <td>06:00</td>\n",
       "      <td>18:00</td>\n",
       "      <td>06:00</td>\n",
       "      <td>18:00</td>\n",
       "      <td>06:00</td>\n",
       "    </tr>\n",
       "    <tr>\n",
       "      <th>16</th>\n",
       "      <td>Estudio TV/Cinema</td>\n",
       "      <td>12:00</td>\n",
       "      <td>02:00</td>\n",
       "      <td>12:00</td>\n",
       "      <td>03:00</td>\n",
       "      <td>12:00</td>\n",
       "      <td>02:00</td>\n",
       "      <td>12:00</td>\n",
       "      <td>03:00</td>\n",
       "    </tr>\n",
       "    <tr>\n",
       "      <th>17</th>\n",
       "      <td>Fabrica</td>\n",
       "      <td>00:00</td>\n",
       "      <td>23:59</td>\n",
       "      <td>00:00</td>\n",
       "      <td>23:59</td>\n",
       "      <td>00:00</td>\n",
       "      <td>23:59</td>\n",
       "      <td>00:00</td>\n",
       "      <td>23:59</td>\n",
       "    </tr>\n",
       "    <tr>\n",
       "      <th>18</th>\n",
       "      <td>Fabrica/Industria</td>\n",
       "      <td>06:00</td>\n",
       "      <td>20:00</td>\n",
       "      <td>06:00</td>\n",
       "      <td>20:00</td>\n",
       "      <td>06:00</td>\n",
       "      <td>20:00</td>\n",
       "      <td>06:00</td>\n",
       "      <td>20:00</td>\n",
       "    </tr>\n",
       "    <tr>\n",
       "      <th>19</th>\n",
       "      <td>Faculdade</td>\n",
       "      <td>07:00</td>\n",
       "      <td>23:00</td>\n",
       "      <td>07:00</td>\n",
       "      <td>23:00</td>\n",
       "      <td>NaN</td>\n",
       "      <td>NaN</td>\n",
       "      <td>NaN</td>\n",
       "      <td>NaN</td>\n",
       "    </tr>\n",
       "    <tr>\n",
       "      <th>20</th>\n",
       "      <td>Forcas Armadas</td>\n",
       "      <td>00:00</td>\n",
       "      <td>23:59</td>\n",
       "      <td>00:00</td>\n",
       "      <td>23:59</td>\n",
       "      <td>00:00</td>\n",
       "      <td>23:59</td>\n",
       "      <td>00:00</td>\n",
       "      <td>23:59</td>\n",
       "    </tr>\n",
       "    <tr>\n",
       "      <th>21</th>\n",
       "      <td>Garagem/Transportadora</td>\n",
       "      <td>00:00</td>\n",
       "      <td>23:59</td>\n",
       "      <td>00:00</td>\n",
       "      <td>23:59</td>\n",
       "      <td>00:00</td>\n",
       "      <td>23:59</td>\n",
       "      <td>00:00</td>\n",
       "      <td>23:59</td>\n",
       "    </tr>\n",
       "    <tr>\n",
       "      <th>22</th>\n",
       "      <td>Grafica</td>\n",
       "      <td>06:00</td>\n",
       "      <td>20:00</td>\n",
       "      <td>06:00</td>\n",
       "      <td>20:00</td>\n",
       "      <td>06:00</td>\n",
       "      <td>20:00</td>\n",
       "      <td>06:00</td>\n",
       "      <td>20:00</td>\n",
       "    </tr>\n",
       "    <tr>\n",
       "      <th>23</th>\n",
       "      <td>Granja/Aviario</td>\n",
       "      <td>00:00</td>\n",
       "      <td>23:59</td>\n",
       "      <td>00:00</td>\n",
       "      <td>23:59</td>\n",
       "      <td>00:00</td>\n",
       "      <td>23:59</td>\n",
       "      <td>00:00</td>\n",
       "      <td>23:59</td>\n",
       "    </tr>\n",
       "    <tr>\n",
       "      <th>24</th>\n",
       "      <td>HORARIO COMERCIAL</td>\n",
       "      <td>07:00</td>\n",
       "      <td>20:00</td>\n",
       "      <td>NaN</td>\n",
       "      <td>NaN</td>\n",
       "      <td>NaN</td>\n",
       "      <td>NaN</td>\n",
       "      <td>NaN</td>\n",
       "      <td>NaN</td>\n",
       "    </tr>\n",
       "    <tr>\n",
       "      <th>25</th>\n",
       "      <td>Hospital</td>\n",
       "      <td>00:00</td>\n",
       "      <td>23:59</td>\n",
       "      <td>00:00</td>\n",
       "      <td>23:59</td>\n",
       "      <td>00:00</td>\n",
       "      <td>23:59</td>\n",
       "      <td>00:00</td>\n",
       "      <td>23:59</td>\n",
       "    </tr>\n",
       "    <tr>\n",
       "      <th>26</th>\n",
       "      <td>Hotel</td>\n",
       "      <td>00:00</td>\n",
       "      <td>23:59</td>\n",
       "      <td>00:00</td>\n",
       "      <td>23:59</td>\n",
       "      <td>00:00</td>\n",
       "      <td>23:59</td>\n",
       "      <td>00:00</td>\n",
       "      <td>23:59</td>\n",
       "    </tr>\n",
       "    <tr>\n",
       "      <th>27</th>\n",
       "      <td>Igreja</td>\n",
       "      <td>06:00</td>\n",
       "      <td>22:00</td>\n",
       "      <td>06:00</td>\n",
       "      <td>22:00</td>\n",
       "      <td>06:00</td>\n",
       "      <td>22:00</td>\n",
       "      <td>06:00</td>\n",
       "      <td>22:00</td>\n",
       "    </tr>\n",
       "    <tr>\n",
       "      <th>28</th>\n",
       "      <td>Industria Petroquimica</td>\n",
       "      <td>00:00</td>\n",
       "      <td>23:59</td>\n",
       "      <td>00:00</td>\n",
       "      <td>23:59</td>\n",
       "      <td>00:00</td>\n",
       "      <td>23:59</td>\n",
       "      <td>00:00</td>\n",
       "      <td>23:59</td>\n",
       "    </tr>\n",
       "    <tr>\n",
       "      <th>29</th>\n",
       "      <td>Industria Textil</td>\n",
       "      <td>06:00</td>\n",
       "      <td>20:00</td>\n",
       "      <td>06:00</td>\n",
       "      <td>20:00</td>\n",
       "      <td>06:00</td>\n",
       "      <td>20:00</td>\n",
       "      <td>06:00</td>\n",
       "      <td>20:00</td>\n",
       "    </tr>\n",
       "    <tr>\n",
       "      <th>30</th>\n",
       "      <td>Laboratorio medico</td>\n",
       "      <td>06:00</td>\n",
       "      <td>20:00</td>\n",
       "      <td>06:00</td>\n",
       "      <td>20:00</td>\n",
       "      <td>NaN</td>\n",
       "      <td>NaN</td>\n",
       "      <td>NaN</td>\n",
       "      <td>NaN</td>\n",
       "    </tr>\n",
       "    <tr>\n",
       "      <th>31</th>\n",
       "      <td>Motel</td>\n",
       "      <td>18:00</td>\n",
       "      <td>06:00</td>\n",
       "      <td>18:00</td>\n",
       "      <td>06:00</td>\n",
       "      <td>18:00</td>\n",
       "      <td>06:00</td>\n",
       "      <td>18:00</td>\n",
       "      <td>06:00</td>\n",
       "    </tr>\n",
       "    <tr>\n",
       "      <th>32</th>\n",
       "      <td>Museu</td>\n",
       "      <td>08:00</td>\n",
       "      <td>18:00</td>\n",
       "      <td>08:00</td>\n",
       "      <td>18:00</td>\n",
       "      <td>08:00</td>\n",
       "      <td>18:00</td>\n",
       "      <td>08:00</td>\n",
       "      <td>18:00</td>\n",
       "    </tr>\n",
       "    <tr>\n",
       "      <th>33</th>\n",
       "      <td>Oficina</td>\n",
       "      <td>07:00</td>\n",
       "      <td>18:00</td>\n",
       "      <td>07:00</td>\n",
       "      <td>14:00</td>\n",
       "      <td>NaN</td>\n",
       "      <td>NaN</td>\n",
       "      <td>NaN</td>\n",
       "      <td>NaN</td>\n",
       "    </tr>\n",
       "    <tr>\n",
       "      <th>34</th>\n",
       "      <td>Padrao</td>\n",
       "      <td>00:00</td>\n",
       "      <td>23:59</td>\n",
       "      <td>00:00</td>\n",
       "      <td>23:59</td>\n",
       "      <td>00:00</td>\n",
       "      <td>23:59</td>\n",
       "      <td>00:00</td>\n",
       "      <td>23:59</td>\n",
       "    </tr>\n",
       "    <tr>\n",
       "      <th>35</th>\n",
       "      <td>Posto de gasolina</td>\n",
       "      <td>06:00</td>\n",
       "      <td>22:00</td>\n",
       "      <td>06:00</td>\n",
       "      <td>22:00</td>\n",
       "      <td>06:00</td>\n",
       "      <td>22:00</td>\n",
       "      <td>06:00</td>\n",
       "      <td>22:00</td>\n",
       "    </tr>\n",
       "    <tr>\n",
       "      <th>36</th>\n",
       "      <td>Reciclagem</td>\n",
       "      <td>08:00</td>\n",
       "      <td>17:00</td>\n",
       "      <td>08:00</td>\n",
       "      <td>15:00</td>\n",
       "      <td>NaN</td>\n",
       "      <td>NaN</td>\n",
       "      <td>NaN</td>\n",
       "      <td>NaN</td>\n",
       "    </tr>\n",
       "    <tr>\n",
       "      <th>37</th>\n",
       "      <td>Telefonia/Antena/Bomba dagua</td>\n",
       "      <td>00:00</td>\n",
       "      <td>23:59</td>\n",
       "      <td>00:00</td>\n",
       "      <td>23:59</td>\n",
       "      <td>00:00</td>\n",
       "      <td>23:59</td>\n",
       "      <td>00:00</td>\n",
       "      <td>23:59</td>\n",
       "    </tr>\n",
       "    <tr>\n",
       "      <th>38</th>\n",
       "      <td>TREM/METRO</td>\n",
       "      <td>05:00</td>\n",
       "      <td>23:59</td>\n",
       "      <td>05:00</td>\n",
       "      <td>23:59</td>\n",
       "      <td>07:00</td>\n",
       "      <td>23:00</td>\n",
       "      <td>07:00</td>\n",
       "      <td>23:00</td>\n",
       "    </tr>\n",
       "  </tbody>\n",
       "</table>\n",
       "</div>"
      ],
      "text/plain": [
       "0                                 Nome Dias úteis inicial Dias úteis final  \\\n",
       "1               Abatedouro/Frigorifico              00:00            23:59   \n",
       "2                             Academia              06:00            23:00   \n",
       "3                 Adm. Rodovia/Estrada              00:00            23:59   \n",
       "4                       Armazem/Galpao              00:00            23:59   \n",
       "5                                Banco              08:00            18:00   \n",
       "6              Bar/Padaria/Restaurante              00:00            23:59   \n",
       "7                       Casa de festas              19:00            02:00   \n",
       "8              Casa de shows e eventos              22:00            06:00   \n",
       "9                            Cemiterio              07:00            18:00   \n",
       "10  Cond. Comercio/Escritorio/Comercio              08:00            19:00   \n",
       "11              Cond. Resd./Residencia              06:00            22:00   \n",
       "12                    Construtora/Obra              07:00            18:00   \n",
       "13                            Correios              08:00            17:00   \n",
       "14                        Curso/Escola              07:00            22:00   \n",
       "15                     Escola de Samba              18:00            06:00   \n",
       "16                   Estudio TV/Cinema              12:00            02:00   \n",
       "17                             Fabrica              00:00            23:59   \n",
       "18                   Fabrica/Industria              06:00            20:00   \n",
       "19                           Faculdade              07:00            23:00   \n",
       "20                      Forcas Armadas              00:00            23:59   \n",
       "21              Garagem/Transportadora              00:00            23:59   \n",
       "22                             Grafica              06:00            20:00   \n",
       "23                      Granja/Aviario              00:00            23:59   \n",
       "24                   HORARIO COMERCIAL              07:00            20:00   \n",
       "25                            Hospital              00:00            23:59   \n",
       "26                               Hotel              00:00            23:59   \n",
       "27                              Igreja              06:00            22:00   \n",
       "28              Industria Petroquimica              00:00            23:59   \n",
       "29                    Industria Textil              06:00            20:00   \n",
       "30                  Laboratorio medico              06:00            20:00   \n",
       "31                               Motel              18:00            06:00   \n",
       "32                               Museu              08:00            18:00   \n",
       "33                             Oficina              07:00            18:00   \n",
       "34                              Padrao              00:00            23:59   \n",
       "35                   Posto de gasolina              06:00            22:00   \n",
       "36                          Reciclagem              08:00            17:00   \n",
       "37        Telefonia/Antena/Bomba dagua              00:00            23:59   \n",
       "38                          TREM/METRO              05:00            23:59   \n",
       "\n",
       "0  Sábado início Sábado final Domingo início Domingo final Feriado início  \\\n",
       "1          00:00        23:59          00:00         23:59          00:00   \n",
       "2          06:00        18:00          10:00         15:00            NaN   \n",
       "3          00:00        23:59          00:00         23:59          00:00   \n",
       "4          00:00        23:59          00:00         23:59          00:00   \n",
       "5            NaN          NaN            NaN           NaN            NaN   \n",
       "6          00:00        23:59          00:00         23:59          00:00   \n",
       "7          12:00        02:00          12:00         00:00          12:00   \n",
       "8          22:00        06:00          22:00         06:00          22:00   \n",
       "9          07:00        18:00            NaN           NaN            NaN   \n",
       "10         08:00        14:00            NaN           NaN            NaN   \n",
       "11         06:00        22:00          06:00         22:00          06:00   \n",
       "12         07:00        13:00            NaN           NaN            NaN   \n",
       "13         08:00        13:00            NaN           NaN            NaN   \n",
       "14         07:00        17:00            NaN           NaN            NaN   \n",
       "15         18:00        06:00          18:00         06:00          18:00   \n",
       "16         12:00        03:00          12:00         02:00          12:00   \n",
       "17         00:00        23:59          00:00         23:59          00:00   \n",
       "18         06:00        20:00          06:00         20:00          06:00   \n",
       "19         07:00        23:00            NaN           NaN            NaN   \n",
       "20         00:00        23:59          00:00         23:59          00:00   \n",
       "21         00:00        23:59          00:00         23:59          00:00   \n",
       "22         06:00        20:00          06:00         20:00          06:00   \n",
       "23         00:00        23:59          00:00         23:59          00:00   \n",
       "24           NaN          NaN            NaN           NaN            NaN   \n",
       "25         00:00        23:59          00:00         23:59          00:00   \n",
       "26         00:00        23:59          00:00         23:59          00:00   \n",
       "27         06:00        22:00          06:00         22:00          06:00   \n",
       "28         00:00        23:59          00:00         23:59          00:00   \n",
       "29         06:00        20:00          06:00         20:00          06:00   \n",
       "30         06:00        20:00            NaN           NaN            NaN   \n",
       "31         18:00        06:00          18:00         06:00          18:00   \n",
       "32         08:00        18:00          08:00         18:00          08:00   \n",
       "33         07:00        14:00            NaN           NaN            NaN   \n",
       "34         00:00        23:59          00:00         23:59          00:00   \n",
       "35         06:00        22:00          06:00         22:00          06:00   \n",
       "36         08:00        15:00            NaN           NaN            NaN   \n",
       "37         00:00        23:59          00:00         23:59          00:00   \n",
       "38         05:00        23:59          07:00         23:00          07:00   \n",
       "\n",
       "0  Feriado final  \n",
       "1          23:59  \n",
       "2            NaN  \n",
       "3          23:59  \n",
       "4          23:59  \n",
       "5            NaN  \n",
       "6          23:59  \n",
       "7          02:00  \n",
       "8          06:00  \n",
       "9            NaN  \n",
       "10           NaN  \n",
       "11         22:00  \n",
       "12           NaN  \n",
       "13           NaN  \n",
       "14           NaN  \n",
       "15         06:00  \n",
       "16         03:00  \n",
       "17         23:59  \n",
       "18         20:00  \n",
       "19           NaN  \n",
       "20         23:59  \n",
       "21         23:59  \n",
       "22         20:00  \n",
       "23         23:59  \n",
       "24           NaN  \n",
       "25         23:59  \n",
       "26         23:59  \n",
       "27         22:00  \n",
       "28         23:59  \n",
       "29         20:00  \n",
       "30           NaN  \n",
       "31         06:00  \n",
       "32         18:00  \n",
       "33           NaN  \n",
       "34         23:59  \n",
       "35         22:00  \n",
       "36           NaN  \n",
       "37         23:59  \n",
       "38         23:00  "
      ]
     },
     "execution_count": 10,
     "metadata": {},
     "output_type": "execute_result"
    }
   ],
   "source": [
    "horarios"
   ]
  },
  {
   "cell_type": "markdown",
   "metadata": {},
   "source": [
    "### Perfis não mapeados"
   ]
  },
  {
   "cell_type": "code",
   "execution_count": 11,
   "metadata": {},
   "outputs": [
    {
     "data": {
      "text/plain": [
       "38"
      ]
     },
     "execution_count": 11,
     "metadata": {},
     "output_type": "execute_result"
    }
   ],
   "source": [
    "horarios.Nome.nunique()"
   ]
  },
  {
   "cell_type": "code",
   "execution_count": 12,
   "metadata": {},
   "outputs": [
    {
     "data": {
      "text/plain": [
       "18"
      ]
     },
     "execution_count": 12,
     "metadata": {},
     "output_type": "execute_result"
    }
   ],
   "source": [
    " horarios[~horarios['Nome'].isin(m.keys())]['Nome'].nunique()"
   ]
  },
  {
   "cell_type": "code",
   "execution_count": 13,
   "metadata": {},
   "outputs": [
    {
     "data": {
      "text/plain": [
       "0"
      ]
     },
     "execution_count": 13,
     "metadata": {},
     "output_type": "execute_result"
    }
   ],
   "source": [
    "horarios[~horarios['Nome'].isin(p2a.keys())].Nome.nunique()"
   ]
  },
  {
   "cell_type": "code",
   "execution_count": 14,
   "metadata": {},
   "outputs": [],
   "source": [
    "a=pd.DataFrame(set(a2p.values()))"
   ]
  },
  {
   "cell_type": "raw",
   "metadata": {},
   "source": [
    "dfcat['nome'] = dfcat['nome'].apply(unidecode)\n",
    "dfcat.set_index('nome',inplace=True)\n",
    "scat = dfcat['cat']\n",
    "dcat = scat.to_dict()\n",
    "dcat['Padrao'] =1\n",
    "dcat['Cond. Comercio/Escritorio/Comercio'] = 1\n",
    "dcat['Cond. Comercio/Escritorio/Comercio'] = 1"
   ]
  },
  {
   "cell_type": "code",
   "execution_count": 15,
   "metadata": {},
   "outputs": [],
   "source": [
    "x={}\n",
    "def getm(v):\n",
    "    if type(v) == float:\n",
    "        return 0\n",
    "    else:\n",
    "        return  int(v.split(':')[0])*60 + int(v.split(':')[1])\n",
    "    \n",
    "def dif (a,b):\n",
    "    if b>a:\n",
    "        return np.concatenate( (np.zeros(a), np.ones(b-a), np.zeros(24*60-b-1)))\n",
    "    else:\n",
    "        return np.concatenate( (np.zeros(b), np.ones(24*60 - abs(a-b)), np.zeros(24*60 - a)) )\n",
    "for i in range(len(horarios)):\n",
    "    row = horarios.iloc[i]\n",
    "    #print(row)\n",
    "    \n",
    "    iu = getm(row[1])\n",
    "    fu = getm(row[2])\n",
    "    isat = getm(row[3])\n",
    "    fsat = getm(row[4])\n",
    "    idom = getm(row[5])\n",
    "    fdom = getm(row[6])\n",
    "    \n",
    "    x[row[0]] = np.concatenate((np.tile(dif(iu,fu),7), dif(isat,fsat), dif(idom,fdom)))\n",
    "   "
   ]
  },
  {
   "cell_type": "code",
   "execution_count": 16,
   "metadata": {},
   "outputs": [
    {
     "data": {
      "text/plain": [
       "38"
      ]
     },
     "execution_count": 16,
     "metadata": {},
     "output_type": "execute_result"
    }
   ],
   "source": [
    "len(x)"
   ]
  },
  {
   "cell_type": "raw",
   "metadata": {},
   "source": [
    "x"
   ]
  },
  {
   "cell_type": "raw",
   "metadata": {},
   "source": [
    "for n,(k,v) in enumerate(x.items()):\n",
    "    print(v.shape)"
   ]
  },
  {
   "cell_type": "code",
   "execution_count": 17,
   "metadata": {},
   "outputs": [],
   "source": [
    "def mandist(a,b):\n",
    "    c=0\n",
    "    for i in range(min(len(a),len(b))):\n",
    "        if a[i]==b[i]:\n",
    "            c-=1\n",
    "        else:\n",
    "            c+=1\n",
    "    return c\n",
    "            "
   ]
  },
  {
   "cell_type": "code",
   "execution_count": 18,
   "metadata": {},
   "outputs": [],
   "source": [
    "other = list(horarios[~horarios.Nome.isin(m.keys())].Nome)"
   ]
  },
  {
   "cell_type": "code",
   "execution_count": 19,
   "metadata": {},
   "outputs": [
    {
     "data": {
      "text/plain": [
       "18"
      ]
     },
     "execution_count": 19,
     "metadata": {},
     "output_type": "execute_result"
    }
   ],
   "source": [
    "len(set(other))"
   ]
  },
  {
   "cell_type": "code",
   "execution_count": 20,
   "metadata": {},
   "outputs": [],
   "source": [
    "x2={}\n",
    "for i in x.keys():\n",
    "    if i not in other:\n",
    "        x2[i] = x[i]"
   ]
  },
  {
   "cell_type": "code",
   "execution_count": 21,
   "metadata": {},
   "outputs": [
    {
     "data": {
      "text/plain": [
       "(38, 20)"
      ]
     },
     "execution_count": 21,
     "metadata": {},
     "output_type": "execute_result"
    }
   ],
   "source": [
    "len(x), len(x2)"
   ]
  },
  {
   "cell_type": "code",
   "execution_count": 22,
   "metadata": {},
   "outputs": [],
   "source": [
    "closer={}\n",
    "mindist = {}\n",
    "for i in other:\n",
    "    mini = 0\n",
    "    for j in x2:\n",
    "        dist = mandist(x[i],x[j])\n",
    "        if dist<mini:\n",
    "            mini = dist\n",
    "            rmini = j\n",
    "    closer[i] = rmini\n",
    "    mindist[i]= mini\n",
    "    "
   ]
  },
  {
   "cell_type": "code",
   "execution_count": 23,
   "metadata": {},
   "outputs": [],
   "source": [
    "cats={}\n",
    "for k,v in x.items():\n",
    "    if k in m:\n",
    "        cats[k] = m[k]\n",
    "    else:\n",
    "        cats[k] = m[closer[k]]"
   ]
  },
  {
   "cell_type": "code",
   "execution_count": 24,
   "metadata": {},
   "outputs": [
    {
     "data": {
      "text/plain": [
       "38"
      ]
     },
     "execution_count": 24,
     "metadata": {},
     "output_type": "execute_result"
    }
   ],
   "source": [
    "len(cats)"
   ]
  },
  {
   "cell_type": "code",
   "execution_count": 25,
   "metadata": {},
   "outputs": [],
   "source": [
    "dfcats = pd.DataFrame(index=cats.keys(),data=cats.values(),columns=['Categoria'])"
   ]
  },
  {
   "cell_type": "code",
   "execution_count": 26,
   "metadata": {},
   "outputs": [],
   "source": [
    "dfcats.to_csv('../cats_38_to_11_clusters.csv')"
   ]
  },
  {
   "cell_type": "code",
   "execution_count": 27,
   "metadata": {},
   "outputs": [],
   "source": [
    "horarios.insert(loc=1,value=horarios.Nome.map(cats),column = 'Categoria')"
   ]
  },
  {
   "cell_type": "code",
   "execution_count": 28,
   "metadata": {},
   "outputs": [],
   "source": [
    "horarios.to_csv('/home/ubuntu/data/data/maio_2019/horarios_v4.csv')"
   ]
  },
  {
   "cell_type": "markdown",
   "metadata": {},
   "source": [
    "## Plot (opcional)"
   ]
  },
  {
   "cell_type": "code",
   "execution_count": 29,
   "metadata": {},
   "outputs": [
    {
     "data": {
      "image/png": "[encoded data removed]",
      "text/plain": [
       "<Figure size 432x288 with 2 Axes>"
      ]
     },
     "metadata": {},
     "output_type": "display_data"
    },
    {
     "data": {
      "image/png": "[encoded data removed]",
      "text/plain": [
       "<Figure size 432x288 with 2 Axes>"
      ]
     },
     "metadata": {},
     "output_type": "display_data"
    },
    {
     "data": {
      "image/png": "[encoded data removed]",
      "text/plain": [
       "<Figure size 432x288 with 2 Axes>"
      ]
     },
     "metadata": {},
     "output_type": "display_data"
    },
    {
     "data": {
      "image/png": "[encoded data removed]",
      "text/plain": [
       "<Figure size 432x288 with 2 Axes>"
      ]
     },
     "metadata": {},
     "output_type": "display_data"
    },
    {
     "data": {
      "image/png": "[encoded data removed]",
      "text/plain": [
       "<Figure size 432x288 with 2 Axes>"
      ]
     },
     "metadata": {},
     "output_type": "display_data"
    },
    {
     "data": {
      "image/png": "[encoded data removed]",
      "text/plain": [
       "<Figure size 432x288 with 2 Axes>"
      ]
     },
     "metadata": {},
     "output_type": "display_data"
    },
    {
     "data": {
      "image/png": "[encoded data removed]",
      "text/plain": [
       "<Figure size 432x288 with 2 Axes>"
      ]
     },
     "metadata": {},
     "output_type": "display_data"
    },
    {
     "data": {
      "image/png": "[encoded data removed]",
      "text/plain": [
       "<Figure size 432x288 with 2 Axes>"
      ]
     },
     "metadata": {},
     "output_type": "display_data"
    },
    {
     "data": {
      "image/png": "[encoded data removed]",
      "text/plain": [
       "<Figure size 432x288 with 2 Axes>"
      ]
     },
     "metadata": {},
     "output_type": "display_data"
    },
    {
     "data": {
      "image/png": "[encoded data removed]",
      "text/plain": [
       "<Figure size 432x288 with 2 Axes>"
      ]
     },
     "metadata": {},
     "output_type": "display_data"
    },
    {
     "data": {
      "image/png": "[encoded data removed]",
      "text/plain": [
       "<Figure size 432x288 with 2 Axes>"
      ]
     },
     "metadata": {},
     "output_type": "display_data"
    },
    {
     "data": {
      "image/png": "[encoded data removed]",
      "text/plain": [
       "<Figure size 432x288 with 2 Axes>"
      ]
     },
     "metadata": {},
     "output_type": "display_data"
    },
    {
     "data": {
      "image/png": "[encoded data removed]",
      "text/plain": [
       "<Figure size 432x288 with 2 Axes>"
      ]
     },
     "metadata": {},
     "output_type": "display_data"
    },
    {
     "data": {
      "image/png": "[encoded data removed]",
      "text/plain": [
       "<Figure size 432x288 with 2 Axes>"
      ]
     },
     "metadata": {},
     "output_type": "display_data"
    },
    {
     "data": {
      "image/png": "[encoded data removed]",
      "text/plain": [
       "<Figure size 432x288 with 2 Axes>"
      ]
     },
     "metadata": {},
     "output_type": "display_data"
    },
    {
     "data": {
      "image/png": "[encoded data removed]",
      "text/plain": [
       "<Figure size 432x288 with 2 Axes>"
      ]
     },
     "metadata": {},
     "output_type": "display_data"
    },
    {
     "data": {
      "image/png": "[encoded data removed]",
      "text/plain": [
       "<Figure size 432x288 with 2 Axes>"
      ]
     },
     "metadata": {},
     "output_type": "display_data"
    },
    {
     "data": {
      "image/png": "[encoded data removed]",
      "text/plain": [
       "<Figure size 432x288 with 2 Axes>"
      ]
     },
     "metadata": {},
     "output_type": "display_data"
    }
   ],
   "source": [
    "for n,(k,v) in enumerate(closer.items()):\n",
    "    f,ax = plt.subplots(2,constrained_layout=True)\n",
    "    f.suptitle(n)\n",
    "    ax[0].set_title(k)\n",
    "    ax[1].set_title(v)\n",
    "    ax[0].plot(x[k])\n",
    "    ax[1].plot(x[v])"
   ]
  },
  {
   "cell_type": "markdown",
   "metadata": {},
   "source": [
    "### l______________________________________________________________________________________________________"
   ]
  },
  {
   "cell_type": "markdown",
   "metadata": {},
   "source": [
    "# Lista de Setembro para clusters"
   ]
  },
  {
   "cell_type": "code",
   "execution_count": 30,
   "metadata": {},
   "outputs": [],
   "source": [
    "#PERFIS_PATH = '/home/ubuntu/data/data/maio_2019/perfis.csv'\n",
    "PERFIS_PATH = '/home/ubuntu/data/data/maio_2019/setembro/perfis_v2.csv'\n",
    "perfis = pd.read_csv(PERFIS_PATH, sep=',')\n",
    "sper = perfis.loc[:,'ramo_de_atividade_num']"
   ]
  },
  {
   "cell_type": "code",
   "execution_count": 31,
   "metadata": {},
   "outputs": [],
   "source": [
    "rd = perfis[['ramo_de_atividade','ramo_de_atividade_num']].set_index('ramo_de_atividade').to_dict()['ramo_de_atividade_num']"
   ]
  },
  {
   "cell_type": "code",
   "execution_count": 32,
   "metadata": {},
   "outputs": [],
   "source": [
    "sp = set(perfis.loc[:,'ramo_de_atividade'])"
   ]
  },
  {
   "cell_type": "code",
   "execution_count": 33,
   "metadata": {},
   "outputs": [
    {
     "data": {
      "text/plain": [
       "0"
      ]
     },
     "execution_count": 33,
     "metadata": {},
     "output_type": "execute_result"
    }
   ],
   "source": [
    "perfis['ramo_de_atividade'].isna().sum()"
   ]
  },
  {
   "cell_type": "code",
   "execution_count": 34,
   "metadata": {},
   "outputs": [],
   "source": [
    "import re\n",
    "c=0\n",
    "remcar = {}\n",
    "for i in sp:\n",
    "    found = False\n",
    "    for j in set(a2p.keys()):\n",
    "        #print('----------------')\n",
    "        c=0\n",
    "        for k in range(min(len(i), len(j))):\n",
    "            #print(i[k], j[k])\n",
    "            if i[k] == j[k]:                   \n",
    "                #print(c,'+')\n",
    "                c+=1\n",
    "        if c>10:\n",
    "            found=True\n",
    "            remcar[i]=j\n",
    "            #print('match', i, j)\n",
    "            continue       \n",
    "        \n",
    "    if not found:\n",
    "        pass\n",
    "        remcar[i] = i\n",
    "        #print(i,j)"
   ]
  },
  {
   "cell_type": "code",
   "execution_count": 35,
   "metadata": {},
   "outputs": [],
   "source": [
    "remcar['Seguran�a'] = 'Seguranca'"
   ]
  },
  {
   "cell_type": "code",
   "execution_count": 36,
   "metadata": {},
   "outputs": [],
   "source": [
    "remcar['Minera��o'] = 'Mineracao'"
   ]
  },
  {
   "cell_type": "code",
   "execution_count": 37,
   "metadata": {},
   "outputs": [],
   "source": [
    "remcar['Gr�fica']='Grafica'"
   ]
  },
  {
   "cell_type": "code",
   "execution_count": 38,
   "metadata": {},
   "outputs": [
    {
     "data": {
      "text/plain": [
       "(46, 46)"
      ]
     },
     "execution_count": 38,
     "metadata": {},
     "output_type": "execute_result"
    }
   ],
   "source": [
    "len(remcar), len(sp)"
   ]
  },
  {
   "cell_type": "code",
   "execution_count": 39,
   "metadata": {},
   "outputs": [
    {
     "data": {
      "text/plain": [
       "{'Sorveteria': 'Sorveteria',\n",
       " 'Minera��o': 'Mineracao',\n",
       " 'Poder P�blico Estadual': 'Poder Publico Federal',\n",
       " 'Estudio TV/Cinema': 'Estudio TV/Cinema',\n",
       " 'Gr�fica': 'Grafica',\n",
       " 'Hotel': 'Hotel',\n",
       " 'Lavanderia': 'Lavanderia',\n",
       " 'Poder P�blico Federal': 'Poder Publico Federal',\n",
       " 'Academia': 'Academia',\n",
       " 'Correios': 'Correios',\n",
       " 'Poder p�blico': 'Poder Publico Federal',\n",
       " 'Telefonia/Antena/Bomba dagua': 'Telefonia/Antena/Bomba dagua',\n",
       " 'Tecnologia': 'Tecnologia',\n",
       " 'Hospital': 'Hospital',\n",
       " 'Casa de festas': 'Casa de festas',\n",
       " 'Transportes': 'Transportes',\n",
       " 'F�brica de pl�sticos': 'Fabrica de plasticos',\n",
       " 'Desconhecido': 'Desconhecido',\n",
       " 'Casa de shows e eventos': 'Casa de shows e eventos',\n",
       " 'Metalurgia': 'Metalurgia',\n",
       " 'Armazem/Galp�o': 'Armazem/Galpao',\n",
       " 'Comlurb': 'Comlurb',\n",
       " 'Textil': 'Textil',\n",
       " 'AVENIDA+PRES+VARGAS+595+CENTRO': 'AVENIDA+PRES+VARGAS+595+CENTRO',\n",
       " 'Consumo pr�prio': 'Consumo proprio',\n",
       " 'F�brica/Ind�stria': 'Fabrica/Industria',\n",
       " 'Outra Atividade': 'Outra Atividade',\n",
       " 'Publicidade e Propaganda': 'Publicidade e Propaganda',\n",
       " 'Mercado/Supermercado': 'Mercado/Supermercado',\n",
       " 'BAR E': 'BAR E',\n",
       " 'Laborat�rio m�dico': 'Laboratorio medico',\n",
       " 'Clube/Academia': 'Clube/Academia',\n",
       " 'Garagem/Transportadora': 'Garagem/Transportadora',\n",
       " 'Bar/Padaria/Restaurante': 'Bar/Padaria/Restaurante',\n",
       " 'Oficina': 'Oficina',\n",
       " 'Posto de gasolina': 'Posto de gasolina',\n",
       " 'Banco': 'Banco',\n",
       " 'Cond. Comerc./Escrit�rio/Com�rcio': 'Cond. Comerc./Escritorio/Comercio',\n",
       " 'Cond. Resd./Resid�ncia': 'Cond. Resd./Residencia',\n",
       " 'Reciclagem': 'Reciclagem',\n",
       " 'Curso/Escola': 'Curso/Escola',\n",
       " 'Construtora/Obra': 'Construtora/Obra',\n",
       " 'Igreja': 'Igreja',\n",
       " 'Log�stica ferrovi�ria': 'Logistica ferroviaria',\n",
       " 'Faculdade': 'Faculdade',\n",
       " 'Seguran�a': 'Seguranca'}"
      ]
     },
     "execution_count": 39,
     "metadata": {},
     "output_type": "execute_result"
    }
   ],
   "source": [
    "remcar"
   ]
  },
  {
   "cell_type": "code",
   "execution_count": 40,
   "metadata": {},
   "outputs": [],
   "source": [
    "perfis['ramo_de_atividade']=perfis.loc[:,'ramo_de_atividade'].map(remcar)"
   ]
  },
  {
   "cell_type": "code",
   "execution_count": 41,
   "metadata": {},
   "outputs": [
    {
     "data": {
      "text/plain": [
       "0"
      ]
     },
     "execution_count": 41,
     "metadata": {},
     "output_type": "execute_result"
    }
   ],
   "source": [
    "perfis['ramo_de_atividade'].isna().sum()"
   ]
  },
  {
   "cell_type": "code",
   "execution_count": 42,
   "metadata": {},
   "outputs": [
    {
     "data": {
      "text/html": [
       "<div>\n",
       "<style scoped>\n",
       "    .dataframe tbody tr th:only-of-type {\n",
       "        vertical-align: middle;\n",
       "    }\n",
       "\n",
       "    .dataframe tbody tr th {\n",
       "        vertical-align: top;\n",
       "    }\n",
       "\n",
       "    .dataframe thead th {\n",
       "        text-align: right;\n",
       "    }\n",
       "</style>\n",
       "<table border=\"1\" class=\"dataframe\">\n",
       "  <thead>\n",
       "    <tr style=\"text-align: right;\">\n",
       "      <th></th>\n",
       "      <th>instalacao</th>\n",
       "      <th>id</th>\n",
       "      <th>cpf_cnpj</th>\n",
       "      <th>razao social</th>\n",
       "      <th>endereco_cadastro</th>\n",
       "      <th>ramo_de_atividade</th>\n",
       "      <th>ramo_de_atividade_num</th>\n",
       "    </tr>\n",
       "  </thead>\n",
       "  <tbody>\n",
       "    <tr>\n",
       "      <th>400</th>\n",
       "      <td>BT2A414407935</td>\n",
       "      <td>414407935</td>\n",
       "      <td>14134854000175</td>\n",
       "      <td>FS 2011 PADARIA</td>\n",
       "      <td>CONFEITARIA</td>\n",
       "      <td>BAR E</td>\n",
       "      <td>32</td>\n",
       "    </tr>\n",
       "    <tr>\n",
       "      <th>732</th>\n",
       "      <td>BTI410447778</td>\n",
       "      <td>410447778</td>\n",
       "      <td>2408485000182</td>\n",
       "      <td>COMTEX INDUSTRIA E COMERCIO</td>\n",
       "      <td>NaN</td>\n",
       "      <td>AVENIDA+PRES+VARGAS+595+CENTRO</td>\n",
       "      <td>42</td>\n",
       "    </tr>\n",
       "  </tbody>\n",
       "</table>\n",
       "</div>"
      ],
      "text/plain": [
       "        instalacao         id        cpf_cnpj                 razao social  \\\n",
       "400  BT2A414407935  414407935  14134854000175              FS 2011 PADARIA   \n",
       "732   BTI410447778  410447778   2408485000182  COMTEX INDUSTRIA E COMERCIO   \n",
       "\n",
       "    endereco_cadastro               ramo_de_atividade  ramo_de_atividade_num  \n",
       "400       CONFEITARIA                           BAR E                     32  \n",
       "732               NaN  AVENIDA+PRES+VARGAS+595+CENTRO                     42  "
      ]
     },
     "execution_count": 42,
     "metadata": {},
     "output_type": "execute_result"
    }
   ],
   "source": [
    "perfis[~perfis['ramo_de_atividade'].isin(a2p)]"
   ]
  },
  {
   "cell_type": "code",
   "execution_count": 43,
   "metadata": {},
   "outputs": [],
   "source": [
    "for i in p2a.keys():\n",
    "    if i not in cats:\n",
    "        print(i)"
   ]
  },
  {
   "cell_type": "code",
   "execution_count": 44,
   "metadata": {},
   "outputs": [],
   "source": [
    "perfis.drop(columns=['ramo_de_atividade_num'],inplace=True)"
   ]
  },
  {
   "cell_type": "code",
   "execution_count": 45,
   "metadata": {},
   "outputs": [
    {
     "data": {
      "text/plain": [
       "Index(['instalacao', 'id', 'cpf_cnpj', 'razao social', 'endereco_cadastro',\n",
       "       'ramo_de_atividade'],\n",
       "      dtype='object')"
      ]
     },
     "execution_count": 45,
     "metadata": {},
     "output_type": "execute_result"
    }
   ],
   "source": [
    "perfis.columns"
   ]
  },
  {
   "cell_type": "code",
   "execution_count": 46,
   "metadata": {},
   "outputs": [
    {
     "ename": "KeyError",
     "evalue": "\"['cat'] not found in axis\"",
     "output_type": "error",
     "traceback": [
      "\u001b[0;31m---------------------------------------------------------------------------\u001b[0m",
      "\u001b[0;31mKeyError\u001b[0m                                  Traceback (most recent call last)",
      "\u001b[0;32m<ipython-input-46-2e8d758b2877>\u001b[0m in \u001b[0;36m<module>\u001b[0;34m()\u001b[0m\n\u001b[0;32m----> 1\u001b[0;31m \u001b[0mperfis\u001b[0m\u001b[0;34m.\u001b[0m\u001b[0mdrop\u001b[0m\u001b[0;34m(\u001b[0m\u001b[0mcolumns\u001b[0m\u001b[0;34m=\u001b[0m\u001b[0;34m[\u001b[0m\u001b[0;34m'cat'\u001b[0m\u001b[0;34m]\u001b[0m\u001b[0;34m,\u001b[0m\u001b[0minplace\u001b[0m\u001b[0;34m=\u001b[0m\u001b[0;32mTrue\u001b[0m\u001b[0;34m)\u001b[0m\u001b[0;34m\u001b[0m\u001b[0m\n\u001b[0m",
      "\u001b[0;32m~/anaconda3/envs/tensorflow_p36/lib/python3.6/site-packages/pandas/core/frame.py\u001b[0m in \u001b[0;36mdrop\u001b[0;34m(self, labels, axis, index, columns, level, inplace, errors)\u001b[0m\n\u001b[1;32m   3938\u001b[0m                                            \u001b[0mindex\u001b[0m\u001b[0;34m=\u001b[0m\u001b[0mindex\u001b[0m\u001b[0;34m,\u001b[0m \u001b[0mcolumns\u001b[0m\u001b[0;34m=\u001b[0m\u001b[0mcolumns\u001b[0m\u001b[0;34m,\u001b[0m\u001b[0;34m\u001b[0m\u001b[0m\n\u001b[1;32m   3939\u001b[0m                                            \u001b[0mlevel\u001b[0m\u001b[0;34m=\u001b[0m\u001b[0mlevel\u001b[0m\u001b[0;34m,\u001b[0m \u001b[0minplace\u001b[0m\u001b[0;34m=\u001b[0m\u001b[0minplace\u001b[0m\u001b[0;34m,\u001b[0m\u001b[0;34m\u001b[0m\u001b[0m\n\u001b[0;32m-> 3940\u001b[0;31m                                            errors=errors)\n\u001b[0m\u001b[1;32m   3941\u001b[0m \u001b[0;34m\u001b[0m\u001b[0m\n\u001b[1;32m   3942\u001b[0m     @rewrite_axis_style_signature('mapper', [('copy', True),\n",
      "\u001b[0;32m~/anaconda3/envs/tensorflow_p36/lib/python3.6/site-packages/pandas/core/generic.py\u001b[0m in \u001b[0;36mdrop\u001b[0;34m(self, labels, axis, index, columns, level, inplace, errors)\u001b[0m\n\u001b[1;32m   3778\u001b[0m         \u001b[0;32mfor\u001b[0m \u001b[0maxis\u001b[0m\u001b[0;34m,\u001b[0m \u001b[0mlabels\u001b[0m \u001b[0;32min\u001b[0m \u001b[0maxes\u001b[0m\u001b[0;34m.\u001b[0m\u001b[0mitems\u001b[0m\u001b[0;34m(\u001b[0m\u001b[0;34m)\u001b[0m\u001b[0;34m:\u001b[0m\u001b[0;34m\u001b[0m\u001b[0m\n\u001b[1;32m   3779\u001b[0m             \u001b[0;32mif\u001b[0m \u001b[0mlabels\u001b[0m \u001b[0;32mis\u001b[0m \u001b[0;32mnot\u001b[0m \u001b[0;32mNone\u001b[0m\u001b[0;34m:\u001b[0m\u001b[0;34m\u001b[0m\u001b[0m\n\u001b[0;32m-> 3780\u001b[0;31m                 \u001b[0mobj\u001b[0m \u001b[0;34m=\u001b[0m \u001b[0mobj\u001b[0m\u001b[0;34m.\u001b[0m\u001b[0m_drop_axis\u001b[0m\u001b[0;34m(\u001b[0m\u001b[0mlabels\u001b[0m\u001b[0;34m,\u001b[0m \u001b[0maxis\u001b[0m\u001b[0;34m,\u001b[0m \u001b[0mlevel\u001b[0m\u001b[0;34m=\u001b[0m\u001b[0mlevel\u001b[0m\u001b[0;34m,\u001b[0m \u001b[0merrors\u001b[0m\u001b[0;34m=\u001b[0m\u001b[0merrors\u001b[0m\u001b[0;34m)\u001b[0m\u001b[0;34m\u001b[0m\u001b[0m\n\u001b[0m\u001b[1;32m   3781\u001b[0m \u001b[0;34m\u001b[0m\u001b[0m\n\u001b[1;32m   3782\u001b[0m         \u001b[0;32mif\u001b[0m \u001b[0minplace\u001b[0m\u001b[0;34m:\u001b[0m\u001b[0;34m\u001b[0m\u001b[0m\n",
      "\u001b[0;32m~/anaconda3/envs/tensorflow_p36/lib/python3.6/site-packages/pandas/core/generic.py\u001b[0m in \u001b[0;36m_drop_axis\u001b[0;34m(self, labels, axis, level, errors)\u001b[0m\n\u001b[1;32m   3810\u001b[0m                 \u001b[0mnew_axis\u001b[0m \u001b[0;34m=\u001b[0m \u001b[0maxis\u001b[0m\u001b[0;34m.\u001b[0m\u001b[0mdrop\u001b[0m\u001b[0;34m(\u001b[0m\u001b[0mlabels\u001b[0m\u001b[0;34m,\u001b[0m \u001b[0mlevel\u001b[0m\u001b[0;34m=\u001b[0m\u001b[0mlevel\u001b[0m\u001b[0;34m,\u001b[0m \u001b[0merrors\u001b[0m\u001b[0;34m=\u001b[0m\u001b[0merrors\u001b[0m\u001b[0;34m)\u001b[0m\u001b[0;34m\u001b[0m\u001b[0m\n\u001b[1;32m   3811\u001b[0m             \u001b[0;32melse\u001b[0m\u001b[0;34m:\u001b[0m\u001b[0;34m\u001b[0m\u001b[0m\n\u001b[0;32m-> 3812\u001b[0;31m                 \u001b[0mnew_axis\u001b[0m \u001b[0;34m=\u001b[0m \u001b[0maxis\u001b[0m\u001b[0;34m.\u001b[0m\u001b[0mdrop\u001b[0m\u001b[0;34m(\u001b[0m\u001b[0mlabels\u001b[0m\u001b[0;34m,\u001b[0m \u001b[0merrors\u001b[0m\u001b[0;34m=\u001b[0m\u001b[0merrors\u001b[0m\u001b[0;34m)\u001b[0m\u001b[0;34m\u001b[0m\u001b[0m\n\u001b[0m\u001b[1;32m   3813\u001b[0m             \u001b[0mresult\u001b[0m \u001b[0;34m=\u001b[0m \u001b[0mself\u001b[0m\u001b[0;34m.\u001b[0m\u001b[0mreindex\u001b[0m\u001b[0;34m(\u001b[0m\u001b[0;34m**\u001b[0m\u001b[0;34m{\u001b[0m\u001b[0maxis_name\u001b[0m\u001b[0;34m:\u001b[0m \u001b[0mnew_axis\u001b[0m\u001b[0;34m}\u001b[0m\u001b[0;34m)\u001b[0m\u001b[0;34m\u001b[0m\u001b[0m\n\u001b[1;32m   3814\u001b[0m \u001b[0;34m\u001b[0m\u001b[0m\n",
      "\u001b[0;32m~/anaconda3/envs/tensorflow_p36/lib/python3.6/site-packages/pandas/core/indexes/base.py\u001b[0m in \u001b[0;36mdrop\u001b[0;34m(self, labels, errors)\u001b[0m\n\u001b[1;32m   4963\u001b[0m             \u001b[0;32mif\u001b[0m \u001b[0merrors\u001b[0m \u001b[0;34m!=\u001b[0m \u001b[0;34m'ignore'\u001b[0m\u001b[0;34m:\u001b[0m\u001b[0;34m\u001b[0m\u001b[0m\n\u001b[1;32m   4964\u001b[0m                 raise KeyError(\n\u001b[0;32m-> 4965\u001b[0;31m                     '{} not found in axis'.format(labels[mask]))\n\u001b[0m\u001b[1;32m   4966\u001b[0m             \u001b[0mindexer\u001b[0m \u001b[0;34m=\u001b[0m \u001b[0mindexer\u001b[0m\u001b[0;34m[\u001b[0m\u001b[0;34m~\u001b[0m\u001b[0mmask\u001b[0m\u001b[0;34m]\u001b[0m\u001b[0;34m\u001b[0m\u001b[0m\n\u001b[1;32m   4967\u001b[0m         \u001b[0;32mreturn\u001b[0m \u001b[0mself\u001b[0m\u001b[0;34m.\u001b[0m\u001b[0mdelete\u001b[0m\u001b[0;34m(\u001b[0m\u001b[0mindexer\u001b[0m\u001b[0;34m)\u001b[0m\u001b[0;34m\u001b[0m\u001b[0m\n",
      "\u001b[0;31mKeyError\u001b[0m: \"['cat'] not found in axis\""
     ]
    }
   ],
   "source": [
    "perfis.drop(columns=['cat'],inplace=True)"
   ]
  },
  {
   "cell_type": "code",
   "execution_count": null,
   "metadata": {},
   "outputs": [],
   "source": [
    "perfis.insert(loc=6, value = perfis['ramo_de_atividade'].map(a2p).map(cats), column='cat')"
   ]
  },
  {
   "cell_type": "code",
   "execution_count": 47,
   "metadata": {},
   "outputs": [
    {
     "ename": "AttributeError",
     "evalue": "'DataFrame' object has no attribute 'cat'",
     "output_type": "error",
     "traceback": [
      "\u001b[0;31m---------------------------------------------------------------------------\u001b[0m",
      "\u001b[0;31mAttributeError\u001b[0m                            Traceback (most recent call last)",
      "\u001b[0;32m<ipython-input-47-d93919aa93b0>\u001b[0m in \u001b[0;36m<module>\u001b[0;34m()\u001b[0m\n\u001b[0;32m----> 1\u001b[0;31m \u001b[0mperfis\u001b[0m\u001b[0;34m.\u001b[0m\u001b[0mcat\u001b[0m\u001b[0;34m.\u001b[0m\u001b[0misna\u001b[0m\u001b[0;34m(\u001b[0m\u001b[0;34m)\u001b[0m\u001b[0;34m.\u001b[0m\u001b[0msum\u001b[0m\u001b[0;34m(\u001b[0m\u001b[0;34m)\u001b[0m\u001b[0;34m\u001b[0m\u001b[0m\n\u001b[0m",
      "\u001b[0;32m~/anaconda3/envs/tensorflow_p36/lib/python3.6/site-packages/pandas/core/generic.py\u001b[0m in \u001b[0;36m__getattr__\u001b[0;34m(self, name)\u001b[0m\n\u001b[1;32m   5065\u001b[0m             \u001b[0;32mif\u001b[0m \u001b[0mself\u001b[0m\u001b[0;34m.\u001b[0m\u001b[0m_info_axis\u001b[0m\u001b[0;34m.\u001b[0m\u001b[0m_can_hold_identifiers_and_holds_name\u001b[0m\u001b[0;34m(\u001b[0m\u001b[0mname\u001b[0m\u001b[0;34m)\u001b[0m\u001b[0;34m:\u001b[0m\u001b[0;34m\u001b[0m\u001b[0m\n\u001b[1;32m   5066\u001b[0m                 \u001b[0;32mreturn\u001b[0m \u001b[0mself\u001b[0m\u001b[0;34m[\u001b[0m\u001b[0mname\u001b[0m\u001b[0;34m]\u001b[0m\u001b[0;34m\u001b[0m\u001b[0m\n\u001b[0;32m-> 5067\u001b[0;31m             \u001b[0;32mreturn\u001b[0m \u001b[0mobject\u001b[0m\u001b[0;34m.\u001b[0m\u001b[0m__getattribute__\u001b[0m\u001b[0;34m(\u001b[0m\u001b[0mself\u001b[0m\u001b[0;34m,\u001b[0m \u001b[0mname\u001b[0m\u001b[0;34m)\u001b[0m\u001b[0;34m\u001b[0m\u001b[0m\n\u001b[0m\u001b[1;32m   5068\u001b[0m \u001b[0;34m\u001b[0m\u001b[0m\n\u001b[1;32m   5069\u001b[0m     \u001b[0;32mdef\u001b[0m \u001b[0m__setattr__\u001b[0m\u001b[0;34m(\u001b[0m\u001b[0mself\u001b[0m\u001b[0;34m,\u001b[0m \u001b[0mname\u001b[0m\u001b[0;34m,\u001b[0m \u001b[0mvalue\u001b[0m\u001b[0;34m)\u001b[0m\u001b[0;34m:\u001b[0m\u001b[0;34m\u001b[0m\u001b[0m\n",
      "\u001b[0;31mAttributeError\u001b[0m: 'DataFrame' object has no attribute 'cat'"
     ]
    }
   ],
   "source": [
    "perfis.cat.isna().sum()"
   ]
  },
  {
   "cell_type": "code",
   "execution_count": 48,
   "metadata": {},
   "outputs": [
    {
     "data": {
      "text/html": [
       "<div>\n",
       "<style scoped>\n",
       "    .dataframe tbody tr th:only-of-type {\n",
       "        vertical-align: middle;\n",
       "    }\n",
       "\n",
       "    .dataframe tbody tr th {\n",
       "        vertical-align: top;\n",
       "    }\n",
       "\n",
       "    .dataframe thead th {\n",
       "        text-align: right;\n",
       "    }\n",
       "</style>\n",
       "<table border=\"1\" class=\"dataframe\">\n",
       "  <thead>\n",
       "    <tr style=\"text-align: right;\">\n",
       "      <th></th>\n",
       "      <th>instalacao</th>\n",
       "      <th>id</th>\n",
       "      <th>cpf_cnpj</th>\n",
       "      <th>razao social</th>\n",
       "      <th>endereco_cadastro</th>\n",
       "      <th>ramo_de_atividade</th>\n",
       "    </tr>\n",
       "  </thead>\n",
       "  <tbody>\n",
       "    <tr>\n",
       "      <th>0</th>\n",
       "      <td>BT2A400076589</td>\n",
       "      <td>400076589</td>\n",
       "      <td>29468063000159</td>\n",
       "      <td>PCRJ SECRETARIA MUNICIPAL</td>\n",
       "      <td>RUA+PE+JANUARIO+220+INHAUMA</td>\n",
       "      <td>Poder Publico Federal</td>\n",
       "    </tr>\n",
       "    <tr>\n",
       "      <th>1</th>\n",
       "      <td>BT2A400085952</td>\n",
       "      <td>400085952</td>\n",
       "      <td>29468063000159</td>\n",
       "      <td>PCRJ SECRETARIA MUNICIPAL</td>\n",
       "      <td>RUA++EMILIO DE MENEZES+230+PIEDADE</td>\n",
       "      <td>Poder Publico Federal</td>\n",
       "    </tr>\n",
       "    <tr>\n",
       "      <th>2</th>\n",
       "      <td>BT2A400086240</td>\n",
       "      <td>400086240</td>\n",
       "      <td>29468063000159</td>\n",
       "      <td>PCRJ SECRETARIA MUNICIPAL</td>\n",
       "      <td>AVENIDA++BRASIL+17879+IRAJA</td>\n",
       "      <td>Poder Publico Federal</td>\n",
       "    </tr>\n",
       "    <tr>\n",
       "      <th>3</th>\n",
       "      <td>BT2A400091987</td>\n",
       "      <td>400091987</td>\n",
       "      <td>29468063000159</td>\n",
       "      <td>PCRJ SECRETARIA MUNICIPAL</td>\n",
       "      <td>PRACA++ZUINARA+1+COLEGIO</td>\n",
       "      <td>Poder Publico Federal</td>\n",
       "    </tr>\n",
       "    <tr>\n",
       "      <th>4</th>\n",
       "      <td>BT2A400104752</td>\n",
       "      <td>400104752</td>\n",
       "      <td>29468063000159</td>\n",
       "      <td>PCRJ SECRETARIA MUNICIPAL</td>\n",
       "      <td>TRAVESSA++MANGUEIRA+1+CAJU</td>\n",
       "      <td>Poder Publico Federal</td>\n",
       "    </tr>\n",
       "    <tr>\n",
       "      <th>5</th>\n",
       "      <td>BT2A400104884</td>\n",
       "      <td>400104884</td>\n",
       "      <td>29468063000159</td>\n",
       "      <td>PCRJ SECRETARIA MUNICIPAL</td>\n",
       "      <td>RUA++CARLOS SEIDL+813+CAJU</td>\n",
       "      <td>Poder Publico Federal</td>\n",
       "    </tr>\n",
       "    <tr>\n",
       "      <th>6</th>\n",
       "      <td>BT2A400113506</td>\n",
       "      <td>400113506</td>\n",
       "      <td>29468063000159</td>\n",
       "      <td>PCRJ SECRETARIA MUNICIPAL</td>\n",
       "      <td>RUA++MARIA REGINA MARCONDES PINTO+1+BANGU</td>\n",
       "      <td>Poder Publico Federal</td>\n",
       "    </tr>\n",
       "    <tr>\n",
       "      <th>7</th>\n",
       "      <td>BT2A400114162</td>\n",
       "      <td>400114162</td>\n",
       "      <td>29468063000159</td>\n",
       "      <td>PCRJ SECRETARIA MUNICIPAL</td>\n",
       "      <td>PRACA+PROF+FERREIRA DE ABREU+1+BANGU</td>\n",
       "      <td>Poder Publico Federal</td>\n",
       "    </tr>\n",
       "    <tr>\n",
       "      <th>8</th>\n",
       "      <td>BT2A400120332</td>\n",
       "      <td>400120332</td>\n",
       "      <td>29468063000159</td>\n",
       "      <td>PCRJ SECRETARIA MUNICIPAL</td>\n",
       "      <td>AVENIDA++CANAL MARGEM DIREITA+1+SANTA CRUZ</td>\n",
       "      <td>Poder Publico Federal</td>\n",
       "    </tr>\n",
       "    <tr>\n",
       "      <th>9</th>\n",
       "      <td>BT2A400120898</td>\n",
       "      <td>400120898</td>\n",
       "      <td>29468063000159</td>\n",
       "      <td>PCRJ SECRETARIA MUNICIPAL</td>\n",
       "      <td>RUA++UM+1+SANTA CRUZ</td>\n",
       "      <td>Poder Publico Federal</td>\n",
       "    </tr>\n",
       "    <tr>\n",
       "      <th>10</th>\n",
       "      <td>BT2A400132810</td>\n",
       "      <td>400132810</td>\n",
       "      <td>30295513000138</td>\n",
       "      <td>DEPARTAMENTO DE TRANSITO DO EST DO RJ</td>\n",
       "      <td>ESTRADA++ADRIANOPOLIS+1+AMBAI</td>\n",
       "      <td>Poder Publico Federal</td>\n",
       "    </tr>\n",
       "    <tr>\n",
       "      <th>11</th>\n",
       "      <td>BT2A400132870</td>\n",
       "      <td>400132870</td>\n",
       "      <td>42498659000160</td>\n",
       "      <td>SECRETARIA DE ESTADO DE EDUCACAO</td>\n",
       "      <td>RUA+STA+RITA+1+ENG ROCHA FREIRE</td>\n",
       "      <td>Poder Publico Federal</td>\n",
       "    </tr>\n",
       "    <tr>\n",
       "      <th>12</th>\n",
       "      <td>BT2A400136450</td>\n",
       "      <td>400136450</td>\n",
       "      <td>42498659000160</td>\n",
       "      <td>SECRETARIA DE ESTADO DE EDUCACAO</td>\n",
       "      <td>RUA++ADEMARIO FERREIRA DA SILVA+1+LOTE QUINZE</td>\n",
       "      <td>Poder Publico Federal</td>\n",
       "    </tr>\n",
       "    <tr>\n",
       "      <th>13</th>\n",
       "      <td>BT2A400260487</td>\n",
       "      <td>400260487</td>\n",
       "      <td>10456551000118</td>\n",
       "      <td>BASILIO  DI MARINO E FARIA ADVOGADOS</td>\n",
       "      <td>AVENIDA+PRES+WILSON+210+CENTRO</td>\n",
       "      <td>Cond. Comerc./Escritorio/Comercio</td>\n",
       "    </tr>\n",
       "    <tr>\n",
       "      <th>14</th>\n",
       "      <td>BT2A400288195</td>\n",
       "      <td>400288195</td>\n",
       "      <td>4567650000255</td>\n",
       "      <td>LOCALIX SERVICOS AMBIENTAIS LTDA</td>\n",
       "      <td>RUA++BERNARDO DE VASCONCELOS+1756+REALENGO</td>\n",
       "      <td>Comlurb</td>\n",
       "    </tr>\n",
       "    <tr>\n",
       "      <th>15</th>\n",
       "      <td>BT2A400291188</td>\n",
       "      <td>400291188</td>\n",
       "      <td>32855236000104</td>\n",
       "      <td>SECRETARIA DE ESTADO DE POLICIA CIVIL</td>\n",
       "      <td>RUA++ZENI ESTEVES+1+SAO JUDAS TADEU</td>\n",
       "      <td>Poder Publico Federal</td>\n",
       "    </tr>\n",
       "    <tr>\n",
       "      <th>16</th>\n",
       "      <td>BT2A400300110</td>\n",
       "      <td>400300110</td>\n",
       "      <td>32512501000143</td>\n",
       "      <td>PREF MUN VOLTA REDONDA</td>\n",
       "      <td>RUA++QUINHENTOS E CINQUENTA E DOIS+301+NS GRACAS</td>\n",
       "      <td>Poder Publico Federal</td>\n",
       "    </tr>\n",
       "    <tr>\n",
       "      <th>17</th>\n",
       "      <td>BT2A400352837</td>\n",
       "      <td>400352837</td>\n",
       "      <td>42498717000155</td>\n",
       "      <td>SECRETARIA DE ESTADO DE SAUDE - SES</td>\n",
       "      <td>AVENIDA+GOVR+ROBERTO SILVEIRA+210+CENTRO</td>\n",
       "      <td>Poder Publico Federal</td>\n",
       "    </tr>\n",
       "    <tr>\n",
       "      <th>18</th>\n",
       "      <td>BT2A400357847</td>\n",
       "      <td>400357847</td>\n",
       "      <td>11239018000167</td>\n",
       "      <td>GUARDA MUNICIPAL   RIO</td>\n",
       "      <td>PRAIA++GALEAO+92+GALEAO</td>\n",
       "      <td>Poder Publico Federal</td>\n",
       "    </tr>\n",
       "    <tr>\n",
       "      <th>19</th>\n",
       "      <td>BT2A400391131</td>\n",
       "      <td>400391131</td>\n",
       "      <td>1647498000141</td>\n",
       "      <td>CAMARA MUNICIPAL DE PINHEIRAL</td>\n",
       "      <td>RUA++BENEDITO FRANCISCO VICENTE DA SILVA+80+RO...</td>\n",
       "      <td>Poder Publico Federal</td>\n",
       "    </tr>\n",
       "    <tr>\n",
       "      <th>20</th>\n",
       "      <td>BT2A400402672</td>\n",
       "      <td>400402672</td>\n",
       "      <td>33352394000104</td>\n",
       "      <td>COMPANHIA ESTADUAL DE AGUAS E</td>\n",
       "      <td>RUA+CONS+JOBIM+398+ENGENHO NOVO</td>\n",
       "      <td>Telefonia/Antena/Bomba dagua</td>\n",
       "    </tr>\n",
       "    <tr>\n",
       "      <th>21</th>\n",
       "      <td>BT2A400405116</td>\n",
       "      <td>400405116</td>\n",
       "      <td>29138385000130</td>\n",
       "      <td>PREFEITURA MUNICIPAL DE PARAIBA DO SUL</td>\n",
       "      <td>RUA++ANTONIO CESAR OLIVEIRA+920+VILA SALUTARIS</td>\n",
       "      <td>Poder Publico Federal</td>\n",
       "    </tr>\n",
       "    <tr>\n",
       "      <th>22</th>\n",
       "      <td>BT2A410001280</td>\n",
       "      <td>410001280</td>\n",
       "      <td>324409000163</td>\n",
       "      <td>LOUCO SABOR DA BARRA LTDA</td>\n",
       "      <td>AVENIDA++OLEGARIO MACIEL+440+BARRA DA TIJUCA</td>\n",
       "      <td>Bar/Padaria/Restaurante</td>\n",
       "    </tr>\n",
       "    <tr>\n",
       "      <th>23</th>\n",
       "      <td>BT2A410001603</td>\n",
       "      <td>410001603</td>\n",
       "      <td>3763352708</td>\n",
       "      <td>LEANDRO BARBOSA MALAQUIAS</td>\n",
       "      <td>AVENIDA+GAL+GUEDES DA FONTOURA+635+BARRA DA TI...</td>\n",
       "      <td>Desconhecido</td>\n",
       "    </tr>\n",
       "    <tr>\n",
       "      <th>24</th>\n",
       "      <td>BT2A410018693</td>\n",
       "      <td>410018693</td>\n",
       "      <td>90400888000142</td>\n",
       "      <td>BANCO SANTANDER  BRASIL  S A</td>\n",
       "      <td>RUA++HADOCK LOBO+203+TIJUCA</td>\n",
       "      <td>Banco</td>\n",
       "    </tr>\n",
       "    <tr>\n",
       "      <th>25</th>\n",
       "      <td>BT2A410032723</td>\n",
       "      <td>410032723</td>\n",
       "      <td>32268590000124</td>\n",
       "      <td>INSTITUTO JATY D AIUTO</td>\n",
       "      <td>RUA+MONS+JERONIMO+248+ENGENHO DE DENTRO</td>\n",
       "      <td>Clube/Academia</td>\n",
       "    </tr>\n",
       "    <tr>\n",
       "      <th>26</th>\n",
       "      <td>BT2A410040647</td>\n",
       "      <td>410040647</td>\n",
       "      <td>33570052006193</td>\n",
       "      <td>ASSOCIACAO SAO VICENTE PAULO</td>\n",
       "      <td>ESTRADA++MAPUA+691+TAQUARA</td>\n",
       "      <td>Hospital</td>\n",
       "    </tr>\n",
       "    <tr>\n",
       "      <th>27</th>\n",
       "      <td>BT2A410047095</td>\n",
       "      <td>410047095</td>\n",
       "      <td>17941016753</td>\n",
       "      <td>JOSE TARCIZIO BEZERRA MARTINS</td>\n",
       "      <td>AVENIDA+MIN+EDGARD ROMERO+953+VAZ LOBO</td>\n",
       "      <td>Desconhecido</td>\n",
       "    </tr>\n",
       "    <tr>\n",
       "      <th>28</th>\n",
       "      <td>BT2A410062626</td>\n",
       "      <td>410062626</td>\n",
       "      <td>4394343780</td>\n",
       "      <td>GILBERTO DE MIRANDA AQUINO</td>\n",
       "      <td>ESTRADA++RETA RIO GRANDE+1+SANTA CRUZ</td>\n",
       "      <td>Desconhecido</td>\n",
       "    </tr>\n",
       "    <tr>\n",
       "      <th>29</th>\n",
       "      <td>BT2A410076151</td>\n",
       "      <td>410076151</td>\n",
       "      <td>35768100000147</td>\n",
       "      <td>J MITRAUD BAIAO ARMARINHOS LTDA - EPP</td>\n",
       "      <td>PRACA++EMANCIPACAO+96+CENTRO</td>\n",
       "      <td>Cond. Comerc./Escritorio/Comercio</td>\n",
       "    </tr>\n",
       "    <tr>\n",
       "      <th>...</th>\n",
       "      <td>...</td>\n",
       "      <td>...</td>\n",
       "      <td>...</td>\n",
       "      <td>...</td>\n",
       "      <td>...</td>\n",
       "      <td>...</td>\n",
       "    </tr>\n",
       "    <tr>\n",
       "      <th>1380</th>\n",
       "      <td>BTI420911422</td>\n",
       "      <td>420911422</td>\n",
       "      <td>29427465000105</td>\n",
       "      <td>UNIVERSIDADE FEDERAL RURAL DO RIO DE</td>\n",
       "      <td>RUA++U A X+211+UNIVERSIDADE RURAL</td>\n",
       "      <td>Faculdade</td>\n",
       "    </tr>\n",
       "    <tr>\n",
       "      <th>1381</th>\n",
       "      <td>BTI420918527</td>\n",
       "      <td>420918527</td>\n",
       "      <td>23978911000193</td>\n",
       "      <td>BOX 81 DISTR PRODS ALIMENT LTDA EPP</td>\n",
       "      <td>AVENIDA++BRASIL+19001+COELHO NETO</td>\n",
       "      <td>Cond. Comerc./Escritorio/Comercio</td>\n",
       "    </tr>\n",
       "    <tr>\n",
       "      <th>1382</th>\n",
       "      <td>BTI420967209</td>\n",
       "      <td>420967209</td>\n",
       "      <td>4482818720</td>\n",
       "      <td>PATRICIA DE BULHOES BUCHI</td>\n",
       "      <td>AVENIDA++CELIA RIBEIRO DA SILVA MENDES+60001+B...</td>\n",
       "      <td>Desconhecido</td>\n",
       "    </tr>\n",
       "    <tr>\n",
       "      <th>1383</th>\n",
       "      <td>BTI420990204</td>\n",
       "      <td>420990204</td>\n",
       "      <td>39204854000125</td>\n",
       "      <td>LEVI F PINTO BAR E MERCEARIA -ME</td>\n",
       "      <td>ESTRADA++RJ CENTO E VINTE E SETE+19+RAMALHO</td>\n",
       "      <td>Bar/Padaria/Restaurante</td>\n",
       "    </tr>\n",
       "    <tr>\n",
       "      <th>1384</th>\n",
       "      <td>BTI420991160</td>\n",
       "      <td>420991160</td>\n",
       "      <td>11267067000103</td>\n",
       "      <td>RAMALHO  ESPINDOLA  E SILVA  ACADEMIA DE</td>\n",
       "      <td>ESTRADA++GALEAO+1950+JARDIM CARIOCA</td>\n",
       "      <td>Academia</td>\n",
       "    </tr>\n",
       "    <tr>\n",
       "      <th>1385</th>\n",
       "      <td>BTI421004181</td>\n",
       "      <td>421004181</td>\n",
       "      <td>60444437000146</td>\n",
       "      <td>LIGHT SERVI�OS DE ELETRICIDADE SA</td>\n",
       "      <td>RUA+CDE+BONFIM+859+TIJUCA</td>\n",
       "      <td>Consumo proprio</td>\n",
       "    </tr>\n",
       "    <tr>\n",
       "      <th>1386</th>\n",
       "      <td>BTI421036646</td>\n",
       "      <td>421036646</td>\n",
       "      <td>2344263000224</td>\n",
       "      <td>KOBE ELIJA VEICULOS LTDA</td>\n",
       "      <td>AVENIDA++AMERICAS+2001+BARRA DA TIJUCA</td>\n",
       "      <td>Oficina</td>\n",
       "    </tr>\n",
       "    <tr>\n",
       "      <th>1387</th>\n",
       "      <td>BTI421042017</td>\n",
       "      <td>421042017</td>\n",
       "      <td>3622631000130</td>\n",
       "      <td>REC LOG DUQUE DE CAXIAS EMPREENDIMENTOS</td>\n",
       "      <td>AVENIDA++OL 1A.+75+INTER BUSI PARK</td>\n",
       "      <td>Construtora/Obra</td>\n",
       "    </tr>\n",
       "    <tr>\n",
       "      <th>1388</th>\n",
       "      <td>BTI421100890</td>\n",
       "      <td>421100890</td>\n",
       "      <td>14102782000184</td>\n",
       "      <td>RIOTER TERMINAIS RODOVIARIOS</td>\n",
       "      <td>AVENIDA++ITALIANOS+1+TURIACU</td>\n",
       "      <td>Transportes</td>\n",
       "    </tr>\n",
       "    <tr>\n",
       "      <th>1389</th>\n",
       "      <td>BTI421106759</td>\n",
       "      <td>421106759</td>\n",
       "      <td>60444437000146</td>\n",
       "      <td>LIGHT SERVI�OS DE ELETRICIDADE SA</td>\n",
       "      <td>RUA+FREI+CANECA+289+ESTACIO</td>\n",
       "      <td>Consumo proprio</td>\n",
       "    </tr>\n",
       "    <tr>\n",
       "      <th>1390</th>\n",
       "      <td>BTI421115262</td>\n",
       "      <td>421115262</td>\n",
       "      <td>6234141000155</td>\n",
       "      <td>IGREJA EVANGELICA ASSEMBLEIA DE DEUS</td>\n",
       "      <td>RUA+S+PEDRO+29+INHAUMA</td>\n",
       "      <td>Igreja</td>\n",
       "    </tr>\n",
       "    <tr>\n",
       "      <th>1391</th>\n",
       "      <td>BTI421120273</td>\n",
       "      <td>421120273</td>\n",
       "      <td>31365214000195</td>\n",
       "      <td>ONG SOCIEDADE CIVIL UNIDOS PELA PAZ   UP</td>\n",
       "      <td>RUA++ALBERTO SOARES SAMPAIO+1+ENG ROCHA FREIRE</td>\n",
       "      <td>Cond. Comerc./Escritorio/Comercio</td>\n",
       "    </tr>\n",
       "    <tr>\n",
       "      <th>1392</th>\n",
       "      <td>BTI421155328</td>\n",
       "      <td>421155328</td>\n",
       "      <td>60444437000146</td>\n",
       "      <td>LIGHT SERVI�OS DE ELETRICIDADE SA</td>\n",
       "      <td>ESTRADA++GAVEA+561+SAO CONRADO</td>\n",
       "      <td>Consumo proprio</td>\n",
       "    </tr>\n",
       "    <tr>\n",
       "      <th>1393</th>\n",
       "      <td>BTI421159055</td>\n",
       "      <td>421159055</td>\n",
       "      <td>3805463707</td>\n",
       "      <td>LETICIA FIGUEIREDO DOS SANTOS</td>\n",
       "      <td>AVENIDA++G+2+VARGEM PEQUENA</td>\n",
       "      <td>Desconhecido</td>\n",
       "    </tr>\n",
       "    <tr>\n",
       "      <th>1394</th>\n",
       "      <td>BTI421166344</td>\n",
       "      <td>421166344</td>\n",
       "      <td>7356902000104</td>\n",
       "      <td>RELUP 3 EMPREENDIMENTOS IMOBILIARIOS</td>\n",
       "      <td>AVENIDA+MAL+FLORIANO PEIXOTO+2248+CENTRO</td>\n",
       "      <td>Cond. Comerc./Escritorio/Comercio</td>\n",
       "    </tr>\n",
       "    <tr>\n",
       "      <th>1395</th>\n",
       "      <td>BTI421177615</td>\n",
       "      <td>421177615</td>\n",
       "      <td>29468063000159</td>\n",
       "      <td>PCRJ SECRETARIA MUNICIPAL</td>\n",
       "      <td>RUA++ALEXIS CARREL+1+GUARATIBA</td>\n",
       "      <td>Poder Publico Federal</td>\n",
       "    </tr>\n",
       "    <tr>\n",
       "      <th>1396</th>\n",
       "      <td>BTI421178725</td>\n",
       "      <td>421178725</td>\n",
       "      <td>3405241707</td>\n",
       "      <td>CARLA ALEXANDRA  DE OLIVEIRA</td>\n",
       "      <td>RUA++APIACA+1+JARDIM GRAMACHO</td>\n",
       "      <td>Desconhecido</td>\n",
       "    </tr>\n",
       "    <tr>\n",
       "      <th>1397</th>\n",
       "      <td>BTI421179110</td>\n",
       "      <td>421179110</td>\n",
       "      <td>29468055000102</td>\n",
       "      <td>RIO DE JANEIRO SEC MUNICIPAL DE SAUDE</td>\n",
       "      <td>RUA++VOTORANTIM+664+CAMPO GRANDE</td>\n",
       "      <td>Poder Publico Federal</td>\n",
       "    </tr>\n",
       "    <tr>\n",
       "      <th>1398</th>\n",
       "      <td>BTI421193598</td>\n",
       "      <td>421193598</td>\n",
       "      <td>27639274753</td>\n",
       "      <td>VAGNER VILHENA DOS ANJOS</td>\n",
       "      <td>AVENIDA++ALMEIDA GARRET+1+CHACARAS RIO PETROPOLIS</td>\n",
       "      <td>Desconhecido</td>\n",
       "    </tr>\n",
       "    <tr>\n",
       "      <th>1399</th>\n",
       "      <td>BTI421193919</td>\n",
       "      <td>421193919</td>\n",
       "      <td>28582112000117</td>\n",
       "      <td>LUANA ARTES GRAFICAS E EDITORA LTDA</td>\n",
       "      <td>AVENIDA++BEIRA RIO+1+FNM</td>\n",
       "      <td>Grafica</td>\n",
       "    </tr>\n",
       "    <tr>\n",
       "      <th>1400</th>\n",
       "      <td>BTI421196744</td>\n",
       "      <td>421196744</td>\n",
       "      <td>13545216000184</td>\n",
       "      <td>ILHA PURA 01 EMPREENDIMENTO</td>\n",
       "      <td>RUA++RODRIGO MELO FRANCO+580+CAMORIM</td>\n",
       "      <td>Construtora/Obra</td>\n",
       "    </tr>\n",
       "    <tr>\n",
       "      <th>1401</th>\n",
       "      <td>BTI421197009</td>\n",
       "      <td>421197009</td>\n",
       "      <td>13545216000184</td>\n",
       "      <td>ILHA PURA 01 EMPREENDIMENTO</td>\n",
       "      <td>RUA++RODRIGO MELO FRANCO+830+CAMORIM</td>\n",
       "      <td>Construtora/Obra</td>\n",
       "    </tr>\n",
       "    <tr>\n",
       "      <th>1402</th>\n",
       "      <td>BTI421198154</td>\n",
       "      <td>421198154</td>\n",
       "      <td>29138278000454</td>\n",
       "      <td>MUNICIPIO DE NOVA IGUACU</td>\n",
       "      <td>AVENIDA++SEVERINO PEREIRA DA SILVA+1+CABUCU</td>\n",
       "      <td>Poder Publico Federal</td>\n",
       "    </tr>\n",
       "    <tr>\n",
       "      <th>1403</th>\n",
       "      <td>BTI421208596</td>\n",
       "      <td>421208596</td>\n",
       "      <td>11518673000154</td>\n",
       "      <td>RUBI SPE 8 EMPREENDIMENTO IMOBILIARIO</td>\n",
       "      <td>RUA++TIROL+437+FREGUESIA</td>\n",
       "      <td>Construtora/Obra</td>\n",
       "    </tr>\n",
       "    <tr>\n",
       "      <th>1404</th>\n",
       "      <td>BTI421210140</td>\n",
       "      <td>421210140</td>\n",
       "      <td>29468055000102</td>\n",
       "      <td>RIO DE JANEIRO SEC MUNICIPAL DE SAUDE</td>\n",
       "      <td>ESTRADA++CAMPINHO+6010+INHOAIBA</td>\n",
       "      <td>Poder Publico Federal</td>\n",
       "    </tr>\n",
       "    <tr>\n",
       "      <th>1405</th>\n",
       "      <td>BTI421212233</td>\n",
       "      <td>421212233</td>\n",
       "      <td>3794218876</td>\n",
       "      <td>SANDRA REGINA DE ALMEIDA</td>\n",
       "      <td>RUA+ENG+WALDEMAR FERREIRA DE SOUZA+392+BARRA D...</td>\n",
       "      <td>Desconhecido</td>\n",
       "    </tr>\n",
       "    <tr>\n",
       "      <th>1406</th>\n",
       "      <td>BTI421231413</td>\n",
       "      <td>421231413</td>\n",
       "      <td>29468055000102</td>\n",
       "      <td>RIO DE JANEIRO SEC MUNICIPAL DE SAUDE</td>\n",
       "      <td>RUA++MAGALHAES AZEVEDO+1+COSMOS</td>\n",
       "      <td>Poder Publico Federal</td>\n",
       "    </tr>\n",
       "    <tr>\n",
       "      <th>1407</th>\n",
       "      <td>BTI421248193</td>\n",
       "      <td>421248193</td>\n",
       "      <td>27212968000138</td>\n",
       "      <td>MITRA DIOCESANA DE DUQUE DE CAXIAS</td>\n",
       "      <td>AVENIDA+GOVR+LEONEL DE MOURA BRIZOLA+1861+CENTRO</td>\n",
       "      <td>Igreja</td>\n",
       "    </tr>\n",
       "    <tr>\n",
       "      <th>1408</th>\n",
       "      <td>BTI421264249</td>\n",
       "      <td>421264249</td>\n",
       "      <td>29468063000159</td>\n",
       "      <td>PCRJ SECRETARIA MUNICIPAL</td>\n",
       "      <td>RUA++DUZENTOS E VINTE E TRES+1+MARE</td>\n",
       "      <td>Poder Publico Federal</td>\n",
       "    </tr>\n",
       "    <tr>\n",
       "      <th>1409</th>\n",
       "      <td>BTI421319775</td>\n",
       "      <td>421319775</td>\n",
       "      <td>42414284000102</td>\n",
       "      <td>COLEGIO PEDRO II</td>\n",
       "      <td>RUA++OITO DE DEZEMBRO+378+MARACANA</td>\n",
       "      <td>Curso/Escola</td>\n",
       "    </tr>\n",
       "  </tbody>\n",
       "</table>\n",
       "<p>1410 rows × 6 columns</p>\n",
       "</div>"
      ],
      "text/plain": [
       "         instalacao         id        cpf_cnpj  \\\n",
       "0     BT2A400076589  400076589  29468063000159   \n",
       "1     BT2A400085952  400085952  29468063000159   \n",
       "2     BT2A400086240  400086240  29468063000159   \n",
       "3     BT2A400091987  400091987  29468063000159   \n",
       "4     BT2A400104752  400104752  29468063000159   \n",
       "5     BT2A400104884  400104884  29468063000159   \n",
       "6     BT2A400113506  400113506  29468063000159   \n",
       "7     BT2A400114162  400114162  29468063000159   \n",
       "8     BT2A400120332  400120332  29468063000159   \n",
       "9     BT2A400120898  400120898  29468063000159   \n",
       "10    BT2A400132810  400132810  30295513000138   \n",
       "11    BT2A400132870  400132870  42498659000160   \n",
       "12    BT2A400136450  400136450  42498659000160   \n",
       "13    BT2A400260487  400260487  10456551000118   \n",
       "14    BT2A400288195  400288195   4567650000255   \n",
       "15    BT2A400291188  400291188  32855236000104   \n",
       "16    BT2A400300110  400300110  32512501000143   \n",
       "17    BT2A400352837  400352837  42498717000155   \n",
       "18    BT2A400357847  400357847  11239018000167   \n",
       "19    BT2A400391131  400391131   1647498000141   \n",
       "20    BT2A400402672  400402672  33352394000104   \n",
       "21    BT2A400405116  400405116  29138385000130   \n",
       "22    BT2A410001280  410001280    324409000163   \n",
       "23    BT2A410001603  410001603      3763352708   \n",
       "24    BT2A410018693  410018693  90400888000142   \n",
       "25    BT2A410032723  410032723  32268590000124   \n",
       "26    BT2A410040647  410040647  33570052006193   \n",
       "27    BT2A410047095  410047095     17941016753   \n",
       "28    BT2A410062626  410062626      4394343780   \n",
       "29    BT2A410076151  410076151  35768100000147   \n",
       "...             ...        ...             ...   \n",
       "1380   BTI420911422  420911422  29427465000105   \n",
       "1381   BTI420918527  420918527  23978911000193   \n",
       "1382   BTI420967209  420967209      4482818720   \n",
       "1383   BTI420990204  420990204  39204854000125   \n",
       "1384   BTI420991160  420991160  11267067000103   \n",
       "1385   BTI421004181  421004181  60444437000146   \n",
       "1386   BTI421036646  421036646   2344263000224   \n",
       "1387   BTI421042017  421042017   3622631000130   \n",
       "1388   BTI421100890  421100890  14102782000184   \n",
       "1389   BTI421106759  421106759  60444437000146   \n",
       "1390   BTI421115262  421115262   6234141000155   \n",
       "1391   BTI421120273  421120273  31365214000195   \n",
       "1392   BTI421155328  421155328  60444437000146   \n",
       "1393   BTI421159055  421159055      3805463707   \n",
       "1394   BTI421166344  421166344   7356902000104   \n",
       "1395   BTI421177615  421177615  29468063000159   \n",
       "1396   BTI421178725  421178725      3405241707   \n",
       "1397   BTI421179110  421179110  29468055000102   \n",
       "1398   BTI421193598  421193598     27639274753   \n",
       "1399   BTI421193919  421193919  28582112000117   \n",
       "1400   BTI421196744  421196744  13545216000184   \n",
       "1401   BTI421197009  421197009  13545216000184   \n",
       "1402   BTI421198154  421198154  29138278000454   \n",
       "1403   BTI421208596  421208596  11518673000154   \n",
       "1404   BTI421210140  421210140  29468055000102   \n",
       "1405   BTI421212233  421212233      3794218876   \n",
       "1406   BTI421231413  421231413  29468055000102   \n",
       "1407   BTI421248193  421248193  27212968000138   \n",
       "1408   BTI421264249  421264249  29468063000159   \n",
       "1409   BTI421319775  421319775  42414284000102   \n",
       "\n",
       "                                  razao social  \\\n",
       "0                    PCRJ SECRETARIA MUNICIPAL   \n",
       "1                    PCRJ SECRETARIA MUNICIPAL   \n",
       "2                    PCRJ SECRETARIA MUNICIPAL   \n",
       "3                    PCRJ SECRETARIA MUNICIPAL   \n",
       "4                    PCRJ SECRETARIA MUNICIPAL   \n",
       "5                    PCRJ SECRETARIA MUNICIPAL   \n",
       "6                    PCRJ SECRETARIA MUNICIPAL   \n",
       "7                    PCRJ SECRETARIA MUNICIPAL   \n",
       "8                    PCRJ SECRETARIA MUNICIPAL   \n",
       "9                    PCRJ SECRETARIA MUNICIPAL   \n",
       "10       DEPARTAMENTO DE TRANSITO DO EST DO RJ   \n",
       "11            SECRETARIA DE ESTADO DE EDUCACAO   \n",
       "12            SECRETARIA DE ESTADO DE EDUCACAO   \n",
       "13        BASILIO  DI MARINO E FARIA ADVOGADOS   \n",
       "14            LOCALIX SERVICOS AMBIENTAIS LTDA   \n",
       "15       SECRETARIA DE ESTADO DE POLICIA CIVIL   \n",
       "16                      PREF MUN VOLTA REDONDA   \n",
       "17         SECRETARIA DE ESTADO DE SAUDE - SES   \n",
       "18                      GUARDA MUNICIPAL   RIO   \n",
       "19               CAMARA MUNICIPAL DE PINHEIRAL   \n",
       "20               COMPANHIA ESTADUAL DE AGUAS E   \n",
       "21      PREFEITURA MUNICIPAL DE PARAIBA DO SUL   \n",
       "22                   LOUCO SABOR DA BARRA LTDA   \n",
       "23                   LEANDRO BARBOSA MALAQUIAS   \n",
       "24                BANCO SANTANDER  BRASIL  S A   \n",
       "25                      INSTITUTO JATY D AIUTO   \n",
       "26                ASSOCIACAO SAO VICENTE PAULO   \n",
       "27               JOSE TARCIZIO BEZERRA MARTINS   \n",
       "28                  GILBERTO DE MIRANDA AQUINO   \n",
       "29       J MITRAUD BAIAO ARMARINHOS LTDA - EPP   \n",
       "...                                        ...   \n",
       "1380      UNIVERSIDADE FEDERAL RURAL DO RIO DE   \n",
       "1381       BOX 81 DISTR PRODS ALIMENT LTDA EPP   \n",
       "1382                 PATRICIA DE BULHOES BUCHI   \n",
       "1383          LEVI F PINTO BAR E MERCEARIA -ME   \n",
       "1384  RAMALHO  ESPINDOLA  E SILVA  ACADEMIA DE   \n",
       "1385         LIGHT SERVI�OS DE ELETRICIDADE SA   \n",
       "1386                  KOBE ELIJA VEICULOS LTDA   \n",
       "1387   REC LOG DUQUE DE CAXIAS EMPREENDIMENTOS   \n",
       "1388              RIOTER TERMINAIS RODOVIARIOS   \n",
       "1389         LIGHT SERVI�OS DE ELETRICIDADE SA   \n",
       "1390      IGREJA EVANGELICA ASSEMBLEIA DE DEUS   \n",
       "1391  ONG SOCIEDADE CIVIL UNIDOS PELA PAZ   UP   \n",
       "1392         LIGHT SERVI�OS DE ELETRICIDADE SA   \n",
       "1393             LETICIA FIGUEIREDO DOS SANTOS   \n",
       "1394      RELUP 3 EMPREENDIMENTOS IMOBILIARIOS   \n",
       "1395                 PCRJ SECRETARIA MUNICIPAL   \n",
       "1396              CARLA ALEXANDRA  DE OLIVEIRA   \n",
       "1397     RIO DE JANEIRO SEC MUNICIPAL DE SAUDE   \n",
       "1398                  VAGNER VILHENA DOS ANJOS   \n",
       "1399       LUANA ARTES GRAFICAS E EDITORA LTDA   \n",
       "1400               ILHA PURA 01 EMPREENDIMENTO   \n",
       "1401               ILHA PURA 01 EMPREENDIMENTO   \n",
       "1402                  MUNICIPIO DE NOVA IGUACU   \n",
       "1403     RUBI SPE 8 EMPREENDIMENTO IMOBILIARIO   \n",
       "1404     RIO DE JANEIRO SEC MUNICIPAL DE SAUDE   \n",
       "1405                  SANDRA REGINA DE ALMEIDA   \n",
       "1406     RIO DE JANEIRO SEC MUNICIPAL DE SAUDE   \n",
       "1407        MITRA DIOCESANA DE DUQUE DE CAXIAS   \n",
       "1408                 PCRJ SECRETARIA MUNICIPAL   \n",
       "1409                          COLEGIO PEDRO II   \n",
       "\n",
       "                                      endereco_cadastro  \\\n",
       "0                           RUA+PE+JANUARIO+220+INHAUMA   \n",
       "1                    RUA++EMILIO DE MENEZES+230+PIEDADE   \n",
       "2                           AVENIDA++BRASIL+17879+IRAJA   \n",
       "3                              PRACA++ZUINARA+1+COLEGIO   \n",
       "4                            TRAVESSA++MANGUEIRA+1+CAJU   \n",
       "5                            RUA++CARLOS SEIDL+813+CAJU   \n",
       "6             RUA++MARIA REGINA MARCONDES PINTO+1+BANGU   \n",
       "7                  PRACA+PROF+FERREIRA DE ABREU+1+BANGU   \n",
       "8            AVENIDA++CANAL MARGEM DIREITA+1+SANTA CRUZ   \n",
       "9                                  RUA++UM+1+SANTA CRUZ   \n",
       "10                        ESTRADA++ADRIANOPOLIS+1+AMBAI   \n",
       "11                      RUA+STA+RITA+1+ENG ROCHA FREIRE   \n",
       "12        RUA++ADEMARIO FERREIRA DA SILVA+1+LOTE QUINZE   \n",
       "13                       AVENIDA+PRES+WILSON+210+CENTRO   \n",
       "14           RUA++BERNARDO DE VASCONCELOS+1756+REALENGO   \n",
       "15                  RUA++ZENI ESTEVES+1+SAO JUDAS TADEU   \n",
       "16     RUA++QUINHENTOS E CINQUENTA E DOIS+301+NS GRACAS   \n",
       "17             AVENIDA+GOVR+ROBERTO SILVEIRA+210+CENTRO   \n",
       "18                              PRAIA++GALEAO+92+GALEAO   \n",
       "19    RUA++BENEDITO FRANCISCO VICENTE DA SILVA+80+RO...   \n",
       "20                      RUA+CONS+JOBIM+398+ENGENHO NOVO   \n",
       "21       RUA++ANTONIO CESAR OLIVEIRA+920+VILA SALUTARIS   \n",
       "22         AVENIDA++OLEGARIO MACIEL+440+BARRA DA TIJUCA   \n",
       "23    AVENIDA+GAL+GUEDES DA FONTOURA+635+BARRA DA TI...   \n",
       "24                          RUA++HADOCK LOBO+203+TIJUCA   \n",
       "25              RUA+MONS+JERONIMO+248+ENGENHO DE DENTRO   \n",
       "26                           ESTRADA++MAPUA+691+TAQUARA   \n",
       "27               AVENIDA+MIN+EDGARD ROMERO+953+VAZ LOBO   \n",
       "28                ESTRADA++RETA RIO GRANDE+1+SANTA CRUZ   \n",
       "29                         PRACA++EMANCIPACAO+96+CENTRO   \n",
       "...                                                 ...   \n",
       "1380                  RUA++U A X+211+UNIVERSIDADE RURAL   \n",
       "1381                  AVENIDA++BRASIL+19001+COELHO NETO   \n",
       "1382  AVENIDA++CELIA RIBEIRO DA SILVA MENDES+60001+B...   \n",
       "1383        ESTRADA++RJ CENTO E VINTE E SETE+19+RAMALHO   \n",
       "1384                ESTRADA++GALEAO+1950+JARDIM CARIOCA   \n",
       "1385                          RUA+CDE+BONFIM+859+TIJUCA   \n",
       "1386             AVENIDA++AMERICAS+2001+BARRA DA TIJUCA   \n",
       "1387                 AVENIDA++OL 1A.+75+INTER BUSI PARK   \n",
       "1388                       AVENIDA++ITALIANOS+1+TURIACU   \n",
       "1389                        RUA+FREI+CANECA+289+ESTACIO   \n",
       "1390                             RUA+S+PEDRO+29+INHAUMA   \n",
       "1391     RUA++ALBERTO SOARES SAMPAIO+1+ENG ROCHA FREIRE   \n",
       "1392                     ESTRADA++GAVEA+561+SAO CONRADO   \n",
       "1393                        AVENIDA++G+2+VARGEM PEQUENA   \n",
       "1394           AVENIDA+MAL+FLORIANO PEIXOTO+2248+CENTRO   \n",
       "1395                     RUA++ALEXIS CARREL+1+GUARATIBA   \n",
       "1396                      RUA++APIACA+1+JARDIM GRAMACHO   \n",
       "1397                   RUA++VOTORANTIM+664+CAMPO GRANDE   \n",
       "1398  AVENIDA++ALMEIDA GARRET+1+CHACARAS RIO PETROPOLIS   \n",
       "1399                           AVENIDA++BEIRA RIO+1+FNM   \n",
       "1400               RUA++RODRIGO MELO FRANCO+580+CAMORIM   \n",
       "1401               RUA++RODRIGO MELO FRANCO+830+CAMORIM   \n",
       "1402        AVENIDA++SEVERINO PEREIRA DA SILVA+1+CABUCU   \n",
       "1403                           RUA++TIROL+437+FREGUESIA   \n",
       "1404                    ESTRADA++CAMPINHO+6010+INHOAIBA   \n",
       "1405  RUA+ENG+WALDEMAR FERREIRA DE SOUZA+392+BARRA D...   \n",
       "1406                    RUA++MAGALHAES AZEVEDO+1+COSMOS   \n",
       "1407   AVENIDA+GOVR+LEONEL DE MOURA BRIZOLA+1861+CENTRO   \n",
       "1408                RUA++DUZENTOS E VINTE E TRES+1+MARE   \n",
       "1409                 RUA++OITO DE DEZEMBRO+378+MARACANA   \n",
       "\n",
       "                      ramo_de_atividade  \n",
       "0                 Poder Publico Federal  \n",
       "1                 Poder Publico Federal  \n",
       "2                 Poder Publico Federal  \n",
       "3                 Poder Publico Federal  \n",
       "4                 Poder Publico Federal  \n",
       "5                 Poder Publico Federal  \n",
       "6                 Poder Publico Federal  \n",
       "7                 Poder Publico Federal  \n",
       "8                 Poder Publico Federal  \n",
       "9                 Poder Publico Federal  \n",
       "10                Poder Publico Federal  \n",
       "11                Poder Publico Federal  \n",
       "12                Poder Publico Federal  \n",
       "13    Cond. Comerc./Escritorio/Comercio  \n",
       "14                              Comlurb  \n",
       "15                Poder Publico Federal  \n",
       "16                Poder Publico Federal  \n",
       "17                Poder Publico Federal  \n",
       "18                Poder Publico Federal  \n",
       "19                Poder Publico Federal  \n",
       "20         Telefonia/Antena/Bomba dagua  \n",
       "21                Poder Publico Federal  \n",
       "22              Bar/Padaria/Restaurante  \n",
       "23                         Desconhecido  \n",
       "24                                Banco  \n",
       "25                       Clube/Academia  \n",
       "26                             Hospital  \n",
       "27                         Desconhecido  \n",
       "28                         Desconhecido  \n",
       "29    Cond. Comerc./Escritorio/Comercio  \n",
       "...                                 ...  \n",
       "1380                          Faculdade  \n",
       "1381  Cond. Comerc./Escritorio/Comercio  \n",
       "1382                       Desconhecido  \n",
       "1383            Bar/Padaria/Restaurante  \n",
       "1384                           Academia  \n",
       "1385                    Consumo proprio  \n",
       "1386                            Oficina  \n",
       "1387                   Construtora/Obra  \n",
       "1388                        Transportes  \n",
       "1389                    Consumo proprio  \n",
       "1390                             Igreja  \n",
       "1391  Cond. Comerc./Escritorio/Comercio  \n",
       "1392                    Consumo proprio  \n",
       "1393                       Desconhecido  \n",
       "1394  Cond. Comerc./Escritorio/Comercio  \n",
       "1395              Poder Publico Federal  \n",
       "1396                       Desconhecido  \n",
       "1397              Poder Publico Federal  \n",
       "1398                       Desconhecido  \n",
       "1399                            Grafica  \n",
       "1400                   Construtora/Obra  \n",
       "1401                   Construtora/Obra  \n",
       "1402              Poder Publico Federal  \n",
       "1403                   Construtora/Obra  \n",
       "1404              Poder Publico Federal  \n",
       "1405                       Desconhecido  \n",
       "1406              Poder Publico Federal  \n",
       "1407                             Igreja  \n",
       "1408              Poder Publico Federal  \n",
       "1409                       Curso/Escola  \n",
       "\n",
       "[1410 rows x 6 columns]"
      ]
     },
     "execution_count": 48,
     "metadata": {},
     "output_type": "execute_result"
    }
   ],
   "source": [
    "perfis"
   ]
  },
  {
   "cell_type": "code",
   "execution_count": 49,
   "metadata": {},
   "outputs": [],
   "source": [
    "perfis.to_csv('/home/ubuntu/data/data/maio_2019/setembro/perfis_v4.csv', sep=';')"
   ]
  },
  {
   "cell_type": "markdown",
   "metadata": {},
   "source": [
    "### l______________________________________________________________________________________________________"
   ]
  },
  {
   "cell_type": "markdown",
   "metadata": {},
   "source": [
    "### Pickles"
   ]
  },
  {
   "cell_type": "code",
   "execution_count": null,
   "metadata": {},
   "outputs": [],
   "source": [
    "import pickle"
   ]
  },
  {
   "cell_type": "code",
   "execution_count": null,
   "metadata": {},
   "outputs": [],
   "source": [
    "mkdir ../pickles/perfis/"
   ]
  },
  {
   "cell_type": "code",
   "execution_count": null,
   "metadata": {},
   "outputs": [],
   "source": [
    "with open('../pickles/perfis/a2p.pkl','wb') as p:\n",
    "    pickle.dump(a2p,p)"
   ]
  },
  {
   "cell_type": "code",
   "execution_count": null,
   "metadata": {},
   "outputs": [],
   "source": [
    "with open('../pickles/perfis/p2a.pkl','wb') as p:\n",
    "    pickle.dump(p2a,p)"
   ]
  },
  {
   "cell_type": "code",
   "execution_count": null,
   "metadata": {},
   "outputs": [],
   "source": [
    "with open('../pickles/perfis/cats.pkl','wb') as p:\n",
    "    pickle.dump(cats,p)"
   ]
  },
  {
   "cell_type": "markdown",
   "metadata": {},
   "source": [
    "### l______________________________________________________________________________________________________"
   ]
  },
  {
   "cell_type": "markdown",
   "metadata": {},
   "source": [
    "### Criar matriz de distâncias (Manhattan)"
   ]
  },
  {
   "cell_type": "code",
   "execution_count": 51,
   "metadata": {},
   "outputs": [],
   "source": [
    "import pickle\n",
    "with open('../../38_to_11.pkl','rb') as p:\n",
    "    dict_38_to_11 = pickle.load(p)"
   ]
  },
  {
   "cell_type": "code",
   "execution_count": 80,
   "metadata": {},
   "outputs": [
    {
     "name": "stdout",
     "output_type": "stream",
     "text": [
      "Abatedouro/Frigorifico 0\n",
      "12951\n",
      "Adm. Rodovia/Estrada 0\n",
      "12951\n",
      "Armazem/Galpao 0\n",
      "12951\n",
      "Bar/Padaria/Restaurante 0\n",
      "12951\n",
      "Fabrica 0\n",
      "12951\n",
      "Forcas Armadas 0\n",
      "12951\n",
      "Garagem/Transportadora 0\n",
      "12951\n",
      "Granja/Aviario 0\n",
      "12951\n",
      "Hospital 0\n",
      "12951\n",
      "Hotel 0\n",
      "12951\n",
      "Industria Petroquimica 0\n",
      "12951\n",
      "Padrao 0\n",
      "12951\n",
      "Telefonia/Antena/Bomba dagua 0\n",
      "12951\n",
      "Banco 1\n",
      "15833\n",
      "Cemiterio 1\n",
      "14392\n",
      "Cond. Comercio/Escritorio/Comercio 1\n",
      "14392\n",
      "Construtora/Obra 1\n",
      "14392\n",
      "Correios 1\n",
      "14392\n",
      "HORARIO COMERCIAL 1\n",
      "15833\n",
      "Oficina 1\n",
      "14392\n",
      "Reciclagem 1\n",
      "14392\n",
      "Curso/Escola 2\n",
      "14392\n",
      "Faculdade 2\n",
      "14392\n",
      "Fabrica/Industria 3\n",
      "12951\n",
      "Grafica 3\n",
      "12951\n",
      "Industria Textil 3\n",
      "12951\n",
      "Laboratorio medico 3\n",
      "14392\n",
      "Museu 3\n",
      "12951\n",
      "Academia 4\n",
      "12951\n",
      "Casa de shows e eventos 4\n",
      "8640\n",
      "Cond. Resd./Residencia 5\n",
      "12951\n",
      "Igreja 5\n",
      "12951\n",
      "Posto de gasolina 5\n",
      "12951\n",
      "TREM/METRO 6\n",
      "12951\n",
      "Escola de Samba 7\n",
      "12960\n",
      "Motel 8\n",
      "12960\n",
      "Casa de festas 9\n",
      "9000\n",
      "Estudio TV/Cinema 10\n",
      "15240\n"
     ]
    }
   ],
   "source": [
    "for k,v in sorted(dict_38_to_11.items(), key = \n",
    "             lambda kv:(kv[1], kv[0])):\n",
    "    print(k,v)\n",
    "    print(len(x[k]))"
   ]
  },
  {
   "cell_type": "code",
   "execution_count": 75,
   "metadata": {},
   "outputs": [
    {
     "name": "stdout",
     "output_type": "stream",
     "text": [
      "Abatedouro/Frigorifico 0\n",
      "Adm. Rodovia/Estrada 0\n"
     ]
    },
    {
     "ename": "IndexError",
     "evalue": "list assignment index out of range",
     "output_type": "error",
     "traceback": [
      "\u001b[0;31m---------------------------------------------------------------------------\u001b[0m",
      "\u001b[0;31mIndexError\u001b[0m                                Traceback (most recent call last)",
      "\u001b[0;32m<ipython-input-75-79bc8513756a>\u001b[0m in \u001b[0;36m<module>\u001b[0;34m()\u001b[0m\n\u001b[1;32m      8\u001b[0m     \u001b[0mprint\u001b[0m\u001b[0;34m(\u001b[0m\u001b[0mk\u001b[0m\u001b[0;34m,\u001b[0m\u001b[0mv\u001b[0m\u001b[0;34m)\u001b[0m\u001b[0;34m\u001b[0m\u001b[0m\n\u001b[1;32m      9\u001b[0m     \u001b[0;32mif\u001b[0m \u001b[0mv_old\u001b[0m \u001b[0;34m==\u001b[0m \u001b[0mv\u001b[0m\u001b[0;34m:\u001b[0m\u001b[0;34m\u001b[0m\u001b[0m\n\u001b[0;32m---> 10\u001b[0;31m         \u001b[0mmatrix_cluster\u001b[0m\u001b[0;34m[\u001b[0m\u001b[0mi\u001b[0m\u001b[0;34m]\u001b[0m \u001b[0;34m=\u001b[0m \u001b[0mx\u001b[0m\u001b[0;34m[\u001b[0m\u001b[0mk\u001b[0m\u001b[0;34m]\u001b[0m\u001b[0;34m\u001b[0m\u001b[0m\n\u001b[0m\u001b[1;32m     11\u001b[0m         \u001b[0mi\u001b[0m \u001b[0;34m=\u001b[0m \u001b[0mi\u001b[0m \u001b[0;34m+\u001b[0m \u001b[0;36m1\u001b[0m\u001b[0;34m\u001b[0m\u001b[0m\n\u001b[1;32m     12\u001b[0m     \u001b[0;32melse\u001b[0m\u001b[0;34m:\u001b[0m\u001b[0;34m\u001b[0m\u001b[0m\n",
      "\u001b[0;31mIndexError\u001b[0m: list assignment index out of range"
     ]
    }
   ],
   "source": [
    "cluster = []\n",
    "v_old = 0\n",
    "i = 0\n",
    "matrix_cluster = [[]]\n",
    "list_cluster = []\n",
    "for k,v in sorted(dict_38_to_11.items(), key = \n",
    "             lambda kv:(kv[1], kv[0])):\n",
    "    print(k,v)\n",
    "    if v_old == v:\n",
    "        matrix_cluster[i] = x[k]\n",
    "        i = i + 1\n",
    "    else:\n",
    "        list_cluster[v-1] = mean(matrix_cluster)\n",
    "        i = 0\n",
    "        matrix_cluster = [[]]\n",
    "    v_old = v    "
   ]
  },
  {
   "cell_type": "code",
   "execution_count": null,
   "metadata": {},
   "outputs": [],
   "source": [
    "dict_38_to_11['Abatedouro/Frigorifico']"
   ]
  },
  {
   "cell_type": "markdown",
   "metadata": {},
   "source": [
    "# FIM"
   ]
  }
 ],
 "metadata": {
  "kernelspec": {
   "display_name": "Python [conda env:tensorflow_p36]",
   "language": "python",
   "name": "conda-env-tensorflow_p36-py"
  },
  "language_info": {
   "codemirror_mode": {
    "name": "ipython",
    "version": 3
   },
   "file_extension": ".py",
   "mimetype": "text/x-python",
   "name": "python",
   "nbconvert_exporter": "python",
   "pygments_lexer": "ipython3",
   "version": "3.6.5"
  }
 },
 "nbformat": 4,
 "nbformat_minor": 2
}
