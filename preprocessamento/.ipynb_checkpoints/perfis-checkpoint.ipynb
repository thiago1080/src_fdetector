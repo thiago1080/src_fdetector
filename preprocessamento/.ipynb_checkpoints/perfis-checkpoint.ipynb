{
 "cells": [
  {
   "cell_type": "code",
   "execution_count": 49,
   "metadata": {},
   "outputs": [],
   "source": [
    "import pandas as pd"
   ]
  },
  {
   "cell_type": "code",
   "execution_count": 9,
   "metadata": {},
   "outputs": [],
   "source": [
    "#Criar dicionario de categorias\n",
    "HORARIOS_PATH = '/home/ubuntu/data/data/maio_2019/horarios_v3.csv'\n",
    "horarios = pd.read_csv(HORARIOS_PATH, sep=',')\n",
    "dfcat = horarios.iloc[:,:2]\n",
    "dfcat.set_index('nome',inplace=True)\n",
    "scat = dfcat['cat']\n",
    "dcat = scat.to_dict()"
   ]
  },
  {
   "cell_type": "code",
   "execution_count": 10,
   "metadata": {},
   "outputs": [],
   "source": [
    "ATIV = '/home/ubuntu/data/data/maio_2019/atividade_atividade_v2.csv'\n",
    "dfativ = pd.read_csv(ATIV, sep=';', names = ['ramo', 'perfil'])\n",
    "dfativ.set_index('ramo', inplace=True)\n",
    "a2p = dfativ.loc[:,'perfil'].T.to_dict()\n",
    "p2a = dict((v,k) for k,v in a2p.items())"
   ]
  },
  {
   "cell_type": "code",
   "execution_count": 70,
   "metadata": {},
   "outputs": [],
   "source": [
    "PERFIS_PATH = '/home/ubuntu/data/data/maio_2019/perfis.csv'\n",
    "perfis = pd.read_csv(PERFIS_PATH, sep=';')\n",
    "sper = perfis.loc[:,'Ramo de Atividade']"
   ]
  },
  {
   "cell_type": "markdown",
   "metadata": {},
   "source": [
    "### l______________________________________________________________________________________________________"
   ]
  },
  {
   "cell_type": "code",
   "execution_count": 71,
   "metadata": {},
   "outputs": [
    {
     "data": {
      "text/html": [
       "<div>\n",
       "<style scoped>\n",
       "    .dataframe tbody tr th:only-of-type {\n",
       "        vertical-align: middle;\n",
       "    }\n",
       "\n",
       "    .dataframe tbody tr th {\n",
       "        vertical-align: top;\n",
       "    }\n",
       "\n",
       "    .dataframe thead th {\n",
       "        text-align: right;\n",
       "    }\n",
       "</style>\n",
       "<table border=\"1\" class=\"dataframe\">\n",
       "  <thead>\n",
       "    <tr style=\"text-align: right;\">\n",
       "      <th></th>\n",
       "      <th>ID_INST_BI</th>\n",
       "      <th>CLIENTE/INSTALAÇÃO</th>\n",
       "      <th>CPF_CNPJ</th>\n",
       "      <th>Razao Social</th>\n",
       "      <th>Endereco Cadastro</th>\n",
       "      <th>Ramo de Atividade</th>\n",
       "    </tr>\n",
       "  </thead>\n",
       "  <tbody>\n",
       "    <tr>\n",
       "      <th>272</th>\n",
       "      <td>413044072</td>\n",
       "      <td>BT2A413044072</td>\n",
       "      <td>3.622274e+13</td>\n",
       "      <td>POSTO SAO FRANCISCO DE ASSIS LTDA</td>\n",
       "      <td>AVENIDA+PRES+KENNEDY+2457+ANO BOM</td>\n",
       "      <td>Posto de gasoliDesconhecido</td>\n",
       "    </tr>\n",
       "    <tr>\n",
       "      <th>311</th>\n",
       "      <td>420460763</td>\n",
       "      <td>BTI420460763</td>\n",
       "      <td>6.319231e+12</td>\n",
       "      <td>DMCJ INSPECOES E ENSAIOS DE MATERIAIS</td>\n",
       "      <td>AVENIDA++CESARIO DE MELO+1465+SENADOR VASCONCELOS</td>\n",
       "      <td>Testes e análises técnicas</td>\n",
       "    </tr>\n",
       "  </tbody>\n",
       "</table>\n",
       "</div>"
      ],
      "text/plain": [
       "     ID_INST_BI CLIENTE/INSTALAÇÃO      CPF_CNPJ  \\\n",
       "272   413044072      BT2A413044072  3.622274e+13   \n",
       "311   420460763       BTI420460763  6.319231e+12   \n",
       "\n",
       "                              Razao Social  \\\n",
       "272      POSTO SAO FRANCISCO DE ASSIS LTDA   \n",
       "311  DMCJ INSPECOES E ENSAIOS DE MATERIAIS   \n",
       "\n",
       "                                     Endereco Cadastro  \\\n",
       "272                  AVENIDA+PRES+KENNEDY+2457+ANO BOM   \n",
       "311  AVENIDA++CESARIO DE MELO+1465+SENADOR VASCONCELOS   \n",
       "\n",
       "               Ramo de Atividade  \n",
       "272  Posto de gasoliDesconhecido  \n",
       "311   Testes e análises técnicas  "
      ]
     },
     "execution_count": 71,
     "metadata": {},
     "output_type": "execute_result"
    }
   ],
   "source": [
    "perfis[~perfis.loc[:,'Ramo de Atividade'].isin(a2p.keys())]"
   ]
  },
  {
   "cell_type": "code",
   "execution_count": 72,
   "metadata": {},
   "outputs": [],
   "source": [
    "perfis.loc[272,'Ramo de Atividade'] = 'Posto de gasolina'\n",
    "perfis.loc[311,'Ramo de Atividade'] = 'Desconhecido'"
   ]
  },
  {
   "cell_type": "code",
   "execution_count": 73,
   "metadata": {},
   "outputs": [
    {
     "data": {
      "text/html": [
       "<div>\n",
       "<style scoped>\n",
       "    .dataframe tbody tr th:only-of-type {\n",
       "        vertical-align: middle;\n",
       "    }\n",
       "\n",
       "    .dataframe tbody tr th {\n",
       "        vertical-align: top;\n",
       "    }\n",
       "\n",
       "    .dataframe thead th {\n",
       "        text-align: right;\n",
       "    }\n",
       "</style>\n",
       "<table border=\"1\" class=\"dataframe\">\n",
       "  <thead>\n",
       "    <tr style=\"text-align: right;\">\n",
       "      <th></th>\n",
       "      <th>ID_INST_BI</th>\n",
       "      <th>CLIENTE/INSTALAÇÃO</th>\n",
       "      <th>CPF_CNPJ</th>\n",
       "      <th>Razao Social</th>\n",
       "      <th>Endereco Cadastro</th>\n",
       "      <th>Ramo de Atividade</th>\n",
       "    </tr>\n",
       "  </thead>\n",
       "  <tbody>\n",
       "  </tbody>\n",
       "</table>\n",
       "</div>"
      ],
      "text/plain": [
       "Empty DataFrame\n",
       "Columns: [ID_INST_BI, CLIENTE/INSTALAÇÃO, CPF_CNPJ, Razao Social, Endereco Cadastro, Ramo de Atividade]\n",
       "Index: []"
      ]
     },
     "execution_count": 73,
     "metadata": {},
     "output_type": "execute_result"
    }
   ],
   "source": [
    "perfis[~perfis.loc[:,'Ramo de Atividade'].isin(a2p.keys())]"
   ]
  },
  {
   "cell_type": "code",
   "execution_count": 74,
   "metadata": {},
   "outputs": [],
   "source": [
    "perfis.loc[:,'Ramo de Atividade']=perfis.loc[:,'Ramo de Atividade'].map(a2p).map(dcat)"
   ]
  },
  {
   "cell_type": "code",
   "execution_count": 76,
   "metadata": {},
   "outputs": [
    {
     "data": {
      "text/html": [
       "<div>\n",
       "<style scoped>\n",
       "    .dataframe tbody tr th:only-of-type {\n",
       "        vertical-align: middle;\n",
       "    }\n",
       "\n",
       "    .dataframe tbody tr th {\n",
       "        vertical-align: top;\n",
       "    }\n",
       "\n",
       "    .dataframe thead th {\n",
       "        text-align: right;\n",
       "    }\n",
       "</style>\n",
       "<table border=\"1\" class=\"dataframe\">\n",
       "  <thead>\n",
       "    <tr style=\"text-align: right;\">\n",
       "      <th></th>\n",
       "      <th>ID_INST_BI</th>\n",
       "      <th>CLIENTE/INSTALAÇÃO</th>\n",
       "      <th>CPF_CNPJ</th>\n",
       "      <th>Razao Social</th>\n",
       "      <th>Endereco Cadastro</th>\n",
       "      <th>Ramo de Atividade</th>\n",
       "    </tr>\n",
       "  </thead>\n",
       "  <tbody>\n",
       "  </tbody>\n",
       "</table>\n",
       "</div>"
      ],
      "text/plain": [
       "Empty DataFrame\n",
       "Columns: [ID_INST_BI, CLIENTE/INSTALAÇÃO, CPF_CNPJ, Razao Social, Endereco Cadastro, Ramo de Atividade]\n",
       "Index: []"
      ]
     },
     "execution_count": 76,
     "metadata": {},
     "output_type": "execute_result"
    }
   ],
   "source": [
    "perfis[perfis.loc[:,'Ramo de Atividade'].isna()]"
   ]
  },
  {
   "cell_type": "code",
   "execution_count": 83,
   "metadata": {},
   "outputs": [],
   "source": [
    "perfis.to_csv('/home/ubuntu/data/data/maio_2019/perfis_v3.csv')"
   ]
  },
  {
   "cell_type": "markdown",
   "metadata": {},
   "source": [
    "### l______________________________________________________________________________________________________"
   ]
  }
 ],
 "metadata": {
  "kernelspec": {
   "display_name": "Python [conda env:tensorflow_p36]",
   "language": "python",
   "name": "conda-env-tensorflow_p36-py"
  },
  "language_info": {
   "codemirror_mode": {
    "name": "ipython",
    "version": 3
   },
   "file_extension": ".py",
   "mimetype": "text/x-python",
   "name": "python",
   "nbconvert_exporter": "python",
   "pygments_lexer": "ipython3",
   "version": "3.6.5"
  }
 },
 "nbformat": 4,
 "nbformat_minor": 2
}
