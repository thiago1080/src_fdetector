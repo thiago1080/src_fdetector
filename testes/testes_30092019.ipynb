{
 "cells": [
  {
   "cell_type": "code",
   "execution_count": 283,
   "metadata": {},
   "outputs": [],
   "source": [
    "import sys\n",
    "import os\n",
    "from os.path import join\n",
    "from path import Path"
   ]
  },
  {
   "cell_type": "code",
   "execution_count": 284,
   "metadata": {},
   "outputs": [],
   "source": [
    "sys.path.append(join(Path(os.getcwd()).parent, 'lib'))"
   ]
  },
  {
   "cell_type": "code",
   "execution_count": 285,
   "metadata": {},
   "outputs": [
    {
     "data": {
      "text/plain": [
       "<module 'mainlib' from '/home/ubuntu/data/code/thm_fd/src/lib/mainlib.py'>"
      ]
     },
     "execution_count": 285,
     "metadata": {},
     "output_type": "execute_result"
    }
   ],
   "source": [
    "import mainlib\n",
    "reload(mainlib)"
   ]
  },
  {
   "cell_type": "code",
   "execution_count": 286,
   "metadata": {},
   "outputs": [],
   "source": [
    "from importlib import reload\n",
    "from mainlib import dframe, fasorial, mm\n",
    "from of_proc import *"
   ]
  },
  {
   "cell_type": "code",
   "execution_count": 287,
   "metadata": {},
   "outputs": [],
   "source": [
    "from matplotlib import pyplot as plt"
   ]
  },
  {
   "cell_type": "code",
   "execution_count": 288,
   "metadata": {},
   "outputs": [],
   "source": [
    "ddirs = pload('../../pickles/ddirs_fas.pkl')"
   ]
  },
  {
   "cell_type": "code",
   "execution_count": 289,
   "metadata": {},
   "outputs": [],
   "source": [
    "from genData import load_model"
   ]
  },
  {
   "cell_type": "code",
   "execution_count": 290,
   "metadata": {},
   "outputs": [],
   "source": [
    "model_fas = load_model(dframe().data['paths']['nn_models']['fasorial'])"
   ]
  },
  {
   "cell_type": "code",
   "execution_count": 291,
   "metadata": {},
   "outputs": [],
   "source": [
    "processar = [\n",
    "'BT2A411069667',\n",
    "'BT2A412072721',\n",
    "'BT2A420162425',\n",
    "'BT2A412881927',\n",
    "'BT2A411428531',\n",
    "'BT2A414367449',\n",
    "'BT2A421223454',\n",
    "'BT2A412086419',\n",
    "'BT2A410754689',\n",
    "'BT2A414642567',\n",
    "'BT2A411227193',\n",
    "]"
   ]
  },
  {
   "cell_type": "code",
   "execution_count": 292,
   "metadata": {},
   "outputs": [],
   "source": [
    "def strserial(x):\n",
    "    try: \n",
    "        return str(int(x)) \n",
    "    except: \n",
    "        return(x)"
   ]
  },
  {
   "cell_type": "code",
   "execution_count": 293,
   "metadata": {},
   "outputs": [],
   "source": [
    "pd.options.mode.chained_assignment = None  # default='warn' . option None"
   ]
  },
  {
   "cell_type": "code",
   "execution_count": 294,
   "metadata": {},
   "outputs": [],
   "source": [
    "def anfas(path):\n",
    "    name  = path.split('/')[-1].split('.')[0]\n",
    "    f1 = fasorial()\n",
    "    f1.read_fasorial(path, sep = ';');\n",
    "    out={}\n",
    "    ddays=default_ddays_2()\n",
    "    proc_fas(f1,ddays, model_fas)\n",
    "    \n",
    "    for k,y in f1.months.items():\n",
    "        for k2,m in y.items():       \n",
    "            print(name)\n",
    "            print('----- Mes {} -----'.format(k2))\n",
    "            print('Correlacao: ', m.outputs['corr_i_p'])            \n",
    "            print('Potencia negativa: \\n dias: {} \\n minutos: {}'.format( m.outputs['_power_neg']['days'], m.outputs['_power_neg']['minutes']))\n",
    "            print('Potencia negativa zerada: \\n dias: {} \\n minutos: {}'.format( m.outputs['power_neg']['days'], m.outputs['power_neg']['minutes']))\n",
    "            print('Sumarização do fasorial: ',m.nn_input)\n",
    "            print('Severidade fasorial: ', m.outputs['severity'] )\n",
    "            sev = m.nn_input\n",
    "            sev.append(m.outputs['severity'])\n",
    "    out[name] = sev\n",
    "    return f1, out"
   ]
  },
  {
   "cell_type": "code",
   "execution_count": 295,
   "metadata": {},
   "outputs": [],
   "source": [
    "outputs_header = {'tensao_zero_dias'}"
   ]
  },
  {
   "cell_type": "code",
   "execution_count": 296,
   "metadata": {},
   "outputs": [],
   "source": [
    "thresholds= {'tension_zero':{'days':3, 'minutes': 1440},\n",
    "                            'tension_100':{'days':3, 'minutes': 1440},\n",
    "                            'current_zero':{'days':10, 'minutes': 14400},\n",
    "                            'wrong_angles':{'days':2, 'minutes': 1440},\n",
    "                            'curreng_neg':{'days':2, 'minutes': 1440},\n",
    "                            'power_neg':{'days':2, 'minutes': 1440}\n",
    "                          }"
   ]
  },
  {
   "cell_type": "code",
   "execution_count": 297,
   "metadata": {},
   "outputs": [
    {
     "name": "stdout",
     "output_type": "stream",
     "text": [
      "{'days': 3, 'minutes': 1440}\n",
      "{'days': 3, 'minutes': 1440}\n",
      "{'days': 10, 'minutes': 14400}\n",
      "{'days': 2, 'minutes': 1440}\n",
      "{'days': 2, 'minutes': 1440}\n",
      "{'days': 2, 'minutes': 1440}\n"
     ]
    }
   ],
   "source": [
    "l=[]\n",
    "for i in list(thresholds.values()):\n",
    "    print(i)\n",
    "    l.append(i['days'])\n",
    "    l.append(i['minutes'])"
   ]
  },
  {
   "cell_type": "code",
   "execution_count": 231,
   "metadata": {},
   "outputs": [
    {
     "data": {
      "text/plain": [
       "[3, 1440, 3, 1440, 10, 14400, 2, 1440, 2, 1440, 2, 1440]"
      ]
     },
     "execution_count": 231,
     "metadata": {},
     "output_type": "execute_result"
    }
   ],
   "source": [
    "l"
   ]
  },
  {
   "cell_type": "code",
   "execution_count": 266,
   "metadata": {},
   "outputs": [
    {
     "name": "stdout",
     "output_type": "stream",
     "text": [
      "{5: Timestamp('2019-05-31 00:00:00'), 6: Timestamp('2019-06-30 00:00:00'), 7: Timestamp('2019-07-31 00:00:00')}\n"
     ]
    },
    {
     "name": "stderr",
     "output_type": "stream",
     "text": [
      "/home/ubuntu/data/code/thm_fd/src/lib/mainlib.py:680: UserWarning: Boolean Series key will be reindexed to match DataFrame index.\n",
      "  df = df[(f1 & f2) | f3]\n",
      "/home/ubuntu/data/code/thm_fd/src/lib/mainlib.py:680: UserWarning: Boolean Series key will be reindexed to match DataFrame index.\n",
      "  df = df[(f1 & f2) | f3]\n",
      "/home/ubuntu/data/code/thm_fd/src/lib/mainlib.py:680: UserWarning: Boolean Series key will be reindexed to match DataFrame index.\n",
      "  df = df[(f1 & f2) | f3]\n"
     ]
    },
    {
     "name": "stdout",
     "output_type": "stream",
     "text": [
      "BT2A411069667\n",
      "----- Mes 5 -----\n",
      "Correlacao:  True\n",
      "Potencia negativa: \n",
      " dias: 30 \n",
      " minutos: 4455\n",
      "Potencia negativa zerada: \n",
      " dias: 0 \n",
      " minutos: 0\n",
      "Sumarização do fasorial:  [0, 0, 0, 0, 2, 900, 0, 0, 0, 0, 0, 0]\n",
      "Severidade fasorial:  1\n",
      "BT2A411069667\n",
      "----- Mes 6 -----\n",
      "Correlacao:  True\n",
      "Potencia negativa: \n",
      " dias: 30 \n",
      " minutos: 3375\n",
      "Potencia negativa zerada: \n",
      " dias: 0 \n",
      " minutos: 0\n",
      "Sumarização do fasorial:  [0, 0, 0, 0, 6, 2925, 0, 0, 0, 0, 0, 0]\n",
      "Severidade fasorial:  1\n",
      "BT2A411069667\n",
      "----- Mes 7 -----\n",
      "Correlacao:  True\n",
      "Potencia negativa: \n",
      " dias: 30 \n",
      " minutos: 3495\n",
      "Potencia negativa zerada: \n",
      " dias: 0 \n",
      " minutos: 0\n",
      "Sumarização do fasorial:  [0, 0, 0, 0, 9, 4200, 0, 0, 0, 0, 0, 0]\n",
      "Severidade fasorial:  1\n",
      "{5: Timestamp('2019-05-31 00:00:00'), 6: Timestamp('2019-06-30 00:00:00'), 7: Timestamp('2019-07-31 00:00:00')}\n"
     ]
    },
    {
     "name": "stderr",
     "output_type": "stream",
     "text": [
      "/home/ubuntu/data/code/thm_fd/src/lib/mainlib.py:680: UserWarning: Boolean Series key will be reindexed to match DataFrame index.\n",
      "  df = df[(f1 & f2) | f3]\n",
      "/home/ubuntu/data/code/thm_fd/src/lib/mainlib.py:680: UserWarning: Boolean Series key will be reindexed to match DataFrame index.\n",
      "  df = df[(f1 & f2) | f3]\n",
      "/home/ubuntu/data/code/thm_fd/src/lib/mainlib.py:680: UserWarning: Boolean Series key will be reindexed to match DataFrame index.\n",
      "  df = df[(f1 & f2) | f3]\n"
     ]
    },
    {
     "name": "stdout",
     "output_type": "stream",
     "text": [
      "BT2A412072721\n",
      "----- Mes 5 -----\n",
      "Correlacao:  True\n",
      "Potencia negativa: \n",
      " dias: 27 \n",
      " minutos: 13635\n",
      "Potencia negativa zerada: \n",
      " dias: 0 \n",
      " minutos: 0\n",
      "Sumarização do fasorial:  [0, 0, 0, 0, 0, 0.0, 0, 0, 0, 0, 0, 0]\n",
      "Severidade fasorial:  1\n",
      "BT2A412072721\n",
      "----- Mes 6 -----\n",
      "Correlacao:  True\n",
      "Potencia negativa: \n",
      " dias: 30 \n",
      " minutos: 22545\n",
      "Potencia negativa zerada: \n",
      " dias: 0 \n",
      " minutos: 0\n",
      "Sumarização do fasorial:  [0, 0, 0, 0, 0, 0.0, 0, 0, 0, 0, 0, 0]\n",
      "Severidade fasorial:  1\n",
      "BT2A412072721\n",
      "----- Mes 7 -----\n",
      "Correlacao:  True\n",
      "Potencia negativa: \n",
      " dias: 30 \n",
      " minutos: 19815\n",
      "Potencia negativa zerada: \n",
      " dias: 0 \n",
      " minutos: 0\n",
      "Sumarização do fasorial:  [0, 0, 0, 0, 0, 0.0, 0, 0, 0, 0, 0, 0]\n",
      "Severidade fasorial:  1\n",
      "{5: Timestamp('2019-05-31 00:00:00'), 6: Timestamp('2019-06-30 00:00:00'), 7: Timestamp('2019-07-31 00:00:00')}\n"
     ]
    },
    {
     "name": "stderr",
     "output_type": "stream",
     "text": [
      "/home/ubuntu/data/code/thm_fd/src/lib/mainlib.py:680: UserWarning: Boolean Series key will be reindexed to match DataFrame index.\n",
      "  df = df[(f1 & f2) | f3]\n",
      "/home/ubuntu/data/code/thm_fd/src/lib/mainlib.py:680: UserWarning: Boolean Series key will be reindexed to match DataFrame index.\n",
      "  df = df[(f1 & f2) | f3]\n",
      "/home/ubuntu/data/code/thm_fd/src/lib/mainlib.py:680: UserWarning: Boolean Series key will be reindexed to match DataFrame index.\n",
      "  df = df[(f1 & f2) | f3]\n"
     ]
    },
    {
     "name": "stdout",
     "output_type": "stream",
     "text": [
      "BT2A420162425\n",
      "----- Mes 5 -----\n",
      "Correlacao:  True\n",
      "Potencia negativa: \n",
      " dias: 30 \n",
      " minutos: 7605\n",
      "Potencia negativa zerada: \n",
      " dias: 0 \n",
      " minutos: 0\n",
      "Sumarização do fasorial:  [0, 0, 0, 0, 0, 0.0, 0, 0, 0, 0, 0, 0]\n",
      "Severidade fasorial:  1\n",
      "BT2A420162425\n",
      "----- Mes 6 -----\n",
      "Correlacao:  True\n",
      "Potencia negativa: \n",
      " dias: 30 \n",
      " minutos: 16815\n",
      "Potencia negativa zerada: \n",
      " dias: 0 \n",
      " minutos: 0\n",
      "Sumarização do fasorial:  [0, 0, 0, 0, 0, 0.0, 0, 0, 0, 0, 0, 0]\n",
      "Severidade fasorial:  1\n",
      "BT2A420162425\n",
      "----- Mes 7 -----\n",
      "Correlacao:  True\n",
      "Potencia negativa: \n",
      " dias: 30 \n",
      " minutos: 21570\n",
      "Potencia negativa zerada: \n",
      " dias: 0 \n",
      " minutos: 0\n",
      "Sumarização do fasorial:  [0, 0, 0, 0, 0, 0.0, 0, 0, 0, 0, 0, 0]\n",
      "Severidade fasorial:  1\n",
      "{5: Timestamp('2019-05-31 00:00:00'), 6: Timestamp('2019-06-30 00:00:00'), 7: Timestamp('2019-07-31 00:00:00')}\n"
     ]
    },
    {
     "name": "stderr",
     "output_type": "stream",
     "text": [
      "/home/ubuntu/data/code/thm_fd/src/lib/mainlib.py:680: UserWarning: Boolean Series key will be reindexed to match DataFrame index.\n",
      "  df = df[(f1 & f2) | f3]\n",
      "/home/ubuntu/data/code/thm_fd/src/lib/mainlib.py:680: UserWarning: Boolean Series key will be reindexed to match DataFrame index.\n",
      "  df = df[(f1 & f2) | f3]\n",
      "/home/ubuntu/data/code/thm_fd/src/lib/mainlib.py:680: UserWarning: Boolean Series key will be reindexed to match DataFrame index.\n",
      "  df = df[(f1 & f2) | f3]\n"
     ]
    },
    {
     "name": "stdout",
     "output_type": "stream",
     "text": [
      "BT2A412881927\n",
      "----- Mes 5 -----\n",
      "Correlacao:  True\n",
      "Potencia negativa: \n",
      " dias: 9 \n",
      " minutos: 825\n",
      "Potencia negativa zerada: \n",
      " dias: 0 \n",
      " minutos: 0\n",
      "Sumarização do fasorial:  [0, 0, 0, 0, 0, 0.0, 0, 0, 0, 0, 0, 0]\n",
      "Severidade fasorial:  0\n",
      "BT2A412881927\n",
      "----- Mes 6 -----\n",
      "Correlacao:  True\n",
      "Potencia negativa: \n",
      " dias: 16 \n",
      " minutos: 2460\n",
      "Potencia negativa zerada: \n",
      " dias: 0 \n",
      " minutos: 0\n",
      "Sumarização do fasorial:  [0, 0, 0, 0, 0, 0.0, 0, 0, 0, 0, 0, 0]\n",
      "Severidade fasorial:  1\n",
      "BT2A412881927\n",
      "----- Mes 7 -----\n",
      "Correlacao:  False\n",
      "Potencia negativa: \n",
      " dias: 8 \n",
      " minutos: 2055\n",
      "Potencia negativa zerada: \n",
      " dias: 8 \n",
      " minutos: 2055\n",
      "Sumarização do fasorial:  [0, 0, 0, 0, 0, 0.0, 0, 0, 0, 0, 8, 2055]\n",
      "Severidade fasorial:  2\n",
      "{5: Timestamp('2019-05-31 00:00:00'), 6: Timestamp('2019-06-30 00:00:00'), 7: Timestamp('2019-07-31 00:00:00')}\n"
     ]
    },
    {
     "name": "stderr",
     "output_type": "stream",
     "text": [
      "/home/ubuntu/data/code/thm_fd/src/lib/mainlib.py:680: UserWarning: Boolean Series key will be reindexed to match DataFrame index.\n",
      "  df = df[(f1 & f2) | f3]\n",
      "/home/ubuntu/data/code/thm_fd/src/lib/mainlib.py:680: UserWarning: Boolean Series key will be reindexed to match DataFrame index.\n",
      "  df = df[(f1 & f2) | f3]\n",
      "/home/ubuntu/data/code/thm_fd/src/lib/mainlib.py:680: UserWarning: Boolean Series key will be reindexed to match DataFrame index.\n",
      "  df = df[(f1 & f2) | f3]\n"
     ]
    },
    {
     "name": "stdout",
     "output_type": "stream",
     "text": [
      "BT2A411428531\n",
      "----- Mes 5 -----\n",
      "Correlacao:  True\n",
      "Potencia negativa: \n",
      " dias: 26 \n",
      " minutos: 11760\n",
      "Potencia negativa zerada: \n",
      " dias: 0 \n",
      " minutos: 0\n",
      "Sumarização do fasorial:  [0, 0, 0, 0, 0, 0.0, 0, 0, 0, 0, 0, 0]\n",
      "Severidade fasorial:  1\n",
      "BT2A411428531\n",
      "----- Mes 6 -----\n",
      "Correlacao:  True\n",
      "Potencia negativa: \n",
      " dias: 20 \n",
      " minutos: 6390\n",
      "Potencia negativa zerada: \n",
      " dias: 0 \n",
      " minutos: 0\n",
      "Sumarização do fasorial:  [0, 0, 0, 0, 0, 0, 0, 0, 0, 0, 0, 0]\n",
      "Severidade fasorial:  1\n",
      "BT2A411428531\n",
      "----- Mes 7 -----\n",
      "Correlacao:  True\n",
      "Potencia negativa: \n",
      " dias: 20 \n",
      " minutos: 7695\n",
      "Potencia negativa zerada: \n",
      " dias: 0 \n",
      " minutos: 0\n",
      "Sumarização do fasorial:  [0, 0, 0, 0, 0, 0, 0, 0, 0, 0, 0, 0]\n",
      "Severidade fasorial:  1\n",
      "{5: Timestamp('2019-05-31 00:00:00'), 6: Timestamp('2019-06-30 00:00:00'), 7: Timestamp('2019-07-31 00:00:00')}\n"
     ]
    },
    {
     "name": "stderr",
     "output_type": "stream",
     "text": [
      "/home/ubuntu/data/code/thm_fd/src/lib/mainlib.py:680: UserWarning: Boolean Series key will be reindexed to match DataFrame index.\n",
      "  df = df[(f1 & f2) | f3]\n",
      "/home/ubuntu/data/code/thm_fd/src/lib/mainlib.py:680: UserWarning: Boolean Series key will be reindexed to match DataFrame index.\n",
      "  df = df[(f1 & f2) | f3]\n",
      "/home/ubuntu/data/code/thm_fd/src/lib/mainlib.py:680: UserWarning: Boolean Series key will be reindexed to match DataFrame index.\n",
      "  df = df[(f1 & f2) | f3]\n"
     ]
    },
    {
     "name": "stdout",
     "output_type": "stream",
     "text": [
      "BT2A414367449\n",
      "----- Mes 5 -----\n",
      "Correlacao:  True\n",
      "Potencia negativa: \n",
      " dias: 30 \n",
      " minutos: 27180\n",
      "Potencia negativa zerada: \n",
      " dias: 0 \n",
      " minutos: 0\n",
      "Sumarização do fasorial:  [0, 0, 0, 0, 0, 0.0, 0, 0, 0, 0, 0, 0]\n",
      "Severidade fasorial:  1\n",
      "BT2A414367449\n",
      "----- Mes 6 -----\n",
      "Correlacao:  True\n",
      "Potencia negativa: \n",
      " dias: 30 \n",
      " minutos: 27600\n",
      "Potencia negativa zerada: \n",
      " dias: 0 \n",
      " minutos: 0\n",
      "Sumarização do fasorial:  [0, 0, 0, 0, 0, 0.0, 0, 0, 0, 0, 0, 0]\n",
      "Severidade fasorial:  1\n",
      "BT2A414367449\n",
      "----- Mes 7 -----\n",
      "Correlacao:  True\n",
      "Potencia negativa: \n",
      " dias: 30 \n",
      " minutos: 26595\n",
      "Potencia negativa zerada: \n",
      " dias: 0 \n",
      " minutos: 0\n",
      "Sumarização do fasorial:  [0, 0, 0, 0, 0, 0.0, 0, 0, 0, 0, 0, 0]\n",
      "Severidade fasorial:  1\n",
      "{5: Timestamp('2019-05-31 00:00:00'), 6: Timestamp('2019-06-30 00:00:00'), 7: Timestamp('2019-07-31 00:00:00')}\n"
     ]
    },
    {
     "name": "stderr",
     "output_type": "stream",
     "text": [
      "/home/ubuntu/data/code/thm_fd/src/lib/mainlib.py:680: UserWarning: Boolean Series key will be reindexed to match DataFrame index.\n",
      "  df = df[(f1 & f2) | f3]\n",
      "/home/ubuntu/data/code/thm_fd/src/lib/mainlib.py:680: UserWarning: Boolean Series key will be reindexed to match DataFrame index.\n",
      "  df = df[(f1 & f2) | f3]\n",
      "/home/ubuntu/data/code/thm_fd/src/lib/mainlib.py:680: UserWarning: Boolean Series key will be reindexed to match DataFrame index.\n",
      "  df = df[(f1 & f2) | f3]\n"
     ]
    },
    {
     "name": "stdout",
     "output_type": "stream",
     "text": [
      "BT2A421223454\n",
      "----- Mes 5 -----\n",
      "Correlacao:  True\n",
      "Potencia negativa: \n",
      " dias: 30 \n",
      " minutos: 36945\n",
      "Potencia negativa zerada: \n",
      " dias: 0 \n",
      " minutos: 0\n",
      "Sumarização do fasorial:  [0, 0, 0, 0, 0, 0, 0, 0, 0, 0, 0, 0]\n",
      "Severidade fasorial:  1\n",
      "BT2A421223454\n",
      "----- Mes 6 -----\n",
      "Correlacao:  False\n",
      "Potencia negativa: \n",
      " dias: 26 \n",
      " minutos: 31305\n",
      "Potencia negativa zerada: \n",
      " dias: 26 \n",
      " minutos: 31305\n",
      "Sumarização do fasorial:  [0, 0, 0, 0, 0, 0, 0, 0, 0, 0, 26, 31305]\n",
      "Severidade fasorial:  2\n",
      "BT2A421223454\n",
      "----- Mes 7 -----\n",
      "Correlacao:  True\n",
      "Potencia negativa: \n",
      " dias: 23 \n",
      " minutos: 25950\n",
      "Potencia negativa zerada: \n",
      " dias: 0 \n",
      " minutos: 0\n",
      "Sumarização do fasorial:  [0, 0, 0, 0, 0, 0, 0, 0, 0, 0, 0, 0]\n",
      "Severidade fasorial:  1\n",
      "{5: Timestamp('2019-05-31 00:00:00'), 6: Timestamp('2019-06-30 00:00:00'), 7: Timestamp('2019-07-31 00:00:00')}\n"
     ]
    },
    {
     "name": "stderr",
     "output_type": "stream",
     "text": [
      "/home/ubuntu/data/code/thm_fd/src/lib/mainlib.py:680: UserWarning: Boolean Series key will be reindexed to match DataFrame index.\n",
      "  df = df[(f1 & f2) | f3]\n",
      "/home/ubuntu/data/code/thm_fd/src/lib/mainlib.py:680: UserWarning: Boolean Series key will be reindexed to match DataFrame index.\n",
      "  df = df[(f1 & f2) | f3]\n",
      "/home/ubuntu/data/code/thm_fd/src/lib/mainlib.py:680: UserWarning: Boolean Series key will be reindexed to match DataFrame index.\n",
      "  df = df[(f1 & f2) | f3]\n"
     ]
    },
    {
     "name": "stdout",
     "output_type": "stream",
     "text": [
      "BT2A412086419\n",
      "----- Mes 5 -----\n",
      "Correlacao:  True\n",
      "Potencia negativa: \n",
      " dias: 6 \n",
      " minutos: 1650\n",
      "Potencia negativa zerada: \n",
      " dias: 0 \n",
      " minutos: 0\n",
      "Sumarização do fasorial:  [0, 0, 0, 0, 1, 495, 0, 0, 0, 0, 0, 0]\n",
      "Severidade fasorial:  1\n",
      "BT2A412086419\n",
      "----- Mes 6 -----\n",
      "Correlacao:  True\n",
      "Potencia negativa: \n",
      " dias: 2 \n",
      " minutos: 30\n",
      "Potencia negativa zerada: \n",
      " dias: 0 \n",
      " minutos: 0\n",
      "Sumarização do fasorial:  [0, 0, 0, 0, 3, 1380, 0, 0, 0, 0, 0, 0]\n",
      "Severidade fasorial:  1\n",
      "BT2A412086419\n",
      "----- Mes 7 -----\n",
      "Correlacao:  True\n",
      "Potencia negativa: \n",
      " dias: 0 \n",
      " minutos: 0\n",
      "Potencia negativa zerada: \n",
      " dias: 0 \n",
      " minutos: 0\n",
      "Sumarização do fasorial:  [0, 0, 0, 0, 0, 0, 0, 0, 0, 0, 0, 0]\n",
      "Severidade fasorial:  0\n",
      "{5: Timestamp('2019-05-31 00:00:00'), 6: Timestamp('2019-06-30 00:00:00'), 7: Timestamp('2019-07-31 00:00:00')}\n"
     ]
    },
    {
     "name": "stderr",
     "output_type": "stream",
     "text": [
      "/home/ubuntu/data/code/thm_fd/src/lib/mainlib.py:680: UserWarning: Boolean Series key will be reindexed to match DataFrame index.\n",
      "  df = df[(f1 & f2) | f3]\n",
      "/home/ubuntu/data/code/thm_fd/src/lib/mainlib.py:680: UserWarning: Boolean Series key will be reindexed to match DataFrame index.\n",
      "  df = df[(f1 & f2) | f3]\n",
      "/home/ubuntu/data/code/thm_fd/src/lib/mainlib.py:680: UserWarning: Boolean Series key will be reindexed to match DataFrame index.\n",
      "  df = df[(f1 & f2) | f3]\n"
     ]
    },
    {
     "name": "stdout",
     "output_type": "stream",
     "text": [
      "BT2A410754689\n",
      "----- Mes 5 -----\n",
      "Correlacao:  True\n",
      "Potencia negativa: \n",
      " dias: 0 \n",
      " minutos: 0\n",
      "Potencia negativa zerada: \n",
      " dias: 0 \n",
      " minutos: 0\n",
      "Sumarização do fasorial:  [0, 0, 0, 0, 0, 0.0, 0, 0, 0, 0, 0, 0]\n",
      "Severidade fasorial:  0\n",
      "BT2A410754689\n",
      "----- Mes 6 -----\n",
      "Correlacao:  True\n",
      "Potencia negativa: \n",
      " dias: 1 \n",
      " minutos: 15\n",
      "Potencia negativa zerada: \n",
      " dias: 0 \n",
      " minutos: 0\n",
      "Sumarização do fasorial:  [0, 0, 0, 0, 0, 0.0, 0, 0, 0, 0, 0, 0]\n",
      "Severidade fasorial:  0\n",
      "BT2A410754689\n",
      "----- Mes 7 -----\n",
      "Correlacao:  True\n",
      "Potencia negativa: \n",
      " dias: 29 \n",
      " minutos: 16890\n",
      "Potencia negativa zerada: \n",
      " dias: 0 \n",
      " minutos: 0\n",
      "Sumarização do fasorial:  [0, 0, 0, 0, 0, 0.0, 0, 0, 0, 0, 0, 0]\n",
      "Severidade fasorial:  1\n",
      "{5: Timestamp('2019-05-31 00:00:00'), 6: Timestamp('2019-06-30 00:00:00'), 7: Timestamp('2019-07-31 00:00:00')}\n"
     ]
    },
    {
     "name": "stderr",
     "output_type": "stream",
     "text": [
      "/home/ubuntu/data/code/thm_fd/src/lib/mainlib.py:680: UserWarning: Boolean Series key will be reindexed to match DataFrame index.\n",
      "  df = df[(f1 & f2) | f3]\n",
      "/home/ubuntu/data/code/thm_fd/src/lib/mainlib.py:680: UserWarning: Boolean Series key will be reindexed to match DataFrame index.\n",
      "  df = df[(f1 & f2) | f3]\n",
      "/home/ubuntu/data/code/thm_fd/src/lib/mainlib.py:680: UserWarning: Boolean Series key will be reindexed to match DataFrame index.\n",
      "  df = df[(f1 & f2) | f3]\n"
     ]
    },
    {
     "name": "stdout",
     "output_type": "stream",
     "text": [
      "BT2A414642567\n",
      "----- Mes 5 -----\n",
      "Correlacao:  True\n",
      "Potencia negativa: \n",
      " dias: 16 \n",
      " minutos: 4155\n",
      "Potencia negativa zerada: \n",
      " dias: 0 \n",
      " minutos: 0\n",
      "Sumarização do fasorial:  [0, 0, 0, 0, 0, 0.0, 0, 0, 0, 0, 0, 0]\n",
      "Severidade fasorial:  1\n",
      "BT2A414642567\n",
      "----- Mes 6 -----\n",
      "Correlacao:  True\n",
      "Potencia negativa: \n",
      " dias: 26 \n",
      " minutos: 7755\n",
      "Potencia negativa zerada: \n",
      " dias: 0 \n",
      " minutos: 0\n",
      "Sumarização do fasorial:  [0, 0, 0, 0, 0, 0.0, 0, 0, 0, 0, 0, 0]\n",
      "Severidade fasorial:  1\n",
      "BT2A414642567\n",
      "----- Mes 7 -----\n",
      "Correlacao:  True\n",
      "Potencia negativa: \n",
      " dias: 20 \n",
      " minutos: 2985\n",
      "Potencia negativa zerada: \n",
      " dias: 0 \n",
      " minutos: 0\n",
      "Sumarização do fasorial:  [0, 0, 0, 0, 0, 0.0, 0, 0, 0, 0, 0, 0]\n",
      "Severidade fasorial:  1\n",
      "{5: Timestamp('2019-05-31 00:00:00'), 6: Timestamp('2019-06-30 00:00:00'), 7: Timestamp('2019-07-31 00:00:00')}\n"
     ]
    },
    {
     "name": "stderr",
     "output_type": "stream",
     "text": [
      "/home/ubuntu/data/code/thm_fd/src/lib/mainlib.py:680: UserWarning: Boolean Series key will be reindexed to match DataFrame index.\n",
      "  df = df[(f1 & f2) | f3]\n",
      "/home/ubuntu/data/code/thm_fd/src/lib/mainlib.py:680: UserWarning: Boolean Series key will be reindexed to match DataFrame index.\n",
      "  df = df[(f1 & f2) | f3]\n"
     ]
    },
    {
     "name": "stdout",
     "output_type": "stream",
     "text": [
      "BT2A411227193\n",
      "----- Mes 5 -----\n",
      "Correlacao:  True\n",
      "Potencia negativa: \n",
      " dias: 2 \n",
      " minutos: 135\n",
      "Potencia negativa zerada: \n",
      " dias: 0 \n",
      " minutos: 0\n",
      "Sumarização do fasorial:  [0, 0, 0, 0, 0, 0, 0, 0, 0, 0, 0, 0]\n",
      "Severidade fasorial:  0\n",
      "BT2A411227193\n",
      "----- Mes 6 -----\n",
      "Correlacao:  True\n",
      "Potencia negativa: \n",
      " dias: 4 \n",
      " minutos: 2610\n",
      "Potencia negativa zerada: \n",
      " dias: 0 \n",
      " minutos: 0\n",
      "Sumarização do fasorial:  [0, 0, 0, 0, 0, 0, 0, 0, 0, 0, 0, 0]\n",
      "Severidade fasorial:  1\n",
      "BT2A411227193\n",
      "----- Mes 7 -----\n",
      "Correlacao:  True\n",
      "Potencia negativa: \n",
      " dias: 0 \n",
      " minutos: 0\n",
      "Potencia negativa zerada: \n",
      " dias: 0 \n",
      " minutos: 0\n",
      "Sumarização do fasorial:  [0, 0, 0, 0, 3, 1320, 0, 0, 0, 0, 0, 0]\n",
      "Severidade fasorial:  1\n"
     ]
    },
    {
     "name": "stderr",
     "output_type": "stream",
     "text": [
      "/home/ubuntu/data/code/thm_fd/src/lib/mainlib.py:680: UserWarning: Boolean Series key will be reindexed to match DataFrame index.\n",
      "  df = df[(f1 & f2) | f3]\n"
     ]
    }
   ],
   "source": [
    "o = {}\n",
    "for i in processar:\n",
    "    _, _o = anfas(ddirs[i])\n",
    "    o.update(_o)"
   ]
  },
  {
   "cell_type": "markdown",
   "metadata": {},
   "source": [
    "---------"
   ]
  },
  {
   "cell_type": "markdown",
   "metadata": {},
   "source": [
    "#### Montar csv de saída"
   ]
  },
  {
   "cell_type": "code",
   "execution_count": 269,
   "metadata": {},
   "outputs": [],
   "source": [
    "ot = pd.DataFrame(o).T"
   ]
  },
  {
   "cell_type": "code",
   "execution_count": 271,
   "metadata": {},
   "outputs": [],
   "source": [
    "cols = ['tension_zero_days', 'tension_zero_minutes', 'tension_min_days', 'tension_min_minutes', 'current_zero_days', 'current_zero_minutes',\n",
    "        'wrong_angles_days', 'wrong_angles_minutes', 'curreng_neg_days', 'curreng_neg_minutes', 'power_neg_days', 'power_neg_minutes', 'Severidade' ]"
   ]
  },
  {
   "cell_type": "code",
   "execution_count": 272,
   "metadata": {},
   "outputs": [],
   "source": [
    "ot.columns = cols"
   ]
  },
  {
   "cell_type": "code",
   "execution_count": 273,
   "metadata": {},
   "outputs": [
    {
     "data": {
      "text/html": [
       "<div>\n",
       "<style scoped>\n",
       "    .dataframe tbody tr th:only-of-type {\n",
       "        vertical-align: middle;\n",
       "    }\n",
       "\n",
       "    .dataframe tbody tr th {\n",
       "        vertical-align: top;\n",
       "    }\n",
       "\n",
       "    .dataframe thead th {\n",
       "        text-align: right;\n",
       "    }\n",
       "</style>\n",
       "<table border=\"1\" class=\"dataframe\">\n",
       "  <thead>\n",
       "    <tr style=\"text-align: right;\">\n",
       "      <th></th>\n",
       "      <th>tension_zero_days</th>\n",
       "      <th>tension_zero_minutes</th>\n",
       "      <th>tension_min_days</th>\n",
       "      <th>tension_min_minutes</th>\n",
       "      <th>current_zero_days</th>\n",
       "      <th>current_zero_minutes</th>\n",
       "      <th>wrong_angles_days</th>\n",
       "      <th>wrong_angles_minutes</th>\n",
       "      <th>curreng_neg_days</th>\n",
       "      <th>curreng_neg_minutes</th>\n",
       "      <th>power_neg_days</th>\n",
       "      <th>power_neg_minutes</th>\n",
       "      <th>Severidade</th>\n",
       "    </tr>\n",
       "  </thead>\n",
       "  <tbody>\n",
       "    <tr>\n",
       "      <th>BT2A411069667</th>\n",
       "      <td>0.0</td>\n",
       "      <td>0.0</td>\n",
       "      <td>0.0</td>\n",
       "      <td>0.0</td>\n",
       "      <td>9.0</td>\n",
       "      <td>4200.0</td>\n",
       "      <td>0.0</td>\n",
       "      <td>0.0</td>\n",
       "      <td>0.0</td>\n",
       "      <td>0.0</td>\n",
       "      <td>0.0</td>\n",
       "      <td>0.0</td>\n",
       "      <td>1.0</td>\n",
       "    </tr>\n",
       "    <tr>\n",
       "      <th>BT2A412072721</th>\n",
       "      <td>0.0</td>\n",
       "      <td>0.0</td>\n",
       "      <td>0.0</td>\n",
       "      <td>0.0</td>\n",
       "      <td>0.0</td>\n",
       "      <td>0.0</td>\n",
       "      <td>0.0</td>\n",
       "      <td>0.0</td>\n",
       "      <td>0.0</td>\n",
       "      <td>0.0</td>\n",
       "      <td>0.0</td>\n",
       "      <td>0.0</td>\n",
       "      <td>1.0</td>\n",
       "    </tr>\n",
       "    <tr>\n",
       "      <th>BT2A420162425</th>\n",
       "      <td>0.0</td>\n",
       "      <td>0.0</td>\n",
       "      <td>0.0</td>\n",
       "      <td>0.0</td>\n",
       "      <td>0.0</td>\n",
       "      <td>0.0</td>\n",
       "      <td>0.0</td>\n",
       "      <td>0.0</td>\n",
       "      <td>0.0</td>\n",
       "      <td>0.0</td>\n",
       "      <td>0.0</td>\n",
       "      <td>0.0</td>\n",
       "      <td>1.0</td>\n",
       "    </tr>\n",
       "    <tr>\n",
       "      <th>BT2A412881927</th>\n",
       "      <td>0.0</td>\n",
       "      <td>0.0</td>\n",
       "      <td>0.0</td>\n",
       "      <td>0.0</td>\n",
       "      <td>0.0</td>\n",
       "      <td>0.0</td>\n",
       "      <td>0.0</td>\n",
       "      <td>0.0</td>\n",
       "      <td>0.0</td>\n",
       "      <td>0.0</td>\n",
       "      <td>8.0</td>\n",
       "      <td>2055.0</td>\n",
       "      <td>2.0</td>\n",
       "    </tr>\n",
       "    <tr>\n",
       "      <th>BT2A411428531</th>\n",
       "      <td>0.0</td>\n",
       "      <td>0.0</td>\n",
       "      <td>0.0</td>\n",
       "      <td>0.0</td>\n",
       "      <td>0.0</td>\n",
       "      <td>0.0</td>\n",
       "      <td>0.0</td>\n",
       "      <td>0.0</td>\n",
       "      <td>0.0</td>\n",
       "      <td>0.0</td>\n",
       "      <td>0.0</td>\n",
       "      <td>0.0</td>\n",
       "      <td>1.0</td>\n",
       "    </tr>\n",
       "    <tr>\n",
       "      <th>BT2A414367449</th>\n",
       "      <td>0.0</td>\n",
       "      <td>0.0</td>\n",
       "      <td>0.0</td>\n",
       "      <td>0.0</td>\n",
       "      <td>0.0</td>\n",
       "      <td>0.0</td>\n",
       "      <td>0.0</td>\n",
       "      <td>0.0</td>\n",
       "      <td>0.0</td>\n",
       "      <td>0.0</td>\n",
       "      <td>0.0</td>\n",
       "      <td>0.0</td>\n",
       "      <td>1.0</td>\n",
       "    </tr>\n",
       "    <tr>\n",
       "      <th>BT2A421223454</th>\n",
       "      <td>0.0</td>\n",
       "      <td>0.0</td>\n",
       "      <td>0.0</td>\n",
       "      <td>0.0</td>\n",
       "      <td>0.0</td>\n",
       "      <td>0.0</td>\n",
       "      <td>0.0</td>\n",
       "      <td>0.0</td>\n",
       "      <td>0.0</td>\n",
       "      <td>0.0</td>\n",
       "      <td>0.0</td>\n",
       "      <td>0.0</td>\n",
       "      <td>1.0</td>\n",
       "    </tr>\n",
       "    <tr>\n",
       "      <th>BT2A412086419</th>\n",
       "      <td>0.0</td>\n",
       "      <td>0.0</td>\n",
       "      <td>0.0</td>\n",
       "      <td>0.0</td>\n",
       "      <td>0.0</td>\n",
       "      <td>0.0</td>\n",
       "      <td>0.0</td>\n",
       "      <td>0.0</td>\n",
       "      <td>0.0</td>\n",
       "      <td>0.0</td>\n",
       "      <td>0.0</td>\n",
       "      <td>0.0</td>\n",
       "      <td>0.0</td>\n",
       "    </tr>\n",
       "    <tr>\n",
       "      <th>BT2A410754689</th>\n",
       "      <td>0.0</td>\n",
       "      <td>0.0</td>\n",
       "      <td>0.0</td>\n",
       "      <td>0.0</td>\n",
       "      <td>0.0</td>\n",
       "      <td>0.0</td>\n",
       "      <td>0.0</td>\n",
       "      <td>0.0</td>\n",
       "      <td>0.0</td>\n",
       "      <td>0.0</td>\n",
       "      <td>0.0</td>\n",
       "      <td>0.0</td>\n",
       "      <td>1.0</td>\n",
       "    </tr>\n",
       "    <tr>\n",
       "      <th>BT2A414642567</th>\n",
       "      <td>0.0</td>\n",
       "      <td>0.0</td>\n",
       "      <td>0.0</td>\n",
       "      <td>0.0</td>\n",
       "      <td>0.0</td>\n",
       "      <td>0.0</td>\n",
       "      <td>0.0</td>\n",
       "      <td>0.0</td>\n",
       "      <td>0.0</td>\n",
       "      <td>0.0</td>\n",
       "      <td>0.0</td>\n",
       "      <td>0.0</td>\n",
       "      <td>1.0</td>\n",
       "    </tr>\n",
       "    <tr>\n",
       "      <th>BT2A411227193</th>\n",
       "      <td>0.0</td>\n",
       "      <td>0.0</td>\n",
       "      <td>0.0</td>\n",
       "      <td>0.0</td>\n",
       "      <td>3.0</td>\n",
       "      <td>1320.0</td>\n",
       "      <td>0.0</td>\n",
       "      <td>0.0</td>\n",
       "      <td>0.0</td>\n",
       "      <td>0.0</td>\n",
       "      <td>0.0</td>\n",
       "      <td>0.0</td>\n",
       "      <td>1.0</td>\n",
       "    </tr>\n",
       "  </tbody>\n",
       "</table>\n",
       "</div>"
      ],
      "text/plain": [
       "               tension_zero_days  tension_zero_minutes  tension_min_days  \\\n",
       "BT2A411069667                0.0                   0.0               0.0   \n",
       "BT2A412072721                0.0                   0.0               0.0   \n",
       "BT2A420162425                0.0                   0.0               0.0   \n",
       "BT2A412881927                0.0                   0.0               0.0   \n",
       "BT2A411428531                0.0                   0.0               0.0   \n",
       "BT2A414367449                0.0                   0.0               0.0   \n",
       "BT2A421223454                0.0                   0.0               0.0   \n",
       "BT2A412086419                0.0                   0.0               0.0   \n",
       "BT2A410754689                0.0                   0.0               0.0   \n",
       "BT2A414642567                0.0                   0.0               0.0   \n",
       "BT2A411227193                0.0                   0.0               0.0   \n",
       "\n",
       "               tension_min_minutes  current_zero_days  current_zero_minutes  \\\n",
       "BT2A411069667                  0.0                9.0                4200.0   \n",
       "BT2A412072721                  0.0                0.0                   0.0   \n",
       "BT2A420162425                  0.0                0.0                   0.0   \n",
       "BT2A412881927                  0.0                0.0                   0.0   \n",
       "BT2A411428531                  0.0                0.0                   0.0   \n",
       "BT2A414367449                  0.0                0.0                   0.0   \n",
       "BT2A421223454                  0.0                0.0                   0.0   \n",
       "BT2A412086419                  0.0                0.0                   0.0   \n",
       "BT2A410754689                  0.0                0.0                   0.0   \n",
       "BT2A414642567                  0.0                0.0                   0.0   \n",
       "BT2A411227193                  0.0                3.0                1320.0   \n",
       "\n",
       "               wrong_angles_days  wrong_angles_minutes  curreng_neg_days  \\\n",
       "BT2A411069667                0.0                   0.0               0.0   \n",
       "BT2A412072721                0.0                   0.0               0.0   \n",
       "BT2A420162425                0.0                   0.0               0.0   \n",
       "BT2A412881927                0.0                   0.0               0.0   \n",
       "BT2A411428531                0.0                   0.0               0.0   \n",
       "BT2A414367449                0.0                   0.0               0.0   \n",
       "BT2A421223454                0.0                   0.0               0.0   \n",
       "BT2A412086419                0.0                   0.0               0.0   \n",
       "BT2A410754689                0.0                   0.0               0.0   \n",
       "BT2A414642567                0.0                   0.0               0.0   \n",
       "BT2A411227193                0.0                   0.0               0.0   \n",
       "\n",
       "               curreng_neg_minutes  power_neg_days  power_neg_minutes  \\\n",
       "BT2A411069667                  0.0             0.0                0.0   \n",
       "BT2A412072721                  0.0             0.0                0.0   \n",
       "BT2A420162425                  0.0             0.0                0.0   \n",
       "BT2A412881927                  0.0             8.0             2055.0   \n",
       "BT2A411428531                  0.0             0.0                0.0   \n",
       "BT2A414367449                  0.0             0.0                0.0   \n",
       "BT2A421223454                  0.0             0.0                0.0   \n",
       "BT2A412086419                  0.0             0.0                0.0   \n",
       "BT2A410754689                  0.0             0.0                0.0   \n",
       "BT2A414642567                  0.0             0.0                0.0   \n",
       "BT2A411227193                  0.0             0.0                0.0   \n",
       "\n",
       "               Severidade  \n",
       "BT2A411069667         1.0  \n",
       "BT2A412072721         1.0  \n",
       "BT2A420162425         1.0  \n",
       "BT2A412881927         2.0  \n",
       "BT2A411428531         1.0  \n",
       "BT2A414367449         1.0  \n",
       "BT2A421223454         1.0  \n",
       "BT2A412086419         0.0  \n",
       "BT2A410754689         1.0  \n",
       "BT2A414642567         1.0  \n",
       "BT2A411227193         1.0  "
      ]
     },
     "execution_count": 273,
     "metadata": {},
     "output_type": "execute_result"
    }
   ],
   "source": [
    "ot"
   ]
  },
  {
   "cell_type": "code",
   "execution_count": 274,
   "metadata": {},
   "outputs": [],
   "source": [
    "ot.to_csv('../../outputs/correlacao.csv')"
   ]
  },
  {
   "cell_type": "markdown",
   "metadata": {},
   "source": [
    "---------"
   ]
  },
  {
   "cell_type": "markdown",
   "metadata": {},
   "source": [
    "---------"
   ]
  },
  {
   "cell_type": "markdown",
   "metadata": {},
   "source": [
    "#### Casos que tiveram meses que não ultrapassaram threshold de correlação"
   ]
  },
  {
   "cell_type": "code",
   "execution_count": 233,
   "metadata": {},
   "outputs": [],
   "source": [
    "l2 = ['BT2A412881927','BT2A421223454']"
   ]
  },
  {
   "cell_type": "markdown",
   "metadata": {},
   "source": [
    "##### BT2A412881927"
   ]
  },
  {
   "cell_type": "code",
   "execution_count": 261,
   "metadata": {},
   "outputs": [
    {
     "name": "stdout",
     "output_type": "stream",
     "text": [
      "{5: Timestamp('2019-05-31 00:00:00'), 6: Timestamp('2019-06-30 00:00:00'), 7: Timestamp('2019-07-31 00:00:00')}\n"
     ]
    },
    {
     "name": "stderr",
     "output_type": "stream",
     "text": [
      "/home/ubuntu/data/code/thm_fd/src/lib/mainlib.py:680: UserWarning: Boolean Series key will be reindexed to match DataFrame index.\n",
      "  df = df[(f1 & f2) | f3]\n",
      "/home/ubuntu/data/code/thm_fd/src/lib/mainlib.py:680: UserWarning: Boolean Series key will be reindexed to match DataFrame index.\n",
      "  df = df[(f1 & f2) | f3]\n"
     ]
    },
    {
     "name": "stdout",
     "output_type": "stream",
     "text": [
      "BT2A412881927\n",
      "----- Mes 5 -----\n",
      "Correlacao:  True\n",
      "Potencia negativa: \n",
      " dias: 9 \n",
      " minutos: 825\n",
      "Potencia negativa zerada: \n",
      " dias: 0 \n",
      " minutos: 0\n",
      "Sumarização do fasorial:  [0, 0, 0, 0, 0, 0.0, 0, 0, 0, 0, 0, 0]\n",
      "Severidade fasorial:  0\n",
      "BT2A412881927\n",
      "----- Mes 6 -----\n",
      "Correlacao:  True\n",
      "Potencia negativa: \n",
      " dias: 16 \n",
      " minutos: 2460\n",
      "Potencia negativa zerada: \n",
      " dias: 0 \n",
      " minutos: 0\n",
      "Sumarização do fasorial:  [0, 0, 0, 0, 0, 0.0, 0, 0, 0, 0, 0, 0]\n",
      "Severidade fasorial:  1\n",
      "BT2A412881927\n",
      "----- Mes 7 -----\n",
      "Correlacao:  False\n",
      "Potencia negativa: \n",
      " dias: 8 \n",
      " minutos: 2055\n",
      "Potencia negativa zerada: \n",
      " dias: 8 \n",
      " minutos: 2055\n",
      "Sumarização do fasorial:  [0, 0, 0, 0, 0, 0.0, 0, 0, 0, 0, 8, 2055]\n",
      "Severidade fasorial:  2\n"
     ]
    },
    {
     "name": "stderr",
     "output_type": "stream",
     "text": [
      "/home/ubuntu/data/code/thm_fd/src/lib/mainlib.py:680: UserWarning: Boolean Series key will be reindexed to match DataFrame index.\n",
      "  df = df[(f1 & f2) | f3]\n"
     ]
    }
   ],
   "source": [
    "f1, o1 =anfas(ddirs['BT2A412881927'])"
   ]
  },
  {
   "cell_type": "code",
   "execution_count": 256,
   "metadata": {},
   "outputs": [
    {
     "name": "stdout",
     "output_type": "stream",
     "text": [
      "{5: Timestamp('2019-05-31 00:00:00'), 6: Timestamp('2019-06-30 00:00:00'), 7: Timestamp('2019-07-31 00:00:00')}\n"
     ]
    },
    {
     "name": "stderr",
     "output_type": "stream",
     "text": [
      "/home/ubuntu/data/code/thm_fd/src/lib/mainlib.py:680: UserWarning: Boolean Series key will be reindexed to match DataFrame index.\n",
      "  df = df[(f1 & f2) | f3]\n",
      "/home/ubuntu/data/code/thm_fd/src/lib/mainlib.py:680: UserWarning: Boolean Series key will be reindexed to match DataFrame index.\n",
      "  df = df[(f1 & f2) | f3]\n"
     ]
    },
    {
     "name": "stdout",
     "output_type": "stream",
     "text": [
      "BT2A412881927\n",
      "----- Mes 5 -----\n",
      "Correlacao:  True\n",
      "Potencia negativa: \n",
      " dias: 9 \n",
      " minutos: 825\n",
      "Potencia negativa zerada: \n",
      " dias: 0 \n",
      " minutos: 0\n",
      "Sumarização do fasorial:  [0, 0, 0, 0, 0, 0.0, 0, 0, 0, 0, 0, 0]\n",
      "Severidade fasorial:  0\n",
      "BT2A412881927\n",
      "----- Mes 6 -----\n",
      "Correlacao:  True\n",
      "Potencia negativa: \n",
      " dias: 16 \n",
      " minutos: 2460\n",
      "Potencia negativa zerada: \n",
      " dias: 0 \n",
      " minutos: 0\n",
      "Sumarização do fasorial:  [0, 0, 0, 0, 0, 0.0, 0, 0, 0, 0, 0, 0]\n",
      "Severidade fasorial:  1\n",
      "BT2A412881927\n",
      "----- Mes 7 -----\n",
      "Correlacao:  False\n",
      "Potencia negativa: \n",
      " dias: 8 \n",
      " minutos: 2055\n",
      "Potencia negativa zerada: \n",
      " dias: 8 \n",
      " minutos: 2055\n",
      "Sumarização do fasorial:  [0, 0, 0, 0, 0, 0.0, 0, 0, 0, 0, 8, 2055]\n",
      "Severidade fasorial:  2\n",
      "-0.001430673563717282\n",
      "0.9824511565068496\n",
      "0.9740736258661072\n"
     ]
    },
    {
     "name": "stderr",
     "output_type": "stream",
     "text": [
      "/home/ubuntu/data/code/thm_fd/src/lib/mainlib.py:680: UserWarning: Boolean Series key will be reindexed to match DataFrame index.\n",
      "  df = df[(f1 & f2) | f3]\n"
     ]
    },
    {
     "data": {
      "text/plain": [
       "[<matplotlib.lines.Line2D at 0x7f5dec188ac8>]"
      ]
     },
     "execution_count": 256,
     "metadata": {},
     "output_type": "execute_result"
    },
    {
     "data": {
      "image/png": "[encoded data removed]",
      "text/plain": [
       "<Figure size 432x288 with 1 Axes>"
      ]
     },
     "metadata": {},
     "output_type": "display_data"
    }
   ],
   "source": [
    "df=f1.months[2019][7].df\n",
    "print(df['IA'].corr(df['PA']))\n",
    "print(df['IB'].corr(df['PB']))\n",
    "print(df['IC'].corr(df['PC']))\n",
    "plt.plot(df['IA'])\n",
    "plt.plot(df['PA'])"
   ]
  },
  {
   "cell_type": "markdown",
   "metadata": {},
   "source": [
    "##### BT2A421223454"
   ]
  },
  {
   "cell_type": "code",
   "execution_count": 253,
   "metadata": {},
   "outputs": [
    {
     "name": "stdout",
     "output_type": "stream",
     "text": [
      "{5: Timestamp('2019-05-31 00:00:00'), 6: Timestamp('2019-06-30 00:00:00'), 7: Timestamp('2019-07-31 00:00:00')}\n"
     ]
    },
    {
     "name": "stderr",
     "output_type": "stream",
     "text": [
      "/home/ubuntu/data/code/thm_fd/src/lib/mainlib.py:680: UserWarning: Boolean Series key will be reindexed to match DataFrame index.\n",
      "  df = df[(f1 & f2) | f3]\n",
      "/home/ubuntu/data/code/thm_fd/src/lib/mainlib.py:680: UserWarning: Boolean Series key will be reindexed to match DataFrame index.\n",
      "  df = df[(f1 & f2) | f3]\n"
     ]
    },
    {
     "name": "stdout",
     "output_type": "stream",
     "text": [
      "BT2A421223454\n",
      "----- Mes 5 -----\n",
      "Correlacao:  True\n",
      "Potencia negativa: \n",
      " dias: 30 \n",
      " minutos: 36945\n",
      "Potencia negativa zerada: \n",
      " dias: 0 \n",
      " minutos: 0\n",
      "Sumarização do fasorial:  [0, 0, 0, 0, 0, 0, 0, 0, 0, 0, 0, 0]\n",
      "Severidade fasorial:  1\n",
      "BT2A421223454\n",
      "----- Mes 6 -----\n",
      "Correlacao:  False\n",
      "Potencia negativa: \n",
      " dias: 26 \n",
      " minutos: 31305\n",
      "Potencia negativa zerada: \n",
      " dias: 26 \n",
      " minutos: 31305\n",
      "Sumarização do fasorial:  [0, 0, 0, 0, 0, 0, 0, 0, 0, 0, 26, 31305]\n",
      "Severidade fasorial:  2\n",
      "BT2A421223454\n",
      "----- Mes 7 -----\n",
      "Correlacao:  True\n",
      "Potencia negativa: \n",
      " dias: 23 \n",
      " minutos: 25950\n",
      "Potencia negativa zerada: \n",
      " dias: 0 \n",
      " minutos: 0\n",
      "Sumarização do fasorial:  [0, 0, 0, 0, 0, 0, 0, 0, 0, 0, 0, 0]\n",
      "Severidade fasorial:  1\n"
     ]
    },
    {
     "name": "stderr",
     "output_type": "stream",
     "text": [
      "/home/ubuntu/data/code/thm_fd/src/lib/mainlib.py:680: UserWarning: Boolean Series key will be reindexed to match DataFrame index.\n",
      "  df = df[(f1 & f2) | f3]\n"
     ]
    }
   ],
   "source": [
    "f1, o2=anfas(ddirs['BT2A421223454'])"
   ]
  },
  {
   "cell_type": "code",
   "execution_count": 254,
   "metadata": {},
   "outputs": [
    {
     "name": "stdout",
     "output_type": "stream",
     "text": [
      "-0.8041685975417154\n",
      "0.9757628666396142\n",
      "0.9317358053283249\n"
     ]
    },
    {
     "data": {
      "text/plain": [
       "[<matplotlib.lines.Line2D at 0x7f5da99e9748>]"
      ]
     },
     "execution_count": 254,
     "metadata": {},
     "output_type": "execute_result"
    },
    {
     "data": {
      "image/png": "[encoded data removed]",
      "text/plain": [
       "<Figure size 432x288 with 1 Axes>"
      ]
     },
     "metadata": {},
     "output_type": "display_data"
    }
   ],
   "source": [
    "df=f1.months[2019][6].df\n",
    "print(df['IA'].corr(df['PA']))\n",
    "print(df['IB'].corr(df['PB']))\n",
    "print(df['IC'].corr(df['PC']))\n",
    "plt.plot(df['IA'])\n",
    "plt.plot(df['PA'])"
   ]
  },
  {
   "cell_type": "markdown",
   "metadata": {},
   "source": [
    "# Anomalia de ângulos"
   ]
  },
  {
   "cell_type": "code",
   "execution_count": 298,
   "metadata": {},
   "outputs": [],
   "source": [
    "anomang = [\n",
    "'BTI420840649',\n",
    "'BTI410459439',\n",
    "'BTI420750957',\n",
    "'BTI410785245',\n",
    "'BTI400267880',\n",
    "'BTI412503260'\n",
    "]\n"
   ]
  },
  {
   "cell_type": "code",
   "execution_count": 299,
   "metadata": {},
   "outputs": [
    {
     "data": {
      "text/plain": [
       "(6, 6)"
      ]
     },
     "execution_count": 299,
     "metadata": {},
     "output_type": "execute_result"
    }
   ],
   "source": [
    "l = [i for i in anomang if i in list(ddirs.keys())]\n",
    "len(anomang), len(l)"
   ]
  },
  {
   "cell_type": "code",
   "execution_count": 300,
   "metadata": {},
   "outputs": [
    {
     "name": "stdout",
     "output_type": "stream",
     "text": [
      "{5: Timestamp('2019-05-31 00:00:00'), 6: Timestamp('2019-06-30 00:00:00'), 7: Timestamp('2019-07-31 00:00:00')}\n"
     ]
    },
    {
     "name": "stderr",
     "output_type": "stream",
     "text": [
      "/home/ubuntu/data/code/thm_fd/src/lib/mainlib.py:679: UserWarning: Boolean Series key will be reindexed to match DataFrame index.\n",
      "  \n",
      "/home/ubuntu/data/code/thm_fd/src/lib/mainlib.py:679: UserWarning: Boolean Series key will be reindexed to match DataFrame index.\n",
      "  \n"
     ]
    },
    {
     "name": "stdout",
     "output_type": "stream",
     "text": [
      "BTI420840649\n",
      "----- Mes 5 -----\n",
      "Correlacao:  True\n",
      "Potencia negativa: \n",
      " dias: 0 \n",
      " minutos: 0\n",
      "Potencia negativa zerada: \n",
      " dias: 0 \n",
      " minutos: 0\n",
      "Sumarização do fasorial:  [0, 0, 0, 0, 0, 0.0, 0, 0, 0, 0, 0, 0]\n",
      "Severidade fasorial:  0\n",
      "BTI420840649\n",
      "----- Mes 6 -----\n",
      "Correlacao:  True\n",
      "Potencia negativa: \n",
      " dias: 0 \n",
      " minutos: 0\n",
      "Potencia negativa zerada: \n",
      " dias: 0 \n",
      " minutos: 0\n",
      "Sumarização do fasorial:  [0, 0, 0, 0, 0, 0.0, 0, 0, 0, 0, 0, 0]\n",
      "Severidade fasorial:  0\n",
      "{5: Timestamp('2019-05-31 00:00:00'), 6: Timestamp('2019-06-30 00:00:00'), 7: Timestamp('2019-07-31 00:00:00')}\n"
     ]
    },
    {
     "name": "stderr",
     "output_type": "stream",
     "text": [
      "/home/ubuntu/data/code/thm_fd/src/lib/mainlib.py:679: UserWarning: Boolean Series key will be reindexed to match DataFrame index.\n",
      "  \n",
      "/home/ubuntu/data/code/thm_fd/src/lib/mainlib.py:679: UserWarning: Boolean Series key will be reindexed to match DataFrame index.\n",
      "  \n",
      "/home/ubuntu/data/code/thm_fd/src/lib/mainlib.py:679: UserWarning: Boolean Series key will be reindexed to match DataFrame index.\n",
      "  \n"
     ]
    },
    {
     "name": "stdout",
     "output_type": "stream",
     "text": [
      "BTI410459439\n",
      "----- Mes 5 -----\n",
      "Correlacao:  False\n",
      "Potencia negativa: \n",
      " dias: 0 \n",
      " minutos: 0\n",
      "Potencia negativa zerada: \n",
      " dias: 0 \n",
      " minutos: 0\n",
      "Sumarização do fasorial:  [0, 0, 0, 0, 30, 13920, 0, 0, 0, 0, 0, 0]\n",
      "Severidade fasorial:  1\n",
      "BTI410459439\n",
      "----- Mes 6 -----\n",
      "Correlacao:  False\n",
      "Potencia negativa: \n",
      " dias: 0 \n",
      " minutos: 0\n",
      "Potencia negativa zerada: \n",
      " dias: 0 \n",
      " minutos: 0\n",
      "Sumarização do fasorial:  [0, 0, 0, 0, 30, 13995, 0, 0, 0, 0, 0, 0]\n",
      "Severidade fasorial:  1\n",
      "BTI410459439\n",
      "----- Mes 7 -----\n",
      "Correlacao:  False\n",
      "Potencia negativa: \n",
      " dias: 0 \n",
      " minutos: 0\n",
      "Potencia negativa zerada: \n",
      " dias: 0 \n",
      " minutos: 0\n",
      "Sumarização do fasorial:  [0, 0, 0, 0, 29, 13950, 0, 0, 0, 0, 0, 0]\n",
      "Severidade fasorial:  1\n",
      "{5: Timestamp('2019-05-31 00:00:00'), 6: Timestamp('2019-06-30 00:00:00'), 7: Timestamp('2019-07-31 00:00:00')}\n"
     ]
    },
    {
     "name": "stderr",
     "output_type": "stream",
     "text": [
      "/home/ubuntu/data/code/thm_fd/src/lib/mainlib.py:679: UserWarning: Boolean Series key will be reindexed to match DataFrame index.\n",
      "  \n",
      "/home/ubuntu/data/code/thm_fd/src/lib/mainlib.py:679: UserWarning: Boolean Series key will be reindexed to match DataFrame index.\n",
      "  \n",
      "/home/ubuntu/data/code/thm_fd/src/lib/mainlib.py:679: UserWarning: Boolean Series key will be reindexed to match DataFrame index.\n",
      "  \n"
     ]
    },
    {
     "name": "stdout",
     "output_type": "stream",
     "text": [
      "BTI420750957\n",
      "----- Mes 5 -----\n",
      "Correlacao:  True\n",
      "Potencia negativa: \n",
      " dias: 0 \n",
      " minutos: 0\n",
      "Potencia negativa zerada: \n",
      " dias: 0 \n",
      " minutos: 0\n",
      "Sumarização do fasorial:  [0, 0, 0, 0, 0, 0.0, 0, 0, 0, 0, 0, 0]\n",
      "Severidade fasorial:  0\n",
      "BTI420750957\n",
      "----- Mes 6 -----\n",
      "Correlacao:  True\n",
      "Potencia negativa: \n",
      " dias: 0 \n",
      " minutos: 0\n",
      "Potencia negativa zerada: \n",
      " dias: 0 \n",
      " minutos: 0\n",
      "Sumarização do fasorial:  [0, 0, 0, 0, 0, 0.0, 0, 0, 0, 0, 0, 0]\n",
      "Severidade fasorial:  0\n",
      "BTI420750957\n",
      "----- Mes 7 -----\n",
      "Correlacao:  False\n",
      "Potencia negativa: \n",
      " dias: 0 \n",
      " minutos: 0\n",
      "Potencia negativa zerada: \n",
      " dias: 0 \n",
      " minutos: 0\n",
      "Sumarização do fasorial:  [0, 0, 0, 0, 0, 0.0, 0, 0, 0, 0, 0, 0]\n",
      "Severidade fasorial:  0\n",
      "{5: Timestamp('2019-05-31 00:00:00'), 6: Timestamp('2019-06-30 00:00:00'), 7: Timestamp('2019-07-31 00:00:00')}\n"
     ]
    },
    {
     "name": "stderr",
     "output_type": "stream",
     "text": [
      "/home/ubuntu/data/code/thm_fd/src/lib/mainlib.py:679: UserWarning: Boolean Series key will be reindexed to match DataFrame index.\n",
      "  \n",
      "/home/ubuntu/data/code/thm_fd/src/lib/mainlib.py:679: UserWarning: Boolean Series key will be reindexed to match DataFrame index.\n",
      "  \n",
      "/home/ubuntu/data/code/thm_fd/src/lib/mainlib.py:679: UserWarning: Boolean Series key will be reindexed to match DataFrame index.\n",
      "  \n"
     ]
    },
    {
     "name": "stdout",
     "output_type": "stream",
     "text": [
      "BTI410785245\n",
      "----- Mes 5 -----\n",
      "Correlacao:  True\n",
      "Potencia negativa: \n",
      " dias: 0 \n",
      " minutos: 0\n",
      "Potencia negativa zerada: \n",
      " dias: 0 \n",
      " minutos: 0\n",
      "Sumarização do fasorial:  [0, 0, 0, 0, 0, 0.0, 0, 0, 0, 0, 0, 0]\n",
      "Severidade fasorial:  0\n",
      "BTI410785245\n",
      "----- Mes 6 -----\n",
      "Correlacao:  True\n",
      "Potencia negativa: \n",
      " dias: 0 \n",
      " minutos: 0\n",
      "Potencia negativa zerada: \n",
      " dias: 0 \n",
      " minutos: 0\n",
      "Sumarização do fasorial:  [0, 0, 0, 0, 0, 0.0, 0, 0, 0, 0, 0, 0]\n",
      "Severidade fasorial:  0\n",
      "BTI410785245\n",
      "----- Mes 7 -----\n",
      "Correlacao:  True\n",
      "Potencia negativa: \n",
      " dias: 0 \n",
      " minutos: 0\n",
      "Potencia negativa zerada: \n",
      " dias: 0 \n",
      " minutos: 0\n",
      "Sumarização do fasorial:  [0, 0, 0, 0, 0, 0.0, 0, 0, 0, 0, 0, 0]\n",
      "Severidade fasorial:  0\n",
      "{5: Timestamp('2019-05-31 00:00:00'), 6: Timestamp('2019-06-30 00:00:00'), 7: Timestamp('2019-07-31 00:00:00')}\n"
     ]
    },
    {
     "name": "stderr",
     "output_type": "stream",
     "text": [
      "/home/ubuntu/data/code/thm_fd/src/lib/mainlib.py:679: UserWarning: Boolean Series key will be reindexed to match DataFrame index.\n",
      "  \n",
      "/home/ubuntu/data/code/thm_fd/src/lib/mainlib.py:679: UserWarning: Boolean Series key will be reindexed to match DataFrame index.\n",
      "  \n",
      "/home/ubuntu/data/code/thm_fd/src/lib/mainlib.py:679: UserWarning: Boolean Series key will be reindexed to match DataFrame index.\n",
      "  \n"
     ]
    },
    {
     "name": "stdout",
     "output_type": "stream",
     "text": [
      "BTI400267880\n",
      "----- Mes 5 -----\n",
      "Correlacao:  True\n",
      "Potencia negativa: \n",
      " dias: 0 \n",
      " minutos: 0\n",
      "Potencia negativa zerada: \n",
      " dias: 0 \n",
      " minutos: 0\n",
      "Sumarização do fasorial:  [0, 0, 0, 0, 14, 6315, 0, 0, 0, 0, 0, 0]\n",
      "Severidade fasorial:  1\n",
      "BTI400267880\n",
      "----- Mes 6 -----\n",
      "Correlacao:  True\n",
      "Potencia negativa: \n",
      " dias: 0 \n",
      " minutos: 0\n",
      "Potencia negativa zerada: \n",
      " dias: 0 \n",
      " minutos: 0\n",
      "Sumarização do fasorial:  [0, 0, 0, 0, 0, 0, 0, 0, 0, 0, 0, 0]\n",
      "Severidade fasorial:  0\n",
      "BTI400267880\n",
      "----- Mes 7 -----\n",
      "Correlacao:  True\n",
      "Potencia negativa: \n",
      " dias: 0 \n",
      " minutos: 0\n",
      "Potencia negativa zerada: \n",
      " dias: 0 \n",
      " minutos: 0\n",
      "Sumarização do fasorial:  [0, 0, 0, 0, 20, 9405, 0, 0, 0, 0, 0, 0]\n",
      "Severidade fasorial:  1\n",
      "{5: Timestamp('2019-05-31 00:00:00'), 6: Timestamp('2019-06-30 00:00:00'), 7: Timestamp('2019-07-31 00:00:00')}\n"
     ]
    },
    {
     "name": "stderr",
     "output_type": "stream",
     "text": [
      "/home/ubuntu/data/code/thm_fd/src/lib/mainlib.py:679: UserWarning: Boolean Series key will be reindexed to match DataFrame index.\n",
      "  \n",
      "/home/ubuntu/data/code/thm_fd/src/lib/mainlib.py:679: UserWarning: Boolean Series key will be reindexed to match DataFrame index.\n",
      "  \n"
     ]
    },
    {
     "name": "stdout",
     "output_type": "stream",
     "text": [
      "BTI412503260\n",
      "----- Mes 5 -----\n",
      "Correlacao:  True\n",
      "Potencia negativa: \n",
      " dias: 0 \n",
      " minutos: 0\n",
      "Potencia negativa zerada: \n",
      " dias: 0 \n",
      " minutos: 0\n",
      "Sumarização do fasorial:  [0, 0, 0, 0, 0, 0, 1, 45, 0, 0, 0, 0]\n",
      "Severidade fasorial:  1\n",
      "BTI412503260\n",
      "----- Mes 6 -----\n",
      "Correlacao:  True\n",
      "Potencia negativa: \n",
      " dias: 0 \n",
      " minutos: 0\n",
      "Potencia negativa zerada: \n",
      " dias: 0 \n",
      " minutos: 0\n",
      "Sumarização do fasorial:  [0, 0, 0, 0, 0, 0, 0, 0, 0, 0, 0, 0]\n",
      "Severidade fasorial:  0\n",
      "BTI412503260\n",
      "----- Mes 7 -----\n",
      "Correlacao:  True\n",
      "Potencia negativa: \n",
      " dias: 0 \n",
      " minutos: 0\n",
      "Potencia negativa zerada: \n",
      " dias: 0 \n",
      " minutos: 0\n",
      "Sumarização do fasorial:  [0, 0, 0, 0, 0, 0, 0, 0, 0, 0, 0, 0]\n",
      "Severidade fasorial:  0\n"
     ]
    },
    {
     "name": "stderr",
     "output_type": "stream",
     "text": [
      "/home/ubuntu/data/code/thm_fd/src/lib/mainlib.py:679: UserWarning: Boolean Series key will be reindexed to match DataFrame index.\n",
      "  \n"
     ]
    }
   ],
   "source": [
    "o = {}\n",
    "for i in anomang:\n",
    "    _, _o = anfas(ddirs[i])\n",
    "    o.update(_o)"
   ]
  },
  {
   "cell_type": "code",
   "execution_count": 301,
   "metadata": {},
   "outputs": [
    {
     "data": {
      "text/plain": [
       "{'BTI420840649': [0, 0, 0, 0, 0, 0.0, 0, 0, 0, 0, 0, 0, 0],\n",
       " 'BTI410459439': [0, 0, 0, 0, 29, 13950, 0, 0, 0, 0, 0, 0, 1],\n",
       " 'BTI420750957': [0, 0, 0, 0, 0, 0.0, 0, 0, 0, 0, 0, 0, 0],\n",
       " 'BTI410785245': [0, 0, 0, 0, 0, 0.0, 0, 0, 0, 0, 0, 0, 0],\n",
       " 'BTI400267880': [0, 0, 0, 0, 20, 9405, 0, 0, 0, 0, 0, 0, 1],\n",
       " 'BTI412503260': [0, 0, 0, 0, 0, 0, 0, 0, 0, 0, 0, 0, 0]}"
      ]
     },
     "execution_count": 301,
     "metadata": {},
     "output_type": "execute_result"
    }
   ],
   "source": [
    "o"
   ]
  },
  {
   "cell_type": "code",
   "execution_count": 302,
   "metadata": {},
   "outputs": [],
   "source": [
    "ot = pd.DataFrame(o).T"
   ]
  },
  {
   "cell_type": "code",
   "execution_count": 303,
   "metadata": {},
   "outputs": [],
   "source": [
    "cols = ['tension_zero_days', 'tension_zero_minutes', 'tension_min_days', 'tension_min_minutes', 'current_zero_days', 'current_zero_minutes',\n",
    "        'wrong_angles_days', 'wrong_angles_minutes', 'curreng_neg_days', 'curreng_neg_minutes', 'power_neg_days', 'power_neg_minutes', 'Severidade' ]"
   ]
  },
  {
   "cell_type": "code",
   "execution_count": 304,
   "metadata": {},
   "outputs": [],
   "source": [
    "ot.columns = cols"
   ]
  },
  {
   "cell_type": "code",
   "execution_count": 305,
   "metadata": {},
   "outputs": [
    {
     "data": {
      "text/html": [
       "<div>\n",
       "<style scoped>\n",
       "    .dataframe tbody tr th:only-of-type {\n",
       "        vertical-align: middle;\n",
       "    }\n",
       "\n",
       "    .dataframe tbody tr th {\n",
       "        vertical-align: top;\n",
       "    }\n",
       "\n",
       "    .dataframe thead th {\n",
       "        text-align: right;\n",
       "    }\n",
       "</style>\n",
       "<table border=\"1\" class=\"dataframe\">\n",
       "  <thead>\n",
       "    <tr style=\"text-align: right;\">\n",
       "      <th></th>\n",
       "      <th>tension_zero_days</th>\n",
       "      <th>tension_zero_minutes</th>\n",
       "      <th>tension_min_days</th>\n",
       "      <th>tension_min_minutes</th>\n",
       "      <th>current_zero_days</th>\n",
       "      <th>current_zero_minutes</th>\n",
       "      <th>wrong_angles_days</th>\n",
       "      <th>wrong_angles_minutes</th>\n",
       "      <th>curreng_neg_days</th>\n",
       "      <th>curreng_neg_minutes</th>\n",
       "      <th>power_neg_days</th>\n",
       "      <th>power_neg_minutes</th>\n",
       "      <th>Severidade</th>\n",
       "    </tr>\n",
       "  </thead>\n",
       "  <tbody>\n",
       "    <tr>\n",
       "      <th>BTI420840649</th>\n",
       "      <td>0.0</td>\n",
       "      <td>0.0</td>\n",
       "      <td>0.0</td>\n",
       "      <td>0.0</td>\n",
       "      <td>0.0</td>\n",
       "      <td>0.0</td>\n",
       "      <td>0.0</td>\n",
       "      <td>0.0</td>\n",
       "      <td>0.0</td>\n",
       "      <td>0.0</td>\n",
       "      <td>0.0</td>\n",
       "      <td>0.0</td>\n",
       "      <td>0.0</td>\n",
       "    </tr>\n",
       "    <tr>\n",
       "      <th>BTI410459439</th>\n",
       "      <td>0.0</td>\n",
       "      <td>0.0</td>\n",
       "      <td>0.0</td>\n",
       "      <td>0.0</td>\n",
       "      <td>29.0</td>\n",
       "      <td>13950.0</td>\n",
       "      <td>0.0</td>\n",
       "      <td>0.0</td>\n",
       "      <td>0.0</td>\n",
       "      <td>0.0</td>\n",
       "      <td>0.0</td>\n",
       "      <td>0.0</td>\n",
       "      <td>1.0</td>\n",
       "    </tr>\n",
       "    <tr>\n",
       "      <th>BTI420750957</th>\n",
       "      <td>0.0</td>\n",
       "      <td>0.0</td>\n",
       "      <td>0.0</td>\n",
       "      <td>0.0</td>\n",
       "      <td>0.0</td>\n",
       "      <td>0.0</td>\n",
       "      <td>0.0</td>\n",
       "      <td>0.0</td>\n",
       "      <td>0.0</td>\n",
       "      <td>0.0</td>\n",
       "      <td>0.0</td>\n",
       "      <td>0.0</td>\n",
       "      <td>0.0</td>\n",
       "    </tr>\n",
       "    <tr>\n",
       "      <th>BTI410785245</th>\n",
       "      <td>0.0</td>\n",
       "      <td>0.0</td>\n",
       "      <td>0.0</td>\n",
       "      <td>0.0</td>\n",
       "      <td>0.0</td>\n",
       "      <td>0.0</td>\n",
       "      <td>0.0</td>\n",
       "      <td>0.0</td>\n",
       "      <td>0.0</td>\n",
       "      <td>0.0</td>\n",
       "      <td>0.0</td>\n",
       "      <td>0.0</td>\n",
       "      <td>0.0</td>\n",
       "    </tr>\n",
       "    <tr>\n",
       "      <th>BTI400267880</th>\n",
       "      <td>0.0</td>\n",
       "      <td>0.0</td>\n",
       "      <td>0.0</td>\n",
       "      <td>0.0</td>\n",
       "      <td>20.0</td>\n",
       "      <td>9405.0</td>\n",
       "      <td>0.0</td>\n",
       "      <td>0.0</td>\n",
       "      <td>0.0</td>\n",
       "      <td>0.0</td>\n",
       "      <td>0.0</td>\n",
       "      <td>0.0</td>\n",
       "      <td>1.0</td>\n",
       "    </tr>\n",
       "    <tr>\n",
       "      <th>BTI412503260</th>\n",
       "      <td>0.0</td>\n",
       "      <td>0.0</td>\n",
       "      <td>0.0</td>\n",
       "      <td>0.0</td>\n",
       "      <td>0.0</td>\n",
       "      <td>0.0</td>\n",
       "      <td>0.0</td>\n",
       "      <td>0.0</td>\n",
       "      <td>0.0</td>\n",
       "      <td>0.0</td>\n",
       "      <td>0.0</td>\n",
       "      <td>0.0</td>\n",
       "      <td>0.0</td>\n",
       "    </tr>\n",
       "  </tbody>\n",
       "</table>\n",
       "</div>"
      ],
      "text/plain": [
       "              tension_zero_days  tension_zero_minutes  tension_min_days  \\\n",
       "BTI420840649                0.0                   0.0               0.0   \n",
       "BTI410459439                0.0                   0.0               0.0   \n",
       "BTI420750957                0.0                   0.0               0.0   \n",
       "BTI410785245                0.0                   0.0               0.0   \n",
       "BTI400267880                0.0                   0.0               0.0   \n",
       "BTI412503260                0.0                   0.0               0.0   \n",
       "\n",
       "              tension_min_minutes  current_zero_days  current_zero_minutes  \\\n",
       "BTI420840649                  0.0                0.0                   0.0   \n",
       "BTI410459439                  0.0               29.0               13950.0   \n",
       "BTI420750957                  0.0                0.0                   0.0   \n",
       "BTI410785245                  0.0                0.0                   0.0   \n",
       "BTI400267880                  0.0               20.0                9405.0   \n",
       "BTI412503260                  0.0                0.0                   0.0   \n",
       "\n",
       "              wrong_angles_days  wrong_angles_minutes  curreng_neg_days  \\\n",
       "BTI420840649                0.0                   0.0               0.0   \n",
       "BTI410459439                0.0                   0.0               0.0   \n",
       "BTI420750957                0.0                   0.0               0.0   \n",
       "BTI410785245                0.0                   0.0               0.0   \n",
       "BTI400267880                0.0                   0.0               0.0   \n",
       "BTI412503260                0.0                   0.0               0.0   \n",
       "\n",
       "              curreng_neg_minutes  power_neg_days  power_neg_minutes  \\\n",
       "BTI420840649                  0.0             0.0                0.0   \n",
       "BTI410459439                  0.0             0.0                0.0   \n",
       "BTI420750957                  0.0             0.0                0.0   \n",
       "BTI410785245                  0.0             0.0                0.0   \n",
       "BTI400267880                  0.0             0.0                0.0   \n",
       "BTI412503260                  0.0             0.0                0.0   \n",
       "\n",
       "              Severidade  \n",
       "BTI420840649         0.0  \n",
       "BTI410459439         1.0  \n",
       "BTI420750957         0.0  \n",
       "BTI410785245         0.0  \n",
       "BTI400267880         1.0  \n",
       "BTI412503260         0.0  "
      ]
     },
     "execution_count": 305,
     "metadata": {},
     "output_type": "execute_result"
    }
   ],
   "source": [
    "ot"
   ]
  },
  {
   "cell_type": "code",
   "execution_count": 306,
   "metadata": {},
   "outputs": [],
   "source": [
    "ot.to_csv('../../outputs/anomang.csv')"
   ]
  }
 ],
 "metadata": {
  "kernelspec": {
   "display_name": "tf",
   "language": "python",
   "name": "tf"
  },
  "language_info": {
   "codemirror_mode": {
    "name": "ipython",
    "version": 3
   },
   "file_extension": ".py",
   "mimetype": "text/x-python",
   "name": "python",
   "nbconvert_exporter": "python",
   "pygments_lexer": "ipython3",
   "version": "3.6.5"
  }
 },
 "nbformat": 4,
 "nbformat_minor": 2
}
