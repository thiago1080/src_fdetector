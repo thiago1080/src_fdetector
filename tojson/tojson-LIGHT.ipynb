{
 "cells": [
  {
   "cell_type": "code",
   "execution_count": 1,
   "metadata": {},
   "outputs": [],
   "source": [
    "import numpy as np\n",
    "import json\n",
    "import os\n",
    "from os.path import join"
   ]
  },
  {
   "cell_type": "code",
   "execution_count": 2,
   "metadata": {},
   "outputs": [],
   "source": [
    "PATH1 = '/home/ubuntu/data/data/maio_2019/fas-sep/'\n",
    "PATH2 = '/home/ubuntu/data/data/maio_2019/setembro/fas-sep/'\n",
    "PATH3 = '/home/ubuntu/data/data/EDP-ES/json/'"
   ]
  },
  {
   "cell_type": "raw",
   "metadata": {},
   "source": [
    "with open('../../info/info.json') as f:\n",
    "    info = json.load(f)\n",
    "    PATH = info['paths']['fasoriais']['input']\n",
    "    OUTPUT_PATH = info['paths']['fasoriais']['output']\n",
    "    PROCESSED_PATH = info['paths']['fasoriais']['processed']\n",
    "print(PATH, OUTPUT_PATH, PROCESSED_PATH)"
   ]
  },
  {
   "cell_type": "code",
   "execution_count": 3,
   "metadata": {},
   "outputs": [],
   "source": [
    "cols_fasorial = ['ponto_medicao',   'serial',    \n",
    "                 'RTC', 'RTP',  'KE',    \n",
    "                 'data',    \n",
    "                 'IA',  'IB', 'IC',   \n",
    "                 'AIA', 'AIB', 'AIC',\n",
    "                 'VA',  'VB', 'VC',\n",
    "                 'AVA', 'AVB', 'AVC',\n",
    "                 'VAB', 'VBC', 'VAC',\n",
    "                 'AVAB','AVBC', 'AVAC',\n",
    "                 'PA',  'PB', 'PC',\n",
    "                 'FPA', 'FPB', 'FPC',\n",
    "                 'DH',  'FREQ', 'SEQ',\n",
    "                 'DEMAND_C1', 'DEMAND_C2', 'DEMAND_C3',\n",
    "                 'TOT_C1', 'TOT_C2', 'TOT_C3',\n",
    "                 'DEM_INTERVAL']"
   ]
  },
  {
   "cell_type": "code",
   "execution_count": 4,
   "metadata": {},
   "outputs": [],
   "source": [
    "cols_fasorial_concat = ['data', 'ponto_medicao', 'serial',\n",
    "                        'RTC', 'RTP',\n",
    "                        'KE',\n",
    "                        'IA', 'IB', 'IC',\n",
    "                        'AIA', 'AIB', 'AIC',\n",
    "                        'VA', 'VB', 'VC',\n",
    "                        'AVA', 'AVB', 'AVC',\n",
    "                        'VAB', 'VBC', 'VAC',\n",
    "                        'AVAB', 'AVBC', 'AVAC',\n",
    "                        'PA', 'PB', 'PC',\n",
    "                        'FPA', 'FPB', 'FPC',\n",
    "                        'DH', 'FREQ', 'SEQ',\n",
    "                        'DEMAND_C1', 'DEMAND_C2', 'DEMAND_C3',\n",
    "                        'TOT_C1', 'TOT_C2', 'TOT_C3',\n",
    "                        'DEM_INTERVAL']"
   ]
  },
  {
   "cell_type": "code",
   "execution_count": 5,
   "metadata": {},
   "outputs": [],
   "source": [
    "types_fasorial = {\n",
    "    'serial':\"int64\",\n",
    "    'IA':\"int64\",\n",
    "    'IB':\"int64\",\n",
    "    'IC':\"int64\",\n",
    "    'AIA':\"int64\",\n",
    "    'AIB':\"int64\",\n",
    "    'AIC':\"int64\",\n",
    "    'VA':\"int64\",\n",
    "    'VB':\"int64\",\n",
    "    'VC':\"int64\",\n",
    "    'AVA':\"int64\",\n",
    "    'AVB':\"int64\",\n",
    "    'AVC':\"int64\",\n",
    "    'VAB':\"int64\",\n",
    "    'VBC':\"float64\",\n",
    "    'VAC':\"float64\",\n",
    "    'AVAB':\"float64\",\n",
    "    'AVBC':\"float64\",\n",
    "    'AVAC':\"float64\",\n",
    "    'PA':\"float64\",\n",
    "    'PB':\"float64\",\n",
    "    'PC':\"float64\",\n",
    "    'FPA':\"float64\",\n",
    "    'FPB':\"float64\",\n",
    "    'FPC':\"float64\",\n",
    "    'DH':\"float64\",\n",
    "    'FREQ':\"float64\",\n",
    "    'SEQ':\"float64\",\n",
    "    'DEMAND_C1':\"float64\",\n",
    "    'DEMAND_C2':\"float64\",\n",
    "    'DEMAND_C3':\"float64\",\n",
    "    'TOT_C1':\"float64\",\n",
    "    'TOT_C2':\"float64\",\n",
    "    'TOT_C3':\"float64\",\n",
    "    'DEM_INTERVAL':\"float64\",\n",
    "    }"
   ]
  },
  {
   "cell_type": "code",
   "execution_count": 6,
   "metadata": {},
   "outputs": [],
   "source": [
    "fillna={'serial':'not_found', 'IA':0.001, 'IB':0.001, 'IC':0.001, 'AIA':0.001, 'AIB':0.001, 'AIC':0.001, 'VA':0.001, 'VB':0.001, 'VC':0.001,\n",
    "       'AVA':0.001, 'AVB':0.001, 'AVC':0.001, 'VAB':121, 'VBC':121, 'VAC':121, 'AVAB':0.001, 'AVBC':0.001, 'AVAC':0.001, 'PA':0.001,\n",
    "       'PB':0.001, 'PC':0.001}"
   ]
  },
  {
   "cell_type": "raw",
   "metadata": {},
   "source": [
    "todrop = ['RTC', 'RTP', 'KE','AIA', 'AIB', 'AIC','AVAB', 'AVBC', 'AVAC', 'FPA', 'FPB','FPC', 'DH', 'FREQ', 'DEMAND_C1', 'DEMAND_C2', 'DEMAND_C3','TOT_C1', 'TOT_C2', 'TOT_C3', 'DEM_INTERVAL']"
   ]
  },
  {
   "cell_type": "raw",
   "metadata": {},
   "source": [
    "#25072019\n",
    "todrop = ['RTC', 'RTP', 'KE','DH', 'FREQ', 'DEMAND_C1', 'DEMAND_C2', 'DEMAND_C3','TOT_C1', 'TOT_C2', 'TOT_C3', 'DEM_INTERVAL','FPA','FPB', 'FPC']"
   ]
  },
  {
   "cell_type": "code",
   "execution_count": 7,
   "metadata": {},
   "outputs": [],
   "source": [
    "todrop = ['RTC', 'RTP', 'KE','DH', 'FREQ', 'DEMAND_C1', 'DEMAND_C2', 'DEMAND_C3','TOT_C1', 'TOT_C2', 'TOT_C3', 'DEM_INTERVAL']"
   ]
  },
  {
   "cell_type": "code",
   "execution_count": 8,
   "metadata": {},
   "outputs": [],
   "source": [
    "out_index = [                   'Nome', 'Mês', 'Dia_leitura',\n",
    "                                'Valores faltantes_mm', 'leituras faltantes_mm',\n",
    "                                'valores_faltantes_fasorial', 'leituras_faltantes_fasorial','colunas_inconsistentes_fasorial',\n",
    "                                'Perfil cadastrado',   'Cat Ramo-ativ original','Categoria-Mês','Categorias-semanas','Diag Ramo-ativ',\n",
    "                                'Degrau','Morro',\n",
    "                                'severidade-perfil', 'severidade-fasorial',\n",
    "                                'DIAGNÓSTICO-FINAL',\n",
    "                                'Tensão zero - dias','Tensão zero - minutos',\n",
    "                                'tensão mínima (100) - dias', 'tensão mínima (100) - minutos',\n",
    "                                'corrente zero - dias', 'corrente zero -minutos',\n",
    "                                'corrente negativa - dias','corrente negativa -minutos',\n",
    "                                'potência negativa - dias','potência negativa - minutos',\n",
    "                                'anomalia de ângulos - dias', 'anomalia de ângulos - minutos'  \n",
    "                                 ]"
   ]
  },
  {
   "cell_type": "code",
   "execution_count": 9,
   "metadata": {},
   "outputs": [],
   "source": [
    "BASE_DIR1 = '/home/ubuntu/data/data/maio_2019/'"
   ]
  },
  {
   "cell_type": "code",
   "execution_count": 10,
   "metadata": {},
   "outputs": [],
   "source": [
    "BASE_DIR2 = '/home/ubuntu/data/data/maio_2019/setembro/'\n",
    "OUTPUT_DIR = '../outputs/'\n",
    "MODEL_DIR = '../../models/'\n",
    "OUT='../../outputs/all/'\n",
    "JSON_NAME = 'info-LIGHT'\n",
    "PICKLES_DIR = '../../pickles/all/'\n",
    "LOGS_DIR = '../../logs/'"
   ]
  },
  {
   "cell_type": "code",
   "execution_count": 11,
   "metadata": {},
   "outputs": [],
   "source": [
    "data={'paths':{}}\n",
    "data['paths']['output'] = OUT\n",
    "data['paths']['base_dir'] = BASE_DIR2\n",
    "data['paths']['lista'] = join(BASE_DIR1, 'lista-cad-pnt-20190528.csv')\n",
    "data['paths']['lista-set-1'] = join(BASE_DIR2,'lista-cad-pnt-20190820.csv')\n",
    "data['paths']['lista-set-2'] = join(BASE_DIR2,'lista-cad-pnt-20190820-faltantes.csv')\n",
    "\n",
    "data['paths']['fasoriais'] = {}\n",
    "data['paths']['fasoriais2'] = {}\n",
    "data['paths']['fasoriais']['input'] = BASE_DIR1 + 'fas-sep'\n",
    "data['paths']['fasoriais2']['input'] = BASE_DIR2 + 'fas-sep'\n",
    "\n",
    "data['paths']['perfis'] = {}\n",
    "data['paths']['perfis']['perfis'] = BASE_DIR2 + 'perfis_v4.csv'\n",
    "data['paths']['perfis']['horarios'] = '/home/ubuntu/data/data/maio_2019/horarios_v4.csv'\n",
    "data['paths']['perfis']['mapa'] = '/home/ubuntu/data/data/maio_2019/atividade_atividade_v2.csv'\n",
    "\n",
    "data['paths']['nn_models'] = {}\n",
    "data['paths']['nn_models']['fasorial'] = MODEL_DIR + 'rn_hc_and/rn_hc_and'\n",
    "data['paths']['nn_models']['perfil'] = MODEL_DIR + 'r2-DS110k-bs64-c11/r2-DS110k-bs64-c11' \n",
    "data['paths']['nn_models']['degrau'] = MODEL_DIR + 'degrau/degrau' \n",
    "data['paths']['nn_models']['morro'] = MODEL_DIR + 'anomalia-1_1_v2/anomalia-1_1_v2'\n",
    "\n",
    "data['paths']['mm'] = {}\n",
    "data['paths']['mm']['input'] = BASE_DIR2 + 'mm/csv_proc/#pd_mmproc_comp.csv'\n",
    "\n",
    "data['paths']['concat'] = {}\n",
    "data['paths']['concat']['mm'] = BASE_DIR1 + 'concat/mm/'\n",
    "data['paths']['concat']['fas'] = BASE_DIR1 + 'concat/fas/'\n",
    "data['paths']['concat']['pickles'] = BASE_DIR1 + 'concat/pickles/'\n",
    "\n",
    "data['paths']['processados'] = PICKLES_DIR + 'processados.pkl'\n",
    "data['paths']['erros'] = PICKLES_DIR + 'erros.pkl'\n",
    "data['paths']['adjacencias'] = '../../pickles/adjacencias.pkl'\n",
    "\n",
    "data['paths']['logs'] = LOGS_DIR"
   ]
  },
  {
   "cell_type": "code",
   "execution_count": 12,
   "metadata": {},
   "outputs": [],
   "source": [
    "data['fasorial'] = {}  \n",
    "data['fasorial']['columns'] = cols_fasorial\n",
    "data['fasorial']['types'] =  types_fasorial\n",
    "data['fasorial']['todrop'] = todrop\n",
    "data['fasorial']['fillna'] = fillna"
   ]
  },
  {
   "cell_type": "code",
   "execution_count": 13,
   "metadata": {},
   "outputs": [],
   "source": [
    "data['fasorial_concat'] = {}  \n",
    "data['fasorial_concat']['columns'] = cols_fasorial_concat"
   ]
  },
  {
   "cell_type": "code",
   "execution_count": 14,
   "metadata": {},
   "outputs": [],
   "source": [
    "data['lista'] = {} \n",
    "data['lista']['columns'] = ['cliente','instalacao','medidor',\n",
    "                            'data_inicio','data_fim',\n",
    "                            'lote', 'ssn',\n",
    "                            'dez', 'jan','fev','mar','abr',\n",
    "                            'troca']\n",
    "\n",
    "data['lista2'] = {} \n",
    "data['lista2']['columns'] = ['cliente','instalacao','medidor',\n",
    "                             'data_inicio','data_fim',\n",
    "                             'lote','ssn',\n",
    "                             4,5,6,7,\n",
    "                             'troca']"
   ]
  },
  {
   "cell_type": "code",
   "execution_count": 15,
   "metadata": {},
   "outputs": [],
   "source": [
    "data['mm'] = {}\n",
    "data['mm']['columns'] = ['cliente', 'datetime', 'valor']\n",
    "data['mm']['tipos'] = {'cliente': 'object', 'valor': 'float64' }"
   ]
  },
  {
   "cell_type": "code",
   "execution_count": 16,
   "metadata": {},
   "outputs": [],
   "source": [
    "data['output']={}\n",
    "data['output']['header'] = out_index"
   ]
  },
  {
   "cell_type": "code",
   "execution_count": 17,
   "metadata": {},
   "outputs": [],
   "source": [
    "with open('../../info/'+JSON_NAME+'.json', 'w') as outfile:  \n",
    "    json.dump(data, outfile)"
   ]
  },
  {
   "cell_type": "code",
   "execution_count": null,
   "metadata": {},
   "outputs": [],
   "source": []
  },
  {
   "cell_type": "code",
   "execution_count": null,
   "metadata": {},
   "outputs": [],
   "source": []
  }
 ],
 "metadata": {
  "kernelspec": {
   "display_name": "Python [conda env:tensorflow_p36]",
   "language": "python",
   "name": "conda-env-tensorflow_p36-py"
  },
  "language_info": {
   "codemirror_mode": {
    "name": "ipython",
    "version": 3
   },
   "file_extension": ".py",
   "mimetype": "text/x-python",
   "name": "python",
   "nbconvert_exporter": "python",
   "pygments_lexer": "ipython3",
   "version": "3.6.5"
  }
 },
 "nbformat": 4,
 "nbformat_minor": 2
}
