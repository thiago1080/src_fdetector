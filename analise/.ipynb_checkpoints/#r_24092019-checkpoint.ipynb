{
 "cells": [
  {
   "cell_type": "markdown",
   "metadata": {},
   "source": [
    "#### Reunião 24092019\n",
    "#### Problema: alguns fasoriais estão com diagnóstico de redes neurais mas não estão na lista de análise de dados faltantes.}"
   ]
  },
  {
   "cell_type": "code",
   "execution_count": 6,
   "metadata": {},
   "outputs": [],
   "source": [
    "import sys\n",
    "import os\n",
    "from os.path import join\n",
    "from os import listdir as ld\n",
    "from pathlib import Path\n",
    "sys.path.append(join(Path(os.getcwd()).parent, 'lib'))"
   ]
  },
  {
   "cell_type": "code",
   "execution_count": 10,
   "metadata": {},
   "outputs": [],
   "source": [
    "from of_proc import pload\n",
    "import pandas as pd"
   ]
  },
  {
   "cell_type": "markdown",
   "metadata": {},
   "source": [
    "-------------------------------"
   ]
  },
  {
   "cell_type": "markdown",
   "metadata": {},
   "source": [
    "##### Diag_dados -> não é Defeito falta de dados ---- faltantes fasorial -> pendente"
   ]
  },
  {
   "cell_type": "code",
   "execution_count": 22,
   "metadata": {},
   "outputs": [],
   "source": [
    "LISTA = '/home/ubuntu/data/data/maio_2019/setembro/lista-cad-pnt-20190820.csv'\n",
    "LISTAF = '/home/ubuntu/data/data/maio_2019/setembro/lista-cad-pnt-20190820-faltantes.csv'\n",
    "PATH_FAS = '/home/ubuntu/data/data/maio_2019/setembro/fas-sep'\n",
    "\n",
    "#Lista montada artesanalmente a partir da planilha excel devolvida pela análise\n",
    "fasfal4 = [\n",
    "'BTI411213516',\n",
    "'BT2A430044984',\n",
    "'BT2A414211457',\n",
    "'BT2A412744882',\n",
    "'BT2A414833048',\n",
    "'BT2A413512843',\n",
    "'BT2A413160639',\n",
    "'BTI410461665',\n",
    "'BTI410412319',\n",
    "'BTI410360627',\n",
    "'BTI410292571',\n",
    "'BTI412248434',\n",
    "'BTI410797301',\n",
    "'BTI414391923',\n",
    "'BTI411735911',\n",
    "'BTI414104114',\n",
    "'BTI413106684',\n",
    "'BTI410643727',\n",
    "'BTI420132880',\n",
    "'BTI420312451'\n",
    "]"
   ]
  },
  {
   "cell_type": "markdown",
   "metadata": {},
   "source": [
    "-------------------------------"
   ]
  },
  {
   "cell_type": "markdown",
   "metadata": {},
   "source": [
    "#### Verificar"
   ]
  },
  {
   "cell_type": "markdown",
   "metadata": {},
   "source": [
    "##### Verificar se faltantes estão na lista 1"
   ]
  },
  {
   "cell_type": "code",
   "execution_count": 17,
   "metadata": {},
   "outputs": [
    {
     "data": {
      "text/plain": [
       "0"
      ]
     },
     "execution_count": 17,
     "metadata": {},
     "output_type": "execute_result"
    }
   ],
   "source": [
    "l = pd.read_csv(LISTA).drop(0)\n",
    "lo = [i for i in fasfal4 if i  in l['CLIENTE']]\n",
    "len(lo)"
   ]
  },
  {
   "cell_type": "markdown",
   "metadata": {},
   "source": [
    "##### nenhum faltante na lista 1"
   ]
  },
  {
   "cell_type": "markdown",
   "metadata": {},
   "source": [
    "l_________________________________________________________________________________________"
   ]
  },
  {
   "cell_type": "markdown",
   "metadata": {},
   "source": [
    "##### Verificar se faltantes estão na lista 2"
   ]
  },
  {
   "cell_type": "code",
   "execution_count": 18,
   "metadata": {},
   "outputs": [
    {
     "data": {
      "text/plain": [
       "0"
      ]
     },
     "execution_count": 18,
     "metadata": {},
     "output_type": "execute_result"
    }
   ],
   "source": [
    "l2 = pd.read_csv(LISTAF)\n",
    "lo2 = [i for i in fasfal4 if i  in l2['CLIENTE']]\n",
    "len(lo2)"
   ]
  },
  {
   "cell_type": "markdown",
   "metadata": {},
   "source": [
    "##### nenhum faltante na lista 2"
   ]
  },
  {
   "cell_type": "markdown",
   "metadata": {},
   "source": [
    "l_________________________________________________________________________________________"
   ]
  },
  {
   "cell_type": "markdown",
   "metadata": {},
   "source": [
    "##### Verificar se faltantes estão entre os arquivos separados"
   ]
  },
  {
   "cell_type": "code",
   "execution_count": 19,
   "metadata": {},
   "outputs": [
    {
     "data": {
      "text/plain": [
       "20"
      ]
     },
     "execution_count": 19,
     "metadata": {},
     "output_type": "execute_result"
    }
   ],
   "source": [
    "fl = [i.split('.')[0] for i in ld(PATH_FAS)]\n",
    "lo2  = [i for i in fasfal4 if i  in fl]\n",
    "len(lo2)"
   ]
  },
  {
   "cell_type": "markdown",
   "metadata": {},
   "source": [
    "##### Todos faltantes estão presentes entre os arquivos separados"
   ]
  },
  {
   "cell_type": "markdown",
   "metadata": {},
   "source": [
    "l_________________________________________________________________________________________"
   ]
  },
  {
   "cell_type": "markdown",
   "metadata": {},
   "source": [
    "##### Verificar se faltantes estão na lista ddirs_fas"
   ]
  },
  {
   "cell_type": "code",
   "execution_count": 30,
   "metadata": {},
   "outputs": [
    {
     "data": {
      "text/plain": [
       "0"
      ]
     },
     "execution_count": 30,
     "metadata": {},
     "output_type": "execute_result"
    }
   ],
   "source": [
    "ddirs_fas = pload('../../pickles/ddirs_fas.pkl')\n",
    "lo3  = [i for i in fasfal3 if i  in ddirs_fas.keys()]\n",
    "len(lo3)"
   ]
  },
  {
   "cell_type": "markdown",
   "metadata": {},
   "source": [
    "l_________________________________________________________________________________________"
   ]
  },
  {
   "cell_type": "markdown",
   "metadata": {},
   "source": [
    "### Conclusão.\n",
    "#### As instalações me questão estão entre os arquivos mas não estão em nenhuma das duas listas.\n",
    "#### O diagnóstico de fasorial leu a partir dos arquivos, mas o diagnóstico de valores faltantes leu a partir da lista. Por isso a discrepancia."
   ]
  }
 ],
 "metadata": {
  "kernelspec": {
   "display_name": "tensoflo",
   "language": "python",
   "name": "tensorflow_p36"
  },
  "language_info": {
   "codemirror_mode": {
    "name": "ipython",
    "version": 3
   },
   "file_extension": ".py",
   "mimetype": "text/x-python",
   "name": "python",
   "nbconvert_exporter": "python",
   "pygments_lexer": "ipython3",
   "version": "3.6.5"
  }
 },
 "nbformat": 4,
 "nbformat_minor": 2
}
