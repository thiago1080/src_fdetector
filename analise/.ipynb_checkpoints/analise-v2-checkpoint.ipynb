{
 "cells": [
  {
   "cell_type": "markdown",
   "metadata": {},
   "source": [
    "<h3> Métricas </h3>\n",
    "<li> <b>Accuracy</b>: Proporção de acertos\n",
    "    <li> <b>Recall</b>: Número de fraudes detectadas em relação ao número total de fraudes\n",
    "      <li> <b>F1 Score</b>:  Métrica que combina Accuracy e Recall (importante principalmente em datasets não equilibrados)\n",
    "          \n",
    "<ft>https://medium.com/@vitorborbarodrigues/métricas-de-avaliação-acurácia-precisão-recall-quais-as-diferenças-c8f05e0a513c</ft>"
   ]
  },
  {
   "cell_type": "markdown",
   "metadata": {},
   "source": [
    "### Importações"
   ]
  },
  {
   "cell_type": "code",
   "execution_count": 125,
   "metadata": {},
   "outputs": [],
   "source": [
    "import os\n",
    "import pandas as pd\n",
    "import numpy as np"
   ]
  },
  {
   "cell_type": "markdown",
   "metadata": {},
   "source": [
    "### Ler dataframes"
   ]
  },
  {
   "cell_type": "markdown",
   "metadata": {},
   "source": [
    "#### l____________________________________________________________________________________________________________________"
   ]
  },
  {
   "cell_type": "code",
   "execution_count": 126,
   "metadata": {},
   "outputs": [],
   "source": [
    "gt = pd.read_csv('../data/groundtruth.csv',sep=';')"
   ]
  },
  {
   "cell_type": "code",
   "execution_count": 127,
   "metadata": {},
   "outputs": [],
   "source": [
    "pc='../../fdetector/outputs/concat/'\n",
    "pn='../../fdetector/outputs/all/'\n",
    "\n",
    "def readcsvs(dire):\n",
    "    o = pd.DataFrame()\n",
    "    for f in os.listdir(dire):\n",
    "        if f.split('.')[-1]=='csv':\n",
    "            o = pd.concat( (o, pd.read_csv(os.path.join(dire,f))),axis=0)\n",
    "    return o\n",
    "\n",
    "oc = readcsvs(pc)\n",
    "on = readcsvs(pn)\n",
    "o = pd.concat( (oc,on), axis=0)"
   ]
  },
  {
   "cell_type": "markdown",
   "metadata": {},
   "source": [
    "### Checagem"
   ]
  },
  {
   "cell_type": "code",
   "execution_count": 5,
   "metadata": {},
   "outputs": [
    {
     "data": {
      "text/html": [
       "<div>\n",
       "<style scoped>\n",
       "    .dataframe tbody tr th:only-of-type {\n",
       "        vertical-align: middle;\n",
       "    }\n",
       "\n",
       "    .dataframe tbody tr th {\n",
       "        vertical-align: top;\n",
       "    }\n",
       "\n",
       "    .dataframe thead th {\n",
       "        text-align: right;\n",
       "    }\n",
       "</style>\n",
       "<table border=\"1\" class=\"dataframe\">\n",
       "  <thead>\n",
       "    <tr style=\"text-align: right;\">\n",
       "      <th></th>\n",
       "      <th>Unnamed: 0</th>\n",
       "      <th>Nome</th>\n",
       "      <th>Mês</th>\n",
       "      <th>Dia_leitura</th>\n",
       "      <th>Valores faltantes_mm</th>\n",
       "      <th>leituras faltantes_mm</th>\n",
       "      <th>valores_faltantes_fasorial</th>\n",
       "      <th>leituras_faltantes_fasorial</th>\n",
       "      <th>colunas_inconsistentes_fasorial</th>\n",
       "      <th>Perfil cadastrado</th>\n",
       "      <th>...</th>\n",
       "      <th>tensão mínima (100) - dias</th>\n",
       "      <th>tensão mínima (100) - minutos</th>\n",
       "      <th>corrente zero - dias</th>\n",
       "      <th>corrente zero -minutos</th>\n",
       "      <th>corrente negativa - dias</th>\n",
       "      <th>corrente negativa -minutos</th>\n",
       "      <th>potência negativa - dias</th>\n",
       "      <th>potência negativa - minutos</th>\n",
       "      <th>anomalia de ângulos - dias</th>\n",
       "      <th>anomalia de ângulos - minutos</th>\n",
       "    </tr>\n",
       "  </thead>\n",
       "  <tbody>\n",
       "  </tbody>\n",
       "</table>\n",
       "<p>0 rows × 29 columns</p>\n",
       "</div>"
      ],
      "text/plain": [
       "Empty DataFrame\n",
       "Columns: [Unnamed: 0, Nome, Mês, Dia_leitura, Valores faltantes_mm, leituras faltantes_mm, valores_faltantes_fasorial, leituras_faltantes_fasorial, colunas_inconsistentes_fasorial, Perfil cadastrado, Categoria-Mês, Categorias-semanas, Degrau, Morro, severidade-perfil, severidade-fasorial, DIAGNÓSTICO-FINAL, Tensão zero - dias, Tensão zero - minutos, tensão mínima (100) - dias, tensão mínima (100) - minutos, corrente zero - dias, corrente zero -minutos, corrente negativa - dias, corrente negativa -minutos, potência negativa - dias, potência negativa - minutos, anomalia de ângulos - dias, anomalia de ângulos - minutos]\n",
       "Index: []\n",
       "\n",
       "[0 rows x 29 columns]"
      ]
     },
     "execution_count": 5,
     "metadata": {},
     "output_type": "execute_result"
    }
   ],
   "source": [
    "#Deve retornar vazio\n",
    "o[~o['Nome'].isin(gt['Ponto de medicao'])]"
   ]
  },
  {
   "cell_type": "markdown",
   "metadata": {},
   "source": [
    "#### l____________________________________________________________________________________________________________________"
   ]
  },
  {
   "cell_type": "markdown",
   "metadata": {},
   "source": [
    "### Selecionar abordagem\n",
    "<p>\n",
    "    <li> Abordagem 1: 'NADA APURADO' => 0 ,restante 1 (porém conserva rótulos para observação)\n",
    "    <li> Abodagem 2: 1 para Fraude ou defeito com perda.\n",
    "    <li> Abordagem 3: 1 apenas para fraude\n",
    "</p>"
   ]
  },
  {
   "cell_type": "code",
   "execution_count": 6,
   "metadata": {},
   "outputs": [],
   "source": [
    "global mapgt\n",
    "mapgt= [\n",
    "{'NADA APURADO':0, 'LOCAL VAZIO/ DESATIVADO':1, 'CLIENTE DESLIGADO OU CORTADO':2, 'DEFEITO SEM PERDA':3, 'DEFEITO GEROU PERDA':4 ,  'FRAUDE CONSTATADA':5},\n",
    "{'NADA APURADO':0, 'LOCAL VAZIO/ DESATIVADO':0, 'CLIENTE DESLIGADO OU CORTADO':0, 'DEFEITO SEM PERDA':0, 'DEFEITO GEROU PERDA':1 ,  'FRAUDE CONSTATADA':1},\n",
    "{'NADA APURADO':0, 'LOCAL VAZIO/ DESATIVADO':0, 'CLIENTE DESLIGADO OU CORTADO':0, 'DEFEITO SEM PERDA':0, 'DEFEITO GEROU PERDA':0 ,  'FRAUDE CONSTATADA':1}\n",
    "]    \n"
   ]
  },
  {
   "cell_type": "markdown",
   "metadata": {},
   "source": [
    "##### Escolher forma de selecionar os diagnśoticos"
   ]
  },
  {
   "cell_type": "code",
   "execution_count": 7,
   "metadata": {},
   "outputs": [],
   "source": [
    "\n",
    "def thresh(d,t):\n",
    "    d2 = d.copy()\n",
    "    for i in range(0,t):\n",
    "        if i in d2:\n",
    "            d2[i]=0\n",
    "    return d2\n"
   ]
  },
  {
   "cell_type": "markdown",
   "metadata": {},
   "source": [
    "Escolher diag de 2 a 4"
   ]
  },
  {
   "cell_type": "code",
   "execution_count": 8,
   "metadata": {},
   "outputs": [
    {
     "data": {
      "text/plain": [
       "{0: 0, 1: 0, 2: 0, 3: 3, 4: 4}"
      ]
     },
     "execution_count": 8,
     "metadata": {},
     "output_type": "execute_result"
    }
   ],
   "source": [
    "global diags0\n",
    "diags0={0:0, 1:1, 2:2, 3:3, 4:4}\n",
    "diag=3\n",
    "diags=thresh(diags0,diag)\n",
    "diags"
   ]
  },
  {
   "cell_type": "markdown",
   "metadata": {},
   "source": [
    "##### Selecionar abordagem abaixo (0,1 ou 2)"
   ]
  },
  {
   "cell_type": "code",
   "execution_count": 9,
   "metadata": {},
   "outputs": [],
   "source": [
    "abordagem = 2\n",
    "labels = mapgt[abordagem]"
   ]
  },
  {
   "cell_type": "markdown",
   "metadata": {},
   "source": [
    "### Preparar datasets"
   ]
  },
  {
   "cell_type": "code",
   "execution_count": 213,
   "metadata": {},
   "outputs": [],
   "source": [
    "def acc(o,gt,abordagem, diag, consider_nan=True):\n",
    "    val = 0 if consider_nan else 9\n",
    "    labels = mapgt[abordagem]    \n",
    "    diags=thresh(diags0,diag)\n",
    "    o2, gt2 = o.copy(), gt.copy()\n",
    "    o2=o2.set_index('Nome').loc[:,'DIAGNÓSTICO-FINAL'].groupby(level=0).max().sort_index()\n",
    "    gt2 = gt2.set_index('Ponto de medicao').sort_index().loc[:,'Retorno de campo'].map(labels)\n",
    "    gtd=gt2.to_dict()\n",
    "\n",
    "    #criar dfo que tem o groundtruth e o diagnostico. Eliminar nan (9) pode ser qualquer valor.\n",
    "    dfo = pd.DataFrame(o2)\n",
    "    dfo.insert(loc=0,value=dfo.index.map(gtd), column='gt')\n",
    "    dfo.fillna(value=val,inplace=True)\n",
    "    dfo=dfo[dfo['gt']!=9]\n",
    "    dfo.columns = ['gt', 'diag']\n",
    "    dfo['diag']=dfo['diag'].map(diags)\n",
    "\n",
    "    #Deixar 0 e 1 para fazer análise com duas classses apenas\n",
    "    dfo1=dfo.applymap(lambda x: 1 if x>0 else 0)\n",
    "\n",
    "    #valores que 'batem' serão 1. Senão 0.\n",
    "    dfo1.insert(loc=0, column='acerto', value=dfo1[['gt','diag']].apply((lambda x: 1 if x[0]==x[1] else 0),axis=1)) \n",
    "    return dfo1"
   ]
  },
  {
   "cell_type": "markdown",
   "metadata": {},
   "source": [
    "# Resultados e análise"
   ]
  },
  {
   "cell_type": "markdown",
   "metadata": {},
   "source": [
    "#### Considerando postivos casos apontados como fraude constatada e defeito que gerou perda\n",
    "#### Não considerando valores em branco na planilha da Light."
   ]
  },
  {
   "cell_type": "code",
   "execution_count": 214,
   "metadata": {},
   "outputs": [],
   "source": [
    "dfo = acc(o,gt,1,0,consider_nan=False)"
   ]
  },
  {
   "cell_type": "code",
   "execution_count": 215,
   "metadata": {},
   "outputs": [
    {
     "name": "stdout",
     "output_type": "stream",
     "text": [
      "Acurácia: 0.83%\n",
      "Recall: 0.96%\n",
      "F1: 0.91%\n",
      "\n"
     ]
    }
   ],
   "source": [
    "print('Acurácia: {:.2f}%\\nRecall: {:.2f}%\\nF1: {:.2f}%\\n'.format(\n",
    "       skm.accuracy_score(dfo['gt'], dfo['diag']),\n",
    "       skm.recall_score(dfo['gt'], dfo['diag']),\n",
    "       skm.f1_score(dfo['gt'], dfo['diag'])))"
   ]
  },
  {
   "cell_type": "markdown",
   "metadata": {},
   "source": [
    "#### Instalações com erros na detecção"
   ]
  },
  {
   "cell_type": "code",
   "execution_count": 217,
   "metadata": {},
   "outputs": [
    {
     "name": "stdout",
     "output_type": "stream",
     "text": [
      "Instalações com erros na detecção: \n",
      "\n",
      "BT2A410102348\n",
      "BT2A410394364\n",
      "BT2A412948154\n",
      "BTI400290823\n",
      "BTI400295604\n",
      "BTI400355240\n",
      "BTI410142552\n",
      "BTI410166160\n",
      "BTI410446606\n",
      "BTI410458978\n",
      "BTI410583468\n",
      "BTI410722548\n",
      "BTI410732088\n",
      "BTI411040881\n",
      "BTI411136763\n",
      "BTI411140720\n",
      "BTI411337526\n",
      "BTI411655117\n",
      "BTI411981177\n",
      "BTI412305424\n",
      "BTI412506733\n",
      "BTI412760739\n",
      "BTI413006417\n",
      "BTI413445374\n",
      "BTI413501453\n",
      "BTI413791784\n",
      "BTI414239708\n",
      "BTI414295413\n",
      "BTI414805933\n",
      "BTI420070269\n",
      "BTI420410037\n",
      "BTI420429197\n",
      "BTI420739199\n",
      "BTI420859093\n",
      "BTI420908438\n",
      "BTI421158453\n"
     ]
    }
   ],
   "source": [
    "tmp = dfo[dfo['acerto']==0]\n",
    "print('Instalações com erros na detecção: \\n')\n",
    "for i in list(tmp.index):\n",
    "    print(i)"
   ]
  },
  {
   "cell_type": "markdown",
   "metadata": {},
   "source": [
    "#### Falsos negativos"
   ]
  },
  {
   "cell_type": "code",
   "execution_count": 218,
   "metadata": {},
   "outputs": [
    {
     "name": "stdout",
     "output_type": "stream",
     "text": [
      "Falsos negativos: \n",
      "\n",
      "BT2A412948154\n",
      "BTI410166160\n",
      "BTI410458978\n",
      "BTI410722548\n",
      "BTI411981177\n",
      "BTI412506733\n",
      "BTI414239708\n",
      "BTI421158453\n"
     ]
    }
   ],
   "source": [
    "fn=tmp[tmp['diag']==0]\n",
    "print('Falsos negativos: \\n')\n",
    "for i in (list(fn.index)):\n",
    "    print(i)"
   ]
  },
  {
   "cell_type": "markdown",
   "metadata": {},
   "source": [
    "#### Falsos positivos"
   ]
  },
  {
   "cell_type": "code",
   "execution_count": 219,
   "metadata": {},
   "outputs": [
    {
     "name": "stdout",
     "output_type": "stream",
     "text": [
      "Falsos positivos: \n",
      "\n",
      "BT2A410102348\n",
      "BT2A410394364\n",
      "BTI400290823\n",
      "BTI400295604\n",
      "BTI400355240\n",
      "BTI410142552\n",
      "BTI410446606\n",
      "BTI410583468\n",
      "BTI410732088\n",
      "BTI411040881\n",
      "BTI411136763\n",
      "BTI411140720\n",
      "BTI411337526\n",
      "BTI411655117\n",
      "BTI412305424\n",
      "BTI412760739\n",
      "BTI413006417\n",
      "BTI413445374\n",
      "BTI413501453\n",
      "BTI413791784\n",
      "BTI414295413\n",
      "BTI414805933\n",
      "BTI420070269\n",
      "BTI420410037\n",
      "BTI420429197\n",
      "BTI420739199\n",
      "BTI420859093\n",
      "BTI420908438\n"
     ]
    }
   ],
   "source": [
    "fp=tmp[tmp['diag']==1]\n",
    "print('Falsos positivos: \\n')\n",
    "for i in (list(fp.index)):\n",
    "    print(i)"
   ]
  },
  {
   "cell_type": "markdown",
   "metadata": {},
   "source": [
    "#### Considerando postivos casos apontados como fraude constatada e defeito que gerou perda\n",
    "#### Considerando valores em branco na planilha da Light como sendo \"sem perda\""
   ]
  },
  {
   "cell_type": "code",
   "execution_count": 220,
   "metadata": {},
   "outputs": [],
   "source": [
    "dfo= acc(o,gt,1,0,consider_nan=True)"
   ]
  },
  {
   "cell_type": "code",
   "execution_count": 221,
   "metadata": {},
   "outputs": [
    {
     "name": "stdout",
     "output_type": "stream",
     "text": [
      "Acurácia: 0.46%\n",
      "Recall: 0.96%\n",
      "F1: 0.29%\n",
      "\n"
     ]
    }
   ],
   "source": [
    "print('Acurácia: {:.2f}%\\nRecall: {:.2f}%\\nF1: {:.2f}%\\n'.format(\n",
    "      skm.accuracy_score(dfo['gt'], dfo['diag']),\n",
    "      skm.recall_score(dfo['gt'], dfo['diag']),\n",
    "      skm.f1_score(dfo['gt'], dfo['diag'])))"
   ]
  }
 ],
 "metadata": {
  "kernelspec": {
   "display_name": "Python [conda env:tensorflow_p36]",
   "language": "python",
   "name": "conda-env-tensorflow_p36-py"
  },
  "language_info": {
   "codemirror_mode": {
    "name": "ipython",
    "version": 3
   },
   "file_extension": ".py",
   "mimetype": "text/x-python",
   "name": "python",
   "nbconvert_exporter": "python",
   "pygments_lexer": "ipython3",
   "version": "3.6.5"
  }
 },
 "nbformat": 4,
 "nbformat_minor": 2
}
