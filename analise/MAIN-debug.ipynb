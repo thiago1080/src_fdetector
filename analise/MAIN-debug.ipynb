{
 "cells": [
  {
   "cell_type": "code",
   "execution_count": 1,
   "metadata": {},
   "outputs": [],
   "source": [
    "import sys\n",
    "import os\n",
    "from os.path import join\n",
    "from os import listdir as ld\n",
    "from pathlib import Path\n",
    "sys.path.append(join(Path(os.getcwd()).parent, 'lib'))"
   ]
  },
  {
   "cell_type": "code",
   "execution_count": 2,
   "metadata": {},
   "outputs": [
    {
     "name": "stderr",
     "output_type": "stream",
     "text": [
      "Using TensorFlow backend.\n"
     ]
    }
   ],
   "source": [
    "%matplotlib inline\n",
    "\n",
    "import json\n",
    "import os\n",
    "import pandas as pd\n",
    "import re\n",
    "import numpy as np\n",
    "import pickle\n",
    "import collections\n",
    "from importlib import reload\n",
    "from  mainlib import fasorial, lista, sdict, mm, mm_sep\n",
    "from unidecode import unidecode\n",
    "from of_proc import *\n",
    "from os.path import join\n",
    "from os import listdir as ld\n",
    "from unidecode import unidecode\n",
    "from matplotlib import pyplot as plt"
   ]
  },
  {
   "cell_type": "markdown",
   "metadata": {},
   "source": [
    "# Informações"
   ]
  },
  {
   "cell_type": "code",
   "execution_count": 3,
   "metadata": {},
   "outputs": [],
   "source": [
    "def dk(d,k=0): return list(d.values())[k]"
   ]
  },
  {
   "cell_type": "code",
   "execution_count": 4,
   "metadata": {},
   "outputs": [],
   "source": [
    "def read_info(path = '../../info/info.json'):\n",
    "    global PATH, OUTPUT_PATH, PROCESSED_PATH, PERFIS_PATH, HORARIOS_PATH, PATH_MM, PATH_FAS, \\\n",
    "    DEG, MOR, PER, FAS, OUTPUT_HEADER,FAS_CONCAT, MM_CONCAT, PICKLES_CONCAT, OUT_INDEX, COLS_LISTA\n",
    "    with open(path) as f:\n",
    "        info = json.load(f)\n",
    "        PATH_FAS = info['paths']['fasoriais2']['input']\n",
    "        PERFIS_PATH = info['paths']['perfis']['perfis']\n",
    "        HORARIOS_PATH = info['paths']['perfis']['horarios']\n",
    "        PATH_MM = info['paths']['mm']['input']\n",
    "        DEG = info['paths']['nn_models']['degrau']\n",
    "        MOR = info['paths']['nn_models']['morro']\n",
    "        PER = info['paths']['nn_models']['perfil']\n",
    "        FAS = info['paths']['nn_models']['fasorial']\n",
    "        COLS_LISTA = info['lista2']['columns']  \n",
    "        OUTPUT_HEADER = info['output']['header']\n",
    "        OUT_INDEX = info['output']['header']\n",
    "read_info()\n",
    "OUT = '../outputs/all/'\n",
    "DATA_DIR = '/home/ubuntu/data/data/maio_2019/setembro/'\n",
    "LISTA = join(DATA_DIR,'lista-cad-pnt-20190820.csv')"
   ]
  },
  {
   "cell_type": "code",
   "execution_count": 5,
   "metadata": {},
   "outputs": [],
   "source": [
    "def get_horario_info2():\n",
    "    with open('../../info/info.json') as jinfo:\n",
    "        info = json.load(jinfo)\n",
    "        HORARIOS_PATH = info['paths']['perfis']['horarios']\n",
    "        PERFIS_PATH = '/home/ubuntu/data/data/maio_2019/setembro/perfis_v3.csv'\n",
    "        ATIV_PATH = info['paths']['perfis']['mapa']\n",
    "\n",
    "\n",
    "    perfis = pd.read_csv(PERFIS_PATH, sep = ';')\n",
    "    ativs = pd.read_csv(ATIV_PATH, sep = ';')\n",
    "\n",
    "    #perfis.columns = ['id', 'instalacao', 'cpf_cnpj', 'razao social', 'endereco_cadastro', 'ramo_de_atividade','None1', 'None2']\n",
    "    \n",
    "    dates = re.compile(\"[0-9]{2}:[0-9]{2}\")\n",
    "    dateparser = lambda x: pd.datetime.strptime(x, '%H:%M') if type(x) == str  and dates.match(x) else pd.NaT\n",
    "    cols = ['name','inicio_dia_util','fim_dia_util', 'inicio_sabado', 'fim_sabado', 'inicio_domingo', 'fim_domingo', 'inicio_feriado', 'fim_feriado']\n",
    "    horarios = pd.read_csv(HORARIOS_PATH, sep = ';',skipinitialspace=True, skiprows = 2, na_values = np.NaN, names = cols,\n",
    "                          date_parser = dateparser, parse_dates = [1,2,3,4,5,6,7,8])\n",
    "    \n",
    "    \n",
    "    horarios.set_index('name', inplace = True)\n",
    "    horarios.dropna(inplace=True)\n",
    "\n",
    "    perfis.set_index('instalacao', inplace=True)\n",
    "    perfis = (perfis.groupby(level=0).first())\n",
    "\n",
    "    \n",
    "    return horarios, perfis, ativs\n",
    "\n",
    "def get_files_4(nomes, dim,  CAMINHO):\n",
    "    not_found = []\n",
    "    dif = {}\n",
    "    for i in nomes:\n",
    "        if i in dim:\n",
    "            tmp_list = []\n",
    "            search = ab.search_list_2(str(i),os.listdir(CAMINHO))\n",
    "            if search:\n",
    "                dif[i] = search\n",
    "            else:\n",
    "                not_found.append(i)                \n",
    "    return dif, not_found\n",
    "\n",
    "#Criar dicionario de categorias\n",
    "def insta2horario(HORARIOS_PATH = '/home/ubuntu/data/data/maio_2019/horarios_v4.csv'):\n",
    "    horarios = pd.read_csv(HORARIOS_PATH, sep=',')\n",
    "    horarios.drop(columns=horarios.columns[0],inplace=True)\n",
    "    horarios.columns = ['nome', 'cat', 'dias_uteis_i',\n",
    "           'dias_uteis_f', 'sabado_i', 'sabado_f', 'domingo_i',\n",
    "           'domingo_f', 'feriado_i', 'feriado_f']\n",
    "    horarios['nome'] = horarios['nome'].apply(unidecode)\n",
    "    dfcat = horarios.iloc[:,:2]\n",
    "    dfcat.set_index('nome',inplace=True)\n",
    "    scat = dfcat['cat']\n",
    "    dcat = scat.to_dict()\n",
    "    horarios.set_index('nome', inplace=True)\n",
    "    func = {k: [pd.Timestamp(v) for v in horarios.loc[k,'dias_uteis_i':'feriado_f']] for k in horarios.index}\n",
    "    return func\n",
    "\n",
    "def per2cluster(func, ATIV = '/home/ubuntu/data/data/maio_2019/atividade_atividade_v2.csv'):\n",
    "    dfativ = pd.read_csv(ATIV, sep=';', names = ['ramo', 'perfil'])\n",
    "    dfativ=dfativ.applymap(unidecode)\n",
    "    dfativ.set_index('ramo', inplace=True)\n",
    "    a2p = dfativ.loc[:,'perfil'].T.to_dict()\n",
    "    a2p.pop('Ramo de Atividade')\n",
    "    p2a = dict((v,k) for k,v in a2p.items())\n",
    "    perfunc=PERFIS['ramo_de_atividade'].map(a2p).map(func)\n",
    "    return perfunc"
   ]
  },
  {
   "cell_type": "code",
   "execution_count": 6,
   "metadata": {},
   "outputs": [
    {
     "data": {
      "text/plain": [
       "'/home/ubuntu/data/data/maio_2019/setembro/mm/csv_proc/#pd_mmproc.csv'"
      ]
     },
     "execution_count": 6,
     "metadata": {},
     "output_type": "execute_result"
    }
   ],
   "source": [
    "PATH_MM"
   ]
  },
  {
   "cell_type": "code",
   "execution_count": 7,
   "metadata": {},
   "outputs": [],
   "source": [
    "#hc\n",
    "PATH_MM='/home/ubuntu/data/data/maio_2019/setembro/mm/csv_proc/#pd_mmproc_comp.csv'"
   ]
  },
  {
   "cell_type": "code",
   "execution_count": 8,
   "metadata": {},
   "outputs": [],
   "source": [
    "global df_mm_new\n",
    "mmm = mm()\n",
    "df_mm_new = pd.read_csv(PATH_MM,date_parser = mmm.dateparser, index_col=[0], sep=';')\n",
    "dummy_mm = \"\""
   ]
  },
  {
   "cell_type": "markdown",
   "metadata": {},
   "source": [
    "## l_______________________________________________________________________"
   ]
  },
  {
   "cell_type": "markdown",
   "metadata": {},
   "source": [
    "### Carregar modelos neurais"
   ]
  },
  {
   "cell_type": "markdown",
   "metadata": {},
   "source": [
    "# Coleções principais"
   ]
  },
  {
   "cell_type": "code",
   "execution_count": 9,
   "metadata": {},
   "outputs": [],
   "source": [
    "global LISTA_CAD\n",
    "global PERFIL, DEGRAU, MORRO, NN_FAS\n",
    "global files_fas, files_mm\n",
    "global HORARIOS, PERFIS, ATIVS, DPERFIS, DPERFIS_NORMAL, DPERFIS_TROCA\n",
    "global dim, dmi, df_fas, dfiles_mm, dfiles_fas_troca, dfiles_mm_troca, dfiles_fas_normal, dfiles_mm_normal\n",
    "global o_i_normal, o_i_troca, o_instas, list_i_normal, list_i_troca, list_intas"
   ]
  },
  {
   "cell_type": "markdown",
   "metadata": {},
   "source": [
    "#### Modelos neurais"
   ]
  },
  {
   "cell_type": "code",
   "execution_count": 10,
   "metadata": {},
   "outputs": [],
   "source": [
    "#hc\n",
    "PER = '../../models/r2-DS110k-bs64-c11/r2-DS110k-bs64-c11'\n",
    "DEG = '../../models/degrau/degrau'\n",
    "MOR = '../../models/anomalia-1_1_v2/anomalia-1_1_v2'\n",
    "FAS = '../../models/rn_hc_and/rn_hc_and'"
   ]
  },
  {
   "cell_type": "code",
   "execution_count": 11,
   "metadata": {},
   "outputs": [
    {
     "name": "stdout",
     "output_type": "stream",
     "text": [
      "WARNING:tensorflow:From /home/ubuntu/anaconda3/envs/tensorflow_p36/lib/python3.6/site-packages/tensorflow/python/framework/op_def_library.py:263: colocate_with (from tensorflow.python.framework.ops) is deprecated and will be removed in a future version.\n",
      "Instructions for updating:\n",
      "Colocations handled automatically by placer.\n"
     ]
    }
   ],
   "source": [
    "PERFIL, DEGRAU, MORRO, NN_FAS = load_models(PER, DEG, MOR, FAS)"
   ]
  },
  {
   "cell_type": "markdown",
   "metadata": {},
   "source": [
    "## l_______________________________________________________________________"
   ]
  },
  {
   "cell_type": "code",
   "execution_count": 12,
   "metadata": {},
   "outputs": [
    {
     "data": {
      "text/plain": [
       "'/home/ubuntu/data/data/maio_2019/setembro/fas-sep'"
      ]
     },
     "execution_count": 12,
     "metadata": {},
     "output_type": "execute_result"
    }
   ],
   "source": [
    "PATH_FAS"
   ]
  },
  {
   "cell_type": "code",
   "execution_count": 13,
   "metadata": {},
   "outputs": [],
   "source": [
    "#hc\n",
    "LISTAF = '/home/ubuntu/data/data/maio_2019/setembro/lista-cad-pnt-20190820-faltantes.csv'"
   ]
  },
  {
   "cell_type": "code",
   "execution_count": 14,
   "metadata": {},
   "outputs": [],
   "source": [
    "LISTA_CAD = get_list()\n",
    "LISTA_CAD.df =  pd.read_csv(LISTA,names = COLS_LISTA)\n",
    "#LISTA_CAD.df =  pd.read_csv(LISTAF,names = COLS_LISTA)\n",
    "HORARIOS, PERFIS, ATIVS = get_horario_info2()\n",
    "dim, dmi = dicts(LISTA_CAD)"
   ]
  },
  {
   "cell_type": "markdown",
   "metadata": {},
   "source": [
    "-------------------------------"
   ]
  },
  {
   "cell_type": "markdown",
   "metadata": {},
   "source": [
    "#### Verificar"
   ]
  },
  {
   "cell_type": "markdown",
   "metadata": {},
   "source": [
    "###### Lista de instalações faltantes"
   ]
  },
  {
   "cell_type": "code",
   "execution_count": 15,
   "metadata": {},
   "outputs": [],
   "source": [
    "fasfal4 = pload('../../pickles/fasfal4.pkl')"
   ]
  },
  {
   "cell_type": "markdown",
   "metadata": {},
   "source": [
    "##### Verificar se faltantes estão na lista 1"
   ]
  },
  {
   "cell_type": "code",
   "execution_count": 16,
   "metadata": {},
   "outputs": [
    {
     "data": {
      "text/plain": [
       "0"
      ]
     },
     "execution_count": 16,
     "metadata": {},
     "output_type": "execute_result"
    }
   ],
   "source": [
    "l = pd.read_csv(LISTA,names = COLS_LISTA).drop(0)\n",
    "lo = [i for i in fasfal4 if i  in l['cliente']]\n",
    "len(lo)"
   ]
  },
  {
   "cell_type": "markdown",
   "metadata": {},
   "source": [
    "##### Verificar se faltantes estão na lista 2"
   ]
  },
  {
   "cell_type": "code",
   "execution_count": 69,
   "metadata": {},
   "outputs": [
    {
     "data": {
      "text/plain": [
       "0"
      ]
     },
     "execution_count": 69,
     "metadata": {},
     "output_type": "execute_result"
    }
   ],
   "source": [
    "l2 = pd.read_csv(LISTAF,names = COLS_LISTA)\n",
    "lo2 = [i for i in fasfal4 if i  in l2['cliente']]\n",
    "len(lo2)"
   ]
  },
  {
   "cell_type": "markdown",
   "metadata": {},
   "source": [
    "##### Verificar se faltantes estão entre os arquivos separados"
   ]
  },
  {
   "cell_type": "code",
   "execution_count": 70,
   "metadata": {},
   "outputs": [
    {
     "data": {
      "text/plain": [
       "20"
      ]
     },
     "execution_count": 70,
     "metadata": {},
     "output_type": "execute_result"
    }
   ],
   "source": [
    "fl = [i.split('.')[0] for i in ld(PATH_FAS)]\n",
    "lo2  = [i for i in fasfal4 if i  in fl]\n",
    "len(lo2)"
   ]
  },
  {
   "cell_type": "markdown",
   "metadata": {},
   "source": [
    "-------------------------------"
   ]
  },
  {
   "cell_type": "markdown",
   "metadata": {},
   "source": [
    "#### Estruturas auxiliares"
   ]
  },
  {
   "cell_type": "code",
   "execution_count": 17,
   "metadata": {},
   "outputs": [],
   "source": [
    "o_i_normal = collections.OrderedDict(sorted(LISTA_CAD.mes_days(troca=False).items()))\n",
    "o_i_troca = collections.OrderedDict(sorted(LISTA_CAD.mes_days(troca=True).items()))\n",
    "o_instas =  collections.OrderedDict(sorted({**o_i_normal, **o_i_troca}.items()))"
   ]
  },
  {
   "cell_type": "markdown",
   "metadata": {},
   "source": [
    "#### Arquivos"
   ]
  },
  {
   "cell_type": "code",
   "execution_count": 18,
   "metadata": {},
   "outputs": [
    {
     "data": {
      "text/plain": [
       "<module 'A_base' from '/home/ubuntu/data/code/ref_fdetector/src/lib/A_base.py'>"
      ]
     },
     "execution_count": 18,
     "metadata": {},
     "output_type": "execute_result"
    }
   ],
   "source": [
    "import A_base\n",
    "reload(A_base)"
   ]
  },
  {
   "cell_type": "code",
   "execution_count": 19,
   "metadata": {},
   "outputs": [],
   "source": [
    "import A_base as ab"
   ]
  },
  {
   "cell_type": "code",
   "execution_count": 20,
   "metadata": {},
   "outputs": [],
   "source": [
    "dfiles_fas, nf_fas= get_files_4(list(o_instas.keys()), dim,  PATH_FAS)\n",
    "ddirs_fas = {k:join(PATH_FAS,v) for k,v in dfiles_fas.items()}"
   ]
  },
  {
   "cell_type": "markdown",
   "metadata": {},
   "source": [
    " l___________________________________________________________________________________________________________________________________________"
   ]
  },
  {
   "cell_type": "code",
   "execution_count": 21,
   "metadata": {},
   "outputs": [],
   "source": [
    "pdump(ddirs_fas, '../../pickles/ddirs_fas.pkl')"
   ]
  },
  {
   "cell_type": "markdown",
   "metadata": {},
   "source": [
    " l___________________________________________________________________________________________________________________________________________"
   ]
  },
  {
   "cell_type": "markdown",
   "metadata": {},
   "source": [
    "#### Lista , perfis e horários"
   ]
  },
  {
   "cell_type": "code",
   "execution_count": 22,
   "metadata": {},
   "outputs": [],
   "source": [
    "# Dicionário de instalacao para horario de funcionamento\n",
    "func =  insta2horario()"
   ]
  },
  {
   "cell_type": "code",
   "execution_count": 23,
   "metadata": {},
   "outputs": [],
   "source": [
    "# Dicionário de perfis para clusters\n",
    "perfunc = per2cluster(func)"
   ]
  },
  {
   "cell_type": "code",
   "execution_count": 24,
   "metadata": {},
   "outputs": [],
   "source": [
    "percats = PERFIS['cat'].fillna(value=0).apply(int).to_dict()"
   ]
  },
  {
   "cell_type": "markdown",
   "metadata": {},
   "source": [
    " l___________________________________________________________________________________________________________________________________________"
   ]
  },
  {
   "cell_type": "markdown",
   "metadata": {},
   "source": [
    "#### Pickles"
   ]
  },
  {
   "cell_type": "raw",
   "metadata": {},
   "source": [
    "pdump(o_instas, '../../pickles/o_instas.pkl')\n",
    "pdump(func, '../../pickles/func.pkl')\n",
    "pdump(perfunc, '../../pickles/perfunc.pkl')\n",
    "pdump(ddirs_fas, '../../pickles/ddirs_fas.pkl')\n",
    "pdump(dim, '../../pickles/dim.pkl')\n",
    "pdump(dmi, '../../pickles/dmi.pkl')"
   ]
  },
  {
   "cell_type": "markdown",
   "metadata": {},
   "source": [
    "## l_______________________________________________________________________"
   ]
  },
  {
   "cell_type": "code",
   "execution_count": 25,
   "metadata": {},
   "outputs": [],
   "source": [
    "lista_falta = [\n",
    "'BTI413081598',\n",
    "'BTI420465568',\n",
    "'BTI411793194',\n",
    "'BTI411211744',\n",
    "'BTI410364472',\n",
    "'BTI411156078',\n",
    "'BTI412687778',\n",
    "'BTI410049617',\n",
    "'BTI400114910',\n",
    "'BTI410447700',\n",
    "'BTI411659603',\n",
    "'BTI412787198',\n",
    "'BTI411837868',\n",
    "'BTI410008428',\n",
    "'BTI410364444',\n",
    "'BTI400085863',\n",
    "'BTI411999140',\n",
    "'BTI411387076',\n",
    "'BTI411177604',\n",
    "'BTI414581058',\n",
    "'BTI400086150',\n",
    "'BTI410732088',\n",
    "'BTI420639963',\n",
    "'BTI410426420',\n",
    "'BTI420201181',\n",
    "'BTI410758477',\n",
    "'BTI411653674',\n",
    "'BTI420486949',\n",
    "'BTI413595836',\n",
    "'BTI420569650',\n",
    "'BTI420738351',\n",
    "'BTI412003978',\n",
    "'BTI411574674',\n",
    "'BTI411284122',\n",
    "'BTI410328848',\n",
    "'BTI411212425',\n",
    "'BTI412171105',\n",
    "'BTI412513987',\n",
    "'BTI400086681',\n",
    "'BTI420892596',\n",
    "'BTI413860891',\n",
    "'BTI420318146',\n",
    "'BTI411878714',\n",
    "'BTI410155805',\n",
    "'BTI412487479',\n",
    "'BTI400091995',\n",
    "'BTI411837862',\n",
    "'BT2A410913928',\n",
    "'BT2A411456287',\n",
    "'BT2A413325780',\n",
    "'BT2A413642837',\n",
    "'BT2A420515786',\n",
    "'BT2A400300110',\n",
    "'BT2A414604945',\n",
    "'BT2A420135273',\n",
    "'BT2A411350480',\n",
    "'BT2A413741641',\n",
    "'BT2A411653104',\n",
    "'BT2A411071225',\n",
    "'BT2A420700602',\n",
    "'BT2A411145184',\n",
    "'BT2A410476676',\n",
    "'BTI412034558',\n",
    "'BTI413648141',\n",
    "'BTI410522512',\n",
    "'BTI411055611',\n",
    "'BTI411828439',\n",
    "'BTI420811160',\n",
    "'BTI413267453',\n",
    "'BTI421042017',\n",
    "'BTI400153567',\n",
    "'BTI412191537',\n",
    "'BTI413446145',\n",
    "'BTI413497182',\n",
    "'BTI414692427',\n",
    "'BTI413273677',\n",
    "'BTI411175463',\n",
    "'BTI413339942',\n",
    "'BTI420165364',\n",
    "'BTI400064734',\n",
    "'BTI411287978'\n",
    "]"
   ]
  },
  {
   "cell_type": "code",
   "execution_count": 28,
   "metadata": {},
   "outputs": [],
   "source": [
    "lista_falta.remove('BT2A411350480')\n",
    "lista_falta.remove('BTI411177604') \n",
    "lista_falta.remove('BTI421042017')"
   ]
  },
  {
   "cell_type": "markdown",
   "metadata": {},
   "source": [
    "## l_______________________________________________________________________"
   ]
  },
  {
   "cell_type": "markdown",
   "metadata": {},
   "source": [
    "# Importante"
   ]
  },
  {
   "cell_type": "code",
   "execution_count": 30,
   "metadata": {},
   "outputs": [],
   "source": [
    "log_count=0"
   ]
  },
  {
   "cell_type": "code",
   "execution_count": 31,
   "metadata": {},
   "outputs": [],
   "source": [
    "processados = []\n",
    "erros = []"
   ]
  },
  {
   "cell_type": "code",
   "execution_count": 32,
   "metadata": {},
   "outputs": [],
   "source": [
    "sem_hora = []\n",
    "err_msg = {}\n",
    "missing = []"
   ]
  },
  {
   "cell_type": "code",
   "execution_count": 33,
   "metadata": {},
   "outputs": [],
   "source": [
    "with open('../../pickles/all/processados.pkl','rb') as p:\n",
    "    processados=pickle.load(p)\n",
    "with open('../../pickles/all/erros.pkl','rb') as p:\n",
    "    erros = pickle.load(p)"
   ]
  },
  {
   "cell_type": "code",
   "execution_count": 34,
   "metadata": {},
   "outputs": [],
   "source": [
    "log_file = open(os.path.join('../../logs/',str(log_count)), 'at+')"
   ]
  },
  {
   "cell_type": "code",
   "execution_count": 35,
   "metadata": {},
   "outputs": [],
   "source": [
    "def log(string):\n",
    "    print(string)\n",
    "    log_file.write(string)"
   ]
  },
  {
   "cell_type": "code",
   "execution_count": 36,
   "metadata": {},
   "outputs": [],
   "source": [
    "def dici2list(d_insta_to_days):\n",
    "    ddays={}\n",
    "    ddays[4],ddays[5],ddays[6],ddays[7] = d_insta_to_days[12], d_insta_to_days[1], d_insta_to_days[2], d_insta_to_days[3], d_insta_to_days[4]\n",
    "    return ddays\n",
    "                "
   ]
  },
  {
   "cell_type": "code",
   "execution_count": 37,
   "metadata": {},
   "outputs": [],
   "source": [
    "import traceback"
   ]
  },
  {
   "cell_type": "code",
   "execution_count": 38,
   "metadata": {},
   "outputs": [],
   "source": [
    "pd.options.mode.chained_assignment = None  # default='warn' . option None"
   ]
  },
  {
   "cell_type": "raw",
   "metadata": {},
   "source": [
    "PERFIS.reset_index(inplace=True)"
   ]
  },
  {
   "cell_type": "code",
   "execution_count": 39,
   "metadata": {},
   "outputs": [],
   "source": [
    "padrao = [pd.Timestamp('2019-09-20 00:00:00'),\n",
    " pd.Timestamp('2019-09-20 23:59:00'),\n",
    " pd.Timestamp('2019-09-20 00:00:00'),\n",
    " pd.Timestamp('2019-09-20 23:59:00'),\n",
    " pd.Timestamp('2019-09-20 00:00:00'),\n",
    " pd.Timestamp('2019-09-20 23:59:00'),\n",
    " pd.Timestamp('2019-09-20 00:00:00'),\n",
    " pd.Timestamp('2019-09-20 23:59:00')]"
   ]
  },
  {
   "cell_type": "code",
   "execution_count": 40,
   "metadata": {},
   "outputs": [],
   "source": [
    "def loopy2(d_insta_to_days, d_insta_to_files_fas, d_insta_to_files_mm,PATH_FAS, PATH_MM, output_dir,sepfas=';', sepmm = ','):\n",
    "    df_out = pd.DataFrame(index=OUT_INDEX)\n",
    "    global difas, dimm\n",
    "    global dfas, dmm,  dimm\n",
    "    difas, dimm = sdict(), sdict()\n",
    "    c = 0\n",
    "    c1 = 0\n",
    "    for instalacao in d_insta_to_days:\n",
    "        c1 = c1 + 1\n",
    "        if (instalacao  not in processados):\n",
    "            log(str(c)+'--'+'######## ' + instalacao + ' #########')\n",
    "            medidor = dim[instalacao][0] if type(dim[instalacao]) is list else dim[instalacao]\n",
    "            #if True:\n",
    "            try:      \n",
    "                print('------ 0')\n",
    "                ramo = percats[instalacao] if instalacao in percats else 0\n",
    "                print('------ 1')\n",
    "                hours = perfunc[instalacao] if instalacao in perfunc else padrao\n",
    "                print('------ 2')\n",
    "                ddays = d_insta_to_days[instalacao] if instalacao in d_insta_to_days else default_ddays_2()\n",
    "                print('------ 3')\n",
    "                dfas = fasorial(name = instalacao, ddays=ddays)     \n",
    "                print('------ 4')\n",
    "                dfas.outputs['perfil'] = ramo\n",
    "                print('------ 5')\n",
    "                dfas.read_fasorial(d_insta_to_files_fas[instalacao], dtype=None, index_col=[5], sep = sepfas)\n",
    "                print('------ 6')\n",
    "                dmm = mm(name = instalacao, ddays = ddays, ramo=ramo)\n",
    "                print('------ 7')\n",
    "                dmm.df = pd.DataFrame(df_mm_new[int(dim[instalacao])])  \n",
    "                print('------ 8')\n",
    "                proc_fas(dfas,ddays, NN_FAS, hours = dfas.hours)\n",
    "                processa_mm(dmm, ddays, PERFIL, DEGRAU, MORRO)\n",
    "                print('################################################')\n",
    "                #Cria um dicionário de outputs por mês para o fasorial\n",
    "                for y in dfas.months:\n",
    "                    dfas.outputs[y] = {}\n",
    "                    for month  in dfas.months[y]:\n",
    "                        dfas.outputs[y][month] = dfas.months[y][month].outputs                \n",
    "                df_out = cat_out2(df_out, dmm.outputs, dfas.outputs, ddays,OUT_INDEX)\n",
    "                \n",
    "                difas[instalacao] = dfas\n",
    "                dimm[instalacao] = dmm                \n",
    "                c = c+1                \n",
    "                #if c1 % 100 ==0 :  \n",
    "                if False:\n",
    "                    #return df_out, dfas, dmm\n",
    "                    log('Salvando csv!')\n",
    "                    df_out.T.to_csv(output_dir + 'e1_' +str(c1-100) + '_to_' + str(c1) +'.csv')                    \n",
    "                    pickle.dump(processados, open('../pickles/all/processados.pkl','wb'))\n",
    "                    pickle.dump(erros, open('../pickles/all/erros.pkl','wb'))                    \n",
    "                    df_out=pd.DataFrame()\n",
    "                processados.append(instalacao)\n",
    "            except Exception as e:\n",
    "            #else:\n",
    "                erros.append(instalacao)\n",
    "                err_msg[instalacao] = traceback.format_exc()\n",
    "                print('++++++Erro 2++++++++++ \\n'+ str(traceback.format_exc())+'\\n++++++++++++++++++++')\n",
    "    #return outs,df_out, dfas, dmm\n",
    "    #pickle.dump(processados, open('../../pickles/all/processados.pkl','wb'))\n",
    "    #pickle.dump(erros, open('../../pickles/all/erros.pkl','wb'))\n",
    "    df_out.T.to_csv(output_dir + 'new.csv')        "
   ]
  },
  {
   "cell_type": "markdown",
   "metadata": {},
   "source": [
    "## l_______________________________________________________________________"
   ]
  },
  {
   "cell_type": "code",
   "execution_count": 41,
   "metadata": {},
   "outputs": [],
   "source": [
    "er = {k:v for k,v in o_instas.items() if k in lista_falta}"
   ]
  },
  {
   "cell_type": "code",
   "execution_count": 42,
   "metadata": {},
   "outputs": [],
   "source": [
    "from mainlib import mm"
   ]
  },
  {
   "cell_type": "code",
   "execution_count": 43,
   "metadata": {},
   "outputs": [],
   "source": [
    "OUT = '../../outputs/all/'"
   ]
  },
  {
   "cell_type": "markdown",
   "metadata": {},
   "source": [
    "## l_______________________________________________________________________"
   ]
  },
  {
   "cell_type": "code",
   "execution_count": 44,
   "metadata": {},
   "outputs": [],
   "source": [
    "df_mm_new.columns = [int(float(c)) for c in df_mm_new.columns]"
   ]
  },
  {
   "cell_type": "markdown",
   "metadata": {},
   "source": [
    "## l_______________________________________________________________________"
   ]
  },
  {
   "cell_type": "code",
   "execution_count": 45,
   "metadata": {},
   "outputs": [
    {
     "name": "stdout",
     "output_type": "stream",
     "text": [
      "0--######## BT2A400300110 #########\n",
      "------ 0\n",
      "------ 1\n",
      "------ 2\n",
      "------ 3\n",
      "------ 4\n",
      "------ 5\n",
      "------ 6\n",
      "------ 7\n",
      "------ 8\n",
      "{5: Timestamp('2019-05-06 00:00:00'), 6: Timestamp('2019-06-06 00:00:00'), 7: Timestamp('2019-07-04 00:00:00')}\n"
     ]
    },
    {
     "name": "stderr",
     "output_type": "stream",
     "text": [
      "/home/ubuntu/data/code/ref_fdetector/src/lib/mainlib.py:677: UserWarning: Boolean Series key will be reindexed to match DataFrame index.\n",
      "  df = df[(f1 & f2) | f3]\n",
      "/home/ubuntu/data/code/ref_fdetector/src/lib/mainlib.py:677: UserWarning: Boolean Series key will be reindexed to match DataFrame index.\n",
      "  df = df[(f1 & f2) | f3]\n",
      "/home/ubuntu/data/code/ref_fdetector/src/lib/mainlib.py:677: UserWarning: Boolean Series key will be reindexed to match DataFrame index.\n",
      "  df = df[(f1 & f2) | f3]\n"
     ]
    },
    {
     "name": "stdout",
     "output_type": "stream",
     "text": [
      "{5: Timestamp('2019-05-06 00:00:00'), 6: Timestamp('2019-06-06 00:00:00'), 7: Timestamp('2019-07-04 00:00:00')}\n",
      "++++++Erro 2++++++++++ \n",
      "Traceback (most recent call last):\n",
      "  File \"<ipython-input-40-854869aae9c4>\", line 33, in loopy2\n",
      "    processa_mm(dmm, ddays, PERFIL, DEGRAU, MORRO)\n",
      "  File \"/home/ubuntu/data/code/ref_fdetector/src/lib/of_proc.py\", line 340, in processa_mm\n",
      "    mm.nn_perfil(imodel = perfil)\n",
      "  File \"/home/ubuntu/data/code/ref_fdetector/src/lib/mainlib.py\", line 1030, in nn_perfil\n",
      "    self.outputs['perfil'][y][m] = self.months[y][m].nn_perfil_month(imodel)\n",
      "  File \"/home/ubuntu/data/code/ref_fdetector/src/lib/mainlib.py\", line 1042, in nn_perfil_month\n",
      "    preds[c] = model.predict(np.asarray(week).reshape(1,-1))\n",
      "  File \"/home/ubuntu/anaconda3/envs/tensorflow_p36/lib/python3.6/site-packages/keras/engine/training.py\", line 1149, in predict\n",
      "    x, _, _ = self._standardize_user_data(x)\n",
      "  File \"/home/ubuntu/anaconda3/envs/tensorflow_p36/lib/python3.6/site-packages/keras/engine/training.py\", line 751, in _standardize_user_data\n",
      "    exception_prefix='input')\n",
      "  File \"/home/ubuntu/anaconda3/envs/tensorflow_p36/lib/python3.6/site-packages/keras/engine/training_utils.py\", line 138, in standardize_input_data\n",
      "    str(data_shape))\n",
      "ValueError: Error when checking input: expected dense_1_input to have shape (168,) but got array with shape (336,)\n",
      "\n",
      "++++++++++++++++++++\n",
      "0--######## BT2A410476676 #########\n",
      "------ 0\n",
      "------ 1\n",
      "------ 2\n",
      "------ 3\n",
      "------ 4\n",
      "------ 5\n",
      "------ 6\n",
      "------ 7\n",
      "------ 8\n",
      "{5: Timestamp('2019-05-21 00:00:00'), 6: Timestamp('2019-06-22 00:00:00'), 7: Timestamp('2019-07-22 00:00:00')}\n"
     ]
    },
    {
     "name": "stderr",
     "output_type": "stream",
     "text": [
      "/home/ubuntu/data/code/ref_fdetector/src/lib/mainlib.py:677: UserWarning: Boolean Series key will be reindexed to match DataFrame index.\n",
      "  df = df[(f1 & f2) | f3]\n",
      "/home/ubuntu/data/code/ref_fdetector/src/lib/mainlib.py:677: UserWarning: Boolean Series key will be reindexed to match DataFrame index.\n",
      "  df = df[(f1 & f2) | f3]\n"
     ]
    },
    {
     "name": "stdout",
     "output_type": "stream",
     "text": [
      "{5: Timestamp('2019-05-21 00:00:00'), 6: Timestamp('2019-06-22 00:00:00'), 7: Timestamp('2019-07-22 00:00:00')}\n",
      "################################################\n",
      "1--######## BT2A410913928 #########\n",
      "------ 0\n",
      "------ 1\n",
      "------ 2\n",
      "------ 3\n",
      "------ 4\n",
      "------ 5\n",
      "------ 6\n",
      "------ 7\n",
      "------ 8\n",
      "{5: Timestamp('2019-05-06 00:00:00'), 6: Timestamp('2019-06-06 00:00:00'), 7: Timestamp('2019-07-04 00:00:00')}\n"
     ]
    },
    {
     "name": "stderr",
     "output_type": "stream",
     "text": [
      "/home/ubuntu/data/code/ref_fdetector/src/lib/mainlib.py:677: UserWarning: Boolean Series key will be reindexed to match DataFrame index.\n",
      "  df = df[(f1 & f2) | f3]\n",
      "/home/ubuntu/data/code/ref_fdetector/src/lib/mainlib.py:677: UserWarning: Boolean Series key will be reindexed to match DataFrame index.\n",
      "  df = df[(f1 & f2) | f3]\n",
      "/home/ubuntu/data/code/ref_fdetector/src/lib/mainlib.py:677: UserWarning: Boolean Series key will be reindexed to match DataFrame index.\n",
      "  df = df[(f1 & f2) | f3]\n"
     ]
    },
    {
     "name": "stdout",
     "output_type": "stream",
     "text": [
      "{5: Timestamp('2019-05-06 00:00:00'), 6: Timestamp('2019-06-06 00:00:00'), 7: Timestamp('2019-07-04 00:00:00')}\n",
      "################################################\n",
      "2--######## BT2A411071225 #########\n",
      "------ 0\n",
      "------ 1\n",
      "------ 2\n",
      "------ 3\n",
      "------ 4\n",
      "------ 5\n",
      "------ 6\n",
      "------ 7\n",
      "------ 8\n",
      "{5: Timestamp('2019-05-06 00:00:00'), 6: Timestamp('2019-06-06 00:00:00'), 7: Timestamp('2019-07-04 00:00:00')}\n"
     ]
    },
    {
     "name": "stderr",
     "output_type": "stream",
     "text": [
      "/home/ubuntu/data/code/ref_fdetector/src/lib/mainlib.py:677: UserWarning: Boolean Series key will be reindexed to match DataFrame index.\n",
      "  df = df[(f1 & f2) | f3]\n",
      "/home/ubuntu/data/code/ref_fdetector/src/lib/mainlib.py:677: UserWarning: Boolean Series key will be reindexed to match DataFrame index.\n",
      "  df = df[(f1 & f2) | f3]\n"
     ]
    },
    {
     "name": "stdout",
     "output_type": "stream",
     "text": [
      "{5: Timestamp('2019-05-06 00:00:00'), 6: Timestamp('2019-06-06 00:00:00'), 7: Timestamp('2019-07-04 00:00:00')}\n",
      "################################################\n",
      "3--######## BT2A411145184 #########\n",
      "------ 0\n",
      "------ 1\n",
      "------ 2\n",
      "------ 3\n",
      "------ 4\n",
      "------ 5\n",
      "------ 6\n",
      "------ 7\n",
      "------ 8\n",
      "{5: Timestamp('2019-05-21 00:00:00'), 6: Timestamp('2019-06-22 00:00:00'), 7: Timestamp('2019-07-22 00:00:00')}\n"
     ]
    },
    {
     "name": "stderr",
     "output_type": "stream",
     "text": [
      "/home/ubuntu/data/code/ref_fdetector/src/lib/mainlib.py:677: UserWarning: Boolean Series key will be reindexed to match DataFrame index.\n",
      "  df = df[(f1 & f2) | f3]\n",
      "/home/ubuntu/data/code/ref_fdetector/src/lib/mainlib.py:677: UserWarning: Boolean Series key will be reindexed to match DataFrame index.\n",
      "  df = df[(f1 & f2) | f3]\n",
      "/home/ubuntu/data/code/ref_fdetector/src/lib/mainlib.py:677: UserWarning: Boolean Series key will be reindexed to match DataFrame index.\n",
      "  df = df[(f1 & f2) | f3]\n"
     ]
    },
    {
     "name": "stdout",
     "output_type": "stream",
     "text": [
      "{5: Timestamp('2019-05-21 00:00:00'), 6: Timestamp('2019-06-22 00:00:00'), 7: Timestamp('2019-07-22 00:00:00')}\n",
      "################################################\n",
      "4--######## BT2A411456287 #########\n",
      "------ 0\n",
      "------ 1\n",
      "------ 2\n",
      "------ 3\n",
      "------ 4\n",
      "------ 5\n",
      "------ 6\n",
      "------ 7\n",
      "------ 8\n",
      "{5: Timestamp('2019-05-10 00:00:00'), 6: Timestamp('2019-06-12 00:00:00'), 7: Timestamp('2019-07-10 00:00:00')}\n"
     ]
    },
    {
     "name": "stderr",
     "output_type": "stream",
     "text": [
      "/home/ubuntu/data/code/ref_fdetector/src/lib/mainlib.py:677: UserWarning: Boolean Series key will be reindexed to match DataFrame index.\n",
      "  df = df[(f1 & f2) | f3]\n",
      "/home/ubuntu/data/code/ref_fdetector/src/lib/mainlib.py:677: UserWarning: Boolean Series key will be reindexed to match DataFrame index.\n",
      "  df = df[(f1 & f2) | f3]\n",
      "/home/ubuntu/data/code/ref_fdetector/src/lib/mainlib.py:677: UserWarning: Boolean Series key will be reindexed to match DataFrame index.\n",
      "  df = df[(f1 & f2) | f3]\n"
     ]
    },
    {
     "name": "stdout",
     "output_type": "stream",
     "text": [
      "{5: Timestamp('2019-05-10 00:00:00'), 6: Timestamp('2019-06-12 00:00:00'), 7: Timestamp('2019-07-10 00:00:00')}\n",
      "################################################\n",
      "5--######## BT2A411653104 #########\n",
      "------ 0\n",
      "------ 1\n",
      "------ 2\n",
      "------ 3\n",
      "------ 4\n",
      "------ 5\n",
      "++++++Erro 2++++++++++ \n",
      "Traceback (most recent call last):\n",
      "  File \"<ipython-input-40-854869aae9c4>\", line 26, in loopy2\n",
      "    dfas.read_fasorial(d_insta_to_files_fas[instalacao], dtype=None, index_col=[5], sep = sepfas)\n",
      "KeyError: 'BT2A411653104'\n",
      "\n",
      "++++++++++++++++++++\n",
      "5--######## BT2A413325780 #########\n",
      "------ 0\n",
      "------ 1\n",
      "------ 2\n",
      "------ 3\n",
      "------ 4\n",
      "------ 5\n",
      "------ 6\n",
      "------ 7\n",
      "------ 8\n",
      "{5: Timestamp('2019-05-28 00:00:00'), 6: Timestamp('2019-06-27 00:00:00'), 7: Timestamp('2019-07-26 00:00:00')}\n"
     ]
    },
    {
     "name": "stderr",
     "output_type": "stream",
     "text": [
      "/home/ubuntu/data/code/ref_fdetector/src/lib/mainlib.py:677: UserWarning: Boolean Series key will be reindexed to match DataFrame index.\n",
      "  df = df[(f1 & f2) | f3]\n",
      "/home/ubuntu/data/code/ref_fdetector/src/lib/mainlib.py:677: UserWarning: Boolean Series key will be reindexed to match DataFrame index.\n",
      "  df = df[(f1 & f2) | f3]\n",
      "/home/ubuntu/data/code/ref_fdetector/src/lib/mainlib.py:677: UserWarning: Boolean Series key will be reindexed to match DataFrame index.\n",
      "  df = df[(f1 & f2) | f3]\n"
     ]
    },
    {
     "name": "stdout",
     "output_type": "stream",
     "text": [
      "{5: Timestamp('2019-05-28 00:00:00'), 6: Timestamp('2019-06-27 00:00:00'), 7: Timestamp('2019-07-26 00:00:00')}\n",
      "################################################\n",
      "6--######## BT2A413642837 #########\n",
      "------ 0\n",
      "------ 1\n",
      "------ 2\n",
      "------ 3\n",
      "------ 4\n",
      "------ 5\n",
      "------ 6\n",
      "------ 7\n",
      "------ 8\n",
      "{5: Timestamp('2019-05-30 00:00:00'), 6: Timestamp('2019-06-29 00:00:00'), 7: Timestamp('2019-07-30 00:00:00')}\n"
     ]
    },
    {
     "name": "stderr",
     "output_type": "stream",
     "text": [
      "/home/ubuntu/data/code/ref_fdetector/src/lib/mainlib.py:677: UserWarning: Boolean Series key will be reindexed to match DataFrame index.\n",
      "  df = df[(f1 & f2) | f3]\n"
     ]
    },
    {
     "name": "stdout",
     "output_type": "stream",
     "text": [
      "{5: Timestamp('2019-05-30 00:00:00'), 6: Timestamp('2019-06-29 00:00:00'), 7: Timestamp('2019-07-30 00:00:00')}\n",
      "################################################\n",
      "7--######## BT2A413741641 #########\n",
      "------ 0\n",
      "------ 1\n",
      "------ 2\n",
      "------ 3\n",
      "------ 4\n",
      "------ 5\n",
      "++++++Erro 2++++++++++ \n",
      "Traceback (most recent call last):\n",
      "  File \"<ipython-input-40-854869aae9c4>\", line 26, in loopy2\n",
      "    dfas.read_fasorial(d_insta_to_files_fas[instalacao], dtype=None, index_col=[5], sep = sepfas)\n",
      "KeyError: 'BT2A413741641'\n",
      "\n",
      "++++++++++++++++++++\n",
      "7--######## BT2A414604945 #########\n",
      "------ 0\n",
      "------ 1\n",
      "------ 2\n",
      "------ 3\n",
      "------ 4\n",
      "------ 5\n",
      "------ 6\n",
      "------ 7\n",
      "------ 8\n",
      "{5: Timestamp('2019-05-06 00:00:00'), 6: Timestamp('2019-06-06 00:00:00'), 7: Timestamp('2019-07-04 00:00:00')}\n"
     ]
    },
    {
     "name": "stderr",
     "output_type": "stream",
     "text": [
      "/home/ubuntu/data/code/ref_fdetector/src/lib/mainlib.py:677: UserWarning: Boolean Series key will be reindexed to match DataFrame index.\n",
      "  df = df[(f1 & f2) | f3]\n"
     ]
    },
    {
     "name": "stdout",
     "output_type": "stream",
     "text": [
      "{5: Timestamp('2019-05-06 00:00:00'), 6: Timestamp('2019-06-06 00:00:00'), 7: Timestamp('2019-07-04 00:00:00')}\n",
      "################################################\n",
      "8--######## BT2A420135273 #########\n",
      "------ 0\n",
      "------ 1\n",
      "------ 2\n",
      "------ 3\n",
      "------ 4\n",
      "------ 5\n",
      "------ 6\n",
      "------ 7\n",
      "------ 8\n",
      "{5: Timestamp('2019-05-29 00:00:00'), 6: Timestamp('2019-06-28 00:00:00'), 7: Timestamp('2019-07-29 00:00:00')}\n"
     ]
    },
    {
     "name": "stderr",
     "output_type": "stream",
     "text": [
      "/home/ubuntu/data/code/ref_fdetector/src/lib/mainlib.py:677: UserWarning: Boolean Series key will be reindexed to match DataFrame index.\n",
      "  df = df[(f1 & f2) | f3]\n",
      "/home/ubuntu/data/code/ref_fdetector/src/lib/mainlib.py:677: UserWarning: Boolean Series key will be reindexed to match DataFrame index.\n",
      "  df = df[(f1 & f2) | f3]\n",
      "/home/ubuntu/data/code/ref_fdetector/src/lib/mainlib.py:677: UserWarning: Boolean Series key will be reindexed to match DataFrame index.\n",
      "  df = df[(f1 & f2) | f3]\n"
     ]
    },
    {
     "name": "stdout",
     "output_type": "stream",
     "text": [
      "{5: Timestamp('2019-05-29 00:00:00'), 6: Timestamp('2019-06-28 00:00:00'), 7: Timestamp('2019-07-29 00:00:00')}\n",
      "################################################\n",
      "9--######## BT2A420515786 #########\n",
      "------ 0\n",
      "------ 1\n",
      "------ 2\n",
      "------ 3\n",
      "------ 4\n",
      "------ 5\n",
      "------ 6\n",
      "------ 7\n",
      "------ 8\n",
      "{5: Timestamp('2019-05-20 00:00:00'), 6: Timestamp('2019-06-21 00:00:00'), 7: Timestamp('2019-07-19 00:00:00')}\n"
     ]
    },
    {
     "name": "stderr",
     "output_type": "stream",
     "text": [
      "/home/ubuntu/data/code/ref_fdetector/src/lib/mainlib.py:677: UserWarning: Boolean Series key will be reindexed to match DataFrame index.\n",
      "  df = df[(f1 & f2) | f3]\n",
      "/home/ubuntu/data/code/ref_fdetector/src/lib/mainlib.py:677: UserWarning: Boolean Series key will be reindexed to match DataFrame index.\n",
      "  df = df[(f1 & f2) | f3]\n",
      "/home/ubuntu/data/code/ref_fdetector/src/lib/mainlib.py:677: UserWarning: Boolean Series key will be reindexed to match DataFrame index.\n",
      "  df = df[(f1 & f2) | f3]\n"
     ]
    },
    {
     "name": "stdout",
     "output_type": "stream",
     "text": [
      "{5: Timestamp('2019-05-20 00:00:00'), 6: Timestamp('2019-06-21 00:00:00'), 7: Timestamp('2019-07-19 00:00:00')}\n",
      "################################################\n",
      "10--######## BT2A420700602 #########\n",
      "------ 0\n",
      "------ 1\n",
      "------ 2\n",
      "------ 3\n",
      "------ 4\n",
      "------ 5\n",
      "++++++Erro 2++++++++++ \n",
      "Traceback (most recent call last):\n",
      "  File \"<ipython-input-40-854869aae9c4>\", line 26, in loopy2\n",
      "    dfas.read_fasorial(d_insta_to_files_fas[instalacao], dtype=None, index_col=[5], sep = sepfas)\n",
      "KeyError: 'BT2A420700602'\n",
      "\n",
      "++++++++++++++++++++\n",
      "10--######## BTI400064734 #########\n",
      "------ 0\n",
      "------ 1\n",
      "------ 2\n",
      "------ 3\n",
      "------ 4\n",
      "------ 5\n",
      "------ 6\n",
      "------ 7\n",
      "------ 8\n",
      "{5: Timestamp('2019-05-23 00:00:00'), 6: Timestamp('2019-06-24 00:00:00'), 7: Timestamp('2019-07-23 00:00:00')}\n"
     ]
    },
    {
     "name": "stderr",
     "output_type": "stream",
     "text": [
      "/home/ubuntu/data/code/ref_fdetector/src/lib/mainlib.py:677: UserWarning: Boolean Series key will be reindexed to match DataFrame index.\n",
      "  df = df[(f1 & f2) | f3]\n",
      "/home/ubuntu/data/code/ref_fdetector/src/lib/mainlib.py:677: UserWarning: Boolean Series key will be reindexed to match DataFrame index.\n",
      "  df = df[(f1 & f2) | f3]\n"
     ]
    },
    {
     "name": "stdout",
     "output_type": "stream",
     "text": [
      "{5: Timestamp('2019-05-23 00:00:00'), 6: Timestamp('2019-06-24 00:00:00'), 7: Timestamp('2019-07-23 00:00:00')}\n",
      "################################################\n",
      "11--######## BTI400085863 #########\n",
      "------ 0\n",
      "------ 1\n",
      "------ 2\n",
      "------ 3\n",
      "------ 4\n",
      "------ 5\n",
      "------ 6\n",
      "------ 7\n",
      "------ 8\n",
      "{5: Timestamp('2019-05-28 00:00:00'), 6: Timestamp('2019-06-27 00:00:00'), 7: Timestamp('2019-07-26 00:00:00')}\n"
     ]
    },
    {
     "name": "stderr",
     "output_type": "stream",
     "text": [
      "/home/ubuntu/data/code/ref_fdetector/src/lib/mainlib.py:677: UserWarning: Boolean Series key will be reindexed to match DataFrame index.\n",
      "  df = df[(f1 & f2) | f3]\n",
      "/home/ubuntu/data/code/ref_fdetector/src/lib/mainlib.py:677: UserWarning: Boolean Series key will be reindexed to match DataFrame index.\n",
      "  df = df[(f1 & f2) | f3]\n",
      "/home/ubuntu/data/code/ref_fdetector/src/lib/mainlib.py:677: UserWarning: Boolean Series key will be reindexed to match DataFrame index.\n",
      "  df = df[(f1 & f2) | f3]\n"
     ]
    },
    {
     "name": "stdout",
     "output_type": "stream",
     "text": [
      "{5: Timestamp('2019-05-28 00:00:00'), 6: Timestamp('2019-06-27 00:00:00'), 7: Timestamp('2019-07-26 00:00:00')}\n",
      "################################################\n",
      "12--######## BTI400086150 #########\n",
      "------ 0\n",
      "------ 1\n",
      "------ 2\n",
      "------ 3\n",
      "------ 4\n",
      "------ 5\n",
      "------ 6\n",
      "------ 7\n",
      "------ 8\n",
      "{5: Timestamp('2019-05-06 00:00:00'), 6: Timestamp('2019-06-06 00:00:00'), 7: Timestamp('2019-07-04 00:00:00')}\n"
     ]
    },
    {
     "name": "stderr",
     "output_type": "stream",
     "text": [
      "/home/ubuntu/data/code/ref_fdetector/src/lib/mainlib.py:677: UserWarning: Boolean Series key will be reindexed to match DataFrame index.\n",
      "  df = df[(f1 & f2) | f3]\n",
      "/home/ubuntu/data/code/ref_fdetector/src/lib/mainlib.py:677: UserWarning: Boolean Series key will be reindexed to match DataFrame index.\n",
      "  df = df[(f1 & f2) | f3]\n",
      "/home/ubuntu/data/code/ref_fdetector/src/lib/mainlib.py:677: UserWarning: Boolean Series key will be reindexed to match DataFrame index.\n",
      "  df = df[(f1 & f2) | f3]\n"
     ]
    },
    {
     "name": "stdout",
     "output_type": "stream",
     "text": [
      "{5: Timestamp('2019-05-06 00:00:00'), 6: Timestamp('2019-06-06 00:00:00'), 7: Timestamp('2019-07-04 00:00:00')}\n",
      "################################################\n",
      "13--######## BTI400086681 #########\n",
      "------ 0\n",
      "------ 1\n",
      "------ 2\n",
      "------ 3\n",
      "------ 4\n",
      "------ 5\n",
      "------ 6\n",
      "------ 7\n",
      "------ 8\n",
      "{5: Timestamp('2019-05-08 00:00:00'), 6: Timestamp('2019-06-10 00:00:00'), 7: Timestamp('2019-07-08 00:00:00')}\n"
     ]
    },
    {
     "name": "stderr",
     "output_type": "stream",
     "text": [
      "/home/ubuntu/data/code/ref_fdetector/src/lib/mainlib.py:677: UserWarning: Boolean Series key will be reindexed to match DataFrame index.\n",
      "  df = df[(f1 & f2) | f3]\n",
      "/home/ubuntu/data/code/ref_fdetector/src/lib/mainlib.py:677: UserWarning: Boolean Series key will be reindexed to match DataFrame index.\n",
      "  df = df[(f1 & f2) | f3]\n"
     ]
    },
    {
     "name": "stdout",
     "output_type": "stream",
     "text": [
      "{5: Timestamp('2019-05-08 00:00:00'), 6: Timestamp('2019-06-10 00:00:00'), 7: Timestamp('2019-07-08 00:00:00')}\n",
      "################################################\n",
      "14--######## BTI400091995 #########\n",
      "------ 0\n",
      "------ 1\n",
      "------ 2\n",
      "------ 3\n",
      "------ 4\n",
      "------ 5\n",
      "------ 6\n",
      "------ 7\n",
      "------ 8\n",
      "{5: Timestamp('2019-05-30 00:00:00'), 6: Timestamp('2019-06-29 00:00:00'), 7: Timestamp('2019-07-30 00:00:00')}\n"
     ]
    },
    {
     "name": "stderr",
     "output_type": "stream",
     "text": [
      "/home/ubuntu/data/code/ref_fdetector/src/lib/mainlib.py:677: UserWarning: Boolean Series key will be reindexed to match DataFrame index.\n",
      "  df = df[(f1 & f2) | f3]\n",
      "/home/ubuntu/data/code/ref_fdetector/src/lib/mainlib.py:677: UserWarning: Boolean Series key will be reindexed to match DataFrame index.\n",
      "  df = df[(f1 & f2) | f3]\n",
      "/home/ubuntu/data/code/ref_fdetector/src/lib/mainlib.py:677: UserWarning: Boolean Series key will be reindexed to match DataFrame index.\n",
      "  df = df[(f1 & f2) | f3]\n"
     ]
    },
    {
     "name": "stdout",
     "output_type": "stream",
     "text": [
      "{5: Timestamp('2019-05-30 00:00:00'), 6: Timestamp('2019-06-29 00:00:00'), 7: Timestamp('2019-07-30 00:00:00')}\n",
      "################################################\n",
      "15--######## BTI400114910 #########\n",
      "------ 0\n",
      "------ 1\n",
      "------ 2\n",
      "------ 3\n",
      "------ 4\n",
      "------ 5\n",
      "------ 6\n",
      "------ 7\n",
      "------ 8\n",
      "{5: Timestamp('2019-05-30 00:00:00'), 6: Timestamp('2019-06-29 00:00:00'), 7: Timestamp('2019-07-30 00:00:00')}\n"
     ]
    },
    {
     "name": "stderr",
     "output_type": "stream",
     "text": [
      "/home/ubuntu/data/code/ref_fdetector/src/lib/mainlib.py:677: UserWarning: Boolean Series key will be reindexed to match DataFrame index.\n",
      "  df = df[(f1 & f2) | f3]\n",
      "/home/ubuntu/data/code/ref_fdetector/src/lib/mainlib.py:677: UserWarning: Boolean Series key will be reindexed to match DataFrame index.\n",
      "  df = df[(f1 & f2) | f3]\n",
      "/home/ubuntu/data/code/ref_fdetector/src/lib/mainlib.py:677: UserWarning: Boolean Series key will be reindexed to match DataFrame index.\n",
      "  df = df[(f1 & f2) | f3]\n"
     ]
    },
    {
     "name": "stdout",
     "output_type": "stream",
     "text": [
      "{5: Timestamp('2019-05-30 00:00:00'), 6: Timestamp('2019-06-29 00:00:00'), 7: Timestamp('2019-07-30 00:00:00')}\n",
      "################################################\n",
      "16--######## BTI400153567 #########\n",
      "------ 0\n",
      "------ 1\n",
      "------ 2\n",
      "------ 3\n",
      "------ 4\n",
      "------ 5\n",
      "++++++Erro 2++++++++++ \n",
      "Traceback (most recent call last):\n",
      "  File \"<ipython-input-40-854869aae9c4>\", line 26, in loopy2\n",
      "    dfas.read_fasorial(d_insta_to_files_fas[instalacao], dtype=None, index_col=[5], sep = sepfas)\n",
      "KeyError: 'BTI400153567'\n",
      "\n",
      "++++++++++++++++++++\n",
      "16--######## BTI410008428 #########\n",
      "------ 0\n",
      "------ 1\n",
      "------ 2\n",
      "------ 3\n",
      "------ 4\n",
      "------ 5\n",
      "------ 6\n",
      "------ 7\n",
      "------ 8\n",
      "{5: Timestamp('2019-05-30 00:00:00'), 6: Timestamp('2019-06-29 00:00:00'), 7: Timestamp('2019-07-30 00:00:00')}\n"
     ]
    },
    {
     "name": "stderr",
     "output_type": "stream",
     "text": [
      "/home/ubuntu/data/code/ref_fdetector/src/lib/mainlib.py:677: UserWarning: Boolean Series key will be reindexed to match DataFrame index.\n",
      "  df = df[(f1 & f2) | f3]\n",
      "/home/ubuntu/data/code/ref_fdetector/src/lib/mainlib.py:677: UserWarning: Boolean Series key will be reindexed to match DataFrame index.\n",
      "  df = df[(f1 & f2) | f3]\n",
      "/home/ubuntu/data/code/ref_fdetector/src/lib/mainlib.py:677: UserWarning: Boolean Series key will be reindexed to match DataFrame index.\n",
      "  df = df[(f1 & f2) | f3]\n"
     ]
    },
    {
     "name": "stdout",
     "output_type": "stream",
     "text": [
      "{5: Timestamp('2019-05-30 00:00:00'), 6: Timestamp('2019-06-29 00:00:00'), 7: Timestamp('2019-07-30 00:00:00')}\n",
      "################################################\n",
      "17--######## BTI410049617 #########\n",
      "------ 0\n",
      "------ 1\n",
      "------ 2\n",
      "------ 3\n",
      "------ 4\n",
      "------ 5\n",
      "------ 6\n",
      "------ 7\n",
      "------ 8\n",
      "{5: Timestamp('2019-05-30 00:00:00'), 6: Timestamp('2019-06-29 00:00:00'), 7: Timestamp('2019-07-30 00:00:00')}\n"
     ]
    },
    {
     "name": "stderr",
     "output_type": "stream",
     "text": [
      "/home/ubuntu/data/code/ref_fdetector/src/lib/mainlib.py:677: UserWarning: Boolean Series key will be reindexed to match DataFrame index.\n",
      "  df = df[(f1 & f2) | f3]\n",
      "/home/ubuntu/data/code/ref_fdetector/src/lib/mainlib.py:677: UserWarning: Boolean Series key will be reindexed to match DataFrame index.\n",
      "  df = df[(f1 & f2) | f3]\n"
     ]
    },
    {
     "name": "stdout",
     "output_type": "stream",
     "text": [
      "{5: Timestamp('2019-05-30 00:00:00'), 6: Timestamp('2019-06-29 00:00:00'), 7: Timestamp('2019-07-30 00:00:00')}\n",
      "################################################\n",
      "18--######## BTI410155805 #########\n",
      "------ 0\n",
      "------ 1\n",
      "------ 2\n",
      "------ 3\n",
      "------ 4\n",
      "------ 5\n",
      "------ 6\n",
      "------ 7\n",
      "------ 8\n",
      "{5: Timestamp('2019-05-17 00:00:00'), 6: Timestamp('2019-06-19 00:00:00'), 7: Timestamp('2019-07-18 00:00:00')}\n"
     ]
    },
    {
     "name": "stderr",
     "output_type": "stream",
     "text": [
      "/home/ubuntu/data/code/ref_fdetector/src/lib/mainlib.py:677: UserWarning: Boolean Series key will be reindexed to match DataFrame index.\n",
      "  df = df[(f1 & f2) | f3]\n",
      "/home/ubuntu/data/code/ref_fdetector/src/lib/mainlib.py:677: UserWarning: Boolean Series key will be reindexed to match DataFrame index.\n",
      "  df = df[(f1 & f2) | f3]\n",
      "/home/ubuntu/data/code/ref_fdetector/src/lib/mainlib.py:677: UserWarning: Boolean Series key will be reindexed to match DataFrame index.\n",
      "  df = df[(f1 & f2) | f3]\n"
     ]
    },
    {
     "name": "stdout",
     "output_type": "stream",
     "text": [
      "{5: Timestamp('2019-05-17 00:00:00'), 6: Timestamp('2019-06-19 00:00:00'), 7: Timestamp('2019-07-18 00:00:00')}\n",
      "################################################\n",
      "19--######## BTI410328848 #########\n",
      "------ 0\n",
      "------ 1\n",
      "------ 2\n",
      "------ 3\n",
      "------ 4\n",
      "------ 5\n",
      "------ 6\n",
      "------ 7\n",
      "------ 8\n",
      "{5: Timestamp('2019-05-10 00:00:00'), 6: Timestamp('2019-06-12 00:00:00'), 7: Timestamp('2019-07-10 00:00:00')}\n"
     ]
    },
    {
     "name": "stderr",
     "output_type": "stream",
     "text": [
      "/home/ubuntu/data/code/ref_fdetector/src/lib/mainlib.py:677: UserWarning: Boolean Series key will be reindexed to match DataFrame index.\n",
      "  df = df[(f1 & f2) | f3]\n",
      "/home/ubuntu/data/code/ref_fdetector/src/lib/mainlib.py:677: UserWarning: Boolean Series key will be reindexed to match DataFrame index.\n",
      "  df = df[(f1 & f2) | f3]\n",
      "/home/ubuntu/data/code/ref_fdetector/src/lib/mainlib.py:677: UserWarning: Boolean Series key will be reindexed to match DataFrame index.\n",
      "  df = df[(f1 & f2) | f3]\n"
     ]
    },
    {
     "name": "stdout",
     "output_type": "stream",
     "text": [
      "{5: Timestamp('2019-05-10 00:00:00'), 6: Timestamp('2019-06-12 00:00:00'), 7: Timestamp('2019-07-10 00:00:00')}\n",
      "################################################\n",
      "20--######## BTI410364444 #########\n",
      "------ 0\n",
      "------ 1\n",
      "------ 2\n",
      "------ 3\n",
      "------ 4\n",
      "------ 5\n",
      "------ 6\n",
      "------ 7\n",
      "------ 8\n",
      "{5: Timestamp('2019-05-30 00:00:00'), 6: Timestamp('2019-06-29 00:00:00'), 7: Timestamp('2019-07-30 00:00:00')}\n"
     ]
    },
    {
     "name": "stderr",
     "output_type": "stream",
     "text": [
      "/home/ubuntu/data/code/ref_fdetector/src/lib/mainlib.py:677: UserWarning: Boolean Series key will be reindexed to match DataFrame index.\n",
      "  df = df[(f1 & f2) | f3]\n"
     ]
    },
    {
     "name": "stdout",
     "output_type": "stream",
     "text": [
      "{5: Timestamp('2019-05-30 00:00:00'), 6: Timestamp('2019-06-29 00:00:00'), 7: Timestamp('2019-07-30 00:00:00')}\n",
      "################################################\n",
      "21--######## BTI410364472 #########\n",
      "------ 0\n",
      "------ 1\n",
      "------ 2\n",
      "------ 3\n",
      "------ 4\n",
      "------ 5\n",
      "------ 6\n",
      "------ 7\n",
      "------ 8\n",
      "{5: Timestamp('2019-05-30 00:00:00'), 6: Timestamp('2019-06-29 00:00:00'), 7: Timestamp('2019-07-30 00:00:00')}\n"
     ]
    },
    {
     "name": "stderr",
     "output_type": "stream",
     "text": [
      "/home/ubuntu/data/code/ref_fdetector/src/lib/mainlib.py:677: UserWarning: Boolean Series key will be reindexed to match DataFrame index.\n",
      "  df = df[(f1 & f2) | f3]\n",
      "/home/ubuntu/data/code/ref_fdetector/src/lib/mainlib.py:677: UserWarning: Boolean Series key will be reindexed to match DataFrame index.\n",
      "  df = df[(f1 & f2) | f3]\n",
      "/home/ubuntu/data/code/ref_fdetector/src/lib/mainlib.py:677: UserWarning: Boolean Series key will be reindexed to match DataFrame index.\n",
      "  df = df[(f1 & f2) | f3]\n"
     ]
    },
    {
     "name": "stdout",
     "output_type": "stream",
     "text": [
      "{5: Timestamp('2019-05-30 00:00:00'), 6: Timestamp('2019-06-29 00:00:00'), 7: Timestamp('2019-07-30 00:00:00')}\n",
      "################################################\n",
      "22--######## BTI410426420 #########\n",
      "------ 0\n",
      "------ 1\n",
      "------ 2\n",
      "------ 3\n",
      "------ 4\n",
      "------ 5\n",
      "------ 6\n",
      "------ 7\n",
      "------ 8\n",
      "{5: Timestamp('2019-05-16 00:00:00'), 6: Timestamp('2019-06-18 00:00:00'), 7: Timestamp('2019-07-16 00:00:00')}\n"
     ]
    },
    {
     "name": "stderr",
     "output_type": "stream",
     "text": [
      "/home/ubuntu/data/code/ref_fdetector/src/lib/mainlib.py:677: UserWarning: Boolean Series key will be reindexed to match DataFrame index.\n",
      "  df = df[(f1 & f2) | f3]\n",
      "/home/ubuntu/data/code/ref_fdetector/src/lib/mainlib.py:677: UserWarning: Boolean Series key will be reindexed to match DataFrame index.\n",
      "  df = df[(f1 & f2) | f3]\n",
      "/home/ubuntu/data/code/ref_fdetector/src/lib/mainlib.py:677: UserWarning: Boolean Series key will be reindexed to match DataFrame index.\n",
      "  df = df[(f1 & f2) | f3]\n"
     ]
    },
    {
     "name": "stdout",
     "output_type": "stream",
     "text": [
      "{5: Timestamp('2019-05-16 00:00:00'), 6: Timestamp('2019-06-18 00:00:00'), 7: Timestamp('2019-07-16 00:00:00')}\n",
      "################################################\n",
      "23--######## BTI410447700 #########\n",
      "------ 0\n",
      "------ 1\n",
      "------ 2\n",
      "------ 3\n",
      "------ 4\n",
      "------ 5\n",
      "------ 6\n",
      "------ 7\n",
      "------ 8\n",
      "{5: Timestamp('2019-05-30 00:00:00'), 6: Timestamp('2019-06-29 00:00:00'), 7: Timestamp('2019-07-30 00:00:00')}\n"
     ]
    },
    {
     "name": "stderr",
     "output_type": "stream",
     "text": [
      "/home/ubuntu/data/code/ref_fdetector/src/lib/mainlib.py:677: UserWarning: Boolean Series key will be reindexed to match DataFrame index.\n",
      "  df = df[(f1 & f2) | f3]\n",
      "/home/ubuntu/data/code/ref_fdetector/src/lib/mainlib.py:677: UserWarning: Boolean Series key will be reindexed to match DataFrame index.\n",
      "  df = df[(f1 & f2) | f3]\n"
     ]
    },
    {
     "name": "stdout",
     "output_type": "stream",
     "text": [
      "{5: Timestamp('2019-05-30 00:00:00'), 6: Timestamp('2019-06-29 00:00:00'), 7: Timestamp('2019-07-30 00:00:00')}\n",
      "################################################\n",
      "24--######## BTI410732088 #########\n",
      "------ 0\n",
      "------ 1\n",
      "------ 2\n",
      "------ 3\n",
      "------ 4\n",
      "------ 5\n",
      "------ 6\n",
      "------ 7\n",
      "------ 8\n",
      "{5: Timestamp('2019-05-14 00:00:00'), 6: Timestamp('2019-06-14 00:00:00'), 7: Timestamp('2019-07-12 00:00:00')}\n"
     ]
    },
    {
     "name": "stderr",
     "output_type": "stream",
     "text": [
      "/home/ubuntu/data/code/ref_fdetector/src/lib/mainlib.py:677: UserWarning: Boolean Series key will be reindexed to match DataFrame index.\n",
      "  df = df[(f1 & f2) | f3]\n",
      "/home/ubuntu/data/code/ref_fdetector/src/lib/mainlib.py:677: UserWarning: Boolean Series key will be reindexed to match DataFrame index.\n",
      "  df = df[(f1 & f2) | f3]\n",
      "/home/ubuntu/data/code/ref_fdetector/src/lib/mainlib.py:677: UserWarning: Boolean Series key will be reindexed to match DataFrame index.\n",
      "  df = df[(f1 & f2) | f3]\n"
     ]
    },
    {
     "name": "stdout",
     "output_type": "stream",
     "text": [
      "{5: Timestamp('2019-05-14 00:00:00'), 6: Timestamp('2019-06-14 00:00:00'), 7: Timestamp('2019-07-12 00:00:00')}\n",
      "################################################\n",
      "25--######## BTI410758477 #########\n",
      "------ 0\n",
      "------ 1\n",
      "------ 2\n",
      "------ 3\n",
      "------ 4\n",
      "------ 5\n",
      "------ 6\n",
      "------ 7\n",
      "------ 8\n",
      "{5: Timestamp('2019-05-13 00:00:00'), 6: Timestamp('2019-06-13 00:00:00'), 7: Timestamp('2019-07-11 00:00:00')}\n"
     ]
    },
    {
     "name": "stderr",
     "output_type": "stream",
     "text": [
      "/home/ubuntu/data/code/ref_fdetector/src/lib/mainlib.py:677: UserWarning: Boolean Series key will be reindexed to match DataFrame index.\n",
      "  df = df[(f1 & f2) | f3]\n",
      "/home/ubuntu/data/code/ref_fdetector/src/lib/mainlib.py:677: UserWarning: Boolean Series key will be reindexed to match DataFrame index.\n",
      "  df = df[(f1 & f2) | f3]\n",
      "/home/ubuntu/data/code/ref_fdetector/src/lib/mainlib.py:677: UserWarning: Boolean Series key will be reindexed to match DataFrame index.\n",
      "  df = df[(f1 & f2) | f3]\n"
     ]
    },
    {
     "name": "stdout",
     "output_type": "stream",
     "text": [
      "{5: Timestamp('2019-05-13 00:00:00'), 6: Timestamp('2019-06-13 00:00:00'), 7: Timestamp('2019-07-11 00:00:00')}\n",
      "################################################\n",
      "26--######## BTI411055611 #########\n",
      "------ 0\n",
      "------ 1\n",
      "------ 2\n",
      "------ 3\n",
      "------ 4\n",
      "------ 5\n",
      "------ 6\n",
      "------ 7\n",
      "------ 8\n",
      "{5: Timestamp('2019-05-10 00:00:00'), 6: Timestamp('2019-06-12 00:00:00'), 7: Timestamp('2019-07-10 00:00:00')}\n"
     ]
    },
    {
     "name": "stderr",
     "output_type": "stream",
     "text": [
      "/home/ubuntu/data/code/ref_fdetector/src/lib/mainlib.py:677: UserWarning: Boolean Series key will be reindexed to match DataFrame index.\n",
      "  df = df[(f1 & f2) | f3]\n",
      "/home/ubuntu/data/code/ref_fdetector/src/lib/mainlib.py:677: UserWarning: Boolean Series key will be reindexed to match DataFrame index.\n",
      "  df = df[(f1 & f2) | f3]\n"
     ]
    },
    {
     "name": "stdout",
     "output_type": "stream",
     "text": [
      "{5: Timestamp('2019-05-10 00:00:00'), 6: Timestamp('2019-06-12 00:00:00'), 7: Timestamp('2019-07-10 00:00:00')}\n",
      "################################################\n",
      "27--######## BTI411156078 #########\n",
      "------ 0\n",
      "------ 1\n",
      "------ 2\n",
      "------ 3\n",
      "------ 4\n",
      "------ 5\n",
      "------ 6\n",
      "------ 7\n",
      "------ 8\n",
      "{5: Timestamp('2019-05-30 00:00:00'), 6: Timestamp('2019-06-29 00:00:00'), 7: Timestamp('2019-07-30 00:00:00')}\n"
     ]
    },
    {
     "name": "stderr",
     "output_type": "stream",
     "text": [
      "/home/ubuntu/data/code/ref_fdetector/src/lib/mainlib.py:677: UserWarning: Boolean Series key will be reindexed to match DataFrame index.\n",
      "  df = df[(f1 & f2) | f3]\n",
      "/home/ubuntu/data/code/ref_fdetector/src/lib/mainlib.py:677: UserWarning: Boolean Series key will be reindexed to match DataFrame index.\n",
      "  df = df[(f1 & f2) | f3]\n",
      "/home/ubuntu/data/code/ref_fdetector/src/lib/mainlib.py:677: UserWarning: Boolean Series key will be reindexed to match DataFrame index.\n",
      "  df = df[(f1 & f2) | f3]\n"
     ]
    },
    {
     "name": "stdout",
     "output_type": "stream",
     "text": [
      "{5: Timestamp('2019-05-30 00:00:00'), 6: Timestamp('2019-06-29 00:00:00'), 7: Timestamp('2019-07-30 00:00:00')}\n",
      "################################################\n",
      "28--######## BTI411175463 #########\n",
      "------ 0\n",
      "------ 1\n",
      "------ 2\n",
      "------ 3\n",
      "------ 4\n",
      "------ 5\n",
      "++++++Erro 2++++++++++ \n",
      "Traceback (most recent call last):\n",
      "  File \"<ipython-input-40-854869aae9c4>\", line 26, in loopy2\n",
      "    dfas.read_fasorial(d_insta_to_files_fas[instalacao], dtype=None, index_col=[5], sep = sepfas)\n",
      "KeyError: 'BTI411175463'\n",
      "\n",
      "++++++++++++++++++++\n",
      "28--######## BTI411211744 #########\n",
      "------ 0\n",
      "------ 1\n",
      "------ 2\n",
      "------ 3\n",
      "------ 4\n",
      "------ 5\n",
      "------ 6\n",
      "------ 7\n",
      "------ 8\n",
      "{5: Timestamp('2019-05-21 00:00:00'), 6: Timestamp('2019-06-22 00:00:00'), 7: Timestamp('2019-07-22 00:00:00')}\n"
     ]
    },
    {
     "name": "stderr",
     "output_type": "stream",
     "text": [
      "/home/ubuntu/data/code/ref_fdetector/src/lib/mainlib.py:677: UserWarning: Boolean Series key will be reindexed to match DataFrame index.\n",
      "  df = df[(f1 & f2) | f3]\n",
      "/home/ubuntu/data/code/ref_fdetector/src/lib/mainlib.py:677: UserWarning: Boolean Series key will be reindexed to match DataFrame index.\n",
      "  df = df[(f1 & f2) | f3]\n",
      "/home/ubuntu/data/code/ref_fdetector/src/lib/mainlib.py:677: UserWarning: Boolean Series key will be reindexed to match DataFrame index.\n",
      "  df = df[(f1 & f2) | f3]\n"
     ]
    },
    {
     "name": "stdout",
     "output_type": "stream",
     "text": [
      "{5: Timestamp('2019-05-21 00:00:00'), 6: Timestamp('2019-06-22 00:00:00'), 7: Timestamp('2019-07-22 00:00:00')}\n",
      "################################################\n",
      "29--######## BTI411212425 #########\n",
      "------ 0\n",
      "------ 1\n",
      "------ 2\n",
      "------ 3\n",
      "------ 4\n",
      "------ 5\n",
      "------ 6\n",
      "------ 7\n",
      "------ 8\n",
      "{5: Timestamp('2019-05-21 00:00:00'), 6: Timestamp('2019-06-22 00:00:00'), 7: Timestamp('2019-07-22 00:00:00')}\n"
     ]
    },
    {
     "name": "stderr",
     "output_type": "stream",
     "text": [
      "/home/ubuntu/data/code/ref_fdetector/src/lib/mainlib.py:677: UserWarning: Boolean Series key will be reindexed to match DataFrame index.\n",
      "  df = df[(f1 & f2) | f3]\n",
      "/home/ubuntu/data/code/ref_fdetector/src/lib/mainlib.py:677: UserWarning: Boolean Series key will be reindexed to match DataFrame index.\n",
      "  df = df[(f1 & f2) | f3]\n",
      "/home/ubuntu/data/code/ref_fdetector/src/lib/mainlib.py:677: UserWarning: Boolean Series key will be reindexed to match DataFrame index.\n",
      "  df = df[(f1 & f2) | f3]\n"
     ]
    },
    {
     "name": "stdout",
     "output_type": "stream",
     "text": [
      "{5: Timestamp('2019-05-21 00:00:00'), 6: Timestamp('2019-06-22 00:00:00'), 7: Timestamp('2019-07-22 00:00:00')}\n",
      "################################################\n",
      "30--######## BTI411284122 #########\n",
      "------ 0\n",
      "------ 1\n",
      "------ 2\n",
      "------ 3\n",
      "------ 4\n",
      "------ 5\n",
      "------ 6\n",
      "------ 7\n",
      "------ 8\n",
      "{5: Timestamp('2019-05-27 00:00:00'), 6: Timestamp('2019-06-26 00:00:00'), 7: Timestamp('2019-07-25 00:00:00')}\n"
     ]
    },
    {
     "name": "stderr",
     "output_type": "stream",
     "text": [
      "/home/ubuntu/data/code/ref_fdetector/src/lib/mainlib.py:677: UserWarning: Boolean Series key will be reindexed to match DataFrame index.\n",
      "  df = df[(f1 & f2) | f3]\n",
      "/home/ubuntu/data/code/ref_fdetector/src/lib/mainlib.py:677: UserWarning: Boolean Series key will be reindexed to match DataFrame index.\n",
      "  df = df[(f1 & f2) | f3]\n",
      "/home/ubuntu/data/code/ref_fdetector/src/lib/mainlib.py:677: UserWarning: Boolean Series key will be reindexed to match DataFrame index.\n",
      "  df = df[(f1 & f2) | f3]\n"
     ]
    },
    {
     "name": "stdout",
     "output_type": "stream",
     "text": [
      "{5: Timestamp('2019-05-27 00:00:00'), 6: Timestamp('2019-06-26 00:00:00'), 7: Timestamp('2019-07-25 00:00:00')}\n",
      "################################################\n",
      "31--######## BTI411287978 #########\n",
      "------ 0\n",
      "------ 1\n",
      "------ 2\n",
      "------ 3\n",
      "------ 4\n",
      "------ 5\n",
      "------ 6\n",
      "------ 7\n",
      "------ 8\n",
      "{5: Timestamp('2019-05-27 00:00:00'), 6: Timestamp('2019-06-26 00:00:00'), 7: Timestamp('2019-07-25 00:00:00')}\n"
     ]
    },
    {
     "name": "stderr",
     "output_type": "stream",
     "text": [
      "/home/ubuntu/data/code/ref_fdetector/src/lib/mainlib.py:677: UserWarning: Boolean Series key will be reindexed to match DataFrame index.\n",
      "  df = df[(f1 & f2) | f3]\n",
      "/home/ubuntu/data/code/ref_fdetector/src/lib/mainlib.py:677: UserWarning: Boolean Series key will be reindexed to match DataFrame index.\n",
      "  df = df[(f1 & f2) | f3]\n",
      "/home/ubuntu/data/code/ref_fdetector/src/lib/mainlib.py:677: UserWarning: Boolean Series key will be reindexed to match DataFrame index.\n",
      "  df = df[(f1 & f2) | f3]\n"
     ]
    },
    {
     "name": "stdout",
     "output_type": "stream",
     "text": [
      "{5: Timestamp('2019-05-27 00:00:00'), 6: Timestamp('2019-06-26 00:00:00'), 7: Timestamp('2019-07-25 00:00:00')}\n",
      "################################################\n",
      "32--######## BTI411387076 #########\n",
      "------ 0\n",
      "------ 1\n",
      "------ 2\n",
      "------ 3\n",
      "------ 4\n",
      "------ 5\n",
      "------ 6\n",
      "------ 7\n",
      "------ 8\n",
      "{5: Timestamp('2019-05-14 00:00:00'), 6: Timestamp('2019-06-14 00:00:00'), 7: Timestamp('2019-07-12 00:00:00')}\n"
     ]
    },
    {
     "name": "stderr",
     "output_type": "stream",
     "text": [
      "/home/ubuntu/data/code/ref_fdetector/src/lib/mainlib.py:677: UserWarning: Boolean Series key will be reindexed to match DataFrame index.\n",
      "  df = df[(f1 & f2) | f3]\n",
      "/home/ubuntu/data/code/ref_fdetector/src/lib/mainlib.py:677: UserWarning: Boolean Series key will be reindexed to match DataFrame index.\n",
      "  df = df[(f1 & f2) | f3]\n",
      "/home/ubuntu/data/code/ref_fdetector/src/lib/mainlib.py:677: UserWarning: Boolean Series key will be reindexed to match DataFrame index.\n",
      "  df = df[(f1 & f2) | f3]\n"
     ]
    },
    {
     "name": "stdout",
     "output_type": "stream",
     "text": [
      "{5: Timestamp('2019-05-14 00:00:00'), 6: Timestamp('2019-06-14 00:00:00'), 7: Timestamp('2019-07-12 00:00:00')}\n",
      "################################################\n",
      "33--######## BTI411574674 #########\n",
      "------ 0\n",
      "------ 1\n",
      "------ 2\n",
      "------ 3\n",
      "------ 4\n",
      "------ 5\n",
      "------ 6\n",
      "------ 7\n",
      "------ 8\n",
      "{5: Timestamp('2019-05-29 00:00:00'), 6: Timestamp('2019-06-28 00:00:00'), 7: Timestamp('2019-07-29 00:00:00')}\n"
     ]
    },
    {
     "name": "stderr",
     "output_type": "stream",
     "text": [
      "/home/ubuntu/data/code/ref_fdetector/src/lib/mainlib.py:677: UserWarning: Boolean Series key will be reindexed to match DataFrame index.\n",
      "  df = df[(f1 & f2) | f3]\n",
      "/home/ubuntu/data/code/ref_fdetector/src/lib/mainlib.py:677: UserWarning: Boolean Series key will be reindexed to match DataFrame index.\n",
      "  df = df[(f1 & f2) | f3]\n",
      "/home/ubuntu/data/code/ref_fdetector/src/lib/mainlib.py:677: UserWarning: Boolean Series key will be reindexed to match DataFrame index.\n",
      "  df = df[(f1 & f2) | f3]\n"
     ]
    },
    {
     "name": "stdout",
     "output_type": "stream",
     "text": [
      "{5: Timestamp('2019-05-29 00:00:00'), 6: Timestamp('2019-06-28 00:00:00'), 7: Timestamp('2019-07-29 00:00:00')}\n",
      "################################################\n",
      "34--######## BTI411653674 #########\n",
      "------ 0\n",
      "------ 1\n",
      "------ 2\n",
      "------ 3\n",
      "------ 4\n",
      "------ 5\n",
      "------ 6\n",
      "------ 7\n",
      "------ 8\n",
      "{5: Timestamp('2019-05-29 00:00:00'), 6: Timestamp('2019-06-28 00:00:00'), 7: Timestamp('2019-07-29 00:00:00')}\n"
     ]
    },
    {
     "name": "stderr",
     "output_type": "stream",
     "text": [
      "/home/ubuntu/data/code/ref_fdetector/src/lib/mainlib.py:677: UserWarning: Boolean Series key will be reindexed to match DataFrame index.\n",
      "  df = df[(f1 & f2) | f3]\n",
      "/home/ubuntu/data/code/ref_fdetector/src/lib/mainlib.py:677: UserWarning: Boolean Series key will be reindexed to match DataFrame index.\n",
      "  df = df[(f1 & f2) | f3]\n",
      "/home/ubuntu/data/code/ref_fdetector/src/lib/mainlib.py:677: UserWarning: Boolean Series key will be reindexed to match DataFrame index.\n",
      "  df = df[(f1 & f2) | f3]\n"
     ]
    },
    {
     "name": "stdout",
     "output_type": "stream",
     "text": [
      "{5: Timestamp('2019-05-29 00:00:00'), 6: Timestamp('2019-06-28 00:00:00'), 7: Timestamp('2019-07-29 00:00:00')}\n",
      "################################################\n",
      "35--######## BTI411659603 #########\n",
      "------ 0\n",
      "------ 1\n",
      "------ 2\n",
      "------ 3\n",
      "------ 4\n",
      "------ 5\n",
      "------ 6\n",
      "------ 7\n",
      "------ 8\n",
      "{5: Timestamp('2019-05-30 00:00:00'), 6: Timestamp('2019-06-29 00:00:00'), 7: Timestamp('2019-07-30 00:00:00')}\n",
      "{5: Timestamp('2019-05-30 00:00:00'), 6: Timestamp('2019-06-29 00:00:00'), 7: Timestamp('2019-07-30 00:00:00')}\n",
      "################################################\n",
      "36--######## BTI411793194 #########\n",
      "------ 0\n",
      "------ 1\n",
      "------ 2\n",
      "------ 3\n",
      "------ 4\n",
      "------ 5\n",
      "------ 6\n",
      "------ 7\n",
      "------ 8\n",
      "{5: Timestamp('2019-05-13 00:00:00'), 6: Timestamp('2019-06-13 00:00:00'), 7: Timestamp('2019-07-11 00:00:00')}\n"
     ]
    },
    {
     "name": "stderr",
     "output_type": "stream",
     "text": [
      "/home/ubuntu/data/code/ref_fdetector/src/lib/mainlib.py:677: UserWarning: Boolean Series key will be reindexed to match DataFrame index.\n",
      "  df = df[(f1 & f2) | f3]\n",
      "/home/ubuntu/data/code/ref_fdetector/src/lib/mainlib.py:677: UserWarning: Boolean Series key will be reindexed to match DataFrame index.\n",
      "  df = df[(f1 & f2) | f3]\n",
      "/home/ubuntu/data/code/ref_fdetector/src/lib/mainlib.py:677: UserWarning: Boolean Series key will be reindexed to match DataFrame index.\n",
      "  df = df[(f1 & f2) | f3]\n"
     ]
    },
    {
     "name": "stdout",
     "output_type": "stream",
     "text": [
      "{5: Timestamp('2019-05-13 00:00:00'), 6: Timestamp('2019-06-13 00:00:00'), 7: Timestamp('2019-07-11 00:00:00')}\n",
      "################################################\n",
      "37--######## BTI411828439 #########\n",
      "------ 0\n",
      "------ 1\n",
      "------ 2\n",
      "------ 3\n",
      "------ 4\n",
      "------ 5\n",
      "------ 6\n",
      "------ 7\n",
      "------ 8\n",
      "{5: Timestamp('2019-05-30 00:00:00'), 6: Timestamp('2019-06-29 00:00:00'), 7: Timestamp('2019-07-30 00:00:00')}\n"
     ]
    },
    {
     "name": "stderr",
     "output_type": "stream",
     "text": [
      "/home/ubuntu/data/code/ref_fdetector/src/lib/mainlib.py:677: UserWarning: Boolean Series key will be reindexed to match DataFrame index.\n",
      "  df = df[(f1 & f2) | f3]\n",
      "/home/ubuntu/data/code/ref_fdetector/src/lib/mainlib.py:677: UserWarning: Boolean Series key will be reindexed to match DataFrame index.\n",
      "  df = df[(f1 & f2) | f3]\n",
      "/home/ubuntu/data/code/ref_fdetector/src/lib/mainlib.py:677: UserWarning: Boolean Series key will be reindexed to match DataFrame index.\n",
      "  df = df[(f1 & f2) | f3]\n"
     ]
    },
    {
     "name": "stdout",
     "output_type": "stream",
     "text": [
      "{5: Timestamp('2019-05-30 00:00:00'), 6: Timestamp('2019-06-29 00:00:00'), 7: Timestamp('2019-07-30 00:00:00')}\n",
      "################################################\n",
      "38--######## BTI411837862 #########\n",
      "------ 0\n",
      "------ 1\n",
      "------ 2\n",
      "------ 3\n",
      "------ 4\n",
      "------ 5\n",
      "------ 6\n",
      "------ 7\n",
      "------ 8\n",
      "{5: Timestamp('2019-05-30 00:00:00'), 6: Timestamp('2019-06-29 00:00:00'), 7: Timestamp('2019-07-30 00:00:00')}\n"
     ]
    },
    {
     "name": "stderr",
     "output_type": "stream",
     "text": [
      "/home/ubuntu/data/code/ref_fdetector/src/lib/mainlib.py:677: UserWarning: Boolean Series key will be reindexed to match DataFrame index.\n",
      "  df = df[(f1 & f2) | f3]\n",
      "/home/ubuntu/data/code/ref_fdetector/src/lib/mainlib.py:677: UserWarning: Boolean Series key will be reindexed to match DataFrame index.\n",
      "  df = df[(f1 & f2) | f3]\n",
      "/home/ubuntu/data/code/ref_fdetector/src/lib/mainlib.py:677: UserWarning: Boolean Series key will be reindexed to match DataFrame index.\n",
      "  df = df[(f1 & f2) | f3]\n"
     ]
    },
    {
     "name": "stdout",
     "output_type": "stream",
     "text": [
      "{5: Timestamp('2019-05-30 00:00:00'), 6: Timestamp('2019-06-29 00:00:00'), 7: Timestamp('2019-07-30 00:00:00')}\n",
      "################################################\n",
      "39--######## BTI411837868 #########\n",
      "------ 0\n",
      "------ 1\n",
      "------ 2\n",
      "------ 3\n",
      "------ 4\n",
      "------ 5\n",
      "------ 6\n",
      "------ 7\n",
      "------ 8\n",
      "{5: Timestamp('2019-05-30 00:00:00'), 6: Timestamp('2019-06-29 00:00:00'), 7: Timestamp('2019-07-30 00:00:00')}\n"
     ]
    },
    {
     "name": "stderr",
     "output_type": "stream",
     "text": [
      "/home/ubuntu/data/code/ref_fdetector/src/lib/mainlib.py:677: UserWarning: Boolean Series key will be reindexed to match DataFrame index.\n",
      "  df = df[(f1 & f2) | f3]\n",
      "/home/ubuntu/data/code/ref_fdetector/src/lib/mainlib.py:677: UserWarning: Boolean Series key will be reindexed to match DataFrame index.\n",
      "  df = df[(f1 & f2) | f3]\n",
      "/home/ubuntu/data/code/ref_fdetector/src/lib/mainlib.py:677: UserWarning: Boolean Series key will be reindexed to match DataFrame index.\n",
      "  df = df[(f1 & f2) | f3]\n"
     ]
    },
    {
     "name": "stdout",
     "output_type": "stream",
     "text": [
      "{5: Timestamp('2019-05-30 00:00:00'), 6: Timestamp('2019-06-29 00:00:00'), 7: Timestamp('2019-07-30 00:00:00')}\n",
      "################################################\n",
      "40--######## BTI411878714 #########\n",
      "------ 0\n",
      "------ 1\n",
      "------ 2\n",
      "------ 3\n",
      "------ 4\n",
      "------ 5\n",
      "------ 6\n",
      "------ 7\n",
      "------ 8\n",
      "{5: Timestamp('2019-05-29 00:00:00'), 6: Timestamp('2019-06-28 00:00:00'), 7: Timestamp('2019-07-29 00:00:00')}\n"
     ]
    },
    {
     "name": "stderr",
     "output_type": "stream",
     "text": [
      "/home/ubuntu/data/code/ref_fdetector/src/lib/mainlib.py:677: UserWarning: Boolean Series key will be reindexed to match DataFrame index.\n",
      "  df = df[(f1 & f2) | f3]\n",
      "/home/ubuntu/data/code/ref_fdetector/src/lib/mainlib.py:677: UserWarning: Boolean Series key will be reindexed to match DataFrame index.\n",
      "  df = df[(f1 & f2) | f3]\n",
      "/home/ubuntu/data/code/ref_fdetector/src/lib/mainlib.py:677: UserWarning: Boolean Series key will be reindexed to match DataFrame index.\n",
      "  df = df[(f1 & f2) | f3]\n"
     ]
    },
    {
     "name": "stdout",
     "output_type": "stream",
     "text": [
      "{5: Timestamp('2019-05-29 00:00:00'), 6: Timestamp('2019-06-28 00:00:00'), 7: Timestamp('2019-07-29 00:00:00')}\n",
      "################################################\n",
      "41--######## BTI411999140 #########\n",
      "------ 0\n",
      "------ 1\n",
      "------ 2\n",
      "------ 3\n",
      "------ 4\n",
      "------ 5\n",
      "------ 6\n",
      "------ 7\n",
      "------ 8\n",
      "{5: Timestamp('2019-05-23 00:00:00'), 6: Timestamp('2019-06-24 00:00:00'), 7: Timestamp('2019-07-23 00:00:00')}\n"
     ]
    },
    {
     "name": "stderr",
     "output_type": "stream",
     "text": [
      "/home/ubuntu/data/code/ref_fdetector/src/lib/mainlib.py:677: UserWarning: Boolean Series key will be reindexed to match DataFrame index.\n",
      "  df = df[(f1 & f2) | f3]\n",
      "/home/ubuntu/data/code/ref_fdetector/src/lib/mainlib.py:677: UserWarning: Boolean Series key will be reindexed to match DataFrame index.\n",
      "  df = df[(f1 & f2) | f3]\n"
     ]
    },
    {
     "name": "stdout",
     "output_type": "stream",
     "text": [
      "{5: Timestamp('2019-05-23 00:00:00'), 6: Timestamp('2019-06-24 00:00:00'), 7: Timestamp('2019-07-23 00:00:00')}\n",
      "################################################\n",
      "42--######## BTI412003978 #########\n",
      "------ 0\n",
      "------ 1\n",
      "------ 2\n",
      "------ 3\n",
      "------ 4\n",
      "------ 5\n",
      "------ 6\n",
      "------ 7\n",
      "------ 8\n",
      "{5: Timestamp('2019-05-13 00:00:00'), 6: Timestamp('2019-06-13 00:00:00'), 7: Timestamp('2019-07-11 00:00:00')}\n"
     ]
    },
    {
     "name": "stderr",
     "output_type": "stream",
     "text": [
      "/home/ubuntu/data/code/ref_fdetector/src/lib/mainlib.py:677: UserWarning: Boolean Series key will be reindexed to match DataFrame index.\n",
      "  df = df[(f1 & f2) | f3]\n",
      "/home/ubuntu/data/code/ref_fdetector/src/lib/mainlib.py:677: UserWarning: Boolean Series key will be reindexed to match DataFrame index.\n",
      "  df = df[(f1 & f2) | f3]\n",
      "/home/ubuntu/data/code/ref_fdetector/src/lib/mainlib.py:677: UserWarning: Boolean Series key will be reindexed to match DataFrame index.\n",
      "  df = df[(f1 & f2) | f3]\n"
     ]
    },
    {
     "name": "stdout",
     "output_type": "stream",
     "text": [
      "{5: Timestamp('2019-05-13 00:00:00'), 6: Timestamp('2019-06-13 00:00:00'), 7: Timestamp('2019-07-11 00:00:00')}\n",
      "################################################\n",
      "43--######## BTI412034558 #########\n",
      "------ 0\n",
      "------ 1\n",
      "------ 2\n",
      "------ 3\n",
      "------ 4\n",
      "------ 5\n",
      "------ 6\n",
      "------ 7\n",
      "------ 8\n",
      "{5: Timestamp('2019-05-07 00:00:00'), 6: Timestamp('2019-06-07 00:00:00'), 7: Timestamp('2019-07-05 00:00:00')}\n"
     ]
    },
    {
     "name": "stderr",
     "output_type": "stream",
     "text": [
      "/home/ubuntu/data/code/ref_fdetector/src/lib/mainlib.py:677: UserWarning: Boolean Series key will be reindexed to match DataFrame index.\n",
      "  df = df[(f1 & f2) | f3]\n",
      "/home/ubuntu/data/code/ref_fdetector/src/lib/mainlib.py:677: UserWarning: Boolean Series key will be reindexed to match DataFrame index.\n",
      "  df = df[(f1 & f2) | f3]\n",
      "/home/ubuntu/data/code/ref_fdetector/src/lib/mainlib.py:677: UserWarning: Boolean Series key will be reindexed to match DataFrame index.\n",
      "  df = df[(f1 & f2) | f3]\n"
     ]
    },
    {
     "name": "stdout",
     "output_type": "stream",
     "text": [
      "{5: Timestamp('2019-05-07 00:00:00'), 6: Timestamp('2019-06-07 00:00:00'), 7: Timestamp('2019-07-05 00:00:00')}\n",
      "++++++Erro 2++++++++++ \n",
      "Traceback (most recent call last):\n",
      "  File \"<ipython-input-40-854869aae9c4>\", line 33, in loopy2\n",
      "    processa_mm(dmm, ddays, PERFIL, DEGRAU, MORRO)\n",
      "  File \"/home/ubuntu/data/code/ref_fdetector/src/lib/of_proc.py\", line 340, in processa_mm\n",
      "    mm.nn_perfil(imodel = perfil)\n",
      "  File \"/home/ubuntu/data/code/ref_fdetector/src/lib/mainlib.py\", line 1030, in nn_perfil\n",
      "    self.outputs['perfil'][y][m] = self.months[y][m].nn_perfil_month(imodel)\n",
      "  File \"/home/ubuntu/data/code/ref_fdetector/src/lib/mainlib.py\", line 1042, in nn_perfil_month\n",
      "    preds[c] = model.predict(np.asarray(week).reshape(1,-1))\n",
      "  File \"/home/ubuntu/anaconda3/envs/tensorflow_p36/lib/python3.6/site-packages/keras/engine/training.py\", line 1149, in predict\n",
      "    x, _, _ = self._standardize_user_data(x)\n",
      "  File \"/home/ubuntu/anaconda3/envs/tensorflow_p36/lib/python3.6/site-packages/keras/engine/training.py\", line 751, in _standardize_user_data\n",
      "    exception_prefix='input')\n",
      "  File \"/home/ubuntu/anaconda3/envs/tensorflow_p36/lib/python3.6/site-packages/keras/engine/training_utils.py\", line 138, in standardize_input_data\n",
      "    str(data_shape))\n",
      "ValueError: Error when checking input: expected dense_1_input to have shape (168,) but got array with shape (336,)\n",
      "\n",
      "++++++++++++++++++++\n",
      "43--######## BTI412171105 #########\n",
      "------ 0\n",
      "------ 1\n",
      "------ 2\n",
      "------ 3\n",
      "------ 4\n",
      "------ 5\n",
      "------ 6\n",
      "------ 7\n",
      "------ 8\n",
      "{5: Timestamp('2019-05-13 00:00:00'), 6: Timestamp('2019-06-13 00:00:00'), 7: Timestamp('2019-07-11 00:00:00')}\n"
     ]
    },
    {
     "name": "stderr",
     "output_type": "stream",
     "text": [
      "/home/ubuntu/data/code/ref_fdetector/src/lib/mainlib.py:677: UserWarning: Boolean Series key will be reindexed to match DataFrame index.\n",
      "  df = df[(f1 & f2) | f3]\n",
      "/home/ubuntu/data/code/ref_fdetector/src/lib/mainlib.py:677: UserWarning: Boolean Series key will be reindexed to match DataFrame index.\n",
      "  df = df[(f1 & f2) | f3]\n",
      "/home/ubuntu/data/code/ref_fdetector/src/lib/mainlib.py:677: UserWarning: Boolean Series key will be reindexed to match DataFrame index.\n",
      "  df = df[(f1 & f2) | f3]\n"
     ]
    },
    {
     "name": "stdout",
     "output_type": "stream",
     "text": [
      "{5: Timestamp('2019-05-13 00:00:00'), 6: Timestamp('2019-06-13 00:00:00'), 7: Timestamp('2019-07-11 00:00:00')}\n",
      "################################################\n",
      "44--######## BTI412487479 #########\n",
      "------ 0\n",
      "------ 1\n",
      "------ 2\n",
      "------ 3\n",
      "------ 4\n",
      "------ 5\n",
      "------ 6\n",
      "------ 7\n",
      "------ 8\n",
      "{5: Timestamp('2019-05-29 00:00:00'), 6: Timestamp('2019-06-28 00:00:00'), 7: Timestamp('2019-07-29 00:00:00')}\n"
     ]
    },
    {
     "name": "stderr",
     "output_type": "stream",
     "text": [
      "/home/ubuntu/data/code/ref_fdetector/src/lib/mainlib.py:677: UserWarning: Boolean Series key will be reindexed to match DataFrame index.\n",
      "  df = df[(f1 & f2) | f3]\n",
      "/home/ubuntu/data/code/ref_fdetector/src/lib/mainlib.py:677: UserWarning: Boolean Series key will be reindexed to match DataFrame index.\n",
      "  df = df[(f1 & f2) | f3]\n",
      "/home/ubuntu/data/code/ref_fdetector/src/lib/mainlib.py:677: UserWarning: Boolean Series key will be reindexed to match DataFrame index.\n",
      "  df = df[(f1 & f2) | f3]\n"
     ]
    },
    {
     "name": "stdout",
     "output_type": "stream",
     "text": [
      "{5: Timestamp('2019-05-29 00:00:00'), 6: Timestamp('2019-06-28 00:00:00'), 7: Timestamp('2019-07-29 00:00:00')}\n",
      "################################################\n",
      "45--######## BTI412513987 #########\n",
      "------ 0\n",
      "------ 1\n",
      "------ 2\n",
      "------ 3\n",
      "------ 4\n",
      "------ 5\n",
      "------ 6\n",
      "------ 7\n",
      "------ 8\n",
      "{5: Timestamp('2019-05-13 00:00:00'), 6: Timestamp('2019-06-13 00:00:00'), 7: Timestamp('2019-07-11 00:00:00')}\n"
     ]
    },
    {
     "name": "stderr",
     "output_type": "stream",
     "text": [
      "/home/ubuntu/data/code/ref_fdetector/src/lib/mainlib.py:677: UserWarning: Boolean Series key will be reindexed to match DataFrame index.\n",
      "  df = df[(f1 & f2) | f3]\n",
      "/home/ubuntu/data/code/ref_fdetector/src/lib/mainlib.py:677: UserWarning: Boolean Series key will be reindexed to match DataFrame index.\n",
      "  df = df[(f1 & f2) | f3]\n",
      "/home/ubuntu/data/code/ref_fdetector/src/lib/mainlib.py:677: UserWarning: Boolean Series key will be reindexed to match DataFrame index.\n",
      "  df = df[(f1 & f2) | f3]\n"
     ]
    },
    {
     "name": "stdout",
     "output_type": "stream",
     "text": [
      "{5: Timestamp('2019-05-13 00:00:00'), 6: Timestamp('2019-06-13 00:00:00'), 7: Timestamp('2019-07-11 00:00:00')}\n",
      "################################################\n",
      "46--######## BTI412687778 #########\n",
      "------ 0\n",
      "------ 1\n",
      "------ 2\n",
      "------ 3\n",
      "------ 4\n",
      "------ 5\n",
      "------ 6\n",
      "------ 7\n",
      "------ 8\n",
      "{5: Timestamp('2019-05-20 00:00:00'), 6: Timestamp('2019-06-21 00:00:00'), 7: Timestamp('2019-07-19 00:00:00')}\n"
     ]
    },
    {
     "name": "stderr",
     "output_type": "stream",
     "text": [
      "/home/ubuntu/data/code/ref_fdetector/src/lib/mainlib.py:677: UserWarning: Boolean Series key will be reindexed to match DataFrame index.\n",
      "  df = df[(f1 & f2) | f3]\n",
      "/home/ubuntu/data/code/ref_fdetector/src/lib/mainlib.py:677: UserWarning: Boolean Series key will be reindexed to match DataFrame index.\n",
      "  df = df[(f1 & f2) | f3]\n"
     ]
    },
    {
     "name": "stdout",
     "output_type": "stream",
     "text": [
      "{5: Timestamp('2019-05-20 00:00:00'), 6: Timestamp('2019-06-21 00:00:00'), 7: Timestamp('2019-07-19 00:00:00')}\n",
      "################################################\n",
      "47--######## BTI412787198 #########\n",
      "------ 0\n",
      "------ 1\n",
      "------ 2\n",
      "------ 3\n",
      "------ 4\n",
      "------ 5\n",
      "------ 6\n",
      "------ 7\n",
      "------ 8\n",
      "{5: Timestamp('2019-05-30 00:00:00'), 6: Timestamp('2019-06-29 00:00:00'), 7: Timestamp('2019-07-30 00:00:00')}\n"
     ]
    },
    {
     "name": "stderr",
     "output_type": "stream",
     "text": [
      "/home/ubuntu/data/code/ref_fdetector/src/lib/mainlib.py:677: UserWarning: Boolean Series key will be reindexed to match DataFrame index.\n",
      "  df = df[(f1 & f2) | f3]\n",
      "/home/ubuntu/data/code/ref_fdetector/src/lib/mainlib.py:677: UserWarning: Boolean Series key will be reindexed to match DataFrame index.\n",
      "  df = df[(f1 & f2) | f3]\n",
      "/home/ubuntu/data/code/ref_fdetector/src/lib/mainlib.py:677: UserWarning: Boolean Series key will be reindexed to match DataFrame index.\n",
      "  df = df[(f1 & f2) | f3]\n"
     ]
    },
    {
     "name": "stdout",
     "output_type": "stream",
     "text": [
      "{5: Timestamp('2019-05-30 00:00:00'), 6: Timestamp('2019-06-29 00:00:00'), 7: Timestamp('2019-07-30 00:00:00')}\n",
      "################################################\n",
      "48--######## BTI413081598 #########\n",
      "------ 0\n",
      "------ 1\n",
      "------ 2\n",
      "------ 3\n",
      "------ 4\n",
      "------ 5\n",
      "------ 6\n",
      "------ 7\n",
      "------ 8\n",
      "{5: Timestamp('2019-05-29 00:00:00'), 6: Timestamp('2019-06-28 00:00:00'), 7: Timestamp('2019-07-29 00:00:00')}\n"
     ]
    },
    {
     "name": "stderr",
     "output_type": "stream",
     "text": [
      "/home/ubuntu/data/code/ref_fdetector/src/lib/mainlib.py:677: UserWarning: Boolean Series key will be reindexed to match DataFrame index.\n",
      "  df = df[(f1 & f2) | f3]\n",
      "/home/ubuntu/data/code/ref_fdetector/src/lib/mainlib.py:677: UserWarning: Boolean Series key will be reindexed to match DataFrame index.\n",
      "  df = df[(f1 & f2) | f3]\n"
     ]
    },
    {
     "name": "stdout",
     "output_type": "stream",
     "text": [
      "{5: Timestamp('2019-05-29 00:00:00'), 6: Timestamp('2019-06-28 00:00:00'), 7: Timestamp('2019-07-29 00:00:00')}\n",
      "################################################\n",
      "49--######## BTI413267453 #########\n",
      "------ 0\n",
      "------ 1\n",
      "------ 2\n",
      "------ 3\n",
      "------ 4\n",
      "------ 5\n",
      "++++++Erro 2++++++++++ \n",
      "Traceback (most recent call last):\n",
      "  File \"<ipython-input-40-854869aae9c4>\", line 26, in loopy2\n",
      "    dfas.read_fasorial(d_insta_to_files_fas[instalacao], dtype=None, index_col=[5], sep = sepfas)\n",
      "KeyError: 'BTI413267453'\n",
      "\n",
      "++++++++++++++++++++\n",
      "49--######## BTI413273677 #########\n",
      "------ 0\n",
      "------ 1\n",
      "------ 2\n",
      "------ 3\n",
      "------ 4\n",
      "------ 5\n",
      "++++++Erro 2++++++++++ \n",
      "Traceback (most recent call last):\n",
      "  File \"<ipython-input-40-854869aae9c4>\", line 26, in loopy2\n",
      "    dfas.read_fasorial(d_insta_to_files_fas[instalacao], dtype=None, index_col=[5], sep = sepfas)\n",
      "KeyError: 'BTI413273677'\n",
      "\n",
      "++++++++++++++++++++\n",
      "49--######## BTI413339942 #########\n",
      "------ 0\n",
      "------ 1\n",
      "------ 2\n",
      "------ 3\n",
      "------ 4\n",
      "------ 5\n",
      "++++++Erro 2++++++++++ \n",
      "Traceback (most recent call last):\n",
      "  File \"<ipython-input-40-854869aae9c4>\", line 26, in loopy2\n",
      "    dfas.read_fasorial(d_insta_to_files_fas[instalacao], dtype=None, index_col=[5], sep = sepfas)\n",
      "KeyError: 'BTI413339942'\n",
      "\n",
      "++++++++++++++++++++\n",
      "49--######## BTI413446145 #########\n",
      "------ 0\n",
      "------ 1\n",
      "------ 2\n",
      "------ 3\n",
      "------ 4\n",
      "------ 5\n",
      "++++++Erro 2++++++++++ \n",
      "Traceback (most recent call last):\n",
      "  File \"<ipython-input-40-854869aae9c4>\", line 26, in loopy2\n",
      "    dfas.read_fasorial(d_insta_to_files_fas[instalacao], dtype=None, index_col=[5], sep = sepfas)\n",
      "KeyError: 'BTI413446145'\n",
      "\n",
      "++++++++++++++++++++\n",
      "49--######## BTI413497182 #########\n",
      "------ 0\n",
      "------ 1\n",
      "------ 2\n",
      "------ 3\n",
      "------ 4\n",
      "------ 5\n",
      "++++++Erro 2++++++++++ \n",
      "Traceback (most recent call last):\n",
      "  File \"<ipython-input-40-854869aae9c4>\", line 26, in loopy2\n",
      "    dfas.read_fasorial(d_insta_to_files_fas[instalacao], dtype=None, index_col=[5], sep = sepfas)\n",
      "KeyError: 'BTI413497182'\n",
      "\n",
      "++++++++++++++++++++\n",
      "49--######## BTI413595836 #########\n",
      "------ 0\n",
      "------ 1\n",
      "------ 2\n",
      "------ 3\n",
      "------ 4\n",
      "------ 5\n",
      "------ 6\n",
      "------ 7\n",
      "------ 8\n",
      "{5: Timestamp('2019-05-10 00:00:00'), 6: Timestamp('2019-06-12 00:00:00'), 7: Timestamp('2019-07-10 00:00:00')}\n"
     ]
    },
    {
     "name": "stderr",
     "output_type": "stream",
     "text": [
      "/home/ubuntu/data/code/ref_fdetector/src/lib/mainlib.py:677: UserWarning: Boolean Series key will be reindexed to match DataFrame index.\n",
      "  df = df[(f1 & f2) | f3]\n",
      "/home/ubuntu/data/code/ref_fdetector/src/lib/mainlib.py:677: UserWarning: Boolean Series key will be reindexed to match DataFrame index.\n",
      "  df = df[(f1 & f2) | f3]\n",
      "/home/ubuntu/data/code/ref_fdetector/src/lib/mainlib.py:677: UserWarning: Boolean Series key will be reindexed to match DataFrame index.\n",
      "  df = df[(f1 & f2) | f3]\n"
     ]
    },
    {
     "name": "stdout",
     "output_type": "stream",
     "text": [
      "{5: Timestamp('2019-05-10 00:00:00'), 6: Timestamp('2019-06-12 00:00:00'), 7: Timestamp('2019-07-10 00:00:00')}\n",
      "################################################\n",
      "50--######## BTI413648141 #########\n",
      "------ 0\n",
      "------ 1\n",
      "------ 2\n",
      "------ 3\n",
      "------ 4\n",
      "------ 5\n",
      "------ 6\n",
      "------ 7\n",
      "------ 8\n",
      "{5: Timestamp('2019-05-15 00:00:00'), 6: Timestamp('2019-06-17 00:00:00'), 7: Timestamp('2019-07-15 00:00:00')}\n"
     ]
    },
    {
     "name": "stderr",
     "output_type": "stream",
     "text": [
      "/home/ubuntu/data/code/ref_fdetector/src/lib/mainlib.py:677: UserWarning: Boolean Series key will be reindexed to match DataFrame index.\n",
      "  df = df[(f1 & f2) | f3]\n",
      "/home/ubuntu/data/code/ref_fdetector/src/lib/mainlib.py:677: UserWarning: Boolean Series key will be reindexed to match DataFrame index.\n",
      "  df = df[(f1 & f2) | f3]\n",
      "/home/ubuntu/data/code/ref_fdetector/src/lib/mainlib.py:677: UserWarning: Boolean Series key will be reindexed to match DataFrame index.\n",
      "  df = df[(f1 & f2) | f3]\n"
     ]
    },
    {
     "name": "stdout",
     "output_type": "stream",
     "text": [
      "{5: Timestamp('2019-05-15 00:00:00'), 6: Timestamp('2019-06-17 00:00:00'), 7: Timestamp('2019-07-15 00:00:00')}\n",
      "################################################\n",
      "51--######## BTI413860891 #########\n",
      "------ 0\n",
      "------ 1\n",
      "------ 2\n",
      "------ 3\n",
      "------ 4\n",
      "------ 5\n",
      "------ 6\n",
      "------ 7\n",
      "------ 8\n",
      "{5: Timestamp('2019-05-07 00:00:00'), 6: Timestamp('2019-06-07 00:00:00'), 7: Timestamp('2019-07-05 00:00:00')}\n"
     ]
    },
    {
     "name": "stderr",
     "output_type": "stream",
     "text": [
      "/home/ubuntu/data/code/ref_fdetector/src/lib/mainlib.py:677: UserWarning: Boolean Series key will be reindexed to match DataFrame index.\n",
      "  df = df[(f1 & f2) | f3]\n",
      "/home/ubuntu/data/code/ref_fdetector/src/lib/mainlib.py:677: UserWarning: Boolean Series key will be reindexed to match DataFrame index.\n",
      "  df = df[(f1 & f2) | f3]\n",
      "/home/ubuntu/data/code/ref_fdetector/src/lib/mainlib.py:677: UserWarning: Boolean Series key will be reindexed to match DataFrame index.\n",
      "  df = df[(f1 & f2) | f3]\n"
     ]
    },
    {
     "name": "stdout",
     "output_type": "stream",
     "text": [
      "{5: Timestamp('2019-05-07 00:00:00'), 6: Timestamp('2019-06-07 00:00:00'), 7: Timestamp('2019-07-05 00:00:00')}\n",
      "################################################\n",
      "52--######## BTI414581058 #########\n",
      "------ 0\n",
      "------ 1\n",
      "------ 2\n",
      "------ 3\n",
      "------ 4\n",
      "------ 5\n",
      "------ 6\n",
      "------ 7\n",
      "------ 8\n",
      "{5: Timestamp('2019-05-13 00:00:00'), 6: Timestamp('2019-06-13 00:00:00'), 7: Timestamp('2019-07-11 00:00:00')}\n"
     ]
    },
    {
     "name": "stderr",
     "output_type": "stream",
     "text": [
      "/home/ubuntu/data/code/ref_fdetector/src/lib/mainlib.py:677: UserWarning: Boolean Series key will be reindexed to match DataFrame index.\n",
      "  df = df[(f1 & f2) | f3]\n",
      "/home/ubuntu/data/code/ref_fdetector/src/lib/mainlib.py:677: UserWarning: Boolean Series key will be reindexed to match DataFrame index.\n",
      "  df = df[(f1 & f2) | f3]\n",
      "/home/ubuntu/data/code/ref_fdetector/src/lib/mainlib.py:677: UserWarning: Boolean Series key will be reindexed to match DataFrame index.\n",
      "  df = df[(f1 & f2) | f3]\n"
     ]
    },
    {
     "name": "stdout",
     "output_type": "stream",
     "text": [
      "{5: Timestamp('2019-05-13 00:00:00'), 6: Timestamp('2019-06-13 00:00:00'), 7: Timestamp('2019-07-11 00:00:00')}\n",
      "################################################\n",
      "53--######## BTI414692427 #########\n",
      "------ 0\n",
      "------ 1\n",
      "------ 2\n",
      "------ 3\n",
      "------ 4\n",
      "------ 5\n",
      "++++++Erro 2++++++++++ \n",
      "Traceback (most recent call last):\n",
      "  File \"<ipython-input-40-854869aae9c4>\", line 26, in loopy2\n",
      "    dfas.read_fasorial(d_insta_to_files_fas[instalacao], dtype=None, index_col=[5], sep = sepfas)\n",
      "KeyError: 'BTI414692427'\n",
      "\n",
      "++++++++++++++++++++\n",
      "53--######## BTI420165364 #########\n",
      "------ 0\n",
      "------ 1\n",
      "------ 2\n",
      "------ 3\n",
      "------ 4\n",
      "------ 5\n",
      "++++++Erro 2++++++++++ \n",
      "Traceback (most recent call last):\n",
      "  File \"<ipython-input-40-854869aae9c4>\", line 26, in loopy2\n",
      "    dfas.read_fasorial(d_insta_to_files_fas[instalacao], dtype=None, index_col=[5], sep = sepfas)\n",
      "KeyError: 'BTI420165364'\n",
      "\n",
      "++++++++++++++++++++\n",
      "53--######## BTI420201181 #########\n",
      "------ 0\n",
      "------ 1\n",
      "------ 2\n",
      "------ 3\n",
      "------ 4\n",
      "------ 5\n",
      "------ 6\n",
      "------ 7\n",
      "------ 8\n",
      "{5: Timestamp('2019-05-17 00:00:00'), 6: Timestamp('2019-06-19 00:00:00'), 7: Timestamp('2019-07-18 00:00:00')}\n"
     ]
    },
    {
     "name": "stderr",
     "output_type": "stream",
     "text": [
      "/home/ubuntu/data/code/ref_fdetector/src/lib/mainlib.py:677: UserWarning: Boolean Series key will be reindexed to match DataFrame index.\n",
      "  df = df[(f1 & f2) | f3]\n",
      "/home/ubuntu/data/code/ref_fdetector/src/lib/mainlib.py:677: UserWarning: Boolean Series key will be reindexed to match DataFrame index.\n",
      "  df = df[(f1 & f2) | f3]\n",
      "/home/ubuntu/data/code/ref_fdetector/src/lib/mainlib.py:677: UserWarning: Boolean Series key will be reindexed to match DataFrame index.\n",
      "  df = df[(f1 & f2) | f3]\n"
     ]
    },
    {
     "name": "stdout",
     "output_type": "stream",
     "text": [
      "{5: Timestamp('2019-05-17 00:00:00'), 6: Timestamp('2019-06-19 00:00:00'), 7: Timestamp('2019-07-18 00:00:00')}\n",
      "################################################\n",
      "54--######## BTI420318146 #########\n",
      "------ 0\n",
      "------ 1\n",
      "------ 2\n",
      "------ 3\n",
      "------ 4\n",
      "------ 5\n",
      "------ 6\n",
      "------ 7\n",
      "------ 8\n",
      "{5: Timestamp('2019-05-27 00:00:00'), 6: Timestamp('2019-06-26 00:00:00'), 7: Timestamp('2019-07-25 00:00:00')}\n"
     ]
    },
    {
     "name": "stderr",
     "output_type": "stream",
     "text": [
      "/home/ubuntu/data/code/ref_fdetector/src/lib/mainlib.py:677: UserWarning: Boolean Series key will be reindexed to match DataFrame index.\n",
      "  df = df[(f1 & f2) | f3]\n",
      "/home/ubuntu/data/code/ref_fdetector/src/lib/mainlib.py:677: UserWarning: Boolean Series key will be reindexed to match DataFrame index.\n",
      "  df = df[(f1 & f2) | f3]\n",
      "/home/ubuntu/data/code/ref_fdetector/src/lib/mainlib.py:677: UserWarning: Boolean Series key will be reindexed to match DataFrame index.\n",
      "  df = df[(f1 & f2) | f3]\n"
     ]
    },
    {
     "name": "stdout",
     "output_type": "stream",
     "text": [
      "{5: Timestamp('2019-05-27 00:00:00'), 6: Timestamp('2019-06-26 00:00:00'), 7: Timestamp('2019-07-25 00:00:00')}\n",
      "################################################\n",
      "55--######## BTI420465568 #########\n",
      "------ 0\n",
      "------ 1\n",
      "------ 2\n",
      "------ 3\n",
      "------ 4\n",
      "------ 5\n",
      "------ 6\n",
      "------ 7\n",
      "------ 8\n",
      "{5: Timestamp('2019-05-30 00:00:00'), 6: Timestamp('2019-06-29 00:00:00'), 7: Timestamp('2019-07-30 00:00:00')}\n"
     ]
    },
    {
     "name": "stderr",
     "output_type": "stream",
     "text": [
      "/home/ubuntu/data/code/ref_fdetector/src/lib/mainlib.py:677: UserWarning: Boolean Series key will be reindexed to match DataFrame index.\n",
      "  df = df[(f1 & f2) | f3]\n",
      "/home/ubuntu/data/code/ref_fdetector/src/lib/mainlib.py:677: UserWarning: Boolean Series key will be reindexed to match DataFrame index.\n",
      "  df = df[(f1 & f2) | f3]\n",
      "/home/ubuntu/data/code/ref_fdetector/src/lib/mainlib.py:677: UserWarning: Boolean Series key will be reindexed to match DataFrame index.\n",
      "  df = df[(f1 & f2) | f3]\n"
     ]
    },
    {
     "name": "stdout",
     "output_type": "stream",
     "text": [
      "{5: Timestamp('2019-05-30 00:00:00'), 6: Timestamp('2019-06-29 00:00:00'), 7: Timestamp('2019-07-30 00:00:00')}\n",
      "################################################\n",
      "56--######## BTI420486949 #########\n",
      "------ 0\n",
      "------ 1\n",
      "------ 2\n",
      "------ 3\n",
      "------ 4\n",
      "------ 5\n",
      "------ 6\n",
      "------ 7\n",
      "------ 8\n",
      "{5: Timestamp('2019-05-24 00:00:00'), 6: Timestamp('2019-06-25 00:00:00'), 7: Timestamp('2019-07-24 00:00:00')}\n"
     ]
    },
    {
     "name": "stderr",
     "output_type": "stream",
     "text": [
      "/home/ubuntu/data/code/ref_fdetector/src/lib/mainlib.py:677: UserWarning: Boolean Series key will be reindexed to match DataFrame index.\n",
      "  df = df[(f1 & f2) | f3]\n",
      "/home/ubuntu/data/code/ref_fdetector/src/lib/mainlib.py:677: UserWarning: Boolean Series key will be reindexed to match DataFrame index.\n",
      "  df = df[(f1 & f2) | f3]\n",
      "/home/ubuntu/data/code/ref_fdetector/src/lib/mainlib.py:677: UserWarning: Boolean Series key will be reindexed to match DataFrame index.\n",
      "  df = df[(f1 & f2) | f3]\n"
     ]
    },
    {
     "name": "stdout",
     "output_type": "stream",
     "text": [
      "{5: Timestamp('2019-05-24 00:00:00'), 6: Timestamp('2019-06-25 00:00:00'), 7: Timestamp('2019-07-24 00:00:00')}\n",
      "################################################\n",
      "57--######## BTI420569650 #########\n",
      "------ 0\n",
      "------ 1\n",
      "------ 2\n",
      "------ 3\n",
      "------ 4\n",
      "------ 5\n",
      "------ 6\n",
      "------ 7\n",
      "------ 8\n",
      "{5: Timestamp('2019-05-10 00:00:00'), 6: Timestamp('2019-06-12 00:00:00'), 7: Timestamp('2019-07-10 00:00:00')}\n"
     ]
    },
    {
     "name": "stderr",
     "output_type": "stream",
     "text": [
      "/home/ubuntu/data/code/ref_fdetector/src/lib/mainlib.py:677: UserWarning: Boolean Series key will be reindexed to match DataFrame index.\n",
      "  df = df[(f1 & f2) | f3]\n",
      "/home/ubuntu/data/code/ref_fdetector/src/lib/mainlib.py:677: UserWarning: Boolean Series key will be reindexed to match DataFrame index.\n",
      "  df = df[(f1 & f2) | f3]\n",
      "/home/ubuntu/data/code/ref_fdetector/src/lib/mainlib.py:677: UserWarning: Boolean Series key will be reindexed to match DataFrame index.\n",
      "  df = df[(f1 & f2) | f3]\n"
     ]
    },
    {
     "name": "stdout",
     "output_type": "stream",
     "text": [
      "{5: Timestamp('2019-05-10 00:00:00'), 6: Timestamp('2019-06-12 00:00:00'), 7: Timestamp('2019-07-10 00:00:00')}\n",
      "################################################\n",
      "58--######## BTI420639963 #########\n",
      "------ 0\n",
      "------ 1\n",
      "------ 2\n",
      "------ 3\n",
      "------ 4\n",
      "------ 5\n",
      "------ 6\n",
      "------ 7\n",
      "------ 8\n",
      "{5: Timestamp('2019-05-29 00:00:00'), 6: Timestamp('2019-06-28 00:00:00'), 7: Timestamp('2019-07-29 00:00:00')}\n"
     ]
    },
    {
     "name": "stderr",
     "output_type": "stream",
     "text": [
      "/home/ubuntu/data/code/ref_fdetector/src/lib/mainlib.py:677: UserWarning: Boolean Series key will be reindexed to match DataFrame index.\n",
      "  df = df[(f1 & f2) | f3]\n",
      "/home/ubuntu/data/code/ref_fdetector/src/lib/mainlib.py:677: UserWarning: Boolean Series key will be reindexed to match DataFrame index.\n",
      "  df = df[(f1 & f2) | f3]\n",
      "/home/ubuntu/data/code/ref_fdetector/src/lib/mainlib.py:677: UserWarning: Boolean Series key will be reindexed to match DataFrame index.\n",
      "  df = df[(f1 & f2) | f3]\n"
     ]
    },
    {
     "name": "stdout",
     "output_type": "stream",
     "text": [
      "{5: Timestamp('2019-05-29 00:00:00'), 6: Timestamp('2019-06-28 00:00:00'), 7: Timestamp('2019-07-29 00:00:00')}\n",
      "################################################\n",
      "59--######## BTI420738351 #########\n",
      "------ 0\n",
      "------ 1\n",
      "------ 2\n",
      "------ 3\n",
      "------ 4\n",
      "------ 5\n",
      "------ 6\n",
      "------ 7\n",
      "------ 8\n",
      "{5: Timestamp('2019-05-27 00:00:00'), 6: Timestamp('2019-06-26 00:00:00'), 7: Timestamp('2019-07-25 00:00:00')}\n"
     ]
    },
    {
     "name": "stderr",
     "output_type": "stream",
     "text": [
      "/home/ubuntu/data/code/ref_fdetector/src/lib/mainlib.py:677: UserWarning: Boolean Series key will be reindexed to match DataFrame index.\n",
      "  df = df[(f1 & f2) | f3]\n"
     ]
    },
    {
     "name": "stdout",
     "output_type": "stream",
     "text": [
      "{5: Timestamp('2019-05-27 00:00:00'), 6: Timestamp('2019-06-26 00:00:00'), 7: Timestamp('2019-07-25 00:00:00')}\n",
      "################################################\n",
      "60--######## BTI420811160 #########\n",
      "------ 0\n",
      "------ 1\n",
      "------ 2\n",
      "------ 3\n",
      "------ 4\n",
      "------ 5\n",
      "++++++Erro 2++++++++++ \n",
      "Traceback (most recent call last):\n",
      "  File \"<ipython-input-40-854869aae9c4>\", line 26, in loopy2\n",
      "    dfas.read_fasorial(d_insta_to_files_fas[instalacao], dtype=None, index_col=[5], sep = sepfas)\n",
      "KeyError: 'BTI420811160'\n",
      "\n",
      "++++++++++++++++++++\n",
      "60--######## BTI420892596 #########\n",
      "------ 0\n",
      "------ 1\n",
      "------ 2\n",
      "------ 3\n",
      "------ 4\n",
      "------ 5\n",
      "------ 6\n",
      "------ 7\n",
      "------ 8\n",
      "{5: Timestamp('2019-05-17 00:00:00'), 6: Timestamp('2019-06-19 00:00:00'), 7: Timestamp('2019-07-18 00:00:00')}\n"
     ]
    },
    {
     "name": "stderr",
     "output_type": "stream",
     "text": [
      "/home/ubuntu/data/code/ref_fdetector/src/lib/mainlib.py:677: UserWarning: Boolean Series key will be reindexed to match DataFrame index.\n",
      "  df = df[(f1 & f2) | f3]\n",
      "/home/ubuntu/data/code/ref_fdetector/src/lib/mainlib.py:677: UserWarning: Boolean Series key will be reindexed to match DataFrame index.\n",
      "  df = df[(f1 & f2) | f3]\n"
     ]
    },
    {
     "name": "stdout",
     "output_type": "stream",
     "text": [
      "{5: Timestamp('2019-05-17 00:00:00'), 6: Timestamp('2019-06-19 00:00:00'), 7: Timestamp('2019-07-18 00:00:00')}\n",
      "################################################\n"
     ]
    },
    {
     "name": "stderr",
     "output_type": "stream",
     "text": [
      "/home/ubuntu/data/code/ref_fdetector/src/lib/mainlib.py:677: UserWarning: Boolean Series key will be reindexed to match DataFrame index.\n",
      "  df = df[(f1 & f2) | f3]\n"
     ]
    }
   ],
   "source": [
    "processados, erros = [], []\n",
    "m=loopy2(er, ddirs_fas, dummy_mm,PATH_FAS, PATH_MM,OUT,sepmm=',')"
   ]
  },
  {
   "cell_type": "code",
   "execution_count": 206,
   "metadata": {},
   "outputs": [
    {
     "name": "stdout",
     "output_type": "stream",
     "text": [
      "0--######## BT2A410315584 #########\n",
      "------ 0\n",
      "------ 1\n",
      "------ 2\n",
      "------ 3\n",
      "------ 4\n",
      "------ 5\n",
      "------ 6\n",
      "------ 7\n",
      "------ 8\n",
      "{5: Timestamp('2019-05-28 00:00:00'), 6: Timestamp('2019-06-27 00:00:00'), 7: Timestamp('2019-07-26 00:00:00')}\n"
     ]
    },
    {
     "name": "stderr",
     "output_type": "stream",
     "text": [
      "/home/ubuntu/data/code/ref_fdetector/src/lib/mainlib.py:676: UserWarning: Boolean Series key will be reindexed to match DataFrame index.\n",
      "  df = df[(f1 & f2) | f3]\n",
      "/home/ubuntu/data/code/ref_fdetector/src/lib/mainlib.py:676: UserWarning: Boolean Series key will be reindexed to match DataFrame index.\n",
      "  df = df[(f1 & f2) | f3]\n",
      "/home/ubuntu/data/code/ref_fdetector/src/lib/mainlib.py:676: UserWarning: Boolean Series key will be reindexed to match DataFrame index.\n",
      "  df = df[(f1 & f2) | f3]\n"
     ]
    },
    {
     "name": "stdout",
     "output_type": "stream",
     "text": [
      "{5: Timestamp('2019-05-28 00:00:00'), 6: Timestamp('2019-06-27 00:00:00'), 7: Timestamp('2019-07-26 00:00:00')}\n",
      "################################################\n",
      "1--######## BT2A410444087 #########\n",
      "------ 0\n",
      "------ 1\n",
      "------ 2\n",
      "------ 3\n",
      "------ 4\n",
      "------ 5\n",
      "------ 6\n",
      "------ 7\n",
      "------ 8\n",
      "{5: Timestamp('2019-05-28 00:00:00'), 6: Timestamp('2019-06-27 00:00:00'), 7: Timestamp('2019-07-26 00:00:00')}\n"
     ]
    },
    {
     "name": "stderr",
     "output_type": "stream",
     "text": [
      "/home/ubuntu/data/code/ref_fdetector/src/lib/mainlib.py:676: UserWarning: Boolean Series key will be reindexed to match DataFrame index.\n",
      "  df = df[(f1 & f2) | f3]\n",
      "/home/ubuntu/data/code/ref_fdetector/src/lib/mainlib.py:676: UserWarning: Boolean Series key will be reindexed to match DataFrame index.\n",
      "  df = df[(f1 & f2) | f3]\n",
      "/home/ubuntu/data/code/ref_fdetector/src/lib/mainlib.py:676: UserWarning: Boolean Series key will be reindexed to match DataFrame index.\n",
      "  df = df[(f1 & f2) | f3]\n"
     ]
    },
    {
     "name": "stdout",
     "output_type": "stream",
     "text": [
      "{5: Timestamp('2019-05-28 00:00:00'), 6: Timestamp('2019-06-27 00:00:00'), 7: Timestamp('2019-07-26 00:00:00')}\n",
      "################################################\n",
      "2--######## BT2A410457345 #########\n",
      "------ 0\n",
      "------ 1\n",
      "------ 2\n",
      "------ 3\n",
      "------ 4\n",
      "------ 5\n",
      "------ 6\n",
      "------ 7\n",
      "------ 8\n",
      "{5: Timestamp('2019-05-28 00:00:00'), 6: Timestamp('2019-06-27 00:00:00'), 7: Timestamp('2019-07-26 00:00:00')}\n"
     ]
    },
    {
     "name": "stderr",
     "output_type": "stream",
     "text": [
      "/home/ubuntu/data/code/ref_fdetector/src/lib/mainlib.py:676: UserWarning: Boolean Series key will be reindexed to match DataFrame index.\n",
      "  df = df[(f1 & f2) | f3]\n",
      "/home/ubuntu/data/code/ref_fdetector/src/lib/mainlib.py:676: UserWarning: Boolean Series key will be reindexed to match DataFrame index.\n",
      "  df = df[(f1 & f2) | f3]\n"
     ]
    },
    {
     "name": "stdout",
     "output_type": "stream",
     "text": [
      "{5: Timestamp('2019-05-28 00:00:00'), 6: Timestamp('2019-06-27 00:00:00'), 7: Timestamp('2019-07-26 00:00:00')}\n",
      "################################################\n",
      "3--######## BT2A410496740 #########\n",
      "------ 0\n",
      "------ 1\n",
      "------ 2\n",
      "------ 3\n",
      "------ 4\n",
      "------ 5\n",
      "------ 6\n",
      "------ 7\n",
      "------ 8\n",
      "{5: Timestamp('2019-05-28 00:00:00'), 6: Timestamp('2019-06-27 00:00:00'), 7: Timestamp('2019-07-26 00:00:00')}\n"
     ]
    },
    {
     "name": "stderr",
     "output_type": "stream",
     "text": [
      "/home/ubuntu/data/code/ref_fdetector/src/lib/mainlib.py:676: UserWarning: Boolean Series key will be reindexed to match DataFrame index.\n",
      "  df = df[(f1 & f2) | f3]\n",
      "/home/ubuntu/data/code/ref_fdetector/src/lib/mainlib.py:676: UserWarning: Boolean Series key will be reindexed to match DataFrame index.\n",
      "  df = df[(f1 & f2) | f3]\n",
      "/home/ubuntu/data/code/ref_fdetector/src/lib/mainlib.py:676: UserWarning: Boolean Series key will be reindexed to match DataFrame index.\n",
      "  df = df[(f1 & f2) | f3]\n"
     ]
    },
    {
     "name": "stdout",
     "output_type": "stream",
     "text": [
      "{5: Timestamp('2019-05-28 00:00:00'), 6: Timestamp('2019-06-27 00:00:00'), 7: Timestamp('2019-07-26 00:00:00')}\n",
      "################################################\n",
      "4--######## BT2A410564455 #########\n",
      "------ 0\n",
      "------ 1\n",
      "------ 2\n",
      "------ 3\n",
      "------ 4\n",
      "------ 5\n",
      "------ 6\n",
      "------ 7\n",
      "------ 8\n",
      "{5: Timestamp('2019-05-28 00:00:00'), 6: Timestamp('2019-06-27 00:00:00'), 7: Timestamp('2019-07-26 00:00:00')}\n"
     ]
    },
    {
     "name": "stderr",
     "output_type": "stream",
     "text": [
      "/home/ubuntu/data/code/ref_fdetector/src/lib/mainlib.py:676: UserWarning: Boolean Series key will be reindexed to match DataFrame index.\n",
      "  df = df[(f1 & f2) | f3]\n",
      "/home/ubuntu/data/code/ref_fdetector/src/lib/mainlib.py:676: UserWarning: Boolean Series key will be reindexed to match DataFrame index.\n",
      "  df = df[(f1 & f2) | f3]\n",
      "/home/ubuntu/data/code/ref_fdetector/src/lib/mainlib.py:676: UserWarning: Boolean Series key will be reindexed to match DataFrame index.\n",
      "  df = df[(f1 & f2) | f3]\n"
     ]
    },
    {
     "name": "stdout",
     "output_type": "stream",
     "text": [
      "{5: Timestamp('2019-05-28 00:00:00'), 6: Timestamp('2019-06-27 00:00:00'), 7: Timestamp('2019-07-26 00:00:00')}\n",
      "################################################\n",
      "5--######## BT2A410574718 #########\n",
      "------ 0\n",
      "------ 1\n",
      "------ 2\n",
      "------ 3\n",
      "------ 4\n",
      "------ 5\n",
      "------ 6\n",
      "------ 7\n",
      "------ 8\n",
      "{5: Timestamp('2019-05-29 00:00:00'), 6: Timestamp('2019-06-28 00:00:00'), 7: Timestamp('2019-07-29 00:00:00')}\n"
     ]
    },
    {
     "name": "stderr",
     "output_type": "stream",
     "text": [
      "/home/ubuntu/data/code/ref_fdetector/src/lib/mainlib.py:676: UserWarning: Boolean Series key will be reindexed to match DataFrame index.\n",
      "  df = df[(f1 & f2) | f3]\n",
      "/home/ubuntu/data/code/ref_fdetector/src/lib/mainlib.py:676: UserWarning: Boolean Series key will be reindexed to match DataFrame index.\n",
      "  df = df[(f1 & f2) | f3]\n",
      "/home/ubuntu/data/code/ref_fdetector/src/lib/mainlib.py:676: UserWarning: Boolean Series key will be reindexed to match DataFrame index.\n",
      "  df = df[(f1 & f2) | f3]\n"
     ]
    },
    {
     "name": "stdout",
     "output_type": "stream",
     "text": [
      "{5: Timestamp('2019-05-29 00:00:00'), 6: Timestamp('2019-06-28 00:00:00'), 7: Timestamp('2019-07-29 00:00:00')}\n",
      "################################################\n",
      "6--######## BT2A410661427 #########\n",
      "------ 0\n",
      "------ 1\n",
      "------ 2\n",
      "------ 3\n",
      "------ 4\n",
      "------ 5\n",
      "------ 6\n",
      "------ 7\n",
      "------ 8\n",
      "{5: Timestamp('2019-05-28 00:00:00'), 6: Timestamp('2019-06-27 00:00:00'), 7: Timestamp('2019-07-26 00:00:00')}\n"
     ]
    },
    {
     "name": "stderr",
     "output_type": "stream",
     "text": [
      "/home/ubuntu/data/code/ref_fdetector/src/lib/mainlib.py:676: UserWarning: Boolean Series key will be reindexed to match DataFrame index.\n",
      "  df = df[(f1 & f2) | f3]\n",
      "/home/ubuntu/data/code/ref_fdetector/src/lib/mainlib.py:676: UserWarning: Boolean Series key will be reindexed to match DataFrame index.\n",
      "  df = df[(f1 & f2) | f3]\n"
     ]
    },
    {
     "name": "stdout",
     "output_type": "stream",
     "text": [
      "{5: Timestamp('2019-05-28 00:00:00'), 6: Timestamp('2019-06-27 00:00:00'), 7: Timestamp('2019-07-26 00:00:00')}\n",
      "################################################\n",
      "7--######## BT2A410711734 #########\n",
      "------ 0\n",
      "------ 1\n",
      "------ 2\n",
      "------ 3\n",
      "------ 4\n",
      "------ 5\n",
      "------ 6\n",
      "------ 7\n",
      "------ 8\n",
      "{5: Timestamp('2019-05-28 00:00:00'), 6: Timestamp('2019-06-27 00:00:00'), 7: Timestamp('2019-07-26 00:00:00')}\n"
     ]
    },
    {
     "name": "stderr",
     "output_type": "stream",
     "text": [
      "/home/ubuntu/data/code/ref_fdetector/src/lib/mainlib.py:676: UserWarning: Boolean Series key will be reindexed to match DataFrame index.\n",
      "  df = df[(f1 & f2) | f3]\n",
      "/home/ubuntu/data/code/ref_fdetector/src/lib/mainlib.py:676: UserWarning: Boolean Series key will be reindexed to match DataFrame index.\n",
      "  df = df[(f1 & f2) | f3]\n",
      "/home/ubuntu/data/code/ref_fdetector/src/lib/mainlib.py:676: UserWarning: Boolean Series key will be reindexed to match DataFrame index.\n",
      "  df = df[(f1 & f2) | f3]\n"
     ]
    },
    {
     "name": "stdout",
     "output_type": "stream",
     "text": [
      "{5: Timestamp('2019-05-28 00:00:00'), 6: Timestamp('2019-06-27 00:00:00'), 7: Timestamp('2019-07-26 00:00:00')}\n",
      "################################################\n",
      "8--######## BT2A411062569 #########\n",
      "------ 0\n",
      "------ 1\n",
      "------ 2\n",
      "------ 3\n",
      "------ 4\n",
      "------ 5\n",
      "------ 6\n",
      "------ 7\n",
      "------ 8\n",
      "{5: Timestamp('2019-05-29 00:00:00'), 6: Timestamp('2019-06-28 00:00:00'), 7: Timestamp('2019-07-29 00:00:00')}\n"
     ]
    },
    {
     "name": "stderr",
     "output_type": "stream",
     "text": [
      "/home/ubuntu/data/code/ref_fdetector/src/lib/mainlib.py:676: UserWarning: Boolean Series key will be reindexed to match DataFrame index.\n",
      "  df = df[(f1 & f2) | f3]\n",
      "/home/ubuntu/data/code/ref_fdetector/src/lib/mainlib.py:676: UserWarning: Boolean Series key will be reindexed to match DataFrame index.\n",
      "  df = df[(f1 & f2) | f3]\n",
      "/home/ubuntu/data/code/ref_fdetector/src/lib/mainlib.py:676: UserWarning: Boolean Series key will be reindexed to match DataFrame index.\n",
      "  df = df[(f1 & f2) | f3]\n"
     ]
    },
    {
     "name": "stdout",
     "output_type": "stream",
     "text": [
      "{5: Timestamp('2019-05-29 00:00:00'), 6: Timestamp('2019-06-28 00:00:00'), 7: Timestamp('2019-07-29 00:00:00')}\n",
      "################################################\n",
      "9--######## BT2A411063546 #########\n",
      "------ 0\n",
      "------ 1\n",
      "------ 2\n",
      "------ 3\n",
      "------ 4\n",
      "------ 5\n",
      "------ 6\n",
      "------ 7\n",
      "------ 8\n",
      "{5: Timestamp('2019-05-28 00:00:00'), 6: Timestamp('2019-06-27 00:00:00'), 7: Timestamp('2019-07-26 00:00:00')}\n"
     ]
    },
    {
     "name": "stderr",
     "output_type": "stream",
     "text": [
      "/home/ubuntu/data/code/ref_fdetector/src/lib/mainlib.py:676: UserWarning: Boolean Series key will be reindexed to match DataFrame index.\n",
      "  df = df[(f1 & f2) | f3]\n",
      "/home/ubuntu/data/code/ref_fdetector/src/lib/mainlib.py:676: UserWarning: Boolean Series key will be reindexed to match DataFrame index.\n",
      "  df = df[(f1 & f2) | f3]\n",
      "/home/ubuntu/data/code/ref_fdetector/src/lib/mainlib.py:676: UserWarning: Boolean Series key will be reindexed to match DataFrame index.\n",
      "  df = df[(f1 & f2) | f3]\n"
     ]
    },
    {
     "name": "stdout",
     "output_type": "stream",
     "text": [
      "{5: Timestamp('2019-05-28 00:00:00'), 6: Timestamp('2019-06-27 00:00:00'), 7: Timestamp('2019-07-26 00:00:00')}\n",
      "################################################\n",
      "10--######## BT2A411136693 #########\n",
      "------ 0\n",
      "------ 1\n",
      "------ 2\n",
      "------ 3\n",
      "------ 4\n",
      "------ 5\n",
      "------ 6\n",
      "------ 7\n",
      "------ 8\n",
      "{5: Timestamp('2019-05-28 00:00:00'), 6: Timestamp('2019-06-27 00:00:00'), 7: Timestamp('2019-07-26 00:00:00')}\n"
     ]
    },
    {
     "name": "stderr",
     "output_type": "stream",
     "text": [
      "/home/ubuntu/data/code/ref_fdetector/src/lib/mainlib.py:676: UserWarning: Boolean Series key will be reindexed to match DataFrame index.\n",
      "  df = df[(f1 & f2) | f3]\n",
      "/home/ubuntu/data/code/ref_fdetector/src/lib/mainlib.py:676: UserWarning: Boolean Series key will be reindexed to match DataFrame index.\n",
      "  df = df[(f1 & f2) | f3]\n",
      "/home/ubuntu/data/code/ref_fdetector/src/lib/mainlib.py:676: UserWarning: Boolean Series key will be reindexed to match DataFrame index.\n",
      "  df = df[(f1 & f2) | f3]\n"
     ]
    },
    {
     "name": "stdout",
     "output_type": "stream",
     "text": [
      "{5: Timestamp('2019-05-28 00:00:00'), 6: Timestamp('2019-06-27 00:00:00'), 7: Timestamp('2019-07-26 00:00:00')}\n",
      "################################################\n",
      "11--######## BT2A411453683 #########\n",
      "------ 0\n",
      "------ 1\n",
      "------ 2\n",
      "------ 3\n",
      "------ 4\n",
      "------ 5\n",
      "------ 6\n",
      "------ 7\n",
      "------ 8\n",
      "{5: Timestamp('2019-05-29 00:00:00'), 6: Timestamp('2019-06-28 00:00:00'), 7: Timestamp('2019-07-29 00:00:00')}\n"
     ]
    },
    {
     "name": "stderr",
     "output_type": "stream",
     "text": [
      "/home/ubuntu/data/code/ref_fdetector/src/lib/mainlib.py:676: UserWarning: Boolean Series key will be reindexed to match DataFrame index.\n",
      "  df = df[(f1 & f2) | f3]\n",
      "/home/ubuntu/data/code/ref_fdetector/src/lib/mainlib.py:676: UserWarning: Boolean Series key will be reindexed to match DataFrame index.\n",
      "  df = df[(f1 & f2) | f3]\n",
      "/home/ubuntu/data/code/ref_fdetector/src/lib/mainlib.py:676: UserWarning: Boolean Series key will be reindexed to match DataFrame index.\n",
      "  df = df[(f1 & f2) | f3]\n"
     ]
    },
    {
     "name": "stdout",
     "output_type": "stream",
     "text": [
      "{5: Timestamp('2019-05-29 00:00:00'), 6: Timestamp('2019-06-28 00:00:00'), 7: Timestamp('2019-07-29 00:00:00')}\n",
      "################################################\n",
      "12--######## BT2A411580720 #########\n",
      "------ 0\n",
      "------ 1\n",
      "------ 2\n",
      "------ 3\n",
      "------ 4\n",
      "------ 5\n",
      "------ 6\n",
      "------ 7\n",
      "------ 8\n",
      "{5: Timestamp('2019-05-28 00:00:00'), 6: Timestamp('2019-06-27 00:00:00'), 7: Timestamp('2019-07-26 00:00:00')}\n"
     ]
    },
    {
     "name": "stderr",
     "output_type": "stream",
     "text": [
      "/home/ubuntu/data/code/ref_fdetector/src/lib/mainlib.py:676: UserWarning: Boolean Series key will be reindexed to match DataFrame index.\n",
      "  df = df[(f1 & f2) | f3]\n",
      "/home/ubuntu/data/code/ref_fdetector/src/lib/mainlib.py:676: UserWarning: Boolean Series key will be reindexed to match DataFrame index.\n",
      "  df = df[(f1 & f2) | f3]\n",
      "/home/ubuntu/data/code/ref_fdetector/src/lib/mainlib.py:676: UserWarning: Boolean Series key will be reindexed to match DataFrame index.\n",
      "  df = df[(f1 & f2) | f3]\n"
     ]
    },
    {
     "name": "stdout",
     "output_type": "stream",
     "text": [
      "{5: Timestamp('2019-05-28 00:00:00'), 6: Timestamp('2019-06-27 00:00:00'), 7: Timestamp('2019-07-26 00:00:00')}\n",
      "################################################\n",
      "13--######## BT2A412008091 #########\n",
      "------ 0\n",
      "------ 1\n",
      "------ 2\n",
      "------ 3\n",
      "------ 4\n",
      "------ 5\n",
      "------ 6\n",
      "------ 7\n",
      "------ 8\n",
      "{5: Timestamp('2019-05-28 00:00:00'), 6: Timestamp('2019-06-27 00:00:00'), 7: Timestamp('2019-07-26 00:00:00')}\n"
     ]
    },
    {
     "name": "stderr",
     "output_type": "stream",
     "text": [
      "/home/ubuntu/data/code/ref_fdetector/src/lib/mainlib.py:676: UserWarning: Boolean Series key will be reindexed to match DataFrame index.\n",
      "  df = df[(f1 & f2) | f3]\n",
      "/home/ubuntu/data/code/ref_fdetector/src/lib/mainlib.py:676: UserWarning: Boolean Series key will be reindexed to match DataFrame index.\n",
      "  df = df[(f1 & f2) | f3]\n",
      "/home/ubuntu/data/code/ref_fdetector/src/lib/mainlib.py:676: UserWarning: Boolean Series key will be reindexed to match DataFrame index.\n",
      "  df = df[(f1 & f2) | f3]\n"
     ]
    },
    {
     "name": "stdout",
     "output_type": "stream",
     "text": [
      "{5: Timestamp('2019-05-28 00:00:00'), 6: Timestamp('2019-06-27 00:00:00'), 7: Timestamp('2019-07-26 00:00:00')}\n",
      "################################################\n",
      "14--######## BT2A412377295 #########\n",
      "------ 0\n",
      "------ 1\n",
      "------ 2\n",
      "------ 3\n",
      "------ 4\n",
      "------ 5\n",
      "------ 6\n",
      "------ 7\n",
      "------ 8\n",
      "{5: Timestamp('2019-05-29 00:00:00'), 6: Timestamp('2019-06-28 00:00:00'), 7: Timestamp('2019-07-29 00:00:00')}\n"
     ]
    },
    {
     "name": "stderr",
     "output_type": "stream",
     "text": [
      "/home/ubuntu/data/code/ref_fdetector/src/lib/mainlib.py:676: UserWarning: Boolean Series key will be reindexed to match DataFrame index.\n",
      "  df = df[(f1 & f2) | f3]\n",
      "/home/ubuntu/data/code/ref_fdetector/src/lib/mainlib.py:676: UserWarning: Boolean Series key will be reindexed to match DataFrame index.\n",
      "  df = df[(f1 & f2) | f3]\n",
      "/home/ubuntu/data/code/ref_fdetector/src/lib/mainlib.py:676: UserWarning: Boolean Series key will be reindexed to match DataFrame index.\n",
      "  df = df[(f1 & f2) | f3]\n"
     ]
    },
    {
     "name": "stdout",
     "output_type": "stream",
     "text": [
      "{5: Timestamp('2019-05-29 00:00:00'), 6: Timestamp('2019-06-28 00:00:00'), 7: Timestamp('2019-07-29 00:00:00')}\n",
      "################################################\n",
      "15--######## BT2A412538674 #########\n",
      "------ 0\n",
      "------ 1\n",
      "------ 2\n",
      "------ 3\n",
      "------ 4\n",
      "------ 5\n",
      "------ 6\n",
      "------ 7\n",
      "------ 8\n",
      "{5: Timestamp('2019-05-29 00:00:00'), 6: Timestamp('2019-06-28 00:00:00'), 7: Timestamp('2019-07-29 00:00:00')}\n"
     ]
    },
    {
     "name": "stderr",
     "output_type": "stream",
     "text": [
      "/home/ubuntu/data/code/ref_fdetector/src/lib/mainlib.py:676: UserWarning: Boolean Series key will be reindexed to match DataFrame index.\n",
      "  df = df[(f1 & f2) | f3]\n",
      "/home/ubuntu/data/code/ref_fdetector/src/lib/mainlib.py:676: UserWarning: Boolean Series key will be reindexed to match DataFrame index.\n",
      "  df = df[(f1 & f2) | f3]\n",
      "/home/ubuntu/data/code/ref_fdetector/src/lib/mainlib.py:676: UserWarning: Boolean Series key will be reindexed to match DataFrame index.\n",
      "  df = df[(f1 & f2) | f3]\n"
     ]
    },
    {
     "name": "stdout",
     "output_type": "stream",
     "text": [
      "{5: Timestamp('2019-05-29 00:00:00'), 6: Timestamp('2019-06-28 00:00:00'), 7: Timestamp('2019-07-29 00:00:00')}\n",
      "################################################\n",
      "16--######## BT2A412541235 #########\n",
      "------ 0\n",
      "------ 1\n",
      "------ 2\n",
      "------ 3\n",
      "------ 4\n",
      "------ 5\n",
      "------ 6\n",
      "------ 7\n",
      "------ 8\n",
      "{5: Timestamp('2019-05-27 00:00:00'), 6: Timestamp('2019-06-26 00:00:00'), 7: Timestamp('2019-07-25 00:00:00')}\n"
     ]
    },
    {
     "name": "stderr",
     "output_type": "stream",
     "text": [
      "/home/ubuntu/data/code/ref_fdetector/src/lib/mainlib.py:676: UserWarning: Boolean Series key will be reindexed to match DataFrame index.\n",
      "  df = df[(f1 & f2) | f3]\n",
      "/home/ubuntu/data/code/ref_fdetector/src/lib/mainlib.py:676: UserWarning: Boolean Series key will be reindexed to match DataFrame index.\n",
      "  df = df[(f1 & f2) | f3]\n",
      "/home/ubuntu/data/code/ref_fdetector/src/lib/mainlib.py:676: UserWarning: Boolean Series key will be reindexed to match DataFrame index.\n",
      "  df = df[(f1 & f2) | f3]\n"
     ]
    },
    {
     "name": "stdout",
     "output_type": "stream",
     "text": [
      "{5: Timestamp('2019-05-27 00:00:00'), 6: Timestamp('2019-06-26 00:00:00'), 7: Timestamp('2019-07-25 00:00:00')}\n",
      "################################################\n",
      "17--######## BT2A412758021 #########\n",
      "------ 0\n",
      "------ 1\n",
      "------ 2\n",
      "------ 3\n",
      "------ 4\n",
      "------ 5\n",
      "------ 6\n",
      "------ 7\n",
      "------ 8\n",
      "{5: Timestamp('2019-05-29 00:00:00'), 6: Timestamp('2019-06-28 00:00:00'), 7: Timestamp('2019-07-29 00:00:00')}\n"
     ]
    },
    {
     "name": "stderr",
     "output_type": "stream",
     "text": [
      "/home/ubuntu/data/code/ref_fdetector/src/lib/mainlib.py:676: UserWarning: Boolean Series key will be reindexed to match DataFrame index.\n",
      "  df = df[(f1 & f2) | f3]\n",
      "/home/ubuntu/data/code/ref_fdetector/src/lib/mainlib.py:676: UserWarning: Boolean Series key will be reindexed to match DataFrame index.\n",
      "  df = df[(f1 & f2) | f3]\n",
      "/home/ubuntu/data/code/ref_fdetector/src/lib/mainlib.py:676: UserWarning: Boolean Series key will be reindexed to match DataFrame index.\n",
      "  df = df[(f1 & f2) | f3]\n"
     ]
    },
    {
     "name": "stdout",
     "output_type": "stream",
     "text": [
      "{5: Timestamp('2019-05-29 00:00:00'), 6: Timestamp('2019-06-28 00:00:00'), 7: Timestamp('2019-07-29 00:00:00')}\n",
      "################################################\n",
      "18--######## BT2A413443943 #########\n",
      "------ 0\n",
      "------ 1\n",
      "------ 2\n",
      "------ 3\n",
      "------ 4\n",
      "------ 5\n",
      "------ 6\n",
      "------ 7\n",
      "------ 8\n",
      "{5: Timestamp('2019-05-29 00:00:00'), 6: Timestamp('2019-06-28 00:00:00'), 7: Timestamp('2019-07-29 00:00:00')}\n"
     ]
    },
    {
     "name": "stderr",
     "output_type": "stream",
     "text": [
      "/home/ubuntu/data/code/ref_fdetector/src/lib/mainlib.py:676: UserWarning: Boolean Series key will be reindexed to match DataFrame index.\n",
      "  df = df[(f1 & f2) | f3]\n",
      "/home/ubuntu/data/code/ref_fdetector/src/lib/mainlib.py:676: UserWarning: Boolean Series key will be reindexed to match DataFrame index.\n",
      "  df = df[(f1 & f2) | f3]\n",
      "/home/ubuntu/data/code/ref_fdetector/src/lib/mainlib.py:676: UserWarning: Boolean Series key will be reindexed to match DataFrame index.\n",
      "  df = df[(f1 & f2) | f3]\n"
     ]
    },
    {
     "name": "stdout",
     "output_type": "stream",
     "text": [
      "{5: Timestamp('2019-05-29 00:00:00'), 6: Timestamp('2019-06-28 00:00:00'), 7: Timestamp('2019-07-29 00:00:00')}\n",
      "################################################\n",
      "19--######## BT2A413528302 #########\n",
      "------ 0\n",
      "------ 1\n",
      "------ 2\n",
      "------ 3\n",
      "------ 4\n",
      "------ 5\n",
      "------ 6\n",
      "------ 7\n",
      "------ 8\n",
      "{5: Timestamp('2019-05-28 00:00:00'), 6: Timestamp('2019-06-27 00:00:00'), 7: Timestamp('2019-07-26 00:00:00')}\n"
     ]
    },
    {
     "name": "stderr",
     "output_type": "stream",
     "text": [
      "/home/ubuntu/data/code/ref_fdetector/src/lib/mainlib.py:676: UserWarning: Boolean Series key will be reindexed to match DataFrame index.\n",
      "  df = df[(f1 & f2) | f3]\n",
      "/home/ubuntu/data/code/ref_fdetector/src/lib/mainlib.py:676: UserWarning: Boolean Series key will be reindexed to match DataFrame index.\n",
      "  df = df[(f1 & f2) | f3]\n",
      "/home/ubuntu/data/code/ref_fdetector/src/lib/mainlib.py:676: UserWarning: Boolean Series key will be reindexed to match DataFrame index.\n",
      "  df = df[(f1 & f2) | f3]\n"
     ]
    },
    {
     "name": "stdout",
     "output_type": "stream",
     "text": [
      "{5: Timestamp('2019-05-28 00:00:00'), 6: Timestamp('2019-06-27 00:00:00'), 7: Timestamp('2019-07-26 00:00:00')}\n",
      "################################################\n",
      "20--######## BT2A413668708 #########\n",
      "------ 0\n",
      "------ 1\n",
      "------ 2\n",
      "------ 3\n",
      "------ 4\n",
      "------ 5\n",
      "------ 6\n",
      "------ 7\n",
      "------ 8\n",
      "{5: Timestamp('2019-05-28 00:00:00'), 6: Timestamp('2019-06-27 00:00:00'), 7: Timestamp('2019-07-26 00:00:00')}\n"
     ]
    },
    {
     "name": "stderr",
     "output_type": "stream",
     "text": [
      "/home/ubuntu/data/code/ref_fdetector/src/lib/mainlib.py:676: UserWarning: Boolean Series key will be reindexed to match DataFrame index.\n",
      "  df = df[(f1 & f2) | f3]\n",
      "/home/ubuntu/data/code/ref_fdetector/src/lib/mainlib.py:676: UserWarning: Boolean Series key will be reindexed to match DataFrame index.\n",
      "  df = df[(f1 & f2) | f3]\n",
      "/home/ubuntu/data/code/ref_fdetector/src/lib/mainlib.py:676: UserWarning: Boolean Series key will be reindexed to match DataFrame index.\n",
      "  df = df[(f1 & f2) | f3]\n"
     ]
    },
    {
     "name": "stdout",
     "output_type": "stream",
     "text": [
      "{5: Timestamp('2019-05-28 00:00:00'), 6: Timestamp('2019-06-27 00:00:00'), 7: Timestamp('2019-07-26 00:00:00')}\n",
      "################################################\n",
      "21--######## BT2A413776819 #########\n",
      "------ 0\n",
      "------ 1\n",
      "------ 2\n",
      "------ 3\n",
      "------ 4\n",
      "------ 5\n",
      "------ 6\n",
      "------ 7\n",
      "------ 8\n",
      "{5: Timestamp('2019-05-28 00:00:00'), 6: Timestamp('2019-06-27 00:00:00'), 7: Timestamp('2019-07-26 00:00:00')}\n"
     ]
    },
    {
     "name": "stderr",
     "output_type": "stream",
     "text": [
      "/home/ubuntu/data/code/ref_fdetector/src/lib/mainlib.py:676: UserWarning: Boolean Series key will be reindexed to match DataFrame index.\n",
      "  df = df[(f1 & f2) | f3]\n",
      "/home/ubuntu/data/code/ref_fdetector/src/lib/mainlib.py:676: UserWarning: Boolean Series key will be reindexed to match DataFrame index.\n",
      "  df = df[(f1 & f2) | f3]\n",
      "/home/ubuntu/data/code/ref_fdetector/src/lib/mainlib.py:676: UserWarning: Boolean Series key will be reindexed to match DataFrame index.\n",
      "  df = df[(f1 & f2) | f3]\n"
     ]
    },
    {
     "name": "stdout",
     "output_type": "stream",
     "text": [
      "{5: Timestamp('2019-05-28 00:00:00'), 6: Timestamp('2019-06-27 00:00:00'), 7: Timestamp('2019-07-26 00:00:00')}\n",
      "################################################\n",
      "22--######## BT2A414505502 #########\n",
      "------ 0\n",
      "------ 1\n",
      "------ 2\n",
      "------ 3\n",
      "------ 4\n",
      "------ 5\n",
      "------ 6\n",
      "------ 7\n",
      "------ 8\n",
      "{5: Timestamp('2019-05-28 00:00:00'), 6: Timestamp('2019-06-27 00:00:00'), 7: Timestamp('2019-07-26 00:00:00')}\n"
     ]
    },
    {
     "name": "stderr",
     "output_type": "stream",
     "text": [
      "/home/ubuntu/data/code/ref_fdetector/src/lib/mainlib.py:676: UserWarning: Boolean Series key will be reindexed to match DataFrame index.\n",
      "  df = df[(f1 & f2) | f3]\n",
      "/home/ubuntu/data/code/ref_fdetector/src/lib/mainlib.py:676: UserWarning: Boolean Series key will be reindexed to match DataFrame index.\n",
      "  df = df[(f1 & f2) | f3]\n",
      "/home/ubuntu/data/code/ref_fdetector/src/lib/mainlib.py:676: UserWarning: Boolean Series key will be reindexed to match DataFrame index.\n",
      "  df = df[(f1 & f2) | f3]\n"
     ]
    },
    {
     "name": "stdout",
     "output_type": "stream",
     "text": [
      "{5: Timestamp('2019-05-28 00:00:00'), 6: Timestamp('2019-06-27 00:00:00'), 7: Timestamp('2019-07-26 00:00:00')}\n",
      "################################################\n",
      "23--######## BT2A414526295 #########\n",
      "------ 0\n",
      "------ 1\n",
      "------ 2\n",
      "------ 3\n",
      "------ 4\n",
      "------ 5\n",
      "------ 6\n",
      "------ 7\n",
      "------ 8\n",
      "{5: Timestamp('2019-05-28 00:00:00'), 6: Timestamp('2019-06-27 00:00:00'), 7: Timestamp('2019-07-26 00:00:00')}\n"
     ]
    },
    {
     "name": "stderr",
     "output_type": "stream",
     "text": [
      "/home/ubuntu/data/code/ref_fdetector/src/lib/mainlib.py:676: UserWarning: Boolean Series key will be reindexed to match DataFrame index.\n",
      "  df = df[(f1 & f2) | f3]\n",
      "/home/ubuntu/data/code/ref_fdetector/src/lib/mainlib.py:676: UserWarning: Boolean Series key will be reindexed to match DataFrame index.\n",
      "  df = df[(f1 & f2) | f3]\n",
      "/home/ubuntu/data/code/ref_fdetector/src/lib/mainlib.py:676: UserWarning: Boolean Series key will be reindexed to match DataFrame index.\n",
      "  df = df[(f1 & f2) | f3]\n"
     ]
    },
    {
     "name": "stdout",
     "output_type": "stream",
     "text": [
      "{5: Timestamp('2019-05-28 00:00:00'), 6: Timestamp('2019-06-27 00:00:00'), 7: Timestamp('2019-07-26 00:00:00')}\n",
      "################################################\n",
      "24--######## BT2A414566994 #########\n",
      "------ 0\n",
      "------ 1\n",
      "------ 2\n",
      "------ 3\n",
      "------ 4\n",
      "------ 5\n",
      "------ 6\n",
      "------ 7\n",
      "------ 8\n",
      "{5: Timestamp('2019-05-29 00:00:00'), 6: Timestamp('2019-06-28 00:00:00'), 7: Timestamp('2019-07-29 00:00:00')}\n"
     ]
    },
    {
     "name": "stderr",
     "output_type": "stream",
     "text": [
      "/home/ubuntu/data/code/ref_fdetector/src/lib/mainlib.py:676: UserWarning: Boolean Series key will be reindexed to match DataFrame index.\n",
      "  df = df[(f1 & f2) | f3]\n",
      "/home/ubuntu/data/code/ref_fdetector/src/lib/mainlib.py:676: UserWarning: Boolean Series key will be reindexed to match DataFrame index.\n",
      "  df = df[(f1 & f2) | f3]\n",
      "/home/ubuntu/data/code/ref_fdetector/src/lib/mainlib.py:676: UserWarning: Boolean Series key will be reindexed to match DataFrame index.\n",
      "  df = df[(f1 & f2) | f3]\n"
     ]
    },
    {
     "name": "stdout",
     "output_type": "stream",
     "text": [
      "{5: Timestamp('2019-05-29 00:00:00'), 6: Timestamp('2019-06-28 00:00:00'), 7: Timestamp('2019-07-29 00:00:00')}\n",
      "################################################\n",
      "25--######## BT2A414583015 #########\n",
      "------ 0\n",
      "------ 1\n",
      "------ 2\n",
      "------ 3\n",
      "------ 4\n",
      "------ 5\n",
      "------ 6\n",
      "------ 7\n",
      "------ 8\n",
      "{5: Timestamp('2019-05-28 00:00:00'), 6: Timestamp('2019-06-27 00:00:00'), 7: Timestamp('2019-07-26 00:00:00')}\n"
     ]
    },
    {
     "name": "stderr",
     "output_type": "stream",
     "text": [
      "/home/ubuntu/data/code/ref_fdetector/src/lib/mainlib.py:676: UserWarning: Boolean Series key will be reindexed to match DataFrame index.\n",
      "  df = df[(f1 & f2) | f3]\n",
      "/home/ubuntu/data/code/ref_fdetector/src/lib/mainlib.py:676: UserWarning: Boolean Series key will be reindexed to match DataFrame index.\n",
      "  df = df[(f1 & f2) | f3]\n",
      "/home/ubuntu/data/code/ref_fdetector/src/lib/mainlib.py:676: UserWarning: Boolean Series key will be reindexed to match DataFrame index.\n",
      "  df = df[(f1 & f2) | f3]\n"
     ]
    },
    {
     "name": "stdout",
     "output_type": "stream",
     "text": [
      "{5: Timestamp('2019-05-28 00:00:00'), 6: Timestamp('2019-06-27 00:00:00'), 7: Timestamp('2019-07-26 00:00:00')}\n",
      "################################################\n",
      "26--######## BT2A414610425 #########\n",
      "------ 0\n",
      "------ 1\n",
      "------ 2\n",
      "------ 3\n",
      "------ 4\n",
      "------ 5\n",
      "------ 6\n",
      "------ 7\n",
      "------ 8\n",
      "{5: Timestamp('2019-05-29 00:00:00'), 6: Timestamp('2019-06-28 00:00:00'), 7: Timestamp('2019-07-29 00:00:00')}\n"
     ]
    },
    {
     "name": "stderr",
     "output_type": "stream",
     "text": [
      "/home/ubuntu/data/code/ref_fdetector/src/lib/mainlib.py:676: UserWarning: Boolean Series key will be reindexed to match DataFrame index.\n",
      "  df = df[(f1 & f2) | f3]\n",
      "/home/ubuntu/data/code/ref_fdetector/src/lib/mainlib.py:676: UserWarning: Boolean Series key will be reindexed to match DataFrame index.\n",
      "  df = df[(f1 & f2) | f3]\n",
      "/home/ubuntu/data/code/ref_fdetector/src/lib/mainlib.py:676: UserWarning: Boolean Series key will be reindexed to match DataFrame index.\n",
      "  df = df[(f1 & f2) | f3]\n"
     ]
    },
    {
     "name": "stdout",
     "output_type": "stream",
     "text": [
      "{5: Timestamp('2019-05-29 00:00:00'), 6: Timestamp('2019-06-28 00:00:00'), 7: Timestamp('2019-07-29 00:00:00')}\n",
      "################################################\n",
      "27--######## BT2A420103194 #########\n",
      "------ 0\n",
      "------ 1\n",
      "------ 2\n",
      "------ 3\n",
      "------ 4\n",
      "------ 5\n",
      "------ 6\n",
      "------ 7\n",
      "------ 8\n",
      "{5: Timestamp('2019-05-29 00:00:00'), 6: Timestamp('2019-06-28 00:00:00'), 7: Timestamp('2019-07-29 00:00:00')}\n"
     ]
    },
    {
     "name": "stderr",
     "output_type": "stream",
     "text": [
      "/home/ubuntu/data/code/ref_fdetector/src/lib/mainlib.py:676: UserWarning: Boolean Series key will be reindexed to match DataFrame index.\n",
      "  df = df[(f1 & f2) | f3]\n",
      "/home/ubuntu/data/code/ref_fdetector/src/lib/mainlib.py:676: UserWarning: Boolean Series key will be reindexed to match DataFrame index.\n",
      "  df = df[(f1 & f2) | f3]\n",
      "/home/ubuntu/data/code/ref_fdetector/src/lib/mainlib.py:676: UserWarning: Boolean Series key will be reindexed to match DataFrame index.\n",
      "  df = df[(f1 & f2) | f3]\n"
     ]
    },
    {
     "name": "stdout",
     "output_type": "stream",
     "text": [
      "{5: Timestamp('2019-05-29 00:00:00'), 6: Timestamp('2019-06-28 00:00:00'), 7: Timestamp('2019-07-29 00:00:00')}\n",
      "################################################\n",
      "28--######## BT2A420475716 #########\n",
      "------ 0\n",
      "------ 1\n",
      "------ 2\n",
      "------ 3\n",
      "------ 4\n",
      "------ 5\n",
      "------ 6\n",
      "------ 7\n",
      "------ 8\n",
      "{5: Timestamp('2019-05-28 00:00:00'), 6: Timestamp('2019-06-27 00:00:00'), 7: Timestamp('2019-07-26 00:00:00')}\n"
     ]
    },
    {
     "name": "stderr",
     "output_type": "stream",
     "text": [
      "/home/ubuntu/data/code/ref_fdetector/src/lib/mainlib.py:676: UserWarning: Boolean Series key will be reindexed to match DataFrame index.\n",
      "  df = df[(f1 & f2) | f3]\n",
      "/home/ubuntu/data/code/ref_fdetector/src/lib/mainlib.py:676: UserWarning: Boolean Series key will be reindexed to match DataFrame index.\n",
      "  df = df[(f1 & f2) | f3]\n",
      "/home/ubuntu/data/code/ref_fdetector/src/lib/mainlib.py:676: UserWarning: Boolean Series key will be reindexed to match DataFrame index.\n",
      "  df = df[(f1 & f2) | f3]\n"
     ]
    },
    {
     "name": "stdout",
     "output_type": "stream",
     "text": [
      "{5: Timestamp('2019-05-28 00:00:00'), 6: Timestamp('2019-06-27 00:00:00'), 7: Timestamp('2019-07-26 00:00:00')}\n",
      "################################################\n",
      "29--######## BT2A420605940 #########\n",
      "------ 0\n",
      "------ 1\n",
      "------ 2\n",
      "------ 3\n",
      "------ 4\n",
      "------ 5\n",
      "------ 6\n",
      "------ 7\n",
      "------ 8\n",
      "{5: Timestamp('2019-05-28 00:00:00'), 6: Timestamp('2019-06-27 00:00:00'), 7: Timestamp('2019-07-26 00:00:00')}\n"
     ]
    },
    {
     "name": "stderr",
     "output_type": "stream",
     "text": [
      "/home/ubuntu/data/code/ref_fdetector/src/lib/mainlib.py:676: UserWarning: Boolean Series key will be reindexed to match DataFrame index.\n",
      "  df = df[(f1 & f2) | f3]\n",
      "/home/ubuntu/data/code/ref_fdetector/src/lib/mainlib.py:676: UserWarning: Boolean Series key will be reindexed to match DataFrame index.\n",
      "  df = df[(f1 & f2) | f3]\n",
      "/home/ubuntu/data/code/ref_fdetector/src/lib/mainlib.py:676: UserWarning: Boolean Series key will be reindexed to match DataFrame index.\n",
      "  df = df[(f1 & f2) | f3]\n"
     ]
    },
    {
     "name": "stdout",
     "output_type": "stream",
     "text": [
      "{5: Timestamp('2019-05-28 00:00:00'), 6: Timestamp('2019-06-27 00:00:00'), 7: Timestamp('2019-07-26 00:00:00')}\n",
      "################################################\n",
      "30--######## BT2A420613277 #########\n",
      "------ 0\n",
      "------ 1\n",
      "------ 2\n",
      "------ 3\n",
      "------ 4\n",
      "------ 5\n",
      "------ 6\n",
      "------ 7\n",
      "------ 8\n",
      "{5: Timestamp('2019-05-29 00:00:00'), 6: Timestamp('2019-06-28 00:00:00'), 7: Timestamp('2019-07-29 00:00:00')}\n"
     ]
    },
    {
     "name": "stderr",
     "output_type": "stream",
     "text": [
      "/home/ubuntu/data/code/ref_fdetector/src/lib/mainlib.py:676: UserWarning: Boolean Series key will be reindexed to match DataFrame index.\n",
      "  df = df[(f1 & f2) | f3]\n",
      "/home/ubuntu/data/code/ref_fdetector/src/lib/mainlib.py:676: UserWarning: Boolean Series key will be reindexed to match DataFrame index.\n",
      "  df = df[(f1 & f2) | f3]\n",
      "/home/ubuntu/data/code/ref_fdetector/src/lib/mainlib.py:676: UserWarning: Boolean Series key will be reindexed to match DataFrame index.\n",
      "  df = df[(f1 & f2) | f3]\n"
     ]
    },
    {
     "name": "stdout",
     "output_type": "stream",
     "text": [
      "{5: Timestamp('2019-05-29 00:00:00'), 6: Timestamp('2019-06-28 00:00:00'), 7: Timestamp('2019-07-29 00:00:00')}\n",
      "################################################\n",
      "31--######## BT2A420705641 #########\n",
      "------ 0\n",
      "------ 1\n",
      "------ 2\n",
      "------ 3\n",
      "------ 4\n",
      "------ 5\n",
      "------ 6\n",
      "------ 7\n",
      "------ 8\n",
      "{5: Timestamp('2019-05-28 00:00:00'), 6: Timestamp('2019-06-27 00:00:00'), 7: Timestamp('2019-07-26 00:00:00')}\n"
     ]
    },
    {
     "name": "stderr",
     "output_type": "stream",
     "text": [
      "/home/ubuntu/data/code/ref_fdetector/src/lib/mainlib.py:676: UserWarning: Boolean Series key will be reindexed to match DataFrame index.\n",
      "  df = df[(f1 & f2) | f3]\n",
      "/home/ubuntu/data/code/ref_fdetector/src/lib/mainlib.py:676: UserWarning: Boolean Series key will be reindexed to match DataFrame index.\n",
      "  df = df[(f1 & f2) | f3]\n",
      "/home/ubuntu/data/code/ref_fdetector/src/lib/mainlib.py:676: UserWarning: Boolean Series key will be reindexed to match DataFrame index.\n",
      "  df = df[(f1 & f2) | f3]\n"
     ]
    },
    {
     "name": "stdout",
     "output_type": "stream",
     "text": [
      "{5: Timestamp('2019-05-28 00:00:00'), 6: Timestamp('2019-06-27 00:00:00'), 7: Timestamp('2019-07-26 00:00:00')}\n",
      "################################################\n",
      "32--######## BT2A421042017 #########\n",
      "------ 0\n",
      "------ 1\n",
      "------ 2\n",
      "------ 3\n",
      "------ 4\n",
      "------ 5\n",
      "------ 6\n",
      "------ 7\n",
      "------ 8\n",
      "{5: Timestamp('2019-05-27 00:00:00'), 6: Timestamp('2019-06-26 00:00:00'), 7: Timestamp('2019-07-25 00:00:00')}\n"
     ]
    },
    {
     "name": "stderr",
     "output_type": "stream",
     "text": [
      "/home/ubuntu/data/code/ref_fdetector/src/lib/mainlib.py:676: UserWarning: Boolean Series key will be reindexed to match DataFrame index.\n",
      "  df = df[(f1 & f2) | f3]\n",
      "/home/ubuntu/data/code/ref_fdetector/src/lib/mainlib.py:676: UserWarning: Boolean Series key will be reindexed to match DataFrame index.\n",
      "  df = df[(f1 & f2) | f3]\n",
      "/home/ubuntu/data/code/ref_fdetector/src/lib/mainlib.py:676: UserWarning: Boolean Series key will be reindexed to match DataFrame index.\n",
      "  df = df[(f1 & f2) | f3]\n"
     ]
    },
    {
     "name": "stdout",
     "output_type": "stream",
     "text": [
      "{5: Timestamp('2019-05-27 00:00:00'), 6: Timestamp('2019-06-26 00:00:00'), 7: Timestamp('2019-07-25 00:00:00')}\n",
      "++++++Erro 2++++++++++ \n",
      "Traceback (most recent call last):\n",
      "  File \"<ipython-input-205-854869aae9c4>\", line 33, in loopy2\n",
      "    processa_mm(dmm, ddays, PERFIL, DEGRAU, MORRO)\n",
      "  File \"/home/ubuntu/data/code/ref_fdetector/src/lib/of_proc.py\", line 270, in processa_mm\n",
      "    mm.nn_perfil(imodel = perfil)\n",
      "  File \"/home/ubuntu/data/code/ref_fdetector/src/lib/mainlib.py\", line 1029, in nn_perfil\n",
      "    self.outputs['perfil'][y][m] = self.months[y][m].nn_perfil_month(imodel)\n",
      "  File \"/home/ubuntu/data/code/ref_fdetector/src/lib/mainlib.py\", line 1041, in nn_perfil_month\n",
      "    preds[c] = model.predict(np.asarray(week).reshape(1,-1))\n",
      "  File \"/home/ubuntu/anaconda3/envs/tensorflow_p36/lib/python3.6/site-packages/keras/engine/training.py\", line 1149, in predict\n",
      "    x, _, _ = self._standardize_user_data(x)\n",
      "  File \"/home/ubuntu/anaconda3/envs/tensorflow_p36/lib/python3.6/site-packages/keras/engine/training.py\", line 751, in _standardize_user_data\n",
      "    exception_prefix='input')\n",
      "  File \"/home/ubuntu/anaconda3/envs/tensorflow_p36/lib/python3.6/site-packages/keras/engine/training_utils.py\", line 138, in standardize_input_data\n",
      "    str(data_shape))\n",
      "ValueError: Error when checking input: expected dense_1_input to have shape (168,) but got array with shape (336,)\n",
      "\n",
      "++++++++++++++++++++\n",
      "32--######## BT2A421331411 #########\n",
      "------ 0\n",
      "------ 1\n",
      "------ 2\n",
      "------ 3\n",
      "------ 4\n",
      "------ 5\n",
      "------ 6\n",
      "------ 7\n",
      "------ 8\n",
      "{5: Timestamp('2019-05-28 00:00:00'), 6: Timestamp('2019-06-27 00:00:00'), 7: Timestamp('2019-07-26 00:00:00')}\n"
     ]
    },
    {
     "name": "stderr",
     "output_type": "stream",
     "text": [
      "/home/ubuntu/data/code/ref_fdetector/src/lib/mainlib.py:676: UserWarning: Boolean Series key will be reindexed to match DataFrame index.\n",
      "  df = df[(f1 & f2) | f3]\n",
      "/home/ubuntu/data/code/ref_fdetector/src/lib/mainlib.py:676: UserWarning: Boolean Series key will be reindexed to match DataFrame index.\n",
      "  df = df[(f1 & f2) | f3]\n",
      "/home/ubuntu/data/code/ref_fdetector/src/lib/mainlib.py:676: UserWarning: Boolean Series key will be reindexed to match DataFrame index.\n",
      "  df = df[(f1 & f2) | f3]\n"
     ]
    },
    {
     "name": "stdout",
     "output_type": "stream",
     "text": [
      "{5: Timestamp('2019-05-28 00:00:00'), 6: Timestamp('2019-06-27 00:00:00'), 7: Timestamp('2019-07-26 00:00:00')}\n",
      "################################################\n",
      "33--######## BTI410006819 #########\n",
      "------ 0\n",
      "------ 1\n",
      "------ 2\n",
      "------ 3\n",
      "------ 4\n",
      "------ 5\n",
      "------ 6\n",
      "------ 7\n",
      "------ 8\n",
      "{5: Timestamp('2019-05-29 00:00:00'), 6: Timestamp('2019-06-28 00:00:00'), 7: Timestamp('2019-07-29 00:00:00')}\n"
     ]
    },
    {
     "name": "stderr",
     "output_type": "stream",
     "text": [
      "/home/ubuntu/data/code/ref_fdetector/src/lib/mainlib.py:676: UserWarning: Boolean Series key will be reindexed to match DataFrame index.\n",
      "  df = df[(f1 & f2) | f3]\n",
      "/home/ubuntu/data/code/ref_fdetector/src/lib/mainlib.py:676: UserWarning: Boolean Series key will be reindexed to match DataFrame index.\n",
      "  df = df[(f1 & f2) | f3]\n",
      "/home/ubuntu/data/code/ref_fdetector/src/lib/mainlib.py:676: UserWarning: Boolean Series key will be reindexed to match DataFrame index.\n",
      "  df = df[(f1 & f2) | f3]\n"
     ]
    },
    {
     "name": "stdout",
     "output_type": "stream",
     "text": [
      "{5: Timestamp('2019-05-29 00:00:00'), 6: Timestamp('2019-06-28 00:00:00'), 7: Timestamp('2019-07-29 00:00:00')}\n",
      "################################################\n",
      "34--######## BTI410006988 #########\n",
      "------ 0\n",
      "------ 1\n",
      "------ 2\n",
      "------ 3\n",
      "------ 4\n",
      "------ 5\n",
      "------ 6\n",
      "------ 7\n",
      "------ 8\n",
      "{5: Timestamp('2019-05-29 00:00:00'), 6: Timestamp('2019-06-28 00:00:00'), 7: Timestamp('2019-07-29 00:00:00')}\n"
     ]
    },
    {
     "name": "stderr",
     "output_type": "stream",
     "text": [
      "/home/ubuntu/data/code/ref_fdetector/src/lib/mainlib.py:676: UserWarning: Boolean Series key will be reindexed to match DataFrame index.\n",
      "  df = df[(f1 & f2) | f3]\n",
      "/home/ubuntu/data/code/ref_fdetector/src/lib/mainlib.py:676: UserWarning: Boolean Series key will be reindexed to match DataFrame index.\n",
      "  df = df[(f1 & f2) | f3]\n",
      "/home/ubuntu/data/code/ref_fdetector/src/lib/mainlib.py:676: UserWarning: Boolean Series key will be reindexed to match DataFrame index.\n",
      "  df = df[(f1 & f2) | f3]\n"
     ]
    },
    {
     "name": "stdout",
     "output_type": "stream",
     "text": [
      "{5: Timestamp('2019-05-29 00:00:00'), 6: Timestamp('2019-06-28 00:00:00'), 7: Timestamp('2019-07-29 00:00:00')}\n",
      "################################################\n",
      "35--######## BTI410112094 #########\n",
      "------ 0\n",
      "------ 1\n",
      "------ 2\n",
      "------ 3\n",
      "------ 4\n",
      "------ 5\n",
      "------ 6\n",
      "------ 7\n",
      "------ 8\n",
      "{5: Timestamp('2019-05-28 00:00:00'), 6: Timestamp('2019-06-27 00:00:00'), 7: Timestamp('2019-07-26 00:00:00')}\n"
     ]
    },
    {
     "name": "stderr",
     "output_type": "stream",
     "text": [
      "/home/ubuntu/data/code/ref_fdetector/src/lib/mainlib.py:676: UserWarning: Boolean Series key will be reindexed to match DataFrame index.\n",
      "  df = df[(f1 & f2) | f3]\n",
      "/home/ubuntu/data/code/ref_fdetector/src/lib/mainlib.py:676: UserWarning: Boolean Series key will be reindexed to match DataFrame index.\n",
      "  df = df[(f1 & f2) | f3]\n",
      "/home/ubuntu/data/code/ref_fdetector/src/lib/mainlib.py:676: UserWarning: Boolean Series key will be reindexed to match DataFrame index.\n",
      "  df = df[(f1 & f2) | f3]\n"
     ]
    },
    {
     "name": "stdout",
     "output_type": "stream",
     "text": [
      "{5: Timestamp('2019-05-28 00:00:00'), 6: Timestamp('2019-06-27 00:00:00'), 7: Timestamp('2019-07-26 00:00:00')}\n",
      "################################################\n",
      "36--######## BTI410226095 #########\n",
      "------ 0\n",
      "------ 1\n",
      "------ 2\n",
      "------ 3\n",
      "------ 4\n",
      "------ 5\n",
      "------ 6\n",
      "------ 7\n",
      "------ 8\n",
      "{5: Timestamp('2019-05-28 00:00:00'), 6: Timestamp('2019-06-27 00:00:00'), 7: Timestamp('2019-07-26 00:00:00')}\n"
     ]
    },
    {
     "name": "stderr",
     "output_type": "stream",
     "text": [
      "/home/ubuntu/data/code/ref_fdetector/src/lib/mainlib.py:676: UserWarning: Boolean Series key will be reindexed to match DataFrame index.\n",
      "  df = df[(f1 & f2) | f3]\n",
      "/home/ubuntu/data/code/ref_fdetector/src/lib/mainlib.py:676: UserWarning: Boolean Series key will be reindexed to match DataFrame index.\n",
      "  df = df[(f1 & f2) | f3]\n",
      "/home/ubuntu/data/code/ref_fdetector/src/lib/mainlib.py:676: UserWarning: Boolean Series key will be reindexed to match DataFrame index.\n",
      "  df = df[(f1 & f2) | f3]\n"
     ]
    },
    {
     "name": "stdout",
     "output_type": "stream",
     "text": [
      "{5: Timestamp('2019-05-28 00:00:00'), 6: Timestamp('2019-06-27 00:00:00'), 7: Timestamp('2019-07-26 00:00:00')}\n",
      "################################################\n",
      "37--######## BTI410295093 #########\n",
      "------ 0\n",
      "------ 1\n",
      "------ 2\n",
      "------ 3\n",
      "------ 4\n",
      "------ 5\n",
      "------ 6\n",
      "------ 7\n",
      "------ 8\n",
      "{5: Timestamp('2019-05-29 00:00:00'), 6: Timestamp('2019-06-28 00:00:00'), 7: Timestamp('2019-07-29 00:00:00')}\n"
     ]
    },
    {
     "name": "stderr",
     "output_type": "stream",
     "text": [
      "/home/ubuntu/data/code/ref_fdetector/src/lib/mainlib.py:676: UserWarning: Boolean Series key will be reindexed to match DataFrame index.\n",
      "  df = df[(f1 & f2) | f3]\n",
      "/home/ubuntu/data/code/ref_fdetector/src/lib/mainlib.py:676: UserWarning: Boolean Series key will be reindexed to match DataFrame index.\n",
      "  df = df[(f1 & f2) | f3]\n",
      "/home/ubuntu/data/code/ref_fdetector/src/lib/mainlib.py:676: UserWarning: Boolean Series key will be reindexed to match DataFrame index.\n",
      "  df = df[(f1 & f2) | f3]\n"
     ]
    },
    {
     "name": "stdout",
     "output_type": "stream",
     "text": [
      "{5: Timestamp('2019-05-29 00:00:00'), 6: Timestamp('2019-06-28 00:00:00'), 7: Timestamp('2019-07-29 00:00:00')}\n",
      "################################################\n",
      "38--######## BTI410332762 #########\n",
      "------ 0\n",
      "------ 1\n",
      "------ 2\n",
      "------ 3\n",
      "------ 4\n",
      "------ 5\n",
      "------ 6\n",
      "------ 7\n",
      "------ 8\n",
      "{5: Timestamp('2019-05-28 00:00:00'), 6: Timestamp('2019-06-27 00:00:00'), 7: Timestamp('2019-07-26 00:00:00')}\n"
     ]
    },
    {
     "name": "stderr",
     "output_type": "stream",
     "text": [
      "/home/ubuntu/data/code/ref_fdetector/src/lib/mainlib.py:676: UserWarning: Boolean Series key will be reindexed to match DataFrame index.\n",
      "  df = df[(f1 & f2) | f3]\n",
      "/home/ubuntu/data/code/ref_fdetector/src/lib/mainlib.py:676: UserWarning: Boolean Series key will be reindexed to match DataFrame index.\n",
      "  df = df[(f1 & f2) | f3]\n",
      "/home/ubuntu/data/code/ref_fdetector/src/lib/mainlib.py:676: UserWarning: Boolean Series key will be reindexed to match DataFrame index.\n",
      "  df = df[(f1 & f2) | f3]\n"
     ]
    },
    {
     "name": "stdout",
     "output_type": "stream",
     "text": [
      "{5: Timestamp('2019-05-28 00:00:00'), 6: Timestamp('2019-06-27 00:00:00'), 7: Timestamp('2019-07-26 00:00:00')}\n",
      "################################################\n",
      "39--######## BTI410359670 #########\n",
      "------ 0\n",
      "------ 1\n",
      "------ 2\n",
      "------ 3\n",
      "------ 4\n",
      "------ 5\n",
      "------ 6\n",
      "------ 7\n",
      "------ 8\n",
      "{5: Timestamp('2019-05-28 00:00:00'), 6: Timestamp('2019-06-27 00:00:00'), 7: Timestamp('2019-07-26 00:00:00')}\n"
     ]
    },
    {
     "name": "stderr",
     "output_type": "stream",
     "text": [
      "/home/ubuntu/data/code/ref_fdetector/src/lib/mainlib.py:676: UserWarning: Boolean Series key will be reindexed to match DataFrame index.\n",
      "  df = df[(f1 & f2) | f3]\n",
      "/home/ubuntu/data/code/ref_fdetector/src/lib/mainlib.py:676: UserWarning: Boolean Series key will be reindexed to match DataFrame index.\n",
      "  df = df[(f1 & f2) | f3]\n",
      "/home/ubuntu/data/code/ref_fdetector/src/lib/mainlib.py:676: UserWarning: Boolean Series key will be reindexed to match DataFrame index.\n",
      "  df = df[(f1 & f2) | f3]\n"
     ]
    },
    {
     "name": "stdout",
     "output_type": "stream",
     "text": [
      "{5: Timestamp('2019-05-28 00:00:00'), 6: Timestamp('2019-06-27 00:00:00'), 7: Timestamp('2019-07-26 00:00:00')}\n",
      "################################################\n",
      "40--######## BTI410361683 #########\n",
      "------ 0\n",
      "------ 1\n",
      "------ 2\n",
      "------ 3\n",
      "------ 4\n",
      "------ 5\n",
      "------ 6\n",
      "------ 7\n",
      "------ 8\n",
      "{5: Timestamp('2019-05-29 00:00:00'), 6: Timestamp('2019-06-28 00:00:00'), 7: Timestamp('2019-07-29 00:00:00')}\n"
     ]
    },
    {
     "name": "stderr",
     "output_type": "stream",
     "text": [
      "/home/ubuntu/data/code/ref_fdetector/src/lib/mainlib.py:676: UserWarning: Boolean Series key will be reindexed to match DataFrame index.\n",
      "  df = df[(f1 & f2) | f3]\n",
      "/home/ubuntu/data/code/ref_fdetector/src/lib/mainlib.py:676: UserWarning: Boolean Series key will be reindexed to match DataFrame index.\n",
      "  df = df[(f1 & f2) | f3]\n",
      "/home/ubuntu/data/code/ref_fdetector/src/lib/mainlib.py:676: UserWarning: Boolean Series key will be reindexed to match DataFrame index.\n",
      "  df = df[(f1 & f2) | f3]\n"
     ]
    },
    {
     "name": "stdout",
     "output_type": "stream",
     "text": [
      "{5: Timestamp('2019-05-29 00:00:00'), 6: Timestamp('2019-06-28 00:00:00'), 7: Timestamp('2019-07-29 00:00:00')}\n",
      "################################################\n",
      "41--######## BTI410447394 #########\n",
      "------ 0\n",
      "------ 1\n",
      "------ 2\n",
      "------ 3\n",
      "------ 4\n",
      "------ 5\n",
      "------ 6\n",
      "------ 7\n",
      "------ 8\n",
      "{5: Timestamp('2019-05-28 00:00:00'), 6: Timestamp('2019-06-27 00:00:00'), 7: Timestamp('2019-07-26 00:00:00')}\n"
     ]
    },
    {
     "name": "stderr",
     "output_type": "stream",
     "text": [
      "/home/ubuntu/data/code/ref_fdetector/src/lib/mainlib.py:676: UserWarning: Boolean Series key will be reindexed to match DataFrame index.\n",
      "  df = df[(f1 & f2) | f3]\n",
      "/home/ubuntu/data/code/ref_fdetector/src/lib/mainlib.py:676: UserWarning: Boolean Series key will be reindexed to match DataFrame index.\n",
      "  df = df[(f1 & f2) | f3]\n",
      "/home/ubuntu/data/code/ref_fdetector/src/lib/mainlib.py:676: UserWarning: Boolean Series key will be reindexed to match DataFrame index.\n",
      "  df = df[(f1 & f2) | f3]\n"
     ]
    },
    {
     "name": "stdout",
     "output_type": "stream",
     "text": [
      "{5: Timestamp('2019-05-28 00:00:00'), 6: Timestamp('2019-06-27 00:00:00'), 7: Timestamp('2019-07-26 00:00:00')}\n",
      "################################################\n",
      "42--######## BTI410448557 #########\n",
      "------ 0\n",
      "------ 1\n",
      "------ 2\n",
      "------ 3\n",
      "------ 4\n",
      "------ 5\n",
      "------ 6\n",
      "------ 7\n",
      "------ 8\n",
      "{5: Timestamp('2019-05-29 00:00:00'), 6: Timestamp('2019-06-28 00:00:00'), 7: Timestamp('2019-07-29 00:00:00')}\n"
     ]
    },
    {
     "name": "stderr",
     "output_type": "stream",
     "text": [
      "/home/ubuntu/data/code/ref_fdetector/src/lib/mainlib.py:676: UserWarning: Boolean Series key will be reindexed to match DataFrame index.\n",
      "  df = df[(f1 & f2) | f3]\n",
      "/home/ubuntu/data/code/ref_fdetector/src/lib/mainlib.py:676: UserWarning: Boolean Series key will be reindexed to match DataFrame index.\n",
      "  df = df[(f1 & f2) | f3]\n",
      "/home/ubuntu/data/code/ref_fdetector/src/lib/mainlib.py:676: UserWarning: Boolean Series key will be reindexed to match DataFrame index.\n",
      "  df = df[(f1 & f2) | f3]\n"
     ]
    },
    {
     "name": "stdout",
     "output_type": "stream",
     "text": [
      "{5: Timestamp('2019-05-29 00:00:00'), 6: Timestamp('2019-06-28 00:00:00'), 7: Timestamp('2019-07-29 00:00:00')}\n",
      "################################################\n",
      "43--######## BTI410457561 #########\n",
      "------ 0\n",
      "------ 1\n",
      "------ 2\n",
      "------ 3\n",
      "------ 4\n",
      "------ 5\n",
      "------ 6\n",
      "------ 7\n",
      "------ 8\n",
      "{5: Timestamp('2019-05-28 00:00:00'), 6: Timestamp('2019-06-27 00:00:00'), 7: Timestamp('2019-07-26 00:00:00')}\n"
     ]
    },
    {
     "name": "stderr",
     "output_type": "stream",
     "text": [
      "/home/ubuntu/data/code/ref_fdetector/src/lib/mainlib.py:676: UserWarning: Boolean Series key will be reindexed to match DataFrame index.\n",
      "  df = df[(f1 & f2) | f3]\n",
      "/home/ubuntu/data/code/ref_fdetector/src/lib/mainlib.py:676: UserWarning: Boolean Series key will be reindexed to match DataFrame index.\n",
      "  df = df[(f1 & f2) | f3]\n",
      "/home/ubuntu/data/code/ref_fdetector/src/lib/mainlib.py:676: UserWarning: Boolean Series key will be reindexed to match DataFrame index.\n",
      "  df = df[(f1 & f2) | f3]\n"
     ]
    },
    {
     "name": "stdout",
     "output_type": "stream",
     "text": [
      "{5: Timestamp('2019-05-28 00:00:00'), 6: Timestamp('2019-06-27 00:00:00'), 7: Timestamp('2019-07-26 00:00:00')}\n",
      "################################################\n",
      "44--######## BTI410477555 #########\n",
      "------ 0\n",
      "------ 1\n",
      "------ 2\n",
      "------ 3\n",
      "------ 4\n",
      "------ 5\n",
      "------ 6\n",
      "------ 7\n",
      "------ 8\n",
      "{5: Timestamp('2019-05-28 00:00:00'), 6: Timestamp('2019-06-27 00:00:00'), 7: Timestamp('2019-07-26 00:00:00')}\n"
     ]
    },
    {
     "name": "stderr",
     "output_type": "stream",
     "text": [
      "/home/ubuntu/data/code/ref_fdetector/src/lib/mainlib.py:676: UserWarning: Boolean Series key will be reindexed to match DataFrame index.\n",
      "  df = df[(f1 & f2) | f3]\n"
     ]
    },
    {
     "name": "stdout",
     "output_type": "stream",
     "text": [
      "{5: Timestamp('2019-05-28 00:00:00'), 6: Timestamp('2019-06-27 00:00:00'), 7: Timestamp('2019-07-26 00:00:00')}\n",
      "################################################\n",
      "45--######## BTI410522512 #########\n",
      "------ 0\n",
      "------ 1\n",
      "------ 2\n",
      "------ 3\n",
      "------ 4\n",
      "------ 5\n",
      "++++++Erro 2++++++++++ \n",
      "Traceback (most recent call last):\n",
      "  File \"<ipython-input-205-854869aae9c4>\", line 26, in loopy2\n",
      "    dfas.read_fasorial(d_insta_to_files_fas[instalacao], dtype=None, index_col=[5], sep = sepfas)\n",
      "KeyError: 'BTI410522512'\n",
      "\n",
      "++++++++++++++++++++\n",
      "45--######## BTI410534924 #########\n",
      "------ 0\n",
      "------ 1\n",
      "------ 2\n",
      "------ 3\n",
      "------ 4\n",
      "------ 5\n",
      "------ 6\n",
      "------ 7\n",
      "------ 8\n",
      "{5: Timestamp('2019-05-28 00:00:00'), 6: Timestamp('2019-06-27 00:00:00'), 7: Timestamp('2019-07-26 00:00:00')}\n"
     ]
    },
    {
     "name": "stderr",
     "output_type": "stream",
     "text": [
      "/home/ubuntu/data/code/ref_fdetector/src/lib/mainlib.py:676: UserWarning: Boolean Series key will be reindexed to match DataFrame index.\n",
      "  df = df[(f1 & f2) | f3]\n",
      "/home/ubuntu/data/code/ref_fdetector/src/lib/mainlib.py:676: UserWarning: Boolean Series key will be reindexed to match DataFrame index.\n",
      "  df = df[(f1 & f2) | f3]\n",
      "/home/ubuntu/data/code/ref_fdetector/src/lib/mainlib.py:676: UserWarning: Boolean Series key will be reindexed to match DataFrame index.\n",
      "  df = df[(f1 & f2) | f3]\n"
     ]
    },
    {
     "name": "stdout",
     "output_type": "stream",
     "text": [
      "{5: Timestamp('2019-05-28 00:00:00'), 6: Timestamp('2019-06-27 00:00:00'), 7: Timestamp('2019-07-26 00:00:00')}\n",
      "################################################\n",
      "46--######## BTI410535049 #########\n",
      "------ 0\n",
      "------ 1\n",
      "------ 2\n",
      "------ 3\n",
      "------ 4\n",
      "------ 5\n",
      "------ 6\n",
      "------ 7\n",
      "------ 8\n",
      "{5: Timestamp('2019-05-28 00:00:00'), 6: Timestamp('2019-06-27 00:00:00'), 7: Timestamp('2019-07-26 00:00:00')}\n"
     ]
    },
    {
     "name": "stderr",
     "output_type": "stream",
     "text": [
      "/home/ubuntu/data/code/ref_fdetector/src/lib/mainlib.py:676: UserWarning: Boolean Series key will be reindexed to match DataFrame index.\n",
      "  df = df[(f1 & f2) | f3]\n",
      "/home/ubuntu/data/code/ref_fdetector/src/lib/mainlib.py:676: UserWarning: Boolean Series key will be reindexed to match DataFrame index.\n",
      "  df = df[(f1 & f2) | f3]\n",
      "/home/ubuntu/data/code/ref_fdetector/src/lib/mainlib.py:676: UserWarning: Boolean Series key will be reindexed to match DataFrame index.\n",
      "  df = df[(f1 & f2) | f3]\n"
     ]
    },
    {
     "name": "stdout",
     "output_type": "stream",
     "text": [
      "{5: Timestamp('2019-05-28 00:00:00'), 6: Timestamp('2019-06-27 00:00:00'), 7: Timestamp('2019-07-26 00:00:00')}\n",
      "################################################\n",
      "47--######## BTI410535240 #########\n",
      "------ 0\n",
      "------ 1\n",
      "------ 2\n",
      "------ 3\n",
      "------ 4\n",
      "------ 5\n",
      "------ 6\n",
      "------ 7\n",
      "------ 8\n",
      "{5: Timestamp('2019-05-28 00:00:00'), 6: Timestamp('2019-06-27 00:00:00'), 7: Timestamp('2019-07-26 00:00:00')}\n"
     ]
    },
    {
     "name": "stderr",
     "output_type": "stream",
     "text": [
      "/home/ubuntu/data/code/ref_fdetector/src/lib/mainlib.py:676: UserWarning: Boolean Series key will be reindexed to match DataFrame index.\n",
      "  df = df[(f1 & f2) | f3]\n",
      "/home/ubuntu/data/code/ref_fdetector/src/lib/mainlib.py:676: UserWarning: Boolean Series key will be reindexed to match DataFrame index.\n",
      "  df = df[(f1 & f2) | f3]\n",
      "/home/ubuntu/data/code/ref_fdetector/src/lib/mainlib.py:676: UserWarning: Boolean Series key will be reindexed to match DataFrame index.\n",
      "  df = df[(f1 & f2) | f3]\n"
     ]
    },
    {
     "name": "stdout",
     "output_type": "stream",
     "text": [
      "{5: Timestamp('2019-05-28 00:00:00'), 6: Timestamp('2019-06-27 00:00:00'), 7: Timestamp('2019-07-26 00:00:00')}\n",
      "################################################\n",
      "48--######## BTI410574836 #########\n",
      "------ 0\n",
      "------ 1\n",
      "------ 2\n",
      "------ 3\n",
      "------ 4\n",
      "------ 5\n",
      "------ 6\n",
      "------ 7\n",
      "------ 8\n",
      "{5: Timestamp('2019-05-28 00:00:00'), 6: Timestamp('2019-06-27 00:00:00'), 7: Timestamp('2019-07-26 00:00:00')}\n"
     ]
    },
    {
     "name": "stderr",
     "output_type": "stream",
     "text": [
      "/home/ubuntu/data/code/ref_fdetector/src/lib/mainlib.py:676: UserWarning: Boolean Series key will be reindexed to match DataFrame index.\n",
      "  df = df[(f1 & f2) | f3]\n",
      "/home/ubuntu/data/code/ref_fdetector/src/lib/mainlib.py:676: UserWarning: Boolean Series key will be reindexed to match DataFrame index.\n",
      "  df = df[(f1 & f2) | f3]\n",
      "/home/ubuntu/data/code/ref_fdetector/src/lib/mainlib.py:676: UserWarning: Boolean Series key will be reindexed to match DataFrame index.\n",
      "  df = df[(f1 & f2) | f3]\n"
     ]
    },
    {
     "name": "stdout",
     "output_type": "stream",
     "text": [
      "{5: Timestamp('2019-05-28 00:00:00'), 6: Timestamp('2019-06-27 00:00:00'), 7: Timestamp('2019-07-26 00:00:00')}\n",
      "################################################\n",
      "49--######## BTI410661510 #########\n",
      "------ 0\n",
      "------ 1\n",
      "------ 2\n",
      "------ 3\n",
      "------ 4\n",
      "------ 5\n",
      "------ 6\n",
      "------ 7\n",
      "------ 8\n",
      "{5: Timestamp('2019-05-28 00:00:00'), 6: Timestamp('2019-06-27 00:00:00'), 7: Timestamp('2019-07-26 00:00:00')}\n"
     ]
    },
    {
     "name": "stderr",
     "output_type": "stream",
     "text": [
      "/home/ubuntu/data/code/ref_fdetector/src/lib/mainlib.py:676: UserWarning: Boolean Series key will be reindexed to match DataFrame index.\n",
      "  df = df[(f1 & f2) | f3]\n",
      "/home/ubuntu/data/code/ref_fdetector/src/lib/mainlib.py:676: UserWarning: Boolean Series key will be reindexed to match DataFrame index.\n",
      "  df = df[(f1 & f2) | f3]\n",
      "/home/ubuntu/data/code/ref_fdetector/src/lib/mainlib.py:676: UserWarning: Boolean Series key will be reindexed to match DataFrame index.\n",
      "  df = df[(f1 & f2) | f3]\n"
     ]
    },
    {
     "name": "stdout",
     "output_type": "stream",
     "text": [
      "{5: Timestamp('2019-05-28 00:00:00'), 6: Timestamp('2019-06-27 00:00:00'), 7: Timestamp('2019-07-26 00:00:00')}\n",
      "################################################\n",
      "50--######## BTI410943104 #########\n",
      "------ 0\n",
      "------ 1\n",
      "------ 2\n",
      "------ 3\n",
      "------ 4\n",
      "------ 5\n",
      "------ 6\n",
      "------ 7\n",
      "------ 8\n",
      "{5: Timestamp('2019-05-28 00:00:00'), 6: Timestamp('2019-06-27 00:00:00'), 7: Timestamp('2019-07-26 00:00:00')}\n"
     ]
    },
    {
     "name": "stderr",
     "output_type": "stream",
     "text": [
      "/home/ubuntu/data/code/ref_fdetector/src/lib/mainlib.py:676: UserWarning: Boolean Series key will be reindexed to match DataFrame index.\n",
      "  df = df[(f1 & f2) | f3]\n",
      "/home/ubuntu/data/code/ref_fdetector/src/lib/mainlib.py:676: UserWarning: Boolean Series key will be reindexed to match DataFrame index.\n",
      "  df = df[(f1 & f2) | f3]\n",
      "/home/ubuntu/data/code/ref_fdetector/src/lib/mainlib.py:676: UserWarning: Boolean Series key will be reindexed to match DataFrame index.\n",
      "  df = df[(f1 & f2) | f3]\n"
     ]
    },
    {
     "name": "stdout",
     "output_type": "stream",
     "text": [
      "{5: Timestamp('2019-05-28 00:00:00'), 6: Timestamp('2019-06-27 00:00:00'), 7: Timestamp('2019-07-26 00:00:00')}\n",
      "################################################\n",
      "51--######## BTI410977542 #########\n",
      "------ 0\n",
      "------ 1\n",
      "------ 2\n",
      "------ 3\n",
      "------ 4\n",
      "------ 5\n",
      "------ 6\n",
      "------ 7\n",
      "------ 8\n",
      "{5: Timestamp('2019-05-28 00:00:00'), 6: Timestamp('2019-06-27 00:00:00'), 7: Timestamp('2019-07-26 00:00:00')}\n"
     ]
    },
    {
     "name": "stderr",
     "output_type": "stream",
     "text": [
      "/home/ubuntu/data/code/ref_fdetector/src/lib/mainlib.py:676: UserWarning: Boolean Series key will be reindexed to match DataFrame index.\n",
      "  df = df[(f1 & f2) | f3]\n"
     ]
    },
    {
     "name": "stdout",
     "output_type": "stream",
     "text": [
      "{5: Timestamp('2019-05-28 00:00:00'), 6: Timestamp('2019-06-27 00:00:00'), 7: Timestamp('2019-07-26 00:00:00')}\n",
      "################################################\n",
      "52--######## BTI411177604 #########\n",
      "------ 0\n",
      "------ 1\n",
      "------ 2\n",
      "------ 3\n",
      "------ 4\n",
      "------ 5\n",
      "------ 6\n",
      "------ 7\n",
      "------ 8\n",
      "{5: Timestamp('2019-05-15 00:00:00'), 6: Timestamp('2019-06-17 00:00:00'), 7: Timestamp('2019-07-15 00:00:00')}\n"
     ]
    },
    {
     "name": "stderr",
     "output_type": "stream",
     "text": [
      "/home/ubuntu/data/code/ref_fdetector/src/lib/mainlib.py:676: UserWarning: Boolean Series key will be reindexed to match DataFrame index.\n",
      "  df = df[(f1 & f2) | f3]\n",
      "/home/ubuntu/data/code/ref_fdetector/src/lib/mainlib.py:676: UserWarning: Boolean Series key will be reindexed to match DataFrame index.\n",
      "  df = df[(f1 & f2) | f3]\n",
      "/home/ubuntu/data/code/ref_fdetector/src/lib/mainlib.py:676: UserWarning: Boolean Series key will be reindexed to match DataFrame index.\n",
      "  df = df[(f1 & f2) | f3]\n"
     ]
    },
    {
     "name": "stdout",
     "output_type": "stream",
     "text": [
      "{5: Timestamp('2019-05-15 00:00:00'), 6: Timestamp('2019-06-17 00:00:00'), 7: Timestamp('2019-07-15 00:00:00')}\n",
      "++++++Erro 2++++++++++ \n",
      "Traceback (most recent call last):\n",
      "  File \"<ipython-input-205-854869aae9c4>\", line 33, in loopy2\n",
      "    processa_mm(dmm, ddays, PERFIL, DEGRAU, MORRO)\n",
      "  File \"/home/ubuntu/data/code/ref_fdetector/src/lib/of_proc.py\", line 270, in processa_mm\n",
      "    mm.nn_perfil(imodel = perfil)\n",
      "  File \"/home/ubuntu/data/code/ref_fdetector/src/lib/mainlib.py\", line 1029, in nn_perfil\n",
      "    self.outputs['perfil'][y][m] = self.months[y][m].nn_perfil_month(imodel)\n",
      "  File \"/home/ubuntu/data/code/ref_fdetector/src/lib/mainlib.py\", line 1041, in nn_perfil_month\n",
      "    preds[c] = model.predict(np.asarray(week).reshape(1,-1))\n",
      "  File \"/home/ubuntu/anaconda3/envs/tensorflow_p36/lib/python3.6/site-packages/keras/engine/training.py\", line 1149, in predict\n",
      "    x, _, _ = self._standardize_user_data(x)\n",
      "  File \"/home/ubuntu/anaconda3/envs/tensorflow_p36/lib/python3.6/site-packages/keras/engine/training.py\", line 751, in _standardize_user_data\n",
      "    exception_prefix='input')\n",
      "  File \"/home/ubuntu/anaconda3/envs/tensorflow_p36/lib/python3.6/site-packages/keras/engine/training_utils.py\", line 138, in standardize_input_data\n",
      "    str(data_shape))\n",
      "ValueError: Error when checking input: expected dense_1_input to have shape (168,) but got array with shape (336,)\n",
      "\n",
      "++++++++++++++++++++\n",
      "52--######## BTI411222548 #########\n",
      "------ 0\n",
      "------ 1\n",
      "------ 2\n",
      "------ 3\n",
      "------ 4\n",
      "------ 5\n",
      "------ 6\n",
      "------ 7\n",
      "------ 8\n",
      "{5: Timestamp('2019-05-28 00:00:00'), 6: Timestamp('2019-06-27 00:00:00'), 7: Timestamp('2019-07-26 00:00:00')}\n"
     ]
    },
    {
     "name": "stderr",
     "output_type": "stream",
     "text": [
      "/home/ubuntu/data/code/ref_fdetector/src/lib/mainlib.py:676: UserWarning: Boolean Series key will be reindexed to match DataFrame index.\n",
      "  df = df[(f1 & f2) | f3]\n",
      "/home/ubuntu/data/code/ref_fdetector/src/lib/mainlib.py:676: UserWarning: Boolean Series key will be reindexed to match DataFrame index.\n",
      "  df = df[(f1 & f2) | f3]\n",
      "/home/ubuntu/data/code/ref_fdetector/src/lib/mainlib.py:676: UserWarning: Boolean Series key will be reindexed to match DataFrame index.\n",
      "  df = df[(f1 & f2) | f3]\n"
     ]
    },
    {
     "name": "stdout",
     "output_type": "stream",
     "text": [
      "{5: Timestamp('2019-05-28 00:00:00'), 6: Timestamp('2019-06-27 00:00:00'), 7: Timestamp('2019-07-26 00:00:00')}\n",
      "################################################\n",
      "53--######## BTI411453527 #########\n",
      "------ 0\n",
      "------ 1\n",
      "------ 2\n",
      "------ 3\n",
      "------ 4\n",
      "------ 5\n",
      "------ 6\n",
      "------ 7\n",
      "------ 8\n",
      "{5: Timestamp('2019-05-29 00:00:00'), 6: Timestamp('2019-06-28 00:00:00'), 7: Timestamp('2019-07-29 00:00:00')}\n"
     ]
    },
    {
     "name": "stderr",
     "output_type": "stream",
     "text": [
      "/home/ubuntu/data/code/ref_fdetector/src/lib/mainlib.py:676: UserWarning: Boolean Series key will be reindexed to match DataFrame index.\n",
      "  df = df[(f1 & f2) | f3]\n",
      "/home/ubuntu/data/code/ref_fdetector/src/lib/mainlib.py:676: UserWarning: Boolean Series key will be reindexed to match DataFrame index.\n",
      "  df = df[(f1 & f2) | f3]\n",
      "/home/ubuntu/data/code/ref_fdetector/src/lib/mainlib.py:676: UserWarning: Boolean Series key will be reindexed to match DataFrame index.\n",
      "  df = df[(f1 & f2) | f3]\n"
     ]
    },
    {
     "name": "stdout",
     "output_type": "stream",
     "text": [
      "{5: Timestamp('2019-05-29 00:00:00'), 6: Timestamp('2019-06-28 00:00:00'), 7: Timestamp('2019-07-29 00:00:00')}\n",
      "################################################\n",
      "54--######## BTI411580594 #########\n",
      "------ 0\n",
      "------ 1\n",
      "------ 2\n",
      "------ 3\n",
      "------ 4\n",
      "------ 5\n",
      "------ 6\n",
      "------ 7\n",
      "------ 8\n",
      "{5: Timestamp('2019-05-28 00:00:00'), 6: Timestamp('2019-06-27 00:00:00'), 7: Timestamp('2019-07-26 00:00:00')}\n"
     ]
    },
    {
     "name": "stderr",
     "output_type": "stream",
     "text": [
      "/home/ubuntu/data/code/ref_fdetector/src/lib/mainlib.py:676: UserWarning: Boolean Series key will be reindexed to match DataFrame index.\n",
      "  df = df[(f1 & f2) | f3]\n",
      "/home/ubuntu/data/code/ref_fdetector/src/lib/mainlib.py:676: UserWarning: Boolean Series key will be reindexed to match DataFrame index.\n",
      "  df = df[(f1 & f2) | f3]\n",
      "/home/ubuntu/data/code/ref_fdetector/src/lib/mainlib.py:676: UserWarning: Boolean Series key will be reindexed to match DataFrame index.\n",
      "  df = df[(f1 & f2) | f3]\n"
     ]
    },
    {
     "name": "stdout",
     "output_type": "stream",
     "text": [
      "{5: Timestamp('2019-05-28 00:00:00'), 6: Timestamp('2019-06-27 00:00:00'), 7: Timestamp('2019-07-26 00:00:00')}\n",
      "################################################\n",
      "55--######## BTI411580726 #########\n",
      "------ 0\n",
      "------ 1\n",
      "------ 2\n",
      "------ 3\n",
      "------ 4\n",
      "------ 5\n",
      "------ 6\n",
      "------ 7\n",
      "------ 8\n",
      "{5: Timestamp('2019-05-28 00:00:00'), 6: Timestamp('2019-06-27 00:00:00'), 7: Timestamp('2019-07-26 00:00:00')}\n"
     ]
    },
    {
     "name": "stderr",
     "output_type": "stream",
     "text": [
      "/home/ubuntu/data/code/ref_fdetector/src/lib/mainlib.py:676: UserWarning: Boolean Series key will be reindexed to match DataFrame index.\n",
      "  df = df[(f1 & f2) | f3]\n",
      "/home/ubuntu/data/code/ref_fdetector/src/lib/mainlib.py:676: UserWarning: Boolean Series key will be reindexed to match DataFrame index.\n",
      "  df = df[(f1 & f2) | f3]\n",
      "/home/ubuntu/data/code/ref_fdetector/src/lib/mainlib.py:676: UserWarning: Boolean Series key will be reindexed to match DataFrame index.\n",
      "  df = df[(f1 & f2) | f3]\n"
     ]
    },
    {
     "name": "stdout",
     "output_type": "stream",
     "text": [
      "{5: Timestamp('2019-05-28 00:00:00'), 6: Timestamp('2019-06-27 00:00:00'), 7: Timestamp('2019-07-26 00:00:00')}\n",
      "################################################\n",
      "56--######## BTI411704725 #########\n",
      "------ 0\n",
      "------ 1\n",
      "------ 2\n",
      "------ 3\n",
      "------ 4\n",
      "------ 5\n",
      "------ 6\n",
      "------ 7\n",
      "------ 8\n",
      "{5: Timestamp('2019-05-28 00:00:00'), 6: Timestamp('2019-06-27 00:00:00'), 7: Timestamp('2019-07-26 00:00:00')}\n"
     ]
    },
    {
     "name": "stderr",
     "output_type": "stream",
     "text": [
      "/home/ubuntu/data/code/ref_fdetector/src/lib/mainlib.py:676: UserWarning: Boolean Series key will be reindexed to match DataFrame index.\n",
      "  df = df[(f1 & f2) | f3]\n",
      "/home/ubuntu/data/code/ref_fdetector/src/lib/mainlib.py:676: UserWarning: Boolean Series key will be reindexed to match DataFrame index.\n",
      "  df = df[(f1 & f2) | f3]\n",
      "/home/ubuntu/data/code/ref_fdetector/src/lib/mainlib.py:676: UserWarning: Boolean Series key will be reindexed to match DataFrame index.\n",
      "  df = df[(f1 & f2) | f3]\n"
     ]
    },
    {
     "name": "stdout",
     "output_type": "stream",
     "text": [
      "{5: Timestamp('2019-05-28 00:00:00'), 6: Timestamp('2019-06-27 00:00:00'), 7: Timestamp('2019-07-26 00:00:00')}\n",
      "################################################\n",
      "57--######## BTI411704862 #########\n",
      "------ 0\n",
      "------ 1\n",
      "------ 2\n",
      "------ 3\n",
      "------ 4\n",
      "------ 5\n",
      "------ 6\n",
      "------ 7\n",
      "------ 8\n",
      "{5: Timestamp('2019-05-28 00:00:00'), 6: Timestamp('2019-06-27 00:00:00'), 7: Timestamp('2019-07-26 00:00:00')}\n"
     ]
    },
    {
     "name": "stderr",
     "output_type": "stream",
     "text": [
      "/home/ubuntu/data/code/ref_fdetector/src/lib/mainlib.py:676: UserWarning: Boolean Series key will be reindexed to match DataFrame index.\n",
      "  df = df[(f1 & f2) | f3]\n",
      "/home/ubuntu/data/code/ref_fdetector/src/lib/mainlib.py:676: UserWarning: Boolean Series key will be reindexed to match DataFrame index.\n",
      "  df = df[(f1 & f2) | f3]\n",
      "/home/ubuntu/data/code/ref_fdetector/src/lib/mainlib.py:676: UserWarning: Boolean Series key will be reindexed to match DataFrame index.\n",
      "  df = df[(f1 & f2) | f3]\n"
     ]
    },
    {
     "name": "stdout",
     "output_type": "stream",
     "text": [
      "{5: Timestamp('2019-05-28 00:00:00'), 6: Timestamp('2019-06-27 00:00:00'), 7: Timestamp('2019-07-26 00:00:00')}\n",
      "################################################\n",
      "58--######## BTI411767210 #########\n",
      "------ 0\n",
      "------ 1\n",
      "------ 2\n",
      "------ 3\n",
      "------ 4\n",
      "------ 5\n",
      "------ 6\n",
      "------ 7\n",
      "------ 8\n",
      "{5: Timestamp('2019-05-28 00:00:00'), 6: Timestamp('2019-06-27 00:00:00'), 7: Timestamp('2019-07-26 00:00:00')}\n"
     ]
    },
    {
     "name": "stderr",
     "output_type": "stream",
     "text": [
      "/home/ubuntu/data/code/ref_fdetector/src/lib/mainlib.py:676: UserWarning: Boolean Series key will be reindexed to match DataFrame index.\n",
      "  df = df[(f1 & f2) | f3]\n",
      "/home/ubuntu/data/code/ref_fdetector/src/lib/mainlib.py:676: UserWarning: Boolean Series key will be reindexed to match DataFrame index.\n",
      "  df = df[(f1 & f2) | f3]\n",
      "/home/ubuntu/data/code/ref_fdetector/src/lib/mainlib.py:676: UserWarning: Boolean Series key will be reindexed to match DataFrame index.\n",
      "  df = df[(f1 & f2) | f3]\n"
     ]
    },
    {
     "name": "stdout",
     "output_type": "stream",
     "text": [
      "{5: Timestamp('2019-05-28 00:00:00'), 6: Timestamp('2019-06-27 00:00:00'), 7: Timestamp('2019-07-26 00:00:00')}\n",
      "################################################\n",
      "59--######## BTI411809956 #########\n",
      "------ 0\n",
      "------ 1\n",
      "------ 2\n",
      "------ 3\n",
      "------ 4\n",
      "------ 5\n",
      "------ 6\n",
      "------ 7\n",
      "------ 8\n",
      "{5: Timestamp('2019-05-29 00:00:00'), 6: Timestamp('2019-06-28 00:00:00'), 7: Timestamp('2019-07-29 00:00:00')}\n"
     ]
    },
    {
     "name": "stderr",
     "output_type": "stream",
     "text": [
      "/home/ubuntu/data/code/ref_fdetector/src/lib/mainlib.py:676: UserWarning: Boolean Series key will be reindexed to match DataFrame index.\n",
      "  df = df[(f1 & f2) | f3]\n",
      "/home/ubuntu/data/code/ref_fdetector/src/lib/mainlib.py:676: UserWarning: Boolean Series key will be reindexed to match DataFrame index.\n",
      "  df = df[(f1 & f2) | f3]\n",
      "/home/ubuntu/data/code/ref_fdetector/src/lib/mainlib.py:676: UserWarning: Boolean Series key will be reindexed to match DataFrame index.\n",
      "  df = df[(f1 & f2) | f3]\n"
     ]
    },
    {
     "name": "stdout",
     "output_type": "stream",
     "text": [
      "{5: Timestamp('2019-05-29 00:00:00'), 6: Timestamp('2019-06-28 00:00:00'), 7: Timestamp('2019-07-29 00:00:00')}\n",
      "################################################\n",
      "60--######## BTI411825785 #########\n",
      "------ 0\n",
      "------ 1\n",
      "------ 2\n",
      "------ 3\n",
      "------ 4\n",
      "------ 5\n",
      "------ 6\n",
      "------ 7\n",
      "------ 8\n",
      "{5: Timestamp('2019-05-28 00:00:00'), 6: Timestamp('2019-06-27 00:00:00'), 7: Timestamp('2019-07-26 00:00:00')}\n"
     ]
    },
    {
     "name": "stderr",
     "output_type": "stream",
     "text": [
      "/home/ubuntu/data/code/ref_fdetector/src/lib/mainlib.py:676: UserWarning: Boolean Series key will be reindexed to match DataFrame index.\n",
      "  df = df[(f1 & f2) | f3]\n",
      "/home/ubuntu/data/code/ref_fdetector/src/lib/mainlib.py:676: UserWarning: Boolean Series key will be reindexed to match DataFrame index.\n",
      "  df = df[(f1 & f2) | f3]\n",
      "/home/ubuntu/data/code/ref_fdetector/src/lib/mainlib.py:676: UserWarning: Boolean Series key will be reindexed to match DataFrame index.\n",
      "  df = df[(f1 & f2) | f3]\n"
     ]
    },
    {
     "name": "stdout",
     "output_type": "stream",
     "text": [
      "{5: Timestamp('2019-05-28 00:00:00'), 6: Timestamp('2019-06-27 00:00:00'), 7: Timestamp('2019-07-26 00:00:00')}\n",
      "################################################\n",
      "61--######## BTI411825787 #########\n",
      "------ 0\n",
      "------ 1\n",
      "------ 2\n",
      "------ 3\n",
      "------ 4\n",
      "------ 5\n",
      "------ 6\n",
      "------ 7\n",
      "------ 8\n",
      "{5: Timestamp('2019-05-28 00:00:00'), 6: Timestamp('2019-06-27 00:00:00'), 7: Timestamp('2019-07-26 00:00:00')}\n"
     ]
    },
    {
     "name": "stderr",
     "output_type": "stream",
     "text": [
      "/home/ubuntu/data/code/ref_fdetector/src/lib/mainlib.py:676: UserWarning: Boolean Series key will be reindexed to match DataFrame index.\n",
      "  df = df[(f1 & f2) | f3]\n",
      "/home/ubuntu/data/code/ref_fdetector/src/lib/mainlib.py:676: UserWarning: Boolean Series key will be reindexed to match DataFrame index.\n",
      "  df = df[(f1 & f2) | f3]\n",
      "/home/ubuntu/data/code/ref_fdetector/src/lib/mainlib.py:676: UserWarning: Boolean Series key will be reindexed to match DataFrame index.\n",
      "  df = df[(f1 & f2) | f3]\n"
     ]
    },
    {
     "name": "stdout",
     "output_type": "stream",
     "text": [
      "{5: Timestamp('2019-05-28 00:00:00'), 6: Timestamp('2019-06-27 00:00:00'), 7: Timestamp('2019-07-26 00:00:00')}\n",
      "################################################\n",
      "62--######## BTI411921607 #########\n",
      "------ 0\n",
      "------ 1\n",
      "------ 2\n",
      "------ 3\n",
      "------ 4\n",
      "------ 5\n",
      "------ 6\n",
      "------ 7\n",
      "------ 8\n",
      "{5: Timestamp('2019-05-27 00:00:00'), 6: Timestamp('2019-06-26 00:00:00'), 7: Timestamp('2019-07-25 00:00:00')}\n"
     ]
    },
    {
     "name": "stderr",
     "output_type": "stream",
     "text": [
      "/home/ubuntu/data/code/ref_fdetector/src/lib/mainlib.py:676: UserWarning: Boolean Series key will be reindexed to match DataFrame index.\n",
      "  df = df[(f1 & f2) | f3]\n",
      "/home/ubuntu/data/code/ref_fdetector/src/lib/mainlib.py:676: UserWarning: Boolean Series key will be reindexed to match DataFrame index.\n",
      "  df = df[(f1 & f2) | f3]\n",
      "/home/ubuntu/data/code/ref_fdetector/src/lib/mainlib.py:676: UserWarning: Boolean Series key will be reindexed to match DataFrame index.\n",
      "  df = df[(f1 & f2) | f3]\n"
     ]
    },
    {
     "name": "stdout",
     "output_type": "stream",
     "text": [
      "{5: Timestamp('2019-05-27 00:00:00'), 6: Timestamp('2019-06-26 00:00:00'), 7: Timestamp('2019-07-25 00:00:00')}\n",
      "################################################\n",
      "63--######## BTI412100275 #########\n",
      "------ 0\n",
      "------ 1\n",
      "------ 2\n",
      "------ 3\n",
      "------ 4\n",
      "------ 5\n",
      "------ 6\n",
      "------ 7\n",
      "------ 8\n",
      "{5: Timestamp('2019-05-27 00:00:00'), 6: Timestamp('2019-06-26 00:00:00'), 7: Timestamp('2019-07-25 00:00:00')}\n"
     ]
    },
    {
     "name": "stderr",
     "output_type": "stream",
     "text": [
      "/home/ubuntu/data/code/ref_fdetector/src/lib/mainlib.py:676: UserWarning: Boolean Series key will be reindexed to match DataFrame index.\n",
      "  df = df[(f1 & f2) | f3]\n",
      "/home/ubuntu/data/code/ref_fdetector/src/lib/mainlib.py:676: UserWarning: Boolean Series key will be reindexed to match DataFrame index.\n",
      "  df = df[(f1 & f2) | f3]\n",
      "/home/ubuntu/data/code/ref_fdetector/src/lib/mainlib.py:676: UserWarning: Boolean Series key will be reindexed to match DataFrame index.\n",
      "  df = df[(f1 & f2) | f3]\n"
     ]
    },
    {
     "name": "stdout",
     "output_type": "stream",
     "text": [
      "{5: Timestamp('2019-05-27 00:00:00'), 6: Timestamp('2019-06-26 00:00:00'), 7: Timestamp('2019-07-25 00:00:00')}\n",
      "################################################\n",
      "64--######## BTI412191537 #########\n",
      "------ 0\n",
      "------ 1\n",
      "------ 2\n",
      "------ 3\n",
      "------ 4\n",
      "------ 5\n",
      "++++++Erro 2++++++++++ \n",
      "Traceback (most recent call last):\n",
      "  File \"<ipython-input-205-854869aae9c4>\", line 26, in loopy2\n",
      "    dfas.read_fasorial(d_insta_to_files_fas[instalacao], dtype=None, index_col=[5], sep = sepfas)\n",
      "KeyError: 'BTI412191537'\n",
      "\n",
      "++++++++++++++++++++\n",
      "64--######## BTI412209092 #########\n",
      "------ 0\n",
      "------ 1\n",
      "------ 2\n",
      "------ 3\n",
      "------ 4\n",
      "------ 5\n",
      "------ 6\n",
      "------ 7\n",
      "------ 8\n",
      "{5: Timestamp('2019-05-28 00:00:00'), 6: Timestamp('2019-06-27 00:00:00'), 7: Timestamp('2019-07-26 00:00:00')}\n"
     ]
    },
    {
     "name": "stderr",
     "output_type": "stream",
     "text": [
      "/home/ubuntu/data/code/ref_fdetector/src/lib/mainlib.py:676: UserWarning: Boolean Series key will be reindexed to match DataFrame index.\n",
      "  df = df[(f1 & f2) | f3]\n",
      "/home/ubuntu/data/code/ref_fdetector/src/lib/mainlib.py:676: UserWarning: Boolean Series key will be reindexed to match DataFrame index.\n",
      "  df = df[(f1 & f2) | f3]\n",
      "/home/ubuntu/data/code/ref_fdetector/src/lib/mainlib.py:676: UserWarning: Boolean Series key will be reindexed to match DataFrame index.\n",
      "  df = df[(f1 & f2) | f3]\n"
     ]
    },
    {
     "name": "stdout",
     "output_type": "stream",
     "text": [
      "{5: Timestamp('2019-05-28 00:00:00'), 6: Timestamp('2019-06-27 00:00:00'), 7: Timestamp('2019-07-26 00:00:00')}\n",
      "################################################\n",
      "65--######## BTI412267689 #########\n",
      "------ 0\n",
      "------ 1\n",
      "------ 2\n",
      "------ 3\n",
      "------ 4\n",
      "------ 5\n",
      "------ 6\n",
      "------ 7\n",
      "------ 8\n",
      "{5: Timestamp('2019-05-28 00:00:00'), 6: Timestamp('2019-06-27 00:00:00'), 7: Timestamp('2019-07-26 00:00:00')}\n"
     ]
    },
    {
     "name": "stderr",
     "output_type": "stream",
     "text": [
      "/home/ubuntu/data/code/ref_fdetector/src/lib/mainlib.py:676: UserWarning: Boolean Series key will be reindexed to match DataFrame index.\n",
      "  df = df[(f1 & f2) | f3]\n",
      "/home/ubuntu/data/code/ref_fdetector/src/lib/mainlib.py:676: UserWarning: Boolean Series key will be reindexed to match DataFrame index.\n",
      "  df = df[(f1 & f2) | f3]\n",
      "/home/ubuntu/data/code/ref_fdetector/src/lib/mainlib.py:676: UserWarning: Boolean Series key will be reindexed to match DataFrame index.\n",
      "  df = df[(f1 & f2) | f3]\n"
     ]
    },
    {
     "name": "stdout",
     "output_type": "stream",
     "text": [
      "{5: Timestamp('2019-05-28 00:00:00'), 6: Timestamp('2019-06-27 00:00:00'), 7: Timestamp('2019-07-26 00:00:00')}\n",
      "################################################\n",
      "66--######## BTI412302780 #########\n",
      "------ 0\n",
      "------ 1\n",
      "------ 2\n",
      "------ 3\n",
      "------ 4\n",
      "------ 5\n",
      "------ 6\n",
      "------ 7\n",
      "------ 8\n",
      "{5: Timestamp('2019-05-29 00:00:00'), 6: Timestamp('2019-06-28 00:00:00'), 7: Timestamp('2019-07-29 00:00:00')}\n"
     ]
    },
    {
     "name": "stderr",
     "output_type": "stream",
     "text": [
      "/home/ubuntu/data/code/ref_fdetector/src/lib/mainlib.py:676: UserWarning: Boolean Series key will be reindexed to match DataFrame index.\n",
      "  df = df[(f1 & f2) | f3]\n",
      "/home/ubuntu/data/code/ref_fdetector/src/lib/mainlib.py:676: UserWarning: Boolean Series key will be reindexed to match DataFrame index.\n",
      "  df = df[(f1 & f2) | f3]\n",
      "/home/ubuntu/data/code/ref_fdetector/src/lib/mainlib.py:676: UserWarning: Boolean Series key will be reindexed to match DataFrame index.\n",
      "  df = df[(f1 & f2) | f3]\n"
     ]
    },
    {
     "name": "stdout",
     "output_type": "stream",
     "text": [
      "{5: Timestamp('2019-05-29 00:00:00'), 6: Timestamp('2019-06-28 00:00:00'), 7: Timestamp('2019-07-29 00:00:00')}\n",
      "################################################\n",
      "67--######## BTI412545359 #########\n",
      "------ 0\n",
      "------ 1\n",
      "------ 2\n",
      "------ 3\n",
      "------ 4\n",
      "------ 5\n",
      "------ 6\n",
      "------ 7\n",
      "------ 8\n",
      "{5: Timestamp('2019-05-28 00:00:00'), 6: Timestamp('2019-06-27 00:00:00'), 7: Timestamp('2019-07-26 00:00:00')}\n"
     ]
    },
    {
     "name": "stderr",
     "output_type": "stream",
     "text": [
      "/home/ubuntu/data/code/ref_fdetector/src/lib/mainlib.py:676: UserWarning: Boolean Series key will be reindexed to match DataFrame index.\n",
      "  df = df[(f1 & f2) | f3]\n",
      "/home/ubuntu/data/code/ref_fdetector/src/lib/mainlib.py:676: UserWarning: Boolean Series key will be reindexed to match DataFrame index.\n",
      "  df = df[(f1 & f2) | f3]\n",
      "/home/ubuntu/data/code/ref_fdetector/src/lib/mainlib.py:676: UserWarning: Boolean Series key will be reindexed to match DataFrame index.\n",
      "  df = df[(f1 & f2) | f3]\n"
     ]
    },
    {
     "name": "stdout",
     "output_type": "stream",
     "text": [
      "{5: Timestamp('2019-05-28 00:00:00'), 6: Timestamp('2019-06-27 00:00:00'), 7: Timestamp('2019-07-26 00:00:00')}\n",
      "################################################\n",
      "68--######## BTI412638230 #########\n",
      "------ 0\n",
      "------ 1\n",
      "------ 2\n",
      "------ 3\n",
      "------ 4\n",
      "------ 5\n",
      "------ 6\n",
      "------ 7\n",
      "------ 8\n",
      "{5: Timestamp('2019-05-28 00:00:00'), 6: Timestamp('2019-06-27 00:00:00'), 7: Timestamp('2019-07-26 00:00:00')}\n"
     ]
    },
    {
     "name": "stderr",
     "output_type": "stream",
     "text": [
      "/home/ubuntu/data/code/ref_fdetector/src/lib/mainlib.py:676: UserWarning: Boolean Series key will be reindexed to match DataFrame index.\n",
      "  df = df[(f1 & f2) | f3]\n",
      "/home/ubuntu/data/code/ref_fdetector/src/lib/mainlib.py:676: UserWarning: Boolean Series key will be reindexed to match DataFrame index.\n",
      "  df = df[(f1 & f2) | f3]\n",
      "/home/ubuntu/data/code/ref_fdetector/src/lib/mainlib.py:676: UserWarning: Boolean Series key will be reindexed to match DataFrame index.\n",
      "  df = df[(f1 & f2) | f3]\n"
     ]
    },
    {
     "name": "stdout",
     "output_type": "stream",
     "text": [
      "{5: Timestamp('2019-05-28 00:00:00'), 6: Timestamp('2019-06-27 00:00:00'), 7: Timestamp('2019-07-26 00:00:00')}\n",
      "################################################\n",
      "69--######## BTI412682801 #########\n",
      "------ 0\n",
      "------ 1\n",
      "------ 2\n",
      "------ 3\n",
      "------ 4\n",
      "------ 5\n",
      "------ 6\n",
      "------ 7\n",
      "------ 8\n",
      "{5: Timestamp('2019-05-29 00:00:00'), 6: Timestamp('2019-06-28 00:00:00'), 7: Timestamp('2019-07-29 00:00:00')}\n"
     ]
    },
    {
     "name": "stderr",
     "output_type": "stream",
     "text": [
      "/home/ubuntu/data/code/ref_fdetector/src/lib/mainlib.py:676: UserWarning: Boolean Series key will be reindexed to match DataFrame index.\n",
      "  df = df[(f1 & f2) | f3]\n",
      "/home/ubuntu/data/code/ref_fdetector/src/lib/mainlib.py:676: UserWarning: Boolean Series key will be reindexed to match DataFrame index.\n",
      "  df = df[(f1 & f2) | f3]\n",
      "/home/ubuntu/data/code/ref_fdetector/src/lib/mainlib.py:676: UserWarning: Boolean Series key will be reindexed to match DataFrame index.\n",
      "  df = df[(f1 & f2) | f3]\n"
     ]
    },
    {
     "name": "stdout",
     "output_type": "stream",
     "text": [
      "{5: Timestamp('2019-05-29 00:00:00'), 6: Timestamp('2019-06-28 00:00:00'), 7: Timestamp('2019-07-29 00:00:00')}\n",
      "################################################\n",
      "70--######## BTI412698296 #########\n",
      "------ 0\n",
      "------ 1\n",
      "------ 2\n",
      "------ 3\n",
      "------ 4\n",
      "------ 5\n",
      "------ 6\n",
      "------ 7\n",
      "------ 8\n",
      "{5: Timestamp('2019-05-29 00:00:00'), 6: Timestamp('2019-06-28 00:00:00'), 7: Timestamp('2019-07-29 00:00:00')}\n"
     ]
    },
    {
     "name": "stderr",
     "output_type": "stream",
     "text": [
      "/home/ubuntu/data/code/ref_fdetector/src/lib/mainlib.py:676: UserWarning: Boolean Series key will be reindexed to match DataFrame index.\n",
      "  df = df[(f1 & f2) | f3]\n",
      "/home/ubuntu/data/code/ref_fdetector/src/lib/mainlib.py:676: UserWarning: Boolean Series key will be reindexed to match DataFrame index.\n",
      "  df = df[(f1 & f2) | f3]\n",
      "/home/ubuntu/data/code/ref_fdetector/src/lib/mainlib.py:676: UserWarning: Boolean Series key will be reindexed to match DataFrame index.\n",
      "  df = df[(f1 & f2) | f3]\n"
     ]
    },
    {
     "name": "stdout",
     "output_type": "stream",
     "text": [
      "{5: Timestamp('2019-05-29 00:00:00'), 6: Timestamp('2019-06-28 00:00:00'), 7: Timestamp('2019-07-29 00:00:00')}\n",
      "################################################\n",
      "71--######## BTI412824153 #########\n",
      "------ 0\n",
      "------ 1\n",
      "------ 2\n",
      "------ 3\n",
      "------ 4\n",
      "------ 5\n",
      "------ 6\n",
      "------ 7\n",
      "------ 8\n",
      "{5: Timestamp('2019-05-27 00:00:00'), 6: Timestamp('2019-06-26 00:00:00'), 7: Timestamp('2019-07-25 00:00:00')}\n"
     ]
    },
    {
     "name": "stderr",
     "output_type": "stream",
     "text": [
      "/home/ubuntu/data/code/ref_fdetector/src/lib/mainlib.py:676: UserWarning: Boolean Series key will be reindexed to match DataFrame index.\n",
      "  df = df[(f1 & f2) | f3]\n",
      "/home/ubuntu/data/code/ref_fdetector/src/lib/mainlib.py:676: UserWarning: Boolean Series key will be reindexed to match DataFrame index.\n",
      "  df = df[(f1 & f2) | f3]\n",
      "/home/ubuntu/data/code/ref_fdetector/src/lib/mainlib.py:676: UserWarning: Boolean Series key will be reindexed to match DataFrame index.\n",
      "  df = df[(f1 & f2) | f3]\n"
     ]
    },
    {
     "name": "stdout",
     "output_type": "stream",
     "text": [
      "{5: Timestamp('2019-05-27 00:00:00'), 6: Timestamp('2019-06-26 00:00:00'), 7: Timestamp('2019-07-25 00:00:00')}\n",
      "################################################\n",
      "72--######## BTI412967061 #########\n",
      "------ 0\n",
      "------ 1\n",
      "------ 2\n",
      "------ 3\n",
      "------ 4\n",
      "------ 5\n",
      "------ 6\n",
      "------ 7\n",
      "------ 8\n",
      "{5: Timestamp('2019-05-29 00:00:00'), 6: Timestamp('2019-06-28 00:00:00'), 7: Timestamp('2019-07-29 00:00:00')}\n"
     ]
    },
    {
     "name": "stderr",
     "output_type": "stream",
     "text": [
      "/home/ubuntu/data/code/ref_fdetector/src/lib/mainlib.py:676: UserWarning: Boolean Series key will be reindexed to match DataFrame index.\n",
      "  df = df[(f1 & f2) | f3]\n",
      "/home/ubuntu/data/code/ref_fdetector/src/lib/mainlib.py:676: UserWarning: Boolean Series key will be reindexed to match DataFrame index.\n",
      "  df = df[(f1 & f2) | f3]\n",
      "/home/ubuntu/data/code/ref_fdetector/src/lib/mainlib.py:676: UserWarning: Boolean Series key will be reindexed to match DataFrame index.\n",
      "  df = df[(f1 & f2) | f3]\n"
     ]
    },
    {
     "name": "stdout",
     "output_type": "stream",
     "text": [
      "{5: Timestamp('2019-05-29 00:00:00'), 6: Timestamp('2019-06-28 00:00:00'), 7: Timestamp('2019-07-29 00:00:00')}\n",
      "################################################\n",
      "73--######## BTI413068551 #########\n",
      "------ 0\n",
      "------ 1\n",
      "------ 2\n",
      "------ 3\n",
      "------ 4\n",
      "------ 5\n",
      "------ 6\n",
      "------ 7\n",
      "------ 8\n",
      "{5: Timestamp('2019-05-29 00:00:00'), 6: Timestamp('2019-06-28 00:00:00'), 7: Timestamp('2019-07-29 00:00:00')}\n"
     ]
    },
    {
     "name": "stderr",
     "output_type": "stream",
     "text": [
      "/home/ubuntu/data/code/ref_fdetector/src/lib/mainlib.py:676: UserWarning: Boolean Series key will be reindexed to match DataFrame index.\n",
      "  df = df[(f1 & f2) | f3]\n",
      "/home/ubuntu/data/code/ref_fdetector/src/lib/mainlib.py:676: UserWarning: Boolean Series key will be reindexed to match DataFrame index.\n",
      "  df = df[(f1 & f2) | f3]\n",
      "/home/ubuntu/data/code/ref_fdetector/src/lib/mainlib.py:676: UserWarning: Boolean Series key will be reindexed to match DataFrame index.\n",
      "  df = df[(f1 & f2) | f3]\n"
     ]
    },
    {
     "name": "stdout",
     "output_type": "stream",
     "text": [
      "{5: Timestamp('2019-05-29 00:00:00'), 6: Timestamp('2019-06-28 00:00:00'), 7: Timestamp('2019-07-29 00:00:00')}\n",
      "################################################\n",
      "74--######## BTI413166493 #########\n",
      "------ 0\n",
      "------ 1\n",
      "------ 2\n",
      "------ 3\n",
      "------ 4\n",
      "------ 5\n",
      "------ 6\n",
      "------ 7\n",
      "------ 8\n",
      "{5: Timestamp('2019-05-28 00:00:00'), 6: Timestamp('2019-06-27 00:00:00'), 7: Timestamp('2019-07-26 00:00:00')}\n"
     ]
    },
    {
     "name": "stderr",
     "output_type": "stream",
     "text": [
      "/home/ubuntu/data/code/ref_fdetector/src/lib/mainlib.py:676: UserWarning: Boolean Series key will be reindexed to match DataFrame index.\n",
      "  df = df[(f1 & f2) | f3]\n",
      "/home/ubuntu/data/code/ref_fdetector/src/lib/mainlib.py:676: UserWarning: Boolean Series key will be reindexed to match DataFrame index.\n",
      "  df = df[(f1 & f2) | f3]\n"
     ]
    },
    {
     "name": "stdout",
     "output_type": "stream",
     "text": [
      "{5: Timestamp('2019-05-28 00:00:00'), 6: Timestamp('2019-06-27 00:00:00'), 7: Timestamp('2019-07-26 00:00:00')}\n",
      "################################################\n",
      "75--######## BTI413335062 #########\n",
      "------ 0\n",
      "------ 1\n",
      "------ 2\n",
      "------ 3\n",
      "------ 4\n",
      "------ 5\n",
      "------ 6\n",
      "------ 7\n",
      "------ 8\n",
      "{5: Timestamp('2019-05-28 00:00:00'), 6: Timestamp('2019-06-27 00:00:00'), 7: Timestamp('2019-07-26 00:00:00')}\n"
     ]
    },
    {
     "name": "stderr",
     "output_type": "stream",
     "text": [
      "/home/ubuntu/data/code/ref_fdetector/src/lib/mainlib.py:676: UserWarning: Boolean Series key will be reindexed to match DataFrame index.\n",
      "  df = df[(f1 & f2) | f3]\n"
     ]
    },
    {
     "name": "stdout",
     "output_type": "stream",
     "text": [
      "{5: Timestamp('2019-05-28 00:00:00'), 6: Timestamp('2019-06-27 00:00:00'), 7: Timestamp('2019-07-26 00:00:00')}\n",
      "################################################\n",
      "76--######## BTI413350969 #########\n",
      "------ 0\n",
      "------ 1\n",
      "------ 2\n",
      "------ 3\n",
      "------ 4\n",
      "------ 5\n",
      "------ 6\n",
      "------ 7\n",
      "------ 8\n",
      "{5: Timestamp('2019-05-28 00:00:00'), 6: Timestamp('2019-06-27 00:00:00'), 7: Timestamp('2019-07-26 00:00:00')}\n"
     ]
    },
    {
     "name": "stderr",
     "output_type": "stream",
     "text": [
      "/home/ubuntu/data/code/ref_fdetector/src/lib/mainlib.py:676: UserWarning: Boolean Series key will be reindexed to match DataFrame index.\n",
      "  df = df[(f1 & f2) | f3]\n",
      "/home/ubuntu/data/code/ref_fdetector/src/lib/mainlib.py:676: UserWarning: Boolean Series key will be reindexed to match DataFrame index.\n",
      "  df = df[(f1 & f2) | f3]\n",
      "/home/ubuntu/data/code/ref_fdetector/src/lib/mainlib.py:676: UserWarning: Boolean Series key will be reindexed to match DataFrame index.\n",
      "  df = df[(f1 & f2) | f3]\n"
     ]
    },
    {
     "name": "stdout",
     "output_type": "stream",
     "text": [
      "{5: Timestamp('2019-05-28 00:00:00'), 6: Timestamp('2019-06-27 00:00:00'), 7: Timestamp('2019-07-26 00:00:00')}\n",
      "################################################\n",
      "77--######## BTI413364204 #########\n",
      "------ 0\n",
      "------ 1\n",
      "------ 2\n",
      "------ 3\n",
      "------ 4\n",
      "------ 5\n",
      "------ 6\n",
      "------ 7\n",
      "------ 8\n",
      "{5: Timestamp('2019-05-29 00:00:00'), 6: Timestamp('2019-06-28 00:00:00'), 7: Timestamp('2019-07-29 00:00:00')}\n"
     ]
    },
    {
     "name": "stderr",
     "output_type": "stream",
     "text": [
      "/home/ubuntu/data/code/ref_fdetector/src/lib/mainlib.py:676: UserWarning: Boolean Series key will be reindexed to match DataFrame index.\n",
      "  df = df[(f1 & f2) | f3]\n",
      "/home/ubuntu/data/code/ref_fdetector/src/lib/mainlib.py:676: UserWarning: Boolean Series key will be reindexed to match DataFrame index.\n",
      "  df = df[(f1 & f2) | f3]\n",
      "/home/ubuntu/data/code/ref_fdetector/src/lib/mainlib.py:676: UserWarning: Boolean Series key will be reindexed to match DataFrame index.\n",
      "  df = df[(f1 & f2) | f3]\n"
     ]
    },
    {
     "name": "stdout",
     "output_type": "stream",
     "text": [
      "{5: Timestamp('2019-05-29 00:00:00'), 6: Timestamp('2019-06-28 00:00:00'), 7: Timestamp('2019-07-29 00:00:00')}\n",
      "################################################\n",
      "78--######## BTI413407334 #########\n",
      "------ 0\n",
      "------ 1\n",
      "------ 2\n",
      "------ 3\n",
      "------ 4\n",
      "------ 5\n",
      "------ 6\n",
      "------ 7\n",
      "------ 8\n",
      "{5: Timestamp('2019-05-28 00:00:00'), 6: Timestamp('2019-06-27 00:00:00'), 7: Timestamp('2019-07-26 00:00:00')}\n"
     ]
    },
    {
     "name": "stderr",
     "output_type": "stream",
     "text": [
      "/home/ubuntu/data/code/ref_fdetector/src/lib/mainlib.py:676: UserWarning: Boolean Series key will be reindexed to match DataFrame index.\n",
      "  df = df[(f1 & f2) | f3]\n",
      "/home/ubuntu/data/code/ref_fdetector/src/lib/mainlib.py:676: UserWarning: Boolean Series key will be reindexed to match DataFrame index.\n",
      "  df = df[(f1 & f2) | f3]\n",
      "/home/ubuntu/data/code/ref_fdetector/src/lib/mainlib.py:676: UserWarning: Boolean Series key will be reindexed to match DataFrame index.\n",
      "  df = df[(f1 & f2) | f3]\n"
     ]
    },
    {
     "name": "stdout",
     "output_type": "stream",
     "text": [
      "{5: Timestamp('2019-05-28 00:00:00'), 6: Timestamp('2019-06-27 00:00:00'), 7: Timestamp('2019-07-26 00:00:00')}\n",
      "################################################\n",
      "79--######## BTI413471703 #########\n",
      "------ 0\n",
      "------ 1\n",
      "------ 2\n",
      "------ 3\n",
      "------ 4\n",
      "------ 5\n",
      "------ 6\n",
      "------ 7\n",
      "------ 8\n",
      "{5: Timestamp('2019-05-29 00:00:00'), 6: Timestamp('2019-06-28 00:00:00'), 7: Timestamp('2019-07-29 00:00:00')}\n"
     ]
    },
    {
     "name": "stderr",
     "output_type": "stream",
     "text": [
      "/home/ubuntu/data/code/ref_fdetector/src/lib/mainlib.py:676: UserWarning: Boolean Series key will be reindexed to match DataFrame index.\n",
      "  df = df[(f1 & f2) | f3]\n",
      "/home/ubuntu/data/code/ref_fdetector/src/lib/mainlib.py:676: UserWarning: Boolean Series key will be reindexed to match DataFrame index.\n",
      "  df = df[(f1 & f2) | f3]\n",
      "/home/ubuntu/data/code/ref_fdetector/src/lib/mainlib.py:676: UserWarning: Boolean Series key will be reindexed to match DataFrame index.\n",
      "  df = df[(f1 & f2) | f3]\n"
     ]
    },
    {
     "name": "stdout",
     "output_type": "stream",
     "text": [
      "{5: Timestamp('2019-05-29 00:00:00'), 6: Timestamp('2019-06-28 00:00:00'), 7: Timestamp('2019-07-29 00:00:00')}\n",
      "################################################\n",
      "80--######## BTI414412826 #########\n",
      "------ 0\n",
      "------ 1\n",
      "------ 2\n",
      "------ 3\n",
      "------ 4\n",
      "------ 5\n",
      "------ 6\n",
      "------ 7\n",
      "------ 8\n",
      "{5: Timestamp('2019-05-28 00:00:00'), 6: Timestamp('2019-06-27 00:00:00'), 7: Timestamp('2019-07-26 00:00:00')}\n"
     ]
    },
    {
     "name": "stderr",
     "output_type": "stream",
     "text": [
      "/home/ubuntu/data/code/ref_fdetector/src/lib/mainlib.py:676: UserWarning: Boolean Series key will be reindexed to match DataFrame index.\n",
      "  df = df[(f1 & f2) | f3]\n",
      "/home/ubuntu/data/code/ref_fdetector/src/lib/mainlib.py:676: UserWarning: Boolean Series key will be reindexed to match DataFrame index.\n",
      "  df = df[(f1 & f2) | f3]\n",
      "/home/ubuntu/data/code/ref_fdetector/src/lib/mainlib.py:676: UserWarning: Boolean Series key will be reindexed to match DataFrame index.\n",
      "  df = df[(f1 & f2) | f3]\n"
     ]
    },
    {
     "name": "stdout",
     "output_type": "stream",
     "text": [
      "{5: Timestamp('2019-05-28 00:00:00'), 6: Timestamp('2019-06-27 00:00:00'), 7: Timestamp('2019-07-26 00:00:00')}\n",
      "################################################\n",
      "81--######## BTI414658651 #########\n",
      "------ 0\n",
      "------ 1\n",
      "------ 2\n",
      "------ 3\n",
      "------ 4\n",
      "------ 5\n",
      "------ 6\n",
      "------ 7\n",
      "------ 8\n",
      "{5: Timestamp('2019-05-28 00:00:00'), 6: Timestamp('2019-06-27 00:00:00'), 7: Timestamp('2019-07-26 00:00:00')}\n"
     ]
    },
    {
     "name": "stderr",
     "output_type": "stream",
     "text": [
      "/home/ubuntu/data/code/ref_fdetector/src/lib/mainlib.py:676: UserWarning: Boolean Series key will be reindexed to match DataFrame index.\n",
      "  df = df[(f1 & f2) | f3]\n",
      "/home/ubuntu/data/code/ref_fdetector/src/lib/mainlib.py:676: UserWarning: Boolean Series key will be reindexed to match DataFrame index.\n",
      "  df = df[(f1 & f2) | f3]\n",
      "/home/ubuntu/data/code/ref_fdetector/src/lib/mainlib.py:676: UserWarning: Boolean Series key will be reindexed to match DataFrame index.\n",
      "  df = df[(f1 & f2) | f3]\n"
     ]
    },
    {
     "name": "stdout",
     "output_type": "stream",
     "text": [
      "{5: Timestamp('2019-05-28 00:00:00'), 6: Timestamp('2019-06-27 00:00:00'), 7: Timestamp('2019-07-26 00:00:00')}\n",
      "################################################\n",
      "82--######## BTI414824799 #########\n",
      "------ 0\n",
      "------ 1\n",
      "------ 2\n",
      "------ 3\n",
      "------ 4\n",
      "------ 5\n",
      "------ 6\n",
      "------ 7\n",
      "------ 8\n",
      "{5: Timestamp('2019-05-28 00:00:00'), 6: Timestamp('2019-06-27 00:00:00'), 7: Timestamp('2019-07-26 00:00:00')}\n"
     ]
    },
    {
     "name": "stderr",
     "output_type": "stream",
     "text": [
      "/home/ubuntu/data/code/ref_fdetector/src/lib/mainlib.py:676: UserWarning: Boolean Series key will be reindexed to match DataFrame index.\n",
      "  df = df[(f1 & f2) | f3]\n",
      "/home/ubuntu/data/code/ref_fdetector/src/lib/mainlib.py:676: UserWarning: Boolean Series key will be reindexed to match DataFrame index.\n",
      "  df = df[(f1 & f2) | f3]\n",
      "/home/ubuntu/data/code/ref_fdetector/src/lib/mainlib.py:676: UserWarning: Boolean Series key will be reindexed to match DataFrame index.\n",
      "  df = df[(f1 & f2) | f3]\n"
     ]
    },
    {
     "name": "stdout",
     "output_type": "stream",
     "text": [
      "{5: Timestamp('2019-05-28 00:00:00'), 6: Timestamp('2019-06-27 00:00:00'), 7: Timestamp('2019-07-26 00:00:00')}\n",
      "################################################\n",
      "83--######## BTI414831145 #########\n",
      "------ 0\n",
      "------ 1\n",
      "------ 2\n",
      "------ 3\n",
      "------ 4\n",
      "------ 5\n",
      "------ 6\n",
      "------ 7\n",
      "------ 8\n",
      "{5: Timestamp('2019-05-28 00:00:00'), 6: Timestamp('2019-06-27 00:00:00'), 7: Timestamp('2019-07-26 00:00:00')}\n"
     ]
    },
    {
     "name": "stderr",
     "output_type": "stream",
     "text": [
      "/home/ubuntu/data/code/ref_fdetector/src/lib/mainlib.py:676: UserWarning: Boolean Series key will be reindexed to match DataFrame index.\n",
      "  df = df[(f1 & f2) | f3]\n",
      "/home/ubuntu/data/code/ref_fdetector/src/lib/mainlib.py:676: UserWarning: Boolean Series key will be reindexed to match DataFrame index.\n",
      "  df = df[(f1 & f2) | f3]\n",
      "/home/ubuntu/data/code/ref_fdetector/src/lib/mainlib.py:676: UserWarning: Boolean Series key will be reindexed to match DataFrame index.\n",
      "  df = df[(f1 & f2) | f3]\n"
     ]
    },
    {
     "name": "stdout",
     "output_type": "stream",
     "text": [
      "{5: Timestamp('2019-05-28 00:00:00'), 6: Timestamp('2019-06-27 00:00:00'), 7: Timestamp('2019-07-26 00:00:00')}\n",
      "################################################\n",
      "84--######## BTI414859200 #########\n",
      "------ 0\n",
      "------ 1\n",
      "------ 2\n",
      "------ 3\n",
      "------ 4\n",
      "------ 5\n",
      "------ 6\n",
      "------ 7\n",
      "------ 8\n",
      "{5: Timestamp('2019-05-28 00:00:00'), 6: Timestamp('2019-06-27 00:00:00'), 7: Timestamp('2019-07-26 00:00:00')}\n"
     ]
    },
    {
     "name": "stderr",
     "output_type": "stream",
     "text": [
      "/home/ubuntu/data/code/ref_fdetector/src/lib/mainlib.py:676: UserWarning: Boolean Series key will be reindexed to match DataFrame index.\n",
      "  df = df[(f1 & f2) | f3]\n",
      "/home/ubuntu/data/code/ref_fdetector/src/lib/mainlib.py:676: UserWarning: Boolean Series key will be reindexed to match DataFrame index.\n",
      "  df = df[(f1 & f2) | f3]\n",
      "/home/ubuntu/data/code/ref_fdetector/src/lib/mainlib.py:676: UserWarning: Boolean Series key will be reindexed to match DataFrame index.\n",
      "  df = df[(f1 & f2) | f3]\n"
     ]
    },
    {
     "name": "stdout",
     "output_type": "stream",
     "text": [
      "{5: Timestamp('2019-05-28 00:00:00'), 6: Timestamp('2019-06-27 00:00:00'), 7: Timestamp('2019-07-26 00:00:00')}\n",
      "################################################\n",
      "85--######## BTI420264098 #########\n",
      "------ 0\n",
      "------ 1\n",
      "------ 2\n",
      "------ 3\n",
      "------ 4\n",
      "------ 5\n",
      "------ 6\n",
      "------ 7\n",
      "------ 8\n",
      "{5: Timestamp('2019-05-29 00:00:00'), 6: Timestamp('2019-06-28 00:00:00'), 7: Timestamp('2019-07-29 00:00:00')}\n"
     ]
    },
    {
     "name": "stderr",
     "output_type": "stream",
     "text": [
      "/home/ubuntu/data/code/ref_fdetector/src/lib/mainlib.py:676: UserWarning: Boolean Series key will be reindexed to match DataFrame index.\n",
      "  df = df[(f1 & f2) | f3]\n",
      "/home/ubuntu/data/code/ref_fdetector/src/lib/mainlib.py:676: UserWarning: Boolean Series key will be reindexed to match DataFrame index.\n",
      "  df = df[(f1 & f2) | f3]\n",
      "/home/ubuntu/data/code/ref_fdetector/src/lib/mainlib.py:676: UserWarning: Boolean Series key will be reindexed to match DataFrame index.\n",
      "  df = df[(f1 & f2) | f3]\n"
     ]
    },
    {
     "name": "stdout",
     "output_type": "stream",
     "text": [
      "{5: Timestamp('2019-05-29 00:00:00'), 6: Timestamp('2019-06-28 00:00:00'), 7: Timestamp('2019-07-29 00:00:00')}\n",
      "################################################\n",
      "86--######## BTI420429197 #########\n",
      "------ 0\n",
      "------ 1\n",
      "------ 2\n",
      "------ 3\n",
      "------ 4\n",
      "------ 5\n",
      "------ 6\n",
      "------ 7\n",
      "------ 8\n",
      "{5: Timestamp('2019-05-28 00:00:00'), 6: Timestamp('2019-06-27 00:00:00'), 7: Timestamp('2019-07-26 00:00:00')}\n"
     ]
    },
    {
     "name": "stderr",
     "output_type": "stream",
     "text": [
      "/home/ubuntu/data/code/ref_fdetector/src/lib/mainlib.py:676: UserWarning: Boolean Series key will be reindexed to match DataFrame index.\n",
      "  df = df[(f1 & f2) | f3]\n",
      "/home/ubuntu/data/code/ref_fdetector/src/lib/mainlib.py:676: UserWarning: Boolean Series key will be reindexed to match DataFrame index.\n",
      "  df = df[(f1 & f2) | f3]\n",
      "/home/ubuntu/data/code/ref_fdetector/src/lib/mainlib.py:676: UserWarning: Boolean Series key will be reindexed to match DataFrame index.\n",
      "  df = df[(f1 & f2) | f3]\n"
     ]
    },
    {
     "name": "stdout",
     "output_type": "stream",
     "text": [
      "{5: Timestamp('2019-05-28 00:00:00'), 6: Timestamp('2019-06-27 00:00:00'), 7: Timestamp('2019-07-26 00:00:00')}\n",
      "################################################\n",
      "87--######## BTI420482497 #########\n",
      "------ 0\n",
      "------ 1\n",
      "------ 2\n",
      "------ 3\n",
      "------ 4\n",
      "------ 5\n",
      "------ 6\n",
      "------ 7\n",
      "------ 8\n",
      "{5: Timestamp('2019-05-28 00:00:00'), 6: Timestamp('2019-06-27 00:00:00'), 7: Timestamp('2019-07-26 00:00:00')}\n"
     ]
    },
    {
     "name": "stderr",
     "output_type": "stream",
     "text": [
      "/home/ubuntu/data/code/ref_fdetector/src/lib/mainlib.py:676: UserWarning: Boolean Series key will be reindexed to match DataFrame index.\n",
      "  df = df[(f1 & f2) | f3]\n",
      "/home/ubuntu/data/code/ref_fdetector/src/lib/mainlib.py:676: UserWarning: Boolean Series key will be reindexed to match DataFrame index.\n",
      "  df = df[(f1 & f2) | f3]\n",
      "/home/ubuntu/data/code/ref_fdetector/src/lib/mainlib.py:676: UserWarning: Boolean Series key will be reindexed to match DataFrame index.\n",
      "  df = df[(f1 & f2) | f3]\n"
     ]
    },
    {
     "name": "stdout",
     "output_type": "stream",
     "text": [
      "{5: Timestamp('2019-05-28 00:00:00'), 6: Timestamp('2019-06-27 00:00:00'), 7: Timestamp('2019-07-26 00:00:00')}\n",
      "################################################\n",
      "88--######## BTI420527077 #########\n",
      "------ 0\n",
      "------ 1\n",
      "------ 2\n",
      "------ 3\n",
      "------ 4\n",
      "------ 5\n",
      "------ 6\n",
      "------ 7\n",
      "------ 8\n",
      "{5: Timestamp('2019-05-28 00:00:00'), 6: Timestamp('2019-06-27 00:00:00'), 7: Timestamp('2019-07-26 00:00:00')}\n"
     ]
    },
    {
     "name": "stderr",
     "output_type": "stream",
     "text": [
      "/home/ubuntu/data/code/ref_fdetector/src/lib/mainlib.py:676: UserWarning: Boolean Series key will be reindexed to match DataFrame index.\n",
      "  df = df[(f1 & f2) | f3]\n",
      "/home/ubuntu/data/code/ref_fdetector/src/lib/mainlib.py:676: UserWarning: Boolean Series key will be reindexed to match DataFrame index.\n",
      "  df = df[(f1 & f2) | f3]\n"
     ]
    },
    {
     "name": "stdout",
     "output_type": "stream",
     "text": [
      "{5: Timestamp('2019-05-28 00:00:00'), 6: Timestamp('2019-06-27 00:00:00'), 7: Timestamp('2019-07-26 00:00:00')}\n",
      "################################################\n",
      "89--######## BTI420892281 #########\n",
      "------ 0\n",
      "------ 1\n",
      "------ 2\n",
      "------ 3\n",
      "------ 4\n",
      "------ 5\n",
      "------ 6\n",
      "------ 7\n",
      "------ 8\n",
      "{5: Timestamp('2019-05-28 00:00:00'), 6: Timestamp('2019-06-27 00:00:00'), 7: Timestamp('2019-07-26 00:00:00')}\n"
     ]
    },
    {
     "name": "stderr",
     "output_type": "stream",
     "text": [
      "/home/ubuntu/data/code/ref_fdetector/src/lib/mainlib.py:676: UserWarning: Boolean Series key will be reindexed to match DataFrame index.\n",
      "  df = df[(f1 & f2) | f3]\n",
      "/home/ubuntu/data/code/ref_fdetector/src/lib/mainlib.py:676: UserWarning: Boolean Series key will be reindexed to match DataFrame index.\n",
      "  df = df[(f1 & f2) | f3]\n",
      "/home/ubuntu/data/code/ref_fdetector/src/lib/mainlib.py:676: UserWarning: Boolean Series key will be reindexed to match DataFrame index.\n",
      "  df = df[(f1 & f2) | f3]\n"
     ]
    },
    {
     "name": "stdout",
     "output_type": "stream",
     "text": [
      "{5: Timestamp('2019-05-28 00:00:00'), 6: Timestamp('2019-06-27 00:00:00'), 7: Timestamp('2019-07-26 00:00:00')}\n",
      "################################################\n",
      "90--######## BTI421115262 #########\n",
      "------ 0\n",
      "------ 1\n",
      "------ 2\n",
      "------ 3\n",
      "------ 4\n",
      "------ 5\n",
      "------ 6\n",
      "------ 7\n",
      "------ 8\n",
      "{5: Timestamp('2019-05-27 00:00:00'), 6: Timestamp('2019-06-26 00:00:00'), 7: Timestamp('2019-07-25 00:00:00')}\n"
     ]
    },
    {
     "name": "stderr",
     "output_type": "stream",
     "text": [
      "/home/ubuntu/data/code/ref_fdetector/src/lib/mainlib.py:676: UserWarning: Boolean Series key will be reindexed to match DataFrame index.\n",
      "  df = df[(f1 & f2) | f3]\n",
      "/home/ubuntu/data/code/ref_fdetector/src/lib/mainlib.py:676: UserWarning: Boolean Series key will be reindexed to match DataFrame index.\n",
      "  df = df[(f1 & f2) | f3]\n",
      "/home/ubuntu/data/code/ref_fdetector/src/lib/mainlib.py:676: UserWarning: Boolean Series key will be reindexed to match DataFrame index.\n",
      "  df = df[(f1 & f2) | f3]\n"
     ]
    },
    {
     "name": "stdout",
     "output_type": "stream",
     "text": [
      "{5: Timestamp('2019-05-27 00:00:00'), 6: Timestamp('2019-06-26 00:00:00'), 7: Timestamp('2019-07-25 00:00:00')}\n",
      "################################################\n",
      "91--######## BTI421155328 #########\n",
      "------ 0\n",
      "------ 1\n",
      "------ 2\n",
      "------ 3\n",
      "------ 4\n",
      "------ 5\n",
      "------ 6\n",
      "------ 7\n",
      "------ 8\n",
      "{5: Timestamp('2019-05-29 00:00:00'), 6: Timestamp('2019-06-28 00:00:00'), 7: Timestamp('2019-07-29 00:00:00')}\n"
     ]
    },
    {
     "name": "stderr",
     "output_type": "stream",
     "text": [
      "/home/ubuntu/data/code/ref_fdetector/src/lib/mainlib.py:676: UserWarning: Boolean Series key will be reindexed to match DataFrame index.\n",
      "  df = df[(f1 & f2) | f3]\n",
      "/home/ubuntu/data/code/ref_fdetector/src/lib/mainlib.py:676: UserWarning: Boolean Series key will be reindexed to match DataFrame index.\n",
      "  df = df[(f1 & f2) | f3]\n"
     ]
    },
    {
     "name": "stdout",
     "output_type": "stream",
     "text": [
      "{5: Timestamp('2019-05-29 00:00:00'), 6: Timestamp('2019-06-28 00:00:00'), 7: Timestamp('2019-07-29 00:00:00')}\n",
      "################################################\n"
     ]
    },
    {
     "name": "stderr",
     "output_type": "stream",
     "text": [
      "/home/ubuntu/data/code/ref_fdetector/src/lib/mainlib.py:676: UserWarning: Boolean Series key will be reindexed to match DataFrame index.\n",
      "  df = df[(f1 & f2) | f3]\n"
     ]
    }
   ],
   "source": [
    "processados, erros = [], []\n",
    "m=loopy2(o_instas, ddirs_fas, dummy_mm,PATH_FAS, PATH_MM,OUT,sepmm=',')"
   ]
  },
  {
   "cell_type": "code",
   "execution_count": 168,
   "metadata": {},
   "outputs": [],
   "source": [
    "df_mm_new.columns=pd.Series(df_mm_new.columns).apply(float).apply(int)"
   ]
  },
  {
   "cell_type": "code",
   "execution_count": 141,
   "metadata": {},
   "outputs": [],
   "source": [
    "l = list(LISTA_CAD.df['instalacao'][1:])"
   ]
  },
  {
   "cell_type": "code",
   "execution_count": 147,
   "metadata": {},
   "outputs": [
    {
     "data": {
      "text/plain": [
       "Index(['BTI400085863', 'BTI400086150', 'BTI400086681', 'BTI400091995',\n",
       "       'BTI400114910', 'BTI410008428', 'BTI410049617', 'BTI410155805',\n",
       "       'BTI410328848', 'BTI410364444',\n",
       "       ...\n",
       "       'BT2A414490860', 'BT2A414509928', 'BT2A414642567', 'BT2A414865002',\n",
       "       'BT2A420054001', 'BT2A420399343', 'BT2A420492569', 'BT2A421052825',\n",
       "       'BT2A421122290', 'BT2A421250758'],\n",
       "      dtype='object', length=1348)"
      ]
     },
     "execution_count": 147,
     "metadata": {},
     "output_type": "execute_result"
    }
   ],
   "source": [
    "df_mm_new.columns"
   ]
  },
  {
   "cell_type": "code",
   "execution_count": 145,
   "metadata": {},
   "outputs": [],
   "source": [
    "i = [a for a in l if a in df_mm_new.columns]"
   ]
  },
  {
   "cell_type": "code",
   "execution_count": 195,
   "metadata": {},
   "outputs": [
    {
     "data": {
      "text/plain": [
       "[Timestamp('2019-09-20 00:00:00'),\n",
       " Timestamp('2019-09-20 23:59:00'),\n",
       " Timestamp('2019-09-20 00:00:00'),\n",
       " Timestamp('2019-09-20 23:59:00'),\n",
       " Timestamp('2019-09-20 00:00:00'),\n",
       " Timestamp('2019-09-20 23:59:00'),\n",
       " Timestamp('2019-09-20 00:00:00'),\n",
       " Timestamp('2019-09-20 23:59:00')]"
      ]
     },
     "execution_count": 195,
     "metadata": {},
     "output_type": "execute_result"
    }
   ],
   "source": [
    "perfunc.iloc[0]"
   ]
  },
  {
   "cell_type": "markdown",
   "metadata": {},
   "source": [
    "## l_______________________________________________________________________"
   ]
  },
  {
   "cell_type": "markdown",
   "metadata": {},
   "source": [
    "##### Substituir coluna \"Perfil cadastrado\" por texto"
   ]
  },
  {
   "cell_type": "code",
   "execution_count": 209,
   "metadata": {},
   "outputs": [],
   "source": [
    "l=LISTA_CAD.df.drop(index=0)"
   ]
  },
  {
   "cell_type": "code",
   "execution_count": 214,
   "metadata": {},
   "outputs": [],
   "source": [
    "ra=PERFIS['ramo_de_atividade']"
   ]
  },
  {
   "cell_type": "code",
   "execution_count": 217,
   "metadata": {},
   "outputs": [],
   "source": [
    "dra=ra.to_dict()"
   ]
  },
  {
   "cell_type": "code",
   "execution_count": 222,
   "metadata": {},
   "outputs": [],
   "source": [
    "o = pd.read_csv('../../outputs/all/new.csv')"
   ]
  },
  {
   "cell_type": "code",
   "execution_count": 237,
   "metadata": {},
   "outputs": [],
   "source": [
    "o['Perfil cadastrado']=o['Nome'].map(dra)"
   ]
  },
  {
   "cell_type": "raw",
   "metadata": {},
   "source": [
    "o.to_csv('../../outputs/new2.csvf')"
   ]
  },
  {
   "cell_type": "markdown",
   "metadata": {},
   "source": [
    "## l_______________________________________________________________________"
   ]
  },
  {
   "cell_type": "markdown",
   "metadata": {},
   "source": [
    "#### Leituras faltando - Fasorial"
   ]
  },
  {
   "cell_type": "code",
   "execution_count": 123,
   "metadata": {},
   "outputs": [],
   "source": [
    "import mainlib\n",
    "reload(mainlib)\n",
    "from mainlib import dframe\n",
    "\n",
    "dfr = dframe()\n",
    "data = dfr.data\n",
    "dp = dfr.dateparser\n",
    "\n",
    "ddirs_fas = pload('../pickles/ddirs_fas.pkl')\n",
    "\n",
    "emp = {}\n",
    "for n,(k,v) in enumerate(ddirs_fas.items()):\n",
    "    df = pd.read_csv(v,sep=';',date_parser = dp,parse_dates=[5],names=data['fasorial']['columns'])\n",
    "    emp[k]=df.set_index('data').iloc[:,0].resample('15min').first().isna().sum()\n",
    "    print(n,k,emp[k])\n",
    "\n",
    "demp=pd.DataFrame(index=emp.keys(), data=emp.values(),columns = ['Leituras faltantes'])"
   ]
  },
  {
   "cell_type": "code",
   "execution_count": 123,
   "metadata": {},
   "outputs": [],
   "source": [
    "demp.to_csv('../outputs/fas_emp.csv')"
   ]
  },
  {
   "cell_type": "markdown",
   "metadata": {},
   "source": [
    "## l_______________________________________________________________________"
   ]
  },
  {
   "cell_type": "markdown",
   "metadata": {},
   "source": [
    "#### Leituras faltando - Fasorial"
   ]
  },
  {
   "cell_type": "code",
   "execution_count": 258,
   "metadata": {},
   "outputs": [
    {
     "data": {
      "text/plain": [
       "'/home/ubuntu/data/data/maio_2019/setembro/mm/csv_proc/#pd_mmproc.csv'"
      ]
     },
     "execution_count": 258,
     "metadata": {},
     "output_type": "execute_result"
    }
   ],
   "source": [
    "PATH_MM"
   ]
  },
  {
   "cell_type": "code",
   "execution_count": 285,
   "metadata": {},
   "outputs": [],
   "source": [
    "mm = pd.read_csv(PATH_MM, parse_dates = [0],date_parser=dp, index_col=[0])"
   ]
  },
  {
   "cell_type": "code",
   "execution_count": 289,
   "metadata": {},
   "outputs": [
    {
     "data": {
      "text/html": [
       "<div>\n",
       "<style scoped>\n",
       "    .dataframe tbody tr th:only-of-type {\n",
       "        vertical-align: middle;\n",
       "    }\n",
       "\n",
       "    .dataframe tbody tr th {\n",
       "        vertical-align: top;\n",
       "    }\n",
       "\n",
       "    .dataframe thead th {\n",
       "        text-align: right;\n",
       "    }\n",
       "</style>\n",
       "<table border=\"1\" class=\"dataframe\">\n",
       "  <thead>\n",
       "    <tr style=\"text-align: right;\">\n",
       "      <th></th>\n",
       "      <th>BTI400085863</th>\n",
       "      <th>BTI400086150</th>\n",
       "      <th>BTI400086681</th>\n",
       "      <th>BTI400091995</th>\n",
       "      <th>BTI400114910</th>\n",
       "      <th>BTI410008428</th>\n",
       "      <th>BTI410049617</th>\n",
       "      <th>BTI410155805</th>\n",
       "      <th>BTI410328848</th>\n",
       "      <th>BTI410364444</th>\n",
       "      <th>...</th>\n",
       "      <th>BT2A414490860</th>\n",
       "      <th>BT2A414509928</th>\n",
       "      <th>BT2A414642567</th>\n",
       "      <th>BT2A414865002</th>\n",
       "      <th>BT2A420054001</th>\n",
       "      <th>BT2A420399343</th>\n",
       "      <th>BT2A420492569</th>\n",
       "      <th>BT2A421052825</th>\n",
       "      <th>BT2A421122290</th>\n",
       "      <th>BT2A421250758</th>\n",
       "    </tr>\n",
       "    <tr>\n",
       "      <th>DATA/Hora</th>\n",
       "      <th></th>\n",
       "      <th></th>\n",
       "      <th></th>\n",
       "      <th></th>\n",
       "      <th></th>\n",
       "      <th></th>\n",
       "      <th></th>\n",
       "      <th></th>\n",
       "      <th></th>\n",
       "      <th></th>\n",
       "      <th></th>\n",
       "      <th></th>\n",
       "      <th></th>\n",
       "      <th></th>\n",
       "      <th></th>\n",
       "      <th></th>\n",
       "      <th></th>\n",
       "      <th></th>\n",
       "      <th></th>\n",
       "      <th></th>\n",
       "      <th></th>\n",
       "    </tr>\n",
       "  </thead>\n",
       "  <tbody>\n",
       "    <tr>\n",
       "      <th>NaT</th>\n",
       "      <td>317.69</td>\n",
       "      <td>18480.96</td>\n",
       "      <td>-300465.17</td>\n",
       "      <td>4272.71</td>\n",
       "      <td>14387.52</td>\n",
       "      <td>144.19</td>\n",
       "      <td>40532.66</td>\n",
       "      <td>10554.97</td>\n",
       "      <td>-133523.24</td>\n",
       "      <td>1492.69</td>\n",
       "      <td>...</td>\n",
       "      <td>20365.55</td>\n",
       "      <td>4714.32</td>\n",
       "      <td>6975.9</td>\n",
       "      <td>8566.44</td>\n",
       "      <td>6798.06</td>\n",
       "      <td>4886.19</td>\n",
       "      <td>2.25</td>\n",
       "      <td>3474.63</td>\n",
       "      <td>14747.29</td>\n",
       "      <td>14069.35</td>\n",
       "    </tr>\n",
       "  </tbody>\n",
       "</table>\n",
       "<p>1 rows × 1348 columns</p>\n",
       "</div>"
      ],
      "text/plain": [
       "           BTI400085863  BTI400086150  BTI400086681  BTI400091995  \\\n",
       "DATA/Hora                                                           \n",
       "NaT              317.69      18480.96    -300465.17       4272.71   \n",
       "\n",
       "           BTI400114910  BTI410008428  BTI410049617  BTI410155805  \\\n",
       "DATA/Hora                                                           \n",
       "NaT            14387.52        144.19      40532.66      10554.97   \n",
       "\n",
       "           BTI410328848  BTI410364444  ...  BT2A414490860  BT2A414509928  \\\n",
       "DATA/Hora                              ...                                 \n",
       "NaT          -133523.24       1492.69  ...       20365.55        4714.32   \n",
       "\n",
       "           BT2A414642567  BT2A414865002  BT2A420054001  BT2A420399343  \\\n",
       "DATA/Hora                                                               \n",
       "NaT               6975.9        8566.44        6798.06        4886.19   \n",
       "\n",
       "           BT2A420492569  BT2A421052825  BT2A421122290  BT2A421250758  \n",
       "DATA/Hora                                                              \n",
       "NaT                 2.25        3474.63       14747.29       14069.35  \n",
       "\n",
       "[1 rows x 1348 columns]"
      ]
     },
     "execution_count": 289,
     "metadata": {},
     "output_type": "execute_result"
    }
   ],
   "source": [
    "mm[mm.index.isnull()]"
   ]
  },
  {
   "cell_type": "code",
   "execution_count": 279,
   "metadata": {},
   "outputs": [
    {
     "data": {
      "text/plain": [
       "1"
      ]
     },
     "execution_count": 279,
     "metadata": {},
     "output_type": "execute_result"
    }
   ],
   "source": [
    "mm.isnull().sum().sum()"
   ]
  },
  {
   "cell_type": "code",
   "execution_count": 283,
   "metadata": {},
   "outputs": [
    {
     "data": {
      "text/html": [
       "<div>\n",
       "<style scoped>\n",
       "    .dataframe tbody tr th:only-of-type {\n",
       "        vertical-align: middle;\n",
       "    }\n",
       "\n",
       "    .dataframe tbody tr th {\n",
       "        vertical-align: top;\n",
       "    }\n",
       "\n",
       "    .dataframe thead th {\n",
       "        text-align: right;\n",
       "    }\n",
       "</style>\n",
       "<table border=\"1\" class=\"dataframe\">\n",
       "  <thead>\n",
       "    <tr style=\"text-align: right;\">\n",
       "      <th></th>\n",
       "      <th>BTI400085863</th>\n",
       "      <th>BTI400086150</th>\n",
       "      <th>BTI400086681</th>\n",
       "      <th>BTI400091995</th>\n",
       "      <th>BTI400114910</th>\n",
       "      <th>BTI410008428</th>\n",
       "      <th>BTI410049617</th>\n",
       "      <th>BTI410155805</th>\n",
       "      <th>BTI410328848</th>\n",
       "      <th>BTI410364444</th>\n",
       "      <th>...</th>\n",
       "      <th>BT2A414490860</th>\n",
       "      <th>BT2A414509928</th>\n",
       "      <th>BT2A414642567</th>\n",
       "      <th>BT2A414865002</th>\n",
       "      <th>BT2A420054001</th>\n",
       "      <th>BT2A420399343</th>\n",
       "      <th>BT2A420492569</th>\n",
       "      <th>BT2A421052825</th>\n",
       "      <th>BT2A421122290</th>\n",
       "      <th>BT2A421250758</th>\n",
       "    </tr>\n",
       "  </thead>\n",
       "  <tbody>\n",
       "    <tr>\n",
       "      <th>count</th>\n",
       "      <td>2953.000000</td>\n",
       "      <td>2953.000000</td>\n",
       "      <td>2953.000000</td>\n",
       "      <td>2953.000000</td>\n",
       "      <td>2953.000000</td>\n",
       "      <td>2953.000000</td>\n",
       "      <td>2953.000000</td>\n",
       "      <td>2953.000000</td>\n",
       "      <td>2953.000000</td>\n",
       "      <td>2953.000000</td>\n",
       "      <td>...</td>\n",
       "      <td>2953.000000</td>\n",
       "      <td>2953.000000</td>\n",
       "      <td>2953.000000</td>\n",
       "      <td>2953.000000</td>\n",
       "      <td>2953.000000</td>\n",
       "      <td>2953.000000</td>\n",
       "      <td>2953.000000</td>\n",
       "      <td>2953.000000</td>\n",
       "      <td>2953.000000</td>\n",
       "      <td>2953.000000</td>\n",
       "    </tr>\n",
       "    <tr>\n",
       "      <th>mean</th>\n",
       "      <td>0.215181</td>\n",
       "      <td>12.516739</td>\n",
       "      <td>-203.497176</td>\n",
       "      <td>2.893630</td>\n",
       "      <td>9.744328</td>\n",
       "      <td>0.097775</td>\n",
       "      <td>27.451859</td>\n",
       "      <td>7.148581</td>\n",
       "      <td>-90.431818</td>\n",
       "      <td>1.010918</td>\n",
       "      <td>...</td>\n",
       "      <td>13.793248</td>\n",
       "      <td>3.192845</td>\n",
       "      <td>4.724521</td>\n",
       "      <td>5.801863</td>\n",
       "      <td>4.604179</td>\n",
       "      <td>3.309326</td>\n",
       "      <td>0.001707</td>\n",
       "      <td>2.353329</td>\n",
       "      <td>9.988043</td>\n",
       "      <td>9.528920</td>\n",
       "    </tr>\n",
       "    <tr>\n",
       "      <th>std</th>\n",
       "      <td>5.847146</td>\n",
       "      <td>340.146631</td>\n",
       "      <td>5530.056625</td>\n",
       "      <td>78.628187</td>\n",
       "      <td>264.767265</td>\n",
       "      <td>2.653908</td>\n",
       "      <td>745.893431</td>\n",
       "      <td>194.271733</td>\n",
       "      <td>2457.672610</td>\n",
       "      <td>27.488508</td>\n",
       "      <td>...</td>\n",
       "      <td>374.699653</td>\n",
       "      <td>86.728285</td>\n",
       "      <td>128.379483</td>\n",
       "      <td>157.594868</td>\n",
       "      <td>125.060987</td>\n",
       "      <td>89.890404</td>\n",
       "      <td>0.042774</td>\n",
       "      <td>63.977131</td>\n",
       "      <td>271.305960</td>\n",
       "      <td>258.906227</td>\n",
       "    </tr>\n",
       "    <tr>\n",
       "      <th>min</th>\n",
       "      <td>0.000000</td>\n",
       "      <td>0.000000</td>\n",
       "      <td>-300465.170000</td>\n",
       "      <td>0.000000</td>\n",
       "      <td>0.000000</td>\n",
       "      <td>0.000000</td>\n",
       "      <td>0.000000</td>\n",
       "      <td>0.000000</td>\n",
       "      <td>-133523.240000</td>\n",
       "      <td>0.000000</td>\n",
       "      <td>...</td>\n",
       "      <td>0.000000</td>\n",
       "      <td>0.220000</td>\n",
       "      <td>0.000000</td>\n",
       "      <td>0.000000</td>\n",
       "      <td>0.120000</td>\n",
       "      <td>0.000000</td>\n",
       "      <td>0.000000</td>\n",
       "      <td>0.000000</td>\n",
       "      <td>0.000000</td>\n",
       "      <td>0.420000</td>\n",
       "    </tr>\n",
       "    <tr>\n",
       "      <th>25%</th>\n",
       "      <td>0.000000</td>\n",
       "      <td>0.000000</td>\n",
       "      <td>-393.020000</td>\n",
       "      <td>0.010000</td>\n",
       "      <td>0.000000</td>\n",
       "      <td>0.000000</td>\n",
       "      <td>0.000000</td>\n",
       "      <td>0.000000</td>\n",
       "      <td>0.000000</td>\n",
       "      <td>0.000000</td>\n",
       "      <td>...</td>\n",
       "      <td>0.990000</td>\n",
       "      <td>0.950000</td>\n",
       "      <td>0.130000</td>\n",
       "      <td>2.070000</td>\n",
       "      <td>1.560000</td>\n",
       "      <td>0.990000</td>\n",
       "      <td>0.000000</td>\n",
       "      <td>0.270000</td>\n",
       "      <td>3.950000</td>\n",
       "      <td>0.620000</td>\n",
       "    </tr>\n",
       "    <tr>\n",
       "      <th>50%</th>\n",
       "      <td>0.000000</td>\n",
       "      <td>2.370000</td>\n",
       "      <td>0.000000</td>\n",
       "      <td>0.940000</td>\n",
       "      <td>2.380000</td>\n",
       "      <td>0.000000</td>\n",
       "      <td>0.000000</td>\n",
       "      <td>0.000000</td>\n",
       "      <td>0.000000</td>\n",
       "      <td>0.000000</td>\n",
       "      <td>...</td>\n",
       "      <td>4.680000</td>\n",
       "      <td>1.400000</td>\n",
       "      <td>0.420000</td>\n",
       "      <td>2.460000</td>\n",
       "      <td>2.180000</td>\n",
       "      <td>1.320000</td>\n",
       "      <td>0.000000</td>\n",
       "      <td>0.450000</td>\n",
       "      <td>5.560000</td>\n",
       "      <td>0.740000</td>\n",
       "    </tr>\n",
       "    <tr>\n",
       "      <th>75%</th>\n",
       "      <td>0.270000</td>\n",
       "      <td>5.820000</td>\n",
       "      <td>1.150000</td>\n",
       "      <td>1.060000</td>\n",
       "      <td>4.640000</td>\n",
       "      <td>0.050000</td>\n",
       "      <td>25.310000</td>\n",
       "      <td>6.960000</td>\n",
       "      <td>0.000000</td>\n",
       "      <td>0.350000</td>\n",
       "      <td>...</td>\n",
       "      <td>12.360000</td>\n",
       "      <td>2.070000</td>\n",
       "      <td>3.970000</td>\n",
       "      <td>3.220000</td>\n",
       "      <td>3.170000</td>\n",
       "      <td>2.510000</td>\n",
       "      <td>0.000000</td>\n",
       "      <td>0.730000</td>\n",
       "      <td>6.340000</td>\n",
       "      <td>6.650000</td>\n",
       "    </tr>\n",
       "    <tr>\n",
       "      <th>max</th>\n",
       "      <td>317.690000</td>\n",
       "      <td>18480.960000</td>\n",
       "      <td>28.370000</td>\n",
       "      <td>4272.710000</td>\n",
       "      <td>14387.520000</td>\n",
       "      <td>144.190000</td>\n",
       "      <td>40532.660000</td>\n",
       "      <td>10554.970000</td>\n",
       "      <td>0.180000</td>\n",
       "      <td>1492.690000</td>\n",
       "      <td>...</td>\n",
       "      <td>20365.550000</td>\n",
       "      <td>4714.320000</td>\n",
       "      <td>6975.900000</td>\n",
       "      <td>8566.440000</td>\n",
       "      <td>6798.060000</td>\n",
       "      <td>4886.190000</td>\n",
       "      <td>2.250000</td>\n",
       "      <td>3474.630000</td>\n",
       "      <td>14747.290000</td>\n",
       "      <td>14069.350000</td>\n",
       "    </tr>\n",
       "  </tbody>\n",
       "</table>\n",
       "<p>8 rows × 1348 columns</p>\n",
       "</div>"
      ],
      "text/plain": [
       "       BTI400085863  BTI400086150   BTI400086681  BTI400091995  BTI400114910  \\\n",
       "count   2953.000000   2953.000000    2953.000000   2953.000000   2953.000000   \n",
       "mean       0.215181     12.516739    -203.497176      2.893630      9.744328   \n",
       "std        5.847146    340.146631    5530.056625     78.628187    264.767265   \n",
       "min        0.000000      0.000000 -300465.170000      0.000000      0.000000   \n",
       "25%        0.000000      0.000000    -393.020000      0.010000      0.000000   \n",
       "50%        0.000000      2.370000       0.000000      0.940000      2.380000   \n",
       "75%        0.270000      5.820000       1.150000      1.060000      4.640000   \n",
       "max      317.690000  18480.960000      28.370000   4272.710000  14387.520000   \n",
       "\n",
       "       BTI410008428  BTI410049617  BTI410155805   BTI410328848  BTI410364444  \\\n",
       "count   2953.000000   2953.000000   2953.000000    2953.000000   2953.000000   \n",
       "mean       0.097775     27.451859      7.148581     -90.431818      1.010918   \n",
       "std        2.653908    745.893431    194.271733    2457.672610     27.488508   \n",
       "min        0.000000      0.000000      0.000000 -133523.240000      0.000000   \n",
       "25%        0.000000      0.000000      0.000000       0.000000      0.000000   \n",
       "50%        0.000000      0.000000      0.000000       0.000000      0.000000   \n",
       "75%        0.050000     25.310000      6.960000       0.000000      0.350000   \n",
       "max      144.190000  40532.660000  10554.970000       0.180000   1492.690000   \n",
       "\n",
       "       ...  BT2A414490860  BT2A414509928  BT2A414642567  BT2A414865002  \\\n",
       "count  ...    2953.000000    2953.000000    2953.000000    2953.000000   \n",
       "mean   ...      13.793248       3.192845       4.724521       5.801863   \n",
       "std    ...     374.699653      86.728285     128.379483     157.594868   \n",
       "min    ...       0.000000       0.220000       0.000000       0.000000   \n",
       "25%    ...       0.990000       0.950000       0.130000       2.070000   \n",
       "50%    ...       4.680000       1.400000       0.420000       2.460000   \n",
       "75%    ...      12.360000       2.070000       3.970000       3.220000   \n",
       "max    ...   20365.550000    4714.320000    6975.900000    8566.440000   \n",
       "\n",
       "       BT2A420054001  BT2A420399343  BT2A420492569  BT2A421052825  \\\n",
       "count    2953.000000    2953.000000    2953.000000    2953.000000   \n",
       "mean        4.604179       3.309326       0.001707       2.353329   \n",
       "std       125.060987      89.890404       0.042774      63.977131   \n",
       "min         0.120000       0.000000       0.000000       0.000000   \n",
       "25%         1.560000       0.990000       0.000000       0.270000   \n",
       "50%         2.180000       1.320000       0.000000       0.450000   \n",
       "75%         3.170000       2.510000       0.000000       0.730000   \n",
       "max      6798.060000    4886.190000       2.250000    3474.630000   \n",
       "\n",
       "       BT2A421122290  BT2A421250758  \n",
       "count    2953.000000    2953.000000  \n",
       "mean        9.988043       9.528920  \n",
       "std       271.305960     258.906227  \n",
       "min         0.000000       0.420000  \n",
       "25%         3.950000       0.620000  \n",
       "50%         5.560000       0.740000  \n",
       "75%         6.340000       6.650000  \n",
       "max     14747.290000   14069.350000  \n",
       "\n",
       "[8 rows x 1348 columns]"
      ]
     },
     "execution_count": 283,
     "metadata": {},
     "output_type": "execute_result"
    }
   ],
   "source": [
    "mm.describe()"
   ]
  },
  {
   "cell_type": "code",
   "execution_count": null,
   "metadata": {},
   "outputs": [],
   "source": []
  }
 ],
 "metadata": {
  "kernelspec": {
   "display_name": "tensoflo",
   "language": "python",
   "name": "tensorflow_p36"
  },
  "language_info": {
   "codemirror_mode": {
    "name": "ipython",
    "version": 3
   },
   "file_extension": ".py",
   "mimetype": "text/x-python",
   "name": "python",
   "nbconvert_exporter": "python",
   "pygments_lexer": "ipython3",
   "version": "3.6.5"
  }
 },
 "nbformat": 4,
 "nbformat_minor": 2
}
