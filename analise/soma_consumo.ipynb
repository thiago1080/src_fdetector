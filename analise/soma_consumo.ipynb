{
 "cells": [
  {
   "cell_type": "markdown",
   "metadata": {},
   "source": [
    "#### Entrada: Pickles gerados por instalacao_medidor.ipynb\n",
    "#### Saída: csv (pode ser para Light ou EDP)"
   ]
  },
  {
   "cell_type": "markdown",
   "metadata": {},
   "source": [
    "---"
   ]
  },
  {
   "cell_type": "code",
   "execution_count": 1,
   "metadata": {},
   "outputs": [
    {
     "name": "stderr",
     "output_type": "stream",
     "text": [
      "Using TensorFlow backend.\n"
     ]
    }
   ],
   "source": [
    "%matplotlib inline\n",
    "from matplotlib import pyplot as plt\n",
    "import sys\n",
    "import os\n",
    "from os import listdir as ld\n",
    "from os.path import join\n",
    "from pathlib import Path\n",
    "import pandas as pd\n",
    "sys.path.append(join(Path(os.getcwd()).parent, 'lib'))\n",
    "from mainlib import dframe\n",
    "from of_proc import pload"
   ]
  },
  {
   "cell_type": "markdown",
   "metadata": {},
   "source": [
    "---"
   ]
  },
  {
   "cell_type": "markdown",
   "metadata": {},
   "source": [
    "### Escolha"
   ]
  },
  {
   "cell_type": "markdown",
   "metadata": {},
   "source": [
    "#### Light"
   ]
  },
  {
   "cell_type": "code",
   "execution_count": 2,
   "metadata": {},
   "outputs": [],
   "source": [
    "conc = 'light'\n",
    "data = dframe('../../info/info-LIGHT.json').data\n",
    "dmi = pload('../../pickles/medidor_instalacao_light_4a7.pkl')\n",
    "hormed = pload('../../pickles/horarios_medicao_light_4a7.pkl')"
   ]
  },
  {
   "cell_type": "markdown",
   "metadata": {},
   "source": [
    "#### EDP"
   ]
  },
  {
   "cell_type": "raw",
   "metadata": {},
   "source": [
    "conc = 'EDP'\n",
    "data = dframe('../../info/info-EDP-ES.json').data\n",
    "dmi = pload('../../pickles/medidor_instalacao_edp_5a8.pkl')\n",
    "hormed = pload('../../pickles/horarios_leitura_edp_5a8.pkl')"
   ]
  },
  {
   "cell_type": "markdown",
   "metadata": {},
   "source": [
    "---"
   ]
  },
  {
   "cell_type": "code",
   "execution_count": 3,
   "metadata": {},
   "outputs": [],
   "source": [
    "MM_PATH = data['paths']['mm']['input']"
   ]
  },
  {
   "cell_type": "code",
   "execution_count": 4,
   "metadata": {},
   "outputs": [],
   "source": [
    "mm = pd.read_csv(MM_PATH, sep = ';',parse_dates=[0],index_col=[0])"
   ]
  },
  {
   "cell_type": "markdown",
   "metadata": {},
   "source": [
    "---"
   ]
  },
  {
   "cell_type": "markdown",
   "metadata": {},
   "source": [
    "---"
   ]
  },
  {
   "cell_type": "code",
   "execution_count": 5,
   "metadata": {},
   "outputs": [
    {
     "data": {
      "text/html": [
       "<div>\n",
       "<style scoped>\n",
       "    .dataframe tbody tr th:only-of-type {\n",
       "        vertical-align: middle;\n",
       "    }\n",
       "\n",
       "    .dataframe tbody tr th {\n",
       "        vertical-align: top;\n",
       "    }\n",
       "\n",
       "    .dataframe thead th {\n",
       "        text-align: right;\n",
       "    }\n",
       "</style>\n",
       "<table border=\"1\" class=\"dataframe\">\n",
       "  <thead>\n",
       "    <tr style=\"text-align: right;\">\n",
       "      <th></th>\n",
       "      <th>07266674</th>\n",
       "      <th>07266923</th>\n",
       "      <th>07267331</th>\n",
       "      <th>07267651</th>\n",
       "      <th>07311230</th>\n",
       "      <th>07311230.1</th>\n",
       "      <th>07329402</th>\n",
       "      <th>07516510</th>\n",
       "      <th>07516555</th>\n",
       "      <th>07581189</th>\n",
       "      <th>...</th>\n",
       "      <th>09135666</th>\n",
       "      <th>09135823</th>\n",
       "      <th>09136081</th>\n",
       "      <th>09222235</th>\n",
       "      <th>09222264</th>\n",
       "      <th>09224864</th>\n",
       "      <th>09308547</th>\n",
       "      <th>09445026</th>\n",
       "      <th>09572635</th>\n",
       "      <th>09581032</th>\n",
       "    </tr>\n",
       "    <tr>\n",
       "      <th>DATA/Hora</th>\n",
       "      <th></th>\n",
       "      <th></th>\n",
       "      <th></th>\n",
       "      <th></th>\n",
       "      <th></th>\n",
       "      <th></th>\n",
       "      <th></th>\n",
       "      <th></th>\n",
       "      <th></th>\n",
       "      <th></th>\n",
       "      <th></th>\n",
       "      <th></th>\n",
       "      <th></th>\n",
       "      <th></th>\n",
       "      <th></th>\n",
       "      <th></th>\n",
       "      <th></th>\n",
       "      <th></th>\n",
       "      <th></th>\n",
       "      <th></th>\n",
       "      <th></th>\n",
       "    </tr>\n",
       "  </thead>\n",
       "  <tbody>\n",
       "    <tr>\n",
       "      <th>2019-04-01 01:00:00</th>\n",
       "      <td>2.54</td>\n",
       "      <td>NaN</td>\n",
       "      <td>0.31</td>\n",
       "      <td>0.34</td>\n",
       "      <td>NaN</td>\n",
       "      <td>NaN</td>\n",
       "      <td>3.94</td>\n",
       "      <td>0.0</td>\n",
       "      <td>3.66</td>\n",
       "      <td>1.31</td>\n",
       "      <td>...</td>\n",
       "      <td>0.32</td>\n",
       "      <td>1.69</td>\n",
       "      <td>NaN</td>\n",
       "      <td>0.73</td>\n",
       "      <td>5.72</td>\n",
       "      <td>0.84</td>\n",
       "      <td>0.01</td>\n",
       "      <td>0.27</td>\n",
       "      <td>0.19</td>\n",
       "      <td>NaN</td>\n",
       "    </tr>\n",
       "    <tr>\n",
       "      <th>2019-04-01 02:00:00</th>\n",
       "      <td>2.59</td>\n",
       "      <td>NaN</td>\n",
       "      <td>0.36</td>\n",
       "      <td>0.36</td>\n",
       "      <td>NaN</td>\n",
       "      <td>NaN</td>\n",
       "      <td>3.70</td>\n",
       "      <td>0.0</td>\n",
       "      <td>3.63</td>\n",
       "      <td>0.32</td>\n",
       "      <td>...</td>\n",
       "      <td>0.32</td>\n",
       "      <td>1.92</td>\n",
       "      <td>NaN</td>\n",
       "      <td>0.73</td>\n",
       "      <td>5.75</td>\n",
       "      <td>0.89</td>\n",
       "      <td>0.01</td>\n",
       "      <td>0.28</td>\n",
       "      <td>0.24</td>\n",
       "      <td>NaN</td>\n",
       "    </tr>\n",
       "    <tr>\n",
       "      <th>2019-04-01 03:00:00</th>\n",
       "      <td>2.52</td>\n",
       "      <td>NaN</td>\n",
       "      <td>0.34</td>\n",
       "      <td>0.36</td>\n",
       "      <td>NaN</td>\n",
       "      <td>NaN</td>\n",
       "      <td>3.55</td>\n",
       "      <td>0.0</td>\n",
       "      <td>3.74</td>\n",
       "      <td>0.30</td>\n",
       "      <td>...</td>\n",
       "      <td>0.32</td>\n",
       "      <td>1.43</td>\n",
       "      <td>NaN</td>\n",
       "      <td>0.75</td>\n",
       "      <td>5.70</td>\n",
       "      <td>0.85</td>\n",
       "      <td>0.01</td>\n",
       "      <td>0.27</td>\n",
       "      <td>0.19</td>\n",
       "      <td>NaN</td>\n",
       "    </tr>\n",
       "    <tr>\n",
       "      <th>2019-04-01 04:00:00</th>\n",
       "      <td>2.45</td>\n",
       "      <td>NaN</td>\n",
       "      <td>0.34</td>\n",
       "      <td>0.34</td>\n",
       "      <td>NaN</td>\n",
       "      <td>NaN</td>\n",
       "      <td>3.48</td>\n",
       "      <td>0.0</td>\n",
       "      <td>3.71</td>\n",
       "      <td>0.30</td>\n",
       "      <td>...</td>\n",
       "      <td>0.32</td>\n",
       "      <td>1.48</td>\n",
       "      <td>NaN</td>\n",
       "      <td>0.76</td>\n",
       "      <td>5.78</td>\n",
       "      <td>0.89</td>\n",
       "      <td>0.01</td>\n",
       "      <td>0.27</td>\n",
       "      <td>0.28</td>\n",
       "      <td>NaN</td>\n",
       "    </tr>\n",
       "    <tr>\n",
       "      <th>2019-04-01 05:00:00</th>\n",
       "      <td>3.70</td>\n",
       "      <td>NaN</td>\n",
       "      <td>0.36</td>\n",
       "      <td>0.36</td>\n",
       "      <td>NaN</td>\n",
       "      <td>NaN</td>\n",
       "      <td>3.55</td>\n",
       "      <td>0.0</td>\n",
       "      <td>3.68</td>\n",
       "      <td>0.30</td>\n",
       "      <td>...</td>\n",
       "      <td>0.32</td>\n",
       "      <td>1.55</td>\n",
       "      <td>NaN</td>\n",
       "      <td>0.74</td>\n",
       "      <td>5.77</td>\n",
       "      <td>0.86</td>\n",
       "      <td>0.01</td>\n",
       "      <td>0.27</td>\n",
       "      <td>0.17</td>\n",
       "      <td>NaN</td>\n",
       "    </tr>\n",
       "  </tbody>\n",
       "</table>\n",
       "<p>5 rows × 1545 columns</p>\n",
       "</div>"
      ],
      "text/plain": [
       "                     07266674  07266923  07267331  07267651  07311230  \\\n",
       "DATA/Hora                                                               \n",
       "2019-04-01 01:00:00      2.54       NaN      0.31      0.34       NaN   \n",
       "2019-04-01 02:00:00      2.59       NaN      0.36      0.36       NaN   \n",
       "2019-04-01 03:00:00      2.52       NaN      0.34      0.36       NaN   \n",
       "2019-04-01 04:00:00      2.45       NaN      0.34      0.34       NaN   \n",
       "2019-04-01 05:00:00      3.70       NaN      0.36      0.36       NaN   \n",
       "\n",
       "                     07311230.1  07329402  07516510  07516555  07581189  ...  \\\n",
       "DATA/Hora                                                                ...   \n",
       "2019-04-01 01:00:00         NaN      3.94       0.0      3.66      1.31  ...   \n",
       "2019-04-01 02:00:00         NaN      3.70       0.0      3.63      0.32  ...   \n",
       "2019-04-01 03:00:00         NaN      3.55       0.0      3.74      0.30  ...   \n",
       "2019-04-01 04:00:00         NaN      3.48       0.0      3.71      0.30  ...   \n",
       "2019-04-01 05:00:00         NaN      3.55       0.0      3.68      0.30  ...   \n",
       "\n",
       "                     09135666  09135823  09136081  09222235  09222264  \\\n",
       "DATA/Hora                                                               \n",
       "2019-04-01 01:00:00      0.32      1.69       NaN      0.73      5.72   \n",
       "2019-04-01 02:00:00      0.32      1.92       NaN      0.73      5.75   \n",
       "2019-04-01 03:00:00      0.32      1.43       NaN      0.75      5.70   \n",
       "2019-04-01 04:00:00      0.32      1.48       NaN      0.76      5.78   \n",
       "2019-04-01 05:00:00      0.32      1.55       NaN      0.74      5.77   \n",
       "\n",
       "                     09224864  09308547  09445026  09572635  09581032  \n",
       "DATA/Hora                                                              \n",
       "2019-04-01 01:00:00      0.84      0.01      0.27      0.19       NaN  \n",
       "2019-04-01 02:00:00      0.89      0.01      0.28      0.24       NaN  \n",
       "2019-04-01 03:00:00      0.85      0.01      0.27      0.19       NaN  \n",
       "2019-04-01 04:00:00      0.89      0.01      0.27      0.28       NaN  \n",
       "2019-04-01 05:00:00      0.86      0.01      0.27      0.17       NaN  \n",
       "\n",
       "[5 rows x 1545 columns]"
      ]
     },
     "execution_count": 5,
     "metadata": {},
     "output_type": "execute_result"
    }
   ],
   "source": [
    "mm.head()"
   ]
  },
  {
   "cell_type": "code",
   "execution_count": 6,
   "metadata": {},
   "outputs": [],
   "source": [
    "mm.columns = [int(float(c)) for c in mm.columns]"
   ]
  },
  {
   "cell_type": "code",
   "execution_count": 7,
   "metadata": {},
   "outputs": [
    {
     "data": {
      "text/plain": [
       "(1527, (2952, 1545))"
      ]
     },
     "execution_count": 7,
     "metadata": {},
     "output_type": "execute_result"
    }
   ],
   "source": [
    "l = [i for i in mm.columns if i  in dmi.keys()]\n",
    "len(l), mm.shape"
   ]
  },
  {
   "cell_type": "code",
   "execution_count": 8,
   "metadata": {},
   "outputs": [],
   "source": [
    "scols = {}\n",
    "nf=[]\n",
    "for i in mm.columns:\n",
    "    if i  in dmi.keys():\n",
    "        scols[i] = dmi[i]\n",
    "    else:\n",
    "        scols[i] = str('not_found_') + str(i)\n",
    "        nf.append(i)"
   ]
  },
  {
   "cell_type": "code",
   "execution_count": 9,
   "metadata": {},
   "outputs": [
    {
     "data": {
      "text/plain": [
       "1528"
      ]
     },
     "execution_count": 9,
     "metadata": {},
     "output_type": "execute_result"
    }
   ],
   "source": [
    "len(scols)"
   ]
  },
  {
   "cell_type": "code",
   "execution_count": 10,
   "metadata": {},
   "outputs": [
    {
     "data": {
      "text/plain": [
       "[8547963,\n",
       " 6172132,\n",
       " 9756548,\n",
       " 6172035,\n",
       " 9756537,\n",
       " 9756551,\n",
       " 9756553,\n",
       " 8551466,\n",
       " 9756573,\n",
       " 8551494,\n",
       " 9756586,\n",
       " 9756592,\n",
       " 9756540,\n",
       " 9756542,\n",
       " 9756619,\n",
       " 9736710,\n",
       " 9756546,\n",
       " 9756588]"
      ]
     },
     "execution_count": 10,
     "metadata": {},
     "output_type": "execute_result"
    }
   ],
   "source": [
    "nf"
   ]
  },
  {
   "cell_type": "markdown",
   "metadata": {},
   "source": [
    "---"
   ]
  },
  {
   "cell_type": "raw",
   "metadata": {},
   "source": [
    "hormed = pload('horarios_leitura_edp.pkl')"
   ]
  },
  {
   "cell_type": "code",
   "execution_count": 56,
   "metadata": {},
   "outputs": [
    {
     "ename": "IndexError",
     "evalue": "list index out of range",
     "output_type": "error",
     "traceback": [
      "\u001b[0;31m---------------------------------------------------------------------------\u001b[0m",
      "\u001b[0;31mIndexError\u001b[0m                                Traceback (most recent call last)",
      "\u001b[0;32m<ipython-input-56-3acef49f0853>\u001b[0m in \u001b[0;36m<module>\u001b[0;34m()\u001b[0m\n\u001b[1;32m      3\u001b[0m     \u001b[0;32mfor\u001b[0m \u001b[0mk1\u001b[0m\u001b[0;34m,\u001b[0m\u001b[0mv2\u001b[0m \u001b[0;32min\u001b[0m \u001b[0mv\u001b[0m\u001b[0;34m.\u001b[0m\u001b[0mitems\u001b[0m\u001b[0;34m(\u001b[0m\u001b[0;34m)\u001b[0m\u001b[0;34m:\u001b[0m\u001b[0;34m\u001b[0m\u001b[0m\n\u001b[1;32m      4\u001b[0m         \u001b[0ma\u001b[0m \u001b[0;34m=\u001b[0m \u001b[0mv2\u001b[0m\u001b[0;34m.\u001b[0m\u001b[0msplit\u001b[0m\u001b[0;34m(\u001b[0m\u001b[0;34m'/'\u001b[0m\u001b[0;34m)\u001b[0m\u001b[0;34m\u001b[0m\u001b[0m\n\u001b[0;32m----> 5\u001b[0;31m         \u001b[0mv\u001b[0m\u001b[0;34m[\u001b[0m\u001b[0mk1\u001b[0m\u001b[0;34m]\u001b[0m \u001b[0;34m=\u001b[0m \u001b[0ma\u001b[0m\u001b[0;34m[\u001b[0m\u001b[0;36m2\u001b[0m\u001b[0;34m]\u001b[0m\u001b[0;34m+\u001b[0m\u001b[0;34m'-'\u001b[0m\u001b[0;34m+\u001b[0m\u001b[0ma\u001b[0m\u001b[0;34m[\u001b[0m\u001b[0;36m1\u001b[0m\u001b[0;34m]\u001b[0m\u001b[0;34m+\u001b[0m\u001b[0;34m'-'\u001b[0m\u001b[0;34m+\u001b[0m\u001b[0ma\u001b[0m\u001b[0;34m[\u001b[0m\u001b[0;36m0\u001b[0m\u001b[0;34m]\u001b[0m\u001b[0;34m\u001b[0m\u001b[0m\n\u001b[0m",
      "\u001b[0;31mIndexError\u001b[0m: list index out of range"
     ]
    }
   ],
   "source": [
    "hormed2 = hormed.copy()\n",
    "for k,v in hormed2.items():\n",
    "    for k1,v2 in v.items():\n",
    "        a = v2.split('/')\n",
    "        v[k1] = a[2]+'-'+a[1]+'-'+a[0]"
   ]
  },
  {
   "cell_type": "markdown",
   "metadata": {},
   "source": [
    "---"
   ]
  },
  {
   "cell_type": "code",
   "execution_count": 11,
   "metadata": {},
   "outputs": [],
   "source": [
    "mmt = mm.T"
   ]
  },
  {
   "cell_type": "code",
   "execution_count": 12,
   "metadata": {},
   "outputs": [
    {
     "data": {
      "text/plain": [
       "(1528, (1545, 2952), 1528)"
      ]
     },
     "execution_count": 12,
     "metadata": {},
     "output_type": "execute_result"
    }
   ],
   "source": [
    "mmt.index.nunique(), mmt.shape, len(scols)"
   ]
  },
  {
   "cell_type": "code",
   "execution_count": 13,
   "metadata": {},
   "outputs": [
    {
     "data": {
      "text/html": [
       "<div>\n",
       "<style scoped>\n",
       "    .dataframe tbody tr th:only-of-type {\n",
       "        vertical-align: middle;\n",
       "    }\n",
       "\n",
       "    .dataframe tbody tr th {\n",
       "        vertical-align: top;\n",
       "    }\n",
       "\n",
       "    .dataframe thead th {\n",
       "        text-align: right;\n",
       "    }\n",
       "</style>\n",
       "<table border=\"1\" class=\"dataframe\">\n",
       "  <thead>\n",
       "    <tr style=\"text-align: right;\">\n",
       "      <th>DATA/Hora</th>\n",
       "      <th>2019-04-01 01:00:00</th>\n",
       "      <th>2019-04-01 02:00:00</th>\n",
       "      <th>2019-04-01 03:00:00</th>\n",
       "      <th>2019-04-01 04:00:00</th>\n",
       "      <th>2019-04-01 05:00:00</th>\n",
       "      <th>2019-04-01 06:00:00</th>\n",
       "      <th>2019-04-01 07:00:00</th>\n",
       "      <th>2019-04-01 08:00:00</th>\n",
       "      <th>2019-04-01 09:00:00</th>\n",
       "      <th>2019-04-01 10:00:00</th>\n",
       "      <th>...</th>\n",
       "      <th>2019-08-01 15:00:00</th>\n",
       "      <th>2019-08-01 16:00:00</th>\n",
       "      <th>2019-08-01 17:00:00</th>\n",
       "      <th>2019-08-01 18:00:00</th>\n",
       "      <th>2019-08-01 19:00:00</th>\n",
       "      <th>2019-08-01 20:00:00</th>\n",
       "      <th>2019-08-01 21:00:00</th>\n",
       "      <th>2019-08-01 22:00:00</th>\n",
       "      <th>2019-08-01 23:00:00</th>\n",
       "      <th>2019-08-02 00:00:00</th>\n",
       "    </tr>\n",
       "  </thead>\n",
       "  <tbody>\n",
       "    <tr>\n",
       "      <th>7266674</th>\n",
       "      <td>2.54</td>\n",
       "      <td>2.59</td>\n",
       "      <td>2.52</td>\n",
       "      <td>2.45</td>\n",
       "      <td>3.70</td>\n",
       "      <td>5.78</td>\n",
       "      <td>3.79</td>\n",
       "      <td>3.26</td>\n",
       "      <td>5.28</td>\n",
       "      <td>6.38</td>\n",
       "      <td>...</td>\n",
       "      <td>4.49</td>\n",
       "      <td>4.54</td>\n",
       "      <td>3.62</td>\n",
       "      <td>5.11</td>\n",
       "      <td>4.44</td>\n",
       "      <td>4.85</td>\n",
       "      <td>5.69</td>\n",
       "      <td>3.70</td>\n",
       "      <td>5.64</td>\n",
       "      <td>3.67</td>\n",
       "    </tr>\n",
       "    <tr>\n",
       "      <th>7266923</th>\n",
       "      <td>NaN</td>\n",
       "      <td>NaN</td>\n",
       "      <td>NaN</td>\n",
       "      <td>NaN</td>\n",
       "      <td>NaN</td>\n",
       "      <td>NaN</td>\n",
       "      <td>NaN</td>\n",
       "      <td>NaN</td>\n",
       "      <td>NaN</td>\n",
       "      <td>NaN</td>\n",
       "      <td>...</td>\n",
       "      <td>NaN</td>\n",
       "      <td>NaN</td>\n",
       "      <td>NaN</td>\n",
       "      <td>NaN</td>\n",
       "      <td>NaN</td>\n",
       "      <td>NaN</td>\n",
       "      <td>NaN</td>\n",
       "      <td>NaN</td>\n",
       "      <td>NaN</td>\n",
       "      <td>NaN</td>\n",
       "    </tr>\n",
       "    <tr>\n",
       "      <th>7267331</th>\n",
       "      <td>0.31</td>\n",
       "      <td>0.36</td>\n",
       "      <td>0.34</td>\n",
       "      <td>0.34</td>\n",
       "      <td>0.36</td>\n",
       "      <td>0.17</td>\n",
       "      <td>0.12</td>\n",
       "      <td>28.30</td>\n",
       "      <td>21.12</td>\n",
       "      <td>0.53</td>\n",
       "      <td>...</td>\n",
       "      <td>NaN</td>\n",
       "      <td>NaN</td>\n",
       "      <td>NaN</td>\n",
       "      <td>NaN</td>\n",
       "      <td>NaN</td>\n",
       "      <td>NaN</td>\n",
       "      <td>NaN</td>\n",
       "      <td>NaN</td>\n",
       "      <td>NaN</td>\n",
       "      <td>NaN</td>\n",
       "    </tr>\n",
       "    <tr>\n",
       "      <th>7267651</th>\n",
       "      <td>0.34</td>\n",
       "      <td>0.36</td>\n",
       "      <td>0.36</td>\n",
       "      <td>0.34</td>\n",
       "      <td>0.36</td>\n",
       "      <td>0.36</td>\n",
       "      <td>0.36</td>\n",
       "      <td>0.34</td>\n",
       "      <td>0.36</td>\n",
       "      <td>0.36</td>\n",
       "      <td>...</td>\n",
       "      <td>2.50</td>\n",
       "      <td>2.47</td>\n",
       "      <td>2.28</td>\n",
       "      <td>2.66</td>\n",
       "      <td>2.93</td>\n",
       "      <td>2.88</td>\n",
       "      <td>2.90</td>\n",
       "      <td>1.49</td>\n",
       "      <td>0.79</td>\n",
       "      <td>0.65</td>\n",
       "    </tr>\n",
       "    <tr>\n",
       "      <th>7311230</th>\n",
       "      <td>NaN</td>\n",
       "      <td>NaN</td>\n",
       "      <td>NaN</td>\n",
       "      <td>NaN</td>\n",
       "      <td>NaN</td>\n",
       "      <td>NaN</td>\n",
       "      <td>NaN</td>\n",
       "      <td>NaN</td>\n",
       "      <td>NaN</td>\n",
       "      <td>NaN</td>\n",
       "      <td>...</td>\n",
       "      <td>NaN</td>\n",
       "      <td>NaN</td>\n",
       "      <td>NaN</td>\n",
       "      <td>NaN</td>\n",
       "      <td>NaN</td>\n",
       "      <td>NaN</td>\n",
       "      <td>NaN</td>\n",
       "      <td>NaN</td>\n",
       "      <td>NaN</td>\n",
       "      <td>NaN</td>\n",
       "    </tr>\n",
       "  </tbody>\n",
       "</table>\n",
       "<p>5 rows × 2952 columns</p>\n",
       "</div>"
      ],
      "text/plain": [
       "DATA/Hora  2019-04-01 01:00:00  2019-04-01 02:00:00  2019-04-01 03:00:00  \\\n",
       "7266674                   2.54                 2.59                 2.52   \n",
       "7266923                    NaN                  NaN                  NaN   \n",
       "7267331                   0.31                 0.36                 0.34   \n",
       "7267651                   0.34                 0.36                 0.36   \n",
       "7311230                    NaN                  NaN                  NaN   \n",
       "\n",
       "DATA/Hora  2019-04-01 04:00:00  2019-04-01 05:00:00  2019-04-01 06:00:00  \\\n",
       "7266674                   2.45                 3.70                 5.78   \n",
       "7266923                    NaN                  NaN                  NaN   \n",
       "7267331                   0.34                 0.36                 0.17   \n",
       "7267651                   0.34                 0.36                 0.36   \n",
       "7311230                    NaN                  NaN                  NaN   \n",
       "\n",
       "DATA/Hora  2019-04-01 07:00:00  2019-04-01 08:00:00  2019-04-01 09:00:00  \\\n",
       "7266674                   3.79                 3.26                 5.28   \n",
       "7266923                    NaN                  NaN                  NaN   \n",
       "7267331                   0.12                28.30                21.12   \n",
       "7267651                   0.36                 0.34                 0.36   \n",
       "7311230                    NaN                  NaN                  NaN   \n",
       "\n",
       "DATA/Hora  2019-04-01 10:00:00  ...  2019-08-01 15:00:00  2019-08-01 16:00:00  \\\n",
       "7266674                   6.38  ...                 4.49                 4.54   \n",
       "7266923                    NaN  ...                  NaN                  NaN   \n",
       "7267331                   0.53  ...                  NaN                  NaN   \n",
       "7267651                   0.36  ...                 2.50                 2.47   \n",
       "7311230                    NaN  ...                  NaN                  NaN   \n",
       "\n",
       "DATA/Hora  2019-08-01 17:00:00  2019-08-01 18:00:00  2019-08-01 19:00:00  \\\n",
       "7266674                   3.62                 5.11                 4.44   \n",
       "7266923                    NaN                  NaN                  NaN   \n",
       "7267331                    NaN                  NaN                  NaN   \n",
       "7267651                   2.28                 2.66                 2.93   \n",
       "7311230                    NaN                  NaN                  NaN   \n",
       "\n",
       "DATA/Hora  2019-08-01 20:00:00  2019-08-01 21:00:00  2019-08-01 22:00:00  \\\n",
       "7266674                   4.85                 5.69                 3.70   \n",
       "7266923                    NaN                  NaN                  NaN   \n",
       "7267331                    NaN                  NaN                  NaN   \n",
       "7267651                   2.88                 2.90                 1.49   \n",
       "7311230                    NaN                  NaN                  NaN   \n",
       "\n",
       "DATA/Hora  2019-08-01 23:00:00  2019-08-02 00:00:00  \n",
       "7266674                   5.64                 3.67  \n",
       "7266923                    NaN                  NaN  \n",
       "7267331                    NaN                  NaN  \n",
       "7267651                   0.79                 0.65  \n",
       "7311230                    NaN                  NaN  \n",
       "\n",
       "[5 rows x 2952 columns]"
      ]
     },
     "execution_count": 13,
     "metadata": {},
     "output_type": "execute_result"
    }
   ],
   "source": [
    "mmt.head()"
   ]
  },
  {
   "cell_type": "code",
   "execution_count": 14,
   "metadata": {},
   "outputs": [],
   "source": [
    "mmt.index = mmt.index.map(scols)"
   ]
  },
  {
   "cell_type": "code",
   "execution_count": 15,
   "metadata": {},
   "outputs": [
    {
     "data": {
      "text/html": [
       "<div>\n",
       "<style scoped>\n",
       "    .dataframe tbody tr th:only-of-type {\n",
       "        vertical-align: middle;\n",
       "    }\n",
       "\n",
       "    .dataframe tbody tr th {\n",
       "        vertical-align: top;\n",
       "    }\n",
       "\n",
       "    .dataframe thead th {\n",
       "        text-align: right;\n",
       "    }\n",
       "</style>\n",
       "<table border=\"1\" class=\"dataframe\">\n",
       "  <thead>\n",
       "    <tr style=\"text-align: right;\">\n",
       "      <th>DATA/Hora</th>\n",
       "      <th>2019-04-01 01:00:00</th>\n",
       "      <th>2019-04-01 02:00:00</th>\n",
       "      <th>2019-04-01 03:00:00</th>\n",
       "      <th>2019-04-01 04:00:00</th>\n",
       "      <th>2019-04-01 05:00:00</th>\n",
       "      <th>2019-04-01 06:00:00</th>\n",
       "      <th>2019-04-01 07:00:00</th>\n",
       "      <th>2019-04-01 08:00:00</th>\n",
       "      <th>2019-04-01 09:00:00</th>\n",
       "      <th>2019-04-01 10:00:00</th>\n",
       "      <th>...</th>\n",
       "      <th>2019-08-01 15:00:00</th>\n",
       "      <th>2019-08-01 16:00:00</th>\n",
       "      <th>2019-08-01 17:00:00</th>\n",
       "      <th>2019-08-01 18:00:00</th>\n",
       "      <th>2019-08-01 19:00:00</th>\n",
       "      <th>2019-08-01 20:00:00</th>\n",
       "      <th>2019-08-01 21:00:00</th>\n",
       "      <th>2019-08-01 22:00:00</th>\n",
       "      <th>2019-08-01 23:00:00</th>\n",
       "      <th>2019-08-02 00:00:00</th>\n",
       "    </tr>\n",
       "  </thead>\n",
       "  <tbody>\n",
       "    <tr>\n",
       "      <th>BTI411858680</th>\n",
       "      <td>2.54</td>\n",
       "      <td>2.59</td>\n",
       "      <td>2.52</td>\n",
       "      <td>2.45</td>\n",
       "      <td>3.70</td>\n",
       "      <td>5.78</td>\n",
       "      <td>3.79</td>\n",
       "      <td>3.26</td>\n",
       "      <td>5.28</td>\n",
       "      <td>6.38</td>\n",
       "      <td>...</td>\n",
       "      <td>4.49</td>\n",
       "      <td>4.54</td>\n",
       "      <td>3.62</td>\n",
       "      <td>5.11</td>\n",
       "      <td>4.44</td>\n",
       "      <td>4.85</td>\n",
       "      <td>5.69</td>\n",
       "      <td>3.70</td>\n",
       "      <td>5.64</td>\n",
       "      <td>3.67</td>\n",
       "    </tr>\n",
       "    <tr>\n",
       "      <th>BTI410000588</th>\n",
       "      <td>NaN</td>\n",
       "      <td>NaN</td>\n",
       "      <td>NaN</td>\n",
       "      <td>NaN</td>\n",
       "      <td>NaN</td>\n",
       "      <td>NaN</td>\n",
       "      <td>NaN</td>\n",
       "      <td>NaN</td>\n",
       "      <td>NaN</td>\n",
       "      <td>NaN</td>\n",
       "      <td>...</td>\n",
       "      <td>NaN</td>\n",
       "      <td>NaN</td>\n",
       "      <td>NaN</td>\n",
       "      <td>NaN</td>\n",
       "      <td>NaN</td>\n",
       "      <td>NaN</td>\n",
       "      <td>NaN</td>\n",
       "      <td>NaN</td>\n",
       "      <td>NaN</td>\n",
       "      <td>NaN</td>\n",
       "    </tr>\n",
       "    <tr>\n",
       "      <th>BTI413182519</th>\n",
       "      <td>0.31</td>\n",
       "      <td>0.36</td>\n",
       "      <td>0.34</td>\n",
       "      <td>0.34</td>\n",
       "      <td>0.36</td>\n",
       "      <td>0.17</td>\n",
       "      <td>0.12</td>\n",
       "      <td>28.30</td>\n",
       "      <td>21.12</td>\n",
       "      <td>0.53</td>\n",
       "      <td>...</td>\n",
       "      <td>NaN</td>\n",
       "      <td>NaN</td>\n",
       "      <td>NaN</td>\n",
       "      <td>NaN</td>\n",
       "      <td>NaN</td>\n",
       "      <td>NaN</td>\n",
       "      <td>NaN</td>\n",
       "      <td>NaN</td>\n",
       "      <td>NaN</td>\n",
       "      <td>NaN</td>\n",
       "    </tr>\n",
       "    <tr>\n",
       "      <th>BTI412660195</th>\n",
       "      <td>0.34</td>\n",
       "      <td>0.36</td>\n",
       "      <td>0.36</td>\n",
       "      <td>0.34</td>\n",
       "      <td>0.36</td>\n",
       "      <td>0.36</td>\n",
       "      <td>0.36</td>\n",
       "      <td>0.34</td>\n",
       "      <td>0.36</td>\n",
       "      <td>0.36</td>\n",
       "      <td>...</td>\n",
       "      <td>2.50</td>\n",
       "      <td>2.47</td>\n",
       "      <td>2.28</td>\n",
       "      <td>2.66</td>\n",
       "      <td>2.93</td>\n",
       "      <td>2.88</td>\n",
       "      <td>2.90</td>\n",
       "      <td>1.49</td>\n",
       "      <td>0.79</td>\n",
       "      <td>0.65</td>\n",
       "    </tr>\n",
       "    <tr>\n",
       "      <th>BTI420738351</th>\n",
       "      <td>NaN</td>\n",
       "      <td>NaN</td>\n",
       "      <td>NaN</td>\n",
       "      <td>NaN</td>\n",
       "      <td>NaN</td>\n",
       "      <td>NaN</td>\n",
       "      <td>NaN</td>\n",
       "      <td>NaN</td>\n",
       "      <td>NaN</td>\n",
       "      <td>NaN</td>\n",
       "      <td>...</td>\n",
       "      <td>NaN</td>\n",
       "      <td>NaN</td>\n",
       "      <td>NaN</td>\n",
       "      <td>NaN</td>\n",
       "      <td>NaN</td>\n",
       "      <td>NaN</td>\n",
       "      <td>NaN</td>\n",
       "      <td>NaN</td>\n",
       "      <td>NaN</td>\n",
       "      <td>NaN</td>\n",
       "    </tr>\n",
       "  </tbody>\n",
       "</table>\n",
       "<p>5 rows × 2952 columns</p>\n",
       "</div>"
      ],
      "text/plain": [
       "DATA/Hora     2019-04-01 01:00:00  2019-04-01 02:00:00  2019-04-01 03:00:00  \\\n",
       "BTI411858680                 2.54                 2.59                 2.52   \n",
       "BTI410000588                  NaN                  NaN                  NaN   \n",
       "BTI413182519                 0.31                 0.36                 0.34   \n",
       "BTI412660195                 0.34                 0.36                 0.36   \n",
       "BTI420738351                  NaN                  NaN                  NaN   \n",
       "\n",
       "DATA/Hora     2019-04-01 04:00:00  2019-04-01 05:00:00  2019-04-01 06:00:00  \\\n",
       "BTI411858680                 2.45                 3.70                 5.78   \n",
       "BTI410000588                  NaN                  NaN                  NaN   \n",
       "BTI413182519                 0.34                 0.36                 0.17   \n",
       "BTI412660195                 0.34                 0.36                 0.36   \n",
       "BTI420738351                  NaN                  NaN                  NaN   \n",
       "\n",
       "DATA/Hora     2019-04-01 07:00:00  2019-04-01 08:00:00  2019-04-01 09:00:00  \\\n",
       "BTI411858680                 3.79                 3.26                 5.28   \n",
       "BTI410000588                  NaN                  NaN                  NaN   \n",
       "BTI413182519                 0.12                28.30                21.12   \n",
       "BTI412660195                 0.36                 0.34                 0.36   \n",
       "BTI420738351                  NaN                  NaN                  NaN   \n",
       "\n",
       "DATA/Hora     2019-04-01 10:00:00  ...  2019-08-01 15:00:00  \\\n",
       "BTI411858680                 6.38  ...                 4.49   \n",
       "BTI410000588                  NaN  ...                  NaN   \n",
       "BTI413182519                 0.53  ...                  NaN   \n",
       "BTI412660195                 0.36  ...                 2.50   \n",
       "BTI420738351                  NaN  ...                  NaN   \n",
       "\n",
       "DATA/Hora     2019-08-01 16:00:00  2019-08-01 17:00:00  2019-08-01 18:00:00  \\\n",
       "BTI411858680                 4.54                 3.62                 5.11   \n",
       "BTI410000588                  NaN                  NaN                  NaN   \n",
       "BTI413182519                  NaN                  NaN                  NaN   \n",
       "BTI412660195                 2.47                 2.28                 2.66   \n",
       "BTI420738351                  NaN                  NaN                  NaN   \n",
       "\n",
       "DATA/Hora     2019-08-01 19:00:00  2019-08-01 20:00:00  2019-08-01 21:00:00  \\\n",
       "BTI411858680                 4.44                 4.85                 5.69   \n",
       "BTI410000588                  NaN                  NaN                  NaN   \n",
       "BTI413182519                  NaN                  NaN                  NaN   \n",
       "BTI412660195                 2.93                 2.88                 2.90   \n",
       "BTI420738351                  NaN                  NaN                  NaN   \n",
       "\n",
       "DATA/Hora     2019-08-01 22:00:00  2019-08-01 23:00:00  2019-08-02 00:00:00  \n",
       "BTI411858680                 3.70                 5.64                 3.67  \n",
       "BTI410000588                  NaN                  NaN                  NaN  \n",
       "BTI413182519                  NaN                  NaN                  NaN  \n",
       "BTI412660195                 1.49                 0.79                 0.65  \n",
       "BTI420738351                  NaN                  NaN                  NaN  \n",
       "\n",
       "[5 rows x 2952 columns]"
      ]
     },
     "execution_count": 15,
     "metadata": {},
     "output_type": "execute_result"
    }
   ],
   "source": [
    "mmt.head()"
   ]
  },
  {
   "cell_type": "code",
   "execution_count": 16,
   "metadata": {},
   "outputs": [
    {
     "data": {
      "text/plain": [
       "(1462, (1545, 2952))"
      ]
     },
     "execution_count": 16,
     "metadata": {},
     "output_type": "execute_result"
    }
   ],
   "source": [
    "mmt.index.nunique(), mmt.shape"
   ]
  },
  {
   "cell_type": "code",
   "execution_count": 17,
   "metadata": {},
   "outputs": [],
   "source": [
    "mmt = mmt.groupby(level=0).max()"
   ]
  },
  {
   "cell_type": "code",
   "execution_count": 18,
   "metadata": {},
   "outputs": [
    {
     "data": {
      "text/html": [
       "<div>\n",
       "<style scoped>\n",
       "    .dataframe tbody tr th:only-of-type {\n",
       "        vertical-align: middle;\n",
       "    }\n",
       "\n",
       "    .dataframe tbody tr th {\n",
       "        vertical-align: top;\n",
       "    }\n",
       "\n",
       "    .dataframe thead th {\n",
       "        text-align: right;\n",
       "    }\n",
       "</style>\n",
       "<table border=\"1\" class=\"dataframe\">\n",
       "  <thead>\n",
       "    <tr style=\"text-align: right;\">\n",
       "      <th>DATA/Hora</th>\n",
       "      <th>2019-04-01 01:00:00</th>\n",
       "      <th>2019-04-01 02:00:00</th>\n",
       "      <th>2019-04-01 03:00:00</th>\n",
       "      <th>2019-04-01 04:00:00</th>\n",
       "      <th>2019-04-01 05:00:00</th>\n",
       "      <th>2019-04-01 06:00:00</th>\n",
       "      <th>2019-04-01 07:00:00</th>\n",
       "      <th>2019-04-01 08:00:00</th>\n",
       "      <th>2019-04-01 09:00:00</th>\n",
       "      <th>2019-04-01 10:00:00</th>\n",
       "      <th>...</th>\n",
       "      <th>2019-08-01 15:00:00</th>\n",
       "      <th>2019-08-01 16:00:00</th>\n",
       "      <th>2019-08-01 17:00:00</th>\n",
       "      <th>2019-08-01 18:00:00</th>\n",
       "      <th>2019-08-01 19:00:00</th>\n",
       "      <th>2019-08-01 20:00:00</th>\n",
       "      <th>2019-08-01 21:00:00</th>\n",
       "      <th>2019-08-01 22:00:00</th>\n",
       "      <th>2019-08-01 23:00:00</th>\n",
       "      <th>2019-08-02 00:00:00</th>\n",
       "    </tr>\n",
       "  </thead>\n",
       "  <tbody>\n",
       "    <tr>\n",
       "      <th>BT2A400076589</th>\n",
       "      <td>3.08</td>\n",
       "      <td>2.80</td>\n",
       "      <td>2.70</td>\n",
       "      <td>2.72</td>\n",
       "      <td>2.69</td>\n",
       "      <td>2.72</td>\n",
       "      <td>5.73</td>\n",
       "      <td>6.58</td>\n",
       "      <td>20.84</td>\n",
       "      <td>19.95</td>\n",
       "      <td>...</td>\n",
       "      <td>1.76</td>\n",
       "      <td>1.47</td>\n",
       "      <td>1.55</td>\n",
       "      <td>1.59</td>\n",
       "      <td>2.18</td>\n",
       "      <td>2.34</td>\n",
       "      <td>2.18</td>\n",
       "      <td>2.15</td>\n",
       "      <td>2.10</td>\n",
       "      <td>2.21</td>\n",
       "    </tr>\n",
       "    <tr>\n",
       "      <th>BT2A400085952</th>\n",
       "      <td>2.15</td>\n",
       "      <td>2.01</td>\n",
       "      <td>2.13</td>\n",
       "      <td>2.19</td>\n",
       "      <td>1.78</td>\n",
       "      <td>1.66</td>\n",
       "      <td>1.99</td>\n",
       "      <td>7.02</td>\n",
       "      <td>13.06</td>\n",
       "      <td>14.03</td>\n",
       "      <td>...</td>\n",
       "      <td>0.89</td>\n",
       "      <td>0.86</td>\n",
       "      <td>1.01</td>\n",
       "      <td>1.04</td>\n",
       "      <td>0.99</td>\n",
       "      <td>1.87</td>\n",
       "      <td>1.13</td>\n",
       "      <td>1.14</td>\n",
       "      <td>1.35</td>\n",
       "      <td>1.40</td>\n",
       "    </tr>\n",
       "    <tr>\n",
       "      <th>BT2A400086240</th>\n",
       "      <td>0.45</td>\n",
       "      <td>0.47</td>\n",
       "      <td>0.46</td>\n",
       "      <td>0.46</td>\n",
       "      <td>0.46</td>\n",
       "      <td>0.45</td>\n",
       "      <td>0.45</td>\n",
       "      <td>1.35</td>\n",
       "      <td>1.86</td>\n",
       "      <td>2.26</td>\n",
       "      <td>...</td>\n",
       "      <td>0.53</td>\n",
       "      <td>0.50</td>\n",
       "      <td>0.50</td>\n",
       "      <td>0.50</td>\n",
       "      <td>0.49</td>\n",
       "      <td>0.39</td>\n",
       "      <td>0.35</td>\n",
       "      <td>0.45</td>\n",
       "      <td>0.49</td>\n",
       "      <td>0.50</td>\n",
       "    </tr>\n",
       "    <tr>\n",
       "      <th>BT2A400091987</th>\n",
       "      <td>0.64</td>\n",
       "      <td>0.63</td>\n",
       "      <td>0.51</td>\n",
       "      <td>0.53</td>\n",
       "      <td>0.54</td>\n",
       "      <td>0.45</td>\n",
       "      <td>1.31</td>\n",
       "      <td>4.16</td>\n",
       "      <td>5.46</td>\n",
       "      <td>5.12</td>\n",
       "      <td>...</td>\n",
       "      <td>0.40</td>\n",
       "      <td>0.46</td>\n",
       "      <td>0.40</td>\n",
       "      <td>0.37</td>\n",
       "      <td>0.44</td>\n",
       "      <td>0.36</td>\n",
       "      <td>0.46</td>\n",
       "      <td>0.42</td>\n",
       "      <td>0.42</td>\n",
       "      <td>0.39</td>\n",
       "    </tr>\n",
       "    <tr>\n",
       "      <th>BT2A400104752</th>\n",
       "      <td>0.40</td>\n",
       "      <td>0.48</td>\n",
       "      <td>0.39</td>\n",
       "      <td>0.48</td>\n",
       "      <td>0.39</td>\n",
       "      <td>0.39</td>\n",
       "      <td>0.63</td>\n",
       "      <td>1.44</td>\n",
       "      <td>2.07</td>\n",
       "      <td>5.36</td>\n",
       "      <td>...</td>\n",
       "      <td>0.32</td>\n",
       "      <td>0.27</td>\n",
       "      <td>0.23</td>\n",
       "      <td>0.30</td>\n",
       "      <td>0.24</td>\n",
       "      <td>0.29</td>\n",
       "      <td>0.30</td>\n",
       "      <td>0.35</td>\n",
       "      <td>0.20</td>\n",
       "      <td>0.34</td>\n",
       "    </tr>\n",
       "  </tbody>\n",
       "</table>\n",
       "<p>5 rows × 2952 columns</p>\n",
       "</div>"
      ],
      "text/plain": [
       "DATA/Hora      2019-04-01 01:00:00  2019-04-01 02:00:00  2019-04-01 03:00:00  \\\n",
       "BT2A400076589                 3.08                 2.80                 2.70   \n",
       "BT2A400085952                 2.15                 2.01                 2.13   \n",
       "BT2A400086240                 0.45                 0.47                 0.46   \n",
       "BT2A400091987                 0.64                 0.63                 0.51   \n",
       "BT2A400104752                 0.40                 0.48                 0.39   \n",
       "\n",
       "DATA/Hora      2019-04-01 04:00:00  2019-04-01 05:00:00  2019-04-01 06:00:00  \\\n",
       "BT2A400076589                 2.72                 2.69                 2.72   \n",
       "BT2A400085952                 2.19                 1.78                 1.66   \n",
       "BT2A400086240                 0.46                 0.46                 0.45   \n",
       "BT2A400091987                 0.53                 0.54                 0.45   \n",
       "BT2A400104752                 0.48                 0.39                 0.39   \n",
       "\n",
       "DATA/Hora      2019-04-01 07:00:00  2019-04-01 08:00:00  2019-04-01 09:00:00  \\\n",
       "BT2A400076589                 5.73                 6.58                20.84   \n",
       "BT2A400085952                 1.99                 7.02                13.06   \n",
       "BT2A400086240                 0.45                 1.35                 1.86   \n",
       "BT2A400091987                 1.31                 4.16                 5.46   \n",
       "BT2A400104752                 0.63                 1.44                 2.07   \n",
       "\n",
       "DATA/Hora      2019-04-01 10:00:00  ...  2019-08-01 15:00:00  \\\n",
       "BT2A400076589                19.95  ...                 1.76   \n",
       "BT2A400085952                14.03  ...                 0.89   \n",
       "BT2A400086240                 2.26  ...                 0.53   \n",
       "BT2A400091987                 5.12  ...                 0.40   \n",
       "BT2A400104752                 5.36  ...                 0.32   \n",
       "\n",
       "DATA/Hora      2019-08-01 16:00:00  2019-08-01 17:00:00  2019-08-01 18:00:00  \\\n",
       "BT2A400076589                 1.47                 1.55                 1.59   \n",
       "BT2A400085952                 0.86                 1.01                 1.04   \n",
       "BT2A400086240                 0.50                 0.50                 0.50   \n",
       "BT2A400091987                 0.46                 0.40                 0.37   \n",
       "BT2A400104752                 0.27                 0.23                 0.30   \n",
       "\n",
       "DATA/Hora      2019-08-01 19:00:00  2019-08-01 20:00:00  2019-08-01 21:00:00  \\\n",
       "BT2A400076589                 2.18                 2.34                 2.18   \n",
       "BT2A400085952                 0.99                 1.87                 1.13   \n",
       "BT2A400086240                 0.49                 0.39                 0.35   \n",
       "BT2A400091987                 0.44                 0.36                 0.46   \n",
       "BT2A400104752                 0.24                 0.29                 0.30   \n",
       "\n",
       "DATA/Hora      2019-08-01 22:00:00  2019-08-01 23:00:00  2019-08-02 00:00:00  \n",
       "BT2A400076589                 2.15                 2.10                 2.21  \n",
       "BT2A400085952                 1.14                 1.35                 1.40  \n",
       "BT2A400086240                 0.45                 0.49                 0.50  \n",
       "BT2A400091987                 0.42                 0.42                 0.39  \n",
       "BT2A400104752                 0.35                 0.20                 0.34  \n",
       "\n",
       "[5 rows x 2952 columns]"
      ]
     },
     "execution_count": 18,
     "metadata": {},
     "output_type": "execute_result"
    }
   ],
   "source": [
    "mmt.head()"
   ]
  },
  {
   "cell_type": "code",
   "execution_count": 19,
   "metadata": {},
   "outputs": [
    {
     "data": {
      "text/plain": [
       "(1462, (1462, 2952))"
      ]
     },
     "execution_count": 19,
     "metadata": {},
     "output_type": "execute_result"
    }
   ],
   "source": [
    "mmt.index.nunique(), mmt.shape"
   ]
  },
  {
   "cell_type": "code",
   "execution_count": 20,
   "metadata": {},
   "outputs": [],
   "source": [
    "mm = mmt.T"
   ]
  },
  {
   "cell_type": "code",
   "execution_count": 21,
   "metadata": {},
   "outputs": [
    {
     "data": {
      "text/plain": [
       "(1444, (2952, 1462))"
      ]
     },
     "execution_count": 21,
     "metadata": {},
     "output_type": "execute_result"
    }
   ],
   "source": [
    "l = [i for i in mm.columns if i  in dmi.values()]\n",
    "len(l), mm.shape"
   ]
  },
  {
   "cell_type": "code",
   "execution_count": 22,
   "metadata": {},
   "outputs": [
    {
     "data": {
      "text/html": [
       "<div>\n",
       "<style scoped>\n",
       "    .dataframe tbody tr th:only-of-type {\n",
       "        vertical-align: middle;\n",
       "    }\n",
       "\n",
       "    .dataframe tbody tr th {\n",
       "        vertical-align: top;\n",
       "    }\n",
       "\n",
       "    .dataframe thead th {\n",
       "        text-align: right;\n",
       "    }\n",
       "</style>\n",
       "<table border=\"1\" class=\"dataframe\">\n",
       "  <thead>\n",
       "    <tr style=\"text-align: right;\">\n",
       "      <th></th>\n",
       "      <th>BT2A400076589</th>\n",
       "      <th>BT2A400085952</th>\n",
       "      <th>BT2A400086240</th>\n",
       "      <th>BT2A400091987</th>\n",
       "      <th>BT2A400104752</th>\n",
       "      <th>BT2A400104884</th>\n",
       "      <th>BT2A400113506</th>\n",
       "      <th>BT2A400114162</th>\n",
       "      <th>BT2A400120332</th>\n",
       "      <th>BT2A400120898</th>\n",
       "      <th>...</th>\n",
       "      <th>not_found_9756542</th>\n",
       "      <th>not_found_9756546</th>\n",
       "      <th>not_found_9756548</th>\n",
       "      <th>not_found_9756551</th>\n",
       "      <th>not_found_9756553</th>\n",
       "      <th>not_found_9756573</th>\n",
       "      <th>not_found_9756586</th>\n",
       "      <th>not_found_9756588</th>\n",
       "      <th>not_found_9756592</th>\n",
       "      <th>not_found_9756619</th>\n",
       "    </tr>\n",
       "    <tr>\n",
       "      <th>DATA/Hora</th>\n",
       "      <th></th>\n",
       "      <th></th>\n",
       "      <th></th>\n",
       "      <th></th>\n",
       "      <th></th>\n",
       "      <th></th>\n",
       "      <th></th>\n",
       "      <th></th>\n",
       "      <th></th>\n",
       "      <th></th>\n",
       "      <th></th>\n",
       "      <th></th>\n",
       "      <th></th>\n",
       "      <th></th>\n",
       "      <th></th>\n",
       "      <th></th>\n",
       "      <th></th>\n",
       "      <th></th>\n",
       "      <th></th>\n",
       "      <th></th>\n",
       "      <th></th>\n",
       "    </tr>\n",
       "  </thead>\n",
       "  <tbody>\n",
       "    <tr>\n",
       "      <th>2019-04-01 01:00:00</th>\n",
       "      <td>3.08</td>\n",
       "      <td>2.15</td>\n",
       "      <td>0.45</td>\n",
       "      <td>0.64</td>\n",
       "      <td>0.40</td>\n",
       "      <td>0.37</td>\n",
       "      <td>0.76</td>\n",
       "      <td>0.47</td>\n",
       "      <td>2.55</td>\n",
       "      <td>0.60</td>\n",
       "      <td>...</td>\n",
       "      <td>NaN</td>\n",
       "      <td>NaN</td>\n",
       "      <td>NaN</td>\n",
       "      <td>NaN</td>\n",
       "      <td>NaN</td>\n",
       "      <td>NaN</td>\n",
       "      <td>NaN</td>\n",
       "      <td>NaN</td>\n",
       "      <td>NaN</td>\n",
       "      <td>NaN</td>\n",
       "    </tr>\n",
       "    <tr>\n",
       "      <th>2019-04-01 02:00:00</th>\n",
       "      <td>2.80</td>\n",
       "      <td>2.01</td>\n",
       "      <td>0.47</td>\n",
       "      <td>0.63</td>\n",
       "      <td>0.48</td>\n",
       "      <td>0.45</td>\n",
       "      <td>0.73</td>\n",
       "      <td>0.56</td>\n",
       "      <td>2.58</td>\n",
       "      <td>0.60</td>\n",
       "      <td>...</td>\n",
       "      <td>NaN</td>\n",
       "      <td>NaN</td>\n",
       "      <td>NaN</td>\n",
       "      <td>NaN</td>\n",
       "      <td>NaN</td>\n",
       "      <td>NaN</td>\n",
       "      <td>NaN</td>\n",
       "      <td>NaN</td>\n",
       "      <td>NaN</td>\n",
       "      <td>NaN</td>\n",
       "    </tr>\n",
       "    <tr>\n",
       "      <th>2019-04-01 03:00:00</th>\n",
       "      <td>2.70</td>\n",
       "      <td>2.13</td>\n",
       "      <td>0.46</td>\n",
       "      <td>0.51</td>\n",
       "      <td>0.39</td>\n",
       "      <td>0.45</td>\n",
       "      <td>0.63</td>\n",
       "      <td>0.55</td>\n",
       "      <td>2.58</td>\n",
       "      <td>0.64</td>\n",
       "      <td>...</td>\n",
       "      <td>NaN</td>\n",
       "      <td>NaN</td>\n",
       "      <td>NaN</td>\n",
       "      <td>NaN</td>\n",
       "      <td>NaN</td>\n",
       "      <td>NaN</td>\n",
       "      <td>NaN</td>\n",
       "      <td>NaN</td>\n",
       "      <td>NaN</td>\n",
       "      <td>NaN</td>\n",
       "    </tr>\n",
       "    <tr>\n",
       "      <th>2019-04-01 04:00:00</th>\n",
       "      <td>2.72</td>\n",
       "      <td>2.19</td>\n",
       "      <td>0.46</td>\n",
       "      <td>0.53</td>\n",
       "      <td>0.48</td>\n",
       "      <td>0.28</td>\n",
       "      <td>0.33</td>\n",
       "      <td>0.55</td>\n",
       "      <td>2.53</td>\n",
       "      <td>0.65</td>\n",
       "      <td>...</td>\n",
       "      <td>NaN</td>\n",
       "      <td>NaN</td>\n",
       "      <td>NaN</td>\n",
       "      <td>NaN</td>\n",
       "      <td>NaN</td>\n",
       "      <td>NaN</td>\n",
       "      <td>NaN</td>\n",
       "      <td>NaN</td>\n",
       "      <td>NaN</td>\n",
       "      <td>NaN</td>\n",
       "    </tr>\n",
       "    <tr>\n",
       "      <th>2019-04-01 05:00:00</th>\n",
       "      <td>2.69</td>\n",
       "      <td>1.78</td>\n",
       "      <td>0.46</td>\n",
       "      <td>0.54</td>\n",
       "      <td>0.39</td>\n",
       "      <td>0.39</td>\n",
       "      <td>0.57</td>\n",
       "      <td>0.57</td>\n",
       "      <td>2.52</td>\n",
       "      <td>0.60</td>\n",
       "      <td>...</td>\n",
       "      <td>NaN</td>\n",
       "      <td>NaN</td>\n",
       "      <td>NaN</td>\n",
       "      <td>NaN</td>\n",
       "      <td>NaN</td>\n",
       "      <td>NaN</td>\n",
       "      <td>NaN</td>\n",
       "      <td>NaN</td>\n",
       "      <td>NaN</td>\n",
       "      <td>NaN</td>\n",
       "    </tr>\n",
       "  </tbody>\n",
       "</table>\n",
       "<p>5 rows × 1462 columns</p>\n",
       "</div>"
      ],
      "text/plain": [
       "                     BT2A400076589  BT2A400085952  BT2A400086240  \\\n",
       "DATA/Hora                                                          \n",
       "2019-04-01 01:00:00           3.08           2.15           0.45   \n",
       "2019-04-01 02:00:00           2.80           2.01           0.47   \n",
       "2019-04-01 03:00:00           2.70           2.13           0.46   \n",
       "2019-04-01 04:00:00           2.72           2.19           0.46   \n",
       "2019-04-01 05:00:00           2.69           1.78           0.46   \n",
       "\n",
       "                     BT2A400091987  BT2A400104752  BT2A400104884  \\\n",
       "DATA/Hora                                                          \n",
       "2019-04-01 01:00:00           0.64           0.40           0.37   \n",
       "2019-04-01 02:00:00           0.63           0.48           0.45   \n",
       "2019-04-01 03:00:00           0.51           0.39           0.45   \n",
       "2019-04-01 04:00:00           0.53           0.48           0.28   \n",
       "2019-04-01 05:00:00           0.54           0.39           0.39   \n",
       "\n",
       "                     BT2A400113506  BT2A400114162  BT2A400120332  \\\n",
       "DATA/Hora                                                          \n",
       "2019-04-01 01:00:00           0.76           0.47           2.55   \n",
       "2019-04-01 02:00:00           0.73           0.56           2.58   \n",
       "2019-04-01 03:00:00           0.63           0.55           2.58   \n",
       "2019-04-01 04:00:00           0.33           0.55           2.53   \n",
       "2019-04-01 05:00:00           0.57           0.57           2.52   \n",
       "\n",
       "                     BT2A400120898  ...  not_found_9756542  not_found_9756546  \\\n",
       "DATA/Hora                           ...                                         \n",
       "2019-04-01 01:00:00           0.60  ...                NaN                NaN   \n",
       "2019-04-01 02:00:00           0.60  ...                NaN                NaN   \n",
       "2019-04-01 03:00:00           0.64  ...                NaN                NaN   \n",
       "2019-04-01 04:00:00           0.65  ...                NaN                NaN   \n",
       "2019-04-01 05:00:00           0.60  ...                NaN                NaN   \n",
       "\n",
       "                     not_found_9756548  not_found_9756551  not_found_9756553  \\\n",
       "DATA/Hora                                                                      \n",
       "2019-04-01 01:00:00                NaN                NaN                NaN   \n",
       "2019-04-01 02:00:00                NaN                NaN                NaN   \n",
       "2019-04-01 03:00:00                NaN                NaN                NaN   \n",
       "2019-04-01 04:00:00                NaN                NaN                NaN   \n",
       "2019-04-01 05:00:00                NaN                NaN                NaN   \n",
       "\n",
       "                     not_found_9756573  not_found_9756586  not_found_9756588  \\\n",
       "DATA/Hora                                                                      \n",
       "2019-04-01 01:00:00                NaN                NaN                NaN   \n",
       "2019-04-01 02:00:00                NaN                NaN                NaN   \n",
       "2019-04-01 03:00:00                NaN                NaN                NaN   \n",
       "2019-04-01 04:00:00                NaN                NaN                NaN   \n",
       "2019-04-01 05:00:00                NaN                NaN                NaN   \n",
       "\n",
       "                     not_found_9756592  not_found_9756619  \n",
       "DATA/Hora                                                  \n",
       "2019-04-01 01:00:00                NaN                NaN  \n",
       "2019-04-01 02:00:00                NaN                NaN  \n",
       "2019-04-01 03:00:00                NaN                NaN  \n",
       "2019-04-01 04:00:00                NaN                NaN  \n",
       "2019-04-01 05:00:00                NaN                NaN  \n",
       "\n",
       "[5 rows x 1462 columns]"
      ]
     },
     "execution_count": 22,
     "metadata": {},
     "output_type": "execute_result"
    }
   ],
   "source": [
    "mm.head()"
   ]
  },
  {
   "cell_type": "code",
   "execution_count": 23,
   "metadata": {},
   "outputs": [
    {
     "data": {
      "text/plain": [
       "1462"
      ]
     },
     "execution_count": 23,
     "metadata": {},
     "output_type": "execute_result"
    }
   ],
   "source": [
    "mm.columns.nunique()"
   ]
  },
  {
   "cell_type": "markdown",
   "metadata": {},
   "source": [
    "---"
   ]
  },
  {
   "cell_type": "code",
   "execution_count": 57,
   "metadata": {},
   "outputs": [],
   "source": [
    "hm2 = {}\n",
    "for k,v in hormed2.items():\n",
    "    mes1 = sorted(list(v.keys()))[0] \n",
    "    hm2[k] = {}\n",
    "    date0 = pd.datetime.strftime(pd.datetime(year = 2019, day = 1, month = mes1), '%Y-%m-%d')  \n",
    "    hm2[k][mes1] =  ( date0 , v[mes1]) \n",
    "    for i in sorted(list(v.keys()))[1:]:\n",
    "        hm2[k][i] = (v[i-1], v[i])"
   ]
  },
  {
   "cell_type": "code",
   "execution_count": 59,
   "metadata": {},
   "outputs": [
    {
     "data": {
      "text/plain": [
       "(1462, (2952, 1462))"
      ]
     },
     "execution_count": 59,
     "metadata": {},
     "output_type": "execute_result"
    }
   ],
   "source": [
    "mm.columns.nunique(), mm.shape"
   ]
  },
  {
   "cell_type": "code",
   "execution_count": 60,
   "metadata": {},
   "outputs": [],
   "source": [
    "sum_con = {}\n",
    "nf = []\n",
    "for k,v in hm2.items():\n",
    "    if k in mm.columns:\n",
    "        sum_con[k] = {}\n",
    "        for x,y in v.items():\n",
    "            col =  mm[k].loc[y[0]:y[1]].sum()\n",
    "            sum_con[k][x] = mm.loc[y[0]:y[1],k].sum().astype(int)\n",
    "    else:\n",
    "        nf.append(k)"
   ]
  },
  {
   "cell_type": "code",
   "execution_count": 61,
   "metadata": {},
   "outputs": [],
   "source": [
    "sumdf = pd.DataFrame(sum_con).T"
   ]
  },
  {
   "cell_type": "code",
   "execution_count": 62,
   "metadata": {},
   "outputs": [
    {
     "data": {
      "text/html": [
       "<div>\n",
       "<style scoped>\n",
       "    .dataframe tbody tr th:only-of-type {\n",
       "        vertical-align: middle;\n",
       "    }\n",
       "\n",
       "    .dataframe tbody tr th {\n",
       "        vertical-align: top;\n",
       "    }\n",
       "\n",
       "    .dataframe thead th {\n",
       "        text-align: right;\n",
       "    }\n",
       "</style>\n",
       "<table border=\"1\" class=\"dataframe\">\n",
       "  <thead>\n",
       "    <tr style=\"text-align: right;\">\n",
       "      <th></th>\n",
       "      <th>4</th>\n",
       "      <th>5</th>\n",
       "      <th>6</th>\n",
       "      <th>7</th>\n",
       "    </tr>\n",
       "  </thead>\n",
       "  <tbody>\n",
       "    <tr>\n",
       "      <th>BTI400073539</th>\n",
       "      <td>20</td>\n",
       "      <td>24</td>\n",
       "      <td>23</td>\n",
       "      <td>28</td>\n",
       "    </tr>\n",
       "    <tr>\n",
       "      <th>BTI400077054</th>\n",
       "      <td>85</td>\n",
       "      <td>70</td>\n",
       "      <td>19</td>\n",
       "      <td>3</td>\n",
       "    </tr>\n",
       "    <tr>\n",
       "      <th>BTI400085863</th>\n",
       "      <td>0</td>\n",
       "      <td>0</td>\n",
       "      <td>14</td>\n",
       "      <td>264</td>\n",
       "    </tr>\n",
       "    <tr>\n",
       "      <th>BTI400086150</th>\n",
       "      <td>1736</td>\n",
       "      <td>9721</td>\n",
       "      <td>8046</td>\n",
       "      <td>0</td>\n",
       "    </tr>\n",
       "    <tr>\n",
       "      <th>BTI400086681</th>\n",
       "      <td>1224</td>\n",
       "      <td>2868</td>\n",
       "      <td>59</td>\n",
       "      <td>-109423</td>\n",
       "    </tr>\n",
       "  </tbody>\n",
       "</table>\n",
       "</div>"
      ],
      "text/plain": [
       "                 4     5     6       7\n",
       "BTI400073539    20    24    23      28\n",
       "BTI400077054    85    70    19       3\n",
       "BTI400085863     0     0    14     264\n",
       "BTI400086150  1736  9721  8046       0\n",
       "BTI400086681  1224  2868    59 -109423"
      ]
     },
     "execution_count": 62,
     "metadata": {},
     "output_type": "execute_result"
    }
   ],
   "source": [
    "sumdf.head()"
   ]
  },
  {
   "cell_type": "code",
   "execution_count": 63,
   "metadata": {},
   "outputs": [],
   "source": [
    "sumdf = sumdf.applymap(lambda x: 0 if x<0 else x)"
   ]
  },
  {
   "cell_type": "code",
   "execution_count": 64,
   "metadata": {},
   "outputs": [],
   "source": [
    "sumdf.to_csv('../../csv/soma_consumo_'+ conc +'.csv')"
   ]
  },
  {
   "cell_type": "markdown",
   "metadata": {},
   "source": [
    "---"
   ]
  },
  {
   "cell_type": "markdown",
   "metadata": {},
   "source": [
    "#### Debug"
   ]
  },
  {
   "cell_type": "code",
   "execution_count": 67,
   "metadata": {},
   "outputs": [
    {
     "data": {
      "text/plain": [
       "Index(['BT2A400076589', 'BT2A400085952', 'BT2A400086240', 'BT2A400091987',\n",
       "       'BT2A400104752', 'BT2A400104884', 'BT2A400113506', 'BT2A400114162',\n",
       "       'BT2A400120332', 'BT2A400120898', 'BT2A400132810', 'BT2A400132870',\n",
       "       'BT2A400136450', 'BT2A400260487', 'BT2A400288195', 'BT2A400291188',\n",
       "       'BT2A400300110', 'BT2A400352837', 'BT2A400357847', 'BT2A400391131'],\n",
       "      dtype='object')"
      ]
     },
     "execution_count": 67,
     "metadata": {},
     "output_type": "execute_result"
    }
   ],
   "source": [
    "mm.columns[:20]"
   ]
  },
  {
   "cell_type": "markdown",
   "metadata": {},
   "source": [
    "---"
   ]
  },
  {
   "cell_type": "code",
   "execution_count": 65,
   "metadata": {},
   "outputs": [
    {
     "data": {
      "text/plain": [
       "4    157\n",
       "5    442\n",
       "6    600\n",
       "7    403\n",
       "Name: BTI410797364, dtype: int64"
      ]
     },
     "execution_count": 65,
     "metadata": {},
     "output_type": "execute_result"
    }
   ],
   "source": [
    "sumdf.loc['BTI410797364',:]"
   ]
  },
  {
   "cell_type": "code",
   "execution_count": 34,
   "metadata": {},
   "outputs": [
    {
     "data": {
      "text/plain": [
       "<matplotlib.axes._subplots.AxesSubplot at 0x7f4a84d7d630>"
      ]
     },
     "execution_count": 34,
     "metadata": {},
     "output_type": "execute_result"
    },
    {
     "data": {
      "image/png": "[encoded data removed]",
      "text/plain": [
       "<Figure size 432x288 with 1 Axes>"
      ]
     },
     "metadata": {},
     "output_type": "display_data"
    }
   ],
   "source": [
    "mm['BTI410797364'].plot()"
   ]
  },
  {
   "cell_type": "markdown",
   "metadata": {},
   "source": [
    "---"
   ]
  },
  {
   "cell_type": "code",
   "execution_count": 68,
   "metadata": {},
   "outputs": [
    {
     "data": {
      "text/plain": [
       "4    1583\n",
       "5    3696\n",
       "6    3451\n",
       "7    2503\n",
       "Name: BT2A400120898, dtype: int64"
      ]
     },
     "execution_count": 68,
     "metadata": {},
     "output_type": "execute_result"
    }
   ],
   "source": [
    "sumdf.loc['BT2A400120898',:]"
   ]
  },
  {
   "cell_type": "code",
   "execution_count": 69,
   "metadata": {},
   "outputs": [
    {
     "data": {
      "text/plain": [
       "<matplotlib.axes._subplots.AxesSubplot at 0x7f4a7cbb1828>"
      ]
     },
     "execution_count": 69,
     "metadata": {},
     "output_type": "execute_result"
    },
    {
     "data": {
      "image/png": "[encoded data removed]",
      "text/plain": [
       "<Figure size 432x288 with 1 Axes>"
      ]
     },
     "metadata": {},
     "output_type": "display_data"
    }
   ],
   "source": [
    "mm['BT2A400120898'].plot()"
   ]
  },
  {
   "cell_type": "code",
   "execution_count": null,
   "metadata": {},
   "outputs": [],
   "source": []
  }
 ],
 "metadata": {
  "kernelspec": {
   "display_name": "Python [conda env:tensorflow_p36]",
   "language": "python",
   "name": "conda-env-tensorflow_p36-py"
  },
  "language_info": {
   "codemirror_mode": {
    "name": "ipython",
    "version": 3
   },
   "file_extension": ".py",
   "mimetype": "text/x-python",
   "name": "python",
   "nbconvert_exporter": "python",
   "pygments_lexer": "ipython3",
   "version": "3.6.5"
  }
 },
 "nbformat": 4,
 "nbformat_minor": 2
}
