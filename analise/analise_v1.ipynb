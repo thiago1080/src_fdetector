{
 "cells": [
  {
   "cell_type": "code",
   "execution_count": 150,
   "metadata": {},
   "outputs": [],
   "source": [
    "import os\n",
    "import pandas as pd\n",
    "import numpy as np"
   ]
  },
  {
   "cell_type": "markdown",
   "metadata": {},
   "source": [
    "### Ler dataframes"
   ]
  },
  {
   "cell_type": "markdown",
   "metadata": {},
   "source": [
    "#### l____________________________________________________________________________________________________________________"
   ]
  },
  {
   "cell_type": "code",
   "execution_count": 210,
   "metadata": {},
   "outputs": [],
   "source": [
    "gt = pd.read_csv('../data/groundtruth.csv',sep=';')"
   ]
  },
  {
   "cell_type": "code",
   "execution_count": 211,
   "metadata": {},
   "outputs": [],
   "source": [
    "pc='../../fdetector/outputs/concat/'\n",
    "pn='../../fdetector/outputs/all/'\n",
    "\n",
    "def readcsvs(dire):\n",
    "    o = pd.DataFrame()\n",
    "    for f in os.listdir(dire):\n",
    "        if f.split('.')[-1]=='csv':\n",
    "            o = pd.concat( (o, pd.read_csv(os.path.join(dire,f))),axis=0)\n",
    "    return o\n",
    "\n",
    "oc = readcsvs(pc)\n",
    "on = readcsvs(pn)\n",
    "o = pd.concat( (oc,on), axis=0)"
   ]
  },
  {
   "cell_type": "markdown",
   "metadata": {},
   "source": [
    "### Checagem"
   ]
  },
  {
   "cell_type": "code",
   "execution_count": 212,
   "metadata": {},
   "outputs": [
    {
     "data": {
      "text/html": [
       "<div>\n",
       "<style scoped>\n",
       "    .dataframe tbody tr th:only-of-type {\n",
       "        vertical-align: middle;\n",
       "    }\n",
       "\n",
       "    .dataframe tbody tr th {\n",
       "        vertical-align: top;\n",
       "    }\n",
       "\n",
       "    .dataframe thead th {\n",
       "        text-align: right;\n",
       "    }\n",
       "</style>\n",
       "<table border=\"1\" class=\"dataframe\">\n",
       "  <thead>\n",
       "    <tr style=\"text-align: right;\">\n",
       "      <th></th>\n",
       "      <th>Unnamed: 0</th>\n",
       "      <th>Nome</th>\n",
       "      <th>Mês</th>\n",
       "      <th>Dia_leitura</th>\n",
       "      <th>Valores faltantes_mm</th>\n",
       "      <th>leituras faltantes_mm</th>\n",
       "      <th>valores_faltantes_fasorial</th>\n",
       "      <th>leituras_faltantes_fasorial</th>\n",
       "      <th>colunas_inconsistentes_fasorial</th>\n",
       "      <th>Perfil cadastrado</th>\n",
       "      <th>...</th>\n",
       "      <th>tensão mínima (100) - dias</th>\n",
       "      <th>tensão mínima (100) - minutos</th>\n",
       "      <th>corrente zero - dias</th>\n",
       "      <th>corrente zero -minutos</th>\n",
       "      <th>corrente negativa - dias</th>\n",
       "      <th>corrente negativa -minutos</th>\n",
       "      <th>potência negativa - dias</th>\n",
       "      <th>potência negativa - minutos</th>\n",
       "      <th>anomalia de ângulos - dias</th>\n",
       "      <th>anomalia de ângulos - minutos</th>\n",
       "    </tr>\n",
       "  </thead>\n",
       "  <tbody>\n",
       "  </tbody>\n",
       "</table>\n",
       "<p>0 rows × 29 columns</p>\n",
       "</div>"
      ],
      "text/plain": [
       "Empty DataFrame\n",
       "Columns: [Unnamed: 0, Nome, Mês, Dia_leitura, Valores faltantes_mm, leituras faltantes_mm, valores_faltantes_fasorial, leituras_faltantes_fasorial, colunas_inconsistentes_fasorial, Perfil cadastrado, Categoria-Mês, Categorias-semanas, Degrau, Morro, severidade-perfil, severidade-fasorial, DIAGNÓSTICO-FINAL, Tensão zero - dias, Tensão zero - minutos, tensão mínima (100) - dias, tensão mínima (100) - minutos, corrente zero - dias, corrente zero -minutos, corrente negativa - dias, corrente negativa -minutos, potência negativa - dias, potência negativa - minutos, anomalia de ângulos - dias, anomalia de ângulos - minutos]\n",
       "Index: []\n",
       "\n",
       "[0 rows x 29 columns]"
      ]
     },
     "execution_count": 212,
     "metadata": {},
     "output_type": "execute_result"
    }
   ],
   "source": [
    "#Deve retornar vazio\n",
    "o[~o['Nome'].isin(gt['Ponto de medicao'])]"
   ]
  },
  {
   "cell_type": "markdown",
   "metadata": {},
   "source": [
    "#### l____________________________________________________________________________________________________________________"
   ]
  },
  {
   "cell_type": "markdown",
   "metadata": {},
   "source": [
    "### Selecionar abordagem\n",
    "<p>\n",
    "    <li> Abordagem 1: 'NADA APURADO' => 0 ,restante 1 (porém conserva rótulos para observação)\n",
    "    <li> Abodagem 2: 1 para Fraude ou defeito com perda.\n",
    "    <li> Abordagem 3: 1 apenas para fraude\n",
    "</p>"
   ]
  },
  {
   "cell_type": "code",
   "execution_count": 362,
   "metadata": {},
   "outputs": [],
   "source": [
    "global mapgt\n",
    "mapgt= [\n",
    "{'NADA APURADO':0, 'LOCAL VAZIO/ DESATIVADO':1, 'CLIENTE DESLIGADO OU CORTADO':2, 'DEFEITO SEM PERDA':3, 'DEFEITO GEROU PERDA':4 ,  'FRAUDE CONSTATADA':5},\n",
    "{'NADA APURADO':0, 'LOCAL VAZIO/ DESATIVADO':0, 'CLIENTE DESLIGADO OU CORTADO':0, 'DEFEITO SEM PERDA':0, 'DEFEITO GEROU PERDA':1 ,  'FRAUDE CONSTATADA':1},\n",
    "{'NADA APURADO':0, 'LOCAL VAZIO/ DESATIVADO':0, 'CLIENTE DESLIGADO OU CORTADO':0, 'DEFEITO SEM PERDA':0, 'DEFEITO GEROU PERDA':0 ,  'FRAUDE CONSTATADA':1}\n",
    "]    \n"
   ]
  },
  {
   "cell_type": "markdown",
   "metadata": {},
   "source": [
    "##### Escolher forma de selecionar os diagnśoticos"
   ]
  },
  {
   "cell_type": "code",
   "execution_count": 363,
   "metadata": {},
   "outputs": [],
   "source": [
    "\n",
    "def thresh(d,t):\n",
    "    d2 = d.copy()\n",
    "    for i in range(0,t):\n",
    "        if i in d2:\n",
    "            d2[i]=0\n",
    "    return d2\n"
   ]
  },
  {
   "cell_type": "markdown",
   "metadata": {},
   "source": [
    "Escolher diag de 2 a 4"
   ]
  },
  {
   "cell_type": "code",
   "execution_count": 370,
   "metadata": {},
   "outputs": [
    {
     "data": {
      "text/plain": [
       "{0: 0, 1: 1, 2: 2, 3: 3, 4: 4}"
      ]
     },
     "execution_count": 370,
     "metadata": {},
     "output_type": "execute_result"
    }
   ],
   "source": [
    "diag=0\n",
    "global diags0\n",
    "diags0={0:0, 1:1, 2:2, 3:3, 4:4}\n",
    "diags=thresh(diags0,diag)\n",
    "diags"
   ]
  },
  {
   "cell_type": "markdown",
   "metadata": {},
   "source": [
    "##### Selecionar abordagem abaixo (0,1 ou 2)"
   ]
  },
  {
   "cell_type": "code",
   "execution_count": 371,
   "metadata": {},
   "outputs": [],
   "source": [
    "abordagem = 0\n",
    "labels = mapgt[abordagem]"
   ]
  },
  {
   "cell_type": "markdown",
   "metadata": {},
   "source": [
    "### Preparar datasets"
   ]
  },
  {
   "cell_type": "code",
   "execution_count": 375,
   "metadata": {},
   "outputs": [],
   "source": [
    "o2, gt2 = o.copy(), gt.copy()\n",
    "o2=o2.set_index('Nome').loc[:,'DIAGNÓSTICO-FINAL'].groupby(level=0).max().sort_index()\n",
    "gt2 = gt2.set_index('Ponto de medicao').sort_index().loc[:,'Retorno de campo'].map(labels)\n",
    "gtd=gt2.to_dict()\n",
    "\n",
    "#criar dfo que tem o groundtruth e o diagnostico. Eliminar nan (9) pode ser qualquer valor.\n",
    "dfo = pd.DataFrame(o2)\n",
    "dfo.insert(loc=0,value=dfo.index.map(gtd), column='gt')\n",
    "dfo.fillna(value=9,inplace=True)\n",
    "dfo=dfo[dfo['gt']!=9]\n",
    "dfo.columns = ['groundtruth', 'diagnostico_cas']\n",
    "dfo['diagnostico_cas']=dfo['diagnostico_cas'].map(diags)\n",
    "\n",
    "#Deixar 0 e 1 para fazer análise com duas classses apenas\n",
    "dfo1=dfo.applymap(lambda x: 1 if x>0 else 0)\n",
    "\n",
    "#valores que 'batem' serão 1. Senão 0.\n",
    "dfo1.insert(loc=0, column='acerto', value=dfo1[['groundtruth','diagnostico_cas']].apply((lambda x: 1 if x[0]==x[1] else 0),axis=1))"
   ]
  },
  {
   "cell_type": "markdown",
   "metadata": {},
   "source": [
    "### Resultado"
   ]
  },
  {
   "cell_type": "code",
   "execution_count": 376,
   "metadata": {},
   "outputs": [
    {
     "name": "stdout",
     "output_type": "stream",
     "text": [
      "acertos =195 \n",
      " 91.1%\n"
     ]
    }
   ],
   "source": [
    "print('acertos ={} \\n {:.1f}%'.format(dfo1['acerto'].sum(), dfo1['acerto'].sum()/len(dfo1)*100))"
   ]
  },
  {
   "cell_type": "markdown",
   "metadata": {},
   "source": [
    "### Instalações não detectadas"
   ]
  },
  {
   "cell_type": "code",
   "execution_count": 381,
   "metadata": {},
   "outputs": [
    {
     "data": {
      "text/html": [
       "<div>\n",
       "<style scoped>\n",
       "    .dataframe tbody tr th:only-of-type {\n",
       "        vertical-align: middle;\n",
       "    }\n",
       "\n",
       "    .dataframe tbody tr th {\n",
       "        vertical-align: top;\n",
       "    }\n",
       "\n",
       "    .dataframe thead th {\n",
       "        text-align: right;\n",
       "    }\n",
       "</style>\n",
       "<table border=\"1\" class=\"dataframe\">\n",
       "  <thead>\n",
       "    <tr style=\"text-align: right;\">\n",
       "      <th></th>\n",
       "      <th>groundtruth</th>\n",
       "      <th>diagnostico_cas</th>\n",
       "    </tr>\n",
       "    <tr>\n",
       "      <th>Nome</th>\n",
       "      <th></th>\n",
       "      <th></th>\n",
       "    </tr>\n",
       "  </thead>\n",
       "  <tbody>\n",
       "    <tr>\n",
       "      <th>BT2A410102348</th>\n",
       "      <td>0.0</td>\n",
       "      <td>2</td>\n",
       "    </tr>\n",
       "    <tr>\n",
       "      <th>BT2A412948154</th>\n",
       "      <td>5.0</td>\n",
       "      <td>0</td>\n",
       "    </tr>\n",
       "    <tr>\n",
       "      <th>BTI400099015</th>\n",
       "      <td>3.0</td>\n",
       "      <td>0</td>\n",
       "    </tr>\n",
       "    <tr>\n",
       "      <th>BTI400355240</th>\n",
       "      <td>0.0</td>\n",
       "      <td>1</td>\n",
       "    </tr>\n",
       "    <tr>\n",
       "      <th>BTI410166160</th>\n",
       "      <td>4.0</td>\n",
       "      <td>0</td>\n",
       "    </tr>\n",
       "    <tr>\n",
       "      <th>BTI410458978</th>\n",
       "      <td>4.0</td>\n",
       "      <td>0</td>\n",
       "    </tr>\n",
       "    <tr>\n",
       "      <th>BTI410722548</th>\n",
       "      <td>4.0</td>\n",
       "      <td>0</td>\n",
       "    </tr>\n",
       "    <tr>\n",
       "      <th>BTI411040881</th>\n",
       "      <td>0.0</td>\n",
       "      <td>4</td>\n",
       "    </tr>\n",
       "    <tr>\n",
       "      <th>BTI411655117</th>\n",
       "      <td>0.0</td>\n",
       "      <td>2</td>\n",
       "    </tr>\n",
       "    <tr>\n",
       "      <th>BTI411981177</th>\n",
       "      <td>4.0</td>\n",
       "      <td>0</td>\n",
       "    </tr>\n",
       "    <tr>\n",
       "      <th>BTI412305424</th>\n",
       "      <td>0.0</td>\n",
       "      <td>3</td>\n",
       "    </tr>\n",
       "    <tr>\n",
       "      <th>BTI412506733</th>\n",
       "      <td>4.0</td>\n",
       "      <td>0</td>\n",
       "    </tr>\n",
       "    <tr>\n",
       "      <th>BTI414239708</th>\n",
       "      <td>4.0</td>\n",
       "      <td>0</td>\n",
       "    </tr>\n",
       "    <tr>\n",
       "      <th>BTI414295413</th>\n",
       "      <td>0.0</td>\n",
       "      <td>4</td>\n",
       "    </tr>\n",
       "    <tr>\n",
       "      <th>BTI420070269</th>\n",
       "      <td>0.0</td>\n",
       "      <td>2</td>\n",
       "    </tr>\n",
       "    <tr>\n",
       "      <th>BTI420410037</th>\n",
       "      <td>0.0</td>\n",
       "      <td>3</td>\n",
       "    </tr>\n",
       "    <tr>\n",
       "      <th>BTI420429197</th>\n",
       "      <td>0.0</td>\n",
       "      <td>3</td>\n",
       "    </tr>\n",
       "    <tr>\n",
       "      <th>BTI420859093</th>\n",
       "      <td>0.0</td>\n",
       "      <td>3</td>\n",
       "    </tr>\n",
       "    <tr>\n",
       "      <th>BTI421158453</th>\n",
       "      <td>4.0</td>\n",
       "      <td>0</td>\n",
       "    </tr>\n",
       "  </tbody>\n",
       "</table>\n",
       "</div>"
      ],
      "text/plain": [
       "               groundtruth  diagnostico_cas\n",
       "Nome                                       \n",
       "BT2A410102348          0.0                2\n",
       "BT2A412948154          5.0                0\n",
       "BTI400099015           3.0                0\n",
       "BTI400355240           0.0                1\n",
       "BTI410166160           4.0                0\n",
       "BTI410458978           4.0                0\n",
       "BTI410722548           4.0                0\n",
       "BTI411040881           0.0                4\n",
       "BTI411655117           0.0                2\n",
       "BTI411981177           4.0                0\n",
       "BTI412305424           0.0                3\n",
       "BTI412506733           4.0                0\n",
       "BTI414239708           4.0                0\n",
       "BTI414295413           0.0                4\n",
       "BTI420070269           0.0                2\n",
       "BTI420410037           0.0                3\n",
       "BTI420429197           0.0                3\n",
       "BTI420859093           0.0                3\n",
       "BTI421158453           4.0                0"
      ]
     },
     "execution_count": 381,
     "metadata": {},
     "output_type": "execute_result"
    }
   ],
   "source": [
    "# visualizar instalações com erro\n",
    "erros=dfo1[dfo1['acerto']==0].index\n",
    "dferros = dfo.loc[erros,:]\n",
    "dferros"
   ]
  },
  {
   "cell_type": "markdown",
   "metadata": {},
   "source": [
    "#### Falsos negativos"
   ]
  },
  {
   "cell_type": "code",
   "execution_count": 383,
   "metadata": {},
   "outputs": [
    {
     "data": {
      "text/html": [
       "<div>\n",
       "<style scoped>\n",
       "    .dataframe tbody tr th:only-of-type {\n",
       "        vertical-align: middle;\n",
       "    }\n",
       "\n",
       "    .dataframe tbody tr th {\n",
       "        vertical-align: top;\n",
       "    }\n",
       "\n",
       "    .dataframe thead th {\n",
       "        text-align: right;\n",
       "    }\n",
       "</style>\n",
       "<table border=\"1\" class=\"dataframe\">\n",
       "  <thead>\n",
       "    <tr style=\"text-align: right;\">\n",
       "      <th></th>\n",
       "      <th>groundtruth</th>\n",
       "      <th>diagnostico_cas</th>\n",
       "    </tr>\n",
       "    <tr>\n",
       "      <th>Nome</th>\n",
       "      <th></th>\n",
       "      <th></th>\n",
       "    </tr>\n",
       "  </thead>\n",
       "  <tbody>\n",
       "    <tr>\n",
       "      <th>BT2A410102348</th>\n",
       "      <td>0.0</td>\n",
       "      <td>2</td>\n",
       "    </tr>\n",
       "    <tr>\n",
       "      <th>BTI400355240</th>\n",
       "      <td>0.0</td>\n",
       "      <td>1</td>\n",
       "    </tr>\n",
       "    <tr>\n",
       "      <th>BTI411040881</th>\n",
       "      <td>0.0</td>\n",
       "      <td>4</td>\n",
       "    </tr>\n",
       "    <tr>\n",
       "      <th>BTI411655117</th>\n",
       "      <td>0.0</td>\n",
       "      <td>2</td>\n",
       "    </tr>\n",
       "    <tr>\n",
       "      <th>BTI412305424</th>\n",
       "      <td>0.0</td>\n",
       "      <td>3</td>\n",
       "    </tr>\n",
       "    <tr>\n",
       "      <th>BTI414295413</th>\n",
       "      <td>0.0</td>\n",
       "      <td>4</td>\n",
       "    </tr>\n",
       "    <tr>\n",
       "      <th>BTI420070269</th>\n",
       "      <td>0.0</td>\n",
       "      <td>2</td>\n",
       "    </tr>\n",
       "    <tr>\n",
       "      <th>BTI420410037</th>\n",
       "      <td>0.0</td>\n",
       "      <td>3</td>\n",
       "    </tr>\n",
       "    <tr>\n",
       "      <th>BTI420429197</th>\n",
       "      <td>0.0</td>\n",
       "      <td>3</td>\n",
       "    </tr>\n",
       "    <tr>\n",
       "      <th>BTI420859093</th>\n",
       "      <td>0.0</td>\n",
       "      <td>3</td>\n",
       "    </tr>\n",
       "  </tbody>\n",
       "</table>\n",
       "</div>"
      ],
      "text/plain": [
       "               groundtruth  diagnostico_cas\n",
       "Nome                                       \n",
       "BT2A410102348          0.0                2\n",
       "BTI400355240           0.0                1\n",
       "BTI411040881           0.0                4\n",
       "BTI411655117           0.0                2\n",
       "BTI412305424           0.0                3\n",
       "BTI414295413           0.0                4\n",
       "BTI420070269           0.0                2\n",
       "BTI420410037           0.0                3\n",
       "BTI420429197           0.0                3\n",
       "BTI420859093           0.0                3"
      ]
     },
     "execution_count": 383,
     "metadata": {},
     "output_type": "execute_result"
    }
   ],
   "source": [
    "fn = dferros[dferros['groundtruth']==0]\n",
    "fn"
   ]
  },
  {
   "cell_type": "markdown",
   "metadata": {},
   "source": [
    "#### Falsos positivos"
   ]
  },
  {
   "cell_type": "code",
   "execution_count": 384,
   "metadata": {},
   "outputs": [
    {
     "data": {
      "text/html": [
       "<div>\n",
       "<style scoped>\n",
       "    .dataframe tbody tr th:only-of-type {\n",
       "        vertical-align: middle;\n",
       "    }\n",
       "\n",
       "    .dataframe tbody tr th {\n",
       "        vertical-align: top;\n",
       "    }\n",
       "\n",
       "    .dataframe thead th {\n",
       "        text-align: right;\n",
       "    }\n",
       "</style>\n",
       "<table border=\"1\" class=\"dataframe\">\n",
       "  <thead>\n",
       "    <tr style=\"text-align: right;\">\n",
       "      <th></th>\n",
       "      <th>groundtruth</th>\n",
       "      <th>diagnostico_cas</th>\n",
       "    </tr>\n",
       "    <tr>\n",
       "      <th>Nome</th>\n",
       "      <th></th>\n",
       "      <th></th>\n",
       "    </tr>\n",
       "  </thead>\n",
       "  <tbody>\n",
       "    <tr>\n",
       "      <th>BT2A412948154</th>\n",
       "      <td>5.0</td>\n",
       "      <td>0</td>\n",
       "    </tr>\n",
       "    <tr>\n",
       "      <th>BTI400099015</th>\n",
       "      <td>3.0</td>\n",
       "      <td>0</td>\n",
       "    </tr>\n",
       "    <tr>\n",
       "      <th>BTI410166160</th>\n",
       "      <td>4.0</td>\n",
       "      <td>0</td>\n",
       "    </tr>\n",
       "    <tr>\n",
       "      <th>BTI410458978</th>\n",
       "      <td>4.0</td>\n",
       "      <td>0</td>\n",
       "    </tr>\n",
       "    <tr>\n",
       "      <th>BTI410722548</th>\n",
       "      <td>4.0</td>\n",
       "      <td>0</td>\n",
       "    </tr>\n",
       "    <tr>\n",
       "      <th>BTI411981177</th>\n",
       "      <td>4.0</td>\n",
       "      <td>0</td>\n",
       "    </tr>\n",
       "    <tr>\n",
       "      <th>BTI412506733</th>\n",
       "      <td>4.0</td>\n",
       "      <td>0</td>\n",
       "    </tr>\n",
       "    <tr>\n",
       "      <th>BTI414239708</th>\n",
       "      <td>4.0</td>\n",
       "      <td>0</td>\n",
       "    </tr>\n",
       "    <tr>\n",
       "      <th>BTI421158453</th>\n",
       "      <td>4.0</td>\n",
       "      <td>0</td>\n",
       "    </tr>\n",
       "  </tbody>\n",
       "</table>\n",
       "</div>"
      ],
      "text/plain": [
       "               groundtruth  diagnostico_cas\n",
       "Nome                                       \n",
       "BT2A412948154          5.0                0\n",
       "BTI400099015           3.0                0\n",
       "BTI410166160           4.0                0\n",
       "BTI410458978           4.0                0\n",
       "BTI410722548           4.0                0\n",
       "BTI411981177           4.0                0\n",
       "BTI412506733           4.0                0\n",
       "BTI414239708           4.0                0\n",
       "BTI421158453           4.0                0"
      ]
     },
     "execution_count": 384,
     "metadata": {},
     "output_type": "execute_result"
    }
   ],
   "source": [
    "fp = dferros[dferros['groundtruth']!=0]\n",
    "fp"
   ]
  },
  {
   "cell_type": "code",
   "execution_count": null,
   "metadata": {},
   "outputs": [],
   "source": []
  }
 ],
 "metadata": {
  "kernelspec": {
   "display_name": "Python [conda env:tensorflow_p36]",
   "language": "python",
   "name": "conda-env-tensorflow_p36-py"
  },
  "language_info": {
   "codemirror_mode": {
    "name": "ipython",
    "version": 3
   },
   "file_extension": ".py",
   "mimetype": "text/x-python",
   "name": "python",
   "nbconvert_exporter": "python",
   "pygments_lexer": "ipython3",
   "version": "3.6.5"
  }
 },
 "nbformat": 4,
 "nbformat_minor": 2
}
